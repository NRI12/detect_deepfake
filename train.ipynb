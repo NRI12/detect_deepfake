{
 "cells": [
  {
   "cell_type": "code",
   "execution_count": 1,
   "id": "c0684ae0-c061-497d-bd6a-799497da6d93",
   "metadata": {},
   "outputs": [
    {
     "name": "stdout",
     "output_type": "stream",
     "text": [
      "NGC-DL-CONTAINER-LICENSE    dev   lib32   mnt\trun   tmp\tworkspace\n",
      "bin\t\t\t    etc   lib64   opt\tsbin  usr\n",
      "boot\t\t\t    home  libx32  proc\tsrv   var\n",
      "cuda-keyring_1.1-1_all.deb  lib   media   root\tsys   vc.ipynb\n"
     ]
    }
   ],
   "source": [
    "!ls"
   ]
  },
  {
   "cell_type": "code",
   "execution_count": 4,
   "id": "50ee80b6-978f-4a88-b9bb-9422571b8430",
   "metadata": {
    "scrolled": true
   },
   "outputs": [
    {
     "name": "stdout",
     "output_type": "stream",
     "text": [
      "Collecting cmake\n",
      "  Using cached cmake-3.31.1-py3-none-manylinux_2_17_x86_64.manylinux2014_x86_64.whl (27.8 MB)\n",
      "Installing collected packages: cmake\n",
      "Successfully installed cmake-3.31.1\n",
      "\u001b[33mWARNING: Running pip as the 'root' user can result in broken permissions and conflicting behaviour with the system package manager. It is recommended to use a virtual environment instead: https://pip.pypa.io/warnings/venv\u001b[0m\u001b[33m\n",
      "\u001b[0m"
     ]
    }
   ],
   "source": [
    "!pip install cmake"
   ]
  },
  {
   "cell_type": "code",
   "execution_count": 8,
   "id": "0ff33725-1e89-4648-8365-3c2de182ab83",
   "metadata": {
    "scrolled": true
   },
   "outputs": [
    {
     "name": "stdout",
     "output_type": "stream",
     "text": [
      "Hit:1 https://developer.download.nvidia.com/compute/cuda/repos/ubuntu2204/x86_64  InRelease\n",
      "Hit:2 http://security.ubuntu.com/ubuntu jammy-security InRelease\n",
      "Hit:3 http://archive.ubuntu.com/ubuntu jammy InRelease\n",
      "Hit:4 http://archive.ubuntu.com/ubuntu jammy-updates InRelease\n",
      "Hit:5 http://archive.ubuntu.com/ubuntu jammy-backports InRelease\n",
      "Reading package lists... Done3m\u001b[33m\u001b[33m\n",
      "Building dependency tree... Done\n",
      "Reading state information... Done\n",
      "34 packages can be upgraded. Run 'apt list --upgradable' to see them.\n",
      "Reading package lists... Done\n",
      "Building dependency tree... Done\n",
      "Reading state information... Done\n",
      "build-essential is already the newest version (12.9ubuntu3).\n",
      "build-essential set to manually installed.\n",
      "The following additional packages will be installed:\n",
      "  cmake-data dh-elpa-helper emacsen-common libarchive13 libblas-dev libblas3\n",
      "  libgfortran5 libjsoncpp25 liblapack3 libopenblas-pthread-dev libopenblas0\n",
      "  libopenblas0-pthread libpthread-stubs0-dev librhash0 libuv1 libx11-6\n",
      "  libx11-data libxau-dev libxau6 libxcb1 libxcb1-dev libxdmcp-dev libxdmcp6\n",
      "  x11proto-dev xorg-sgml-doctools xtrans-dev\n",
      "Suggested packages:\n",
      "  cmake-doc ninja-build cmake-format lrzip liblapack-doc libx11-doc libxcb-doc\n",
      "The following NEW packages will be installed:\n",
      "  cmake cmake-data dh-elpa-helper emacsen-common libarchive13 libblas-dev\n",
      "  libblas3 libgfortran5 libjsoncpp25 liblapack-dev liblapack3 libopenblas-dev\n",
      "  libopenblas-pthread-dev libopenblas0 libopenblas0-pthread\n",
      "  libpthread-stubs0-dev librhash0 libuv1 libx11-6 libx11-data libx11-dev\n",
      "  libxau-dev libxau6 libxcb1 libxcb1-dev libxdmcp-dev libxdmcp6 x11proto-dev\n",
      "  xorg-sgml-doctools xtrans-dev\n",
      "0 upgraded, 30 newly installed, 0 to remove and 34 not upgraded.\n",
      "Need to get 30.0 MB of archives.\n",
      "After this operation, 186 MB of additional disk space will be used.\n",
      "Get:1 http://archive.ubuntu.com/ubuntu jammy-updates/main amd64 libuv1 amd64 1.43.0-1ubuntu0.1 [92.7 kB]\n",
      "Get:2 http://archive.ubuntu.com/ubuntu jammy/main amd64 libxau6 amd64 1:1.0.9-1build5 [7634 B]\n",
      "Get:3 http://archive.ubuntu.com/ubuntu jammy/main amd64 libxdmcp6 amd64 1:1.1.3-0ubuntu5 [10.9 kB]\n",
      "Get:4 http://archive.ubuntu.com/ubuntu jammy/main amd64 libxcb1 amd64 1.14-3ubuntu3 [49.0 kB]\n",
      "Get:5 http://archive.ubuntu.com/ubuntu jammy-updates/main amd64 libx11-data all 2:1.7.5-1ubuntu0.3 [120 kB]\n",
      "Get:6 http://archive.ubuntu.com/ubuntu jammy-updates/main amd64 libx11-6 amd64 2:1.7.5-1ubuntu0.3 [667 kB]\n",
      "Get:7 http://archive.ubuntu.com/ubuntu jammy-updates/main amd64 libarchive13 amd64 3.6.0-1ubuntu1.3 [369 kB]\n",
      "Get:8 http://archive.ubuntu.com/ubuntu jammy/main amd64 libjsoncpp25 amd64 1.9.5-3 [80.0 kB]\n",
      "Get:9 http://archive.ubuntu.com/ubuntu jammy/main amd64 librhash0 amd64 1.4.2-1ubuntu1 [125 kB]\n",
      "Get:10 http://archive.ubuntu.com/ubuntu jammy/main amd64 dh-elpa-helper all 2.0.9ubuntu1 [7610 B]\n",
      "Get:11 http://archive.ubuntu.com/ubuntu jammy/main amd64 emacsen-common all 3.0.4 [14.9 kB]\n",
      "Get:12 http://archive.ubuntu.com/ubuntu jammy-updates/main amd64 cmake-data all 3.22.1-1ubuntu1.22.04.2 [1913 kB]\n",
      "Get:13 http://archive.ubuntu.com/ubuntu jammy-updates/main amd64 cmake amd64 3.22.1-1ubuntu1.22.04.2 [5010 kB]\n",
      "Get:14 http://archive.ubuntu.com/ubuntu jammy/main amd64 libblas3 amd64 3.10.0-2ubuntu1 [228 kB]\n",
      "Get:15 http://archive.ubuntu.com/ubuntu jammy/main amd64 libblas-dev amd64 3.10.0-2ubuntu1 [164 kB]\n",
      "Get:16 http://archive.ubuntu.com/ubuntu jammy-updates/main amd64 libgfortran5 amd64 12.3.0-1ubuntu1~22.04 [879 kB]\n",
      "Get:17 http://archive.ubuntu.com/ubuntu jammy/universe amd64 libopenblas0-pthread amd64 0.3.20+ds-1 [6803 kB]\n",
      "Get:18 http://archive.ubuntu.com/ubuntu jammy/main amd64 liblapack3 amd64 3.10.0-2ubuntu1 [2504 kB]\n",
      "Get:19 http://archive.ubuntu.com/ubuntu jammy/universe amd64 libopenblas-pthread-dev amd64 0.3.20+ds-1 [4634 kB]\n",
      "Get:20 http://archive.ubuntu.com/ubuntu jammy/main amd64 liblapack-dev amd64 3.10.0-2ubuntu1 [4774 kB]\n",
      "Get:21 http://archive.ubuntu.com/ubuntu jammy/universe amd64 libopenblas0 amd64 0.3.20+ds-1 [6098 B]\n",
      "Get:22 http://archive.ubuntu.com/ubuntu jammy/universe amd64 libopenblas-dev amd64 0.3.20+ds-1 [18.6 kB]\n",
      "Get:23 http://archive.ubuntu.com/ubuntu jammy/main amd64 libpthread-stubs0-dev amd64 0.4-1build2 [5516 B]\n",
      "Get:24 http://archive.ubuntu.com/ubuntu jammy/main amd64 xorg-sgml-doctools all 1:1.11-1.1 [10.9 kB]\n",
      "Get:25 http://archive.ubuntu.com/ubuntu jammy/main amd64 x11proto-dev all 2021.5-1 [604 kB]\n",
      "Get:26 http://archive.ubuntu.com/ubuntu jammy/main amd64 libxau-dev amd64 1:1.0.9-1build5 [9724 B]\n",
      "Get:27 http://archive.ubuntu.com/ubuntu jammy/main amd64 libxdmcp-dev amd64 1:1.1.3-0ubuntu5 [26.5 kB]\n",
      "Get:28 http://archive.ubuntu.com/ubuntu jammy/main amd64 xtrans-dev all 1.4.0-1 [68.9 kB]\n",
      "Get:29 http://archive.ubuntu.com/ubuntu jammy/main amd64 libxcb1-dev amd64 1.14-3ubuntu3 [86.5 kB]\n",
      "Get:30 http://archive.ubuntu.com/ubuntu jammy-updates/main amd64 libx11-dev amd64 2:1.7.5-1ubuntu0.3 [744 kB]\n",
      "Fetched 30.0 MB in 2s (13.7 MB/s)    \u001b[0m\u001b[33m\n",
      "debconf: delaying package configuration, since apt-utils is not installed\n",
      "\n",
      "\u001b7\u001b[0;23r\u001b8\u001b[1ASelecting previously unselected package libuv1:amd64.\n",
      "(Reading database ... 22116 files and directories currently installed.)\n",
      "Preparing to unpack .../00-libuv1_1.43.0-1ubuntu0.1_amd64.deb ...\n",
      "\u001b7\u001b[24;0f\u001b[42m\u001b[30mProgress: [  0%]\u001b[49m\u001b[39m [..........................................................] \u001b8Unpacking libuv1:amd64 (1.43.0-1ubuntu0.1) ...\n",
      "\u001b7\u001b[24;0f\u001b[42m\u001b[30mProgress: [  2%]\u001b[49m\u001b[39m [..........................................................] \u001b8Selecting previously unselected package libxau6:amd64.\n",
      "Preparing to unpack .../01-libxau6_1%3a1.0.9-1build5_amd64.deb ...\n",
      "\u001b7\u001b[24;0f\u001b[42m\u001b[30mProgress: [  2%]\u001b[49m\u001b[39m [#.........................................................] \u001b8Unpacking libxau6:amd64 (1:1.0.9-1build5) ...\n",
      "\u001b7\u001b[24;0f\u001b[42m\u001b[30mProgress: [  3%]\u001b[49m\u001b[39m [#.........................................................] \u001b8Selecting previously unselected package libxdmcp6:amd64.\n",
      "Preparing to unpack .../02-libxdmcp6_1%3a1.1.3-0ubuntu5_amd64.deb ...\n",
      "\u001b7\u001b[24;0f\u001b[42m\u001b[30mProgress: [  4%]\u001b[49m\u001b[39m [##........................................................] \u001b8Unpacking libxdmcp6:amd64 (1:1.1.3-0ubuntu5) ...\n",
      "Selecting previously unselected package libxcb1:amd64.\n",
      "Preparing to unpack .../03-libxcb1_1.14-3ubuntu3_amd64.deb ...\n",
      "\u001b7\u001b[24;0f\u001b[42m\u001b[30mProgress: [  6%]\u001b[49m\u001b[39m [###.......................................................] \u001b8Unpacking libxcb1:amd64 (1.14-3ubuntu3) ...\n",
      "\u001b7\u001b[24;0f\u001b[42m\u001b[30mProgress: [  7%]\u001b[49m\u001b[39m [###.......................................................] \u001b8Selecting previously unselected package libx11-data.\n",
      "Preparing to unpack .../04-libx11-data_2%3a1.7.5-1ubuntu0.3_all.deb ...\n",
      "\u001b7\u001b[24;0f\u001b[42m\u001b[30mProgress: [  7%]\u001b[49m\u001b[39m [####......................................................] \u001b8Unpacking libx11-data (2:1.7.5-1ubuntu0.3) ...\n",
      "\u001b7\u001b[24;0f\u001b[42m\u001b[30mProgress: [  8%]\u001b[49m\u001b[39m [####......................................................] \u001b8Selecting previously unselected package libx11-6:amd64.\n",
      "Preparing to unpack .../05-libx11-6_2%3a1.7.5-1ubuntu0.3_amd64.deb ...\n",
      "\u001b7\u001b[24;0f\u001b[42m\u001b[30mProgress: [  9%]\u001b[49m\u001b[39m [#####.....................................................] \u001b8Unpacking libx11-6:amd64 (2:1.7.5-1ubuntu0.3) ...\n",
      "Selecting previously unselected package libarchive13:amd64.\n",
      "Preparing to unpack .../06-libarchive13_3.6.0-1ubuntu1.3_amd64.deb ...\n",
      "\u001b7\u001b[24;0f\u001b[42m\u001b[30mProgress: [ 11%]\u001b[49m\u001b[39m [######....................................................] \u001b8Unpacking libarchive13:amd64 (3.6.0-1ubuntu1.3) ...\n",
      "\u001b7\u001b[24;0f\u001b[42m\u001b[30mProgress: [ 12%]\u001b[49m\u001b[39m [######....................................................] \u001b8Selecting previously unselected package libjsoncpp25:amd64.\n",
      "Preparing to unpack .../07-libjsoncpp25_1.9.5-3_amd64.deb ...\n",
      "\u001b7\u001b[24;0f\u001b[42m\u001b[30mProgress: [ 12%]\u001b[49m\u001b[39m [#######...................................................] \u001b8Unpacking libjsoncpp25:amd64 (1.9.5-3) ...\n",
      "\u001b7\u001b[24;0f\u001b[42m\u001b[30mProgress: [ 13%]\u001b[49m\u001b[39m [#######...................................................] \u001b8Selecting previously unselected package librhash0:amd64.\n",
      "Preparing to unpack .../08-librhash0_1.4.2-1ubuntu1_amd64.deb ...\n",
      "\u001b7\u001b[24;0f\u001b[42m\u001b[30mProgress: [ 14%]\u001b[49m\u001b[39m [########..................................................] \u001b8Unpacking librhash0:amd64 (1.4.2-1ubuntu1) ...\n",
      "Selecting previously unselected package dh-elpa-helper.\n",
      "Preparing to unpack .../09-dh-elpa-helper_2.0.9ubuntu1_all.deb ...\n",
      "\u001b7\u001b[24;0f\u001b[42m\u001b[30mProgress: [ 16%]\u001b[49m\u001b[39m [#########.................................................] \u001b8Unpacking dh-elpa-helper (2.0.9ubuntu1) ...\n",
      "\u001b7\u001b[24;0f\u001b[42m\u001b[30mProgress: [ 17%]\u001b[49m\u001b[39m [#########.................................................] \u001b8Selecting previously unselected package emacsen-common.\n",
      "Preparing to unpack .../10-emacsen-common_3.0.4_all.deb ...\n",
      "\u001b7\u001b[24;0f\u001b[42m\u001b[30mProgress: [ 17%]\u001b[49m\u001b[39m [##########................................................] \u001b8Unpacking emacsen-common (3.0.4) ...\n",
      "\u001b7\u001b[24;0f\u001b[42m\u001b[30mProgress: [ 18%]\u001b[49m\u001b[39m [##########................................................] \u001b8Selecting previously unselected package cmake-data.\n",
      "Preparing to unpack .../11-cmake-data_3.22.1-1ubuntu1.22.04.2_all.deb ...\n",
      "\u001b7\u001b[24;0f\u001b[42m\u001b[30mProgress: [ 19%]\u001b[49m\u001b[39m [###########...............................................] \u001b8Unpacking cmake-data (3.22.1-1ubuntu1.22.04.2) ...\n",
      "Selecting previously unselected package cmake.\n",
      "Preparing to unpack .../12-cmake_3.22.1-1ubuntu1.22.04.2_amd64.deb ...\n",
      "\u001b7\u001b[24;0f\u001b[42m\u001b[30mProgress: [ 21%]\u001b[49m\u001b[39m [###########...............................................] \u001b8Unpacking cmake (3.22.1-1ubuntu1.22.04.2) ...\n",
      "\u001b7\u001b[24;0f\u001b[42m\u001b[30mProgress: [ 21%]\u001b[49m\u001b[39m [############..............................................] \u001b8Selecting previously unselected package libblas3:amd64.\n",
      "Preparing to unpack .../13-libblas3_3.10.0-2ubuntu1_amd64.deb ...\n",
      "\u001b7\u001b[24;0f\u001b[42m\u001b[30mProgress: [ 22%]\u001b[49m\u001b[39m [############..............................................] \u001b8Unpacking libblas3:amd64 (3.10.0-2ubuntu1) ...\n",
      "\u001b7\u001b[24;0f\u001b[42m\u001b[30mProgress: [ 23%]\u001b[49m\u001b[39m [#############.............................................] \u001b8Selecting previously unselected package libblas-dev:amd64.\n",
      "Preparing to unpack .../14-libblas-dev_3.10.0-2ubuntu1_amd64.deb ...\n",
      "Unpacking libblas-dev:amd64 (3.10.0-2ubuntu1) ...\n",
      "\u001b7\u001b[24;0f\u001b[42m\u001b[30mProgress: [ 25%]\u001b[49m\u001b[39m [##############............................................] \u001b8Selecting previously unselected package libgfortran5:amd64.\n",
      "Preparing to unpack .../15-libgfortran5_12.3.0-1ubuntu1~22.04_amd64.deb ...\n",
      "\u001b7\u001b[24;0f\u001b[42m\u001b[30mProgress: [ 26%]\u001b[49m\u001b[39m [##############............................................] \u001b8Unpacking libgfortran5:amd64 (12.3.0-1ubuntu1~22.04) ...\n",
      "\u001b7\u001b[24;0f\u001b[42m\u001b[30mProgress: [ 26%]\u001b[49m\u001b[39m [###############...........................................] \u001b8Selecting previously unselected package libopenblas0-pthread:amd64.\n",
      "Preparing to unpack .../16-libopenblas0-pthread_0.3.20+ds-1_amd64.deb ...\n",
      "\u001b7\u001b[24;0f\u001b[42m\u001b[30mProgress: [ 27%]\u001b[49m\u001b[39m [###############...........................................] \u001b8Unpacking libopenblas0-pthread:amd64 (0.3.20+ds-1) ...\n",
      "\u001b7\u001b[24;0f\u001b[42m\u001b[30mProgress: [ 28%]\u001b[49m\u001b[39m [################..........................................] \u001b8Selecting previously unselected package liblapack3:amd64.\n",
      "Preparing to unpack .../17-liblapack3_3.10.0-2ubuntu1_amd64.deb ...\n",
      "Unpacking liblapack3:amd64 (3.10.0-2ubuntu1) ...\n",
      "\u001b7\u001b[24;0f\u001b[42m\u001b[30mProgress: [ 30%]\u001b[49m\u001b[39m [#################.........................................] \u001b8Selecting previously unselected package libopenblas-pthread-dev:amd64.\n",
      "Preparing to unpack .../18-libopenblas-pthread-dev_0.3.20+ds-1_amd64.deb ...\n",
      "\u001b7\u001b[24;0f\u001b[42m\u001b[30mProgress: [ 31%]\u001b[49m\u001b[39m [#################.........................................] \u001b8Unpacking libopenblas-pthread-dev:amd64 (0.3.20+ds-1) ...\n",
      "\u001b7\u001b[24;0f\u001b[42m\u001b[30mProgress: [ 31%]\u001b[49m\u001b[39m [##################........................................] \u001b8Selecting previously unselected package liblapack-dev:amd64.\n",
      "Preparing to unpack .../19-liblapack-dev_3.10.0-2ubuntu1_amd64.deb ...\n",
      "\u001b7\u001b[24;0f\u001b[42m\u001b[30mProgress: [ 32%]\u001b[49m\u001b[39m [##################........................................] \u001b8Unpacking liblapack-dev:amd64 (3.10.0-2ubuntu1) ...\n",
      "\u001b7\u001b[24;0f\u001b[42m\u001b[30mProgress: [ 33%]\u001b[49m\u001b[39m [###################.......................................] \u001b8Selecting previously unselected package libopenblas0:amd64.\n",
      "Preparing to unpack .../20-libopenblas0_0.3.20+ds-1_amd64.deb ...\n",
      "Unpacking libopenblas0:amd64 (0.3.20+ds-1) ...\n",
      "\u001b7\u001b[24;0f\u001b[42m\u001b[30mProgress: [ 35%]\u001b[49m\u001b[39m [####################......................................] \u001b8Selecting previously unselected package libopenblas-dev:amd64.\n",
      "Preparing to unpack .../21-libopenblas-dev_0.3.20+ds-1_amd64.deb ...\n",
      "\u001b7\u001b[24;0f\u001b[42m\u001b[30mProgress: [ 36%]\u001b[49m\u001b[39m [####################......................................] \u001b8Unpacking libopenblas-dev:amd64 (0.3.20+ds-1) ...\n",
      "\u001b7\u001b[24;0f\u001b[42m\u001b[30mProgress: [ 36%]\u001b[49m\u001b[39m [#####################.....................................] \u001b8Selecting previously unselected package libpthread-stubs0-dev:amd64.\n",
      "Preparing to unpack .../22-libpthread-stubs0-dev_0.4-1build2_amd64.deb ...\n",
      "\u001b7\u001b[24;0f\u001b[42m\u001b[30mProgress: [ 37%]\u001b[49m\u001b[39m [#####################.....................................] \u001b8Unpacking libpthread-stubs0-dev:amd64 (0.4-1build2) ...\n",
      "\u001b7\u001b[24;0f\u001b[42m\u001b[30mProgress: [ 38%]\u001b[49m\u001b[39m [######################....................................] \u001b8Selecting previously unselected package xorg-sgml-doctools.\n",
      "Preparing to unpack .../23-xorg-sgml-doctools_1%3a1.11-1.1_all.deb ...\n",
      "Unpacking xorg-sgml-doctools (1:1.11-1.1) ...\n",
      "\u001b7\u001b[24;0f\u001b[42m\u001b[30mProgress: [ 40%]\u001b[49m\u001b[39m [#######################...................................] \u001b8Selecting previously unselected package x11proto-dev.\n",
      "Preparing to unpack .../24-x11proto-dev_2021.5-1_all.deb ...\n",
      "\u001b7\u001b[24;0f\u001b[42m\u001b[30mProgress: [ 40%]\u001b[49m\u001b[39m [#######################...................................] \u001b8Unpacking x11proto-dev (2021.5-1) ...\n",
      "\u001b7\u001b[24;0f\u001b[42m\u001b[30mProgress: [ 41%]\u001b[49m\u001b[39m [#######################...................................] \u001b8Selecting previously unselected package libxau-dev:amd64.\n",
      "Preparing to unpack .../25-libxau-dev_1%3a1.0.9-1build5_amd64.deb ...\n",
      "\u001b7\u001b[24;0f\u001b[42m\u001b[30mProgress: [ 42%]\u001b[49m\u001b[39m [########################..................................] \u001b8Unpacking libxau-dev:amd64 (1:1.0.9-1build5) ...\n",
      "Selecting previously unselected package libxdmcp-dev:amd64.\n",
      "Preparing to unpack .../26-libxdmcp-dev_1%3a1.1.3-0ubuntu5_amd64.deb ...\n",
      "\u001b7\u001b[24;0f\u001b[42m\u001b[30mProgress: [ 44%]\u001b[49m\u001b[39m [#########################.................................] \u001b8Unpacking libxdmcp-dev:amd64 (1:1.1.3-0ubuntu5) ...\n",
      "\u001b7\u001b[24;0f\u001b[42m\u001b[30mProgress: [ 45%]\u001b[49m\u001b[39m [#########################.................................] \u001b8Selecting previously unselected package xtrans-dev.\n",
      "Preparing to unpack .../27-xtrans-dev_1.4.0-1_all.deb ...\n",
      "\u001b7\u001b[24;0f\u001b[42m\u001b[30mProgress: [ 45%]\u001b[49m\u001b[39m [##########################................................] \u001b8Unpacking xtrans-dev (1.4.0-1) ...\n",
      "\u001b7\u001b[24;0f\u001b[42m\u001b[30mProgress: [ 46%]\u001b[49m\u001b[39m [##########################................................] \u001b8Selecting previously unselected package libxcb1-dev:amd64.\n",
      "Preparing to unpack .../28-libxcb1-dev_1.14-3ubuntu3_amd64.deb ...\n",
      "\u001b7\u001b[24;0f\u001b[42m\u001b[30mProgress: [ 47%]\u001b[49m\u001b[39m [###########################...............................] \u001b8Unpacking libxcb1-dev:amd64 (1.14-3ubuntu3) ...\n",
      "Selecting previously unselected package libx11-dev:amd64.\n",
      "Preparing to unpack .../29-libx11-dev_2%3a1.7.5-1ubuntu0.3_amd64.deb ...\n",
      "\u001b7\u001b[24;0f\u001b[42m\u001b[30mProgress: [ 49%]\u001b[49m\u001b[39m [############################..............................] \u001b8Unpacking libx11-dev:amd64 (2:1.7.5-1ubuntu0.3) ...\n",
      "\u001b7\u001b[24;0f\u001b[42m\u001b[30mProgress: [ 50%]\u001b[49m\u001b[39m [############################..............................] \u001b8Setting up libxau6:amd64 (1:1.0.9-1build5) ...\n",
      "\u001b7\u001b[24;0f\u001b[42m\u001b[30mProgress: [ 50%]\u001b[49m\u001b[39m [#############################.............................] \u001b8\u001b7\u001b[24;0f\u001b[42m\u001b[30mProgress: [ 51%]\u001b[49m\u001b[39m [#############################.............................] \u001b8Setting up libxdmcp6:amd64 (1:1.1.3-0ubuntu5) ...\n",
      "\u001b7\u001b[24;0f\u001b[42m\u001b[30mProgress: [ 52%]\u001b[49m\u001b[39m [##############################............................] \u001b8Setting up libxcb1:amd64 (1.14-3ubuntu3) ...\n",
      "\u001b7\u001b[24;0f\u001b[42m\u001b[30mProgress: [ 54%]\u001b[49m\u001b[39m [###############################...........................] \u001b8\u001b7\u001b[24;0f\u001b[42m\u001b[30mProgress: [ 55%]\u001b[49m\u001b[39m [###############################...........................] \u001b8Setting up libarchive13:amd64 (3.6.0-1ubuntu1.3) ...\n",
      "\u001b7\u001b[24;0f\u001b[42m\u001b[30mProgress: [ 55%]\u001b[49m\u001b[39m [################################..........................] \u001b8\u001b7\u001b[24;0f\u001b[42m\u001b[30mProgress: [ 56%]\u001b[49m\u001b[39m [################################..........................] \u001b8Setting up libpthread-stubs0-dev:amd64 (0.4-1build2) ...\n",
      "\u001b7\u001b[24;0f\u001b[42m\u001b[30mProgress: [ 57%]\u001b[49m\u001b[39m [#################################.........................] \u001b8Setting up xtrans-dev (1.4.0-1) ...\n",
      "\u001b7\u001b[24;0f\u001b[42m\u001b[30mProgress: [ 59%]\u001b[49m\u001b[39m [##################################........................] \u001b8\u001b7\u001b[24;0f\u001b[42m\u001b[30mProgress: [ 60%]\u001b[49m\u001b[39m [##################################........................] \u001b8Setting up libblas3:amd64 (3.10.0-2ubuntu1) ...\n",
      "\u001b7\u001b[24;0f\u001b[42m\u001b[30mProgress: [ 60%]\u001b[49m\u001b[39m [##################################........................] \u001b8update-alternatives: using /usr/lib/x86_64-linux-gnu/blas/libblas.so.3 to provide /usr/lib/x86_64-linux-gnu/libblas.so.3 (libblas.so.3-x86_64-linux-gnu) in auto mode\n",
      "\u001b7\u001b[24;0f\u001b[42m\u001b[30mProgress: [ 61%]\u001b[49m\u001b[39m [###################################.......................] \u001b8Setting up libuv1:amd64 (1.43.0-1ubuntu0.1) ...\n",
      "\u001b7\u001b[24;0f\u001b[42m\u001b[30mProgress: [ 63%]\u001b[49m\u001b[39m [####################################......................] \u001b8Setting up emacsen-common (3.0.4) ...\n",
      "\u001b7\u001b[24;0f\u001b[42m\u001b[30mProgress: [ 64%]\u001b[49m\u001b[39m [####################################......................] \u001b8\u001b7\u001b[24;0f\u001b[42m\u001b[30mProgress: [ 64%]\u001b[49m\u001b[39m [#####################################.....................] \u001b8Setting up libx11-data (2:1.7.5-1ubuntu0.3) ...\n",
      "\u001b7\u001b[24;0f\u001b[42m\u001b[30mProgress: [ 65%]\u001b[49m\u001b[39m [#####################################.....................] \u001b8\u001b7\u001b[24;0f\u001b[42m\u001b[30mProgress: [ 66%]\u001b[49m\u001b[39m [######################################....................] \u001b8Setting up dh-elpa-helper (2.0.9ubuntu1) ...\n",
      "\u001b7\u001b[24;0f\u001b[42m\u001b[30mProgress: [ 68%]\u001b[49m\u001b[39m [#######################################...................] \u001b8Setting up libjsoncpp25:amd64 (1.9.5-3) ...\n",
      "\u001b7\u001b[24;0f\u001b[42m\u001b[30mProgress: [ 69%]\u001b[49m\u001b[39m [#######################################...................] \u001b8\u001b7\u001b[24;0f\u001b[42m\u001b[30mProgress: [ 69%]\u001b[49m\u001b[39m [########################################..................] \u001b8Setting up libgfortran5:amd64 (12.3.0-1ubuntu1~22.04) ...\n",
      "\u001b7\u001b[24;0f\u001b[42m\u001b[30mProgress: [ 70%]\u001b[49m\u001b[39m [########################################..................] \u001b8\u001b7\u001b[24;0f\u001b[42m\u001b[30mProgress: [ 71%]\u001b[49m\u001b[39m [#########################################.................] \u001b8Setting up librhash0:amd64 (1.4.2-1ubuntu1) ...\n",
      "\u001b7\u001b[24;0f\u001b[42m\u001b[30mProgress: [ 73%]\u001b[49m\u001b[39m [##########################################................] \u001b8Setting up libx11-6:amd64 (2:1.7.5-1ubuntu0.3) ...\n",
      "\u001b7\u001b[24;0f\u001b[42m\u001b[30mProgress: [ 74%]\u001b[49m\u001b[39m [##########################################................] \u001b8\u001b7\u001b[24;0f\u001b[42m\u001b[30mProgress: [ 74%]\u001b[49m\u001b[39m [###########################################...............] \u001b8Setting up xorg-sgml-doctools (1:1.11-1.1) ...\n",
      "\u001b7\u001b[24;0f\u001b[42m\u001b[30mProgress: [ 75%]\u001b[49m\u001b[39m [###########################################...............] \u001b8\u001b7\u001b[24;0f\u001b[42m\u001b[30mProgress: [ 76%]\u001b[49m\u001b[39m [############################################..............] \u001b8Setting up cmake-data (3.22.1-1ubuntu1.22.04.2) ...\n",
      "\u001b7\u001b[24;0f\u001b[42m\u001b[30mProgress: [ 78%]\u001b[49m\u001b[39m [#############################################.............] \u001b8Setting up libblas-dev:amd64 (3.10.0-2ubuntu1) ...\n",
      "\u001b7\u001b[24;0f\u001b[42m\u001b[30mProgress: [ 79%]\u001b[49m\u001b[39m [#############################################.............] \u001b8update-alternatives: using /usr/lib/x86_64-linux-gnu/blas/libblas.so to provide /usr/lib/x86_64-linux-gnu/libblas.so (libblas.so-x86_64-linux-gnu) in auto mode\n",
      "\u001b7\u001b[24;0f\u001b[42m\u001b[30mProgress: [ 79%]\u001b[49m\u001b[39m [##############################################............] \u001b8Setting up x11proto-dev (2021.5-1) ...\n",
      "\u001b7\u001b[24;0f\u001b[42m\u001b[30mProgress: [ 80%]\u001b[49m\u001b[39m [##############################################............] \u001b8Setting up liblapack3:amd64 (3.10.0-2ubuntu1) ...\n",
      "\u001b7\u001b[24;0f\u001b[42m\u001b[30mProgress: [ 82%]\u001b[49m\u001b[39m [###############################################...........] \u001b8update-alternatives: using /usr/lib/x86_64-linux-gnu/lapack/liblapack.so.3 to provide /usr/lib/x86_64-linux-gnu/liblapack.so.3 (liblapack.so.3-x86_64-linux-gnu) in auto mode\n",
      "\u001b7\u001b[24;0f\u001b[42m\u001b[30mProgress: [ 83%]\u001b[49m\u001b[39m [###############################################...........] \u001b8Setting up libopenblas0-pthread:amd64 (0.3.20+ds-1) ...\n",
      "\u001b7\u001b[24;0f\u001b[42m\u001b[30mProgress: [ 83%]\u001b[49m\u001b[39m [################################################..........] \u001b8update-alternatives: using /usr/lib/x86_64-linux-gnu/openblas-pthread/libblas.so.3 to provide /usr/lib/x86_64-linux-gnu/libblas.so.3 (libblas.so.3-x86_64-linux-gnu) in auto mode\n",
      "update-alternatives: using /usr/lib/x86_64-linux-gnu/openblas-pthread/liblapack.so.3 to provide /usr/lib/x86_64-linux-gnu/liblapack.so.3 (liblapack.so.3-x86_64-linux-gnu) in auto mode\n",
      "update-alternatives: using /usr/lib/x86_64-linux-gnu/openblas-pthread/libopenblas.so.0 to provide /usr/lib/x86_64-linux-gnu/libopenblas.so.0 (libopenblas.so.0-x86_64-linux-gnu) in auto mode\n",
      "\u001b7\u001b[24;0f\u001b[42m\u001b[30mProgress: [ 84%]\u001b[49m\u001b[39m [################################################..........] \u001b8Setting up libxau-dev:amd64 (1:1.0.9-1build5) ...\n",
      "\u001b7\u001b[24;0f\u001b[42m\u001b[30mProgress: [ 85%]\u001b[49m\u001b[39m [#################################################.........] \u001b8Setting up libxdmcp-dev:amd64 (1:1.1.3-0ubuntu5) ...\n",
      "\u001b7\u001b[24;0f\u001b[42m\u001b[30mProgress: [ 87%]\u001b[49m\u001b[39m [##################################################........] \u001b8\u001b7\u001b[24;0f\u001b[42m\u001b[30mProgress: [ 88%]\u001b[49m\u001b[39m [##################################################........] \u001b8Setting up liblapack-dev:amd64 (3.10.0-2ubuntu1) ...\n",
      "\u001b7\u001b[24;0f\u001b[42m\u001b[30mProgress: [ 88%]\u001b[49m\u001b[39m [###################################################.......] \u001b8update-alternatives: using /usr/lib/x86_64-linux-gnu/lapack/liblapack.so to provide /usr/lib/x86_64-linux-gnu/liblapack.so (liblapack.so-x86_64-linux-gnu) in auto mode\n",
      "\u001b7\u001b[24;0f\u001b[42m\u001b[30mProgress: [ 89%]\u001b[49m\u001b[39m [###################################################.......] \u001b8Setting up libopenblas0:amd64 (0.3.20+ds-1) ...\n",
      "\u001b7\u001b[24;0f\u001b[42m\u001b[30mProgress: [ 90%]\u001b[49m\u001b[39m [####################################################......] \u001b8Setting up cmake (3.22.1-1ubuntu1.22.04.2) ...\n",
      "\u001b7\u001b[24;0f\u001b[42m\u001b[30mProgress: [ 92%]\u001b[49m\u001b[39m [#####################################################.....] \u001b8\u001b7\u001b[24;0f\u001b[42m\u001b[30mProgress: [ 93%]\u001b[49m\u001b[39m [#####################################################.....] \u001b8Setting up libopenblas-pthread-dev:amd64 (0.3.20+ds-1) ...\n",
      "\u001b7\u001b[24;0f\u001b[42m\u001b[30mProgress: [ 93%]\u001b[49m\u001b[39m [######################################################....] \u001b8update-alternatives: using /usr/lib/x86_64-linux-gnu/openblas-pthread/libblas.so to provide /usr/lib/x86_64-linux-gnu/libblas.so (libblas.so-x86_64-linux-gnu) in auto mode\n",
      "update-alternatives: using /usr/lib/x86_64-linux-gnu/openblas-pthread/liblapack.so to provide /usr/lib/x86_64-linux-gnu/liblapack.so (liblapack.so-x86_64-linux-gnu) in auto mode\n",
      "update-alternatives: using /usr/lib/x86_64-linux-gnu/openblas-pthread/libopenblas.so to provide /usr/lib/x86_64-linux-gnu/libopenblas.so (libopenblas.so-x86_64-linux-gnu) in auto mode\n",
      "\u001b7\u001b[24;0f\u001b[42m\u001b[30mProgress: [ 94%]\u001b[49m\u001b[39m [######################################################....] \u001b8Setting up libxcb1-dev:amd64 (1.14-3ubuntu3) ...\n",
      "\u001b7\u001b[24;0f\u001b[42m\u001b[30mProgress: [ 95%]\u001b[49m\u001b[39m [#######################################################...] \u001b8Setting up libx11-dev:amd64 (2:1.7.5-1ubuntu0.3) ...\n",
      "\u001b7\u001b[24;0f\u001b[42m\u001b[30mProgress: [ 97%]\u001b[49m\u001b[39m [########################################################..] \u001b8\u001b7\u001b[24;0f\u001b[42m\u001b[30mProgress: [ 98%]\u001b[49m\u001b[39m [########################################################..] \u001b8Setting up libopenblas-dev:amd64 (0.3.20+ds-1) ...\n",
      "\u001b7\u001b[24;0f\u001b[42m\u001b[30mProgress: [ 98%]\u001b[49m\u001b[39m [#########################################################.] \u001b8\u001b7\u001b[24;0f\u001b[42m\u001b[30mProgress: [ 99%]\u001b[49m\u001b[39m [#########################################################.] \u001b8Processing triggers for libc-bin (2.35-0ubuntu3.8) ...\n",
      "\n",
      "Reading package lists... Done\n",
      "Building dependency tree... Done\n",
      "Reading state information... Done\n",
      "The following additional packages will be installed:\n",
      "  javascript-common libexpat1 libexpat1-dev libjs-jquery libjs-sphinxdoc\n",
      "  libjs-underscore libpython3-dev libpython3.10 libpython3.10-dev\n",
      "  libpython3.10-minimal libpython3.10-stdlib python3-pip-whl\n",
      "  python3-setuptools-whl python3.10 python3.10-dev python3.10-minimal\n",
      "  python3.10-venv zlib1g-dev\n",
      "Suggested packages:\n",
      "  apache2 | lighttpd | httpd python3.10-doc binfmt-support\n",
      "The following NEW packages will be installed:\n",
      "  javascript-common libexpat1-dev libjs-jquery libjs-sphinxdoc\n",
      "  libjs-underscore libpython3-dev libpython3.10 libpython3.10-dev python3-dev\n",
      "  python3-pip-whl python3-setuptools-whl python3-venv python3.10-dev\n",
      "  python3.10-venv zlib1g-dev\n",
      "The following packages will be upgraded:\n",
      "  libexpat1 libpython3.10-minimal libpython3.10-stdlib python3-pip python3.10\n",
      "  python3.10-minimal\n",
      "6 upgraded, 15 newly installed, 0 to remove and 28 not upgraded.\n",
      "Need to get 17.5 MB of archives.\n",
      "After this operation, 33.3 MB of additional disk space will be used.\n",
      "Get:1 http://archive.ubuntu.com/ubuntu jammy-updates/main amd64 python3.10 amd64 3.10.12-1~22.04.7 [509 kB]\n",
      "Get:2 http://archive.ubuntu.com/ubuntu jammy-updates/main amd64 libpython3.10-stdlib amd64 3.10.12-1~22.04.7 [1850 kB]\n",
      "Get:3 http://archive.ubuntu.com/ubuntu jammy-updates/main amd64 python3.10-minimal amd64 3.10.12-1~22.04.7 [2279 kB]\n",
      "Get:4 http://archive.ubuntu.com/ubuntu jammy-updates/main amd64 libpython3.10-minimal amd64 3.10.12-1~22.04.7 [814 kB]\n",
      "Get:5 http://archive.ubuntu.com/ubuntu jammy-updates/main amd64 libexpat1 amd64 2.4.7-1ubuntu0.5 [91.5 kB]\n",
      "Get:6 http://archive.ubuntu.com/ubuntu jammy/main amd64 javascript-common all 11+nmu1 [5936 B]\n",
      "Get:7 http://archive.ubuntu.com/ubuntu jammy-updates/main amd64 libexpat1-dev amd64 2.4.7-1ubuntu0.5 [147 kB]\n",
      "Get:8 http://archive.ubuntu.com/ubuntu jammy/main amd64 libjs-jquery all 3.6.0+dfsg+~3.5.13-1 [321 kB]\n",
      "Get:9 http://archive.ubuntu.com/ubuntu jammy/main amd64 libjs-underscore all 1.13.2~dfsg-2 [118 kB]\n",
      "Get:10 http://archive.ubuntu.com/ubuntu jammy/main amd64 libjs-sphinxdoc all 4.3.2-1 [139 kB]\n",
      "Get:11 http://archive.ubuntu.com/ubuntu jammy-updates/main amd64 libpython3.10 amd64 3.10.12-1~22.04.7 [1949 kB]\n",
      "Get:12 http://archive.ubuntu.com/ubuntu jammy-updates/main amd64 zlib1g-dev amd64 1:1.2.11.dfsg-2ubuntu9.2 [164 kB]\n",
      "Get:13 http://archive.ubuntu.com/ubuntu jammy-updates/main amd64 libpython3.10-dev amd64 3.10.12-1~22.04.7 [4762 kB]\n",
      "Get:14 http://archive.ubuntu.com/ubuntu jammy-updates/main amd64 libpython3-dev amd64 3.10.6-1~22.04.1 [7064 B]\n",
      "Get:15 http://archive.ubuntu.com/ubuntu jammy-updates/main amd64 python3.10-dev amd64 3.10.12-1~22.04.7 [508 kB]\n",
      "Get:16 http://archive.ubuntu.com/ubuntu jammy-updates/main amd64 python3-dev amd64 3.10.6-1~22.04.1 [26.0 kB]\n",
      "Get:17 http://archive.ubuntu.com/ubuntu jammy-updates/universe amd64 python3-pip all 22.0.2+dfsg-1ubuntu0.5 [1306 kB]\n",
      "Get:18 http://archive.ubuntu.com/ubuntu jammy-updates/universe amd64 python3-pip-whl all 22.0.2+dfsg-1ubuntu0.5 [1680 kB]\n",
      "Get:19 http://archive.ubuntu.com/ubuntu jammy-updates/universe amd64 python3-setuptools-whl all 59.6.0-1.2ubuntu0.22.04.2 [788 kB]\n",
      "Get:20 http://archive.ubuntu.com/ubuntu jammy-updates/universe amd64 python3.10-venv amd64 3.10.12-1~22.04.7 [5718 B]\n",
      "Get:21 http://archive.ubuntu.com/ubuntu jammy-updates/universe amd64 python3-venv amd64 3.10.6-1~22.04.1 [1042 B]\n",
      "Fetched 17.5 MB in 2s (10.1 MB/s)\n",
      "debconf: delaying package configuration, since apt-utils is not installed\n",
      "\n",
      "(Reading database ... 25901 files and directories currently installed.)\n",
      "Preparing to unpack .../00-python3.10_3.10.12-1~22.04.7_amd64.deb ...\n",
      "\u001b7\u001b[24;0f\u001b[42m\u001b[30mProgress: [  0%]\u001b[49m\u001b[39m [..........................................................] \u001b8\u001b7\u001b[24;0f\u001b[42m\u001b[30mProgress: [  1%]\u001b[49m\u001b[39m [..........................................................] \u001b8Unpacking python3.10 (3.10.12-1~22.04.7) over (3.10.12-1~22.04.6) ...\n",
      "\u001b7\u001b[24;0f\u001b[42m\u001b[30mProgress: [  2%]\u001b[49m\u001b[39m [#.........................................................] \u001b8Preparing to unpack .../01-libpython3.10-stdlib_3.10.12-1~22.04.7_amd64.deb ...\n",
      "\u001b7\u001b[24;0f\u001b[42m\u001b[30mProgress: [  4%]\u001b[49m\u001b[39m [##........................................................] \u001b8Unpacking libpython3.10-stdlib:amd64 (3.10.12-1~22.04.7) over (3.10.12-1~22.04.6) ...\n",
      "\u001b7\u001b[24;0f\u001b[42m\u001b[30mProgress: [  5%]\u001b[49m\u001b[39m [##........................................................] \u001b8Preparing to unpack .../02-python3.10-minimal_3.10.12-1~22.04.7_amd64.deb ...\n",
      "\u001b7\u001b[24;0f\u001b[42m\u001b[30mProgress: [  6%]\u001b[49m\u001b[39m [###.......................................................] \u001b8Unpacking python3.10-minimal (3.10.12-1~22.04.7) over (3.10.12-1~22.04.6) ...\n",
      "\u001b7\u001b[24;0f\u001b[42m\u001b[30mProgress: [  7%]\u001b[49m\u001b[39m [####......................................................] \u001b8Preparing to unpack .../03-libpython3.10-minimal_3.10.12-1~22.04.7_amd64.deb ...\n",
      "\u001b7\u001b[24;0f\u001b[42m\u001b[30mProgress: [  8%]\u001b[49m\u001b[39m [####......................................................] \u001b8Unpacking libpython3.10-minimal:amd64 (3.10.12-1~22.04.7) over (3.10.12-1~22.04.6) ...\n",
      "\u001b7\u001b[24;0f\u001b[42m\u001b[30mProgress: [  9%]\u001b[49m\u001b[39m [#####.....................................................] \u001b8Preparing to unpack .../04-libexpat1_2.4.7-1ubuntu0.5_amd64.deb ...\n",
      "\u001b7\u001b[24;0f\u001b[42m\u001b[30mProgress: [ 11%]\u001b[49m\u001b[39m [######....................................................] \u001b8Unpacking libexpat1:amd64 (2.4.7-1ubuntu0.5) over (2.4.7-1ubuntu0.4) ...\n",
      "\u001b7\u001b[24;0f\u001b[42m\u001b[30mProgress: [ 12%]\u001b[49m\u001b[39m [######....................................................] \u001b8Selecting previously unselected package javascript-common.\n",
      "Preparing to unpack .../05-javascript-common_11+nmu1_all.deb ...\n",
      "\u001b7\u001b[24;0f\u001b[42m\u001b[30mProgress: [ 13%]\u001b[49m\u001b[39m [#######...................................................] \u001b8Unpacking javascript-common (11+nmu1) ...\n",
      "\u001b7\u001b[24;0f\u001b[42m\u001b[30mProgress: [ 14%]\u001b[49m\u001b[39m [########..................................................] \u001b8Selecting previously unselected package libexpat1-dev:amd64.\n",
      "Preparing to unpack .../06-libexpat1-dev_2.4.7-1ubuntu0.5_amd64.deb ...\n",
      "\u001b7\u001b[24;0f\u001b[42m\u001b[30mProgress: [ 15%]\u001b[49m\u001b[39m [########..................................................] \u001b8Unpacking libexpat1-dev:amd64 (2.4.7-1ubuntu0.5) ...\n",
      "\u001b7\u001b[24;0f\u001b[42m\u001b[30mProgress: [ 16%]\u001b[49m\u001b[39m [#########.................................................] \u001b8Selecting previously unselected package libjs-jquery.\n",
      "Preparing to unpack .../07-libjs-jquery_3.6.0+dfsg+~3.5.13-1_all.deb ...\n",
      "\u001b7\u001b[24;0f\u001b[42m\u001b[30mProgress: [ 18%]\u001b[49m\u001b[39m [##########................................................] \u001b8Unpacking libjs-jquery (3.6.0+dfsg+~3.5.13-1) ...\n",
      "\u001b7\u001b[24;0f\u001b[42m\u001b[30mProgress: [ 19%]\u001b[49m\u001b[39m [##########................................................] \u001b8Selecting previously unselected package libjs-underscore.\n",
      "Preparing to unpack .../08-libjs-underscore_1.13.2~dfsg-2_all.deb ...\n",
      "\u001b7\u001b[24;0f\u001b[42m\u001b[30mProgress: [ 20%]\u001b[49m\u001b[39m [###########...............................................] \u001b8Unpacking libjs-underscore (1.13.2~dfsg-2) ...\n",
      "\u001b7\u001b[24;0f\u001b[42m\u001b[30mProgress: [ 21%]\u001b[49m\u001b[39m [############..............................................] \u001b8Selecting previously unselected package libjs-sphinxdoc.\n",
      "Preparing to unpack .../09-libjs-sphinxdoc_4.3.2-1_all.deb ...\n",
      "\u001b7\u001b[24;0f\u001b[42m\u001b[30mProgress: [ 22%]\u001b[49m\u001b[39m [############..............................................] \u001b8Unpacking libjs-sphinxdoc (4.3.2-1) ...\n",
      "\u001b7\u001b[24;0f\u001b[42m\u001b[30mProgress: [ 24%]\u001b[49m\u001b[39m [#############.............................................] \u001b8Selecting previously unselected package libpython3.10:amd64.\n",
      "Preparing to unpack .../10-libpython3.10_3.10.12-1~22.04.7_amd64.deb ...\n",
      "\u001b7\u001b[24;0f\u001b[42m\u001b[30mProgress: [ 25%]\u001b[49m\u001b[39m [##############............................................] \u001b8Unpacking libpython3.10:amd64 (3.10.12-1~22.04.7) ...\n",
      "\u001b7\u001b[24;0f\u001b[42m\u001b[30mProgress: [ 26%]\u001b[49m\u001b[39m [###############...........................................] \u001b8Selecting previously unselected package zlib1g-dev:amd64.\n",
      "Preparing to unpack .../11-zlib1g-dev_1%3a1.2.11.dfsg-2ubuntu9.2_amd64.deb ...\n",
      "\u001b7\u001b[24;0f\u001b[42m\u001b[30mProgress: [ 27%]\u001b[49m\u001b[39m [###############...........................................] \u001b8Unpacking zlib1g-dev:amd64 (1:1.2.11.dfsg-2ubuntu9.2) ...\n",
      "\u001b7\u001b[24;0f\u001b[42m\u001b[30mProgress: [ 28%]\u001b[49m\u001b[39m [################..........................................] \u001b8Selecting previously unselected package libpython3.10-dev:amd64.\n",
      "Preparing to unpack .../12-libpython3.10-dev_3.10.12-1~22.04.7_amd64.deb ...\n",
      "\u001b7\u001b[24;0f\u001b[42m\u001b[30mProgress: [ 29%]\u001b[49m\u001b[39m [#################.........................................] \u001b8Unpacking libpython3.10-dev:amd64 (3.10.12-1~22.04.7) ...\n",
      "\u001b7\u001b[24;0f\u001b[42m\u001b[30mProgress: [ 31%]\u001b[49m\u001b[39m [#################.........................................] \u001b8Selecting previously unselected package libpython3-dev:amd64.\n",
      "Preparing to unpack .../13-libpython3-dev_3.10.6-1~22.04.1_amd64.deb ...\n",
      "\u001b7\u001b[24;0f\u001b[42m\u001b[30mProgress: [ 32%]\u001b[49m\u001b[39m [##################........................................] \u001b8Unpacking libpython3-dev:amd64 (3.10.6-1~22.04.1) ...\n",
      "\u001b7\u001b[24;0f\u001b[42m\u001b[30mProgress: [ 33%]\u001b[49m\u001b[39m [###################.......................................] \u001b8Selecting previously unselected package python3.10-dev.\n",
      "Preparing to unpack .../14-python3.10-dev_3.10.12-1~22.04.7_amd64.deb ...\n",
      "\u001b7\u001b[24;0f\u001b[42m\u001b[30mProgress: [ 34%]\u001b[49m\u001b[39m [###################.......................................] \u001b8Unpacking python3.10-dev (3.10.12-1~22.04.7) ...\n",
      "\u001b7\u001b[24;0f\u001b[42m\u001b[30mProgress: [ 35%]\u001b[49m\u001b[39m [####################......................................] \u001b8Selecting previously unselected package python3-dev.\n",
      "Preparing to unpack .../15-python3-dev_3.10.6-1~22.04.1_amd64.deb ...\n",
      "\u001b7\u001b[24;0f\u001b[42m\u001b[30mProgress: [ 36%]\u001b[49m\u001b[39m [#####################.....................................] \u001b8Unpacking python3-dev (3.10.6-1~22.04.1) ...\n",
      "\u001b7\u001b[24;0f\u001b[42m\u001b[30mProgress: [ 38%]\u001b[49m\u001b[39m [#####################.....................................] \u001b8Preparing to unpack .../16-python3-pip_22.0.2+dfsg-1ubuntu0.5_all.deb ...\n",
      "\u001b7\u001b[24;0f\u001b[42m\u001b[30mProgress: [ 39%]\u001b[49m\u001b[39m [######################....................................] \u001b8Unpacking python3-pip (22.0.2+dfsg-1ubuntu0.5) over (22.0.2+dfsg-1ubuntu0.4) ...\n",
      "\u001b7\u001b[24;0f\u001b[42m\u001b[30mProgress: [ 40%]\u001b[49m\u001b[39m [#######################...................................] \u001b8Selecting previously unselected package python3-pip-whl.\n",
      "Preparing to unpack .../17-python3-pip-whl_22.0.2+dfsg-1ubuntu0.5_all.deb ...\n",
      "\u001b7\u001b[24;0f\u001b[42m\u001b[30mProgress: [ 41%]\u001b[49m\u001b[39m [#######################...................................] \u001b8Unpacking python3-pip-whl (22.0.2+dfsg-1ubuntu0.5) ...\n",
      "\u001b7\u001b[24;0f\u001b[42m\u001b[30mProgress: [ 42%]\u001b[49m\u001b[39m [########################..................................] \u001b8Selecting previously unselected package python3-setuptools-whl.\n",
      "Preparing to unpack .../18-python3-setuptools-whl_59.6.0-1.2ubuntu0.22.04.2_all.deb ...\n",
      "\u001b7\u001b[24;0f\u001b[42m\u001b[30mProgress: [ 44%]\u001b[49m\u001b[39m [#########################.................................] \u001b8Unpacking python3-setuptools-whl (59.6.0-1.2ubuntu0.22.04.2) ...\n",
      "\u001b7\u001b[24;0f\u001b[42m\u001b[30mProgress: [ 45%]\u001b[49m\u001b[39m [#########################.................................] \u001b8Selecting previously unselected package python3.10-venv.\n",
      "Preparing to unpack .../19-python3.10-venv_3.10.12-1~22.04.7_amd64.deb ...\n",
      "\u001b7\u001b[24;0f\u001b[42m\u001b[30mProgress: [ 46%]\u001b[49m\u001b[39m [##########################................................] \u001b8Unpacking python3.10-venv (3.10.12-1~22.04.7) ...\n",
      "\u001b7\u001b[24;0f\u001b[42m\u001b[30mProgress: [ 47%]\u001b[49m\u001b[39m [###########################...............................] \u001b8Selecting previously unselected package python3-venv.\n",
      "Preparing to unpack .../20-python3-venv_3.10.6-1~22.04.1_amd64.deb ...\n",
      "\u001b7\u001b[24;0f\u001b[42m\u001b[30mProgress: [ 48%]\u001b[49m\u001b[39m [###########################...............................] \u001b8Unpacking python3-venv (3.10.6-1~22.04.1) ...\n",
      "\u001b7\u001b[24;0f\u001b[42m\u001b[30mProgress: [ 49%]\u001b[49m\u001b[39m [############################..............................] \u001b8Setting up libexpat1:amd64 (2.4.7-1ubuntu0.5) ...\n",
      "\u001b7\u001b[24;0f\u001b[42m\u001b[30mProgress: [ 51%]\u001b[49m\u001b[39m [#############################.............................] \u001b8\u001b7\u001b[24;0f\u001b[42m\u001b[30mProgress: [ 52%]\u001b[49m\u001b[39m [##############################............................] \u001b8Setting up javascript-common (11+nmu1) ...\n",
      "\u001b7\u001b[24;0f\u001b[42m\u001b[30mProgress: [ 53%]\u001b[49m\u001b[39m [##############################............................] \u001b8\u001b7\u001b[24;0f\u001b[42m\u001b[30mProgress: [ 54%]\u001b[49m\u001b[39m [###############################...........................] \u001b8Setting up python3-setuptools-whl (59.6.0-1.2ubuntu0.22.04.2) ...\n",
      "\u001b7\u001b[24;0f\u001b[42m\u001b[30mProgress: [ 55%]\u001b[49m\u001b[39m [################################..........................] \u001b8\u001b7\u001b[24;0f\u001b[42m\u001b[30mProgress: [ 56%]\u001b[49m\u001b[39m [################################..........................] \u001b8Setting up python3-pip-whl (22.0.2+dfsg-1ubuntu0.5) ...\n",
      "\u001b7\u001b[24;0f\u001b[42m\u001b[30mProgress: [ 58%]\u001b[49m\u001b[39m [#################################.........................] \u001b8\u001b7\u001b[24;0f\u001b[42m\u001b[30mProgress: [ 59%]\u001b[49m\u001b[39m [##################################........................] \u001b8Setting up libexpat1-dev:amd64 (2.4.7-1ubuntu0.5) ...\n",
      "\u001b7\u001b[24;0f\u001b[42m\u001b[30mProgress: [ 60%]\u001b[49m\u001b[39m [##################################........................] \u001b8\u001b7\u001b[24;0f\u001b[42m\u001b[30mProgress: [ 61%]\u001b[49m\u001b[39m [###################################.......................] \u001b8Setting up libpython3.10-minimal:amd64 (3.10.12-1~22.04.7) ...\n",
      "\u001b7\u001b[24;0f\u001b[42m\u001b[30mProgress: [ 62%]\u001b[49m\u001b[39m [####################################......................] \u001b8\u001b7\u001b[24;0f\u001b[42m\u001b[30mProgress: [ 64%]\u001b[49m\u001b[39m [####################################......................] \u001b8Setting up python3-pip (22.0.2+dfsg-1ubuntu0.5) ...\n",
      "\u001b7\u001b[24;0f\u001b[42m\u001b[30mProgress: [ 65%]\u001b[49m\u001b[39m [#####################################.....................] \u001b8\u001b7\u001b[24;0f\u001b[42m\u001b[30mProgress: [ 66%]\u001b[49m\u001b[39m [######################################....................] \u001b8Setting up zlib1g-dev:amd64 (1:1.2.11.dfsg-2ubuntu9.2) ...\n",
      "\u001b7\u001b[24;0f\u001b[42m\u001b[30mProgress: [ 67%]\u001b[49m\u001b[39m [######################################....................] \u001b8\u001b7\u001b[24;0f\u001b[42m\u001b[30mProgress: [ 68%]\u001b[49m\u001b[39m [#######################################...................] \u001b8Setting up libjs-jquery (3.6.0+dfsg+~3.5.13-1) ...\n",
      "\u001b7\u001b[24;0f\u001b[42m\u001b[30mProgress: [ 69%]\u001b[49m\u001b[39m [########################################..................] \u001b8\u001b7\u001b[24;0f\u001b[42m\u001b[30mProgress: [ 71%]\u001b[49m\u001b[39m [########################################..................] \u001b8Setting up libjs-underscore (1.13.2~dfsg-2) ...\n",
      "\u001b7\u001b[24;0f\u001b[42m\u001b[30mProgress: [ 72%]\u001b[49m\u001b[39m [#########################################.................] \u001b8\u001b7\u001b[24;0f\u001b[42m\u001b[30mProgress: [ 73%]\u001b[49m\u001b[39m [##########################################................] \u001b8Setting up python3.10-minimal (3.10.12-1~22.04.7) ...\n",
      "\u001b7\u001b[24;0f\u001b[42m\u001b[30mProgress: [ 74%]\u001b[49m\u001b[39m [##########################################................] \u001b8\u001b7\u001b[24;0f\u001b[42m\u001b[30mProgress: [ 75%]\u001b[49m\u001b[39m [###########################################...............] \u001b8Setting up libpython3.10-stdlib:amd64 (3.10.12-1~22.04.7) ...\n",
      "\u001b7\u001b[24;0f\u001b[42m\u001b[30mProgress: [ 76%]\u001b[49m\u001b[39m [############################################..............] \u001b8\u001b7\u001b[24;0f\u001b[42m\u001b[30mProgress: [ 78%]\u001b[49m\u001b[39m [#############################################.............] \u001b8Setting up libjs-sphinxdoc (4.3.2-1) ...\n",
      "\u001b7\u001b[24;0f\u001b[42m\u001b[30mProgress: [ 79%]\u001b[49m\u001b[39m [#############################################.............] \u001b8\u001b7\u001b[24;0f\u001b[42m\u001b[30mProgress: [ 80%]\u001b[49m\u001b[39m [##############################################............] \u001b8Setting up libpython3.10:amd64 (3.10.12-1~22.04.7) ...\n",
      "\u001b7\u001b[24;0f\u001b[42m\u001b[30mProgress: [ 81%]\u001b[49m\u001b[39m [###############################################...........] \u001b8\u001b7\u001b[24;0f\u001b[42m\u001b[30mProgress: [ 82%]\u001b[49m\u001b[39m [###############################################...........] \u001b8Setting up python3.10 (3.10.12-1~22.04.7) ...\n",
      "\u001b7\u001b[24;0f\u001b[42m\u001b[30mProgress: [ 84%]\u001b[49m\u001b[39m [################################################..........] \u001b8\u001b7\u001b[24;0f\u001b[42m\u001b[30mProgress: [ 85%]\u001b[49m\u001b[39m [#################################################.........] \u001b8Setting up libpython3.10-dev:amd64 (3.10.12-1~22.04.7) ...\n",
      "\u001b7\u001b[24;0f\u001b[42m\u001b[30mProgress: [ 86%]\u001b[49m\u001b[39m [#################################################.........] \u001b8\u001b7\u001b[24;0f\u001b[42m\u001b[30mProgress: [ 87%]\u001b[49m\u001b[39m [##################################################........] \u001b8Setting up python3.10-dev (3.10.12-1~22.04.7) ...\n",
      "\u001b7\u001b[24;0f\u001b[42m\u001b[30mProgress: [ 88%]\u001b[49m\u001b[39m [###################################################.......] \u001b8\u001b7\u001b[24;0f\u001b[42m\u001b[30mProgress: [ 89%]\u001b[49m\u001b[39m [###################################################.......] \u001b8Setting up libpython3-dev:amd64 (3.10.6-1~22.04.1) ...\n",
      "\u001b7\u001b[24;0f\u001b[42m\u001b[30mProgress: [ 91%]\u001b[49m\u001b[39m [####################################################......] \u001b8\u001b7\u001b[24;0f\u001b[42m\u001b[30mProgress: [ 92%]\u001b[49m\u001b[39m [#####################################################.....] \u001b8Setting up python3.10-venv (3.10.12-1~22.04.7) ...\n",
      "\u001b7\u001b[24;0f\u001b[42m\u001b[30mProgress: [ 93%]\u001b[49m\u001b[39m [#####################################################.....] \u001b8\u001b7\u001b[24;0f\u001b[42m\u001b[30mProgress: [ 94%]\u001b[49m\u001b[39m [######################################################....] \u001b8Setting up python3-venv (3.10.6-1~22.04.1) ...\n",
      "\u001b7\u001b[24;0f\u001b[42m\u001b[30mProgress: [ 95%]\u001b[49m\u001b[39m [#######################################################...] \u001b8\u001b7\u001b[24;0f\u001b[42m\u001b[30mProgress: [ 96%]\u001b[49m\u001b[39m [#######################################################...] \u001b8Setting up python3-dev (3.10.6-1~22.04.1) ...\n",
      "\u001b7\u001b[24;0f\u001b[42m\u001b[30mProgress: [ 98%]\u001b[49m\u001b[39m [########################################################..] \u001b8\u001b7\u001b[24;0f\u001b[42m\u001b[30mProgress: [ 99%]\u001b[49m\u001b[39m [#########################################################.] \u001b8Processing triggers for libc-bin (2.35-0ubuntu3.8) ...\n",
      "\n",
      "Reading package lists... Done\n",
      "Building dependency tree... Done\n",
      "Reading state information... Done\n",
      "The following additional packages will be installed:\n",
      "  libjpeg-turbo8 libjpeg-turbo8-dev libjpeg8 libjpeg8-dev libpng-tools\n",
      "  libpng16-16\n",
      "The following NEW packages will be installed:\n",
      "  libjpeg-dev libjpeg-turbo8 libjpeg-turbo8-dev libjpeg8 libjpeg8-dev\n",
      "  libpng-dev libpng-tools libpng16-16\n",
      "0 upgraded, 8 newly installed, 0 to remove and 28 not upgraded.\n",
      "Need to get 809 kB of archives.\n",
      "After this operation, 2829 kB of additional disk space will be used.\n",
      "Get:1 http://archive.ubuntu.com/ubuntu jammy/main amd64 libpng16-16 amd64 1.6.37-3build5 [191 kB]\n",
      "Get:2 http://archive.ubuntu.com/ubuntu jammy/main amd64 libjpeg-turbo8 amd64 2.1.2-0ubuntu1 [134 kB]\n",
      "Get:3 http://archive.ubuntu.com/ubuntu jammy/main amd64 libjpeg-turbo8-dev amd64 2.1.2-0ubuntu1 [257 kB]\n",
      "Get:4 http://archive.ubuntu.com/ubuntu jammy/main amd64 libjpeg8 amd64 8c-2ubuntu10 [2264 B]\n",
      "Get:5 http://archive.ubuntu.com/ubuntu jammy/main amd64 libjpeg8-dev amd64 8c-2ubuntu10 [1476 B]\n",
      "Get:6 http://archive.ubuntu.com/ubuntu jammy/main amd64 libjpeg-dev amd64 8c-2ubuntu10 [1472 B]\n",
      "Get:7 http://archive.ubuntu.com/ubuntu jammy/main amd64 libpng-dev amd64 1.6.37-3build5 [192 kB]\n",
      "Get:8 http://archive.ubuntu.com/ubuntu jammy/main amd64 libpng-tools amd64 1.6.37-3build5 [28.7 kB]\n",
      "Fetched 809 kB in 0s (2011 kB/s)        \u001b[0m\u001b[33m\n",
      "debconf: delaying package configuration, since apt-utils is not installed\n",
      "\n",
      "\u001b7\u001b[0;23r\u001b8\u001b[1ASelecting previously unselected package libpng16-16:amd64.\n",
      "(Reading database ... 26261 files and directories currently installed.)\n",
      "Preparing to unpack .../0-libpng16-16_1.6.37-3build5_amd64.deb ...\n",
      "\u001b7\u001b[24;0f\u001b[42m\u001b[30mProgress: [  0%]\u001b[49m\u001b[39m [..........................................................] \u001b8\u001b7\u001b[24;0f\u001b[42m\u001b[30mProgress: [  3%]\u001b[49m\u001b[39m [#.........................................................] \u001b8Unpacking libpng16-16:amd64 (1.6.37-3build5) ...\n",
      "\u001b7\u001b[24;0f\u001b[42m\u001b[30mProgress: [  6%]\u001b[49m\u001b[39m [###.......................................................] \u001b8Selecting previously unselected package libjpeg-turbo8:amd64.\n",
      "Preparing to unpack .../1-libjpeg-turbo8_2.1.2-0ubuntu1_amd64.deb ...\n",
      "\u001b7\u001b[24;0f\u001b[42m\u001b[30mProgress: [  9%]\u001b[49m\u001b[39m [#####.....................................................] \u001b8Unpacking libjpeg-turbo8:amd64 (2.1.2-0ubuntu1) ...\n",
      "\u001b7\u001b[24;0f\u001b[42m\u001b[30mProgress: [ 12%]\u001b[49m\u001b[39m [#######...................................................] \u001b8Selecting previously unselected package libjpeg-turbo8-dev:amd64.\n",
      "Preparing to unpack .../2-libjpeg-turbo8-dev_2.1.2-0ubuntu1_amd64.deb ...\n",
      "\u001b7\u001b[24;0f\u001b[42m\u001b[30mProgress: [ 15%]\u001b[49m\u001b[39m [########..................................................] \u001b8Unpacking libjpeg-turbo8-dev:amd64 (2.1.2-0ubuntu1) ...\n",
      "\u001b7\u001b[24;0f\u001b[42m\u001b[30mProgress: [ 18%]\u001b[49m\u001b[39m [##########................................................] \u001b8Selecting previously unselected package libjpeg8:amd64.\n",
      "Preparing to unpack .../3-libjpeg8_8c-2ubuntu10_amd64.deb ...\n",
      "\u001b7\u001b[24;0f\u001b[42m\u001b[30mProgress: [ 21%]\u001b[49m\u001b[39m [############..............................................] \u001b8Unpacking libjpeg8:amd64 (8c-2ubuntu10) ...\n",
      "\u001b7\u001b[24;0f\u001b[42m\u001b[30mProgress: [ 24%]\u001b[49m\u001b[39m [##############............................................] \u001b8Selecting previously unselected package libjpeg8-dev:amd64.\n",
      "Preparing to unpack .../4-libjpeg8-dev_8c-2ubuntu10_amd64.deb ...\n",
      "\u001b7\u001b[24;0f\u001b[42m\u001b[30mProgress: [ 27%]\u001b[49m\u001b[39m [###############...........................................] \u001b8Unpacking libjpeg8-dev:amd64 (8c-2ubuntu10) ...\n",
      "\u001b7\u001b[24;0f\u001b[42m\u001b[30mProgress: [ 30%]\u001b[49m\u001b[39m [#################.........................................] \u001b8Selecting previously unselected package libjpeg-dev:amd64.\n",
      "Preparing to unpack .../5-libjpeg-dev_8c-2ubuntu10_amd64.deb ...\n",
      "\u001b7\u001b[24;0f\u001b[42m\u001b[30mProgress: [ 33%]\u001b[49m\u001b[39m [###################.......................................] \u001b8Unpacking libjpeg-dev:amd64 (8c-2ubuntu10) ...\n",
      "\u001b7\u001b[24;0f\u001b[42m\u001b[30mProgress: [ 36%]\u001b[49m\u001b[39m [#####################.....................................] \u001b8Selecting previously unselected package libpng-dev:amd64.\n",
      "Preparing to unpack .../6-libpng-dev_1.6.37-3build5_amd64.deb ...\n",
      "\u001b7\u001b[24;0f\u001b[42m\u001b[30mProgress: [ 39%]\u001b[49m\u001b[39m [######################....................................] \u001b8Unpacking libpng-dev:amd64 (1.6.37-3build5) ...\n",
      "\u001b7\u001b[24;0f\u001b[42m\u001b[30mProgress: [ 42%]\u001b[49m\u001b[39m [########################..................................] \u001b8Selecting previously unselected package libpng-tools.\n",
      "Preparing to unpack .../7-libpng-tools_1.6.37-3build5_amd64.deb ...\n",
      "\u001b7\u001b[24;0f\u001b[42m\u001b[30mProgress: [ 45%]\u001b[49m\u001b[39m [##########################................................] \u001b8Unpacking libpng-tools (1.6.37-3build5) ...\n",
      "\u001b7\u001b[24;0f\u001b[42m\u001b[30mProgress: [ 48%]\u001b[49m\u001b[39m [############################..............................] \u001b8Setting up libpng16-16:amd64 (1.6.37-3build5) ...\n",
      "\u001b7\u001b[24;0f\u001b[42m\u001b[30mProgress: [ 52%]\u001b[49m\u001b[39m [#############################.............................] \u001b8\u001b7\u001b[24;0f\u001b[42m\u001b[30mProgress: [ 55%]\u001b[49m\u001b[39m [###############################...........................] \u001b8Setting up libjpeg-turbo8:amd64 (2.1.2-0ubuntu1) ...\n",
      "\u001b7\u001b[24;0f\u001b[42m\u001b[30mProgress: [ 58%]\u001b[49m\u001b[39m [#################################.........................] \u001b8\u001b7\u001b[24;0f\u001b[42m\u001b[30mProgress: [ 61%]\u001b[49m\u001b[39m [###################################.......................] \u001b8Setting up libjpeg8:amd64 (8c-2ubuntu10) ...\n",
      "\u001b7\u001b[24;0f\u001b[42m\u001b[30mProgress: [ 64%]\u001b[49m\u001b[39m [####################################......................] \u001b8\u001b7\u001b[24;0f\u001b[42m\u001b[30mProgress: [ 67%]\u001b[49m\u001b[39m [######################################....................] \u001b8Setting up libjpeg-turbo8-dev:amd64 (2.1.2-0ubuntu1) ...\n",
      "\u001b7\u001b[24;0f\u001b[42m\u001b[30mProgress: [ 70%]\u001b[49m\u001b[39m [########################################..................] \u001b8\u001b7\u001b[24;0f\u001b[42m\u001b[30mProgress: [ 73%]\u001b[49m\u001b[39m [##########################################................] \u001b8Setting up libpng-tools (1.6.37-3build5) ...\n",
      "\u001b7\u001b[24;0f\u001b[42m\u001b[30mProgress: [ 76%]\u001b[49m\u001b[39m [###########################################...............] \u001b8\u001b7\u001b[24;0f\u001b[42m\u001b[30mProgress: [ 79%]\u001b[49m\u001b[39m [#############################################.............] \u001b8Setting up libpng-dev:amd64 (1.6.37-3build5) ...\n",
      "\u001b7\u001b[24;0f\u001b[42m\u001b[30mProgress: [ 82%]\u001b[49m\u001b[39m [###############################################...........] \u001b8\u001b7\u001b[24;0f\u001b[42m\u001b[30mProgress: [ 85%]\u001b[49m\u001b[39m [#################################################.........] \u001b8Setting up libjpeg8-dev:amd64 (8c-2ubuntu10) ...\n",
      "\u001b7\u001b[24;0f\u001b[42m\u001b[30mProgress: [ 88%]\u001b[49m\u001b[39m [##################################################........] \u001b8\u001b7\u001b[24;0f\u001b[42m\u001b[30mProgress: [ 91%]\u001b[49m\u001b[39m [####################################################......] \u001b8Setting up libjpeg-dev:amd64 (8c-2ubuntu10) ...\n",
      "\u001b7\u001b[24;0f\u001b[42m\u001b[30mProgress: [ 94%]\u001b[49m\u001b[39m [######################################################....] \u001b8\u001b7\u001b[24;0f\u001b[42m\u001b[30mProgress: [ 97%]\u001b[49m\u001b[39m [########################################################..] \u001b8Processing triggers for libc-bin (2.35-0ubuntu3.8) ...\n",
      "\n",
      "\u001b7\u001b[0;24r\u001b8\u001b[1A\u001b[J"
     ]
    }
   ],
   "source": [
    "!apt update\n",
    "!apt install -y build-essential cmake libopenblas-dev liblapack-dev libx11-dev\n",
    "!apt install -y python3-dev python3-pip python3-venv\n",
    "!apt install -y libjpeg-dev libpng-dev\n"
   ]
  },
  {
   "cell_type": "code",
   "execution_count": 21,
   "id": "511579bf-019b-44c3-b9be-70ec6538c774",
   "metadata": {
    "scrolled": true
   },
   "outputs": [
    {
     "name": "stdout",
     "output_type": "stream",
     "text": [
      "Requirement already satisfied: face_recognition in /usr/local/lib/python3.10/dist-packages (1.3.0)\n",
      "Requirement already satisfied: opencv_python in /usr/local/lib/python3.10/dist-packages (4.10.0.84)\n",
      "Requirement already satisfied: gdown in /usr/local/lib/python3.10/dist-packages (5.2.0)\n",
      "Requirement already satisfied: torch in /usr/local/lib/python3.10/dist-packages (2.5.1)\n",
      "Requirement already satisfied: torchvision in /usr/local/lib/python3.10/dist-packages (0.20.1)\n",
      "Collecting scikit-learn\n",
      "  Using cached scikit_learn-1.6.0-cp310-cp310-manylinux_2_17_x86_64.manylinux2014_x86_64.whl (13.5 MB)\n",
      "Requirement already satisfied: numpy in /usr/local/lib/python3.10/dist-packages (from face_recognition) (2.2.0)\n",
      "Requirement already satisfied: dlib>=19.7 in /usr/local/lib/python3.10/dist-packages (from face_recognition) (19.24.6)\n",
      "Requirement already satisfied: face-recognition-models>=0.3.0 in /usr/local/lib/python3.10/dist-packages (from face_recognition) (0.3.0)\n",
      "Requirement already satisfied: Click>=6.0 in /usr/local/lib/python3.10/dist-packages (from face_recognition) (8.1.7)\n",
      "Requirement already satisfied: Pillow in /usr/local/lib/python3.10/dist-packages (from face_recognition) (11.0.0)\n",
      "Requirement already satisfied: requests[socks] in /usr/local/lib/python3.10/dist-packages (from gdown) (2.32.3)\n",
      "Requirement already satisfied: tqdm in /usr/local/lib/python3.10/dist-packages (from gdown) (4.67.1)\n",
      "Requirement already satisfied: filelock in /usr/local/lib/python3.10/dist-packages (from gdown) (3.16.1)\n",
      "Requirement already satisfied: beautifulsoup4 in /usr/local/lib/python3.10/dist-packages (from gdown) (4.12.3)\n",
      "Requirement already satisfied: networkx in /usr/local/lib/python3.10/dist-packages (from torch) (3.4.2)\n",
      "Requirement already satisfied: fsspec in /usr/local/lib/python3.10/dist-packages (from torch) (2024.10.0)\n",
      "Requirement already satisfied: jinja2 in /usr/local/lib/python3.10/dist-packages (from torch) (3.1.4)\n",
      "Requirement already satisfied: nvidia-cusolver-cu12==11.6.1.9 in /usr/local/lib/python3.10/dist-packages (from torch) (11.6.1.9)\n",
      "Requirement already satisfied: triton==3.1.0 in /usr/local/lib/python3.10/dist-packages (from torch) (3.1.0)\n",
      "Requirement already satisfied: typing-extensions>=4.8.0 in /usr/local/lib/python3.10/dist-packages (from torch) (4.12.2)\n",
      "Requirement already satisfied: nvidia-cusparse-cu12==12.3.1.170 in /usr/local/lib/python3.10/dist-packages (from torch) (12.3.1.170)\n",
      "Requirement already satisfied: nvidia-curand-cu12==10.3.5.147 in /usr/local/lib/python3.10/dist-packages (from torch) (10.3.5.147)\n",
      "Requirement already satisfied: nvidia-nccl-cu12==2.21.5 in /usr/local/lib/python3.10/dist-packages (from torch) (2.21.5)\n",
      "Requirement already satisfied: nvidia-cuda-nvrtc-cu12==12.4.127 in /usr/local/lib/python3.10/dist-packages (from torch) (12.4.127)\n",
      "Requirement already satisfied: nvidia-nvtx-cu12==12.4.127 in /usr/local/lib/python3.10/dist-packages (from torch) (12.4.127)\n",
      "Requirement already satisfied: nvidia-cuda-runtime-cu12==12.4.127 in /usr/local/lib/python3.10/dist-packages (from torch) (12.4.127)\n",
      "Requirement already satisfied: nvidia-nvjitlink-cu12==12.4.127 in /usr/local/lib/python3.10/dist-packages (from torch) (12.4.127)\n",
      "Requirement already satisfied: nvidia-cufft-cu12==11.2.1.3 in /usr/local/lib/python3.10/dist-packages (from torch) (11.2.1.3)\n",
      "Requirement already satisfied: nvidia-cudnn-cu12==9.1.0.70 in /usr/local/lib/python3.10/dist-packages (from torch) (9.1.0.70)\n",
      "Requirement already satisfied: nvidia-cublas-cu12==12.4.5.8 in /usr/local/lib/python3.10/dist-packages (from torch) (12.4.5.8)\n",
      "Requirement already satisfied: sympy==1.13.1 in /usr/local/lib/python3.10/dist-packages (from torch) (1.13.1)\n",
      "Requirement already satisfied: nvidia-cuda-cupti-cu12==12.4.127 in /usr/local/lib/python3.10/dist-packages (from torch) (12.4.127)\n",
      "Requirement already satisfied: mpmath<1.4,>=1.1.0 in /usr/local/lib/python3.10/dist-packages (from sympy==1.13.1->torch) (1.3.0)\n",
      "Collecting threadpoolctl>=3.1.0\n",
      "  Using cached threadpoolctl-3.5.0-py3-none-any.whl (18 kB)\n",
      "Collecting joblib>=1.2.0\n",
      "  Using cached joblib-1.4.2-py3-none-any.whl (301 kB)\n",
      "Collecting scipy>=1.6.0\n",
      "  Using cached scipy-1.14.1-cp310-cp310-manylinux_2_17_x86_64.manylinux2014_x86_64.whl (41.2 MB)\n",
      "Requirement already satisfied: soupsieve>1.2 in /usr/local/lib/python3.10/dist-packages (from beautifulsoup4->gdown) (2.6)\n",
      "Requirement already satisfied: MarkupSafe>=2.0 in /usr/local/lib/python3.10/dist-packages (from jinja2->torch) (3.0.2)\n",
      "Requirement already satisfied: idna<4,>=2.5 in /usr/local/lib/python3.10/dist-packages (from requests[socks]->gdown) (3.10)\n",
      "Requirement already satisfied: urllib3<3,>=1.21.1 in /usr/local/lib/python3.10/dist-packages (from requests[socks]->gdown) (2.2.3)\n",
      "Requirement already satisfied: charset-normalizer<4,>=2 in /usr/local/lib/python3.10/dist-packages (from requests[socks]->gdown) (3.4.0)\n",
      "Requirement already satisfied: certifi>=2017.4.17 in /usr/local/lib/python3.10/dist-packages (from requests[socks]->gdown) (2024.8.30)\n",
      "Requirement already satisfied: PySocks!=1.5.7,>=1.5.6 in /usr/local/lib/python3.10/dist-packages (from requests[socks]->gdown) (1.7.1)\n",
      "Installing collected packages: threadpoolctl, scipy, joblib, scikit-learn\n",
      "Successfully installed joblib-1.4.2 scikit-learn-1.6.0 scipy-1.14.1 threadpoolctl-3.5.0\n",
      "\u001b[33mWARNING: Running pip as the 'root' user can result in broken permissions and conflicting behaviour with the system package manager. It is recommended to use a virtual environment instead: https://pip.pypa.io/warnings/venv\u001b[0m\u001b[33m\n",
      "\u001b[0m"
     ]
    }
   ],
   "source": [
    "!pip install face_recognition opencv_python gdown torch torchvision scikit-learn"
   ]
  },
  {
   "cell_type": "code",
   "execution_count": 17,
   "id": "aa49470a-ec3f-4dfd-b7e2-54679c62b682",
   "metadata": {
    "scrolled": true
   },
   "outputs": [
    {
     "name": "stdout",
     "output_type": "stream",
     "text": [
      "Reading package lists... Done\n",
      "Building dependency tree... Done\n",
      "Reading state information... Done\n",
      "unzip is already the newest version (6.0-26ubuntu3.2).\n",
      "0 upgraded, 0 newly installed, 0 to remove and 28 not upgraded.\n",
      "Reading package lists... Done\n",
      "Building dependency tree... Done\n",
      "Reading state information... Done\n",
      "The following additional packages will be installed:\n",
      "  alsa-topology-conf alsa-ucm-conf fontconfig fontconfig-config\n",
      "  fonts-dejavu-core i965-va-driver intel-media-va-driver libaacs0 libaom3\n",
      "  libasound2 libasound2-data libass9 libasyncns0 libavc1394-0 libavcodec58\n",
      "  libavdevice58 libavfilter7 libavformat58 libavutil56 libbdplus0 libbluray2\n",
      "  libbs2b0 libcaca0 libcairo-gobject2 libcairo2 libcdio-cdda2\n",
      "  libcdio-paranoia2 libcdio19 libchromaprint1 libcodec2-1.0 libdatrie1\n",
      "  libdav1d5 libdc1394-25 libdecor-0-0 libdecor-0-plugin-1-cairo libdeflate0\n",
      "  libdrm-amdgpu1 libdrm-common libdrm-intel1 libdrm-nouveau2 libdrm-radeon1\n",
      "  libdrm2 libflac8 libflite1 libfontconfig1 libfreetype6 libfribidi0 libgbm1\n",
      "  libgdk-pixbuf-2.0-0 libgdk-pixbuf2.0-bin libgdk-pixbuf2.0-common libgl1\n",
      "  libgl1-amber-dri libgl1-mesa-dri libglapi-mesa libglvnd0 libglx-mesa0\n",
      "  libglx0 libgme0 libgraphite2-3 libgsm1 libharfbuzz0b libice6 libiec61883-0\n",
      "  libigdgmm12 libjack-jackd2-0 libjbig0 liblilv-0-0 libllvm15 libmfx1\n",
      "  libmp3lame0 libmpg123-0 libmysofa1 libnorm1 libnuma1 libogg0 libopenal-data\n",
      "  libopenal1 libopenjp2-7 libopenmpt0 libopus0 libpango-1.0-0\n",
      "  libpangocairo-1.0-0 libpangoft2-1.0-0 libpciaccess0 libpgm-5.3-0\n",
      "  libpixman-1-0 libpocketsphinx3 libpostproc55 libpulse0 librabbitmq4\n",
      "  libraw1394-11 librsvg2-2 librsvg2-common librubberband2 libsamplerate0\n",
      "  libsdl2-2.0-0 libsensors-config libsensors5 libserd-0-0 libshine3 libslang2\n",
      "  libsnappy1v5 libsndfile1 libsndio7.0 libsodium23 libsord-0-0 libsoxr0\n",
      "  libspeex1 libsphinxbase3 libsratom-0-0 libsrt1.4-gnutls libssh-gcrypt-4\n",
      "  libswresample3 libswscale5 libthai-data libthai0 libtheora0 libtiff5\n",
      "  libtwolame0 libudfread0 libusb-1.0-0 libva-drm2 libva-x11-2 libva2 libvdpau1\n",
      "  libvidstab1.1 libvorbis0a libvorbisenc2 libvorbisfile3 libvpx7\n",
      "  libwayland-client0 libwayland-cursor0 libwayland-egl1 libwayland-server0\n",
      "  libwebp7 libwebpmux3 libx11-xcb1 libx264-163 libx265-199 libxcb-dri2-0\n",
      "  libxcb-dri3-0 libxcb-glx0 libxcb-present0 libxcb-randr0 libxcb-render0\n",
      "  libxcb-shape0 libxcb-shm0 libxcb-sync1 libxcb-xfixes0 libxcursor1 libxfixes3\n",
      "  libxi6 libxinerama1 libxkbcommon0 libxrandr2 libxrender1 libxshmfence1\n",
      "  libxss1 libxv1 libxvidcore4 libxxf86vm1 libzimg2 libzmq5 libzvbi-common\n",
      "  libzvbi0 mesa-va-drivers mesa-vdpau-drivers ocl-icd-libopencl1\n",
      "  pocketsphinx-en-us shared-mime-info va-driver-all vdpau-driver-all\n",
      "  x11-common xkb-data\n",
      "Suggested packages:\n",
      "  ffmpeg-doc i965-va-driver-shaders libasound2-plugins alsa-utils libcuda1\n",
      "  libnvcuvid1 libnvidia-encode1 libbluray-bdj jackd2 libportaudio2 opus-tools\n",
      "  pciutils pulseaudio libraw1394-doc librsvg2-bin xdg-utils lm-sensors serdi\n",
      "  sndiod sordi speex opencl-icd libvdpau-va-gl1\n",
      "The following NEW packages will be installed:\n",
      "  alsa-topology-conf alsa-ucm-conf ffmpeg fontconfig fontconfig-config\n",
      "  fonts-dejavu-core i965-va-driver intel-media-va-driver libaacs0 libaom3\n",
      "  libasound2 libasound2-data libass9 libasyncns0 libavc1394-0 libavcodec58\n",
      "  libavdevice58 libavfilter7 libavformat58 libavutil56 libbdplus0 libbluray2\n",
      "  libbs2b0 libcaca0 libcairo-gobject2 libcairo2 libcdio-cdda2\n",
      "  libcdio-paranoia2 libcdio19 libchromaprint1 libcodec2-1.0 libdatrie1\n",
      "  libdav1d5 libdc1394-25 libdecor-0-0 libdecor-0-plugin-1-cairo libdeflate0\n",
      "  libdrm-amdgpu1 libdrm-common libdrm-intel1 libdrm-nouveau2 libdrm-radeon1\n",
      "  libdrm2 libflac8 libflite1 libfontconfig1 libfreetype6 libfribidi0 libgbm1\n",
      "  libgdk-pixbuf-2.0-0 libgdk-pixbuf2.0-bin libgdk-pixbuf2.0-common libgl1\n",
      "  libgl1-amber-dri libgl1-mesa-dri libglapi-mesa libglvnd0 libglx-mesa0\n",
      "  libglx0 libgme0 libgraphite2-3 libgsm1 libharfbuzz0b libice6 libiec61883-0\n",
      "  libigdgmm12 libjack-jackd2-0 libjbig0 liblilv-0-0 libllvm15 libmfx1\n",
      "  libmp3lame0 libmpg123-0 libmysofa1 libnorm1 libnuma1 libogg0 libopenal-data\n",
      "  libopenal1 libopenjp2-7 libopenmpt0 libopus0 libpango-1.0-0\n",
      "  libpangocairo-1.0-0 libpangoft2-1.0-0 libpciaccess0 libpgm-5.3-0\n",
      "  libpixman-1-0 libpocketsphinx3 libpostproc55 libpulse0 librabbitmq4\n",
      "  libraw1394-11 librsvg2-2 librsvg2-common librubberband2 libsamplerate0\n",
      "  libsdl2-2.0-0 libsensors-config libsensors5 libserd-0-0 libshine3 libslang2\n",
      "  libsm6 libsnappy1v5 libsndfile1 libsndio7.0 libsodium23 libsord-0-0 libsoxr0\n",
      "  libspeex1 libsphinxbase3 libsratom-0-0 libsrt1.4-gnutls libssh-gcrypt-4\n",
      "  libswresample3 libswscale5 libthai-data libthai0 libtheora0 libtiff5\n",
      "  libtwolame0 libudfread0 libusb-1.0-0 libva-drm2 libva-x11-2 libva2 libvdpau1\n",
      "  libvidstab1.1 libvorbis0a libvorbisenc2 libvorbisfile3 libvpx7\n",
      "  libwayland-client0 libwayland-cursor0 libwayland-egl1 libwayland-server0\n",
      "  libwebp7 libwebpmux3 libx11-xcb1 libx264-163 libx265-199 libxcb-dri2-0\n",
      "  libxcb-dri3-0 libxcb-glx0 libxcb-present0 libxcb-randr0 libxcb-render0\n",
      "  libxcb-shape0 libxcb-shm0 libxcb-sync1 libxcb-xfixes0 libxcursor1 libxext6\n",
      "  libxfixes3 libxi6 libxinerama1 libxkbcommon0 libxrandr2 libxrender1\n",
      "  libxshmfence1 libxss1 libxv1 libxvidcore4 libxxf86vm1 libzimg2 libzmq5\n",
      "  libzvbi-common libzvbi0 mesa-va-drivers mesa-vdpau-drivers\n",
      "  ocl-icd-libopencl1 pocketsphinx-en-us shared-mime-info va-driver-all\n",
      "  vdpau-driver-all x11-common xkb-data\n",
      "0 upgraded, 178 newly installed, 0 to remove and 28 not upgraded.\n",
      "Need to get 139 MB of archives.\n",
      "After this operation, 434 MB of additional disk space will be used.\n",
      "Get:1 http://archive.ubuntu.com/ubuntu jammy-updates/main amd64 libfribidi0 amd64 1.0.8-2ubuntu3.1 [26.1 kB]\n",
      "Get:2 http://archive.ubuntu.com/ubuntu jammy/main amd64 libslang2 amd64 2.3.2-5build4 [468 kB]\n",
      "Get:3 http://archive.ubuntu.com/ubuntu jammy/main amd64 shared-mime-info amd64 2.1-2 [454 kB]\n",
      "Get:4 http://archive.ubuntu.com/ubuntu jammy/main amd64 xkb-data all 2.33-1 [394 kB]\n",
      "Get:5 http://archive.ubuntu.com/ubuntu jammy-updates/main amd64 libdrm-common all 2.4.113-2~ubuntu0.22.04.1 [5450 B]\n",
      "Get:6 http://archive.ubuntu.com/ubuntu jammy-updates/main amd64 libdrm2 amd64 2.4.113-2~ubuntu0.22.04.1 [38.1 kB]\n",
      "Get:7 http://archive.ubuntu.com/ubuntu jammy/main amd64 libnuma1 amd64 2.0.14-3ubuntu2 [22.5 kB]\n",
      "Get:8 http://archive.ubuntu.com/ubuntu jammy-updates/main amd64 libusb-1.0-0 amd64 2:1.0.25-1ubuntu2 [52.7 kB]\n",
      "Get:9 http://archive.ubuntu.com/ubuntu jammy/main amd64 libxext6 amd64 2:1.3.4-1build1 [31.8 kB]\n",
      "Get:10 http://archive.ubuntu.com/ubuntu jammy/main amd64 alsa-topology-conf all 1.2.5.1-2 [15.5 kB]\n",
      "Get:11 http://archive.ubuntu.com/ubuntu jammy/main amd64 libasound2-data all 1.2.6.1-1ubuntu1 [19.1 kB]\n",
      "Get:12 http://archive.ubuntu.com/ubuntu jammy/main amd64 libasound2 amd64 1.2.6.1-1ubuntu1 [390 kB]\n",
      "Get:13 http://archive.ubuntu.com/ubuntu jammy-updates/main amd64 alsa-ucm-conf all 1.2.6.3-1ubuntu1.12 [43.5 kB]\n",
      "Get:14 http://archive.ubuntu.com/ubuntu jammy/universe amd64 libaom3 amd64 3.3.0-1 [1748 kB]\n",
      "Get:15 http://archive.ubuntu.com/ubuntu jammy/universe amd64 libva2 amd64 2.14.0-1 [65.0 kB]\n",
      "Get:16 http://archive.ubuntu.com/ubuntu jammy/universe amd64 libmfx1 amd64 22.3.0-1 [3105 kB]\n",
      "Get:17 http://archive.ubuntu.com/ubuntu jammy/universe amd64 libva-drm2 amd64 2.14.0-1 [7502 B]\n",
      "Get:18 http://archive.ubuntu.com/ubuntu jammy/main amd64 libxfixes3 amd64 1:6.0.0-1 [11.7 kB]\n",
      "Get:19 http://archive.ubuntu.com/ubuntu jammy/universe amd64 libva-x11-2 amd64 2.14.0-1 [12.6 kB]\n",
      "Get:20 http://archive.ubuntu.com/ubuntu jammy/main amd64 libvdpau1 amd64 1.4-3build2 [27.0 kB]\n",
      "Get:21 http://archive.ubuntu.com/ubuntu jammy/universe amd64 ocl-icd-libopencl1 amd64 2.2.14-3 [39.1 kB]\n",
      "Get:22 http://archive.ubuntu.com/ubuntu jammy-updates/universe amd64 libavutil56 amd64 7:4.4.2-0ubuntu0.22.04.1 [290 kB]\n",
      "Get:23 http://archive.ubuntu.com/ubuntu jammy-updates/main amd64 libfreetype6 amd64 2.11.1+dfsg-1ubuntu0.2 [389 kB]\n",
      "Get:24 http://archive.ubuntu.com/ubuntu jammy/main amd64 fonts-dejavu-core all 2.37-2build1 [1041 kB]\n",
      "Get:25 http://archive.ubuntu.com/ubuntu jammy/main amd64 fontconfig-config all 2.13.1-4.2ubuntu5 [29.1 kB]\n",
      "Get:26 http://archive.ubuntu.com/ubuntu jammy/main amd64 libfontconfig1 amd64 2.13.1-4.2ubuntu5 [131 kB]\n",
      "Get:27 http://archive.ubuntu.com/ubuntu jammy-updates/main amd64 libpixman-1-0 amd64 0.40.0-1ubuntu0.22.04.1 [264 kB]\n",
      "Get:28 http://archive.ubuntu.com/ubuntu jammy/main amd64 libxcb-render0 amd64 1.14-3ubuntu3 [16.4 kB]\n",
      "Get:29 http://archive.ubuntu.com/ubuntu jammy/main amd64 libxcb-shm0 amd64 1.14-3ubuntu3 [5780 B]\n",
      "Get:30 http://archive.ubuntu.com/ubuntu jammy/main amd64 libxrender1 amd64 1:0.9.10-1build4 [19.7 kB]\n",
      "Get:31 http://archive.ubuntu.com/ubuntu jammy/main amd64 libcairo2 amd64 1.16.0-5ubuntu2 [628 kB]\n",
      "Get:32 http://archive.ubuntu.com/ubuntu jammy/universe amd64 libcodec2-1.0 amd64 1.0.1-3 [8435 kB]\n",
      "Get:33 http://archive.ubuntu.com/ubuntu jammy/universe amd64 libdav1d5 amd64 0.9.2-1 [463 kB]\n",
      "Get:34 http://archive.ubuntu.com/ubuntu jammy/universe amd64 libgsm1 amd64 1.0.19-1 [27.7 kB]\n",
      "Get:35 http://archive.ubuntu.com/ubuntu jammy/main amd64 libmp3lame0 amd64 3.100-3build2 [141 kB]\n",
      "Get:36 http://archive.ubuntu.com/ubuntu jammy-updates/main amd64 libopenjp2-7 amd64 2.4.0-6ubuntu0.2 [158 kB]\n",
      "Get:37 http://archive.ubuntu.com/ubuntu jammy/main amd64 libopus0 amd64 1.3.1-0.1build2 [203 kB]\n",
      "Get:38 http://archive.ubuntu.com/ubuntu jammy/main amd64 libcairo-gobject2 amd64 1.16.0-5ubuntu2 [19.4 kB]\n",
      "Get:39 http://archive.ubuntu.com/ubuntu jammy-updates/main amd64 libgdk-pixbuf2.0-common all 2.42.8+dfsg-1ubuntu0.3 [5630 B]\n",
      "Get:40 http://archive.ubuntu.com/ubuntu jammy/main amd64 libdeflate0 amd64 1.10-2 [70.9 kB]\n",
      "Get:41 http://archive.ubuntu.com/ubuntu jammy-updates/main amd64 libjbig0 amd64 2.1-3.1ubuntu0.22.04.1 [29.2 kB]\n",
      "Get:42 http://archive.ubuntu.com/ubuntu jammy-updates/main amd64 libwebp7 amd64 1.2.2-2ubuntu0.22.04.2 [206 kB]\n",
      "Get:43 http://archive.ubuntu.com/ubuntu jammy-updates/main amd64 libtiff5 amd64 4.3.0-6ubuntu0.10 [185 kB]\n",
      "Get:44 http://archive.ubuntu.com/ubuntu jammy-updates/main amd64 libgdk-pixbuf-2.0-0 amd64 2.42.8+dfsg-1ubuntu0.3 [148 kB]\n",
      "Get:45 http://archive.ubuntu.com/ubuntu jammy/main amd64 fontconfig amd64 2.13.1-4.2ubuntu5 [177 kB]\n",
      "Get:46 http://archive.ubuntu.com/ubuntu jammy/main amd64 libgraphite2-3 amd64 1.3.14-1build2 [71.3 kB]\n",
      "Get:47 http://archive.ubuntu.com/ubuntu jammy-updates/main amd64 libharfbuzz0b amd64 2.7.4-1ubuntu3.1 [352 kB]\n",
      "Get:48 http://archive.ubuntu.com/ubuntu jammy/main amd64 libthai-data all 0.1.29-1build1 [162 kB]\n",
      "Get:49 http://archive.ubuntu.com/ubuntu jammy/main amd64 libdatrie1 amd64 0.2.13-2 [19.9 kB]\n",
      "Get:50 http://archive.ubuntu.com/ubuntu jammy/main amd64 libthai0 amd64 0.1.29-1build1 [19.2 kB]\n",
      "Get:51 http://archive.ubuntu.com/ubuntu jammy-updates/main amd64 libpango-1.0-0 amd64 1.50.6+ds-2ubuntu1 [230 kB]\n",
      "Get:52 http://archive.ubuntu.com/ubuntu jammy-updates/main amd64 libpangoft2-1.0-0 amd64 1.50.6+ds-2ubuntu1 [54.0 kB]\n",
      "Get:53 http://archive.ubuntu.com/ubuntu jammy-updates/main amd64 libpangocairo-1.0-0 amd64 1.50.6+ds-2ubuntu1 [39.8 kB]\n",
      "Get:54 http://archive.ubuntu.com/ubuntu jammy-updates/main amd64 librsvg2-2 amd64 2.52.5+dfsg-3ubuntu0.2 [2974 kB]\n",
      "Get:55 http://archive.ubuntu.com/ubuntu jammy/universe amd64 libshine3 amd64 3.1.1-2 [23.2 kB]\n",
      "Get:56 http://archive.ubuntu.com/ubuntu jammy/main amd64 libsnappy1v5 amd64 1.1.8-1build3 [17.5 kB]\n",
      "Get:57 http://archive.ubuntu.com/ubuntu jammy/main amd64 libspeex1 amd64 1.2~rc1.2-1.1ubuntu3 [57.9 kB]\n",
      "Get:58 http://archive.ubuntu.com/ubuntu jammy/main amd64 libsoxr0 amd64 0.1.3-4build2 [79.8 kB]\n",
      "Get:59 http://archive.ubuntu.com/ubuntu jammy-updates/universe amd64 libswresample3 amd64 7:4.4.2-0ubuntu0.22.04.1 [62.2 kB]\n",
      "Get:60 http://archive.ubuntu.com/ubuntu jammy/main amd64 libogg0 amd64 1.3.5-0ubuntu3 [22.9 kB]\n",
      "Get:61 http://archive.ubuntu.com/ubuntu jammy/main amd64 libtheora0 amd64 1.1.1+dfsg.1-15ubuntu4 [209 kB]\n",
      "Get:62 http://archive.ubuntu.com/ubuntu jammy/main amd64 libtwolame0 amd64 0.4.0-2build2 [52.5 kB]\n",
      "Get:63 http://archive.ubuntu.com/ubuntu jammy/main amd64 libvorbis0a amd64 1.3.7-1build2 [99.2 kB]\n",
      "Get:64 http://archive.ubuntu.com/ubuntu jammy/main amd64 libvorbisenc2 amd64 1.3.7-1build2 [82.6 kB]\n",
      "Get:65 http://archive.ubuntu.com/ubuntu jammy-updates/main amd64 libvpx7 amd64 1.11.0-2ubuntu2.3 [1078 kB]\n",
      "Get:66 http://archive.ubuntu.com/ubuntu jammy-updates/main amd64 libwebpmux3 amd64 1.2.2-2ubuntu0.22.04.2 [20.5 kB]\n",
      "Get:67 http://archive.ubuntu.com/ubuntu jammy/universe amd64 libx264-163 amd64 2:0.163.3060+git5db6aa6-2build1 [591 kB]\n",
      "Get:68 http://archive.ubuntu.com/ubuntu jammy/universe amd64 libx265-199 amd64 3.5-2 [1170 kB]\n",
      "Get:69 http://archive.ubuntu.com/ubuntu jammy/universe amd64 libxvidcore4 amd64 2:1.3.7-1 [201 kB]\n",
      "Get:70 http://archive.ubuntu.com/ubuntu jammy/universe amd64 libzvbi-common all 0.2.35-19 [35.5 kB]\n",
      "Get:71 http://archive.ubuntu.com/ubuntu jammy/universe amd64 libzvbi0 amd64 0.2.35-19 [262 kB]\n",
      "Get:72 http://archive.ubuntu.com/ubuntu jammy-updates/universe amd64 libavcodec58 amd64 7:4.4.2-0ubuntu0.22.04.1 [5567 kB]\n",
      "Get:73 http://archive.ubuntu.com/ubuntu jammy/main amd64 libraw1394-11 amd64 2.1.2-2build2 [27.0 kB]\n",
      "Get:74 http://archive.ubuntu.com/ubuntu jammy/main amd64 libavc1394-0 amd64 0.5.4-5build2 [17.0 kB]\n",
      "Get:75 http://archive.ubuntu.com/ubuntu jammy/universe amd64 libass9 amd64 1:0.15.2-1 [97.5 kB]\n",
      "Get:76 http://archive.ubuntu.com/ubuntu jammy/universe amd64 libudfread0 amd64 1.1.2-1 [16.2 kB]\n",
      "Get:77 http://archive.ubuntu.com/ubuntu jammy/universe amd64 libbluray2 amd64 1:1.3.1-1 [159 kB]\n",
      "Get:78 http://archive.ubuntu.com/ubuntu jammy/universe amd64 libchromaprint1 amd64 1.5.1-2 [28.4 kB]\n",
      "Get:79 http://archive.ubuntu.com/ubuntu jammy/universe amd64 libgme0 amd64 0.6.3-2 [127 kB]\n",
      "Get:80 http://archive.ubuntu.com/ubuntu jammy-updates/main amd64 libmpg123-0 amd64 1.29.3-1ubuntu0.1 [172 kB]\n",
      "Get:81 http://archive.ubuntu.com/ubuntu jammy/main amd64 libvorbisfile3 amd64 1.3.7-1build2 [17.1 kB]\n",
      "Get:82 http://archive.ubuntu.com/ubuntu jammy/universe amd64 libopenmpt0 amd64 0.6.1-1 [592 kB]\n",
      "Get:83 http://archive.ubuntu.com/ubuntu jammy/main amd64 librabbitmq4 amd64 0.10.0-1ubuntu2 [39.3 kB]\n",
      "Get:84 http://archive.ubuntu.com/ubuntu jammy/universe amd64 libsrt1.4-gnutls amd64 1.4.4-4 [309 kB]\n",
      "Get:85 http://archive.ubuntu.com/ubuntu jammy-updates/main amd64 libssh-gcrypt-4 amd64 0.9.6-2ubuntu0.22.04.3 [223 kB]\n",
      "Get:86 http://archive.ubuntu.com/ubuntu jammy/universe amd64 libnorm1 amd64 1.5.9+dfsg-2 [221 kB]\n",
      "Get:87 http://archive.ubuntu.com/ubuntu jammy/universe amd64 libpgm-5.3-0 amd64 5.3.128~dfsg-2 [161 kB]\n",
      "Get:88 http://archive.ubuntu.com/ubuntu jammy/main amd64 libsodium23 amd64 1.0.18-1build2 [164 kB]\n",
      "Get:89 http://archive.ubuntu.com/ubuntu jammy/universe amd64 libzmq5 amd64 4.3.4-2 [256 kB]\n",
      "Get:90 http://archive.ubuntu.com/ubuntu jammy-updates/universe amd64 libavformat58 amd64 7:4.4.2-0ubuntu0.22.04.1 [1103 kB]\n",
      "Get:91 http://archive.ubuntu.com/ubuntu jammy/universe amd64 libbs2b0 amd64 3.1.0+dfsg-2.2build1 [10.2 kB]\n",
      "Get:92 http://archive.ubuntu.com/ubuntu jammy/universe amd64 libflite1 amd64 2.2-3 [13.7 MB]\n",
      "Get:93 http://archive.ubuntu.com/ubuntu jammy/universe amd64 libserd-0-0 amd64 0.30.10-2 [40.8 kB]\n",
      "Get:94 http://archive.ubuntu.com/ubuntu jammy/universe amd64 libsord-0-0 amd64 0.16.8-2 [21.2 kB]\n",
      "Get:95 http://archive.ubuntu.com/ubuntu jammy/universe amd64 libsratom-0-0 amd64 0.6.8-1 [17.0 kB]\n",
      "Get:96 http://archive.ubuntu.com/ubuntu jammy/universe amd64 liblilv-0-0 amd64 0.24.12-2 [42.8 kB]\n",
      "Get:97 http://archive.ubuntu.com/ubuntu jammy/universe amd64 libmysofa1 amd64 1.2.1~dfsg0-1 [1157 kB]\n",
      "Get:98 http://archive.ubuntu.com/ubuntu jammy/main amd64 libasyncns0 amd64 0.8-6build2 [12.8 kB]\n",
      "Get:99 http://archive.ubuntu.com/ubuntu jammy-updates/main amd64 libflac8 amd64 1.3.3-2ubuntu0.2 [111 kB]\n",
      "Get:100 http://archive.ubuntu.com/ubuntu jammy-updates/main amd64 libsndfile1 amd64 1.0.31-2ubuntu0.1 [197 kB]\n",
      "Get:101 http://archive.ubuntu.com/ubuntu jammy-updates/main amd64 libx11-xcb1 amd64 2:1.7.5-1ubuntu0.3 [7802 B]\n",
      "Get:102 http://archive.ubuntu.com/ubuntu jammy-updates/main amd64 libpulse0 amd64 1:15.99.1+dfsg1-1ubuntu2.2 [298 kB]\n",
      "Get:103 http://archive.ubuntu.com/ubuntu jammy/universe amd64 libsphinxbase3 amd64 0.8+5prealpha+1-13build1 [126 kB]\n",
      "Get:104 http://archive.ubuntu.com/ubuntu jammy/universe amd64 libpocketsphinx3 amd64 0.8.0+real5prealpha+1-14ubuntu1 [132 kB]\n",
      "Get:105 http://archive.ubuntu.com/ubuntu jammy-updates/universe amd64 libpostproc55 amd64 7:4.4.2-0ubuntu0.22.04.1 [60.1 kB]\n",
      "Get:106 http://archive.ubuntu.com/ubuntu jammy/main amd64 libsamplerate0 amd64 0.2.2-1build1 [1359 kB]\n",
      "Get:107 http://archive.ubuntu.com/ubuntu jammy/universe amd64 librubberband2 amd64 2.0.0-2 [90.0 kB]\n",
      "Get:108 http://archive.ubuntu.com/ubuntu jammy-updates/universe amd64 libswscale5 amd64 7:4.4.2-0ubuntu0.22.04.1 [180 kB]\n",
      "Get:109 http://archive.ubuntu.com/ubuntu jammy/universe amd64 libvidstab1.1 amd64 1.1.0-2 [35.0 kB]\n",
      "Get:110 http://archive.ubuntu.com/ubuntu jammy/universe amd64 libzimg2 amd64 3.0.3+ds1-1 [241 kB]\n",
      "Get:111 http://archive.ubuntu.com/ubuntu jammy-updates/universe amd64 libavfilter7 amd64 7:4.4.2-0ubuntu0.22.04.1 [1496 kB]\n",
      "Get:112 http://archive.ubuntu.com/ubuntu jammy/main amd64 libcaca0 amd64 0.99.beta19-2.2ubuntu4 [224 kB]\n",
      "Get:113 http://archive.ubuntu.com/ubuntu jammy-updates/main amd64 libcdio19 amd64 2.1.0-3ubuntu0.2 [63.6 kB]\n",
      "Get:114 http://archive.ubuntu.com/ubuntu jammy/main amd64 libcdio-cdda2 amd64 10.2+2.0.0-1build3 [16.7 kB]\n",
      "Get:115 http://archive.ubuntu.com/ubuntu jammy/main amd64 libcdio-paranoia2 amd64 10.2+2.0.0-1build3 [15.9 kB]\n",
      "Get:116 http://archive.ubuntu.com/ubuntu jammy/universe amd64 libdc1394-25 amd64 2.2.6-4 [88.8 kB]\n",
      "Get:117 http://archive.ubuntu.com/ubuntu jammy/main amd64 libglvnd0 amd64 1.4.0-1 [73.6 kB]\n",
      "Get:118 http://archive.ubuntu.com/ubuntu jammy-updates/main amd64 libglapi-mesa amd64 23.2.1-1ubuntu3.1~22.04.2 [37.1 kB]\n",
      "Get:119 http://archive.ubuntu.com/ubuntu jammy/main amd64 libxcb-dri2-0 amd64 1.14-3ubuntu3 [7206 B]\n",
      "Get:120 http://archive.ubuntu.com/ubuntu jammy/main amd64 libxcb-dri3-0 amd64 1.14-3ubuntu3 [6968 B]\n",
      "Get:121 http://archive.ubuntu.com/ubuntu jammy/main amd64 libxcb-glx0 amd64 1.14-3ubuntu3 [25.9 kB]\n",
      "Get:122 http://archive.ubuntu.com/ubuntu jammy/main amd64 libxcb-present0 amd64 1.14-3ubuntu3 [5734 B]\n",
      "Get:123 http://archive.ubuntu.com/ubuntu jammy/main amd64 libxcb-randr0 amd64 1.14-3ubuntu3 [18.3 kB]\n",
      "Get:124 http://archive.ubuntu.com/ubuntu jammy/main amd64 libxcb-sync1 amd64 1.14-3ubuntu3 [9416 B]\n",
      "Get:125 http://archive.ubuntu.com/ubuntu jammy/main amd64 libxcb-xfixes0 amd64 1.14-3ubuntu3 [9996 B]\n",
      "Get:126 http://archive.ubuntu.com/ubuntu jammy/main amd64 libxshmfence1 amd64 1.3-1build4 [5394 B]\n",
      "Get:127 http://archive.ubuntu.com/ubuntu jammy/main amd64 libxxf86vm1 amd64 1:1.1.4-1build3 [10.4 kB]\n",
      "Get:128 http://archive.ubuntu.com/ubuntu jammy-updates/main amd64 libdrm-amdgpu1 amd64 2.4.113-2~ubuntu0.22.04.1 [19.9 kB]\n",
      "Get:129 http://archive.ubuntu.com/ubuntu jammy/main amd64 libpciaccess0 amd64 0.16-3 [19.1 kB]\n",
      "Get:130 http://archive.ubuntu.com/ubuntu jammy-updates/main amd64 libdrm-intel1 amd64 2.4.113-2~ubuntu0.22.04.1 [66.7 kB]\n",
      "Get:131 http://archive.ubuntu.com/ubuntu jammy-updates/main amd64 libdrm-nouveau2 amd64 2.4.113-2~ubuntu0.22.04.1 [17.5 kB]\n",
      "Get:132 http://archive.ubuntu.com/ubuntu jammy-updates/main amd64 libdrm-radeon1 amd64 2.4.113-2~ubuntu0.22.04.1 [21.6 kB]\n",
      "Get:133 http://archive.ubuntu.com/ubuntu jammy-updates/main amd64 libllvm15 amd64 1:15.0.7-0ubuntu0.22.04.3 [25.4 MB]\n",
      "Get:134 http://archive.ubuntu.com/ubuntu jammy/main amd64 libsensors-config all 1:3.6.0-7ubuntu1 [5274 B]\n",
      "Get:135 http://archive.ubuntu.com/ubuntu jammy/main amd64 libsensors5 amd64 1:3.6.0-7ubuntu1 [26.3 kB]\n",
      "Get:136 http://archive.ubuntu.com/ubuntu jammy-updates/main amd64 libgl1-mesa-dri amd64 23.2.1-1ubuntu3.1~22.04.2 [8860 kB]\n",
      "Get:137 http://archive.ubuntu.com/ubuntu jammy-updates/main amd64 libglx-mesa0 amd64 23.2.1-1ubuntu3.1~22.04.2 [158 kB]\n",
      "Get:138 http://archive.ubuntu.com/ubuntu jammy/main amd64 libglx0 amd64 1.4.0-1 [41.0 kB]\n",
      "Get:139 http://archive.ubuntu.com/ubuntu jammy/main amd64 libgl1 amd64 1.4.0-1 [110 kB]\n",
      "Get:140 http://archive.ubuntu.com/ubuntu jammy/main amd64 libiec61883-0 amd64 1.2.0-4build3 [25.9 kB]\n",
      "Get:141 http://archive.ubuntu.com/ubuntu jammy/main amd64 libjack-jackd2-0 amd64 1.9.20~dfsg-1 [293 kB]\n",
      "Get:142 http://archive.ubuntu.com/ubuntu jammy/universe amd64 libopenal-data all 1:1.19.1-2build3 [164 kB]\n",
      "Get:143 http://archive.ubuntu.com/ubuntu jammy/universe amd64 libsndio7.0 amd64 1.8.1-1.1 [29.3 kB]\n",
      "Get:144 http://archive.ubuntu.com/ubuntu jammy/universe amd64 libopenal1 amd64 1:1.19.1-2build3 [535 kB]\n",
      "Get:145 http://archive.ubuntu.com/ubuntu jammy-updates/main amd64 libwayland-client0 amd64 1.20.0-1ubuntu0.1 [25.9 kB]\n",
      "Get:146 http://archive.ubuntu.com/ubuntu jammy/main amd64 libdecor-0-0 amd64 0.1.0-3build1 [15.1 kB]\n",
      "Get:147 http://archive.ubuntu.com/ubuntu jammy-updates/main amd64 libwayland-server0 amd64 1.20.0-1ubuntu0.1 [34.3 kB]\n",
      "Get:148 http://archive.ubuntu.com/ubuntu jammy-updates/main amd64 libgbm1 amd64 23.2.1-1ubuntu3.1~22.04.2 [33.5 kB]\n",
      "Get:149 http://archive.ubuntu.com/ubuntu jammy-updates/main amd64 libwayland-cursor0 amd64 1.20.0-1ubuntu0.1 [10.7 kB]\n",
      "Get:150 http://archive.ubuntu.com/ubuntu jammy-updates/main amd64 libwayland-egl1 amd64 1.20.0-1ubuntu0.1 [5582 B]\n",
      "Get:151 http://archive.ubuntu.com/ubuntu jammy/main amd64 libxcursor1 amd64 1:1.2.0-2build4 [20.9 kB]\n",
      "Get:152 http://archive.ubuntu.com/ubuntu jammy/main amd64 libxi6 amd64 2:1.8-1build1 [32.6 kB]\n",
      "Get:153 http://archive.ubuntu.com/ubuntu jammy/main amd64 libxinerama1 amd64 2:1.1.4-3 [7382 B]\n",
      "Get:154 http://archive.ubuntu.com/ubuntu jammy/main amd64 libxkbcommon0 amd64 1.4.0-1 [125 kB]\n",
      "Get:155 http://archive.ubuntu.com/ubuntu jammy/main amd64 libxrandr2 amd64 2:1.5.2-1build1 [20.4 kB]\n",
      "Get:156 http://archive.ubuntu.com/ubuntu jammy/main amd64 x11-common all 1:7.7+23ubuntu2 [23.4 kB]\n",
      "Get:157 http://archive.ubuntu.com/ubuntu jammy/main amd64 libxss1 amd64 1:1.2.3-1build2 [8476 B]\n",
      "Get:158 http://archive.ubuntu.com/ubuntu jammy-updates/main amd64 libsdl2-2.0-0 amd64 2.0.20+dfsg-2ubuntu1.22.04.1 [582 kB]\n",
      "Get:159 http://archive.ubuntu.com/ubuntu jammy/main amd64 libxcb-shape0 amd64 1.14-3ubuntu3 [6158 B]\n",
      "Get:160 http://archive.ubuntu.com/ubuntu jammy/main amd64 libxv1 amd64 2:1.0.11-1build2 [11.2 kB]\n",
      "Get:161 http://archive.ubuntu.com/ubuntu jammy-updates/universe amd64 libavdevice58 amd64 7:4.4.2-0ubuntu0.22.04.1 [87.5 kB]\n",
      "Get:162 http://archive.ubuntu.com/ubuntu jammy-updates/universe amd64 ffmpeg amd64 7:4.4.2-0ubuntu0.22.04.1 [1696 kB]\n",
      "Get:163 http://archive.ubuntu.com/ubuntu jammy/universe amd64 libigdgmm12 amd64 22.1.2+ds1-1 [139 kB]\n",
      "Get:164 http://archive.ubuntu.com/ubuntu jammy-updates/universe amd64 intel-media-va-driver amd64 22.3.1+dfsg1-1ubuntu2 [2283 kB]\n",
      "Get:165 http://archive.ubuntu.com/ubuntu jammy/universe amd64 libaacs0 amd64 0.11.1-1 [64.1 kB]\n",
      "Get:166 http://archive.ubuntu.com/ubuntu jammy/universe amd64 libbdplus0 amd64 0.2.0-1 [52.2 kB]\n",
      "Get:167 http://archive.ubuntu.com/ubuntu jammy/main amd64 libdecor-0-plugin-1-cairo amd64 0.1.0-3build1 [20.4 kB]\n",
      "Get:168 http://archive.ubuntu.com/ubuntu jammy-updates/main amd64 libgdk-pixbuf2.0-bin amd64 2.42.8+dfsg-1ubuntu0.3 [14.2 kB]\n",
      "Get:169 http://archive.ubuntu.com/ubuntu jammy-updates/main amd64 libgl1-amber-dri amd64 21.3.9-0ubuntu1~22.04.1 [4218 kB]\n",
      "Get:170 http://archive.ubuntu.com/ubuntu jammy/main amd64 libice6 amd64 2:1.0.10-1build2 [42.6 kB]\n",
      "Get:171 http://archive.ubuntu.com/ubuntu jammy-updates/main amd64 librsvg2-common amd64 2.52.5+dfsg-3ubuntu0.2 [17.7 kB]\n",
      "Get:172 http://archive.ubuntu.com/ubuntu jammy/main amd64 libsm6 amd64 2:1.2.3-1build2 [16.7 kB]\n",
      "Get:173 http://archive.ubuntu.com/ubuntu jammy-updates/universe amd64 mesa-va-drivers amd64 23.2.1-1ubuntu3.1~22.04.2 [4100 kB]\n",
      "Get:174 http://archive.ubuntu.com/ubuntu jammy-updates/main amd64 mesa-vdpau-drivers amd64 23.2.1-1ubuntu3.1~22.04.2 [3820 kB]\n",
      "Get:175 http://archive.ubuntu.com/ubuntu jammy/universe amd64 i965-va-driver amd64 2.4.1+dfsg1-1 [302 kB]\n",
      "Get:176 http://archive.ubuntu.com/ubuntu jammy/universe amd64 va-driver-all amd64 2.14.0-1 [3984 B]\n",
      "Get:177 http://archive.ubuntu.com/ubuntu jammy/main amd64 vdpau-driver-all amd64 1.4-3build2 [4510 B]\n",
      "Get:178 http://archive.ubuntu.com/ubuntu jammy/universe amd64 pocketsphinx-en-us all 0.8.0+real5prealpha+1-14ubuntu1 [27.6 MB]\n",
      "Fetched 139 MB in 4s (38.5 MB/s)               \n",
      "debconf: delaying package configuration, since apt-utils is not installed\n",
      "Selecting previously unselected package libfribidi0:amd64.\n",
      "(Reading database ... 26331 files and directories currently installed.)\n",
      "Preparing to unpack .../000-libfribidi0_1.0.8-2ubuntu3.1_amd64.deb ...\n",
      "Unpacking libfribidi0:amd64 (1.0.8-2ubuntu3.1) ...\n",
      "Selecting previously unselected package libslang2:amd64.\n",
      "Preparing to unpack .../001-libslang2_2.3.2-5build4_amd64.deb ...\n",
      "Unpacking libslang2:amd64 (2.3.2-5build4) ...\n",
      "Selecting previously unselected package shared-mime-info.\n",
      "Preparing to unpack .../002-shared-mime-info_2.1-2_amd64.deb ...\n",
      "Unpacking shared-mime-info (2.1-2) ...\n",
      "Selecting previously unselected package xkb-data.\n",
      "Preparing to unpack .../003-xkb-data_2.33-1_all.deb ...\n",
      "Unpacking xkb-data (2.33-1) ...\n",
      "Selecting previously unselected package libdrm-common.\n",
      "Preparing to unpack .../004-libdrm-common_2.4.113-2~ubuntu0.22.04.1_all.deb ...\n",
      "Unpacking libdrm-common (2.4.113-2~ubuntu0.22.04.1) ...\n",
      "Selecting previously unselected package libdrm2:amd64.\n",
      "Preparing to unpack .../005-libdrm2_2.4.113-2~ubuntu0.22.04.1_amd64.deb ...\n",
      "Unpacking libdrm2:amd64 (2.4.113-2~ubuntu0.22.04.1) ...\n",
      "Selecting previously unselected package libnuma1:amd64.\n",
      "Preparing to unpack .../006-libnuma1_2.0.14-3ubuntu2_amd64.deb ...\n",
      "Unpacking libnuma1:amd64 (2.0.14-3ubuntu2) ...\n",
      "Selecting previously unselected package libusb-1.0-0:amd64.\n",
      "Preparing to unpack .../007-libusb-1.0-0_2%3a1.0.25-1ubuntu2_amd64.deb ...\n",
      "Unpacking libusb-1.0-0:amd64 (2:1.0.25-1ubuntu2) ...\n",
      "Selecting previously unselected package libxext6:amd64.\n",
      "Preparing to unpack .../008-libxext6_2%3a1.3.4-1build1_amd64.deb ...\n",
      "Unpacking libxext6:amd64 (2:1.3.4-1build1) ...\n",
      "Selecting previously unselected package alsa-topology-conf.\n",
      "Preparing to unpack .../009-alsa-topology-conf_1.2.5.1-2_all.deb ...\n",
      "Unpacking alsa-topology-conf (1.2.5.1-2) ...\n",
      "Selecting previously unselected package libasound2-data.\n",
      "Preparing to unpack .../010-libasound2-data_1.2.6.1-1ubuntu1_all.deb ...\n",
      "Unpacking libasound2-data (1.2.6.1-1ubuntu1) ...\n",
      "Selecting previously unselected package libasound2:amd64.\n",
      "Preparing to unpack .../011-libasound2_1.2.6.1-1ubuntu1_amd64.deb ...\n",
      "Unpacking libasound2:amd64 (1.2.6.1-1ubuntu1) ...\n",
      "Selecting previously unselected package alsa-ucm-conf.\n",
      "Preparing to unpack .../012-alsa-ucm-conf_1.2.6.3-1ubuntu1.12_all.deb ...\n",
      "Unpacking alsa-ucm-conf (1.2.6.3-1ubuntu1.12) ...\n",
      "Selecting previously unselected package libaom3:amd64.\n",
      "Preparing to unpack .../013-libaom3_3.3.0-1_amd64.deb ...\n",
      "Unpacking libaom3:amd64 (3.3.0-1) ...\n",
      "Selecting previously unselected package libva2:amd64.\n",
      "Preparing to unpack .../014-libva2_2.14.0-1_amd64.deb ...\n",
      "Unpacking libva2:amd64 (2.14.0-1) ...\n",
      "Selecting previously unselected package libmfx1:amd64.\n",
      "Preparing to unpack .../015-libmfx1_22.3.0-1_amd64.deb ...\n",
      "Unpacking libmfx1:amd64 (22.3.0-1) ...\n",
      "Selecting previously unselected package libva-drm2:amd64.\n",
      "Preparing to unpack .../016-libva-drm2_2.14.0-1_amd64.deb ...\n",
      "Unpacking libva-drm2:amd64 (2.14.0-1) ...\n",
      "Selecting previously unselected package libxfixes3:amd64.\n",
      "Preparing to unpack .../017-libxfixes3_1%3a6.0.0-1_amd64.deb ...\n",
      "Unpacking libxfixes3:amd64 (1:6.0.0-1) ...\n",
      "Selecting previously unselected package libva-x11-2:amd64.\n",
      "Preparing to unpack .../018-libva-x11-2_2.14.0-1_amd64.deb ...\n",
      "Unpacking libva-x11-2:amd64 (2.14.0-1) ...\n",
      "Selecting previously unselected package libvdpau1:amd64.\n",
      "Preparing to unpack .../019-libvdpau1_1.4-3build2_amd64.deb ...\n",
      "Unpacking libvdpau1:amd64 (1.4-3build2) ...\n",
      "Selecting previously unselected package ocl-icd-libopencl1:amd64.\n",
      "Preparing to unpack .../020-ocl-icd-libopencl1_2.2.14-3_amd64.deb ...\n",
      "Unpacking ocl-icd-libopencl1:amd64 (2.2.14-3) ...\n",
      "Selecting previously unselected package libavutil56:amd64.\n",
      "Preparing to unpack .../021-libavutil56_7%3a4.4.2-0ubuntu0.22.04.1_amd64.deb ...\n",
      "Unpacking libavutil56:amd64 (7:4.4.2-0ubuntu0.22.04.1) ...\n",
      "Selecting previously unselected package libfreetype6:amd64.\n",
      "Preparing to unpack .../022-libfreetype6_2.11.1+dfsg-1ubuntu0.2_amd64.deb ...\n",
      "Unpacking libfreetype6:amd64 (2.11.1+dfsg-1ubuntu0.2) ...\n",
      "Selecting previously unselected package fonts-dejavu-core.\n",
      "Preparing to unpack .../023-fonts-dejavu-core_2.37-2build1_all.deb ...\n",
      "Unpacking fonts-dejavu-core (2.37-2build1) ...\n",
      "Selecting previously unselected package fontconfig-config.\n",
      "Preparing to unpack .../024-fontconfig-config_2.13.1-4.2ubuntu5_all.deb ...\n",
      "Unpacking fontconfig-config (2.13.1-4.2ubuntu5) ...\n",
      "Selecting previously unselected package libfontconfig1:amd64.\n",
      "Preparing to unpack .../025-libfontconfig1_2.13.1-4.2ubuntu5_amd64.deb ...\n",
      "Unpacking libfontconfig1:amd64 (2.13.1-4.2ubuntu5) ...\n",
      "Selecting previously unselected package libpixman-1-0:amd64.\n",
      "Preparing to unpack .../026-libpixman-1-0_0.40.0-1ubuntu0.22.04.1_amd64.deb ...\n",
      "Unpacking libpixman-1-0:amd64 (0.40.0-1ubuntu0.22.04.1) ...\n",
      "Selecting previously unselected package libxcb-render0:amd64.\n",
      "Preparing to unpack .../027-libxcb-render0_1.14-3ubuntu3_amd64.deb ...\n",
      "Unpacking libxcb-render0:amd64 (1.14-3ubuntu3) ...\n",
      "Selecting previously unselected package libxcb-shm0:amd64.\n",
      "Preparing to unpack .../028-libxcb-shm0_1.14-3ubuntu3_amd64.deb ...\n",
      "Unpacking libxcb-shm0:amd64 (1.14-3ubuntu3) ...\n",
      "Selecting previously unselected package libxrender1:amd64.\n",
      "Preparing to unpack .../029-libxrender1_1%3a0.9.10-1build4_amd64.deb ...\n",
      "Unpacking libxrender1:amd64 (1:0.9.10-1build4) ...\n",
      "Selecting previously unselected package libcairo2:amd64.\n",
      "Preparing to unpack .../030-libcairo2_1.16.0-5ubuntu2_amd64.deb ...\n",
      "Unpacking libcairo2:amd64 (1.16.0-5ubuntu2) ...\n",
      "Selecting previously unselected package libcodec2-1.0:amd64.\n",
      "Preparing to unpack .../031-libcodec2-1.0_1.0.1-3_amd64.deb ...\n",
      "Unpacking libcodec2-1.0:amd64 (1.0.1-3) ...\n",
      "Selecting previously unselected package libdav1d5:amd64.\n",
      "Preparing to unpack .../032-libdav1d5_0.9.2-1_amd64.deb ...\n",
      "Unpacking libdav1d5:amd64 (0.9.2-1) ...\n",
      "Selecting previously unselected package libgsm1:amd64.\n",
      "Preparing to unpack .../033-libgsm1_1.0.19-1_amd64.deb ...\n",
      "Unpacking libgsm1:amd64 (1.0.19-1) ...\n",
      "Selecting previously unselected package libmp3lame0:amd64.\n",
      "Preparing to unpack .../034-libmp3lame0_3.100-3build2_amd64.deb ...\n",
      "Unpacking libmp3lame0:amd64 (3.100-3build2) ...\n",
      "Selecting previously unselected package libopenjp2-7:amd64.\n",
      "Preparing to unpack .../035-libopenjp2-7_2.4.0-6ubuntu0.2_amd64.deb ...\n",
      "Unpacking libopenjp2-7:amd64 (2.4.0-6ubuntu0.2) ...\n",
      "Selecting previously unselected package libopus0:amd64.\n",
      "Preparing to unpack .../036-libopus0_1.3.1-0.1build2_amd64.deb ...\n",
      "Unpacking libopus0:amd64 (1.3.1-0.1build2) ...\n",
      "Selecting previously unselected package libcairo-gobject2:amd64.\n",
      "Preparing to unpack .../037-libcairo-gobject2_1.16.0-5ubuntu2_amd64.deb ...\n",
      "Unpacking libcairo-gobject2:amd64 (1.16.0-5ubuntu2) ...\n",
      "Selecting previously unselected package libgdk-pixbuf2.0-common.\n",
      "Preparing to unpack .../038-libgdk-pixbuf2.0-common_2.42.8+dfsg-1ubuntu0.3_all.deb ...\n",
      "Unpacking libgdk-pixbuf2.0-common (2.42.8+dfsg-1ubuntu0.3) ...\n",
      "Selecting previously unselected package libdeflate0:amd64.\n",
      "Preparing to unpack .../039-libdeflate0_1.10-2_amd64.deb ...\n",
      "Unpacking libdeflate0:amd64 (1.10-2) ...\n",
      "Selecting previously unselected package libjbig0:amd64.\n",
      "Preparing to unpack .../040-libjbig0_2.1-3.1ubuntu0.22.04.1_amd64.deb ...\n",
      "Unpacking libjbig0:amd64 (2.1-3.1ubuntu0.22.04.1) ...\n",
      "Selecting previously unselected package libwebp7:amd64.\n",
      "Preparing to unpack .../041-libwebp7_1.2.2-2ubuntu0.22.04.2_amd64.deb ...\n",
      "Unpacking libwebp7:amd64 (1.2.2-2ubuntu0.22.04.2) ...\n",
      "Selecting previously unselected package libtiff5:amd64.\n",
      "Preparing to unpack .../042-libtiff5_4.3.0-6ubuntu0.10_amd64.deb ...\n",
      "Unpacking libtiff5:amd64 (4.3.0-6ubuntu0.10) ...\n",
      "Selecting previously unselected package libgdk-pixbuf-2.0-0:amd64.\n",
      "Preparing to unpack .../043-libgdk-pixbuf-2.0-0_2.42.8+dfsg-1ubuntu0.3_amd64.deb ...\n",
      "Unpacking libgdk-pixbuf-2.0-0:amd64 (2.42.8+dfsg-1ubuntu0.3) ...\n",
      "Selecting previously unselected package fontconfig.\n",
      "Preparing to unpack .../044-fontconfig_2.13.1-4.2ubuntu5_amd64.deb ...\n",
      "Unpacking fontconfig (2.13.1-4.2ubuntu5) ...\n",
      "Selecting previously unselected package libgraphite2-3:amd64.\n",
      "Preparing to unpack .../045-libgraphite2-3_1.3.14-1build2_amd64.deb ...\n",
      "Unpacking libgraphite2-3:amd64 (1.3.14-1build2) ...\n",
      "Selecting previously unselected package libharfbuzz0b:amd64.\n",
      "Preparing to unpack .../046-libharfbuzz0b_2.7.4-1ubuntu3.1_amd64.deb ...\n",
      "Unpacking libharfbuzz0b:amd64 (2.7.4-1ubuntu3.1) ...\n",
      "Selecting previously unselected package libthai-data.\n",
      "Preparing to unpack .../047-libthai-data_0.1.29-1build1_all.deb ...\n",
      "Unpacking libthai-data (0.1.29-1build1) ...\n",
      "Selecting previously unselected package libdatrie1:amd64.\n",
      "Preparing to unpack .../048-libdatrie1_0.2.13-2_amd64.deb ...\n",
      "Unpacking libdatrie1:amd64 (0.2.13-2) ...\n",
      "Selecting previously unselected package libthai0:amd64.\n",
      "Preparing to unpack .../049-libthai0_0.1.29-1build1_amd64.deb ...\n",
      "Unpacking libthai0:amd64 (0.1.29-1build1) ...\n",
      "Selecting previously unselected package libpango-1.0-0:amd64.\n",
      "Preparing to unpack .../050-libpango-1.0-0_1.50.6+ds-2ubuntu1_amd64.deb ...\n",
      "Unpacking libpango-1.0-0:amd64 (1.50.6+ds-2ubuntu1) ...\n",
      "Selecting previously unselected package libpangoft2-1.0-0:amd64.\n",
      "Preparing to unpack .../051-libpangoft2-1.0-0_1.50.6+ds-2ubuntu1_amd64.deb ...\n",
      "Unpacking libpangoft2-1.0-0:amd64 (1.50.6+ds-2ubuntu1) ...\n",
      "Selecting previously unselected package libpangocairo-1.0-0:amd64.\n",
      "Preparing to unpack .../052-libpangocairo-1.0-0_1.50.6+ds-2ubuntu1_amd64.deb ...\n",
      "Unpacking libpangocairo-1.0-0:amd64 (1.50.6+ds-2ubuntu1) ...\n",
      "Selecting previously unselected package librsvg2-2:amd64.\n",
      "Preparing to unpack .../053-librsvg2-2_2.52.5+dfsg-3ubuntu0.2_amd64.deb ...\n",
      "Unpacking librsvg2-2:amd64 (2.52.5+dfsg-3ubuntu0.2) ...\n",
      "Selecting previously unselected package libshine3:amd64.\n",
      "Preparing to unpack .../054-libshine3_3.1.1-2_amd64.deb ...\n",
      "Unpacking libshine3:amd64 (3.1.1-2) ...\n",
      "Selecting previously unselected package libsnappy1v5:amd64.\n",
      "Preparing to unpack .../055-libsnappy1v5_1.1.8-1build3_amd64.deb ...\n",
      "Unpacking libsnappy1v5:amd64 (1.1.8-1build3) ...\n",
      "Selecting previously unselected package libspeex1:amd64.\n",
      "Preparing to unpack .../056-libspeex1_1.2~rc1.2-1.1ubuntu3_amd64.deb ...\n",
      "Unpacking libspeex1:amd64 (1.2~rc1.2-1.1ubuntu3) ...\n",
      "Selecting previously unselected package libsoxr0:amd64.\n",
      "Preparing to unpack .../057-libsoxr0_0.1.3-4build2_amd64.deb ...\n",
      "Unpacking libsoxr0:amd64 (0.1.3-4build2) ...\n",
      "Selecting previously unselected package libswresample3:amd64.\n",
      "Preparing to unpack .../058-libswresample3_7%3a4.4.2-0ubuntu0.22.04.1_amd64.deb ...\n",
      "Unpacking libswresample3:amd64 (7:4.4.2-0ubuntu0.22.04.1) ...\n",
      "Selecting previously unselected package libogg0:amd64.\n",
      "Preparing to unpack .../059-libogg0_1.3.5-0ubuntu3_amd64.deb ...\n",
      "Unpacking libogg0:amd64 (1.3.5-0ubuntu3) ...\n",
      "Selecting previously unselected package libtheora0:amd64.\n",
      "Preparing to unpack .../060-libtheora0_1.1.1+dfsg.1-15ubuntu4_amd64.deb ...\n",
      "Unpacking libtheora0:amd64 (1.1.1+dfsg.1-15ubuntu4) ...\n",
      "Selecting previously unselected package libtwolame0:amd64.\n",
      "Preparing to unpack .../061-libtwolame0_0.4.0-2build2_amd64.deb ...\n",
      "Unpacking libtwolame0:amd64 (0.4.0-2build2) ...\n",
      "Selecting previously unselected package libvorbis0a:amd64.\n",
      "Preparing to unpack .../062-libvorbis0a_1.3.7-1build2_amd64.deb ...\n",
      "Unpacking libvorbis0a:amd64 (1.3.7-1build2) ...\n",
      "Selecting previously unselected package libvorbisenc2:amd64.\n",
      "Preparing to unpack .../063-libvorbisenc2_1.3.7-1build2_amd64.deb ...\n",
      "Unpacking libvorbisenc2:amd64 (1.3.7-1build2) ...\n",
      "Selecting previously unselected package libvpx7:amd64.\n",
      "Preparing to unpack .../064-libvpx7_1.11.0-2ubuntu2.3_amd64.deb ...\n",
      "Unpacking libvpx7:amd64 (1.11.0-2ubuntu2.3) ...\n",
      "Selecting previously unselected package libwebpmux3:amd64.\n",
      "Preparing to unpack .../065-libwebpmux3_1.2.2-2ubuntu0.22.04.2_amd64.deb ...\n",
      "Unpacking libwebpmux3:amd64 (1.2.2-2ubuntu0.22.04.2) ...\n",
      "Selecting previously unselected package libx264-163:amd64.\n",
      "Preparing to unpack .../066-libx264-163_2%3a0.163.3060+git5db6aa6-2build1_amd64.deb ...\n",
      "Unpacking libx264-163:amd64 (2:0.163.3060+git5db6aa6-2build1) ...\n",
      "Selecting previously unselected package libx265-199:amd64.\n",
      "Preparing to unpack .../067-libx265-199_3.5-2_amd64.deb ...\n",
      "Unpacking libx265-199:amd64 (3.5-2) ...\n",
      "Selecting previously unselected package libxvidcore4:amd64.\n",
      "Preparing to unpack .../068-libxvidcore4_2%3a1.3.7-1_amd64.deb ...\n",
      "Unpacking libxvidcore4:amd64 (2:1.3.7-1) ...\n",
      "Selecting previously unselected package libzvbi-common.\n",
      "Preparing to unpack .../069-libzvbi-common_0.2.35-19_all.deb ...\n",
      "Unpacking libzvbi-common (0.2.35-19) ...\n",
      "Selecting previously unselected package libzvbi0:amd64.\n",
      "Preparing to unpack .../070-libzvbi0_0.2.35-19_amd64.deb ...\n",
      "Unpacking libzvbi0:amd64 (0.2.35-19) ...\n",
      "Selecting previously unselected package libavcodec58:amd64.\n",
      "Preparing to unpack .../071-libavcodec58_7%3a4.4.2-0ubuntu0.22.04.1_amd64.deb ...\n",
      "Unpacking libavcodec58:amd64 (7:4.4.2-0ubuntu0.22.04.1) ...\n",
      "Selecting previously unselected package libraw1394-11:amd64.\n",
      "Preparing to unpack .../072-libraw1394-11_2.1.2-2build2_amd64.deb ...\n",
      "Unpacking libraw1394-11:amd64 (2.1.2-2build2) ...\n",
      "Selecting previously unselected package libavc1394-0:amd64.\n",
      "Preparing to unpack .../073-libavc1394-0_0.5.4-5build2_amd64.deb ...\n",
      "Unpacking libavc1394-0:amd64 (0.5.4-5build2) ...\n",
      "Selecting previously unselected package libass9:amd64.\n",
      "Preparing to unpack .../074-libass9_1%3a0.15.2-1_amd64.deb ...\n",
      "Unpacking libass9:amd64 (1:0.15.2-1) ...\n",
      "Selecting previously unselected package libudfread0:amd64.\n",
      "Preparing to unpack .../075-libudfread0_1.1.2-1_amd64.deb ...\n",
      "Unpacking libudfread0:amd64 (1.1.2-1) ...\n",
      "Selecting previously unselected package libbluray2:amd64.\n",
      "Preparing to unpack .../076-libbluray2_1%3a1.3.1-1_amd64.deb ...\n",
      "Unpacking libbluray2:amd64 (1:1.3.1-1) ...\n",
      "Selecting previously unselected package libchromaprint1:amd64.\n",
      "Preparing to unpack .../077-libchromaprint1_1.5.1-2_amd64.deb ...\n",
      "Unpacking libchromaprint1:amd64 (1.5.1-2) ...\n",
      "Selecting previously unselected package libgme0:amd64.\n",
      "Preparing to unpack .../078-libgme0_0.6.3-2_amd64.deb ...\n",
      "Unpacking libgme0:amd64 (0.6.3-2) ...\n",
      "Selecting previously unselected package libmpg123-0:amd64.\n",
      "Preparing to unpack .../079-libmpg123-0_1.29.3-1ubuntu0.1_amd64.deb ...\n",
      "Unpacking libmpg123-0:amd64 (1.29.3-1ubuntu0.1) ...\n",
      "Selecting previously unselected package libvorbisfile3:amd64.\n",
      "Preparing to unpack .../080-libvorbisfile3_1.3.7-1build2_amd64.deb ...\n",
      "Unpacking libvorbisfile3:amd64 (1.3.7-1build2) ...\n",
      "Selecting previously unselected package libopenmpt0:amd64.\n",
      "Preparing to unpack .../081-libopenmpt0_0.6.1-1_amd64.deb ...\n",
      "Unpacking libopenmpt0:amd64 (0.6.1-1) ...\n",
      "Selecting previously unselected package librabbitmq4:amd64.\n",
      "Preparing to unpack .../082-librabbitmq4_0.10.0-1ubuntu2_amd64.deb ...\n",
      "Unpacking librabbitmq4:amd64 (0.10.0-1ubuntu2) ...\n",
      "Selecting previously unselected package libsrt1.4-gnutls:amd64.\n",
      "Preparing to unpack .../083-libsrt1.4-gnutls_1.4.4-4_amd64.deb ...\n",
      "Unpacking libsrt1.4-gnutls:amd64 (1.4.4-4) ...\n",
      "Selecting previously unselected package libssh-gcrypt-4:amd64.\n",
      "Preparing to unpack .../084-libssh-gcrypt-4_0.9.6-2ubuntu0.22.04.3_amd64.deb ...\n",
      "Unpacking libssh-gcrypt-4:amd64 (0.9.6-2ubuntu0.22.04.3) ...\n",
      "Selecting previously unselected package libnorm1:amd64.\n",
      "Preparing to unpack .../085-libnorm1_1.5.9+dfsg-2_amd64.deb ...\n",
      "Unpacking libnorm1:amd64 (1.5.9+dfsg-2) ...\n",
      "Selecting previously unselected package libpgm-5.3-0:amd64.\n",
      "Preparing to unpack .../086-libpgm-5.3-0_5.3.128~dfsg-2_amd64.deb ...\n",
      "Unpacking libpgm-5.3-0:amd64 (5.3.128~dfsg-2) ...\n",
      "Selecting previously unselected package libsodium23:amd64.\n",
      "Preparing to unpack .../087-libsodium23_1.0.18-1build2_amd64.deb ...\n",
      "Unpacking libsodium23:amd64 (1.0.18-1build2) ...\n",
      "Selecting previously unselected package libzmq5:amd64.\n",
      "Preparing to unpack .../088-libzmq5_4.3.4-2_amd64.deb ...\n",
      "Unpacking libzmq5:amd64 (4.3.4-2) ...\n",
      "Selecting previously unselected package libavformat58:amd64.\n",
      "Preparing to unpack .../089-libavformat58_7%3a4.4.2-0ubuntu0.22.04.1_amd64.deb ...\n",
      "Unpacking libavformat58:amd64 (7:4.4.2-0ubuntu0.22.04.1) ...\n",
      "Selecting previously unselected package libbs2b0:amd64.\n",
      "Preparing to unpack .../090-libbs2b0_3.1.0+dfsg-2.2build1_amd64.deb ...\n",
      "Unpacking libbs2b0:amd64 (3.1.0+dfsg-2.2build1) ...\n",
      "Selecting previously unselected package libflite1:amd64.\n",
      "Preparing to unpack .../091-libflite1_2.2-3_amd64.deb ...\n",
      "Unpacking libflite1:amd64 (2.2-3) ...\n",
      "Selecting previously unselected package libserd-0-0:amd64.\n",
      "Preparing to unpack .../092-libserd-0-0_0.30.10-2_amd64.deb ...\n",
      "Unpacking libserd-0-0:amd64 (0.30.10-2) ...\n",
      "Selecting previously unselected package libsord-0-0:amd64.\n",
      "Preparing to unpack .../093-libsord-0-0_0.16.8-2_amd64.deb ...\n",
      "Unpacking libsord-0-0:amd64 (0.16.8-2) ...\n",
      "Selecting previously unselected package libsratom-0-0:amd64.\n",
      "Preparing to unpack .../094-libsratom-0-0_0.6.8-1_amd64.deb ...\n",
      "Unpacking libsratom-0-0:amd64 (0.6.8-1) ...\n",
      "Selecting previously unselected package liblilv-0-0:amd64.\n",
      "Preparing to unpack .../095-liblilv-0-0_0.24.12-2_amd64.deb ...\n",
      "Unpacking liblilv-0-0:amd64 (0.24.12-2) ...\n",
      "Selecting previously unselected package libmysofa1:amd64.\n",
      "Preparing to unpack .../096-libmysofa1_1.2.1~dfsg0-1_amd64.deb ...\n",
      "Unpacking libmysofa1:amd64 (1.2.1~dfsg0-1) ...\n",
      "Selecting previously unselected package libasyncns0:amd64.\n",
      "Preparing to unpack .../097-libasyncns0_0.8-6build2_amd64.deb ...\n",
      "Unpacking libasyncns0:amd64 (0.8-6build2) ...\n",
      "Selecting previously unselected package libflac8:amd64.\n",
      "Preparing to unpack .../098-libflac8_1.3.3-2ubuntu0.2_amd64.deb ...\n",
      "Unpacking libflac8:amd64 (1.3.3-2ubuntu0.2) ...\n",
      "Selecting previously unselected package libsndfile1:amd64.\n",
      "Preparing to unpack .../099-libsndfile1_1.0.31-2ubuntu0.1_amd64.deb ...\n",
      "Unpacking libsndfile1:amd64 (1.0.31-2ubuntu0.1) ...\n",
      "Selecting previously unselected package libx11-xcb1:amd64.\n",
      "Preparing to unpack .../100-libx11-xcb1_2%3a1.7.5-1ubuntu0.3_amd64.deb ...\n",
      "Unpacking libx11-xcb1:amd64 (2:1.7.5-1ubuntu0.3) ...\n",
      "Selecting previously unselected package libpulse0:amd64.\n",
      "Preparing to unpack .../101-libpulse0_1%3a15.99.1+dfsg1-1ubuntu2.2_amd64.deb ...\n",
      "Unpacking libpulse0:amd64 (1:15.99.1+dfsg1-1ubuntu2.2) ...\n",
      "Selecting previously unselected package libsphinxbase3:amd64.\n",
      "Preparing to unpack .../102-libsphinxbase3_0.8+5prealpha+1-13build1_amd64.deb ...\n",
      "Unpacking libsphinxbase3:amd64 (0.8+5prealpha+1-13build1) ...\n",
      "Selecting previously unselected package libpocketsphinx3:amd64.\n",
      "Preparing to unpack .../103-libpocketsphinx3_0.8.0+real5prealpha+1-14ubuntu1_amd64.deb ...\n",
      "Unpacking libpocketsphinx3:amd64 (0.8.0+real5prealpha+1-14ubuntu1) ...\n",
      "Selecting previously unselected package libpostproc55:amd64.\n",
      "Preparing to unpack .../104-libpostproc55_7%3a4.4.2-0ubuntu0.22.04.1_amd64.deb ...\n",
      "Unpacking libpostproc55:amd64 (7:4.4.2-0ubuntu0.22.04.1) ...\n",
      "Selecting previously unselected package libsamplerate0:amd64.\n",
      "Preparing to unpack .../105-libsamplerate0_0.2.2-1build1_amd64.deb ...\n",
      "Unpacking libsamplerate0:amd64 (0.2.2-1build1) ...\n",
      "Selecting previously unselected package librubberband2:amd64.\n",
      "Preparing to unpack .../106-librubberband2_2.0.0-2_amd64.deb ...\n",
      "Unpacking librubberband2:amd64 (2.0.0-2) ...\n",
      "Selecting previously unselected package libswscale5:amd64.\n",
      "Preparing to unpack .../107-libswscale5_7%3a4.4.2-0ubuntu0.22.04.1_amd64.deb ...\n",
      "Unpacking libswscale5:amd64 (7:4.4.2-0ubuntu0.22.04.1) ...\n",
      "Selecting previously unselected package libvidstab1.1:amd64.\n",
      "Preparing to unpack .../108-libvidstab1.1_1.1.0-2_amd64.deb ...\n",
      "Unpacking libvidstab1.1:amd64 (1.1.0-2) ...\n",
      "Selecting previously unselected package libzimg2:amd64.\n",
      "Preparing to unpack .../109-libzimg2_3.0.3+ds1-1_amd64.deb ...\n",
      "Unpacking libzimg2:amd64 (3.0.3+ds1-1) ...\n",
      "Selecting previously unselected package libavfilter7:amd64.\n",
      "Preparing to unpack .../110-libavfilter7_7%3a4.4.2-0ubuntu0.22.04.1_amd64.deb ...\n",
      "Unpacking libavfilter7:amd64 (7:4.4.2-0ubuntu0.22.04.1) ...\n",
      "Selecting previously unselected package libcaca0:amd64.\n",
      "Preparing to unpack .../111-libcaca0_0.99.beta19-2.2ubuntu4_amd64.deb ...\n",
      "Unpacking libcaca0:amd64 (0.99.beta19-2.2ubuntu4) ...\n",
      "Selecting previously unselected package libcdio19:amd64.\n",
      "Preparing to unpack .../112-libcdio19_2.1.0-3ubuntu0.2_amd64.deb ...\n",
      "Unpacking libcdio19:amd64 (2.1.0-3ubuntu0.2) ...\n",
      "Selecting previously unselected package libcdio-cdda2:amd64.\n",
      "Preparing to unpack .../113-libcdio-cdda2_10.2+2.0.0-1build3_amd64.deb ...\n",
      "Unpacking libcdio-cdda2:amd64 (10.2+2.0.0-1build3) ...\n",
      "Selecting previously unselected package libcdio-paranoia2:amd64.\n",
      "Preparing to unpack .../114-libcdio-paranoia2_10.2+2.0.0-1build3_amd64.deb ...\n",
      "Unpacking libcdio-paranoia2:amd64 (10.2+2.0.0-1build3) ...\n",
      "Selecting previously unselected package libdc1394-25:amd64.\n",
      "Preparing to unpack .../115-libdc1394-25_2.2.6-4_amd64.deb ...\n",
      "Unpacking libdc1394-25:amd64 (2.2.6-4) ...\n",
      "Selecting previously unselected package libglvnd0:amd64.\n",
      "Preparing to unpack .../116-libglvnd0_1.4.0-1_amd64.deb ...\n",
      "Unpacking libglvnd0:amd64 (1.4.0-1) ...\n",
      "Selecting previously unselected package libglapi-mesa:amd64.\n",
      "Preparing to unpack .../117-libglapi-mesa_23.2.1-1ubuntu3.1~22.04.2_amd64.deb ...\n",
      "Unpacking libglapi-mesa:amd64 (23.2.1-1ubuntu3.1~22.04.2) ...\n",
      "Selecting previously unselected package libxcb-dri2-0:amd64.\n",
      "Preparing to unpack .../118-libxcb-dri2-0_1.14-3ubuntu3_amd64.deb ...\n",
      "Unpacking libxcb-dri2-0:amd64 (1.14-3ubuntu3) ...\n",
      "Selecting previously unselected package libxcb-dri3-0:amd64.\n",
      "Preparing to unpack .../119-libxcb-dri3-0_1.14-3ubuntu3_amd64.deb ...\n",
      "Unpacking libxcb-dri3-0:amd64 (1.14-3ubuntu3) ...\n",
      "Selecting previously unselected package libxcb-glx0:amd64.\n",
      "Preparing to unpack .../120-libxcb-glx0_1.14-3ubuntu3_amd64.deb ...\n",
      "Unpacking libxcb-glx0:amd64 (1.14-3ubuntu3) ...\n",
      "Selecting previously unselected package libxcb-present0:amd64.\n",
      "Preparing to unpack .../121-libxcb-present0_1.14-3ubuntu3_amd64.deb ...\n",
      "Unpacking libxcb-present0:amd64 (1.14-3ubuntu3) ...\n",
      "Selecting previously unselected package libxcb-randr0:amd64.\n",
      "Preparing to unpack .../122-libxcb-randr0_1.14-3ubuntu3_amd64.deb ...\n",
      "Unpacking libxcb-randr0:amd64 (1.14-3ubuntu3) ...\n",
      "Selecting previously unselected package libxcb-sync1:amd64.\n",
      "Preparing to unpack .../123-libxcb-sync1_1.14-3ubuntu3_amd64.deb ...\n",
      "Unpacking libxcb-sync1:amd64 (1.14-3ubuntu3) ...\n",
      "Selecting previously unselected package libxcb-xfixes0:amd64.\n",
      "Preparing to unpack .../124-libxcb-xfixes0_1.14-3ubuntu3_amd64.deb ...\n",
      "Unpacking libxcb-xfixes0:amd64 (1.14-3ubuntu3) ...\n",
      "Selecting previously unselected package libxshmfence1:amd64.\n",
      "Preparing to unpack .../125-libxshmfence1_1.3-1build4_amd64.deb ...\n",
      "Unpacking libxshmfence1:amd64 (1.3-1build4) ...\n",
      "Selecting previously unselected package libxxf86vm1:amd64.\n",
      "Preparing to unpack .../126-libxxf86vm1_1%3a1.1.4-1build3_amd64.deb ...\n",
      "Unpacking libxxf86vm1:amd64 (1:1.1.4-1build3) ...\n",
      "Selecting previously unselected package libdrm-amdgpu1:amd64.\n",
      "Preparing to unpack .../127-libdrm-amdgpu1_2.4.113-2~ubuntu0.22.04.1_amd64.deb ...\n",
      "Unpacking libdrm-amdgpu1:amd64 (2.4.113-2~ubuntu0.22.04.1) ...\n",
      "Selecting previously unselected package libpciaccess0:amd64.\n",
      "Preparing to unpack .../128-libpciaccess0_0.16-3_amd64.deb ...\n",
      "Unpacking libpciaccess0:amd64 (0.16-3) ...\n",
      "Selecting previously unselected package libdrm-intel1:amd64.\n",
      "Preparing to unpack .../129-libdrm-intel1_2.4.113-2~ubuntu0.22.04.1_amd64.deb ...\n",
      "Unpacking libdrm-intel1:amd64 (2.4.113-2~ubuntu0.22.04.1) ...\n",
      "Selecting previously unselected package libdrm-nouveau2:amd64.\n",
      "Preparing to unpack .../130-libdrm-nouveau2_2.4.113-2~ubuntu0.22.04.1_amd64.deb ...\n",
      "Unpacking libdrm-nouveau2:amd64 (2.4.113-2~ubuntu0.22.04.1) ...\n",
      "Selecting previously unselected package libdrm-radeon1:amd64.\n",
      "Preparing to unpack .../131-libdrm-radeon1_2.4.113-2~ubuntu0.22.04.1_amd64.deb ...\n",
      "Unpacking libdrm-radeon1:amd64 (2.4.113-2~ubuntu0.22.04.1) ...\n",
      "Selecting previously unselected package libllvm15:amd64.\n",
      "Preparing to unpack .../132-libllvm15_1%3a15.0.7-0ubuntu0.22.04.3_amd64.deb ...\n",
      "Unpacking libllvm15:amd64 (1:15.0.7-0ubuntu0.22.04.3) ...\n",
      "Selecting previously unselected package libsensors-config.\n",
      "Preparing to unpack .../133-libsensors-config_1%3a3.6.0-7ubuntu1_all.deb ...\n",
      "Unpacking libsensors-config (1:3.6.0-7ubuntu1) ...\n",
      "Selecting previously unselected package libsensors5:amd64.\n",
      "Preparing to unpack .../134-libsensors5_1%3a3.6.0-7ubuntu1_amd64.deb ...\n",
      "Unpacking libsensors5:amd64 (1:3.6.0-7ubuntu1) ...\n",
      "Selecting previously unselected package libgl1-mesa-dri:amd64.\n",
      "Preparing to unpack .../135-libgl1-mesa-dri_23.2.1-1ubuntu3.1~22.04.2_amd64.deb ...\n",
      "Unpacking libgl1-mesa-dri:amd64 (23.2.1-1ubuntu3.1~22.04.2) ...\n",
      "Selecting previously unselected package libglx-mesa0:amd64.\n",
      "Preparing to unpack .../136-libglx-mesa0_23.2.1-1ubuntu3.1~22.04.2_amd64.deb ...\n",
      "Unpacking libglx-mesa0:amd64 (23.2.1-1ubuntu3.1~22.04.2) ...\n",
      "Selecting previously unselected package libglx0:amd64.\n",
      "Preparing to unpack .../137-libglx0_1.4.0-1_amd64.deb ...\n",
      "Unpacking libglx0:amd64 (1.4.0-1) ...\n",
      "Selecting previously unselected package libgl1:amd64.\n",
      "Preparing to unpack .../138-libgl1_1.4.0-1_amd64.deb ...\n",
      "Unpacking libgl1:amd64 (1.4.0-1) ...\n",
      "Selecting previously unselected package libiec61883-0:amd64.\n",
      "Preparing to unpack .../139-libiec61883-0_1.2.0-4build3_amd64.deb ...\n",
      "Unpacking libiec61883-0:amd64 (1.2.0-4build3) ...\n",
      "Selecting previously unselected package libjack-jackd2-0:amd64.\n",
      "Preparing to unpack .../140-libjack-jackd2-0_1.9.20~dfsg-1_amd64.deb ...\n",
      "Unpacking libjack-jackd2-0:amd64 (1.9.20~dfsg-1) ...\n",
      "Selecting previously unselected package libopenal-data.\n",
      "Preparing to unpack .../141-libopenal-data_1%3a1.19.1-2build3_all.deb ...\n",
      "Unpacking libopenal-data (1:1.19.1-2build3) ...\n",
      "Selecting previously unselected package libsndio7.0:amd64.\n",
      "Preparing to unpack .../142-libsndio7.0_1.8.1-1.1_amd64.deb ...\n",
      "Unpacking libsndio7.0:amd64 (1.8.1-1.1) ...\n",
      "Selecting previously unselected package libopenal1:amd64.\n",
      "Preparing to unpack .../143-libopenal1_1%3a1.19.1-2build3_amd64.deb ...\n",
      "Unpacking libopenal1:amd64 (1:1.19.1-2build3) ...\n",
      "Selecting previously unselected package libwayland-client0:amd64.\n",
      "Preparing to unpack .../144-libwayland-client0_1.20.0-1ubuntu0.1_amd64.deb ...\n",
      "Unpacking libwayland-client0:amd64 (1.20.0-1ubuntu0.1) ...\n",
      "Selecting previously unselected package libdecor-0-0:amd64.\n",
      "Preparing to unpack .../145-libdecor-0-0_0.1.0-3build1_amd64.deb ...\n",
      "Unpacking libdecor-0-0:amd64 (0.1.0-3build1) ...\n",
      "Selecting previously unselected package libwayland-server0:amd64.\n",
      "Preparing to unpack .../146-libwayland-server0_1.20.0-1ubuntu0.1_amd64.deb ...\n",
      "Unpacking libwayland-server0:amd64 (1.20.0-1ubuntu0.1) ...\n",
      "Selecting previously unselected package libgbm1:amd64.\n",
      "Preparing to unpack .../147-libgbm1_23.2.1-1ubuntu3.1~22.04.2_amd64.deb ...\n",
      "Unpacking libgbm1:amd64 (23.2.1-1ubuntu3.1~22.04.2) ...\n",
      "Selecting previously unselected package libwayland-cursor0:amd64.\n",
      "Preparing to unpack .../148-libwayland-cursor0_1.20.0-1ubuntu0.1_amd64.deb ...\n",
      "Unpacking libwayland-cursor0:amd64 (1.20.0-1ubuntu0.1) ...\n",
      "Selecting previously unselected package libwayland-egl1:amd64.\n",
      "Preparing to unpack .../149-libwayland-egl1_1.20.0-1ubuntu0.1_amd64.deb ...\n",
      "Unpacking libwayland-egl1:amd64 (1.20.0-1ubuntu0.1) ...\n",
      "Selecting previously unselected package libxcursor1:amd64.\n",
      "Preparing to unpack .../150-libxcursor1_1%3a1.2.0-2build4_amd64.deb ...\n",
      "Unpacking libxcursor1:amd64 (1:1.2.0-2build4) ...\n",
      "Selecting previously unselected package libxi6:amd64.\n",
      "Preparing to unpack .../151-libxi6_2%3a1.8-1build1_amd64.deb ...\n",
      "Unpacking libxi6:amd64 (2:1.8-1build1) ...\n",
      "Selecting previously unselected package libxinerama1:amd64.\n",
      "Preparing to unpack .../152-libxinerama1_2%3a1.1.4-3_amd64.deb ...\n",
      "Unpacking libxinerama1:amd64 (2:1.1.4-3) ...\n",
      "Selecting previously unselected package libxkbcommon0:amd64.\n",
      "Preparing to unpack .../153-libxkbcommon0_1.4.0-1_amd64.deb ...\n",
      "Unpacking libxkbcommon0:amd64 (1.4.0-1) ...\n",
      "Selecting previously unselected package libxrandr2:amd64.\n",
      "Preparing to unpack .../154-libxrandr2_2%3a1.5.2-1build1_amd64.deb ...\n",
      "Unpacking libxrandr2:amd64 (2:1.5.2-1build1) ...\n",
      "Selecting previously unselected package x11-common.\n",
      "Preparing to unpack .../155-x11-common_1%3a7.7+23ubuntu2_all.deb ...\n",
      "Unpacking x11-common (1:7.7+23ubuntu2) ...\n",
      "Selecting previously unselected package libxss1:amd64.\n",
      "Preparing to unpack .../156-libxss1_1%3a1.2.3-1build2_amd64.deb ...\n",
      "Unpacking libxss1:amd64 (1:1.2.3-1build2) ...\n",
      "Selecting previously unselected package libsdl2-2.0-0:amd64.\n",
      "Preparing to unpack .../157-libsdl2-2.0-0_2.0.20+dfsg-2ubuntu1.22.04.1_amd64.deb ...\n",
      "Unpacking libsdl2-2.0-0:amd64 (2.0.20+dfsg-2ubuntu1.22.04.1) ...\n",
      "Selecting previously unselected package libxcb-shape0:amd64.\n",
      "Preparing to unpack .../158-libxcb-shape0_1.14-3ubuntu3_amd64.deb ...\n",
      "Unpacking libxcb-shape0:amd64 (1.14-3ubuntu3) ...\n",
      "Selecting previously unselected package libxv1:amd64.\n",
      "Preparing to unpack .../159-libxv1_2%3a1.0.11-1build2_amd64.deb ...\n",
      "Unpacking libxv1:amd64 (2:1.0.11-1build2) ...\n",
      "Selecting previously unselected package libavdevice58:amd64.\n",
      "Preparing to unpack .../160-libavdevice58_7%3a4.4.2-0ubuntu0.22.04.1_amd64.deb ...\n",
      "Unpacking libavdevice58:amd64 (7:4.4.2-0ubuntu0.22.04.1) ...\n",
      "Selecting previously unselected package ffmpeg.\n",
      "Preparing to unpack .../161-ffmpeg_7%3a4.4.2-0ubuntu0.22.04.1_amd64.deb ...\n",
      "Unpacking ffmpeg (7:4.4.2-0ubuntu0.22.04.1) ...\n",
      "Selecting previously unselected package libigdgmm12:amd64.\n",
      "Preparing to unpack .../162-libigdgmm12_22.1.2+ds1-1_amd64.deb ...\n",
      "Unpacking libigdgmm12:amd64 (22.1.2+ds1-1) ...\n",
      "Selecting previously unselected package intel-media-va-driver:amd64.\n",
      "Preparing to unpack .../163-intel-media-va-driver_22.3.1+dfsg1-1ubuntu2_amd64.deb ...\n",
      "Unpacking intel-media-va-driver:amd64 (22.3.1+dfsg1-1ubuntu2) ...\n",
      "Selecting previously unselected package libaacs0:amd64.\n",
      "Preparing to unpack .../164-libaacs0_0.11.1-1_amd64.deb ...\n",
      "Unpacking libaacs0:amd64 (0.11.1-1) ...\n",
      "Selecting previously unselected package libbdplus0:amd64.\n",
      "Preparing to unpack .../165-libbdplus0_0.2.0-1_amd64.deb ...\n",
      "Unpacking libbdplus0:amd64 (0.2.0-1) ...\n",
      "Selecting previously unselected package libdecor-0-plugin-1-cairo:amd64.\n",
      "Preparing to unpack .../166-libdecor-0-plugin-1-cairo_0.1.0-3build1_amd64.deb ...\n",
      "Unpacking libdecor-0-plugin-1-cairo:amd64 (0.1.0-3build1) ...\n",
      "Selecting previously unselected package libgdk-pixbuf2.0-bin.\n",
      "Preparing to unpack .../167-libgdk-pixbuf2.0-bin_2.42.8+dfsg-1ubuntu0.3_amd64.deb ...\n",
      "Unpacking libgdk-pixbuf2.0-bin (2.42.8+dfsg-1ubuntu0.3) ...\n",
      "Selecting previously unselected package libgl1-amber-dri:amd64.\n",
      "Preparing to unpack .../168-libgl1-amber-dri_21.3.9-0ubuntu1~22.04.1_amd64.deb ...\n",
      "Unpacking libgl1-amber-dri:amd64 (21.3.9-0ubuntu1~22.04.1) ...\n",
      "Selecting previously unselected package libice6:amd64.\n",
      "Preparing to unpack .../169-libice6_2%3a1.0.10-1build2_amd64.deb ...\n",
      "Unpacking libice6:amd64 (2:1.0.10-1build2) ...\n",
      "Selecting previously unselected package librsvg2-common:amd64.\n",
      "Preparing to unpack .../170-librsvg2-common_2.52.5+dfsg-3ubuntu0.2_amd64.deb ...\n",
      "Unpacking librsvg2-common:amd64 (2.52.5+dfsg-3ubuntu0.2) ...\n",
      "Selecting previously unselected package libsm6:amd64.\n",
      "Preparing to unpack .../171-libsm6_2%3a1.2.3-1build2_amd64.deb ...\n",
      "Unpacking libsm6:amd64 (2:1.2.3-1build2) ...\n",
      "Selecting previously unselected package mesa-va-drivers:amd64.\n",
      "Preparing to unpack .../172-mesa-va-drivers_23.2.1-1ubuntu3.1~22.04.2_amd64.deb ...\n",
      "Unpacking mesa-va-drivers:amd64 (23.2.1-1ubuntu3.1~22.04.2) ...\n",
      "Selecting previously unselected package mesa-vdpau-drivers:amd64.\n",
      "Preparing to unpack .../173-mesa-vdpau-drivers_23.2.1-1ubuntu3.1~22.04.2_amd64.deb ...\n",
      "Unpacking mesa-vdpau-drivers:amd64 (23.2.1-1ubuntu3.1~22.04.2) ...\n",
      "Selecting previously unselected package i965-va-driver:amd64.\n",
      "Preparing to unpack .../174-i965-va-driver_2.4.1+dfsg1-1_amd64.deb ...\n",
      "Unpacking i965-va-driver:amd64 (2.4.1+dfsg1-1) ...\n",
      "Selecting previously unselected package va-driver-all:amd64.\n",
      "Preparing to unpack .../175-va-driver-all_2.14.0-1_amd64.deb ...\n",
      "Unpacking va-driver-all:amd64 (2.14.0-1) ...\n",
      "Selecting previously unselected package vdpau-driver-all:amd64.\n",
      "Preparing to unpack .../176-vdpau-driver-all_1.4-3build2_amd64.deb ...\n",
      "Unpacking vdpau-driver-all:amd64 (1.4-3build2) ...\n",
      "Selecting previously unselected package pocketsphinx-en-us.\n",
      "Preparing to unpack .../177-pocketsphinx-en-us_0.8.0+real5prealpha+1-14ubuntu1_all.deb ...\n",
      "Unpacking pocketsphinx-en-us (0.8.0+real5prealpha+1-14ubuntu1) ...\n",
      "Setting up libgme0:amd64 (0.6.3-2) ...\n",
      "Setting up libssh-gcrypt-4:amd64 (0.9.6-2ubuntu0.22.04.3) ...\n",
      "Setting up libgraphite2-3:amd64 (1.3.14-1build2) ...\n",
      "Setting up libsrt1.4-gnutls:amd64 (1.4.4-4) ...\n",
      "Setting up libxcb-dri3-0:amd64 (1.14-3ubuntu3) ...\n",
      "Setting up libpixman-1-0:amd64 (0.40.0-1ubuntu0.22.04.1) ...\n",
      "Setting up libudfread0:amd64 (1.1.2-1) ...\n",
      "Setting up libwayland-server0:amd64 (1.20.0-1ubuntu0.1) ...\n",
      "Setting up libaom3:amd64 (3.3.0-1) ...\n",
      "Setting up libx11-xcb1:amd64 (2:1.7.5-1ubuntu0.3) ...\n",
      "Setting up libpciaccess0:amd64 (0.16-3) ...\n",
      "Setting up librabbitmq4:amd64 (0.10.0-1ubuntu2) ...\n",
      "Setting up libraw1394-11:amd64 (2.1.2-2build2) ...\n",
      "Setting up libcodec2-1.0:amd64 (1.0.1-3) ...\n",
      "Setting up libsodium23:amd64 (1.0.18-1build2) ...\n",
      "Setting up libmpg123-0:amd64 (1.29.3-1ubuntu0.1) ...\n",
      "Setting up libxcb-xfixes0:amd64 (1.14-3ubuntu3) ...\n",
      "Setting up libogg0:amd64 (1.3.5-0ubuntu3) ...\n",
      "Setting up libspeex1:amd64 (1.2~rc1.2-1.1ubuntu3) ...\n",
      "Setting up libshine3:amd64 (3.1.1-2) ...\n",
      "Setting up libtwolame0:amd64 (0.4.0-2build2) ...\n",
      "Setting up libxrender1:amd64 (1:0.9.10-1build4) ...\n",
      "Setting up libdatrie1:amd64 (0.2.13-2) ...\n",
      "Setting up libgsm1:amd64 (1.0.19-1) ...\n",
      "Setting up libxcb-render0:amd64 (1.14-3ubuntu3) ...\n",
      "Setting up libsoxr0:amd64 (0.1.3-4build2) ...\n",
      "Setting up libglvnd0:amd64 (1.4.0-1) ...\n",
      "Setting up libpgm-5.3-0:amd64 (5.3.128~dfsg-2) ...\n",
      "Setting up libxcb-glx0:amd64 (1.14-3ubuntu3) ...\n",
      "Setting up libgdk-pixbuf2.0-common (2.42.8+dfsg-1ubuntu0.3) ...\n",
      "Setting up libnorm1:amd64 (1.5.9+dfsg-2) ...\n",
      "Setting up libmysofa1:amd64 (1.2.1~dfsg0-1) ...\n",
      "Setting up libxcb-shape0:amd64 (1.14-3ubuntu3) ...\n",
      "Setting up x11-common (1:7.7+23ubuntu2) ...\n",
      "invoke-rc.d: could not determine current runlevel\n",
      "invoke-rc.d: policy-rc.d denied execution of start.\n",
      "Setting up libsensors-config (1:3.6.0-7ubuntu1) ...\n",
      "Setting up libdeflate0:amd64 (1.10-2) ...\n",
      "Setting up libxext6:amd64 (2:1.3.4-1build1) ...\n",
      "Setting up xkb-data (2.33-1) ...\n",
      "Setting up libxcb-shm0:amd64 (1.14-3ubuntu3) ...\n",
      "Setting up libigdgmm12:amd64 (22.1.2+ds1-1) ...\n",
      "Setting up libcdio19:amd64 (2.1.0-3ubuntu0.2) ...\n",
      "Setting up libxvidcore4:amd64 (2:1.3.7-1) ...\n",
      "Setting up libjbig0:amd64 (2.1-3.1ubuntu0.22.04.1) ...\n",
      "Setting up libxxf86vm1:amd64 (1:1.1.4-1build3) ...\n",
      "Setting up libsnappy1v5:amd64 (1.1.8-1build3) ...\n",
      "Setting up libflac8:amd64 (1.3.3-2ubuntu0.2) ...\n",
      "Setting up libxcb-present0:amd64 (1.14-3ubuntu3) ...\n",
      "Setting up libasound2-data (1.2.6.1-1ubuntu1) ...\n",
      "Setting up libslang2:amd64 (2.3.2-5build4) ...\n",
      "Setting up libva2:amd64 (2.14.0-1) ...\n",
      "Setting up libfreetype6:amd64 (2.11.1+dfsg-1ubuntu0.2) ...\n",
      "Setting up libxfixes3:amd64 (1:6.0.0-1) ...\n",
      "Setting up libxcb-sync1:amd64 (1.14-3ubuntu3) ...\n",
      "Setting up libx264-163:amd64 (2:0.163.3060+git5db6aa6-2build1) ...\n",
      "Setting up libfribidi0:amd64 (1.0.8-2ubuntu3.1) ...\n",
      "Setting up libopus0:amd64 (1.3.1-0.1build2) ...\n",
      "Setting up shared-mime-info (2.1-2) ...\n",
      "Setting up libxinerama1:amd64 (2:1.1.4-3) ...\n",
      "Setting up intel-media-va-driver:amd64 (22.3.1+dfsg1-1ubuntu2) ...\n",
      "Setting up libxv1:amd64 (2:1.0.11-1build2) ...\n",
      "Setting up libvorbis0a:amd64 (1.3.7-1build2) ...\n",
      "Setting up libxrandr2:amd64 (2:1.5.2-1build1) ...\n",
      "Setting up fonts-dejavu-core (2.37-2build1) ...\n",
      "Setting up libsensors5:amd64 (1:3.6.0-7ubuntu1) ...\n",
      "Setting up libaacs0:amd64 (0.11.1-1) ...\n",
      "Setting up pocketsphinx-en-us (0.8.0+real5prealpha+1-14ubuntu1) ...\n",
      "Setting up libglapi-mesa:amd64 (23.2.1-1ubuntu3.1~22.04.2) ...\n",
      "Setting up libwebp7:amd64 (1.2.2-2ubuntu0.22.04.2) ...\n",
      "Setting up libxcb-dri2-0:amd64 (1.14-3ubuntu3) ...\n",
      "Setting up libbdplus0:amd64 (0.2.0-1) ...\n",
      "Setting up libnuma1:amd64 (2.0.14-3ubuntu2) ...\n",
      "Setting up libvidstab1.1:amd64 (1.1.0-2) ...\n",
      "Setting up alsa-topology-conf (1.2.5.1-2) ...\n",
      "Setting up ocl-icd-libopencl1:amd64 (2.2.14-3) ...\n",
      "Setting up libasyncns0:amd64 (0.8-6build2) ...\n",
      "Setting up libxshmfence1:amd64 (1.3-1build4) ...\n",
      "Setting up libvdpau1:amd64 (1.4-3build2) ...\n",
      "Setting up libbs2b0:amd64 (3.1.0+dfsg-2.2build1) ...\n",
      "Setting up libxcb-randr0:amd64 (1.14-3ubuntu3) ...\n",
      "Setting up libllvm15:amd64 (1:15.0.7-0ubuntu0.22.04.3) ...\n",
      "Setting up libasound2:amd64 (1.2.6.1-1ubuntu1) ...\n",
      "Setting up libzimg2:amd64 (3.0.3+ds1-1) ...\n",
      "Setting up libopenjp2-7:amd64 (2.4.0-6ubuntu0.2) ...\n",
      "Setting up libharfbuzz0b:amd64 (2.7.4-1ubuntu3.1) ...\n",
      "Setting up libopenal-data (1:1.19.1-2build3) ...\n",
      "Setting up libthai-data (0.1.29-1build1) ...\n",
      "Setting up libvpx7:amd64 (1.11.0-2ubuntu2.3) ...\n",
      "Setting up libtiff5:amd64 (4.3.0-6ubuntu0.10) ...\n",
      "Setting up libwayland-egl1:amd64 (1.20.0-1ubuntu0.1) ...\n",
      "Setting up libxss1:amd64 (1:1.2.3-1build2) ...\n",
      "Setting up libusb-1.0-0:amd64 (2:1.0.25-1ubuntu2) ...\n",
      "Setting up libdav1d5:amd64 (0.9.2-1) ...\n",
      "Setting up libmfx1:amd64 (22.3.0-1) ...\n",
      "Setting up libsamplerate0:amd64 (0.2.2-1build1) ...\n",
      "Setting up libwebpmux3:amd64 (1.2.2-2ubuntu0.22.04.2) ...\n",
      "Setting up libdrm-common (2.4.113-2~ubuntu0.22.04.1) ...\n",
      "Setting up libzvbi-common (0.2.35-19) ...\n",
      "Setting up libmp3lame0:amd64 (3.100-3build2) ...\n",
      "Setting up libvorbisenc2:amd64 (1.3.7-1build2) ...\n",
      "Setting up libiec61883-0:amd64 (1.2.0-4build3) ...\n",
      "Setting up libserd-0-0:amd64 (0.30.10-2) ...\n",
      "Setting up libxkbcommon0:amd64 (1.4.0-1) ...\n",
      "Setting up libwayland-client0:amd64 (1.20.0-1ubuntu0.1) ...\n",
      "Setting up libavc1394-0:amd64 (0.5.4-5build2) ...\n",
      "Setting up libzvbi0:amd64 (0.2.35-19) ...\n",
      "Setting up libice6:amd64 (2:1.0.10-1build2) ...\n",
      "Setting up libzmq5:amd64 (4.3.4-2) ...\n",
      "Setting up libcaca0:amd64 (0.99.beta19-2.2ubuntu4) ...\n",
      "Setting up libxi6:amd64 (2:1.8-1build1) ...\n",
      "Setting up alsa-ucm-conf (1.2.6.3-1ubuntu1.12) ...\n",
      "Setting up libcdio-cdda2:amd64 (10.2+2.0.0-1build3) ...\n",
      "Setting up fontconfig-config (2.13.1-4.2ubuntu5) ...\n",
      "Setting up libcdio-paranoia2:amd64 (10.2+2.0.0-1build3) ...\n",
      "Setting up libxcursor1:amd64 (1:1.2.0-2build4) ...\n",
      "Setting up libthai0:amd64 (0.1.29-1build1) ...\n",
      "Setting up libvorbisfile3:amd64 (1.3.7-1build2) ...\n",
      "Setting up libdc1394-25:amd64 (2.2.6-4) ...\n",
      "Setting up libx265-199:amd64 (3.5-2) ...\n",
      "Setting up librubberband2:amd64 (2.0.0-2) ...\n",
      "Setting up libsndio7.0:amd64 (1.8.1-1.1) ...\n",
      "Setting up libjack-jackd2-0:amd64 (1.9.20~dfsg-1) ...\n",
      "Setting up libdrm2:amd64 (2.4.113-2~ubuntu0.22.04.1) ...\n",
      "Setting up libflite1:amd64 (2.2-3) ...\n",
      "Setting up libva-drm2:amd64 (2.14.0-1) ...\n",
      "Setting up libsord-0-0:amd64 (0.16.8-2) ...\n",
      "Setting up libwayland-cursor0:amd64 (1.20.0-1ubuntu0.1) ...\n",
      "Setting up libsratom-0-0:amd64 (0.6.8-1) ...\n",
      "Setting up libdecor-0-0:amd64 (0.1.0-3build1) ...\n",
      "Setting up libgdk-pixbuf-2.0-0:amd64 (2.42.8+dfsg-1ubuntu0.3) ...\n",
      "Setting up libfontconfig1:amd64 (2.13.1-4.2ubuntu5) ...\n",
      "Setting up libsndfile1:amd64 (1.0.31-2ubuntu0.1) ...\n",
      "Setting up libbluray2:amd64 (1:1.3.1-1) ...\n",
      "Setting up libva-x11-2:amd64 (2.14.0-1) ...\n",
      "Setting up libsm6:amd64 (2:1.2.3-1build2) ...\n",
      "Setting up liblilv-0-0:amd64 (0.24.12-2) ...\n",
      "Setting up libopenmpt0:amd64 (0.6.1-1) ...\n",
      "Setting up libdrm-amdgpu1:amd64 (2.4.113-2~ubuntu0.22.04.1) ...\n",
      "Setting up fontconfig (2.13.1-4.2ubuntu5) ...\n",
      "Regenerating fonts cache... done.\n",
      "Setting up libdrm-nouveau2:amd64 (2.4.113-2~ubuntu0.22.04.1) ...\n",
      "Setting up libgbm1:amd64 (23.2.1-1ubuntu3.1~22.04.2) ...\n",
      "Setting up libpulse0:amd64 (1:15.99.1+dfsg1-1ubuntu2.2) ...\n",
      "Setting up libdrm-radeon1:amd64 (2.4.113-2~ubuntu0.22.04.1) ...\n",
      "Setting up libpango-1.0-0:amd64 (1.50.6+ds-2ubuntu1) ...\n",
      "Setting up libdrm-intel1:amd64 (2.4.113-2~ubuntu0.22.04.1) ...\n",
      "Setting up libgl1-mesa-dri:amd64 (23.2.1-1ubuntu3.1~22.04.2) ...\n",
      "Setting up libopenal1:amd64 (1:1.19.1-2build3) ...\n",
      "Setting up libcairo2:amd64 (1.16.0-5ubuntu2) ...\n",
      "Setting up libavutil56:amd64 (7:4.4.2-0ubuntu0.22.04.1) ...\n",
      "Setting up libass9:amd64 (1:0.15.2-1) ...\n",
      "Setting up libpostproc55:amd64 (7:4.4.2-0ubuntu0.22.04.1) ...\n",
      "Setting up libgdk-pixbuf2.0-bin (2.42.8+dfsg-1ubuntu0.3) ...\n",
      "Setting up libtheora0:amd64 (1.1.1+dfsg.1-15ubuntu4) ...\n",
      "Setting up libswscale5:amd64 (7:4.4.2-0ubuntu0.22.04.1) ...\n",
      "Setting up libcairo-gobject2:amd64 (1.16.0-5ubuntu2) ...\n",
      "Setting up mesa-va-drivers:amd64 (23.2.1-1ubuntu3.1~22.04.2) ...\n",
      "Setting up libpangoft2-1.0-0:amd64 (1.50.6+ds-2ubuntu1) ...\n",
      "Setting up libsdl2-2.0-0:amd64 (2.0.20+dfsg-2ubuntu1.22.04.1) ...\n",
      "Setting up i965-va-driver:amd64 (2.4.1+dfsg1-1) ...\n",
      "Setting up libpangocairo-1.0-0:amd64 (1.50.6+ds-2ubuntu1) ...\n",
      "Setting up libgl1-amber-dri:amd64 (21.3.9-0ubuntu1~22.04.1) ...\n",
      "Setting up mesa-vdpau-drivers:amd64 (23.2.1-1ubuntu3.1~22.04.2) ...\n",
      "Setting up libglx-mesa0:amd64 (23.2.1-1ubuntu3.1~22.04.2) ...\n",
      "Setting up libglx0:amd64 (1.4.0-1) ...\n",
      "Setting up libsphinxbase3:amd64 (0.8+5prealpha+1-13build1) ...\n",
      "Setting up libswresample3:amd64 (7:4.4.2-0ubuntu0.22.04.1) ...\n",
      "Setting up librsvg2-2:amd64 (2.52.5+dfsg-3ubuntu0.2) ...\n",
      "Setting up libpocketsphinx3:amd64 (0.8.0+real5prealpha+1-14ubuntu1) ...\n",
      "Setting up libgl1:amd64 (1.4.0-1) ...\n",
      "Setting up va-driver-all:amd64 (2.14.0-1) ...\n",
      "Setting up libdecor-0-plugin-1-cairo:amd64 (0.1.0-3build1) ...\n",
      "Setting up librsvg2-common:amd64 (2.52.5+dfsg-3ubuntu0.2) ...\n",
      "Setting up vdpau-driver-all:amd64 (1.4-3build2) ...\n",
      "Setting up libavcodec58:amd64 (7:4.4.2-0ubuntu0.22.04.1) ...\n",
      "Setting up libchromaprint1:amd64 (1.5.1-2) ...\n",
      "Setting up libavformat58:amd64 (7:4.4.2-0ubuntu0.22.04.1) ...\n",
      "Setting up libavfilter7:amd64 (7:4.4.2-0ubuntu0.22.04.1) ...\n",
      "Setting up libavdevice58:amd64 (7:4.4.2-0ubuntu0.22.04.1) ...\n",
      "Setting up ffmpeg (7:4.4.2-0ubuntu0.22.04.1) ...\n",
      "Processing triggers for libc-bin (2.35-0ubuntu3.8) ...\n",
      "Processing triggers for libgdk-pixbuf-2.0-0:amd64 (2.42.8+dfsg-1ubuntu0.3) ...\n"
     ]
    }
   ],
   "source": [
    "!apt-get install unzip\n",
    "!apt-get install ffmpeg libsm6 libxext6  -y\n"
   ]
  },
  {
   "cell_type": "code",
   "execution_count": 13,
   "id": "1e0afc4a-9d0b-4fe5-9741-98fef5d3f485",
   "metadata": {
    "scrolled": true
   },
   "outputs": [
    {
     "name": "stdout",
     "output_type": "stream",
     "text": [
      "/usr/local/lib/python3.10/dist-packages/gdown/__main__.py:140: FutureWarning: Option `--id` was deprecated in version 4.3.1 and will be removed in 5.0. You don't need to pass it anymore to use a file ID.\n",
      "  warnings.warn(\n",
      "Downloading...\n",
      "From (original): https://drive.google.com/uc?id=1GsJnHzkHrQKBDP_vsC2y6pVivi7vjyBA\n",
      "From (redirected): https://drive.google.com/uc?id=1GsJnHzkHrQKBDP_vsC2y6pVivi7vjyBA&confirm=t&uuid=d3ccecce-747f-42f4-b19b-730000860731\n",
      "To: /Celeb-DF.zip\n",
      "100%|███████████████████████████████████████| 2.12G/2.12G [00:15<00:00, 140MB/s]\n",
      "Archive:  Celeb-DF.zip\n",
      "   creating: Celeb-real/\n",
      "  inflating: Celeb-real/id0_0000.mp4  \n",
      "  inflating: Celeb-real/id0_0001.mp4  \n",
      "  inflating: Celeb-real/id0_0002.mp4  \n",
      "  inflating: Celeb-real/id0_0003.mp4  \n",
      "  inflating: Celeb-real/id0_0004.mp4  \n",
      "  inflating: Celeb-real/id0_0005.mp4  \n",
      "  inflating: Celeb-real/id0_0006.mp4  \n",
      "  inflating: Celeb-real/id0_0007.mp4  \n",
      "  inflating: Celeb-real/id0_0008.mp4  \n",
      "  inflating: Celeb-real/id0_0009.mp4  \n",
      "  inflating: Celeb-real/id10_0000.mp4  \n",
      "  inflating: Celeb-real/id10_0001.mp4  \n",
      "  inflating: Celeb-real/id10_0002.mp4  \n",
      "  inflating: Celeb-real/id10_0003.mp4  \n",
      "  inflating: Celeb-real/id10_0004.mp4  \n",
      "  inflating: Celeb-real/id10_0005.mp4  \n",
      "  inflating: Celeb-real/id10_0006.mp4  \n",
      "  inflating: Celeb-real/id10_0007.mp4  \n",
      "  inflating: Celeb-real/id10_0008.mp4  \n",
      "  inflating: Celeb-real/id10_0009.mp4  \n",
      "  inflating: Celeb-real/id11_0000.mp4  \n",
      "  inflating: Celeb-real/id11_0001.mp4  \n",
      "  inflating: Celeb-real/id11_0002.mp4  \n",
      "  inflating: Celeb-real/id11_0003.mp4  \n",
      "  inflating: Celeb-real/id11_0004.mp4  \n",
      "  inflating: Celeb-real/id11_0005.mp4  \n",
      "  inflating: Celeb-real/id11_0006.mp4  \n",
      "  inflating: Celeb-real/id11_0007.mp4  \n",
      "  inflating: Celeb-real/id11_0008.mp4  \n",
      "  inflating: Celeb-real/id11_0009.mp4  \n",
      "  inflating: Celeb-real/id11_0010.mp4  \n",
      "  inflating: Celeb-real/id12_0000.mp4  \n",
      "  inflating: Celeb-real/id12_0001.mp4  \n",
      "  inflating: Celeb-real/id12_0002.mp4  \n",
      "  inflating: Celeb-real/id12_0003.mp4  \n",
      "  inflating: Celeb-real/id12_0004.mp4  \n",
      "  inflating: Celeb-real/id12_0005.mp4  \n",
      "  inflating: Celeb-real/id12_0006.mp4  \n",
      "  inflating: Celeb-real/id13_0000.mp4  \n",
      "  inflating: Celeb-real/id13_0001.mp4  \n",
      "  inflating: Celeb-real/id13_0002.mp4  \n",
      "  inflating: Celeb-real/id13_0003.mp4  \n",
      "  inflating: Celeb-real/id13_0004.mp4  \n",
      "  inflating: Celeb-real/id13_0005.mp4  \n",
      "  inflating: Celeb-real/id13_0006.mp4  \n",
      "  inflating: Celeb-real/id13_0007.mp4  \n",
      "  inflating: Celeb-real/id13_0008.mp4  \n",
      "  inflating: Celeb-real/id13_0009.mp4  \n",
      "  inflating: Celeb-real/id13_0010.mp4  \n",
      "  inflating: Celeb-real/id13_0011.mp4  \n",
      "  inflating: Celeb-real/id13_0012.mp4  \n",
      "  inflating: Celeb-real/id13_0013.mp4  \n",
      "  inflating: Celeb-real/id13_0014.mp4  \n",
      "  inflating: Celeb-real/id13_0015.mp4  \n",
      "  inflating: Celeb-real/id16_0000.mp4  \n",
      "  inflating: Celeb-real/id16_0001.mp4  \n",
      "  inflating: Celeb-real/id16_0002.mp4  \n",
      "  inflating: Celeb-real/id16_0003.mp4  \n",
      "  inflating: Celeb-real/id16_0004.mp4  \n",
      "  inflating: Celeb-real/id16_0005.mp4  \n",
      "  inflating: Celeb-real/id16_0006.mp4  \n",
      "  inflating: Celeb-real/id16_0007.mp4  \n",
      "  inflating: Celeb-real/id16_0008.mp4  \n",
      "  inflating: Celeb-real/id16_0009.mp4  \n",
      "  inflating: Celeb-real/id16_0010.mp4  \n",
      "  inflating: Celeb-real/id16_0011.mp4  \n",
      "  inflating: Celeb-real/id16_0012.mp4  \n",
      "  inflating: Celeb-real/id16_0013.mp4  \n",
      "  inflating: Celeb-real/id17_0000.mp4  \n",
      "  inflating: Celeb-real/id17_0001.mp4  \n",
      "  inflating: Celeb-real/id17_0002.mp4  \n",
      "  inflating: Celeb-real/id17_0003.mp4  \n",
      "  inflating: Celeb-real/id17_0004.mp4  \n",
      "  inflating: Celeb-real/id17_0005.mp4  \n",
      "  inflating: Celeb-real/id17_0006.mp4  \n",
      "  inflating: Celeb-real/id17_0007.mp4  \n",
      "  inflating: Celeb-real/id17_0008.mp4  \n",
      "  inflating: Celeb-real/id17_0009.mp4  \n",
      "  inflating: Celeb-real/id1_0000.mp4  \n",
      "  inflating: Celeb-real/id1_0001.mp4  \n",
      "  inflating: Celeb-real/id1_0002.mp4  \n",
      "  inflating: Celeb-real/id1_0003.mp4  \n",
      "  inflating: Celeb-real/id1_0004.mp4  \n",
      "  inflating: Celeb-real/id1_0005.mp4  \n",
      "  inflating: Celeb-real/id1_0006.mp4  \n",
      "  inflating: Celeb-real/id1_0007.mp4  \n",
      "  inflating: Celeb-real/id1_0008.mp4  \n",
      "  inflating: Celeb-real/id1_0009.mp4  \n",
      "  inflating: Celeb-real/id2_0000.mp4  \n",
      "  inflating: Celeb-real/id2_0001.mp4  \n",
      "  inflating: Celeb-real/id2_0002.mp4  \n",
      "  inflating: Celeb-real/id2_0003.mp4  \n",
      "  inflating: Celeb-real/id2_0004.mp4  \n",
      "  inflating: Celeb-real/id2_0005.mp4  \n",
      "  inflating: Celeb-real/id2_0006.mp4  \n",
      "  inflating: Celeb-real/id2_0007.mp4  \n",
      "  inflating: Celeb-real/id2_0008.mp4  \n",
      "  inflating: Celeb-real/id2_0009.mp4  \n",
      "  inflating: Celeb-real/id3_0000.mp4  \n",
      "  inflating: Celeb-real/id3_0001.mp4  \n",
      "  inflating: Celeb-real/id3_0002.mp4  \n",
      "  inflating: Celeb-real/id3_0003.mp4  \n",
      "  inflating: Celeb-real/id3_0004.mp4  \n",
      "  inflating: Celeb-real/id3_0005.mp4  \n",
      "  inflating: Celeb-real/id3_0006.mp4  \n",
      "  inflating: Celeb-real/id3_0007.mp4  \n",
      "  inflating: Celeb-real/id3_0008.mp4  \n",
      "  inflating: Celeb-real/id3_0009.mp4  \n",
      "  inflating: Celeb-real/id4_0000.mp4  \n",
      "  inflating: Celeb-real/id4_0001.mp4  \n",
      "  inflating: Celeb-real/id4_0002.mp4  \n",
      "  inflating: Celeb-real/id4_0003.mp4  \n",
      "  inflating: Celeb-real/id4_0004.mp4  \n",
      "  inflating: Celeb-real/id4_0005.mp4  \n",
      "  inflating: Celeb-real/id4_0006.mp4  \n",
      "  inflating: Celeb-real/id4_0007.mp4  \n",
      "  inflating: Celeb-real/id4_0008.mp4  \n",
      "  inflating: Celeb-real/id4_0009.mp4  \n",
      "  inflating: Celeb-real/id6_0000.mp4  \n",
      "  inflating: Celeb-real/id6_0001.mp4  \n",
      "  inflating: Celeb-real/id6_0002.mp4  \n",
      "  inflating: Celeb-real/id6_0003.mp4  \n",
      "  inflating: Celeb-real/id6_0004.mp4  \n",
      "  inflating: Celeb-real/id6_0005.mp4  \n",
      "  inflating: Celeb-real/id6_0006.mp4  \n",
      "  inflating: Celeb-real/id6_0007.mp4  \n",
      "  inflating: Celeb-real/id6_0008.mp4  \n",
      "  inflating: Celeb-real/id6_0009.mp4  \n",
      "  inflating: Celeb-real/id7_0000.mp4  \n",
      "  inflating: Celeb-real/id7_0001.mp4  \n",
      "  inflating: Celeb-real/id7_0002.mp4  \n",
      "  inflating: Celeb-real/id7_0003.mp4  \n",
      "  inflating: Celeb-real/id7_0004.mp4  \n",
      "  inflating: Celeb-real/id7_0005.mp4  \n",
      "  inflating: Celeb-real/id7_0006.mp4  \n",
      "  inflating: Celeb-real/id7_0007.mp4  \n",
      "  inflating: Celeb-real/id7_0008.mp4  \n",
      "  inflating: Celeb-real/id7_0009.mp4  \n",
      "  inflating: Celeb-real/id8_0000.mp4  \n",
      "  inflating: Celeb-real/id8_0001.mp4  \n",
      "  inflating: Celeb-real/id8_0002.mp4  \n",
      "  inflating: Celeb-real/id8_0003.mp4  \n",
      "  inflating: Celeb-real/id8_0004.mp4  \n",
      "  inflating: Celeb-real/id8_0005.mp4  \n",
      "  inflating: Celeb-real/id8_0006.mp4  \n",
      "  inflating: Celeb-real/id8_0007.mp4  \n",
      "  inflating: Celeb-real/id8_0008.mp4  \n",
      "  inflating: Celeb-real/id8_0009.mp4  \n",
      "  inflating: Celeb-real/id9_0000.mp4  \n",
      "  inflating: Celeb-real/id9_0001.mp4  \n",
      "  inflating: Celeb-real/id9_0002.mp4  \n",
      "  inflating: Celeb-real/id9_0003.mp4  \n",
      "  inflating: Celeb-real/id9_0004.mp4  \n",
      "  inflating: Celeb-real/id9_0005.mp4  \n",
      "  inflating: Celeb-real/id9_0006.mp4  \n",
      "  inflating: Celeb-real/id9_0007.mp4  \n",
      "  inflating: Celeb-real/id9_0008.mp4  \n",
      "  inflating: Celeb-real/id9_0009.mp4  \n",
      "   creating: Celeb-synthesis/\n",
      "  inflating: Celeb-synthesis/id0_id16_0000.mp4  \n",
      "  inflating: Celeb-synthesis/id0_id16_0001.mp4  \n",
      "  inflating: Celeb-synthesis/id0_id16_0002.mp4  \n",
      "  inflating: Celeb-synthesis/id0_id16_0003.mp4  \n",
      "  inflating: Celeb-synthesis/id0_id16_0004.mp4  \n",
      "  inflating: Celeb-synthesis/id0_id16_0005.mp4  \n",
      "  inflating: Celeb-synthesis/id0_id16_0006.mp4  \n",
      "  inflating: Celeb-synthesis/id0_id16_0007.mp4  \n",
      "  inflating: Celeb-synthesis/id0_id16_0008.mp4  \n",
      "  inflating: Celeb-synthesis/id0_id16_0009.mp4  \n",
      "  inflating: Celeb-synthesis/id0_id17_0000.mp4  \n",
      "  inflating: Celeb-synthesis/id0_id17_0001.mp4  \n",
      "  inflating: Celeb-synthesis/id0_id17_0002.mp4  \n",
      "  inflating: Celeb-synthesis/id0_id17_0003.mp4  \n",
      "  inflating: Celeb-synthesis/id0_id17_0005.mp4  \n",
      "  inflating: Celeb-synthesis/id0_id17_0006.mp4  \n",
      "  inflating: Celeb-synthesis/id0_id17_0007.mp4  \n",
      "  inflating: Celeb-synthesis/id0_id17_0009.mp4  \n",
      "  inflating: Celeb-synthesis/id0_id1_0000.mp4  \n",
      "  inflating: Celeb-synthesis/id0_id1_0001.mp4  \n",
      "  inflating: Celeb-synthesis/id0_id1_0002.mp4  \n",
      "  inflating: Celeb-synthesis/id0_id1_0003.mp4  \n",
      "  inflating: Celeb-synthesis/id0_id1_0005.mp4  \n",
      "  inflating: Celeb-synthesis/id0_id1_0006.mp4  \n",
      "  inflating: Celeb-synthesis/id0_id1_0007.mp4  \n",
      "  inflating: Celeb-synthesis/id0_id1_0009.mp4  \n",
      "  inflating: Celeb-synthesis/id0_id2_0000.mp4  \n",
      "  inflating: Celeb-synthesis/id0_id2_0001.mp4  \n",
      "  inflating: Celeb-synthesis/id0_id2_0002.mp4  \n",
      "  inflating: Celeb-synthesis/id0_id2_0003.mp4  \n",
      "  inflating: Celeb-synthesis/id0_id2_0004.mp4  \n",
      "  inflating: Celeb-synthesis/id0_id2_0005.mp4  \n",
      "  inflating: Celeb-synthesis/id0_id2_0006.mp4  \n",
      "  inflating: Celeb-synthesis/id0_id2_0007.mp4  \n",
      "  inflating: Celeb-synthesis/id0_id2_0008.mp4  \n",
      "  inflating: Celeb-synthesis/id0_id2_0009.mp4  \n",
      "  inflating: Celeb-synthesis/id0_id3_0000.mp4  \n",
      "  inflating: Celeb-synthesis/id0_id3_0001.mp4  \n",
      "  inflating: Celeb-synthesis/id0_id3_0002.mp4  \n",
      "  inflating: Celeb-synthesis/id0_id3_0003.mp4  \n",
      "  inflating: Celeb-synthesis/id0_id3_0004.mp4  \n",
      "  inflating: Celeb-synthesis/id0_id3_0005.mp4  \n",
      "  inflating: Celeb-synthesis/id0_id3_0006.mp4  \n",
      "  inflating: Celeb-synthesis/id0_id3_0007.mp4  \n",
      "  inflating: Celeb-synthesis/id0_id3_0008.mp4  \n",
      "  inflating: Celeb-synthesis/id0_id3_0009.mp4  \n",
      "  inflating: Celeb-synthesis/id0_id4_0000.mp4  \n",
      "  inflating: Celeb-synthesis/id0_id4_0001.mp4  \n",
      "  inflating: Celeb-synthesis/id0_id4_0002.mp4  \n",
      "  inflating: Celeb-synthesis/id0_id4_0003.mp4  \n",
      "  inflating: Celeb-synthesis/id0_id4_0004.mp4  \n",
      "  inflating: Celeb-synthesis/id0_id4_0005.mp4  \n",
      "  inflating: Celeb-synthesis/id0_id4_0006.mp4  \n",
      "  inflating: Celeb-synthesis/id0_id4_0009.mp4  \n",
      "  inflating: Celeb-synthesis/id0_id6_0000.mp4  \n",
      "  inflating: Celeb-synthesis/id0_id6_0001.mp4  \n",
      "  inflating: Celeb-synthesis/id0_id6_0002.mp4  \n",
      "  inflating: Celeb-synthesis/id0_id6_0006.mp4  \n",
      "  inflating: Celeb-synthesis/id0_id6_0007.mp4  \n",
      "  inflating: Celeb-synthesis/id0_id6_0009.mp4  \n",
      "  inflating: Celeb-synthesis/id0_id9_0000.mp4  \n",
      "  inflating: Celeb-synthesis/id0_id9_0001.mp4  \n",
      "  inflating: Celeb-synthesis/id0_id9_0002.mp4  \n",
      "  inflating: Celeb-synthesis/id0_id9_0003.mp4  \n",
      "  inflating: Celeb-synthesis/id0_id9_0005.mp4  \n",
      "  inflating: Celeb-synthesis/id0_id9_0006.mp4  \n",
      "  inflating: Celeb-synthesis/id0_id9_0007.mp4  \n",
      "  inflating: Celeb-synthesis/id0_id9_0008.mp4  \n",
      "  inflating: Celeb-synthesis/id0_id9_0009.mp4  \n",
      "  inflating: Celeb-synthesis/id10_id11_0001.mp4  \n",
      "  inflating: Celeb-synthesis/id10_id11_0002.mp4  \n",
      "  inflating: Celeb-synthesis/id10_id11_0003.mp4  \n",
      "  inflating: Celeb-synthesis/id10_id11_0004.mp4  \n",
      "  inflating: Celeb-synthesis/id10_id11_0005.mp4  \n",
      "  inflating: Celeb-synthesis/id10_id11_0006.mp4  \n",
      "  inflating: Celeb-synthesis/id10_id11_0007.mp4  \n",
      "  inflating: Celeb-synthesis/id10_id11_0008.mp4  \n",
      "  inflating: Celeb-synthesis/id10_id12_0001.mp4  \n",
      "  inflating: Celeb-synthesis/id10_id12_0002.mp4  \n",
      "  inflating: Celeb-synthesis/id10_id12_0003.mp4  \n",
      "  inflating: Celeb-synthesis/id10_id12_0004.mp4  \n",
      "  inflating: Celeb-synthesis/id10_id12_0005.mp4  \n",
      "  inflating: Celeb-synthesis/id10_id12_0006.mp4  \n",
      "  inflating: Celeb-synthesis/id10_id12_0007.mp4  \n",
      "  inflating: Celeb-synthesis/id10_id12_0008.mp4  \n",
      "  inflating: Celeb-synthesis/id10_id13_0001.mp4  \n",
      "  inflating: Celeb-synthesis/id10_id13_0002.mp4  \n",
      "  inflating: Celeb-synthesis/id10_id13_0003.mp4  \n",
      "  inflating: Celeb-synthesis/id10_id13_0004.mp4  \n",
      "  inflating: Celeb-synthesis/id10_id13_0005.mp4  \n",
      "  inflating: Celeb-synthesis/id10_id13_0006.mp4  \n",
      "  inflating: Celeb-synthesis/id10_id13_0007.mp4  \n",
      "  inflating: Celeb-synthesis/id10_id13_0008.mp4  \n",
      "  inflating: Celeb-synthesis/id10_id7_0001.mp4  \n",
      "  inflating: Celeb-synthesis/id10_id7_0002.mp4  \n",
      "  inflating: Celeb-synthesis/id10_id7_0003.mp4  \n",
      "  inflating: Celeb-synthesis/id10_id7_0004.mp4  \n",
      "  inflating: Celeb-synthesis/id10_id7_0005.mp4  \n",
      "  inflating: Celeb-synthesis/id10_id7_0006.mp4  \n",
      "  inflating: Celeb-synthesis/id10_id7_0007.mp4  \n",
      "  inflating: Celeb-synthesis/id10_id7_0008.mp4  \n",
      "  inflating: Celeb-synthesis/id10_id7_0009.mp4  \n",
      "  inflating: Celeb-synthesis/id11_id7_0000.mp4  \n",
      "  inflating: Celeb-synthesis/id11_id7_0001.mp4  \n",
      "  inflating: Celeb-synthesis/id11_id7_0002.mp4  \n",
      "  inflating: Celeb-synthesis/id11_id7_0003.mp4  \n",
      "  inflating: Celeb-synthesis/id11_id7_0004.mp4  \n",
      "  inflating: Celeb-synthesis/id11_id7_0005.mp4  \n",
      "  inflating: Celeb-synthesis/id11_id7_0006.mp4  \n",
      "  inflating: Celeb-synthesis/id11_id7_0007.mp4  \n",
      "  inflating: Celeb-synthesis/id11_id7_0008.mp4  \n",
      "  inflating: Celeb-synthesis/id11_id7_0009.mp4  \n",
      "  inflating: Celeb-synthesis/id11_id7_0010.mp4  \n",
      "  inflating: Celeb-synthesis/id12_id10_0001.mp4  \n",
      "  inflating: Celeb-synthesis/id12_id10_0002.mp4  \n",
      "  inflating: Celeb-synthesis/id12_id10_0004.mp4  \n",
      "  inflating: Celeb-synthesis/id12_id10_0005.mp4  \n",
      "  inflating: Celeb-synthesis/id12_id10_0006.mp4  \n",
      "  inflating: Celeb-synthesis/id12_id7_0000.mp4  \n",
      "  inflating: Celeb-synthesis/id12_id7_0001.mp4  \n",
      "  inflating: Celeb-synthesis/id12_id7_0002.mp4  \n",
      "  inflating: Celeb-synthesis/id12_id7_0004.mp4  \n",
      "  inflating: Celeb-synthesis/id12_id7_0005.mp4  \n",
      "  inflating: Celeb-synthesis/id12_id7_0006.mp4  \n",
      "  inflating: Celeb-synthesis/id13_id10_0000.mp4  \n",
      "  inflating: Celeb-synthesis/id13_id10_0001.mp4  \n",
      "  inflating: Celeb-synthesis/id13_id10_0003.mp4  \n",
      "  inflating: Celeb-synthesis/id13_id10_0004.mp4  \n",
      "  inflating: Celeb-synthesis/id13_id10_0005.mp4  \n",
      "  inflating: Celeb-synthesis/id13_id10_0007.mp4  \n",
      "  inflating: Celeb-synthesis/id13_id10_0008.mp4  \n",
      "  inflating: Celeb-synthesis/id13_id10_0011.mp4  \n",
      "  inflating: Celeb-synthesis/id13_id10_0012.mp4  \n",
      "  inflating: Celeb-synthesis/id13_id10_0014.mp4  \n",
      "  inflating: Celeb-synthesis/id13_id10_0015.mp4  \n",
      "  inflating: Celeb-synthesis/id13_id7_0000.mp4  \n",
      "  inflating: Celeb-synthesis/id13_id7_0001.mp4  \n",
      "  inflating: Celeb-synthesis/id13_id7_0002.mp4  \n",
      "  inflating: Celeb-synthesis/id13_id7_0003.mp4  \n",
      "  inflating: Celeb-synthesis/id13_id7_0004.mp4  \n",
      "  inflating: Celeb-synthesis/id13_id7_0005.mp4  \n",
      "  inflating: Celeb-synthesis/id13_id7_0007.mp4  \n",
      "  inflating: Celeb-synthesis/id13_id7_0008.mp4  \n",
      "  inflating: Celeb-synthesis/id13_id7_0009.mp4  \n",
      "  inflating: Celeb-synthesis/id13_id7_0011.mp4  \n",
      "  inflating: Celeb-synthesis/id13_id7_0012.mp4  \n",
      "  inflating: Celeb-synthesis/id13_id7_0015.mp4  \n",
      "  inflating: Celeb-synthesis/id16_id0_0000.mp4  \n",
      "  inflating: Celeb-synthesis/id16_id0_0001.mp4  \n",
      "  inflating: Celeb-synthesis/id16_id0_0002.mp4  \n",
      "  inflating: Celeb-synthesis/id16_id0_0003.mp4  \n",
      "  inflating: Celeb-synthesis/id16_id0_0004.mp4  \n",
      "  inflating: Celeb-synthesis/id16_id0_0005.mp4  \n",
      "  inflating: Celeb-synthesis/id16_id0_0006.mp4  \n",
      "  inflating: Celeb-synthesis/id16_id0_0007.mp4  \n",
      "  inflating: Celeb-synthesis/id16_id0_0009.mp4  \n",
      "  inflating: Celeb-synthesis/id16_id0_0010.mp4  \n",
      "  inflating: Celeb-synthesis/id16_id0_0011.mp4  \n",
      "  inflating: Celeb-synthesis/id16_id0_0012.mp4  \n",
      "  inflating: Celeb-synthesis/id16_id0_0013.mp4  \n",
      "  inflating: Celeb-synthesis/id16_id17_0000.mp4  \n",
      "  inflating: Celeb-synthesis/id16_id17_0001.mp4  \n",
      "  inflating: Celeb-synthesis/id16_id17_0002.mp4  \n",
      "  inflating: Celeb-synthesis/id16_id17_0003.mp4  \n",
      "  inflating: Celeb-synthesis/id16_id17_0004.mp4  \n",
      "  inflating: Celeb-synthesis/id16_id17_0005.mp4  \n",
      "  inflating: Celeb-synthesis/id16_id17_0006.mp4  \n",
      "  inflating: Celeb-synthesis/id16_id17_0007.mp4  \n",
      "  inflating: Celeb-synthesis/id16_id17_0009.mp4  \n",
      "  inflating: Celeb-synthesis/id16_id17_0010.mp4  \n",
      "  inflating: Celeb-synthesis/id16_id17_0011.mp4  \n",
      "  inflating: Celeb-synthesis/id16_id17_0012.mp4  \n",
      "  inflating: Celeb-synthesis/id16_id17_0013.mp4  \n",
      "  inflating: Celeb-synthesis/id16_id1_0000.mp4  \n",
      "  inflating: Celeb-synthesis/id16_id1_0001.mp4  \n",
      "  inflating: Celeb-synthesis/id16_id1_0002.mp4  \n",
      "  inflating: Celeb-synthesis/id16_id1_0003.mp4  \n",
      "  inflating: Celeb-synthesis/id16_id1_0004.mp4  \n",
      "  inflating: Celeb-synthesis/id16_id1_0005.mp4  \n",
      "  inflating: Celeb-synthesis/id16_id1_0006.mp4  \n",
      "  inflating: Celeb-synthesis/id16_id1_0007.mp4  \n",
      "  inflating: Celeb-synthesis/id16_id1_0009.mp4  \n",
      "  inflating: Celeb-synthesis/id16_id1_0010.mp4  \n",
      "  inflating: Celeb-synthesis/id16_id1_0011.mp4  \n",
      "  inflating: Celeb-synthesis/id16_id1_0012.mp4  \n",
      "  inflating: Celeb-synthesis/id16_id1_0013.mp4  \n",
      "  inflating: Celeb-synthesis/id16_id2_0000.mp4  \n",
      "  inflating: Celeb-synthesis/id16_id2_0001.mp4  \n",
      "  inflating: Celeb-synthesis/id16_id2_0002.mp4  \n",
      "  inflating: Celeb-synthesis/id16_id2_0003.mp4  \n",
      "  inflating: Celeb-synthesis/id16_id2_0004.mp4  \n",
      "  inflating: Celeb-synthesis/id16_id2_0005.mp4  \n",
      "  inflating: Celeb-synthesis/id16_id2_0006.mp4  \n",
      "  inflating: Celeb-synthesis/id16_id2_0007.mp4  \n",
      "  inflating: Celeb-synthesis/id16_id2_0009.mp4  \n",
      "  inflating: Celeb-synthesis/id16_id2_0010.mp4  \n",
      "  inflating: Celeb-synthesis/id16_id2_0011.mp4  \n",
      "  inflating: Celeb-synthesis/id16_id2_0012.mp4  \n",
      "  inflating: Celeb-synthesis/id16_id2_0013.mp4  \n",
      "  inflating: Celeb-synthesis/id16_id3_0000.mp4  \n",
      "  inflating: Celeb-synthesis/id16_id3_0001.mp4  \n",
      "  inflating: Celeb-synthesis/id16_id3_0002.mp4  \n",
      "  inflating: Celeb-synthesis/id16_id3_0003.mp4  \n",
      "  inflating: Celeb-synthesis/id16_id3_0004.mp4  \n",
      "  inflating: Celeb-synthesis/id16_id3_0005.mp4  \n",
      "  inflating: Celeb-synthesis/id16_id3_0006.mp4  \n",
      "  inflating: Celeb-synthesis/id16_id3_0007.mp4  \n",
      "  inflating: Celeb-synthesis/id16_id3_0009.mp4  \n",
      "  inflating: Celeb-synthesis/id16_id3_0010.mp4  \n",
      "  inflating: Celeb-synthesis/id16_id3_0011.mp4  \n",
      "  inflating: Celeb-synthesis/id16_id3_0012.mp4  \n",
      "  inflating: Celeb-synthesis/id16_id3_0013.mp4  \n",
      "  inflating: Celeb-synthesis/id16_id6_0000.mp4  \n",
      "  inflating: Celeb-synthesis/id16_id6_0001.mp4  \n",
      "  inflating: Celeb-synthesis/id16_id6_0002.mp4  \n",
      "  inflating: Celeb-synthesis/id16_id6_0003.mp4  \n",
      "  inflating: Celeb-synthesis/id16_id6_0004.mp4  \n",
      "  inflating: Celeb-synthesis/id16_id6_0005.mp4  \n",
      "  inflating: Celeb-synthesis/id16_id6_0006.mp4  \n",
      "  inflating: Celeb-synthesis/id16_id6_0007.mp4  \n",
      "  inflating: Celeb-synthesis/id16_id6_0009.mp4  \n",
      "  inflating: Celeb-synthesis/id16_id6_0010.mp4  \n",
      "  inflating: Celeb-synthesis/id16_id6_0011.mp4  \n",
      "  inflating: Celeb-synthesis/id16_id6_0012.mp4  \n",
      "  inflating: Celeb-synthesis/id16_id6_0013.mp4  \n",
      "  inflating: Celeb-synthesis/id16_id9_0000.mp4  \n",
      "  inflating: Celeb-synthesis/id16_id9_0001.mp4  \n",
      "  inflating: Celeb-synthesis/id16_id9_0002.mp4  \n",
      "  inflating: Celeb-synthesis/id16_id9_0003.mp4  \n",
      "  inflating: Celeb-synthesis/id16_id9_0004.mp4  \n",
      "  inflating: Celeb-synthesis/id16_id9_0005.mp4  \n",
      "  inflating: Celeb-synthesis/id16_id9_0006.mp4  \n",
      "  inflating: Celeb-synthesis/id16_id9_0007.mp4  \n",
      "  inflating: Celeb-synthesis/id16_id9_0009.mp4  \n",
      "  inflating: Celeb-synthesis/id16_id9_0010.mp4  \n",
      "  inflating: Celeb-synthesis/id16_id9_0011.mp4  \n",
      "  inflating: Celeb-synthesis/id16_id9_0012.mp4  \n",
      "  inflating: Celeb-synthesis/id16_id9_0013.mp4  \n",
      "  inflating: Celeb-synthesis/id17_id0_0000.mp4  \n",
      "  inflating: Celeb-synthesis/id17_id0_0001.mp4  \n",
      "  inflating: Celeb-synthesis/id17_id0_0002.mp4  \n",
      "  inflating: Celeb-synthesis/id17_id0_0003.mp4  \n",
      "  inflating: Celeb-synthesis/id17_id0_0004.mp4  \n",
      "  inflating: Celeb-synthesis/id17_id0_0005.mp4  \n",
      "  inflating: Celeb-synthesis/id17_id0_0006.mp4  \n",
      "  inflating: Celeb-synthesis/id17_id0_0007.mp4  \n",
      "  inflating: Celeb-synthesis/id17_id0_0009.mp4  \n",
      "  inflating: Celeb-synthesis/id17_id16_0000.mp4  \n",
      "  inflating: Celeb-synthesis/id17_id16_0001.mp4  \n",
      "  inflating: Celeb-synthesis/id17_id16_0002.mp4  \n",
      "  inflating: Celeb-synthesis/id17_id16_0003.mp4  \n",
      "  inflating: Celeb-synthesis/id17_id16_0004.mp4  \n",
      "  inflating: Celeb-synthesis/id17_id16_0005.mp4  \n",
      "  inflating: Celeb-synthesis/id17_id16_0006.mp4  \n",
      "  inflating: Celeb-synthesis/id17_id16_0007.mp4  \n",
      "  inflating: Celeb-synthesis/id17_id16_0009.mp4  \n",
      "  inflating: Celeb-synthesis/id17_id1_0000.mp4  \n",
      "  inflating: Celeb-synthesis/id17_id1_0001.mp4  \n",
      "  inflating: Celeb-synthesis/id17_id1_0002.mp4  \n",
      "  inflating: Celeb-synthesis/id17_id1_0003.mp4  \n",
      "  inflating: Celeb-synthesis/id17_id1_0004.mp4  \n",
      "  inflating: Celeb-synthesis/id17_id1_0005.mp4  \n",
      "  inflating: Celeb-synthesis/id17_id1_0006.mp4  \n",
      "  inflating: Celeb-synthesis/id17_id1_0007.mp4  \n",
      "  inflating: Celeb-synthesis/id17_id1_0009.mp4  \n",
      "  inflating: Celeb-synthesis/id17_id2_0000.mp4  \n",
      "  inflating: Celeb-synthesis/id17_id2_0001.mp4  \n",
      "  inflating: Celeb-synthesis/id17_id2_0002.mp4  \n",
      "  inflating: Celeb-synthesis/id17_id2_0003.mp4  \n",
      "  inflating: Celeb-synthesis/id17_id2_0004.mp4  \n",
      "  inflating: Celeb-synthesis/id17_id2_0005.mp4  \n",
      "  inflating: Celeb-synthesis/id17_id2_0006.mp4  \n",
      "  inflating: Celeb-synthesis/id17_id2_0007.mp4  \n",
      "  inflating: Celeb-synthesis/id17_id2_0009.mp4  \n",
      "  inflating: Celeb-synthesis/id17_id3_0000.mp4  \n",
      "  inflating: Celeb-synthesis/id17_id3_0001.mp4  \n",
      "  inflating: Celeb-synthesis/id17_id3_0002.mp4  \n",
      "  inflating: Celeb-synthesis/id17_id3_0003.mp4  \n",
      "  inflating: Celeb-synthesis/id17_id3_0004.mp4  \n",
      "  inflating: Celeb-synthesis/id17_id3_0005.mp4  \n",
      "  inflating: Celeb-synthesis/id17_id3_0006.mp4  \n",
      "  inflating: Celeb-synthesis/id17_id3_0007.mp4  \n",
      "  inflating: Celeb-synthesis/id17_id3_0009.mp4  \n",
      "  inflating: Celeb-synthesis/id17_id6_0000.mp4  \n",
      "  inflating: Celeb-synthesis/id17_id6_0001.mp4  \n",
      "  inflating: Celeb-synthesis/id17_id6_0002.mp4  \n",
      "  inflating: Celeb-synthesis/id17_id6_0003.mp4  \n",
      "  inflating: Celeb-synthesis/id17_id6_0004.mp4  \n",
      "  inflating: Celeb-synthesis/id17_id6_0005.mp4  \n",
      "  inflating: Celeb-synthesis/id17_id6_0006.mp4  \n",
      "  inflating: Celeb-synthesis/id17_id6_0007.mp4  \n",
      "  inflating: Celeb-synthesis/id17_id6_0009.mp4  \n",
      "  inflating: Celeb-synthesis/id17_id9_0000.mp4  \n",
      "  inflating: Celeb-synthesis/id17_id9_0001.mp4  \n",
      "  inflating: Celeb-synthesis/id17_id9_0002.mp4  \n",
      "  inflating: Celeb-synthesis/id17_id9_0003.mp4  \n",
      "  inflating: Celeb-synthesis/id17_id9_0004.mp4  \n",
      "  inflating: Celeb-synthesis/id17_id9_0005.mp4  \n",
      "  inflating: Celeb-synthesis/id17_id9_0006.mp4  \n",
      "  inflating: Celeb-synthesis/id17_id9_0007.mp4  \n",
      "  inflating: Celeb-synthesis/id17_id9_0009.mp4  \n",
      "  inflating: Celeb-synthesis/id1_id0_0000.mp4  \n",
      "  inflating: Celeb-synthesis/id1_id0_0001.mp4  \n",
      "  inflating: Celeb-synthesis/id1_id0_0002.mp4  \n",
      "  inflating: Celeb-synthesis/id1_id0_0003.mp4  \n",
      "  inflating: Celeb-synthesis/id1_id0_0004.mp4  \n",
      "  inflating: Celeb-synthesis/id1_id0_0005.mp4  \n",
      "  inflating: Celeb-synthesis/id1_id0_0006.mp4  \n",
      "  inflating: Celeb-synthesis/id1_id0_0007.mp4  \n",
      "  inflating: Celeb-synthesis/id1_id0_0009.mp4  \n",
      "  inflating: Celeb-synthesis/id1_id16_0000.mp4  \n",
      "  inflating: Celeb-synthesis/id1_id16_0001.mp4  \n",
      "  inflating: Celeb-synthesis/id1_id16_0002.mp4  \n",
      "  inflating: Celeb-synthesis/id1_id16_0003.mp4  \n",
      "  inflating: Celeb-synthesis/id1_id16_0004.mp4  \n",
      "  inflating: Celeb-synthesis/id1_id16_0005.mp4  \n",
      "  inflating: Celeb-synthesis/id1_id16_0006.mp4  \n",
      "  inflating: Celeb-synthesis/id1_id16_0007.mp4  \n",
      "  inflating: Celeb-synthesis/id1_id16_0009.mp4  \n",
      "  inflating: Celeb-synthesis/id1_id17_0000.mp4  \n",
      "  inflating: Celeb-synthesis/id1_id17_0001.mp4  \n",
      "  inflating: Celeb-synthesis/id1_id17_0002.mp4  \n",
      "  inflating: Celeb-synthesis/id1_id17_0003.mp4  \n",
      "  inflating: Celeb-synthesis/id1_id17_0004.mp4  \n",
      "  inflating: Celeb-synthesis/id1_id17_0005.mp4  \n",
      "  inflating: Celeb-synthesis/id1_id17_0006.mp4  \n",
      "  inflating: Celeb-synthesis/id1_id17_0007.mp4  \n",
      "  inflating: Celeb-synthesis/id1_id17_0009.mp4  \n",
      "  inflating: Celeb-synthesis/id1_id2_0000.mp4  \n",
      "  inflating: Celeb-synthesis/id1_id2_0001.mp4  \n",
      "  inflating: Celeb-synthesis/id1_id2_0002.mp4  \n",
      "  inflating: Celeb-synthesis/id1_id2_0003.mp4  \n",
      "  inflating: Celeb-synthesis/id1_id2_0004.mp4  \n",
      "  inflating: Celeb-synthesis/id1_id2_0005.mp4  \n",
      "  inflating: Celeb-synthesis/id1_id2_0006.mp4  \n",
      "  inflating: Celeb-synthesis/id1_id2_0007.mp4  \n",
      "  inflating: Celeb-synthesis/id1_id2_0009.mp4  \n",
      "  inflating: Celeb-synthesis/id1_id3_0000.mp4  \n",
      "  inflating: Celeb-synthesis/id1_id3_0001.mp4  \n",
      "  inflating: Celeb-synthesis/id1_id3_0002.mp4  \n",
      "  inflating: Celeb-synthesis/id1_id3_0003.mp4  \n",
      "  inflating: Celeb-synthesis/id1_id3_0004.mp4  \n",
      "  inflating: Celeb-synthesis/id1_id3_0005.mp4  \n",
      "  inflating: Celeb-synthesis/id1_id3_0006.mp4  \n",
      "  inflating: Celeb-synthesis/id1_id3_0007.mp4  \n",
      "  inflating: Celeb-synthesis/id1_id3_0009.mp4  \n",
      "  inflating: Celeb-synthesis/id1_id4_0000.mp4  \n",
      "  inflating: Celeb-synthesis/id1_id4_0001.mp4  \n",
      "  inflating: Celeb-synthesis/id1_id4_0002.mp4  \n",
      "  inflating: Celeb-synthesis/id1_id4_0003.mp4  \n",
      "  inflating: Celeb-synthesis/id1_id4_0004.mp4  \n",
      "  inflating: Celeb-synthesis/id1_id4_0005.mp4  \n",
      "  inflating: Celeb-synthesis/id1_id4_0006.mp4  \n",
      "  inflating: Celeb-synthesis/id1_id4_0007.mp4  \n",
      "  inflating: Celeb-synthesis/id1_id4_0009.mp4  \n",
      "  inflating: Celeb-synthesis/id1_id6_0000.mp4  \n",
      "  inflating: Celeb-synthesis/id1_id6_0001.mp4  \n",
      "  inflating: Celeb-synthesis/id1_id6_0002.mp4  \n",
      "  inflating: Celeb-synthesis/id1_id6_0003.mp4  \n",
      "  inflating: Celeb-synthesis/id1_id6_0004.mp4  \n",
      "  inflating: Celeb-synthesis/id1_id6_0005.mp4  \n",
      "  inflating: Celeb-synthesis/id1_id6_0006.mp4  \n",
      "  inflating: Celeb-synthesis/id1_id6_0007.mp4  \n",
      "  inflating: Celeb-synthesis/id1_id6_0009.mp4  \n",
      "  inflating: Celeb-synthesis/id1_id9_0000.mp4  \n",
      "  inflating: Celeb-synthesis/id1_id9_0001.mp4  \n",
      "  inflating: Celeb-synthesis/id1_id9_0002.mp4  \n",
      "  inflating: Celeb-synthesis/id1_id9_0003.mp4  \n",
      "  inflating: Celeb-synthesis/id1_id9_0004.mp4  \n",
      "  inflating: Celeb-synthesis/id1_id9_0005.mp4  \n",
      "  inflating: Celeb-synthesis/id1_id9_0006.mp4  \n",
      "  inflating: Celeb-synthesis/id1_id9_0007.mp4  \n",
      "  inflating: Celeb-synthesis/id1_id9_0009.mp4  \n",
      "  inflating: Celeb-synthesis/id2_id0_0000.mp4  \n",
      "  inflating: Celeb-synthesis/id2_id0_0001.mp4  \n",
      "  inflating: Celeb-synthesis/id2_id0_0002.mp4  \n",
      "  inflating: Celeb-synthesis/id2_id0_0003.mp4  \n",
      "  inflating: Celeb-synthesis/id2_id0_0004.mp4  \n",
      "  inflating: Celeb-synthesis/id2_id0_0005.mp4  \n",
      "  inflating: Celeb-synthesis/id2_id0_0006.mp4  \n",
      "  inflating: Celeb-synthesis/id2_id0_0007.mp4  \n",
      "  inflating: Celeb-synthesis/id2_id0_0008.mp4  \n",
      "  inflating: Celeb-synthesis/id2_id0_0009.mp4  \n",
      "  inflating: Celeb-synthesis/id2_id16_0000.mp4  \n",
      "  inflating: Celeb-synthesis/id2_id16_0001.mp4  \n",
      "  inflating: Celeb-synthesis/id2_id16_0002.mp4  \n",
      "  inflating: Celeb-synthesis/id2_id16_0003.mp4  \n",
      "  inflating: Celeb-synthesis/id2_id16_0004.mp4  \n",
      "  inflating: Celeb-synthesis/id2_id16_0005.mp4  \n",
      "  inflating: Celeb-synthesis/id2_id16_0006.mp4  \n",
      "  inflating: Celeb-synthesis/id2_id16_0007.mp4  \n",
      "  inflating: Celeb-synthesis/id2_id16_0008.mp4  \n",
      "  inflating: Celeb-synthesis/id2_id16_0009.mp4  \n",
      "  inflating: Celeb-synthesis/id2_id17_0000.mp4  \n",
      "  inflating: Celeb-synthesis/id2_id17_0001.mp4  \n",
      "  inflating: Celeb-synthesis/id2_id17_0002.mp4  \n",
      "  inflating: Celeb-synthesis/id2_id17_0003.mp4  \n",
      "  inflating: Celeb-synthesis/id2_id17_0004.mp4  \n",
      "  inflating: Celeb-synthesis/id2_id17_0005.mp4  \n",
      "  inflating: Celeb-synthesis/id2_id17_0006.mp4  \n",
      "  inflating: Celeb-synthesis/id2_id17_0007.mp4  \n",
      "  inflating: Celeb-synthesis/id2_id17_0008.mp4  \n",
      "  inflating: Celeb-synthesis/id2_id17_0009.mp4  \n",
      "  inflating: Celeb-synthesis/id2_id1_0000.mp4  \n",
      "  inflating: Celeb-synthesis/id2_id1_0001.mp4  \n",
      "  inflating: Celeb-synthesis/id2_id1_0002.mp4  \n",
      "  inflating: Celeb-synthesis/id2_id1_0003.mp4  \n",
      "  inflating: Celeb-synthesis/id2_id1_0004.mp4  \n",
      "  inflating: Celeb-synthesis/id2_id1_0005.mp4  \n",
      "  inflating: Celeb-synthesis/id2_id1_0006.mp4  \n",
      "  inflating: Celeb-synthesis/id2_id1_0007.mp4  \n",
      "  inflating: Celeb-synthesis/id2_id1_0008.mp4  \n",
      "  inflating: Celeb-synthesis/id2_id1_0009.mp4  \n",
      "  inflating: Celeb-synthesis/id2_id3_0000.mp4  \n",
      "  inflating: Celeb-synthesis/id2_id3_0001.mp4  \n",
      "  inflating: Celeb-synthesis/id2_id3_0002.mp4  \n",
      "  inflating: Celeb-synthesis/id2_id3_0003.mp4  \n",
      "  inflating: Celeb-synthesis/id2_id3_0004.mp4  \n",
      "  inflating: Celeb-synthesis/id2_id3_0005.mp4  \n",
      "  inflating: Celeb-synthesis/id2_id3_0006.mp4  \n",
      "  inflating: Celeb-synthesis/id2_id3_0007.mp4  \n",
      "  inflating: Celeb-synthesis/id2_id3_0008.mp4  \n",
      "  inflating: Celeb-synthesis/id2_id3_0009.mp4  \n",
      "  inflating: Celeb-synthesis/id2_id4_0000.mp4  \n",
      "  inflating: Celeb-synthesis/id2_id4_0001.mp4  \n",
      "  inflating: Celeb-synthesis/id2_id4_0002.mp4  \n",
      "  inflating: Celeb-synthesis/id2_id4_0003.mp4  \n",
      "  inflating: Celeb-synthesis/id2_id4_0006.mp4  \n",
      "  inflating: Celeb-synthesis/id2_id4_0007.mp4  \n",
      "  inflating: Celeb-synthesis/id2_id4_0008.mp4  \n",
      "  inflating: Celeb-synthesis/id2_id4_0009.mp4  \n",
      "  inflating: Celeb-synthesis/id2_id6_0001.mp4  \n",
      "  inflating: Celeb-synthesis/id2_id6_0002.mp4  \n",
      "  inflating: Celeb-synthesis/id2_id6_0003.mp4  \n",
      "  inflating: Celeb-synthesis/id2_id6_0004.mp4  \n",
      "  inflating: Celeb-synthesis/id2_id6_0005.mp4  \n",
      "  inflating: Celeb-synthesis/id2_id6_0006.mp4  \n",
      "  inflating: Celeb-synthesis/id2_id6_0007.mp4  \n",
      "  inflating: Celeb-synthesis/id2_id6_0008.mp4  \n",
      "  inflating: Celeb-synthesis/id2_id6_0009.mp4  \n",
      "  inflating: Celeb-synthesis/id2_id9_0000.mp4  \n",
      "  inflating: Celeb-synthesis/id2_id9_0001.mp4  \n",
      "  inflating: Celeb-synthesis/id2_id9_0002.mp4  \n",
      "  inflating: Celeb-synthesis/id2_id9_0003.mp4  \n",
      "  inflating: Celeb-synthesis/id2_id9_0004.mp4  \n",
      "  inflating: Celeb-synthesis/id2_id9_0005.mp4  \n",
      "  inflating: Celeb-synthesis/id2_id9_0006.mp4  \n",
      "  inflating: Celeb-synthesis/id2_id9_0007.mp4  \n",
      "  inflating: Celeb-synthesis/id2_id9_0008.mp4  \n",
      "  inflating: Celeb-synthesis/id2_id9_0009.mp4  \n",
      "  inflating: Celeb-synthesis/id3_id0_0000.mp4  \n",
      "  inflating: Celeb-synthesis/id3_id0_0001.mp4  \n",
      "  inflating: Celeb-synthesis/id3_id0_0002.mp4  \n",
      "  inflating: Celeb-synthesis/id3_id0_0003.mp4  \n",
      "  inflating: Celeb-synthesis/id3_id0_0004.mp4  \n",
      "  inflating: Celeb-synthesis/id3_id0_0005.mp4  \n",
      "  inflating: Celeb-synthesis/id3_id0_0006.mp4  \n",
      "  inflating: Celeb-synthesis/id3_id0_0007.mp4  \n",
      "  inflating: Celeb-synthesis/id3_id0_0008.mp4  \n",
      "  inflating: Celeb-synthesis/id3_id0_0009.mp4  \n",
      "  inflating: Celeb-synthesis/id3_id16_0000.mp4  \n",
      "  inflating: Celeb-synthesis/id3_id16_0001.mp4  \n",
      "  inflating: Celeb-synthesis/id3_id16_0002.mp4  \n",
      "  inflating: Celeb-synthesis/id3_id16_0003.mp4  \n",
      "  inflating: Celeb-synthesis/id3_id16_0004.mp4  \n",
      "  inflating: Celeb-synthesis/id3_id16_0005.mp4  \n",
      "  inflating: Celeb-synthesis/id3_id16_0006.mp4  \n",
      "  inflating: Celeb-synthesis/id3_id16_0008.mp4  \n",
      "  inflating: Celeb-synthesis/id3_id16_0009.mp4  \n",
      "  inflating: Celeb-synthesis/id3_id17_0000.mp4  \n",
      "  inflating: Celeb-synthesis/id3_id17_0001.mp4  \n",
      "  inflating: Celeb-synthesis/id3_id17_0002.mp4  \n",
      "  inflating: Celeb-synthesis/id3_id17_0003.mp4  \n",
      "  inflating: Celeb-synthesis/id3_id17_0004.mp4  \n",
      "  inflating: Celeb-synthesis/id3_id17_0005.mp4  \n",
      "  inflating: Celeb-synthesis/id3_id17_0006.mp4  \n",
      "  inflating: Celeb-synthesis/id3_id17_0007.mp4  \n",
      "  inflating: Celeb-synthesis/id3_id17_0008.mp4  \n",
      "  inflating: Celeb-synthesis/id3_id17_0009.mp4  \n",
      "  inflating: Celeb-synthesis/id3_id1_0001.mp4  \n",
      "  inflating: Celeb-synthesis/id3_id1_0002.mp4  \n",
      "  inflating: Celeb-synthesis/id3_id1_0003.mp4  \n",
      "  inflating: Celeb-synthesis/id3_id1_0004.mp4  \n",
      "  inflating: Celeb-synthesis/id3_id1_0005.mp4  \n",
      "  inflating: Celeb-synthesis/id3_id1_0006.mp4  \n",
      "  inflating: Celeb-synthesis/id3_id1_0007.mp4  \n",
      "  inflating: Celeb-synthesis/id3_id1_0008.mp4  \n",
      "  inflating: Celeb-synthesis/id3_id1_0009.mp4  \n",
      "  inflating: Celeb-synthesis/id3_id2_0000.mp4  \n",
      "  inflating: Celeb-synthesis/id3_id2_0001.mp4  \n",
      "  inflating: Celeb-synthesis/id3_id2_0002.mp4  \n",
      "  inflating: Celeb-synthesis/id3_id2_0003.mp4  \n",
      "  inflating: Celeb-synthesis/id3_id2_0004.mp4  \n",
      "  inflating: Celeb-synthesis/id3_id2_0005.mp4  \n",
      "  inflating: Celeb-synthesis/id3_id2_0006.mp4  \n",
      "  inflating: Celeb-synthesis/id3_id2_0007.mp4  \n",
      "  inflating: Celeb-synthesis/id3_id2_0008.mp4  \n",
      "  inflating: Celeb-synthesis/id3_id2_0009.mp4  \n",
      "  inflating: Celeb-synthesis/id3_id4_0001.mp4  \n",
      "  inflating: Celeb-synthesis/id3_id4_0003.mp4  \n",
      "  inflating: Celeb-synthesis/id3_id4_0004.mp4  \n",
      "  inflating: Celeb-synthesis/id3_id4_0005.mp4  \n",
      "  inflating: Celeb-synthesis/id3_id4_0006.mp4  \n",
      "  inflating: Celeb-synthesis/id3_id4_0008.mp4  \n",
      "  inflating: Celeb-synthesis/id3_id6_0000.mp4  \n",
      "  inflating: Celeb-synthesis/id3_id6_0001.mp4  \n",
      "  inflating: Celeb-synthesis/id3_id6_0002.mp4  \n",
      "  inflating: Celeb-synthesis/id3_id6_0003.mp4  \n",
      "  inflating: Celeb-synthesis/id3_id6_0004.mp4  \n",
      "  inflating: Celeb-synthesis/id3_id6_0005.mp4  \n",
      "  inflating: Celeb-synthesis/id3_id6_0006.mp4  \n",
      "  inflating: Celeb-synthesis/id3_id6_0007.mp4  \n",
      "  inflating: Celeb-synthesis/id3_id6_0008.mp4  \n",
      "  inflating: Celeb-synthesis/id3_id6_0009.mp4  \n",
      "  inflating: Celeb-synthesis/id3_id9_0000.mp4  \n",
      "  inflating: Celeb-synthesis/id3_id9_0001.mp4  \n",
      "  inflating: Celeb-synthesis/id3_id9_0002.mp4  \n",
      "  inflating: Celeb-synthesis/id3_id9_0003.mp4  \n",
      "  inflating: Celeb-synthesis/id3_id9_0004.mp4  \n",
      "  inflating: Celeb-synthesis/id3_id9_0005.mp4  \n",
      "  inflating: Celeb-synthesis/id3_id9_0006.mp4  \n",
      "  inflating: Celeb-synthesis/id3_id9_0007.mp4  \n",
      "  inflating: Celeb-synthesis/id3_id9_0008.mp4  \n",
      "  inflating: Celeb-synthesis/id3_id9_0009.mp4  \n",
      "  inflating: Celeb-synthesis/id4_id0_0000.mp4  \n",
      "  inflating: Celeb-synthesis/id4_id0_0001.mp4  \n",
      "  inflating: Celeb-synthesis/id4_id0_0002.mp4  \n",
      "  inflating: Celeb-synthesis/id4_id0_0003.mp4  \n",
      "  inflating: Celeb-synthesis/id4_id0_0004.mp4  \n",
      "  inflating: Celeb-synthesis/id4_id0_0005.mp4  \n",
      "  inflating: Celeb-synthesis/id4_id0_0006.mp4  \n",
      "  inflating: Celeb-synthesis/id4_id0_0007.mp4  \n",
      "  inflating: Celeb-synthesis/id4_id0_0008.mp4  \n",
      "  inflating: Celeb-synthesis/id4_id0_0009.mp4  \n",
      "  inflating: Celeb-synthesis/id4_id1_0000.mp4  \n",
      "  inflating: Celeb-synthesis/id4_id1_0001.mp4  \n",
      "  inflating: Celeb-synthesis/id4_id1_0002.mp4  \n",
      "  inflating: Celeb-synthesis/id4_id1_0003.mp4  \n",
      "  inflating: Celeb-synthesis/id4_id1_0004.mp4  \n",
      "  inflating: Celeb-synthesis/id4_id1_0005.mp4  \n",
      "  inflating: Celeb-synthesis/id4_id1_0006.mp4  \n",
      "  inflating: Celeb-synthesis/id4_id1_0007.mp4  \n",
      "  inflating: Celeb-synthesis/id4_id1_0008.mp4  \n",
      "  inflating: Celeb-synthesis/id4_id1_0009.mp4  \n",
      "  inflating: Celeb-synthesis/id4_id2_0000.mp4  \n",
      "  inflating: Celeb-synthesis/id4_id2_0001.mp4  \n",
      "  inflating: Celeb-synthesis/id4_id2_0002.mp4  \n",
      "  inflating: Celeb-synthesis/id4_id2_0003.mp4  \n",
      "  inflating: Celeb-synthesis/id4_id2_0004.mp4  \n",
      "  inflating: Celeb-synthesis/id4_id2_0005.mp4  \n",
      "  inflating: Celeb-synthesis/id4_id2_0006.mp4  \n",
      "  inflating: Celeb-synthesis/id4_id2_0007.mp4  \n",
      "  inflating: Celeb-synthesis/id4_id2_0008.mp4  \n",
      "  inflating: Celeb-synthesis/id4_id2_0009.mp4  \n",
      "  inflating: Celeb-synthesis/id4_id3_0000.mp4  \n",
      "  inflating: Celeb-synthesis/id4_id3_0001.mp4  \n",
      "  inflating: Celeb-synthesis/id4_id3_0002.mp4  \n",
      "  inflating: Celeb-synthesis/id4_id3_0003.mp4  \n",
      "  inflating: Celeb-synthesis/id4_id3_0004.mp4  \n",
      "  inflating: Celeb-synthesis/id4_id3_0005.mp4  \n",
      "  inflating: Celeb-synthesis/id4_id3_0006.mp4  \n",
      "  inflating: Celeb-synthesis/id4_id3_0007.mp4  \n",
      "  inflating: Celeb-synthesis/id4_id3_0008.mp4  \n",
      "  inflating: Celeb-synthesis/id4_id3_0009.mp4  \n",
      "  inflating: Celeb-synthesis/id4_id6_0000.mp4  \n",
      "  inflating: Celeb-synthesis/id4_id6_0001.mp4  \n",
      "  inflating: Celeb-synthesis/id4_id6_0002.mp4  \n",
      "  inflating: Celeb-synthesis/id4_id6_0003.mp4  \n",
      "  inflating: Celeb-synthesis/id4_id6_0004.mp4  \n",
      "  inflating: Celeb-synthesis/id4_id6_0005.mp4  \n",
      "  inflating: Celeb-synthesis/id4_id6_0006.mp4  \n",
      "  inflating: Celeb-synthesis/id4_id6_0007.mp4  \n",
      "  inflating: Celeb-synthesis/id4_id6_0008.mp4  \n",
      "  inflating: Celeb-synthesis/id4_id6_0009.mp4  \n",
      "  inflating: Celeb-synthesis/id4_id9_0000.mp4  \n",
      "  inflating: Celeb-synthesis/id4_id9_0001.mp4  \n",
      "  inflating: Celeb-synthesis/id4_id9_0002.mp4  \n",
      "  inflating: Celeb-synthesis/id4_id9_0003.mp4  \n",
      "  inflating: Celeb-synthesis/id4_id9_0004.mp4  \n",
      "  inflating: Celeb-synthesis/id4_id9_0005.mp4  \n",
      "  inflating: Celeb-synthesis/id4_id9_0006.mp4  \n",
      "  inflating: Celeb-synthesis/id4_id9_0007.mp4  \n",
      "  inflating: Celeb-synthesis/id4_id9_0008.mp4  \n",
      "  inflating: Celeb-synthesis/id6_id0_0000.mp4  \n",
      "  inflating: Celeb-synthesis/id6_id0_0001.mp4  \n",
      "  inflating: Celeb-synthesis/id6_id0_0002.mp4  \n",
      "  inflating: Celeb-synthesis/id6_id0_0003.mp4  \n",
      "  inflating: Celeb-synthesis/id6_id0_0004.mp4  \n",
      "  inflating: Celeb-synthesis/id6_id0_0005.mp4  \n",
      "  inflating: Celeb-synthesis/id6_id0_0006.mp4  \n",
      "  inflating: Celeb-synthesis/id6_id0_0007.mp4  \n",
      "  inflating: Celeb-synthesis/id6_id0_0008.mp4  \n",
      "  inflating: Celeb-synthesis/id6_id0_0009.mp4  \n",
      "  inflating: Celeb-synthesis/id6_id16_0000.mp4  \n",
      "  inflating: Celeb-synthesis/id6_id16_0001.mp4  \n",
      "  inflating: Celeb-synthesis/id6_id16_0002.mp4  \n",
      "  inflating: Celeb-synthesis/id6_id16_0003.mp4  \n",
      "  inflating: Celeb-synthesis/id6_id16_0004.mp4  \n",
      "  inflating: Celeb-synthesis/id6_id16_0005.mp4  \n",
      "  inflating: Celeb-synthesis/id6_id16_0006.mp4  \n",
      "  inflating: Celeb-synthesis/id6_id16_0007.mp4  \n",
      "  inflating: Celeb-synthesis/id6_id16_0008.mp4  \n",
      "  inflating: Celeb-synthesis/id6_id16_0009.mp4  \n",
      "  inflating: Celeb-synthesis/id6_id17_0000.mp4  \n",
      "  inflating: Celeb-synthesis/id6_id17_0001.mp4  \n",
      "  inflating: Celeb-synthesis/id6_id17_0002.mp4  \n",
      "  inflating: Celeb-synthesis/id6_id17_0003.mp4  \n",
      "  inflating: Celeb-synthesis/id6_id17_0004.mp4  \n",
      "  inflating: Celeb-synthesis/id6_id17_0005.mp4  \n",
      "  inflating: Celeb-synthesis/id6_id17_0006.mp4  \n",
      "  inflating: Celeb-synthesis/id6_id17_0007.mp4  \n",
      "  inflating: Celeb-synthesis/id6_id17_0008.mp4  \n",
      "  inflating: Celeb-synthesis/id6_id17_0009.mp4  \n",
      "  inflating: Celeb-synthesis/id6_id1_0000.mp4  \n",
      "  inflating: Celeb-synthesis/id6_id1_0001.mp4  \n",
      "  inflating: Celeb-synthesis/id6_id1_0002.mp4  \n",
      "  inflating: Celeb-synthesis/id6_id1_0003.mp4  \n",
      "  inflating: Celeb-synthesis/id6_id1_0004.mp4  \n",
      "  inflating: Celeb-synthesis/id6_id1_0005.mp4  \n",
      "  inflating: Celeb-synthesis/id6_id1_0006.mp4  \n",
      "  inflating: Celeb-synthesis/id6_id1_0007.mp4  \n",
      "  inflating: Celeb-synthesis/id6_id1_0008.mp4  \n",
      "  inflating: Celeb-synthesis/id6_id1_0009.mp4  \n",
      "  inflating: Celeb-synthesis/id6_id2_0000.mp4  \n",
      "  inflating: Celeb-synthesis/id6_id2_0001.mp4  \n",
      "  inflating: Celeb-synthesis/id6_id2_0002.mp4  \n",
      "  inflating: Celeb-synthesis/id6_id2_0003.mp4  \n",
      "  inflating: Celeb-synthesis/id6_id2_0004.mp4  \n",
      "  inflating: Celeb-synthesis/id6_id2_0005.mp4  \n",
      "  inflating: Celeb-synthesis/id6_id2_0006.mp4  \n",
      "  inflating: Celeb-synthesis/id6_id2_0007.mp4  \n",
      "  inflating: Celeb-synthesis/id6_id2_0008.mp4  \n",
      "  inflating: Celeb-synthesis/id6_id2_0009.mp4  \n",
      "  inflating: Celeb-synthesis/id6_id3_0000.mp4  \n",
      "  inflating: Celeb-synthesis/id6_id3_0001.mp4  \n",
      "  inflating: Celeb-synthesis/id6_id3_0002.mp4  \n",
      "  inflating: Celeb-synthesis/id6_id3_0003.mp4  \n",
      "  inflating: Celeb-synthesis/id6_id3_0004.mp4  \n",
      "  inflating: Celeb-synthesis/id6_id3_0005.mp4  \n",
      "  inflating: Celeb-synthesis/id6_id3_0006.mp4  \n",
      "  inflating: Celeb-synthesis/id6_id3_0007.mp4  \n",
      "  inflating: Celeb-synthesis/id6_id3_0008.mp4  \n",
      "  inflating: Celeb-synthesis/id6_id3_0009.mp4  \n",
      "  inflating: Celeb-synthesis/id6_id4_0001.mp4  \n",
      "  inflating: Celeb-synthesis/id6_id4_0004.mp4  \n",
      "  inflating: Celeb-synthesis/id6_id4_0005.mp4  \n",
      "  inflating: Celeb-synthesis/id6_id4_0006.mp4  \n",
      "  inflating: Celeb-synthesis/id6_id4_0007.mp4  \n",
      "  inflating: Celeb-synthesis/id6_id4_0008.mp4  \n",
      "  inflating: Celeb-synthesis/id6_id4_0009.mp4  \n",
      "  inflating: Celeb-synthesis/id6_id9_0000.mp4  \n",
      "  inflating: Celeb-synthesis/id6_id9_0001.mp4  \n",
      "  inflating: Celeb-synthesis/id6_id9_0002.mp4  \n",
      "  inflating: Celeb-synthesis/id6_id9_0003.mp4  \n",
      "  inflating: Celeb-synthesis/id6_id9_0004.mp4  \n",
      "  inflating: Celeb-synthesis/id6_id9_0005.mp4  \n",
      "  inflating: Celeb-synthesis/id6_id9_0006.mp4  \n",
      "  inflating: Celeb-synthesis/id6_id9_0007.mp4  \n",
      "  inflating: Celeb-synthesis/id6_id9_0008.mp4  \n",
      "  inflating: Celeb-synthesis/id6_id9_0009.mp4  \n",
      "  inflating: Celeb-synthesis/id7_id10_0001.mp4  \n",
      "  inflating: Celeb-synthesis/id7_id10_0002.mp4  \n",
      "  inflating: Celeb-synthesis/id7_id10_0003.mp4  \n",
      "  inflating: Celeb-synthesis/id7_id10_0004.mp4  \n",
      "  inflating: Celeb-synthesis/id7_id10_0005.mp4  \n",
      "  inflating: Celeb-synthesis/id7_id10_0007.mp4  \n",
      "  inflating: Celeb-synthesis/id7_id10_0009.mp4  \n",
      "  inflating: Celeb-synthesis/id7_id11_0000.mp4  \n",
      "  inflating: Celeb-synthesis/id7_id11_0001.mp4  \n",
      "  inflating: Celeb-synthesis/id7_id11_0002.mp4  \n",
      "  inflating: Celeb-synthesis/id7_id11_0004.mp4  \n",
      "  inflating: Celeb-synthesis/id7_id11_0005.mp4  \n",
      "  inflating: Celeb-synthesis/id7_id11_0006.mp4  \n",
      "  inflating: Celeb-synthesis/id7_id11_0007.mp4  \n",
      "  inflating: Celeb-synthesis/id7_id11_0009.mp4  \n",
      "  inflating: Celeb-synthesis/id7_id12_0000.mp4  \n",
      "  inflating: Celeb-synthesis/id7_id12_0002.mp4  \n",
      "  inflating: Celeb-synthesis/id7_id12_0004.mp4  \n",
      "  inflating: Celeb-synthesis/id7_id12_0005.mp4  \n",
      "  inflating: Celeb-synthesis/id7_id12_0007.mp4  \n",
      "  inflating: Celeb-synthesis/id7_id12_0009.mp4  \n",
      "  inflating: Celeb-synthesis/id7_id13_0000.mp4  \n",
      "  inflating: Celeb-synthesis/id7_id13_0001.mp4  \n",
      "  inflating: Celeb-synthesis/id7_id13_0002.mp4  \n",
      "  inflating: Celeb-synthesis/id7_id13_0004.mp4  \n",
      "  inflating: Celeb-synthesis/id7_id13_0005.mp4  \n",
      "  inflating: Celeb-synthesis/id7_id13_0006.mp4  \n",
      "  inflating: Celeb-synthesis/id7_id13_0007.mp4  \n",
      "  inflating: Celeb-synthesis/id7_id13_0009.mp4  \n",
      "  inflating: Celeb-synthesis/id8_id0_0002.mp4  \n",
      "  inflating: Celeb-synthesis/id8_id0_0003.mp4  \n",
      "  inflating: Celeb-synthesis/id8_id0_0007.mp4  \n",
      "  inflating: Celeb-synthesis/id8_id0_0008.mp4  \n",
      "  inflating: Celeb-synthesis/id8_id1_0002.mp4  \n",
      "  inflating: Celeb-synthesis/id8_id1_0003.mp4  \n",
      "  inflating: Celeb-synthesis/id8_id1_0007.mp4  \n",
      "  inflating: Celeb-synthesis/id8_id1_0008.mp4  \n",
      "  inflating: Celeb-synthesis/id8_id2_0002.mp4  \n",
      "  inflating: Celeb-synthesis/id8_id2_0003.mp4  \n",
      "  inflating: Celeb-synthesis/id8_id2_0007.mp4  \n",
      "  inflating: Celeb-synthesis/id8_id2_0008.mp4  \n",
      "  inflating: Celeb-synthesis/id8_id3_0002.mp4  \n",
      "  inflating: Celeb-synthesis/id8_id3_0003.mp4  \n",
      "  inflating: Celeb-synthesis/id8_id3_0007.mp4  \n",
      "  inflating: Celeb-synthesis/id8_id3_0008.mp4  \n",
      "  inflating: Celeb-synthesis/id8_id4_0007.mp4  \n",
      "  inflating: Celeb-synthesis/id8_id5_0002.mp4  \n",
      "  inflating: Celeb-synthesis/id8_id5_0003.mp4  \n",
      "  inflating: Celeb-synthesis/id8_id5_0007.mp4  \n",
      "  inflating: Celeb-synthesis/id8_id5_0008.mp4  \n",
      "  inflating: Celeb-synthesis/id8_id6_0002.mp4  \n",
      "  inflating: Celeb-synthesis/id8_id6_0003.mp4  \n",
      "  inflating: Celeb-synthesis/id8_id6_0007.mp4  \n",
      "  inflating: Celeb-synthesis/id8_id6_0008.mp4  \n",
      "  inflating: Celeb-synthesis/id8_id7_0002.mp4  \n",
      "  inflating: Celeb-synthesis/id8_id7_0003.mp4  \n",
      "  inflating: Celeb-synthesis/id8_id7_0007.mp4  \n",
      "  inflating: Celeb-synthesis/id8_id7_0008.mp4  \n",
      "  inflating: Celeb-synthesis/id8_id9_0002.mp4  \n",
      "  inflating: Celeb-synthesis/id8_id9_0003.mp4  \n",
      "  inflating: Celeb-synthesis/id8_id9_0007.mp4  \n",
      "  inflating: Celeb-synthesis/id8_id9_0008.mp4  \n",
      "  inflating: Celeb-synthesis/id9_id0_0000.mp4  \n",
      "  inflating: Celeb-synthesis/id9_id0_0001.mp4  \n",
      "  inflating: Celeb-synthesis/id9_id0_0003.mp4  \n",
      "  inflating: Celeb-synthesis/id9_id0_0004.mp4  \n",
      "  inflating: Celeb-synthesis/id9_id0_0005.mp4  \n",
      "  inflating: Celeb-synthesis/id9_id0_0006.mp4  \n",
      "  inflating: Celeb-synthesis/id9_id0_0007.mp4  \n",
      "  inflating: Celeb-synthesis/id9_id0_0008.mp4  \n",
      "  inflating: Celeb-synthesis/id9_id0_0009.mp4  \n",
      "  inflating: Celeb-synthesis/id9_id16_0000.mp4  \n",
      "  inflating: Celeb-synthesis/id9_id16_0001.mp4  \n",
      "  inflating: Celeb-synthesis/id9_id16_0002.mp4  \n",
      "  inflating: Celeb-synthesis/id9_id16_0003.mp4  \n",
      "  inflating: Celeb-synthesis/id9_id16_0004.mp4  \n",
      "  inflating: Celeb-synthesis/id9_id16_0005.mp4  \n",
      "  inflating: Celeb-synthesis/id9_id16_0006.mp4  \n",
      "  inflating: Celeb-synthesis/id9_id16_0007.mp4  \n",
      "  inflating: Celeb-synthesis/id9_id16_0008.mp4  \n",
      "  inflating: Celeb-synthesis/id9_id16_0009.mp4  \n",
      "  inflating: Celeb-synthesis/id9_id17_0000.mp4  \n",
      "  inflating: Celeb-synthesis/id9_id17_0001.mp4  \n",
      "  inflating: Celeb-synthesis/id9_id17_0002.mp4  \n",
      "  inflating: Celeb-synthesis/id9_id17_0003.mp4  \n",
      "  inflating: Celeb-synthesis/id9_id17_0004.mp4  \n",
      "  inflating: Celeb-synthesis/id9_id17_0005.mp4  \n",
      "  inflating: Celeb-synthesis/id9_id17_0006.mp4  \n",
      "  inflating: Celeb-synthesis/id9_id17_0007.mp4  \n",
      "  inflating: Celeb-synthesis/id9_id17_0008.mp4  \n",
      "  inflating: Celeb-synthesis/id9_id17_0009.mp4  \n",
      "  inflating: Celeb-synthesis/id9_id1_0000.mp4  \n",
      "  inflating: Celeb-synthesis/id9_id1_0001.mp4  \n",
      "  inflating: Celeb-synthesis/id9_id1_0002.mp4  \n",
      "  inflating: Celeb-synthesis/id9_id1_0004.mp4  \n",
      "  inflating: Celeb-synthesis/id9_id1_0005.mp4  \n",
      "  inflating: Celeb-synthesis/id9_id1_0006.mp4  \n",
      "  inflating: Celeb-synthesis/id9_id1_0008.mp4  \n",
      "  inflating: Celeb-synthesis/id9_id1_0009.mp4  \n",
      "  inflating: Celeb-synthesis/id9_id2_0000.mp4  \n",
      "  inflating: Celeb-synthesis/id9_id2_0001.mp4  \n",
      "  inflating: Celeb-synthesis/id9_id2_0002.mp4  \n",
      "  inflating: Celeb-synthesis/id9_id2_0004.mp4  \n",
      "  inflating: Celeb-synthesis/id9_id2_0005.mp4  \n",
      "  inflating: Celeb-synthesis/id9_id2_0006.mp4  \n",
      "  inflating: Celeb-synthesis/id9_id2_0007.mp4  \n",
      "  inflating: Celeb-synthesis/id9_id2_0008.mp4  \n",
      "  inflating: Celeb-synthesis/id9_id2_0009.mp4  \n",
      "  inflating: Celeb-synthesis/id9_id3_0000.mp4  \n",
      "  inflating: Celeb-synthesis/id9_id3_0001.mp4  \n",
      "  inflating: Celeb-synthesis/id9_id3_0002.mp4  \n",
      "  inflating: Celeb-synthesis/id9_id3_0004.mp4  \n",
      "  inflating: Celeb-synthesis/id9_id3_0005.mp4  \n",
      "  inflating: Celeb-synthesis/id9_id3_0006.mp4  \n",
      "  inflating: Celeb-synthesis/id9_id3_0007.mp4  \n",
      "  inflating: Celeb-synthesis/id9_id3_0008.mp4  \n",
      "  inflating: Celeb-synthesis/id9_id3_0009.mp4  \n",
      "  inflating: Celeb-synthesis/id9_id4_0000.mp4  \n",
      "  inflating: Celeb-synthesis/id9_id4_0001.mp4  \n",
      "  inflating: Celeb-synthesis/id9_id4_0002.mp4  \n",
      "  inflating: Celeb-synthesis/id9_id4_0004.mp4  \n",
      "  inflating: Celeb-synthesis/id9_id4_0005.mp4  \n",
      "  inflating: Celeb-synthesis/id9_id4_0006.mp4  \n",
      "  inflating: Celeb-synthesis/id9_id4_0007.mp4  \n",
      "  inflating: Celeb-synthesis/id9_id4_0008.mp4  \n",
      "  inflating: Celeb-synthesis/id9_id4_0009.mp4  \n",
      "  inflating: Celeb-synthesis/id9_id6_0000.mp4  \n",
      "  inflating: Celeb-synthesis/id9_id6_0001.mp4  \n",
      "  inflating: Celeb-synthesis/id9_id6_0002.mp4  \n",
      "  inflating: Celeb-synthesis/id9_id6_0004.mp4  \n",
      "  inflating: Celeb-synthesis/id9_id6_0005.mp4  \n",
      "  inflating: Celeb-synthesis/id9_id6_0006.mp4  \n",
      "  inflating: Celeb-synthesis/id9_id6_0007.mp4  \n",
      "  inflating: Celeb-synthesis/id9_id6_0008.mp4  \n",
      "  inflating: Celeb-synthesis/id9_id6_0009.mp4  \n",
      "  inflating: List_of_testing_videos.txt  \n",
      "   creating: YouTube-real/\n",
      "  inflating: YouTube-real/00000.mp4  \n",
      "  inflating: YouTube-real/00001.mp4  \n",
      "  inflating: YouTube-real/00002.mp4  \n",
      "  inflating: YouTube-real/00003.mp4  \n",
      "  inflating: YouTube-real/00004.mp4  \n",
      "  inflating: YouTube-real/00005.mp4  \n",
      "  inflating: YouTube-real/00006.mp4  \n",
      "  inflating: YouTube-real/00007.mp4  \n",
      "  inflating: YouTube-real/00008.mp4  \n",
      "  inflating: YouTube-real/00009.mp4  \n",
      "  inflating: YouTube-real/00010.mp4  \n",
      "  inflating: YouTube-real/00011.mp4  \n",
      "  inflating: YouTube-real/00012.mp4  \n",
      "  inflating: YouTube-real/00013.mp4  \n",
      "  inflating: YouTube-real/00014.mp4  \n",
      "  inflating: YouTube-real/00015.mp4  \n",
      "  inflating: YouTube-real/00016.mp4  \n",
      "  inflating: YouTube-real/00017.mp4  \n",
      "  inflating: YouTube-real/00018.mp4  \n",
      "  inflating: YouTube-real/00019.mp4  \n",
      "  inflating: YouTube-real/00020.mp4  \n",
      "  inflating: YouTube-real/00021.mp4  \n",
      "  inflating: YouTube-real/00022.mp4  \n",
      "  inflating: YouTube-real/00023.mp4  \n",
      "  inflating: YouTube-real/00024.mp4  \n",
      "  inflating: YouTube-real/00025.mp4  \n",
      "  inflating: YouTube-real/00026.mp4  \n",
      "  inflating: YouTube-real/00027.mp4  \n",
      "  inflating: YouTube-real/00028.mp4  \n",
      "  inflating: YouTube-real/00029.mp4  \n",
      "  inflating: YouTube-real/00030.mp4  \n",
      "  inflating: YouTube-real/00031.mp4  \n",
      "  inflating: YouTube-real/00032.mp4  \n",
      "  inflating: YouTube-real/00033.mp4  \n",
      "  inflating: YouTube-real/00034.mp4  \n",
      "  inflating: YouTube-real/00035.mp4  \n",
      "  inflating: YouTube-real/00036.mp4  \n",
      "  inflating: YouTube-real/00037.mp4  \n",
      "  inflating: YouTube-real/00038.mp4  \n",
      "  inflating: YouTube-real/00039.mp4  \n",
      "  inflating: YouTube-real/00040.mp4  \n",
      "  inflating: YouTube-real/00041.mp4  \n",
      "  inflating: YouTube-real/00042.mp4  \n",
      "  inflating: YouTube-real/00043.mp4  \n",
      "  inflating: YouTube-real/00044.mp4  \n",
      "  inflating: YouTube-real/00045.mp4  \n",
      "  inflating: YouTube-real/00046.mp4  \n",
      "  inflating: YouTube-real/00047.mp4  \n",
      "  inflating: YouTube-real/00048.mp4  \n",
      "  inflating: YouTube-real/00049.mp4  \n",
      "  inflating: YouTube-real/00050.mp4  \n",
      "  inflating: YouTube-real/00051.mp4  \n",
      "  inflating: YouTube-real/00052.mp4  \n",
      "  inflating: YouTube-real/00053.mp4  \n",
      "  inflating: YouTube-real/00054.mp4  \n",
      "  inflating: YouTube-real/00055.mp4  \n",
      "  inflating: YouTube-real/00056.mp4  \n",
      "  inflating: YouTube-real/00057.mp4  \n",
      "  inflating: YouTube-real/00058.mp4  \n",
      "  inflating: YouTube-real/00059.mp4  \n",
      "  inflating: YouTube-real/00060.mp4  \n",
      "  inflating: YouTube-real/00061.mp4  \n",
      "  inflating: YouTube-real/00062.mp4  \n",
      "  inflating: YouTube-real/00063.mp4  \n",
      "  inflating: YouTube-real/00064.mp4  \n",
      "  inflating: YouTube-real/00065.mp4  \n",
      "  inflating: YouTube-real/00066.mp4  \n",
      "  inflating: YouTube-real/00067.mp4  \n",
      "  inflating: YouTube-real/00068.mp4  \n",
      "  inflating: YouTube-real/00069.mp4  \n",
      "  inflating: YouTube-real/00070.mp4  \n",
      "  inflating: YouTube-real/00071.mp4  \n",
      "  inflating: YouTube-real/00072.mp4  \n",
      "  inflating: YouTube-real/00073.mp4  \n",
      "  inflating: YouTube-real/00074.mp4  \n",
      "  inflating: YouTube-real/00075.mp4  \n",
      "  inflating: YouTube-real/00076.mp4  \n",
      "  inflating: YouTube-real/00077.mp4  \n",
      "  inflating: YouTube-real/00078.mp4  \n",
      "  inflating: YouTube-real/00079.mp4  \n",
      "  inflating: YouTube-real/00080.mp4  \n",
      "  inflating: YouTube-real/00081.mp4  \n",
      "  inflating: YouTube-real/00082.mp4  \n",
      "  inflating: YouTube-real/00083.mp4  \n",
      "  inflating: YouTube-real/00084.mp4  \n",
      "  inflating: YouTube-real/00085.mp4  \n",
      "  inflating: YouTube-real/00086.mp4  \n",
      "  inflating: YouTube-real/00087.mp4  \n",
      "  inflating: YouTube-real/00088.mp4  \n",
      "  inflating: YouTube-real/00089.mp4  \n",
      "  inflating: YouTube-real/00090.mp4  \n",
      "  inflating: YouTube-real/00091.mp4  \n",
      "  inflating: YouTube-real/00092.mp4  \n",
      "  inflating: YouTube-real/00093.mp4  \n",
      "  inflating: YouTube-real/00094.mp4  \n",
      "  inflating: YouTube-real/00095.mp4  \n",
      "  inflating: YouTube-real/00096.mp4  \n",
      "  inflating: YouTube-real/00097.mp4  \n",
      "  inflating: YouTube-real/00098.mp4  \n",
      "  inflating: YouTube-real/00099.mp4  \n",
      "  inflating: YouTube-real/00100.mp4  \n",
      "  inflating: YouTube-real/00101.mp4  \n",
      "  inflating: YouTube-real/00102.mp4  \n",
      "  inflating: YouTube-real/00103.mp4  \n",
      "  inflating: YouTube-real/00104.mp4  \n",
      "  inflating: YouTube-real/00105.mp4  \n",
      "  inflating: YouTube-real/00106.mp4  \n",
      "  inflating: YouTube-real/00107.mp4  \n",
      "  inflating: YouTube-real/00108.mp4  \n",
      "  inflating: YouTube-real/00109.mp4  \n",
      "  inflating: YouTube-real/00110.mp4  \n",
      "  inflating: YouTube-real/00111.mp4  \n",
      "  inflating: YouTube-real/00112.mp4  \n",
      "  inflating: YouTube-real/00113.mp4  \n",
      "  inflating: YouTube-real/00114.mp4  \n",
      "  inflating: YouTube-real/00115.mp4  \n",
      "  inflating: YouTube-real/00116.mp4  \n",
      "  inflating: YouTube-real/00117.mp4  \n",
      "  inflating: YouTube-real/00118.mp4  \n",
      "  inflating: YouTube-real/00119.mp4  \n",
      "  inflating: YouTube-real/00120.mp4  \n",
      "  inflating: YouTube-real/00121.mp4  \n",
      "  inflating: YouTube-real/00122.mp4  \n",
      "  inflating: YouTube-real/00123.mp4  \n",
      "  inflating: YouTube-real/00124.mp4  \n",
      "  inflating: YouTube-real/00125.mp4  \n",
      "  inflating: YouTube-real/00126.mp4  \n",
      "  inflating: YouTube-real/00127.mp4  \n",
      "  inflating: YouTube-real/00128.mp4  \n",
      "  inflating: YouTube-real/00129.mp4  \n",
      "  inflating: YouTube-real/00130.mp4  \n",
      "  inflating: YouTube-real/00131.mp4  \n",
      "  inflating: YouTube-real/00132.mp4  \n",
      "  inflating: YouTube-real/00133.mp4  \n",
      "  inflating: YouTube-real/00134.mp4  \n",
      "  inflating: YouTube-real/00135.mp4  \n",
      "  inflating: YouTube-real/00136.mp4  \n",
      "  inflating: YouTube-real/00137.mp4  \n",
      "  inflating: YouTube-real/00138.mp4  \n",
      "  inflating: YouTube-real/00139.mp4  \n",
      "  inflating: YouTube-real/00140.mp4  \n",
      "  inflating: YouTube-real/00141.mp4  \n",
      "  inflating: YouTube-real/00142.mp4  \n",
      "  inflating: YouTube-real/00143.mp4  \n",
      "  inflating: YouTube-real/00144.mp4  \n",
      "  inflating: YouTube-real/00145.mp4  \n",
      "  inflating: YouTube-real/00146.mp4  \n",
      "  inflating: YouTube-real/00147.mp4  \n",
      "  inflating: YouTube-real/00148.mp4  \n",
      "  inflating: YouTube-real/00149.mp4  \n",
      "  inflating: YouTube-real/00150.mp4  \n",
      "  inflating: YouTube-real/00151.mp4  \n",
      "  inflating: YouTube-real/00152.mp4  \n",
      "  inflating: YouTube-real/00153.mp4  \n",
      "  inflating: YouTube-real/00154.mp4  \n",
      "  inflating: YouTube-real/00155.mp4  \n",
      "  inflating: YouTube-real/00156.mp4  \n",
      "  inflating: YouTube-real/00157.mp4  \n",
      "  inflating: YouTube-real/00158.mp4  \n",
      "  inflating: YouTube-real/00159.mp4  \n",
      "  inflating: YouTube-real/00160.mp4  \n",
      "  inflating: YouTube-real/00161.mp4  \n",
      "  inflating: YouTube-real/00162.mp4  \n",
      "  inflating: YouTube-real/00163.mp4  \n",
      "  inflating: YouTube-real/00164.mp4  \n",
      "  inflating: YouTube-real/00165.mp4  \n",
      "  inflating: YouTube-real/00166.mp4  \n",
      "  inflating: YouTube-real/00167.mp4  \n",
      "  inflating: YouTube-real/00168.mp4  \n",
      "  inflating: YouTube-real/00169.mp4  \n",
      "  inflating: YouTube-real/00170.mp4  \n",
      "  inflating: YouTube-real/00171.mp4  \n",
      "  inflating: YouTube-real/00172.mp4  \n",
      "  inflating: YouTube-real/00173.mp4  \n",
      "  inflating: YouTube-real/00174.mp4  \n",
      "  inflating: YouTube-real/00175.mp4  \n",
      "  inflating: YouTube-real/00176.mp4  \n",
      "  inflating: YouTube-real/00177.mp4  \n",
      "  inflating: YouTube-real/00178.mp4  \n",
      "  inflating: YouTube-real/00179.mp4  \n",
      "  inflating: YouTube-real/00180.mp4  \n",
      "  inflating: YouTube-real/00181.mp4  \n",
      "  inflating: YouTube-real/00182.mp4  \n",
      "  inflating: YouTube-real/00183.mp4  \n",
      "  inflating: YouTube-real/00184.mp4  \n",
      "  inflating: YouTube-real/00185.mp4  \n",
      "  inflating: YouTube-real/00186.mp4  \n",
      "  inflating: YouTube-real/00187.mp4  \n",
      "  inflating: YouTube-real/00188.mp4  \n",
      "  inflating: YouTube-real/00189.mp4  \n",
      "  inflating: YouTube-real/00190.mp4  \n",
      "  inflating: YouTube-real/00191.mp4  \n",
      "  inflating: YouTube-real/00192.mp4  \n",
      "  inflating: YouTube-real/00193.mp4  \n",
      "  inflating: YouTube-real/00194.mp4  \n",
      "  inflating: YouTube-real/00195.mp4  \n",
      "  inflating: YouTube-real/00196.mp4  \n",
      "  inflating: YouTube-real/00197.mp4  \n",
      "  inflating: YouTube-real/00198.mp4  \n",
      "  inflating: YouTube-real/00199.mp4  \n",
      "  inflating: YouTube-real/00200.mp4  \n",
      "  inflating: YouTube-real/00201.mp4  \n",
      "  inflating: YouTube-real/00202.mp4  \n",
      "  inflating: YouTube-real/00203.mp4  \n",
      "  inflating: YouTube-real/00204.mp4  \n",
      "  inflating: YouTube-real/00205.mp4  \n",
      "  inflating: YouTube-real/00206.mp4  \n",
      "  inflating: YouTube-real/00207.mp4  \n",
      "  inflating: YouTube-real/00208.mp4  \n",
      "  inflating: YouTube-real/00209.mp4  \n",
      "  inflating: YouTube-real/00210.mp4  \n",
      "  inflating: YouTube-real/00211.mp4  \n",
      "  inflating: YouTube-real/00212.mp4  \n",
      "  inflating: YouTube-real/00213.mp4  \n",
      "  inflating: YouTube-real/00214.mp4  \n",
      "  inflating: YouTube-real/00215.mp4  \n",
      "  inflating: YouTube-real/00216.mp4  \n",
      "  inflating: YouTube-real/00217.mp4  \n",
      "  inflating: YouTube-real/00218.mp4  \n",
      "  inflating: YouTube-real/00219.mp4  \n",
      "  inflating: YouTube-real/00220.mp4  \n",
      "  inflating: YouTube-real/00221.mp4  \n",
      "  inflating: YouTube-real/00222.mp4  \n",
      "  inflating: YouTube-real/00223.mp4  \n",
      "  inflating: YouTube-real/00224.mp4  \n",
      "  inflating: YouTube-real/00225.mp4  \n",
      "  inflating: YouTube-real/00226.mp4  \n",
      "  inflating: YouTube-real/00227.mp4  \n",
      "  inflating: YouTube-real/00228.mp4  \n",
      "  inflating: YouTube-real/00229.mp4  \n",
      "  inflating: YouTube-real/00230.mp4  \n",
      "  inflating: YouTube-real/00231.mp4  \n",
      "  inflating: YouTube-real/00232.mp4  \n",
      "  inflating: YouTube-real/00233.mp4  \n",
      "  inflating: YouTube-real/00234.mp4  \n",
      "  inflating: YouTube-real/00235.mp4  \n",
      "  inflating: YouTube-real/00236.mp4  \n",
      "  inflating: YouTube-real/00237.mp4  \n",
      "  inflating: YouTube-real/00238.mp4  \n",
      "  inflating: YouTube-real/00239.mp4  \n",
      "  inflating: YouTube-real/00240.mp4  \n",
      "  inflating: YouTube-real/00241.mp4  \n",
      "  inflating: YouTube-real/00242.mp4  \n",
      "  inflating: YouTube-real/00243.mp4  \n",
      "  inflating: YouTube-real/00244.mp4  \n",
      "  inflating: YouTube-real/00245.mp4  \n",
      "  inflating: YouTube-real/00246.mp4  \n",
      "  inflating: YouTube-real/00247.mp4  \n",
      "  inflating: YouTube-real/00248.mp4  \n",
      "  inflating: YouTube-real/00249.mp4  \n"
     ]
    }
   ],
   "source": [
    "!gdown --id 1GsJnHzkHrQKBDP_vsC2y6pVivi7vjyBA\n",
    "!unzip Celeb-DF.zip\n"
   ]
  },
  {
   "cell_type": "code",
   "execution_count": 15,
   "id": "4cb7e8db-50cd-4334-b4d3-31c7fac6af28",
   "metadata": {
    "scrolled": true
   },
   "outputs": [
    {
     "name": "stdout",
     "output_type": "stream",
     "text": [
      "finish download and extract\n"
     ]
    }
   ],
   "source": [
    "print(\"finish download and extract\")"
   ]
  },
  {
   "cell_type": "code",
   "execution_count": 1,
   "id": "6bcbfcaf-2ddb-4ff8-8868-85513a5d7c74",
   "metadata": {
    "scrolled": true
   },
   "outputs": [],
   "source": [
    "import cv2\n",
    "import os\n",
    "import glob\n",
    "import torch\n",
    "import face_recognition\n",
    "import numpy as np\n",
    "from sklearn.model_selection import train_test_split\n",
    "from torch.utils.data import Dataset, DataLoader\n",
    "from multiprocessing import Pool, cpu_count\n",
    "from concurrent.futures import ThreadPoolExecutor, as_completed\n",
    "import torch.nn as nn\n",
    "import torch.optim as optim\n",
    "import torchvision.transforms as transforms\n",
    "import torch\n",
    "from torch.optim import Adam\n",
    "from torch.nn import CrossEntropyLoss\n",
    "from torchvision import models\n",
    "from torch import nn"
   ]
  },
  {
   "cell_type": "code",
   "execution_count": 2,
   "id": "f6ff301b-63fb-4695-bdc8-77f672883511",
   "metadata": {},
   "outputs": [],
   "source": [
    "import cv2\n",
    "import os\n",
    "import glob\n",
    "import torch\n",
    "import face_recognition\n",
    "import numpy as np\n",
    "from sklearn.model_selection import train_test_split\n",
    "from torch.utils.data import Dataset, DataLoader\n",
    "from multiprocessing import Pool, cpu_count\n",
    "from concurrent.futures import ThreadPoolExecutor, as_completed\n",
    "import torch.nn as nn\n",
    "import torch.optim as optim\n",
    "import torchvision.transforms as transforms\n",
    "import torch\n",
    "from torch.optim import Adam\n",
    "from torch.nn import CrossEntropyLoss\n",
    "from torchvision import models\n",
    "from torch import nn\n",
    "# Utility Functions for Video Processing\n",
    "def frame_extract(video_path, output_dir, frame_rate=1):\n",
    "    \"\"\"\n",
    "    Extract frames from a video at specified frame rate\n",
    "    \n",
    "    Args:\n",
    "        video_path (str): Path to input video\n",
    "        output_dir (str): Directory to save extracted frames\n",
    "        frame_rate (int): Number of frames to extract per second\n",
    "    \"\"\"\n",
    "    os.makedirs(output_dir, exist_ok=True)\n",
    "    vid_cap = cv2.VideoCapture(video_path)\n",
    "    success, image = vid_cap.read()\n",
    "    count = 0\n",
    "    fps = int(vid_cap.get(cv2.CAP_PROP_FPS))\n",
    "    interval = max(1, fps // frame_rate)\n",
    "\n",
    "    while success:\n",
    "        if count % interval == 0:\n",
    "            frame_name = os.path.join(output_dir, f\"frame_{count}.jpg\")\n",
    "            cv2.imwrite(frame_name, image)\n",
    "        success, image = vid_cap.read()\n",
    "        count += 1\n",
    "\n",
    "    vid_cap.release()\n",
    "    print(f\"Saved {count // interval} frames to {output_dir}\")\n",
    "\n",
    "def extract_faces(frame_dir, output_dir, face_size=(112, 112)):\n",
    "    \"\"\"\n",
    "    Extract faces from video frames\n",
    "    \n",
    "    Args:\n",
    "        frame_dir (str): Directory containing video frames\n",
    "        output_dir (str): Directory to save extracted faces\n",
    "        face_size (tuple): Desired size of extracted faces\n",
    "    \"\"\"\n",
    "    os.makedirs(output_dir, exist_ok=True)\n",
    "    frame_files = sorted([os.path.join(frame_dir, f) for f in os.listdir(frame_dir) if f.endswith('.jpg')])\n",
    "\n",
    "    for frame_file in frame_files:\n",
    "        image = cv2.imread(frame_file)\n",
    "        rgb_image = cv2.cvtColor(image, cv2.COLOR_BGR2RGB)\n",
    "        face_locations = face_recognition.face_locations(rgb_image)\n",
    "\n",
    "        for idx, (top, right, bottom, left) in enumerate(face_locations):\n",
    "            face = rgb_image[top:bottom, left:right]\n",
    "            face = cv2.resize(face, face_size)\n",
    "            face_path = os.path.join(output_dir, f\"{os.path.basename(frame_file).split('.')[0]}_face_{idx}.jpg\")\n",
    "            cv2.imwrite(face_path, cv2.cvtColor(face, cv2.COLOR_RGB2BGR))\n",
    "\n",
    "    print(f\"Faces saved to {output_dir}\")\n",
    "\n",
    "def save_face_video(face_dir, output_video_path, fps=30, size=(112, 112)):\n",
    "    \"\"\"\n",
    "    Create a video from extracted face images\n",
    "    \n",
    "    Args:\n",
    "        face_dir (str): Directory containing face images\n",
    "        output_video_path (str): Path to save output video\n",
    "        fps (int): Frames per second\n",
    "        size (tuple): Video frame size\n",
    "    \"\"\"\n",
    "    frame_files = sorted([os.path.join(face_dir, f) for f in os.listdir(face_dir) if f.endswith('.jpg')])\n",
    "    out = cv2.VideoWriter(output_video_path, cv2.VideoWriter_fourcc(*'MP4V'), fps, size)\n",
    "\n",
    "    for frame_file in frame_files:\n",
    "        frame = cv2.imread(frame_file)\n",
    "        out.write(frame)\n",
    "    out.release()\n",
    "    print(f\"Face video saved to {output_video_path}\")\n",
    "\n",
    "def process_video(video):\n",
    "    \"\"\"\n",
    "    Process a single video: extract frames, faces, and save\n",
    "    \n",
    "    Args:\n",
    "        video (str): Path to input video\n",
    "    \"\"\"\n",
    "    video_name = os.path.splitext(os.path.basename(video))[0]\n",
    "    frame_dir = f'frames/{video_name}'\n",
    "    face_dir = f'faces/{video_name}'\n",
    "    processed_video_path = f'processed_videos/{video_name}.mp4'\n",
    "\n",
    "    os.makedirs('frames', exist_ok=True)\n",
    "    os.makedirs('faces', exist_ok=True)\n",
    "    os.makedirs('processed_videos', exist_ok=True)\n",
    "\n",
    "    frame_extract(video, frame_dir)  # Extract frames\n",
    "    extract_faces(frame_dir, face_dir)  # Extract faces\n",
    "    save_face_video(face_dir, processed_video_path)  # Save face video\n",
    "\n",
    "def parallel_video_processing(videos):\n",
    "    \"\"\"\n",
    "    Process videos in parallel using multiprocessing\n",
    "    \n",
    "    Args:\n",
    "        videos (list): List of video paths\n",
    "    \"\"\"\n",
    "    num_cores = cpu_count()\n",
    "    with Pool(num_cores) as pool:\n",
    "        pool.map(process_video, videos)\n",
    "\n",
    "class VideoDataset(Dataset):\n",
    "    def __init__(self, video_paths, labels, transform=None, num_frames=16):\n",
    "        self.video_paths = video_paths\n",
    "        self.labels = labels\n",
    "        self.transform = transform or transforms.Compose([\n",
    "            transforms.ToPILImage(),\n",
    "            transforms.Resize((112, 112)),\n",
    "            transforms.ToTensor(),\n",
    "            transforms.Normalize(mean=[0.485, 0.456, 0.406], \n",
    "                                 std=[0.229, 0.224, 0.225])\n",
    "        ])\n",
    "        self.num_frames = num_frames\n",
    "\n",
    "    def __getitem__(self, idx):\n",
    "        video_path = self.video_paths[idx]\n",
    "        label = self.labels[idx]\n",
    "\n",
    "        frames = []\n",
    "        cap = cv2.VideoCapture(video_path)\n",
    "        success, frame = cap.read()\n",
    "        while success:\n",
    "            frame = self.transform(frame)\n",
    "            frames.append(frame)\n",
    "            success, frame = cap.read()\n",
    "        cap.release()\n",
    "\n",
    "        # Pad or truncate frames to a fixed length\n",
    "        if len(frames) > self.num_frames:\n",
    "            frames = frames[:self.num_frames]\n",
    "        else:\n",
    "            # Pad with zero-frames if too short\n",
    "            while len(frames) < self.num_frames:\n",
    "                frames.append(torch.zeros_like(frames[0]))\n",
    "\n",
    "        return torch.stack(frames), label\n",
    "\n",
    "    def __len__(self):\n",
    "        return len(self.video_paths)\n"
   ]
  },
  {
   "cell_type": "code",
   "execution_count": 4,
   "id": "5be4e31d-6e1d-4f4a-bcfa-72e8269247c5",
   "metadata": {},
   "outputs": [],
   "source": [
    "class DeepfakeModel(nn.Module):\n",
    "    def __init__(self, num_classes=2, lstm_hidden_dim=2048, lstm_layers=1, bidirectional=False):\n",
    "        super(DeepfakeModel, self).__init__()\n",
    "\n",
    "        # ResNext50 Feature Extractor\n",
    "        base_model = models.resnext50_32x4d(pretrained=True)\n",
    "        self.feature_extractor = nn.Sequential(*list(base_model.children())[:-2])\n",
    "        self.avgpool = nn.AdaptiveAvgPool2d((1, 1))\n",
    "\n",
    "        # LSTM for Temporal Modeling\n",
    "        feature_dim = 2048  # Output dimension of ResNext50\n",
    "        self.lstm = nn.LSTM(input_size=feature_dim,\n",
    "                            hidden_size=lstm_hidden_dim,\n",
    "                            num_layers=lstm_layers,\n",
    "                            batch_first=True,\n",
    "                            bidirectional=bidirectional)\n",
    "\n",
    "        # Fully Connected Layer for Classification\n",
    "        lstm_output_dim = lstm_hidden_dim * (2 if bidirectional else 1)\n",
    "        self.fc = nn.Linear(lstm_output_dim, num_classes)\n",
    "\n",
    "    def forward(self, x):\n",
    "        \"\"\"\n",
    "        Forward pass for Deepfake Detection Model.\n",
    "        x: Input tensor of shape (batch_size, seq_len, c, h, w)\n",
    "        \"\"\"\n",
    "        batch_size, seq_len, c, h, w = x.size()\n",
    "        x = x.view(batch_size * seq_len, c, h, w)\n",
    "        x = self.feature_extractor(x)  # Feature extraction\n",
    "        x = self.avgpool(x)\n",
    "        x = x.view(batch_size, seq_len, -1)\n",
    "\n",
    "        # Pass through LSTM\n",
    "        lstm_out, _ = self.lstm(x)\n",
    "        lstm_out = lstm_out[:, -1, :]  # Take output from the last time step\n",
    "\n",
    "        # Classification\n",
    "        out = self.fc(lstm_out)\n",
    "        return out\n"
   ]
  },
  {
   "cell_type": "code",
   "execution_count": 9,
   "id": "c0ccaf5a-8523-4a69-b2a7-a5f1dd415b57",
   "metadata": {},
   "outputs": [
    {
     "name": "stdout",
     "output_type": "stream",
     "text": [
      "Using device: cuda\n"
     ]
    }
   ],
   "source": [
    "# Detect available device\n",
    "device = torch.device(\"cuda\" if torch.cuda.is_available() else \"cpu\")\n",
    "print(f\"Using device: {device}\")"
   ]
  },
  {
   "cell_type": "code",
   "execution_count": 10,
   "id": "3e16b89e-6de9-426b-838c-5e6149478e47",
   "metadata": {
    "scrolled": true
   },
   "outputs": [
    {
     "name": "stdout",
     "output_type": "stream",
     "text": [
      "Saved 7 frames to frames/id10_0000\n",
      "Saved 10 frames to frames/id1_0007\n",
      "Saved 12 frames to frames/id11_0000Saved 9 frames to frames/id16_0011Saved 11 frames to frames/id17_0002\n",
      "\n",
      "\n",
      "Saved 9 frames to frames/id7_0002\n",
      "Saved 7 frames to frames/id16_0006\n",
      "Saved 9 frames to frames/id17_0007\n",
      "Saved 13 frames to frames/id1_0002Saved 10 frames to frames/id11_0005Saved 10 frames to frames/id16_0001\n",
      "\n",
      "\n",
      "Saved 12 frames to frames/id3_0007\n",
      "Saved 11 frames to frames/id12_0004\n",
      "Saved 11 frames to frames/00137\n",
      "Saved 15 frames to frames/id2_0007\n",
      "Saved 14 frames to frames/id3_0002Saved 12 frames to frames/id2_0002\n",
      "\n",
      "Saved 11 frames to frames/id11_0010Saved 9 frames to frames/00017\n",
      "Saved 14 frames to frames/id4_0007\n",
      "Saved 13 frames to frames/id7_0007\n",
      "\n",
      "Saved 10 frames to frames/id10_0005\n",
      "Saved 15 frames to frames/00037Saved 16 frames to frames/id4_0002Saved 15 frames to frames/00022\n",
      "\n",
      "\n",
      "Saved 15 frames to frames/00052\n",
      "Saved 15 frames to frames/00082Saved 12 frames to frames/00042\n",
      "\n",
      "Saved 15 frames to frames/id9_0007\n",
      "Saved 15 frames to frames/00077\n",
      "Saved 15 frames to frames/00032Saved 13 frames to frames/00012\n",
      "\n",
      "Saved 15 frames to frames/00007Saved 15 frames to frames/00157\n",
      "\n",
      "Saved 12 frames to frames/id9_0002Saved 16 frames to frames/00097Saved 12 frames to frames/id8_0007\n",
      "\n",
      "\n",
      "Saved 15 frames to frames/00142Saved 17 frames to frames/id13_0012\n",
      "\n",
      "Saved 15 frames to frames/00087\n",
      "Saved 11 frames to frames/00132\n",
      "Saved 17 frames to frames/id8_0002\n",
      "Saved 15 frames to frames/id13_0007\n",
      "Saved 15 frames to frames/00057\n",
      "Saved 15 frames to frames/00107Saved 15 frames to frames/id0_0005\n",
      "\n",
      "Saved 13 frames to frames/id13_0002\n",
      "Saved 15 frames to frames/00067\n",
      "Saved 17 frames to frames/00002Saved 20 frames to frames/id6_0002\n",
      "Saved 16 frames to frames/00027\n",
      "Saved 18 frames to frames/id6_0007\n",
      "Saved 12 frames to frames/00122Saved 15 frames to frames/00112\n",
      "\n",
      "\n",
      "Saved 15 frames to frames/00062\n",
      "Saved 15 frames to frames/00102\n",
      "Saved 15 frames to frames/00117\n",
      "Saved 15 frames to frames/00072\n",
      "Saved 15 frames to frames/id0_0000\n",
      "Saved 18 frames to frames/00092Saved 17 frames to frames/00147Saved 16 frames to frames/00047\n",
      "\n",
      "\n",
      "Saved 16 frames to frames/00127\n",
      "Saved 23 frames to frames/00152\n",
      "Faces saved to faces/id16_0011\n",
      "Face video saved to processed_videos/id16_0011.mp4\n"
     ]
    },
    {
     "name": "stderr",
     "output_type": "stream",
     "text": [
      "OpenCV: FFMPEG: tag 0x5634504d/'MP4V' is not supported with codec id 12 and format 'mp4 / MP4 (MPEG-4 Part 14)'\n",
      "OpenCV: FFMPEG: fallback to use tag 0x7634706d/'mp4v'\n"
     ]
    },
    {
     "name": "stdout",
     "output_type": "stream",
     "text": [
      "Faces saved to faces/id1_0007\n",
      "Face video saved to processed_videos/id1_0007.mp4\n"
     ]
    },
    {
     "name": "stderr",
     "output_type": "stream",
     "text": [
      "OpenCV: FFMPEG: tag 0x5634504d/'MP4V' is not supported with codec id 12 and format 'mp4 / MP4 (MPEG-4 Part 14)'\n",
      "OpenCV: FFMPEG: fallback to use tag 0x7634706d/'mp4v'\n"
     ]
    },
    {
     "name": "stdout",
     "output_type": "stream",
     "text": [
      "Faces saved to faces/id10_0000\n",
      "Face video saved to processed_videos/id10_0000.mp4\n"
     ]
    },
    {
     "name": "stderr",
     "output_type": "stream",
     "text": [
      "OpenCV: FFMPEG: tag 0x5634504d/'MP4V' is not supported with codec id 12 and format 'mp4 / MP4 (MPEG-4 Part 14)'\n",
      "OpenCV: FFMPEG: fallback to use tag 0x7634706d/'mp4v'\n"
     ]
    },
    {
     "name": "stdout",
     "output_type": "stream",
     "text": [
      "Saved 4 frames to frames/id10_0001\n",
      "Saved 10 frames to frames/id16_0012\n",
      "Faces saved to faces/id11_0000\n",
      "Face video saved to processed_videos/id11_0000.mp4\n"
     ]
    },
    {
     "name": "stderr",
     "output_type": "stream",
     "text": [
      "OpenCV: FFMPEG: tag 0x5634504d/'MP4V' is not supported with codec id 12 and format 'mp4 / MP4 (MPEG-4 Part 14)'\n",
      "OpenCV: FFMPEG: fallback to use tag 0x7634706d/'mp4v'\n"
     ]
    },
    {
     "name": "stdout",
     "output_type": "stream",
     "text": [
      "Saved 17 frames to frames/id1_0008\n",
      "Faces saved to faces/id17_0002\n",
      "Face video saved to processed_videos/id17_0002.mp4\n"
     ]
    },
    {
     "name": "stderr",
     "output_type": "stream",
     "text": [
      "OpenCV: FFMPEG: tag 0x5634504d/'MP4V' is not supported with codec id 12 and format 'mp4 / MP4 (MPEG-4 Part 14)'\n",
      "OpenCV: FFMPEG: fallback to use tag 0x7634706d/'mp4v'\n"
     ]
    },
    {
     "name": "stdout",
     "output_type": "stream",
     "text": [
      "Saved 8 frames to frames/id17_0003Faces saved to faces/id16_0006\n",
      "\n",
      "Face video saved to processed_videos/id16_0006.mp4\n"
     ]
    },
    {
     "name": "stderr",
     "output_type": "stream",
     "text": [
      "OpenCV: FFMPEG: tag 0x5634504d/'MP4V' is not supported with codec id 12 and format 'mp4 / MP4 (MPEG-4 Part 14)'\n",
      "OpenCV: FFMPEG: fallback to use tag 0x7634706d/'mp4v'\n"
     ]
    },
    {
     "name": "stdout",
     "output_type": "stream",
     "text": [
      "Saved 14 frames to frames/id11_0001\n",
      "Faces saved to faces/id1_0002\n",
      "Face video saved to processed_videos/id1_0002.mp4\n"
     ]
    },
    {
     "name": "stderr",
     "output_type": "stream",
     "text": [
      "OpenCV: FFMPEG: tag 0x5634504d/'MP4V' is not supported with codec id 12 and format 'mp4 / MP4 (MPEG-4 Part 14)'\n",
      "OpenCV: FFMPEG: fallback to use tag 0x7634706d/'mp4v'\n"
     ]
    },
    {
     "name": "stdout",
     "output_type": "stream",
     "text": [
      "Faces saved to faces/id7_0002\n",
      "Face video saved to processed_videos/id7_0002.mp4\n",
      "Saved 9 frames to frames/id16_0007\n"
     ]
    },
    {
     "name": "stderr",
     "output_type": "stream",
     "text": [
      "OpenCV: FFMPEG: tag 0x5634504d/'MP4V' is not supported with codec id 12 and format 'mp4 / MP4 (MPEG-4 Part 14)'\n",
      "OpenCV: FFMPEG: fallback to use tag 0x7634706d/'mp4v'\n"
     ]
    },
    {
     "name": "stdout",
     "output_type": "stream",
     "text": [
      "Faces saved to faces/id2_0002\n",
      "Face video saved to processed_videos/id2_0002.mp4Faces saved to faces/id17_0007\n",
      "Faces saved to faces/id3_0007\n",
      "\n"
     ]
    },
    {
     "name": "stderr",
     "output_type": "stream",
     "text": [
      "OpenCV: FFMPEG: tag 0x5634504d/'MP4V' is not supported with codec id 12 and format 'mp4 / MP4 (MPEG-4 Part 14)'\n",
      "OpenCV: FFMPEG: fallback to use tag 0x7634706d/'mp4v'\n",
      "OpenCV: FFMPEG: tag 0x5634504d/'MP4V' is not supported with codec id 12 and format 'mp4 / MP4 (MPEG-4 Part 14)'\n",
      "OpenCV: FFMPEG: fallback to use tag 0x7634706d/'mp4v'\n",
      "OpenCV: FFMPEG: tag 0x5634504d/'MP4V' is not supported with codec id 12 and format 'mp4 / MP4 (MPEG-4 Part 14)'\n",
      "OpenCV: FFMPEG: fallback to use tag 0x7634706d/'mp4v'\n"
     ]
    },
    {
     "name": "stdout",
     "output_type": "stream",
     "text": [
      "Face video saved to processed_videos/id3_0007.mp4Face video saved to processed_videos/id17_0007.mp4\n",
      "\n",
      "Faces saved to faces/id3_0002\n",
      "Face video saved to processed_videos/id3_0002.mp4Saved 15 frames to frames/id1_0003\n",
      "\n"
     ]
    },
    {
     "name": "stderr",
     "output_type": "stream",
     "text": [
      "OpenCV: FFMPEG: tag 0x5634504d/'MP4V' is not supported with codec id 12 and format 'mp4 / MP4 (MPEG-4 Part 14)'\n",
      "OpenCV: FFMPEG: fallback to use tag 0x7634706d/'mp4v'\n"
     ]
    },
    {
     "name": "stdout",
     "output_type": "stream",
     "text": [
      "Faces saved to faces/id11_0010\n",
      "Face video saved to processed_videos/id11_0010.mp4\n"
     ]
    },
    {
     "name": "stderr",
     "output_type": "stream",
     "text": [
      "OpenCV: FFMPEG: tag 0x5634504d/'MP4V' is not supported with codec id 12 and format 'mp4 / MP4 (MPEG-4 Part 14)'\n",
      "OpenCV: FFMPEG: fallback to use tag 0x7634706d/'mp4v'\n"
     ]
    },
    {
     "name": "stdout",
     "output_type": "stream",
     "text": [
      "Saved 12 frames to frames/id2_0003\n",
      "Faces saved to faces/00017\n",
      "Face video saved to processed_videos/00017.mp4Saved 8 frames to frames/id17_0008\n",
      "\n"
     ]
    },
    {
     "name": "stderr",
     "output_type": "stream",
     "text": [
      "OpenCV: FFMPEG: tag 0x5634504d/'MP4V' is not supported with codec id 12 and format 'mp4 / MP4 (MPEG-4 Part 14)'\n",
      "OpenCV: FFMPEG: fallback to use tag 0x7634706d/'mp4v'\n"
     ]
    },
    {
     "name": "stdout",
     "output_type": "stream",
     "text": [
      "Saved 15 frames to frames/id3_0008\n",
      "Saved 12 frames to frames/id3_0003\n",
      "Faces saved to faces/id10_0001\n",
      "Face video saved to processed_videos/id10_0001.mp4\n"
     ]
    },
    {
     "name": "stderr",
     "output_type": "stream",
     "text": [
      "OpenCV: FFMPEG: tag 0x5634504d/'MP4V' is not supported with codec id 12 and format 'mp4 / MP4 (MPEG-4 Part 14)'\n",
      "OpenCV: FFMPEG: fallback to use tag 0x7634706d/'mp4v'\n"
     ]
    },
    {
     "name": "stdout",
     "output_type": "stream",
     "text": [
      "Saved 18 frames to frames/id7_0003\n",
      "Faces saved to faces/00137\n",
      "Face video saved to processed_videos/00137.mp4\n"
     ]
    },
    {
     "name": "stderr",
     "output_type": "stream",
     "text": [
      "OpenCV: FFMPEG: tag 0x5634504d/'MP4V' is not supported with codec id 12 and format 'mp4 / MP4 (MPEG-4 Part 14)'\n",
      "OpenCV: FFMPEG: fallback to use tag 0x7634706d/'mp4v'\n"
     ]
    },
    {
     "name": "stdout",
     "output_type": "stream",
     "text": [
      "Faces saved to faces/id2_0007\n",
      "Face video saved to processed_videos/id2_0007.mp4Faces saved to faces/id11_0005\n",
      "\n",
      "Faces saved to faces/id16_0001Face video saved to processed_videos/id11_0005.mp4"
     ]
    },
    {
     "name": "stderr",
     "output_type": "stream",
     "text": [
      "OpenCV: FFMPEG: tag 0x5634504d/'MP4V' is not supported with codec id 12 and format 'mp4 / MP4 (MPEG-4 Part 14)'\n",
      "OpenCV: FFMPEG: fallback to use tag 0x7634706d/'mp4v'\n",
      "OpenCV: FFMPEG: tag 0x5634504d/'MP4V' is not supported with codec id 12 and format 'mp4 / MP4 (MPEG-4 Part 14)'\n",
      "OpenCV: FFMPEG: fallback to use tag 0x7634706d/'mp4v'\n"
     ]
    },
    {
     "name": "stdout",
     "output_type": "stream",
     "text": [
      "\n",
      "\n",
      "Saved 12 frames to frames/id12_0000Face video saved to processed_videos/id16_0001.mp4\n",
      "\n"
     ]
    },
    {
     "name": "stderr",
     "output_type": "stream",
     "text": [
      "OpenCV: FFMPEG: tag 0x5634504d/'MP4V' is not supported with codec id 12 and format 'mp4 / MP4 (MPEG-4 Part 14)'\n",
      "OpenCV: FFMPEG: fallback to use tag 0x7634706d/'mp4v'\n"
     ]
    },
    {
     "name": "stdout",
     "output_type": "stream",
     "text": [
      "Faces saved to faces/id10_0005\n",
      "Face video saved to processed_videos/id10_0005.mp4Saved 14 frames to frames/00018\n",
      "\n"
     ]
    },
    {
     "name": "stderr",
     "output_type": "stream",
     "text": [
      "OpenCV: FFMPEG: tag 0x5634504d/'MP4V' is not supported with codec id 12 and format 'mp4 / MP4 (MPEG-4 Part 14)'\n",
      "OpenCV: FFMPEG: fallback to use tag 0x7634706d/'mp4v'\n"
     ]
    },
    {
     "name": "stdout",
     "output_type": "stream",
     "text": [
      "Saved 10 frames to frames/id10_0002\n",
      "Faces saved to faces/id12_0004\n",
      "Face video saved to processed_videos/id12_0004.mp4"
     ]
    },
    {
     "name": "stderr",
     "output_type": "stream",
     "text": [
      "OpenCV: FFMPEG: tag 0x5634504d/'MP4V' is not supported with codec id 12 and format 'mp4 / MP4 (MPEG-4 Part 14)'\n",
      "OpenCV: FFMPEG: fallback to use tag 0x7634706d/'mp4v'\n"
     ]
    },
    {
     "name": "stdout",
     "output_type": "stream",
     "text": [
      "\n",
      "Saved 10 frames to frames/id11_0006\n",
      "Saved 5 frames to frames/id10_0006\n",
      "Faces saved to faces/id17_0003\n",
      "Face video saved to processed_videos/id17_0003.mp4\n"
     ]
    },
    {
     "name": "stderr",
     "output_type": "stream",
     "text": [
      "OpenCV: FFMPEG: tag 0x5634504d/'MP4V' is not supported with codec id 12 and format 'mp4 / MP4 (MPEG-4 Part 14)'\n",
      "OpenCV: FFMPEG: fallback to use tag 0x7634706d/'mp4v'\n"
     ]
    },
    {
     "name": "stdout",
     "output_type": "stream",
     "text": [
      "Saved 12 frames to frames/id16_0002\n",
      "Saved 16 frames to frames/00138\n",
      "Faces saved to faces/00132\n",
      "Face video saved to processed_videos/00132.mp4\n"
     ]
    },
    {
     "name": "stderr",
     "output_type": "stream",
     "text": [
      "OpenCV: FFMPEG: tag 0x5634504d/'MP4V' is not supported with codec id 12 and format 'mp4 / MP4 (MPEG-4 Part 14)'\n",
      "OpenCV: FFMPEG: fallback to use tag 0x7634706d/'mp4v'\n"
     ]
    },
    {
     "name": "stdout",
     "output_type": "stream",
     "text": [
      "Saved 10 frames to frames/id17_0004\n",
      "Faces saved to faces/id8_0007\n",
      "Saved 17 frames to frames/id2_0008\n",
      "Face video saved to processed_videos/id8_0007.mp4\n",
      "Faces saved to faces/00042\n"
     ]
    },
    {
     "name": "stderr",
     "output_type": "stream",
     "text": [
      "OpenCV: FFMPEG: tag 0x5634504d/'MP4V' is not supported with codec id 12 and format 'mp4 / MP4 (MPEG-4 Part 14)'\n",
      "OpenCV: FFMPEG: fallback to use tag 0x7634706d/'mp4v'\n",
      "OpenCV: FFMPEG: tag 0x5634504d/'MP4V' is not supported with codec id 12 and format 'mp4 / MP4 (MPEG-4 Part 14)'\n",
      "OpenCV: FFMPEG: fallback to use tag 0x7634706d/'mp4v'\n"
     ]
    },
    {
     "name": "stdout",
     "output_type": "stream",
     "text": [
      "Face video saved to processed_videos/00042.mp4\n",
      "Saved 10 frames to frames/id12_0005\n",
      "Faces saved to faces/00122\n",
      "Face video saved to processed_videos/00122.mp4\n"
     ]
    },
    {
     "name": "stderr",
     "output_type": "stream",
     "text": [
      "OpenCV: FFMPEG: tag 0x5634504d/'MP4V' is not supported with codec id 12 and format 'mp4 / MP4 (MPEG-4 Part 14)'\n",
      "OpenCV: FFMPEG: fallback to use tag 0x7634706d/'mp4v'\n"
     ]
    },
    {
     "name": "stdout",
     "output_type": "stream",
     "text": [
      "Faces saved to faces/id9_0002\n",
      "Face video saved to processed_videos/id9_0002.mp4\n"
     ]
    },
    {
     "name": "stderr",
     "output_type": "stream",
     "text": [
      "OpenCV: FFMPEG: tag 0x5634504d/'MP4V' is not supported with codec id 12 and format 'mp4 / MP4 (MPEG-4 Part 14)'\n",
      "OpenCV: FFMPEG: fallback to use tag 0x7634706d/'mp4v'\n"
     ]
    },
    {
     "name": "stdout",
     "output_type": "stream",
     "text": [
      "Faces saved to faces/00012\n",
      "Face video saved to processed_videos/00012.mp4\n"
     ]
    },
    {
     "name": "stderr",
     "output_type": "stream",
     "text": [
      "OpenCV: FFMPEG: tag 0x5634504d/'MP4V' is not supported with codec id 12 and format 'mp4 / MP4 (MPEG-4 Part 14)'\n",
      "OpenCV: FFMPEG: fallback to use tag 0x7634706d/'mp4v'\n"
     ]
    },
    {
     "name": "stdout",
     "output_type": "stream",
     "text": [
      "Faces saved to faces/id7_0007\n",
      "Face video saved to processed_videos/id7_0007.mp4\n"
     ]
    },
    {
     "name": "stderr",
     "output_type": "stream",
     "text": [
      "OpenCV: FFMPEG: tag 0x5634504d/'MP4V' is not supported with codec id 12 and format 'mp4 / MP4 (MPEG-4 Part 14)'\n",
      "OpenCV: FFMPEG: fallback to use tag 0x7634706d/'mp4v'\n"
     ]
    },
    {
     "name": "stdout",
     "output_type": "stream",
     "text": [
      "Faces saved to faces/00157\n",
      "Face video saved to processed_videos/00157.mp4\n"
     ]
    },
    {
     "name": "stderr",
     "output_type": "stream",
     "text": [
      "OpenCV: FFMPEG: tag 0x5634504d/'MP4V' is not supported with codec id 12 and format 'mp4 / MP4 (MPEG-4 Part 14)'\n",
      "OpenCV: FFMPEG: fallback to use tag 0x7634706d/'mp4v'\n"
     ]
    },
    {
     "name": "stdout",
     "output_type": "stream",
     "text": [
      "Saved 16 frames to frames/00133\n",
      "Saved 10 frames to frames/00123\n",
      "Faces saved to faces/id4_0007\n",
      "Faces saved to faces/00142Face video saved to processed_videos/id4_0007.mp4Faces saved to faces/00022\n",
      "\n",
      "\n",
      "Saved 15 frames to frames/00043"
     ]
    },
    {
     "name": "stderr",
     "output_type": "stream",
     "text": [
      "OpenCV: FFMPEG: tag 0x5634504d/'MP4V' is not supported with codec id 12 and format 'mp4 / MP4 (MPEG-4 Part 14)'\n",
      "OpenCV: FFMPEG: fallback to use tag 0x7634706d/'mp4v'\n",
      "OpenCV: FFMPEG: tag 0x5634504d/'MP4V' is not supported with codec id 12 and format 'mp4 / MP4 (MPEG-4 Part 14)'\n",
      "OpenCV: FFMPEG: fallback to use tag 0x7634706d/'mp4v'\n",
      "OpenCV: FFMPEG: tag 0x5634504d/'MP4V' is not supported with codec id 12 and format 'mp4 / MP4 (MPEG-4 Part 14)'\n",
      "OpenCV: FFMPEG: fallback to use tag 0x7634706d/'mp4v'\n"
     ]
    },
    {
     "name": "stdout",
     "output_type": "stream",
     "text": [
      "Face video saved to processed_videos/00022.mp4\n",
      "\n",
      "Face video saved to processed_videos/00142.mp4\n",
      "Faces saved to faces/00032\n",
      "Faces saved to faces/00082Faces saved to faces/00037Face video saved to processed_videos/00032.mp4\n",
      "\n",
      "\n",
      "Face video saved to processed_videos/00082.mp4Face video saved to processed_videos/00037.mp4\n",
      "\n"
     ]
    },
    {
     "name": "stderr",
     "output_type": "stream",
     "text": [
      "OpenCV: FFMPEG: tag 0x5634504d/'MP4V' is not supported with codec id 12 and format 'mp4 / MP4 (MPEG-4 Part 14)'\n",
      "OpenCV: FFMPEG: fallback to use tag 0x7634706d/'mp4v'\n",
      "OpenCV: FFMPEG: tag 0x5634504d/'MP4V' is not supported with codec id 12 and format 'mp4 / MP4 (MPEG-4 Part 14)'\n",
      "OpenCV: FFMPEG: fallback to use tag 0x7634706d/'mp4v'\n",
      "OpenCV: FFMPEG: tag 0x5634504d/'MP4V' is not supported with codec id 12 and format 'mp4 / MP4 (MPEG-4 Part 14)'\n",
      "OpenCV: FFMPEG: fallback to use tag 0x7634706d/'mp4v'\n"
     ]
    },
    {
     "name": "stdout",
     "output_type": "stream",
     "text": [
      "Faces saved to faces/id9_0007\n",
      "Faces saved to faces/id13_0002\n",
      "Face video saved to processed_videos/id9_0007.mp4\n",
      "Faces saved to faces/00077Face video saved to processed_videos/id13_0002.mp4"
     ]
    },
    {
     "name": "stderr",
     "output_type": "stream",
     "text": [
      "OpenCV: FFMPEG: tag 0x5634504d/'MP4V' is not supported with codec id 12 and format 'mp4 / MP4 (MPEG-4 Part 14)'\n",
      "OpenCV: FFMPEG: fallback to use tag 0x7634706d/'mp4v'\n",
      "OpenCV: FFMPEG: tag 0x5634504d/'MP4V' is not supported with codec id 12 and format 'mp4 / MP4 (MPEG-4 Part 14)'\n",
      "OpenCV: FFMPEG: fallback to use tag 0x7634706d/'mp4v'\n"
     ]
    },
    {
     "name": "stdout",
     "output_type": "stream",
     "text": [
      "\n",
      "\n",
      "Face video saved to processed_videos/00077.mp4\n",
      "Faces saved to faces/id10_0006Faces saved to faces/00087\n"
     ]
    },
    {
     "name": "stderr",
     "output_type": "stream",
     "text": [
      "OpenCV: FFMPEG: tag 0x5634504d/'MP4V' is not supported with codec id 12 and format 'mp4 / MP4 (MPEG-4 Part 14)'\n",
      "OpenCV: FFMPEG: fallback to use tag 0x7634706d/'mp4v'\n"
     ]
    },
    {
     "name": "stdout",
     "output_type": "stream",
     "text": [
      "\n",
      "Face video saved to processed_videos/id10_0006.mp4Face video saved to processed_videos/00087.mp4Saved 9 frames to frames/id7_0008\n",
      "\n",
      "\n"
     ]
    },
    {
     "name": "stderr",
     "output_type": "stream",
     "text": [
      "OpenCV: FFMPEG: tag 0x5634504d/'MP4V' is not supported with codec id 12 and format 'mp4 / MP4 (MPEG-4 Part 14)'\n",
      "OpenCV: FFMPEG: fallback to use tag 0x7634706d/'mp4v'\n",
      "OpenCV: FFMPEG: tag 0x5634504d/'MP4V' is not supported with codec id 12 and format 'mp4 / MP4 (MPEG-4 Part 14)'\n",
      "OpenCV: FFMPEG: fallback to use tag 0x7634706d/'mp4v'\n"
     ]
    },
    {
     "name": "stdout",
     "output_type": "stream",
     "text": [
      "Saved 19 frames to frames/id8_0008\n",
      "Faces saved to faces/00067\n",
      "Face video saved to processed_videos/00067.mp4\n"
     ]
    },
    {
     "name": "stderr",
     "output_type": "stream",
     "text": [
      "OpenCV: FFMPEG: tag 0x5634504d/'MP4V' is not supported with codec id 12 and format 'mp4 / MP4 (MPEG-4 Part 14)'\n",
      "OpenCV: FFMPEG: fallback to use tag 0x7634706d/'mp4v'\n"
     ]
    },
    {
     "name": "stdout",
     "output_type": "stream",
     "text": [
      "Saved 15 frames to frames/00013\n",
      "Faces saved to faces/00057Faces saved to faces/00107\n",
      "\n",
      "Faces saved to faces/00052Face video saved to processed_videos/00107.mp4\n",
      "Face video saved to processed_videos/00057.mp4\n",
      "\n"
     ]
    },
    {
     "name": "stderr",
     "output_type": "stream",
     "text": [
      "OpenCV: FFMPEG: tag 0x5634504d/'MP4V' is not supported with codec id 12 and format 'mp4 / MP4 (MPEG-4 Part 14)'\n",
      "OpenCV: FFMPEG: fallback to use tag 0x7634706d/'mp4v'\n",
      "OpenCV: FFMPEG: tag 0x5634504d/'MP4V' is not supported with codec id 12 and format 'mp4 / MP4 (MPEG-4 Part 14)'\n",
      "OpenCV: FFMPEG: fallback to use tag 0x7634706d/'mp4v'\n",
      "OpenCV: FFMPEG: tag 0x5634504d/'MP4V' is not supported with codec id 12 and format 'mp4 / MP4 (MPEG-4 Part 14)'\n",
      "OpenCV: FFMPEG: fallback to use tag 0x7634706d/'mp4v'\n"
     ]
    },
    {
     "name": "stdout",
     "output_type": "stream",
     "text": [
      "Saved 16 frames to frames/id9_0003Face video saved to processed_videos/00052.mp4\n",
      "\n",
      "Faces saved to faces/00102\n",
      "Faces saved to faces/id16_0012\n",
      "Face video saved to processed_videos/00102.mp4Faces saved to faces/00007\n",
      "\n",
      "Face video saved to processed_videos/id16_0012.mp4\n"
     ]
    },
    {
     "name": "stderr",
     "output_type": "stream",
     "text": [
      "OpenCV: FFMPEG: tag 0x5634504d/'MP4V' is not supported with codec id 12 and format 'mp4 / MP4 (MPEG-4 Part 14)'\n",
      "OpenCV: FFMPEG: fallback to use tag 0x7634706d/'mp4v'\n",
      "OpenCV: FFMPEG: tag 0x5634504d/'MP4V' is not supported with codec id 12 and format 'mp4 / MP4 (MPEG-4 Part 14)'\n",
      "OpenCV: FFMPEG: fallback to use tag 0x7634706d/'mp4v'\n",
      "OpenCV: FFMPEG: tag 0x5634504d/'MP4V' is not supported with codec id 12 and format 'mp4 / MP4 (MPEG-4 Part 14)'\n",
      "OpenCV: FFMPEG: fallback to use tag 0x7634706d/'mp4v'\n"
     ]
    },
    {
     "name": "stdout",
     "output_type": "stream",
     "text": [
      "Faces saved to faces/id0_0005Face video saved to processed_videos/00007.mp4\n",
      "\n",
      "Faces saved to faces/00112\n",
      "Face video saved to processed_videos/id0_0005.mp4Face video saved to processed_videos/00112.mp4"
     ]
    },
    {
     "name": "stderr",
     "output_type": "stream",
     "text": [
      "OpenCV: FFMPEG: tag 0x5634504d/'MP4V' is not supported with codec id 12 and format 'mp4 / MP4 (MPEG-4 Part 14)'\n",
      "OpenCV: FFMPEG: fallback to use tag 0x7634706d/'mp4v'\n",
      "OpenCV: FFMPEG: tag 0x5634504d/'MP4V' is not supported with codec id 12 and format 'mp4 / MP4 (MPEG-4 Part 14)'\n",
      "OpenCV: FFMPEG: fallback to use tag 0x7634706d/'mp4v'\n"
     ]
    },
    {
     "name": "stdout",
     "output_type": "stream",
     "text": [
      "\n",
      "\n",
      "Faces saved to faces/id4_0002\n",
      "Saved 15 frames to frames/00158\n",
      "Face video saved to processed_videos/id4_0002.mp4\n"
     ]
    },
    {
     "name": "stderr",
     "output_type": "stream",
     "text": [
      "OpenCV: FFMPEG: tag 0x5634504d/'MP4V' is not supported with codec id 12 and format 'mp4 / MP4 (MPEG-4 Part 14)'\n",
      "OpenCV: FFMPEG: fallback to use tag 0x7634706d/'mp4v'\n"
     ]
    },
    {
     "name": "stdout",
     "output_type": "stream",
     "text": [
      "Saved 10 frames to frames/id4_0008Faces saved to faces/00062\n",
      "\n",
      "Face video saved to processed_videos/00062.mp4\n",
      "Faces saved to faces/id13_0007"
     ]
    },
    {
     "name": "stderr",
     "output_type": "stream",
     "text": [
      "OpenCV: FFMPEG: tag 0x5634504d/'MP4V' is not supported with codec id 12 and format 'mp4 / MP4 (MPEG-4 Part 14)'\n",
      "OpenCV: FFMPEG: fallback to use tag 0x7634706d/'mp4v'\n"
     ]
    },
    {
     "name": "stdout",
     "output_type": "stream",
     "text": [
      "\n",
      "Faces saved to faces/00117\n",
      "Face video saved to processed_videos/00117.mp4Face video saved to processed_videos/id13_0007.mp4\n",
      "\n"
     ]
    },
    {
     "name": "stderr",
     "output_type": "stream",
     "text": [
      "OpenCV: FFMPEG: tag 0x5634504d/'MP4V' is not supported with codec id 12 and format 'mp4 / MP4 (MPEG-4 Part 14)'\n",
      "OpenCV: FFMPEG: fallback to use tag 0x7634706d/'mp4v'\n",
      "OpenCV: FFMPEG: tag 0x5634504d/'MP4V' is not supported with codec id 12 and format 'mp4 / MP4 (MPEG-4 Part 14)'\n",
      "OpenCV: FFMPEG: fallback to use tag 0x7634706d/'mp4v'\n"
     ]
    },
    {
     "name": "stdout",
     "output_type": "stream",
     "text": [
      "Faces saved to faces/id1_0008\n",
      "Saved 15 frames to frames/00033Face video saved to processed_videos/id1_0008.mp4\n",
      "\n",
      "Saved 11 frames to frames/00083\n",
      "Saved 15 frames to frames/00038Faces saved to faces/00072Saved 15 frames to frames/00143\n",
      "\n",
      "\n"
     ]
    },
    {
     "name": "stderr",
     "output_type": "stream",
     "text": [
      "OpenCV: FFMPEG: tag 0x5634504d/'MP4V' is not supported with codec id 12 and format 'mp4 / MP4 (MPEG-4 Part 14)'\n",
      "OpenCV: FFMPEG: fallback to use tag 0x7634706d/'mp4v'\n"
     ]
    },
    {
     "name": "stdout",
     "output_type": "stream",
     "text": [
      "Saved 11 frames to frames/id13_0003Faces saved to faces/00097\n",
      "\n",
      "Saved 15 frames to frames/00023Faces saved to faces/id0_0000\n",
      "Face video saved to processed_videos/00072.mp4\n",
      "\n",
      "Face video saved to processed_videos/00097.mp4\n"
     ]
    },
    {
     "name": "stderr",
     "output_type": "stream",
     "text": [
      "OpenCV: FFMPEG: tag 0x5634504d/'MP4V' is not supported with codec id 12 and format 'mp4 / MP4 (MPEG-4 Part 14)'\n",
      "OpenCV: FFMPEG: fallback to use tag 0x7634706d/'mp4v'\n",
      "OpenCV: FFMPEG: tag 0x5634504d/'MP4V' is not supported with codec id 12 and format 'mp4 / MP4 (MPEG-4 Part 14)'\n",
      "OpenCV: FFMPEG: fallback to use tag 0x7634706d/'mp4v'\n"
     ]
    },
    {
     "name": "stdout",
     "output_type": "stream",
     "text": [
      "Face video saved to processed_videos/id0_0000.mp4Faces saved to faces/00047\n",
      "Saved 10 frames to frames/id16_0013\n"
     ]
    },
    {
     "name": "stderr",
     "output_type": "stream",
     "text": [
      "OpenCV: FFMPEG: tag 0x5634504d/'MP4V' is not supported with codec id 12 and format 'mp4 / MP4 (MPEG-4 Part 14)'\n",
      "OpenCV: FFMPEG: fallback to use tag 0x7634706d/'mp4v'\n",
      "OpenCV: FFMPEG: tag 0x5634504d/'MP4V' is not supported with codec id 12 and format 'mp4 / MP4 (MPEG-4 Part 14)'\n",
      "OpenCV: FFMPEG: fallback to use tag 0x7634706d/'mp4v'\n"
     ]
    },
    {
     "name": "stdout",
     "output_type": "stream",
     "text": [
      "\n",
      "Faces saved to faces/00027Face video saved to processed_videos/00047.mp4\n",
      "\n",
      "Faces saved to faces/id13_0012\n",
      "Face video saved to processed_videos/00027.mp4Faces saved to faces/id2_0003\n"
     ]
    },
    {
     "name": "stderr",
     "output_type": "stream",
     "text": [
      "OpenCV: FFMPEG: tag 0x5634504d/'MP4V' is not supported with codec id 12 and format 'mp4 / MP4 (MPEG-4 Part 14)'\n",
      "OpenCV: FFMPEG: fallback to use tag 0x7634706d/'mp4v'\n",
      "OpenCV: FFMPEG: tag 0x5634504d/'MP4V' is not supported with codec id 12 and format 'mp4 / MP4 (MPEG-4 Part 14)'\n",
      "OpenCV: FFMPEG: fallback to use tag 0x7634706d/'mp4v'\n"
     ]
    },
    {
     "name": "stdout",
     "output_type": "stream",
     "text": [
      "Face video saved to processed_videos/id13_0012.mp4\n",
      "\n",
      "Face video saved to processed_videos/id2_0003.mp4\n"
     ]
    },
    {
     "name": "stderr",
     "output_type": "stream",
     "text": [
      "OpenCV: FFMPEG: tag 0x5634504d/'MP4V' is not supported with codec id 12 and format 'mp4 / MP4 (MPEG-4 Part 14)'\n",
      "OpenCV: FFMPEG: fallback to use tag 0x7634706d/'mp4v'\n"
     ]
    },
    {
     "name": "stdout",
     "output_type": "stream",
     "text": [
      "Faces saved to faces/id17_0004\n",
      "Faces saved to faces/00127Face video saved to processed_videos/id17_0004.mp4\n",
      "\n",
      "Saved 16 frames to frames/00078\n"
     ]
    },
    {
     "name": "stderr",
     "output_type": "stream",
     "text": [
      "OpenCV: FFMPEG: tag 0x5634504d/'MP4V' is not supported with codec id 12 and format 'mp4 / MP4 (MPEG-4 Part 14)'\n",
      "OpenCV: FFMPEG: fallback to use tag 0x7634706d/'mp4v'\n",
      "OpenCV: FFMPEG: tag 0x5634504d/'MP4V' is not supported with codec id 12 and format 'mp4 / MP4 (MPEG-4 Part 14)'\n",
      "OpenCV: FFMPEG: fallback to use tag 0x7634706d/'mp4v'\n"
     ]
    },
    {
     "name": "stdout",
     "output_type": "stream",
     "text": [
      "Face video saved to processed_videos/00127.mp4\n",
      "Faces saved to faces/id16_0007\n",
      "Saved 16 frames to frames/00088\n",
      "Face video saved to processed_videos/id16_0007.mp4\n",
      "Saved 16 frames to frames/id10_0007\n"
     ]
    },
    {
     "name": "stderr",
     "output_type": "stream",
     "text": [
      "OpenCV: FFMPEG: tag 0x5634504d/'MP4V' is not supported with codec id 12 and format 'mp4 / MP4 (MPEG-4 Part 14)'\n",
      "OpenCV: FFMPEG: fallback to use tag 0x7634706d/'mp4v'\n"
     ]
    },
    {
     "name": "stdout",
     "output_type": "stream",
     "text": [
      "Saved 15 frames to frames/00068Saved 15 frames to frames/id9_0008\n",
      "\n",
      "Saved 15 frames to frames/00108Faces saved to faces/id17_0008\n",
      "\n",
      "Face video saved to processed_videos/id17_0008.mp4\n"
     ]
    },
    {
     "name": "stderr",
     "output_type": "stream",
     "text": [
      "OpenCV: FFMPEG: tag 0x5634504d/'MP4V' is not supported with codec id 12 and format 'mp4 / MP4 (MPEG-4 Part 14)'\n",
      "OpenCV: FFMPEG: fallback to use tag 0x7634706d/'mp4v'\n"
     ]
    },
    {
     "name": "stdout",
     "output_type": "stream",
     "text": [
      "Saved 15 frames to frames/00103Faces saved to faces/00147Faces saved to faces/00002\n",
      "\n",
      "\n",
      "Faces saved to faces/id3_0008Face video saved to processed_videos/00147.mp4Face video saved to processed_videos/00002.mp4\n",
      "\n",
      "\n"
     ]
    },
    {
     "name": "stderr",
     "output_type": "stream",
     "text": [
      "OpenCV: FFMPEG: tag 0x5634504d/'MP4V' is not supported with codec id 12 and format 'mp4 / MP4 (MPEG-4 Part 14)'\n",
      "OpenCV: FFMPEG: fallback to use tag 0x7634706d/'mp4v'\n",
      "OpenCV: FFMPEG: tag 0x5634504d/'MP4V' is not supported with codec id 12 and format 'mp4 / MP4 (MPEG-4 Part 14)'\n",
      "OpenCV: FFMPEG: fallback to use tag 0x7634706d/'mp4v'\n",
      "OpenCV: FFMPEG: tag 0x5634504d/'MP4V' is not supported with codec id 12 and format 'mp4 / MP4 (MPEG-4 Part 14)'\n",
      "OpenCV: FFMPEG: fallback to use tag 0x7634706d/'mp4v'\n"
     ]
    },
    {
     "name": "stdout",
     "output_type": "stream",
     "text": [
      "Face video saved to processed_videos/id3_0008.mp4Saved 13 frames to frames/id1_0009\n",
      "\n",
      "Saved 15 frames to frames/00053\n",
      "Saved 15 frames to frames/00008Faces saved to faces/id8_0002\n",
      "\n",
      "Saved 16 frames to frames/00058Faces saved to faces/00092Face video saved to processed_videos/id8_0002.mp4\n",
      "\n",
      "\n"
     ]
    },
    {
     "name": "stderr",
     "output_type": "stream",
     "text": [
      "OpenCV: FFMPEG: tag 0x5634504d/'MP4V' is not supported with codec id 12 and format 'mp4 / MP4 (MPEG-4 Part 14)'\n",
      "OpenCV: FFMPEG: fallback to use tag 0x7634706d/'mp4v'\n",
      "OpenCV: FFMPEG: tag 0x5634504d/'MP4V' is not supported with codec id 12 and format 'mp4 / MP4 (MPEG-4 Part 14)'\n",
      "OpenCV: FFMPEG: fallback to use tag 0x7634706d/'mp4v'\n"
     ]
    },
    {
     "name": "stdout",
     "output_type": "stream",
     "text": [
      "Face video saved to processed_videos/00092.mp4\n",
      "Saved 16 frames to frames/00113\n",
      "Faces saved to faces/id1_0003\n",
      "Faces saved to faces/id3_0003\n",
      "Saved 14 frames to frames/id4_0003Saved 10 frames to frames/id0_0001\n",
      "Saved 17 frames to frames/id0_0006\n",
      "Face video saved to processed_videos/id1_0003.mp4\n",
      "Face video saved to processed_videos/id3_0003.mp4\n",
      "\n"
     ]
    },
    {
     "name": "stderr",
     "output_type": "stream",
     "text": [
      "OpenCV: FFMPEG: tag 0x5634504d/'MP4V' is not supported with codec id 12 and format 'mp4 / MP4 (MPEG-4 Part 14)'\n",
      "OpenCV: FFMPEG: fallback to use tag 0x7634706d/'mp4v'\n",
      "OpenCV: FFMPEG: tag 0x5634504d/'MP4V' is not supported with codec id 12 and format 'mp4 / MP4 (MPEG-4 Part 14)'\n",
      "OpenCV: FFMPEG: fallback to use tag 0x7634706d/'mp4v'\n"
     ]
    },
    {
     "name": "stdout",
     "output_type": "stream",
     "text": [
      "Saved 15 frames to frames/00063Saved 14 frames to frames/id2_0004\n",
      "\n",
      "Saved 15 frames to frames/id13_0008\n",
      "Saved 15 frames to frames/00118\n",
      "Saved 15 frames to frames/00098Saved 10 frames to frames/id17_0005\n",
      "\n",
      "Saved 15 frames to frames/00073\n",
      "Saved 16 frames to frames/00048\n",
      "Saved 11 frames to frames/id16_0008\n",
      "Saved 15 frames to frames/id13_0013\n",
      "Saved 9 frames to frames/id17_0009\n",
      "Saved 15 frames to frames/00028\n",
      "Saved 9 frames to frames/00003\n",
      "Saved 13 frames to frames/id1_0004\n",
      "Saved 15 frames to frames/00128\n",
      "Faces saved to faces/id6_0007\n",
      "Face video saved to processed_videos/id6_0007.mp4\n"
     ]
    },
    {
     "name": "stderr",
     "output_type": "stream",
     "text": [
      "OpenCV: FFMPEG: tag 0x5634504d/'MP4V' is not supported with codec id 12 and format 'mp4 / MP4 (MPEG-4 Part 14)'\n",
      "OpenCV: FFMPEG: fallback to use tag 0x7634706d/'mp4v'\n"
     ]
    },
    {
     "name": "stdout",
     "output_type": "stream",
     "text": [
      "Saved 16 frames to frames/id3_0004\n",
      "Saved 13 frames to frames/id8_0003\n",
      "Saved 15 frames to frames/00148\n",
      "Saved 16 frames to frames/id3_0009\n",
      "Saved 16 frames to frames/00093\n",
      "Faces saved to faces/id11_0001\n",
      "Face video saved to processed_videos/id11_0001.mp4\n"
     ]
    },
    {
     "name": "stderr",
     "output_type": "stream",
     "text": [
      "OpenCV: FFMPEG: tag 0x5634504d/'MP4V' is not supported with codec id 12 and format 'mp4 / MP4 (MPEG-4 Part 14)'\n",
      "OpenCV: FFMPEG: fallback to use tag 0x7634706d/'mp4v'\n"
     ]
    },
    {
     "name": "stdout",
     "output_type": "stream",
     "text": [
      "Faces saved to faces/id6_0002\n",
      "Face video saved to processed_videos/id6_0002.mp4\n"
     ]
    },
    {
     "name": "stderr",
     "output_type": "stream",
     "text": [
      "OpenCV: FFMPEG: tag 0x5634504d/'MP4V' is not supported with codec id 12 and format 'mp4 / MP4 (MPEG-4 Part 14)'\n",
      "OpenCV: FFMPEG: fallback to use tag 0x7634706d/'mp4v'\n"
     ]
    },
    {
     "name": "stdout",
     "output_type": "stream",
     "text": [
      "Saved 12 frames to frames/id6_0008\n",
      "Faces saved to faces/id10_0002\n",
      "Face video saved to processed_videos/id10_0002.mp4\n"
     ]
    },
    {
     "name": "stderr",
     "output_type": "stream",
     "text": [
      "OpenCV: FFMPEG: tag 0x5634504d/'MP4V' is not supported with codec id 12 and format 'mp4 / MP4 (MPEG-4 Part 14)'\n",
      "OpenCV: FFMPEG: fallback to use tag 0x7634706d/'mp4v'\n"
     ]
    },
    {
     "name": "stdout",
     "output_type": "stream",
     "text": [
      "Faces saved to faces/id11_0006\n",
      "Face video saved to processed_videos/id11_0006.mp4\n"
     ]
    },
    {
     "name": "stderr",
     "output_type": "stream",
     "text": [
      "OpenCV: FFMPEG: tag 0x5634504d/'MP4V' is not supported with codec id 12 and format 'mp4 / MP4 (MPEG-4 Part 14)'\n",
      "OpenCV: FFMPEG: fallback to use tag 0x7634706d/'mp4v'\n"
     ]
    },
    {
     "name": "stdout",
     "output_type": "stream",
     "text": [
      "Saved 11 frames to frames/id11_0002\n",
      "Saved 12 frames to frames/id6_0003\n",
      "Saved 11 frames to frames/id10_0003\n",
      "Saved 10 frames to frames/id11_0007Faces saved to faces/id12_0000\n",
      "\n",
      "Face video saved to processed_videos/id12_0000.mp4\n"
     ]
    },
    {
     "name": "stderr",
     "output_type": "stream",
     "text": [
      "OpenCV: FFMPEG: tag 0x5634504d/'MP4V' is not supported with codec id 12 and format 'mp4 / MP4 (MPEG-4 Part 14)'\n",
      "OpenCV: FFMPEG: fallback to use tag 0x7634706d/'mp4v'\n"
     ]
    },
    {
     "name": "stdout",
     "output_type": "stream",
     "text": [
      "Faces saved to faces/id16_0013\n",
      "Face video saved to processed_videos/id16_0013.mp4\n"
     ]
    },
    {
     "name": "stderr",
     "output_type": "stream",
     "text": [
      "OpenCV: FFMPEG: tag 0x5634504d/'MP4V' is not supported with codec id 12 and format 'mp4 / MP4 (MPEG-4 Part 14)'\n",
      "OpenCV: FFMPEG: fallback to use tag 0x7634706d/'mp4v'\n"
     ]
    },
    {
     "name": "stdout",
     "output_type": "stream",
     "text": [
      "Faces saved to faces/id12_0005\n",
      "Face video saved to processed_videos/id12_0005.mp4\n"
     ]
    },
    {
     "name": "stderr",
     "output_type": "stream",
     "text": [
      "OpenCV: FFMPEG: tag 0x5634504d/'MP4V' is not supported with codec id 12 and format 'mp4 / MP4 (MPEG-4 Part 14)'\n",
      "OpenCV: FFMPEG: fallback to use tag 0x7634706d/'mp4v'\n"
     ]
    },
    {
     "name": "stdout",
     "output_type": "stream",
     "text": [
      "Faces saved to faces/00123\n",
      "Face video saved to processed_videos/00123.mp4\n"
     ]
    },
    {
     "name": "stderr",
     "output_type": "stream",
     "text": [
      "OpenCV: FFMPEG: tag 0x5634504d/'MP4V' is not supported with codec id 12 and format 'mp4 / MP4 (MPEG-4 Part 14)'\n",
      "OpenCV: FFMPEG: fallback to use tag 0x7634706d/'mp4v'\n"
     ]
    },
    {
     "name": "stdout",
     "output_type": "stream",
     "text": [
      "Faces saved to faces/00152\n",
      "Faces saved to faces/id7_0008\n",
      "Face video saved to processed_videos/00152.mp4"
     ]
    },
    {
     "name": "stderr",
     "output_type": "stream",
     "text": [
      "OpenCV: FFMPEG: tag 0x5634504d/'MP4V' is not supported with codec id 12 and format 'mp4 / MP4 (MPEG-4 Part 14)'\n",
      "OpenCV: FFMPEG: fallback to use tag 0x7634706d/'mp4v'\n",
      "OpenCV: FFMPEG: tag 0x5634504d/'MP4V' is not supported with codec id 12 and format 'mp4 / MP4 (MPEG-4 Part 14)'\n",
      "OpenCV: FFMPEG: fallback to use tag 0x7634706d/'mp4v'\n"
     ]
    },
    {
     "name": "stdout",
     "output_type": "stream",
     "text": [
      "Face video saved to processed_videos/id7_0008.mp4Faces saved to faces/00018\n",
      "\n",
      "\n",
      "Face video saved to processed_videos/00018.mp4\n"
     ]
    },
    {
     "name": "stderr",
     "output_type": "stream",
     "text": [
      "OpenCV: FFMPEG: tag 0x5634504d/'MP4V' is not supported with codec id 12 and format 'mp4 / MP4 (MPEG-4 Part 14)'\n",
      "OpenCV: FFMPEG: fallback to use tag 0x7634706d/'mp4v'\n"
     ]
    },
    {
     "name": "stdout",
     "output_type": "stream",
     "text": [
      "Saved 10 frames to frames/id17_0000Faces saved to faces/id16_0002\n",
      "\n",
      "Face video saved to processed_videos/id16_0002.mp4\n"
     ]
    },
    {
     "name": "stderr",
     "output_type": "stream",
     "text": [
      "OpenCV: FFMPEG: tag 0x5634504d/'MP4V' is not supported with codec id 12 and format 'mp4 / MP4 (MPEG-4 Part 14)'\n",
      "OpenCV: FFMPEG: fallback to use tag 0x7634706d/'mp4v'\n"
     ]
    },
    {
     "name": "stdout",
     "output_type": "stream",
     "text": [
      "Saved 13 frames to frames/id12_0001\n",
      "Faces saved to faces/id1_0009\n",
      "Saved 10 frames to frames/id12_0006\n",
      "Face video saved to processed_videos/id1_0009.mp4"
     ]
    },
    {
     "name": "stderr",
     "output_type": "stream",
     "text": [
      "OpenCV: FFMPEG: tag 0x5634504d/'MP4V' is not supported with codec id 12 and format 'mp4 / MP4 (MPEG-4 Part 14)'\n",
      "OpenCV: FFMPEG: fallback to use tag 0x7634706d/'mp4v'\n"
     ]
    },
    {
     "name": "stdout",
     "output_type": "stream",
     "text": [
      "\n",
      "Faces saved to faces/id1_0004\n",
      "Face video saved to processed_videos/id1_0004.mp4\n"
     ]
    },
    {
     "name": "stderr",
     "output_type": "stream",
     "text": [
      "OpenCV: FFMPEG: tag 0x5634504d/'MP4V' is not supported with codec id 12 and format 'mp4 / MP4 (MPEG-4 Part 14)'\n",
      "OpenCV: FFMPEG: fallback to use tag 0x7634706d/'mp4v'\n"
     ]
    },
    {
     "name": "stdout",
     "output_type": "stream",
     "text": [
      "Saved 14 frames to frames/00124\n",
      "Saved 10 frames to frames/id16_0003\n",
      "Saved 15 frames to frames/id7_0009Faces saved to faces/id2_0004\n",
      "\n",
      "Face video saved to processed_videos/id2_0004.mp4\n",
      "Faces saved to faces/id4_0008Saved 15 frames to frames/00019\n",
      "\n"
     ]
    },
    {
     "name": "stderr",
     "output_type": "stream",
     "text": [
      "OpenCV: FFMPEG: tag 0x5634504d/'MP4V' is not supported with codec id 12 and format 'mp4 / MP4 (MPEG-4 Part 14)'\n",
      "OpenCV: FFMPEG: fallback to use tag 0x7634706d/'mp4v'\n",
      "OpenCV: FFMPEG: tag 0x5634504d/'MP4V' is not supported with codec id 12 and format 'mp4 / MP4 (MPEG-4 Part 14)'\n",
      "OpenCV: FFMPEG: fallback to use tag 0x7634706d/'mp4v'\n"
     ]
    },
    {
     "name": "stdout",
     "output_type": "stream",
     "text": [
      "Face video saved to processed_videos/id4_0008.mp4\n",
      "Saved 16 frames to frames/00153\n",
      "Saved 14 frames to frames/id2_0000\n",
      "Saved 14 frames to frames/id1_0005\n",
      "Faces saved to faces/00083\n",
      "Face video saved to processed_videos/00083.mp4\n",
      "Faces saved to faces/id7_0003\n"
     ]
    },
    {
     "name": "stderr",
     "output_type": "stream",
     "text": [
      "OpenCV: FFMPEG: tag 0x5634504d/'MP4V' is not supported with codec id 12 and format 'mp4 / MP4 (MPEG-4 Part 14)'\n",
      "OpenCV: FFMPEG: fallback to use tag 0x7634706d/'mp4v'\n",
      "OpenCV: FFMPEG: tag 0x5634504d/'MP4V' is not supported with codec id 12 and format 'mp4 / MP4 (MPEG-4 Part 14)'\n",
      "OpenCV: FFMPEG: fallback to use tag 0x7634706d/'mp4v'\n"
     ]
    },
    {
     "name": "stdout",
     "output_type": "stream",
     "text": [
      "Face video saved to processed_videos/id7_0003.mp4Saved 10 frames to frames/id2_0005\n",
      "\n",
      "Faces saved to faces/00138\n",
      "Face video saved to processed_videos/00138.mp4"
     ]
    },
    {
     "name": "stderr",
     "output_type": "stream",
     "text": [
      "OpenCV: FFMPEG: tag 0x5634504d/'MP4V' is not supported with codec id 12 and format 'mp4 / MP4 (MPEG-4 Part 14)'\n",
      "OpenCV: FFMPEG: fallback to use tag 0x7634706d/'mp4v'\n"
     ]
    },
    {
     "name": "stdout",
     "output_type": "stream",
     "text": [
      "\n",
      "Faces saved to faces/id17_0009\n",
      "Face video saved to processed_videos/id17_0009.mp4\n"
     ]
    },
    {
     "name": "stderr",
     "output_type": "stream",
     "text": [
      "OpenCV: FFMPEG: tag 0x5634504d/'MP4V' is not supported with codec id 12 and format 'mp4 / MP4 (MPEG-4 Part 14)'\n",
      "OpenCV: FFMPEG: fallback to use tag 0x7634706d/'mp4v'\n"
     ]
    },
    {
     "name": "stdout",
     "output_type": "stream",
     "text": [
      "Faces saved to faces/00003Faces saved to faces/id13_0003\n",
      "\n",
      "Face video saved to processed_videos/00003.mp4Face video saved to processed_videos/id13_0003.mp4\n",
      "\n"
     ]
    },
    {
     "name": "stderr",
     "output_type": "stream",
     "text": [
      "OpenCV: FFMPEG: tag 0x5634504d/'MP4V' is not supported with codec id 12 and format 'mp4 / MP4 (MPEG-4 Part 14)'\n",
      "OpenCV: FFMPEG: fallback to use tag 0x7634706d/'mp4v'\n",
      "OpenCV: FFMPEG: tag 0x5634504d/'MP4V' is not supported with codec id 12 and format 'mp4 / MP4 (MPEG-4 Part 14)'\n",
      "OpenCV: FFMPEG: fallback to use tag 0x7634706d/'mp4v'\n"
     ]
    },
    {
     "name": "stdout",
     "output_type": "stream",
     "text": [
      "Faces saved to faces/id0_0001\n",
      "Saved 16 frames to frames/id4_0009\n",
      "Face video saved to processed_videos/id0_0001.mp4\n"
     ]
    },
    {
     "name": "stderr",
     "output_type": "stream",
     "text": [
      "OpenCV: FFMPEG: tag 0x5634504d/'MP4V' is not supported with codec id 12 and format 'mp4 / MP4 (MPEG-4 Part 14)'\n",
      "OpenCV: FFMPEG: fallback to use tag 0x7634706d/'mp4v'\n"
     ]
    },
    {
     "name": "stdout",
     "output_type": "stream",
     "text": [
      "Saved 13 frames to frames/00084\n",
      "Faces saved to faces/id17_0005\n",
      "Face video saved to processed_videos/id17_0005.mp4\n"
     ]
    },
    {
     "name": "stderr",
     "output_type": "stream",
     "text": [
      "OpenCV: FFMPEG: tag 0x5634504d/'MP4V' is not supported with codec id 12 and format 'mp4 / MP4 (MPEG-4 Part 14)'\n",
      "OpenCV: FFMPEG: fallback to use tag 0x7634706d/'mp4v'\n"
     ]
    },
    {
     "name": "stdout",
     "output_type": "stream",
     "text": [
      "Saved 12 frames to frames/id1_0000\n",
      "Faces saved to faces/00043\n",
      "Face video saved to processed_videos/00043.mp4Faces saved to faces/id3_0004\n"
     ]
    },
    {
     "name": "stderr",
     "output_type": "stream",
     "text": [
      "OpenCV: FFMPEG: tag 0x5634504d/'MP4V' is not supported with codec id 12 and format 'mp4 / MP4 (MPEG-4 Part 14)'\n",
      "OpenCV: FFMPEG: fallback to use tag 0x7634706d/'mp4v'\n",
      "OpenCV: FFMPEG: tag 0x5634504d/'MP4V' is not supported with codec id 12 and format 'mp4 / MP4 (MPEG-4 Part 14)'\n",
      "OpenCV: FFMPEG: fallback to use tag 0x7634706d/'mp4v'\n"
     ]
    },
    {
     "name": "stdout",
     "output_type": "stream",
     "text": [
      "\n",
      "Face video saved to processed_videos/id3_0004.mp4\n",
      "Faces saved to faces/id2_0008\n",
      "Face video saved to processed_videos/id2_0008.mp4\n",
      "Saved 18 frames to frames/00139"
     ]
    },
    {
     "name": "stderr",
     "output_type": "stream",
     "text": [
      "OpenCV: FFMPEG: tag 0x5634504d/'MP4V' is not supported with codec id 12 and format 'mp4 / MP4 (MPEG-4 Part 14)'\n",
      "OpenCV: FFMPEG: fallback to use tag 0x7634706d/'mp4v'\n"
     ]
    },
    {
     "name": "stdout",
     "output_type": "stream",
     "text": [
      "\n",
      "Faces saved to faces/00013Saved 11 frames to frames/id13_0004\n",
      "Faces saved to faces/00133\n",
      "\n",
      "Face video saved to processed_videos/00133.mp4Face video saved to processed_videos/00013.mp4\n",
      "\n"
     ]
    },
    {
     "name": "stderr",
     "output_type": "stream",
     "text": [
      "OpenCV: FFMPEG: tag 0x5634504d/'MP4V' is not supported with codec id 12 and format 'mp4 / MP4 (MPEG-4 Part 14)'\n",
      "OpenCV: FFMPEG: fallback to use tag 0x7634706d/'mp4v'\n",
      "OpenCV: FFMPEG: tag 0x5634504d/'MP4V' is not supported with codec id 12 and format 'mp4 / MP4 (MPEG-4 Part 14)'\n",
      "OpenCV: FFMPEG: fallback to use tag 0x7634706d/'mp4v'\n"
     ]
    },
    {
     "name": "stdout",
     "output_type": "stream",
     "text": [
      "Saved 6 frames to frames/id17_0006\n",
      "Saved 24 frames to frames/id7_0004\n",
      "Saved 11 frames to frames/id0_0002\n",
      "Faces saved to faces/00158\n",
      "Saved 15 frames to frames/00004\n",
      "Face video saved to processed_videos/00158.mp4\n"
     ]
    },
    {
     "name": "stderr",
     "output_type": "stream",
     "text": [
      "OpenCV: FFMPEG: tag 0x5634504d/'MP4V' is not supported with codec id 12 and format 'mp4 / MP4 (MPEG-4 Part 14)'\n",
      "OpenCV: FFMPEG: fallback to use tag 0x7634706d/'mp4v'\n"
     ]
    },
    {
     "name": "stdout",
     "output_type": "stream",
     "text": [
      "Saved 13 frames to frames/id3_0005\n",
      "Saved 10 frames to frames/id2_0009\n",
      "Faces saved to faces/id16_0008\n",
      "Face video saved to processed_videos/id16_0008.mp4\n"
     ]
    },
    {
     "name": "stderr",
     "output_type": "stream",
     "text": [
      "OpenCV: FFMPEG: tag 0x5634504d/'MP4V' is not supported with codec id 12 and format 'mp4 / MP4 (MPEG-4 Part 14)'\n",
      "OpenCV: FFMPEG: fallback to use tag 0x7634706d/'mp4v'\n"
     ]
    },
    {
     "name": "stdout",
     "output_type": "stream",
     "text": [
      "Saved 15 frames to frames/00044\n",
      "Faces saved to faces/00038\n",
      "Face video saved to processed_videos/00038.mp4\n",
      "Faces saved to faces/00143\n",
      "Faces saved to faces/00023\n"
     ]
    },
    {
     "name": "stderr",
     "output_type": "stream",
     "text": [
      "OpenCV: FFMPEG: tag 0x5634504d/'MP4V' is not supported with codec id 12 and format 'mp4 / MP4 (MPEG-4 Part 14)'\n",
      "OpenCV: FFMPEG: fallback to use tag 0x7634706d/'mp4v'\n",
      "OpenCV: FFMPEG: tag 0x5634504d/'MP4V' is not supported with codec id 12 and format 'mp4 / MP4 (MPEG-4 Part 14)'\n",
      "OpenCV: FFMPEG: fallback to use tag 0x7634706d/'mp4v'\n"
     ]
    },
    {
     "name": "stdout",
     "output_type": "stream",
     "text": [
      "Face video saved to processed_videos/00143.mp4\n",
      "Face video saved to processed_videos/00023.mp4\n"
     ]
    },
    {
     "name": "stderr",
     "output_type": "stream",
     "text": [
      "OpenCV: FFMPEG: tag 0x5634504d/'MP4V' is not supported with codec id 12 and format 'mp4 / MP4 (MPEG-4 Part 14)'\n",
      "OpenCV: FFMPEG: fallback to use tag 0x7634706d/'mp4v'\n"
     ]
    },
    {
     "name": "stdout",
     "output_type": "stream",
     "text": [
      "Faces saved to faces/00033\n",
      "Face video saved to processed_videos/00033.mp4\n"
     ]
    },
    {
     "name": "stderr",
     "output_type": "stream",
     "text": [
      "OpenCV: FFMPEG: tag 0x5634504d/'MP4V' is not supported with codec id 12 and format 'mp4 / MP4 (MPEG-4 Part 14)'\n",
      "OpenCV: FFMPEG: fallback to use tag 0x7634706d/'mp4v'\n"
     ]
    },
    {
     "name": "stdout",
     "output_type": "stream",
     "text": [
      "Saved 16 frames to frames/00134\n",
      "Faces saved to faces/id17_0000\n",
      "Face video saved to processed_videos/id17_0000.mp4Faces saved to faces/id9_0003\n",
      "\n"
     ]
    },
    {
     "name": "stderr",
     "output_type": "stream",
     "text": [
      "OpenCV: FFMPEG: tag 0x5634504d/'MP4V' is not supported with codec id 12 and format 'mp4 / MP4 (MPEG-4 Part 14)'\n",
      "OpenCV: FFMPEG: fallback to use tag 0x7634706d/'mp4v'\n",
      "OpenCV: FFMPEG: tag 0x5634504d/'MP4V' is not supported with codec id 12 and format 'mp4 / MP4 (MPEG-4 Part 14)'\n",
      "OpenCV: FFMPEG: fallback to use tag 0x7634706d/'mp4v'\n"
     ]
    },
    {
     "name": "stdout",
     "output_type": "stream",
     "text": [
      "Face video saved to processed_videos/id9_0003.mp4\n",
      "Saved 15 frames to frames/00014\n",
      "Faces saved to faces/00068\n",
      "Face video saved to processed_videos/00068.mp4Saved 14 frames to frames/00159Saved 10 frames to frames/id16_0009\n",
      "\n",
      "\n"
     ]
    },
    {
     "name": "stderr",
     "output_type": "stream",
     "text": [
      "OpenCV: FFMPEG: tag 0x5634504d/'MP4V' is not supported with codec id 12 and format 'mp4 / MP4 (MPEG-4 Part 14)'\n",
      "OpenCV: FFMPEG: fallback to use tag 0x7634706d/'mp4v'\n"
     ]
    },
    {
     "name": "stdout",
     "output_type": "stream",
     "text": [
      "Faces saved to faces/00108\n",
      "Face video saved to processed_videos/00108.mp4Faces saved to faces/00008\n",
      "\n",
      "Faces saved to faces/00088\n",
      "Face video saved to processed_videos/00008.mp4Faces saved to faces/id9_0008\n"
     ]
    },
    {
     "name": "stderr",
     "output_type": "stream",
     "text": [
      "OpenCV: FFMPEG: tag 0x5634504d/'MP4V' is not supported with codec id 12 and format 'mp4 / MP4 (MPEG-4 Part 14)'\n",
      "OpenCV: FFMPEG: fallback to use tag 0x7634706d/'mp4v'\n",
      "OpenCV: FFMPEG: tag 0x5634504d/'MP4V' is not supported with codec id 12 and format 'mp4 / MP4 (MPEG-4 Part 14)'\n",
      "OpenCV: FFMPEG: fallback to use tag 0x7634706d/'mp4v'\n",
      "OpenCV: FFMPEG: tag 0x5634504d/'MP4V' is not supported with codec id 12 and format 'mp4 / MP4 (MPEG-4 Part 14)'\n",
      "OpenCV: FFMPEG: fallback to use tag 0x7634706d/'mp4v'\n"
     ]
    },
    {
     "name": "stdout",
     "output_type": "stream",
     "text": [
      "\n",
      "Face video saved to processed_videos/00088.mp4\n",
      "Faces saved to faces/00103Face video saved to processed_videos/id9_0008.mp4\n",
      "\n",
      "Face video saved to processed_videos/00103.mp4"
     ]
    },
    {
     "name": "stderr",
     "output_type": "stream",
     "text": [
      "OpenCV: FFMPEG: tag 0x5634504d/'MP4V' is not supported with codec id 12 and format 'mp4 / MP4 (MPEG-4 Part 14)'\n",
      "OpenCV: FFMPEG: fallback to use tag 0x7634706d/'mp4v'\n",
      "OpenCV: FFMPEG: tag 0x5634504d/'MP4V' is not supported with codec id 12 and format 'mp4 / MP4 (MPEG-4 Part 14)'\n",
      "OpenCV: FFMPEG: fallback to use tag 0x7634706d/'mp4v'\n"
     ]
    },
    {
     "name": "stdout",
     "output_type": "stream",
     "text": [
      "Faces saved to faces/00078\n",
      "\n",
      "Face video saved to processed_videos/00078.mp4Faces saved to faces/id4_0003\n",
      "\n",
      "Faces saved to faces/00053"
     ]
    },
    {
     "name": "stderr",
     "output_type": "stream",
     "text": [
      "OpenCV: FFMPEG: tag 0x5634504d/'MP4V' is not supported with codec id 12 and format 'mp4 / MP4 (MPEG-4 Part 14)'\n",
      "OpenCV: FFMPEG: fallback to use tag 0x7634706d/'mp4v'\n",
      "OpenCV: FFMPEG: tag 0x5634504d/'MP4V' is not supported with codec id 12 and format 'mp4 / MP4 (MPEG-4 Part 14)'\n",
      "OpenCV: FFMPEG: fallback to use tag 0x7634706d/'mp4v'\n"
     ]
    },
    {
     "name": "stdout",
     "output_type": "stream",
     "text": [
      "\n",
      "Face video saved to processed_videos/id4_0003.mp4Saved 10 frames to frames/id17_0001\n",
      "\n",
      "Face video saved to processed_videos/00053.mp4\n"
     ]
    },
    {
     "name": "stderr",
     "output_type": "stream",
     "text": [
      "OpenCV: FFMPEG: tag 0x5634504d/'MP4V' is not supported with codec id 12 and format 'mp4 / MP4 (MPEG-4 Part 14)'\n",
      "OpenCV: FFMPEG: fallback to use tag 0x7634706d/'mp4v'\n"
     ]
    },
    {
     "name": "stdout",
     "output_type": "stream",
     "text": [
      "Saved 15 frames to frames/00039\n",
      "Faces saved to faces/00063Saved 15 frames to frames/00144\n",
      "\n",
      "Face video saved to processed_videos/00063.mp4"
     ]
    },
    {
     "name": "stderr",
     "output_type": "stream",
     "text": [
      "OpenCV: FFMPEG: tag 0x5634504d/'MP4V' is not supported with codec id 12 and format 'mp4 / MP4 (MPEG-4 Part 14)'\n",
      "OpenCV: FFMPEG: fallback to use tag 0x7634706d/'mp4v'\n"
     ]
    },
    {
     "name": "stdout",
     "output_type": "stream",
     "text": [
      "\n",
      "Faces saved to faces/id8_0003\n",
      "Faces saved to faces/00118Face video saved to processed_videos/id8_0003.mp4Faces saved to faces/id8_0008\n",
      "\n",
      "\n"
     ]
    },
    {
     "name": "stderr",
     "output_type": "stream",
     "text": [
      "OpenCV: FFMPEG: tag 0x5634504d/'MP4V' is not supported with codec id 12 and format 'mp4 / MP4 (MPEG-4 Part 14)'\n",
      "OpenCV: FFMPEG: fallback to use tag 0x7634706d/'mp4v'\n",
      "OpenCV: FFMPEG: tag 0x5634504d/'MP4V' is not supported with codec id 12 and format 'mp4 / MP4 (MPEG-4 Part 14)'\n",
      "OpenCV: FFMPEG: fallback to use tag 0x7634706d/'mp4v'\n"
     ]
    },
    {
     "name": "stdout",
     "output_type": "stream",
     "text": [
      "Face video saved to processed_videos/00118.mp4\n",
      "Face video saved to processed_videos/id8_0008.mp4Faces saved to faces/00058Saved 12 frames to frames/id9_0004\n",
      "\n",
      "Faces saved to faces/00098\n",
      "\n",
      "Saved 18 frames to frames/00024Faces saved to faces/id13_0008"
     ]
    },
    {
     "name": "stderr",
     "output_type": "stream",
     "text": [
      "OpenCV: FFMPEG: tag 0x5634504d/'MP4V' is not supported with codec id 12 and format 'mp4 / MP4 (MPEG-4 Part 14)'\n",
      "OpenCV: FFMPEG: fallback to use tag 0x7634706d/'mp4v'\n",
      "OpenCV: FFMPEG: tag 0x5634504d/'MP4V' is not supported with codec id 12 and format 'mp4 / MP4 (MPEG-4 Part 14)'\n",
      "OpenCV: FFMPEG: fallback to use tag 0x7634706d/'mp4v'\n",
      "OpenCV: FFMPEG: tag 0x5634504d/'MP4V' is not supported with codec id 12 and format 'mp4 / MP4 (MPEG-4 Part 14)'\n",
      "OpenCV: FFMPEG: fallback to use tag 0x7634706d/'mp4v'\n"
     ]
    },
    {
     "name": "stdout",
     "output_type": "stream",
     "text": [
      "\n",
      "Face video saved to processed_videos/00098.mp4\n",
      "Face video saved to processed_videos/00058.mp4Face video saved to processed_videos/id13_0008.mp4\n",
      "\n",
      "\n",
      "Saved 8 frames to frames/00109\n"
     ]
    },
    {
     "name": "stderr",
     "output_type": "stream",
     "text": [
      "OpenCV: FFMPEG: tag 0x5634504d/'MP4V' is not supported with codec id 12 and format 'mp4 / MP4 (MPEG-4 Part 14)'\n",
      "OpenCV: FFMPEG: fallback to use tag 0x7634706d/'mp4v'\n"
     ]
    },
    {
     "name": "stdout",
     "output_type": "stream",
     "text": [
      "Saved 16 frames to frames/00034\n",
      "Faces saved to faces/id6_0008\n",
      "Faces saved to faces/id11_0007Face video saved to processed_videos/id6_0008.mp4\n",
      "\n"
     ]
    },
    {
     "name": "stderr",
     "output_type": "stream",
     "text": [
      "OpenCV: FFMPEG: tag 0x5634504d/'MP4V' is not supported with codec id 12 and format 'mp4 / MP4 (MPEG-4 Part 14)'\n",
      "OpenCV: FFMPEG: fallback to use tag 0x7634706d/'mp4v'\n",
      "OpenCV: FFMPEG: tag 0x5634504d/'MP4V' is not supported with codec id 12 and format 'mp4 / MP4 (MPEG-4 Part 14)'\n",
      "OpenCV: FFMPEG: fallback to use tag 0x7634706d/'mp4v'\n"
     ]
    },
    {
     "name": "stdout",
     "output_type": "stream",
     "text": [
      "Face video saved to processed_videos/id11_0007.mp4\n",
      "Faces saved to faces/00113\n",
      "Face video saved to processed_videos/00113.mp4\n",
      "Faces saved to faces/id11_0002\n",
      "Saved 10 frames to frames/id9_0009"
     ]
    },
    {
     "name": "stderr",
     "output_type": "stream",
     "text": [
      "OpenCV: FFMPEG: tag 0x5634504d/'MP4V' is not supported with codec id 12 and format 'mp4 / MP4 (MPEG-4 Part 14)'\n",
      "OpenCV: FFMPEG: fallback to use tag 0x7634706d/'mp4v'\n",
      "OpenCV: FFMPEG: tag 0x5634504d/'MP4V' is not supported with codec id 12 and format 'mp4 / MP4 (MPEG-4 Part 14)'\n",
      "OpenCV: FFMPEG: fallback to use tag 0x7634706d/'mp4v'\n"
     ]
    },
    {
     "name": "stdout",
     "output_type": "stream",
     "text": [
      "Face video saved to processed_videos/id11_0002.mp4\n",
      "Faces saved to faces/00073\n",
      "\n",
      "Face video saved to processed_videos/00073.mp4\n",
      "Faces saved to faces/id2_0005\n"
     ]
    },
    {
     "name": "stderr",
     "output_type": "stream",
     "text": [
      "OpenCV: FFMPEG: tag 0x5634504d/'MP4V' is not supported with codec id 12 and format 'mp4 / MP4 (MPEG-4 Part 14)'\n",
      "OpenCV: FFMPEG: fallback to use tag 0x7634706d/'mp4v'\n",
      "OpenCV: FFMPEG: tag 0x5634504d/'MP4V' is not supported with codec id 12 and format 'mp4 / MP4 (MPEG-4 Part 14)'\n"
     ]
    },
    {
     "name": "stdout",
     "output_type": "stream",
     "text": [
      "Face video saved to processed_videos/id2_0005.mp4\n",
      "Faces saved to faces/00048\n",
      "Faces saved to faces/00128\n",
      "Saved 14 frames to frames/00069\n",
      "Faces saved to faces/id10_0007Face video saved to processed_videos/00048.mp4\n"
     ]
    },
    {
     "name": "stderr",
     "output_type": "stream",
     "text": [
      "OpenCV: FFMPEG: fallback to use tag 0x7634706d/'mp4v'\n",
      "OpenCV: FFMPEG: tag 0x5634504d/'MP4V' is not supported with codec id 12 and format 'mp4 / MP4 (MPEG-4 Part 14)'\n",
      "OpenCV: FFMPEG: fallback to use tag 0x7634706d/'mp4v'\n",
      "OpenCV: FFMPEG: tag 0x5634504d/'MP4V' is not supported with codec id 12 and format 'mp4 / MP4 (MPEG-4 Part 14)'\n",
      "OpenCV: FFMPEG: fallback to use tag 0x7634706d/'mp4v'\n"
     ]
    },
    {
     "name": "stdout",
     "output_type": "stream",
     "text": [
      "\n",
      "Face video saved to processed_videos/00128.mp4\n",
      "Faces saved to faces/00028Face video saved to processed_videos/id10_0007.mp4\n"
     ]
    },
    {
     "name": "stderr",
     "output_type": "stream",
     "text": [
      "OpenCV: FFMPEG: tag 0x5634504d/'MP4V' is not supported with codec id 12 and format 'mp4 / MP4 (MPEG-4 Part 14)'\n",
      "OpenCV: FFMPEG: fallback to use tag 0x7634706d/'mp4v'\n"
     ]
    },
    {
     "name": "stdout",
     "output_type": "stream",
     "text": [
      "\n",
      "Faces saved to faces/id13_0013Face video saved to processed_videos/00028.mp4\n",
      "\n",
      "Saved 12 frames to frames/00079"
     ]
    },
    {
     "name": "stderr",
     "output_type": "stream",
     "text": [
      "OpenCV: FFMPEG: tag 0x5634504d/'MP4V' is not supported with codec id 12 and format 'mp4 / MP4 (MPEG-4 Part 14)'\n",
      "OpenCV: FFMPEG: fallback to use tag 0x7634706d/'mp4v'\n",
      "OpenCV: FFMPEG: tag 0x5634504d/'MP4V' is not supported with codec id 12 and format 'mp4 / MP4 (MPEG-4 Part 14)'\n",
      "OpenCV: FFMPEG: fallback to use tag 0x7634706d/'mp4v'\n"
     ]
    },
    {
     "name": "stdout",
     "output_type": "stream",
     "text": [
      "\n",
      "Face video saved to processed_videos/id13_0013.mp4Faces saved to faces/id10_0003\n",
      "Saved 16 frames to frames/00089\n",
      "\n",
      "Saved 13 frames to frames/00054Face video saved to processed_videos/id10_0003.mp4\n",
      "\n",
      "Faces saved to faces/id6_0003"
     ]
    },
    {
     "name": "stderr",
     "output_type": "stream",
     "text": [
      "OpenCV: FFMPEG: tag 0x5634504d/'MP4V' is not supported with codec id 12 and format 'mp4 / MP4 (MPEG-4 Part 14)'\n",
      "OpenCV: FFMPEG: fallback to use tag 0x7634706d/'mp4v'\n"
     ]
    },
    {
     "name": "stdout",
     "output_type": "stream",
     "text": [
      "\n",
      "Face video saved to processed_videos/id6_0003.mp4\n"
     ]
    },
    {
     "name": "stderr",
     "output_type": "stream",
     "text": [
      "OpenCV: FFMPEG: tag 0x5634504d/'MP4V' is not supported with codec id 12 and format 'mp4 / MP4 (MPEG-4 Part 14)'\n",
      "OpenCV: FFMPEG: fallback to use tag 0x7634706d/'mp4v'\n"
     ]
    },
    {
     "name": "stdout",
     "output_type": "stream",
     "text": [
      "Saved 16 frames to frames/00104Saved 14 frames to frames/id4_0004\n",
      "\n",
      "Saved 14 frames to frames/00064\n",
      "Faces saved to faces/id1_0005\n",
      "Saved 19 frames to frames/00009\n",
      "Face video saved to processed_videos/id1_0005.mp4Faces saved to faces/00148\n",
      "\n"
     ]
    },
    {
     "name": "stderr",
     "output_type": "stream",
     "text": [
      "OpenCV: FFMPEG: tag 0x5634504d/'MP4V' is not supported with codec id 12 and format 'mp4 / MP4 (MPEG-4 Part 14)'\n",
      "OpenCV: FFMPEG: fallback to use tag 0x7634706d/'mp4v'\n"
     ]
    },
    {
     "name": "stdout",
     "output_type": "stream",
     "text": [
      "Saved 14 frames to frames/00119Faces saved to faces/id0_0006Face video saved to processed_videos/00148.mp4\n",
      "\n"
     ]
    },
    {
     "name": "stderr",
     "output_type": "stream",
     "text": [
      "OpenCV: FFMPEG: tag 0x5634504d/'MP4V' is not supported with codec id 12 and format 'mp4 / MP4 (MPEG-4 Part 14)'\n",
      "OpenCV: FFMPEG: fallback to use tag 0x7634706d/'mp4v'\n"
     ]
    },
    {
     "name": "stdout",
     "output_type": "stream",
     "text": [
      "\n",
      "Face video saved to processed_videos/id0_0006.mp4\n",
      "Saved 12 frames to frames/id8_0009\n"
     ]
    },
    {
     "name": "stderr",
     "output_type": "stream",
     "text": [
      "OpenCV: FFMPEG: tag 0x5634504d/'MP4V' is not supported with codec id 12 and format 'mp4 / MP4 (MPEG-4 Part 14)'\n",
      "OpenCV: FFMPEG: fallback to use tag 0x7634706d/'mp4v'\n"
     ]
    },
    {
     "name": "stdout",
     "output_type": "stream",
     "text": [
      "Faces saved to faces/id3_0009\n",
      "Face video saved to processed_videos/id3_0009.mp4\n",
      "Saved 15 frames to frames/00059\n"
     ]
    },
    {
     "name": "stderr",
     "output_type": "stream",
     "text": [
      "OpenCV: FFMPEG: tag 0x5634504d/'MP4V' is not supported with codec id 12 and format 'mp4 / MP4 (MPEG-4 Part 14)'\n",
      "OpenCV: FFMPEG: fallback to use tag 0x7634706d/'mp4v'\n"
     ]
    },
    {
     "name": "stdout",
     "output_type": "stream",
     "text": [
      "Saved 11 frames to frames/00114Saved 14 frames to frames/id13_0009\n",
      "Saved 10 frames to frames/id11_0003\n",
      "\n",
      "Saved 12 frames to frames/id11_0008\n",
      "Faces saved to faces/00093Saved 12 frames to frames/id10_0008\n",
      "Saved 12 frames to frames/id2_0006\n",
      "\n",
      "Face video saved to processed_videos/00093.mp4Saved 16 frames to frames/00099\n",
      "\n"
     ]
    },
    {
     "name": "stderr",
     "output_type": "stream",
     "text": [
      "OpenCV: FFMPEG: tag 0x5634504d/'MP4V' is not supported with codec id 12 and format 'mp4 / MP4 (MPEG-4 Part 14)'\n",
      "OpenCV: FFMPEG: fallback to use tag 0x7634706d/'mp4v'\n"
     ]
    },
    {
     "name": "stdout",
     "output_type": "stream",
     "text": [
      "Saved 18 frames to frames/id8_0004\n",
      "Faces saved to faces/id17_0006\n",
      "Face video saved to processed_videos/id17_0006.mp4Faces saved to faces/id2_0000Faces saved to faces/id12_0006\n",
      "\n",
      "\n",
      "Face video saved to processed_videos/id12_0006.mp4Saved 15 frames to frames/00129\n"
     ]
    },
    {
     "name": "stderr",
     "output_type": "stream",
     "text": [
      "OpenCV: FFMPEG: tag 0x5634504d/'MP4V' is not supported with codec id 12 and format 'mp4 / MP4 (MPEG-4 Part 14)'\n",
      "OpenCV: FFMPEG: fallback to use tag 0x7634706d/'mp4v'\n",
      "OpenCV: FFMPEG: tag 0x5634504d/'MP4V' is not supported with codec id 12 and format 'mp4 / MP4 (MPEG-4 Part 14)'\n",
      "OpenCV: FFMPEG: fallback to use tag 0x7634706d/'mp4v'\n"
     ]
    },
    {
     "name": "stdout",
     "output_type": "stream",
     "text": [
      "\n",
      "Face video saved to processed_videos/id2_0000.mp4\n",
      "Saved 15 frames to frames/00049\n"
     ]
    },
    {
     "name": "stderr",
     "output_type": "stream",
     "text": [
      "OpenCV: FFMPEG: tag 0x5634504d/'MP4V' is not supported with codec id 12 and format 'mp4 / MP4 (MPEG-4 Part 14)'\n",
      "OpenCV: FFMPEG: fallback to use tag 0x7634706d/'mp4v'\n"
     ]
    },
    {
     "name": "stdout",
     "output_type": "stream",
     "text": [
      "Saved 13 frames to frames/id13_0014Saved 15 frames to frames/00074Saved 17 frames to frames/id6_0009\n",
      "\n",
      "\n",
      "Saved 15 frames to frames/00029\n",
      "Saved 16 frames to frames/id1_0006\n",
      "Faces saved to faces/id1_0000\n",
      "Saved 17 frames to frames/id10_0004Saved 15 frames to frames/id6_0004\n",
      "\n",
      "Faces saved to faces/id16_0003Face video saved to processed_videos/id1_0000.mp4\n"
     ]
    },
    {
     "name": "stderr",
     "output_type": "stream",
     "text": [
      "OpenCV: FFMPEG: tag 0x5634504d/'MP4V' is not supported with codec id 12 and format 'mp4 / MP4 (MPEG-4 Part 14)'\n",
      "OpenCV: FFMPEG: fallback to use tag 0x7634706d/'mp4v'\n"
     ]
    },
    {
     "name": "stdout",
     "output_type": "stream",
     "text": [
      "\n",
      "Face video saved to processed_videos/id16_0003.mp4\n"
     ]
    },
    {
     "name": "stderr",
     "output_type": "stream",
     "text": [
      "OpenCV: FFMPEG: tag 0x5634504d/'MP4V' is not supported with codec id 12 and format 'mp4 / MP4 (MPEG-4 Part 14)'\n",
      "OpenCV: FFMPEG: fallback to use tag 0x7634706d/'mp4v'\n"
     ]
    },
    {
     "name": "stdout",
     "output_type": "stream",
     "text": [
      "Saved 16 frames to frames/00149\n",
      "Saved 15 frames to frames/id0_0007\n",
      "Saved 12 frames to frames/id2_0001\n",
      "Saved 15 frames to frames/id4_0000\n",
      "Saved 13 frames to frames/00094\n",
      "Saved 10 frames to frames/id13_0000\n",
      "Faces saved to faces/id2_0009\n",
      "Face video saved to processed_videos/id2_0009.mp4\n",
      "Saved 9 frames to frames/id1_0001Faces saved to faces/id3_0005\n"
     ]
    },
    {
     "name": "stderr",
     "output_type": "stream",
     "text": [
      "OpenCV: FFMPEG: tag 0x5634504d/'MP4V' is not supported with codec id 12 and format 'mp4 / MP4 (MPEG-4 Part 14)'\n",
      "OpenCV: FFMPEG: fallback to use tag 0x7634706d/'mp4v'\n",
      "OpenCV: FFMPEG: tag 0x5634504d/'MP4V' is not supported with codec id 12 and format 'mp4 / MP4 (MPEG-4 Part 14)'\n",
      "OpenCV: FFMPEG: fallback to use tag 0x7634706d/'mp4v'\n"
     ]
    },
    {
     "name": "stdout",
     "output_type": "stream",
     "text": [
      "Face video saved to processed_videos/id3_0005.mp4\n",
      "\n",
      "Faces saved to faces/id13_0004Saved 14 frames to frames/00162\n",
      "\n",
      "Face video saved to processed_videos/id13_0004.mp4\n"
     ]
    },
    {
     "name": "stderr",
     "output_type": "stream",
     "text": [
      "OpenCV: FFMPEG: tag 0x5634504d/'MP4V' is not supported with codec id 12 and format 'mp4 / MP4 (MPEG-4 Part 14)'\n",
      "OpenCV: FFMPEG: fallback to use tag 0x7634706d/'mp4v'\n"
     ]
    },
    {
     "name": "stdout",
     "output_type": "stream",
     "text": [
      "Faces saved to faces/id12_0001\n",
      "Face video saved to processed_videos/id12_0001.mp4\n"
     ]
    },
    {
     "name": "stderr",
     "output_type": "stream",
     "text": [
      "OpenCV: FFMPEG: tag 0x5634504d/'MP4V' is not supported with codec id 12 and format 'mp4 / MP4 (MPEG-4 Part 14)'\n",
      "OpenCV: FFMPEG: fallback to use tag 0x7634706d/'mp4v'\n"
     ]
    },
    {
     "name": "stdout",
     "output_type": "stream",
     "text": [
      "Faces saved to faces/id17_0001\n",
      "Face video saved to processed_videos/id17_0001.mp4\n"
     ]
    },
    {
     "name": "stderr",
     "output_type": "stream",
     "text": [
      "OpenCV: FFMPEG: tag 0x5634504d/'MP4V' is not supported with codec id 12 and format 'mp4 / MP4 (MPEG-4 Part 14)'\n",
      "OpenCV: FFMPEG: fallback to use tag 0x7634706d/'mp4v'\n"
     ]
    },
    {
     "name": "stdout",
     "output_type": "stream",
     "text": [
      "Saved 13 frames to frames/id16_0004\n",
      "Saved 15 frames to frames/id3_0000\n",
      "Saved 13 frames to frames/id3_0006\n",
      "Saved 10 frames to frames/id13_0005\n",
      "Faces saved to faces/00124\n",
      "Face video saved to processed_videos/00124.mp4\n"
     ]
    },
    {
     "name": "stderr",
     "output_type": "stream",
     "text": [
      "OpenCV: FFMPEG: tag 0x5634504d/'MP4V' is not supported with codec id 12 and format 'mp4 / MP4 (MPEG-4 Part 14)'\n",
      "OpenCV: FFMPEG: fallback to use tag 0x7634706d/'mp4v'\n"
     ]
    },
    {
     "name": "stdout",
     "output_type": "stream",
     "text": [
      "Saved 12 frames to frames/id12_0002\n",
      "Saved 9 frames to frames/00125\n",
      "Saved 15 frames to frames/00167\n",
      "Faces saved to faces/00019\n",
      "Face video saved to processed_videos/00019.mp4\n"
     ]
    },
    {
     "name": "stderr",
     "output_type": "stream",
     "text": [
      "OpenCV: FFMPEG: tag 0x5634504d/'MP4V' is not supported with codec id 12 and format 'mp4 / MP4 (MPEG-4 Part 14)'\n",
      "OpenCV: FFMPEG: fallback to use tag 0x7634706d/'mp4v'\n"
     ]
    },
    {
     "name": "stdout",
     "output_type": "stream",
     "text": [
      "Faces saved to faces/id0_0002\n",
      "Face video saved to processed_videos/id0_0002.mp4\n"
     ]
    },
    {
     "name": "stderr",
     "output_type": "stream",
     "text": [
      "OpenCV: FFMPEG: tag 0x5634504d/'MP4V' is not supported with codec id 12 and format 'mp4 / MP4 (MPEG-4 Part 14)'\n",
      "OpenCV: FFMPEG: fallback to use tag 0x7634706d/'mp4v'\n"
     ]
    },
    {
     "name": "stdout",
     "output_type": "stream",
     "text": [
      "Faces saved to faces/00084\n",
      "Face video saved to processed_videos/00084.mp4\n",
      "Faces saved to faces/id7_0009\n"
     ]
    },
    {
     "name": "stderr",
     "output_type": "stream",
     "text": [
      "OpenCV: FFMPEG: tag 0x5634504d/'MP4V' is not supported with codec id 12 and format 'mp4 / MP4 (MPEG-4 Part 14)'\n",
      "OpenCV: FFMPEG: fallback to use tag 0x7634706d/'mp4v'\n",
      "OpenCV: FFMPEG: tag 0x5634504d/'MP4V' is not supported with codec id 12 and format 'mp4 / MP4 (MPEG-4 Part 14)'\n",
      "OpenCV: FFMPEG: fallback to use tag 0x7634706d/'mp4v'\n"
     ]
    },
    {
     "name": "stdout",
     "output_type": "stream",
     "text": [
      "Face video saved to processed_videos/id7_0009.mp4\n",
      "Faces saved to faces/00109\n",
      "Face video saved to processed_videos/00109.mp4\n"
     ]
    },
    {
     "name": "stderr",
     "output_type": "stream",
     "text": [
      "OpenCV: FFMPEG: tag 0x5634504d/'MP4V' is not supported with codec id 12 and format 'mp4 / MP4 (MPEG-4 Part 14)'\n",
      "OpenCV: FFMPEG: fallback to use tag 0x7634706d/'mp4v'\n"
     ]
    },
    {
     "name": "stdout",
     "output_type": "stream",
     "text": [
      "Faces saved to faces/00153\n",
      "Face video saved to processed_videos/00153.mp4\n"
     ]
    },
    {
     "name": "stderr",
     "output_type": "stream",
     "text": [
      "OpenCV: FFMPEG: tag 0x5634504d/'MP4V' is not supported with codec id 12 and format 'mp4 / MP4 (MPEG-4 Part 14)'\n",
      "OpenCV: FFMPEG: fallback to use tag 0x7634706d/'mp4v'\n"
     ]
    },
    {
     "name": "stdout",
     "output_type": "stream",
     "text": [
      "Saved 15 frames to frames/00020\n",
      "Faces saved to faces/id16_0009\n",
      "Face video saved to processed_videos/id16_0009.mp4\n"
     ]
    },
    {
     "name": "stderr",
     "output_type": "stream",
     "text": [
      "OpenCV: FFMPEG: tag 0x5634504d/'MP4V' is not supported with codec id 12 and format 'mp4 / MP4 (MPEG-4 Part 14)'\n",
      "OpenCV: FFMPEG: fallback to use tag 0x7634706d/'mp4v'\n"
     ]
    },
    {
     "name": "stdout",
     "output_type": "stream",
     "text": [
      "Saved 17 frames to frames/id0_0003\n",
      "Faces saved to faces/id10_0008\n",
      "Face video saved to processed_videos/id10_0008.mp4\n"
     ]
    },
    {
     "name": "stderr",
     "output_type": "stream",
     "text": [
      "OpenCV: FFMPEG: tag 0x5634504d/'MP4V' is not supported with codec id 12 and format 'mp4 / MP4 (MPEG-4 Part 14)'\n",
      "OpenCV: FFMPEG: fallback to use tag 0x7634706d/'mp4v'\n"
     ]
    },
    {
     "name": "stdout",
     "output_type": "stream",
     "text": [
      "Saved 15 frames to frames/id8_0000\n",
      "Faces saved to faces/id1_0001\n",
      "Saved 15 frames to frames/00110Face video saved to processed_videos/id1_0001.mp4\n",
      "\n"
     ]
    },
    {
     "name": "stderr",
     "output_type": "stream",
     "text": [
      "OpenCV: FFMPEG: tag 0x5634504d/'MP4V' is not supported with codec id 12 and format 'mp4 / MP4 (MPEG-4 Part 14)'\n",
      "OpenCV: FFMPEG: fallback to use tag 0x7634706d/'mp4v'\n"
     ]
    },
    {
     "name": "stdout",
     "output_type": "stream",
     "text": [
      "Saved 12 frames to frames/00154\n",
      "Faces saved to faces/id9_0009Saved 21 frames to frames/00085\n",
      "\n",
      "Face video saved to processed_videos/id9_0009.mp4\n"
     ]
    },
    {
     "name": "stderr",
     "output_type": "stream",
     "text": [
      "OpenCV: FFMPEG: tag 0x5634504d/'MP4V' is not supported with codec id 12 and format 'mp4 / MP4 (MPEG-4 Part 14)'\n",
      "OpenCV: FFMPEG: fallback to use tag 0x7634706d/'mp4v'\n"
     ]
    },
    {
     "name": "stdout",
     "output_type": "stream",
     "text": [
      "Faces saved to faces/00004Saved 10 frames to frames/id16_0010\n",
      "\n",
      "Face video saved to processed_videos/00004.mp4\n"
     ]
    },
    {
     "name": "stderr",
     "output_type": "stream",
     "text": [
      "OpenCV: FFMPEG: tag 0x5634504d/'MP4V' is not supported with codec id 12 and format 'mp4 / MP4 (MPEG-4 Part 14)'\n",
      "OpenCV: FFMPEG: fallback to use tag 0x7634706d/'mp4v'\n"
     ]
    },
    {
     "name": "stdout",
     "output_type": "stream",
     "text": [
      "Faces saved to faces/id2_0006\n",
      "Face video saved to processed_videos/id2_0006.mp4\n"
     ]
    },
    {
     "name": "stderr",
     "output_type": "stream",
     "text": [
      "OpenCV: FFMPEG: tag 0x5634504d/'MP4V' is not supported with codec id 12 and format 'mp4 / MP4 (MPEG-4 Part 14)'\n",
      "OpenCV: FFMPEG: fallback to use tag 0x7634706d/'mp4v'\n"
     ]
    },
    {
     "name": "stdout",
     "output_type": "stream",
     "text": [
      "Saved 11 frames to frames/00172\n",
      "Faces saved to faces/id4_0009\n",
      "Face video saved to processed_videos/id4_0009.mp4\n"
     ]
    },
    {
     "name": "stderr",
     "output_type": "stream",
     "text": [
      "OpenCV: FFMPEG: tag 0x5634504d/'MP4V' is not supported with codec id 12 and format 'mp4 / MP4 (MPEG-4 Part 14)'\n",
      "OpenCV: FFMPEG: fallback to use tag 0x7634706d/'mp4v'\n"
     ]
    },
    {
     "name": "stdout",
     "output_type": "stream",
     "text": [
      "Faces saved to faces/00044\n",
      "Face video saved to processed_videos/00044.mp4\n"
     ]
    },
    {
     "name": "stderr",
     "output_type": "stream",
     "text": [
      "OpenCV: FFMPEG: tag 0x5634504d/'MP4V' is not supported with codec id 12 and format 'mp4 / MP4 (MPEG-4 Part 14)'\n",
      "OpenCV: FFMPEG: fallback to use tag 0x7634706d/'mp4v'\n"
     ]
    },
    {
     "name": "stdout",
     "output_type": "stream",
     "text": [
      "Saved 17 frames to frames/id10_0009\n",
      "Faces saved to faces/id9_0004\n",
      "Face video saved to processed_videos/id9_0004.mp4\n",
      "Saved 15 frames to frames/00000Faces saved to faces/id11_0003\n",
      "\n"
     ]
    },
    {
     "name": "stderr",
     "output_type": "stream",
     "text": [
      "OpenCV: FFMPEG: tag 0x5634504d/'MP4V' is not supported with codec id 12 and format 'mp4 / MP4 (MPEG-4 Part 14)'\n",
      "OpenCV: FFMPEG: fallback to use tag 0x7634706d/'mp4v'\n"
     ]
    },
    {
     "name": "stdout",
     "output_type": "stream",
     "text": [
      "Faces saved to faces/00159\n",
      "Face video saved to processed_videos/id11_0003.mp4\n",
      "Faces saved to faces/00014\n",
      "Face video saved to processed_videos/00159.mp4"
     ]
    },
    {
     "name": "stderr",
     "output_type": "stream",
     "text": [
      "OpenCV: FFMPEG: tag 0x5634504d/'MP4V' is not supported with codec id 12 and format 'mp4 / MP4 (MPEG-4 Part 14)'\n",
      "OpenCV: FFMPEG: fallback to use tag 0x7634706d/'mp4v'\n",
      "OpenCV: FFMPEG: tag 0x5634504d/'MP4V' is not supported with codec id 12 and format 'mp4 / MP4 (MPEG-4 Part 14)'\n",
      "OpenCV: FFMPEG: fallback to use tag 0x7634706d/'mp4v'\n",
      "OpenCV: FFMPEG: tag 0x5634504d/'MP4V' is not supported with codec id 12 and format 'mp4 / MP4 (MPEG-4 Part 14)'\n",
      "OpenCV: FFMPEG: fallback to use tag 0x7634706d/'mp4v'\n"
     ]
    },
    {
     "name": "stdout",
     "output_type": "stream",
     "text": [
      "\n",
      "Faces saved to faces/id2_0001Face video saved to processed_videos/00014.mp4\n",
      "\n",
      "Face video saved to processed_videos/id2_0001.mp4\n"
     ]
    },
    {
     "name": "stderr",
     "output_type": "stream",
     "text": [
      "OpenCV: FFMPEG: tag 0x5634504d/'MP4V' is not supported with codec id 12 and format 'mp4 / MP4 (MPEG-4 Part 14)'\n",
      "OpenCV: FFMPEG: fallback to use tag 0x7634706d/'mp4v'\n"
     ]
    },
    {
     "name": "stdout",
     "output_type": "stream",
     "text": [
      "Faces saved to faces/00079Saved 15 frames to frames/00005\n",
      "\n",
      "Face video saved to processed_videos/00079.mp4\n"
     ]
    },
    {
     "name": "stderr",
     "output_type": "stream",
     "text": [
      "OpenCV: FFMPEG: tag 0x5634504d/'MP4V' is not supported with codec id 12 and format 'mp4 / MP4 (MPEG-4 Part 14)'\n",
      "OpenCV: FFMPEG: fallback to use tag 0x7634706d/'mp4v'\n"
     ]
    },
    {
     "name": "stdout",
     "output_type": "stream",
     "text": [
      "Faces saved to faces/00114\n",
      "Face video saved to processed_videos/00114.mp4\n"
     ]
    },
    {
     "name": "stderr",
     "output_type": "stream",
     "text": [
      "OpenCV: FFMPEG: tag 0x5634504d/'MP4V' is not supported with codec id 12 and format 'mp4 / MP4 (MPEG-4 Part 14)'\n",
      "OpenCV: FFMPEG: fallback to use tag 0x7634706d/'mp4v'\n"
     ]
    },
    {
     "name": "stdout",
     "output_type": "stream",
     "text": [
      "Faces saved to faces/id13_0005\n",
      "Faces saved to faces/00139Face video saved to processed_videos/id13_0005.mp4\n",
      "\n",
      "Face video saved to processed_videos/00139.mp4\n"
     ]
    },
    {
     "name": "stderr",
     "output_type": "stream",
     "text": [
      "OpenCV: FFMPEG: tag 0x5634504d/'MP4V' is not supported with codec id 12 and format 'mp4 / MP4 (MPEG-4 Part 14)'\n",
      "OpenCV: FFMPEG: fallback to use tag 0x7634706d/'mp4v'\n",
      "OpenCV: FFMPEG: tag 0x5634504d/'MP4V' is not supported with codec id 12 and format 'mp4 / MP4 (MPEG-4 Part 14)'\n",
      "OpenCV: FFMPEG: fallback to use tag 0x7634706d/'mp4v'\n"
     ]
    },
    {
     "name": "stdout",
     "output_type": "stream",
     "text": [
      "Faces saved to faces/00134\n",
      "Saved 17 frames to frames/00177\n",
      "Face video saved to processed_videos/00134.mp4\n",
      "Faces saved to faces/id1_0006"
     ]
    },
    {
     "name": "stderr",
     "output_type": "stream",
     "text": [
      "OpenCV: FFMPEG: tag 0x5634504d/'MP4V' is not supported with codec id 12 and format 'mp4 / MP4 (MPEG-4 Part 14)'\n",
      "OpenCV: FFMPEG: fallback to use tag 0x7634706d/'mp4v'\n"
     ]
    },
    {
     "name": "stdout",
     "output_type": "stream",
     "text": [
      "\n",
      "Face video saved to processed_videos/id1_0006.mp4"
     ]
    },
    {
     "name": "stderr",
     "output_type": "stream",
     "text": [
      "OpenCV: FFMPEG: tag 0x5634504d/'MP4V' is not supported with codec id 12 and format 'mp4 / MP4 (MPEG-4 Part 14)'\n",
      "OpenCV: FFMPEG: fallback to use tag 0x7634706d/'mp4v'\n"
     ]
    },
    {
     "name": "stdout",
     "output_type": "stream",
     "text": [
      "\n",
      "Faces saved to faces/00039\n",
      "Faces saved to faces/id3_0000\n",
      "Face video saved to processed_videos/00039.mp4Faces saved to faces/00054\n",
      "\n",
      "Face video saved to processed_videos/id3_0000.mp4\n"
     ]
    },
    {
     "name": "stderr",
     "output_type": "stream",
     "text": [
      "OpenCV: FFMPEG: tag 0x5634504d/'MP4V' is not supported with codec id 12 and format 'mp4 / MP4 (MPEG-4 Part 14)'\n",
      "OpenCV: FFMPEG: fallback to use tag 0x7634706d/'mp4v'\n",
      "OpenCV: FFMPEG: tag 0x5634504d/'MP4V' is not supported with codec id 12 and format 'mp4 / MP4 (MPEG-4 Part 14)'\n",
      "OpenCV: FFMPEG: fallback to use tag 0x7634706d/'mp4v'\n",
      "OpenCV: FFMPEG: tag 0x5634504d/'MP4V' is not supported with codec id 12 and format 'mp4 / MP4 (MPEG-4 Part 14)'\n",
      "OpenCV: FFMPEG: fallback to use tag 0x7634706d/'mp4v'\n"
     ]
    },
    {
     "name": "stdout",
     "output_type": "stream",
     "text": [
      "Face video saved to processed_videos/00054.mp4\n",
      "Saved 15 frames to frames/00045\n",
      "Faces saved to faces/00144\n",
      "Face video saved to processed_videos/00144.mp4Saved 11 frames to frames/id11_0004\n"
     ]
    },
    {
     "name": "stderr",
     "output_type": "stream",
     "text": [
      "OpenCV: FFMPEG: tag 0x5634504d/'MP4V' is not supported with codec id 12 and format 'mp4 / MP4 (MPEG-4 Part 14)'\n",
      "OpenCV: FFMPEG: fallback to use tag 0x7634706d/'mp4v'\n"
     ]
    },
    {
     "name": "stdout",
     "output_type": "stream",
     "text": [
      "\n",
      "Faces saved to faces/id3_0006Faces saved to faces/id8_0009\n",
      "\n",
      "Face video saved to processed_videos/id3_0006.mp4\n",
      "Face video saved to processed_videos/id8_0009.mp4\n"
     ]
    },
    {
     "name": "stderr",
     "output_type": "stream",
     "text": [
      "OpenCV: FFMPEG: tag 0x5634504d/'MP4V' is not supported with codec id 12 and format 'mp4 / MP4 (MPEG-4 Part 14)'\n",
      "OpenCV: FFMPEG: fallback to use tag 0x7634706d/'mp4v'\n",
      "OpenCV: FFMPEG: tag 0x5634504d/'MP4V' is not supported with codec id 12 and format 'mp4 / MP4 (MPEG-4 Part 14)'\n",
      "OpenCV: FFMPEG: fallback to use tag 0x7634706d/'mp4v'\n"
     ]
    },
    {
     "name": "stdout",
     "output_type": "stream",
     "text": [
      "Saved 14 frames to frames/id9_0005\n",
      "Saved 14 frames to frames/00015Saved 10 frames to frames/00115\n",
      "Faces saved to faces/id11_0008\n",
      "Faces saved to faces/00069\n",
      "\n",
      "Face video saved to processed_videos/id11_0008.mp4Face video saved to processed_videos/00069.mp4\n",
      "\n",
      "Saved 16 frames to frames/00160Saved 21 frames to frames/id6_0000"
     ]
    },
    {
     "name": "stderr",
     "output_type": "stream",
     "text": [
      "OpenCV: FFMPEG: tag 0x5634504d/'MP4V' is not supported with codec id 12 and format 'mp4 / MP4 (MPEG-4 Part 14)'\n",
      "OpenCV: FFMPEG: fallback to use tag 0x7634706d/'mp4v'\n",
      "OpenCV: FFMPEG: tag 0x5634504d/'MP4V' is not supported with codec id 12 and format 'mp4 / MP4 (MPEG-4 Part 14)'\n",
      "OpenCV: FFMPEG: fallback to use tag 0x7634706d/'mp4v'\n"
     ]
    },
    {
     "name": "stdout",
     "output_type": "stream",
     "text": [
      "\n",
      "\n",
      "Saved 11 frames to frames/id13_0006Saved 15 frames to frames/00182\n",
      "\n",
      "Saved 15 frames to frames/00080\n",
      "Saved 12 frames to frames/00140\n",
      "Faces saved to faces/id13_0000\n",
      "Saved 12 frames to frames/id3_0001Face video saved to processed_videos/id13_0000.mp4\n",
      "\n"
     ]
    },
    {
     "name": "stderr",
     "output_type": "stream",
     "text": [
      "OpenCV: FFMPEG: tag 0x5634504d/'MP4V' is not supported with codec id 12 and format 'mp4 / MP4 (MPEG-4 Part 14)'\n",
      "OpenCV: FFMPEG: fallback to use tag 0x7634706d/'mp4v'\n"
     ]
    },
    {
     "name": "stdout",
     "output_type": "stream",
     "text": [
      "Saved 11 frames to frames/00135\n",
      "Faces saved to faces/00034\n",
      "Faces saved to faces/id13_0014Face video saved to processed_videos/00034.mp4\n",
      "\n",
      "Face video saved to processed_videos/id13_0014.mp4"
     ]
    },
    {
     "name": "stderr",
     "output_type": "stream",
     "text": [
      "OpenCV: FFMPEG: tag 0x5634504d/'MP4V' is not supported with codec id 12 and format 'mp4 / MP4 (MPEG-4 Part 14)'\n",
      "OpenCV: FFMPEG: fallback to use tag 0x7634706d/'mp4v'\n",
      "OpenCV: FFMPEG: tag 0x5634504d/'MP4V' is not supported with codec id 12 and format 'mp4 / MP4 (MPEG-4 Part 14)'\n",
      "OpenCV: FFMPEG: fallback to use tag 0x7634706d/'mp4v'\n"
     ]
    },
    {
     "name": "stdout",
     "output_type": "stream",
     "text": [
      "\n",
      "Faces saved to faces/00119\n",
      "Saved 12 frames to frames/00040\n",
      "Faces saved to faces/00064\n",
      "Face video saved to processed_videos/00119.mp4Face video saved to processed_videos/00064.mp4\n",
      "\n"
     ]
    },
    {
     "name": "stderr",
     "output_type": "stream",
     "text": [
      "OpenCV: FFMPEG: tag 0x5634504d/'MP4V' is not supported with codec id 12 and format 'mp4 / MP4 (MPEG-4 Part 14)'\n",
      "OpenCV: FFMPEG: fallback to use tag 0x7634706d/'mp4v'\n",
      "OpenCV: FFMPEG: tag 0x5634504d/'MP4V' is not supported with codec id 12 and format 'mp4 / MP4 (MPEG-4 Part 14)'\n",
      "OpenCV: FFMPEG: fallback to use tag 0x7634706d/'mp4v'\n"
     ]
    },
    {
     "name": "stdout",
     "output_type": "stream",
     "text": [
      "Saved 15 frames to frames/00187\n",
      "Faces saved to faces/id4_0004\n",
      "Face video saved to processed_videos/id4_0004.mp4Saved 15 frames to frames/00055\n",
      "Saved 11 frames to frames/00070\n",
      "\n",
      "Faces saved to faces/00125\n"
     ]
    },
    {
     "name": "stderr",
     "output_type": "stream",
     "text": [
      "OpenCV: FFMPEG: tag 0x5634504d/'MP4V' is not supported with codec id 12 and format 'mp4 / MP4 (MPEG-4 Part 14)'\n",
      "OpenCV: FFMPEG: fallback to use tag 0x7634706d/'mp4v'\n",
      "OpenCV: FFMPEG: tag 0x5634504d/'MP4V' is not supported with codec id 12 and format 'mp4 / MP4 (MPEG-4 Part 14)'\n",
      "OpenCV: FFMPEG: fallback to use tag 0x7634706d/'mp4v'\n"
     ]
    },
    {
     "name": "stdout",
     "output_type": "stream",
     "text": [
      "Face video saved to processed_videos/00125.mp4\n",
      "Saved 15 frames to frames/00145\n",
      "Faces saved to faces/id13_0009\n",
      "Saved 14 frames to frames/id9_0000\n",
      "Saved 15 frames to frames/00192Faces saved to faces/00089\n",
      "Face video saved to processed_videos/id13_0009.mp4\n",
      "Face video saved to processed_videos/00089.mp4Saved 13 frames to frames/id11_0009\n",
      "\n",
      "\n"
     ]
    },
    {
     "name": "stderr",
     "output_type": "stream",
     "text": [
      "OpenCV: FFMPEG: tag 0x5634504d/'MP4V' is not supported with codec id 12 and format 'mp4 / MP4 (MPEG-4 Part 14)'\n",
      "OpenCV: FFMPEG: fallback to use tag 0x7634706d/'mp4v'\n",
      "OpenCV: FFMPEG: tag 0x5634504d/'MP4V' is not supported with codec id 12 and format 'mp4 / MP4 (MPEG-4 Part 14)'\n",
      "OpenCV: FFMPEG: fallback to use tag 0x7634706d/'mp4v'\n"
     ]
    },
    {
     "name": "stdout",
     "output_type": "stream",
     "text": [
      "Faces saved to faces/00094\n",
      "Face video saved to processed_videos/00094.mp4\n"
     ]
    },
    {
     "name": "stderr",
     "output_type": "stream",
     "text": [
      "OpenCV: FFMPEG: tag 0x5634504d/'MP4V' is not supported with codec id 12 and format 'mp4 / MP4 (MPEG-4 Part 14)'\n",
      "OpenCV: FFMPEG: fallback to use tag 0x7634706d/'mp4v'\n"
     ]
    },
    {
     "name": "stdout",
     "output_type": "stream",
     "text": [
      "Saved 11 frames to frames/id13_0001\n",
      "Faces saved to faces/00059\n",
      "Face video saved to processed_videos/00059.mp4\n"
     ]
    },
    {
     "name": "stderr",
     "output_type": "stream",
     "text": [
      "OpenCV: FFMPEG: tag 0x5634504d/'MP4V' is not supported with codec id 12 and format 'mp4 / MP4 (MPEG-4 Part 14)'\n",
      "OpenCV: FFMPEG: fallback to use tag 0x7634706d/'mp4v'\n"
     ]
    },
    {
     "name": "stdout",
     "output_type": "stream",
     "text": [
      "Faces saved to faces/00049\n",
      "Face video saved to processed_videos/00049.mp4\n",
      "Faces saved to faces/00129"
     ]
    },
    {
     "name": "stderr",
     "output_type": "stream",
     "text": [
      "OpenCV: FFMPEG: tag 0x5634504d/'MP4V' is not supported with codec id 12 and format 'mp4 / MP4 (MPEG-4 Part 14)'\n",
      "OpenCV: FFMPEG: fallback to use tag 0x7634706d/'mp4v'\n"
     ]
    },
    {
     "name": "stdout",
     "output_type": "stream",
     "text": [
      "\n",
      "Faces saved to faces/00104\n",
      "Saved 15 frames to frames/00035Face video saved to processed_videos/00129.mp4\n",
      "\n",
      "Face video saved to processed_videos/00104.mp4"
     ]
    },
    {
     "name": "stderr",
     "output_type": "stream",
     "text": [
      "OpenCV: FFMPEG: tag 0x5634504d/'MP4V' is not supported with codec id 12 and format 'mp4 / MP4 (MPEG-4 Part 14)'\n",
      "OpenCV: FFMPEG: fallback to use tag 0x7634706d/'mp4v'\n",
      "OpenCV: FFMPEG: tag 0x5634504d/'MP4V' is not supported with codec id 12 and format 'mp4 / MP4 (MPEG-4 Part 14)'\n",
      "OpenCV: FFMPEG: fallback to use tag 0x7634706d/'mp4v'\n"
     ]
    },
    {
     "name": "stdout",
     "output_type": "stream",
     "text": [
      "\n",
      "Faces saved to faces/00024\n",
      "Face video saved to processed_videos/00024.mp4\n",
      "Saved 15 frames to frames/00120\n"
     ]
    },
    {
     "name": "stderr",
     "output_type": "stream",
     "text": [
      "OpenCV: FFMPEG: tag 0x5634504d/'MP4V' is not supported with codec id 12 and format 'mp4 / MP4 (MPEG-4 Part 14)'\n",
      "OpenCV: FFMPEG: fallback to use tag 0x7634706d/'mp4v'\n"
     ]
    },
    {
     "name": "stdout",
     "output_type": "stream",
     "text": [
      "Saved 16 frames to frames/id13_0015\n",
      "Faces saved to faces/00074\n",
      "Face video saved to processed_videos/00074.mp4Faces saved to faces/00029\n",
      "\n"
     ]
    },
    {
     "name": "stderr",
     "output_type": "stream",
     "text": [
      "OpenCV: FFMPEG: tag 0x5634504d/'MP4V' is not supported with codec id 12 and format 'mp4 / MP4 (MPEG-4 Part 14)'\n",
      "OpenCV: FFMPEG: fallback to use tag 0x7634706d/'mp4v'\n",
      "OpenCV: FFMPEG: tag 0x5634504d/'MP4V' is not supported with codec id 12 and format 'mp4 / MP4 (MPEG-4 Part 14)'\n",
      "OpenCV: FFMPEG: fallback to use tag 0x7634706d/'mp4v'\n"
     ]
    },
    {
     "name": "stdout",
     "output_type": "stream",
     "text": [
      "Face video saved to processed_videos/00029.mp4Saved 11 frames to frames/id13_0010Saved 16 frames to frames/00065\n",
      "\n",
      "\n",
      "Saved 15 frames to frames/id4_0005\n",
      "Saved 13 frames to frames/00090\n",
      "Saved 15 frames to frames/00126\n",
      "Faces saved to faces/00099\n",
      "Face video saved to processed_videos/00099.mp4\n"
     ]
    },
    {
     "name": "stderr",
     "output_type": "stream",
     "text": [
      "OpenCV: FFMPEG: tag 0x5634504d/'MP4V' is not supported with codec id 12 and format 'mp4 / MP4 (MPEG-4 Part 14)'\n",
      "OpenCV: FFMPEG: fallback to use tag 0x7634706d/'mp4v'\n"
     ]
    },
    {
     "name": "stdout",
     "output_type": "stream",
     "text": [
      "Faces saved to faces/id12_0002\n",
      "Face video saved to processed_videos/id12_0002.mp4\n"
     ]
    },
    {
     "name": "stderr",
     "output_type": "stream",
     "text": [
      "OpenCV: FFMPEG: tag 0x5634504d/'MP4V' is not supported with codec id 12 and format 'mp4 / MP4 (MPEG-4 Part 14)'\n",
      "OpenCV: FFMPEG: fallback to use tag 0x7634706d/'mp4v'\n"
     ]
    },
    {
     "name": "stdout",
     "output_type": "stream",
     "text": [
      "Faces saved to faces/00162\n",
      "Face video saved to processed_videos/00162.mp4\n",
      "Saved 16 frames to frames/00095\n",
      "Faces saved to faces/id0_0007"
     ]
    },
    {
     "name": "stderr",
     "output_type": "stream",
     "text": [
      "OpenCV: FFMPEG: tag 0x5634504d/'MP4V' is not supported with codec id 12 and format 'mp4 / MP4 (MPEG-4 Part 14)'\n",
      "OpenCV: FFMPEG: fallback to use tag 0x7634706d/'mp4v'\n"
     ]
    },
    {
     "name": "stdout",
     "output_type": "stream",
     "text": [
      "Faces saved to faces/id6_0004\n",
      "Faces saved to faces/00149\n",
      "Face video saved to processed_videos/id0_0007.mp4\n",
      "\n",
      "Face video saved to processed_videos/00149.mp4Face video saved to processed_videos/id6_0004.mp4\n"
     ]
    },
    {
     "name": "stderr",
     "output_type": "stream",
     "text": [
      "OpenCV: FFMPEG: tag 0x5634504d/'MP4V' is not supported with codec id 12 and format 'mp4 / MP4 (MPEG-4 Part 14)'\n",
      "OpenCV: FFMPEG: fallback to use tag 0x7634706d/'mp4v'\n",
      "OpenCV: FFMPEG: tag 0x5634504d/'MP4V' is not supported with codec id 12 and format 'mp4 / MP4 (MPEG-4 Part 14)'\n",
      "OpenCV: FFMPEG: fallback to use tag 0x7634706d/'mp4v'\n",
      "OpenCV: FFMPEG: tag 0x5634504d/'MP4V' is not supported with codec id 12 and format 'mp4 / MP4 (MPEG-4 Part 14)'\n",
      "OpenCV: FFMPEG: fallback to use tag 0x7634706d/'mp4v'\n"
     ]
    },
    {
     "name": "stdout",
     "output_type": "stream",
     "text": [
      "\n",
      "Saved 15 frames to frames/00050Saved 15 frames to frames/00060\n",
      "\n",
      "Faces saved to faces/id16_0004Saved 13 frames to frames/00130\n",
      "Faces saved to faces/id4_0000\n",
      "Face video saved to processed_videos/id16_0004.mp4\n",
      "\n",
      "Face video saved to processed_videos/id4_0000.mp4"
     ]
    },
    {
     "name": "stderr",
     "output_type": "stream",
     "text": [
      "OpenCV: FFMPEG: tag 0x5634504d/'MP4V' is not supported with codec id 12 and format 'mp4 / MP4 (MPEG-4 Part 14)'\n",
      "OpenCV: FFMPEG: fallback to use tag 0x7634706d/'mp4v'\n",
      "OpenCV: FFMPEG: tag 0x5634504d/'MP4V' is not supported with codec id 12 and format 'mp4 / MP4 (MPEG-4 Part 14)'\n",
      "OpenCV: FFMPEG: fallback to use tag 0x7634706d/'mp4v'\n"
     ]
    },
    {
     "name": "stdout",
     "output_type": "stream",
     "text": [
      "\n",
      "Saved 15 frames to frames/00025\n",
      "Saved 15 frames to frames/00075\n",
      "Saved 16 frames to frames/00105\n",
      "Saved 15 frames to frames/00030\n",
      "Faces saved to faces/00009\n",
      "Faces saved to faces/id6_0009Face video saved to processed_videos/00009.mp4\n",
      "\n",
      "Face video saved to processed_videos/id6_0009.mp4"
     ]
    },
    {
     "name": "stderr",
     "output_type": "stream",
     "text": [
      "OpenCV: FFMPEG: tag 0x5634504d/'MP4V' is not supported with codec id 12 and format 'mp4 / MP4 (MPEG-4 Part 14)'\n",
      "OpenCV: FFMPEG: fallback to use tag 0x7634706d/'mp4v'\n",
      "OpenCV: FFMPEG: tag 0x5634504d/'MP4V' is not supported with codec id 12 and format 'mp4 / MP4 (MPEG-4 Part 14)'\n",
      "OpenCV: FFMPEG: fallback to use tag 0x7634706d/'mp4v'\n"
     ]
    },
    {
     "name": "stdout",
     "output_type": "stream",
     "text": [
      "\n",
      "Faces saved to faces/id7_0004\n",
      "Saved 12 frames to frames/id12_0003\n",
      "Face video saved to processed_videos/id7_0004.mp4\n"
     ]
    },
    {
     "name": "stderr",
     "output_type": "stream",
     "text": [
      "OpenCV: FFMPEG: tag 0x5634504d/'MP4V' is not supported with codec id 12 and format 'mp4 / MP4 (MPEG-4 Part 14)'\n",
      "OpenCV: FFMPEG: fallback to use tag 0x7634706d/'mp4v'\n"
     ]
    },
    {
     "name": "stdout",
     "output_type": "stream",
     "text": [
      "Saved 17 frames to frames/00100\n",
      "Saved 15 frames to frames/00163\n",
      "Saved 12 frames to frames/id6_0005\n",
      "Saved 11 frames to frames/id16_0005Saved 5 frames to frames/id7_0005\n",
      "Saved 15 frames to frames/00150\n",
      "\n",
      "Faces saved to faces/id8_0004\n",
      "Face video saved to processed_videos/id8_0004.mp4\n",
      "Saved 15 frames to frames/id0_0008\n"
     ]
    },
    {
     "name": "stderr",
     "output_type": "stream",
     "text": [
      "OpenCV: FFMPEG: tag 0x5634504d/'MP4V' is not supported with codec id 12 and format 'mp4 / MP4 (MPEG-4 Part 14)'\n",
      "OpenCV: FFMPEG: fallback to use tag 0x7634706d/'mp4v'\n"
     ]
    },
    {
     "name": "stdout",
     "output_type": "stream",
     "text": [
      "Saved 15 frames to frames/id4_0001Saved 9 frames to frames/id7_0000\n",
      "\n",
      "Faces saved to faces/id10_0004\n",
      "Faces saved to faces/id16_0010\n",
      "Face video saved to processed_videos/id10_0004.mp4\n",
      "Saved 14 frames to frames/00010\n",
      "Face video saved to processed_videos/id16_0010.mp4\n"
     ]
    },
    {
     "name": "stderr",
     "output_type": "stream",
     "text": [
      "OpenCV: FFMPEG: tag 0x5634504d/'MP4V' is not supported with codec id 12 and format 'mp4 / MP4 (MPEG-4 Part 14)'\n",
      "OpenCV: FFMPEG: fallback to use tag 0x7634706d/'mp4v'\n",
      "OpenCV: FFMPEG: tag 0x5634504d/'MP4V' is not supported with codec id 12 and format 'mp4 / MP4 (MPEG-4 Part 14)'\n",
      "OpenCV: FFMPEG: fallback to use tag 0x7634706d/'mp4v'\n"
     ]
    },
    {
     "name": "stdout",
     "output_type": "stream",
     "text": [
      "Saved 7 frames to frames/id8_0005\n",
      "Faces saved to faces/00167\n",
      "Face video saved to processed_videos/00167.mp4\n"
     ]
    },
    {
     "name": "stderr",
     "output_type": "stream",
     "text": [
      "OpenCV: FFMPEG: tag 0x5634504d/'MP4V' is not supported with codec id 12 and format 'mp4 / MP4 (MPEG-4 Part 14)'\n",
      "OpenCV: FFMPEG: fallback to use tag 0x7634706d/'mp4v'\n"
     ]
    },
    {
     "name": "stdout",
     "output_type": "stream",
     "text": [
      "Faces saved to faces/00154\n",
      "Face video saved to processed_videos/00154.mp4\n"
     ]
    },
    {
     "name": "stderr",
     "output_type": "stream",
     "text": [
      "OpenCV: FFMPEG: tag 0x5634504d/'MP4V' is not supported with codec id 12 and format 'mp4 / MP4 (MPEG-4 Part 14)'\n",
      "OpenCV: FFMPEG: fallback to use tag 0x7634706d/'mp4v'\n"
     ]
    },
    {
     "name": "stdout",
     "output_type": "stream",
     "text": [
      "Faces saved to faces/id3_0001\n",
      "Face video saved to processed_videos/id3_0001.mp4\n"
     ]
    },
    {
     "name": "stderr",
     "output_type": "stream",
     "text": [
      "OpenCV: FFMPEG: tag 0x5634504d/'MP4V' is not supported with codec id 12 and format 'mp4 / MP4 (MPEG-4 Part 14)'\n",
      "OpenCV: FFMPEG: fallback to use tag 0x7634706d/'mp4v'\n"
     ]
    },
    {
     "name": "stdout",
     "output_type": "stream",
     "text": [
      "Faces saved to faces/00172\n",
      "Face video saved to processed_videos/00172.mp4\n"
     ]
    },
    {
     "name": "stderr",
     "output_type": "stream",
     "text": [
      "OpenCV: FFMPEG: tag 0x5634504d/'MP4V' is not supported with codec id 12 and format 'mp4 / MP4 (MPEG-4 Part 14)'\n",
      "OpenCV: FFMPEG: fallback to use tag 0x7634706d/'mp4v'\n"
     ]
    },
    {
     "name": "stdout",
     "output_type": "stream",
     "text": [
      "Saved 4 frames to frames/00207\n",
      "Saved 16 frames to frames/00202\n",
      "Saved 15 frames to frames/00197\n",
      "Saved 15 frames to frames/00168Faces saved to faces/00020\n",
      "\n",
      "Face video saved to processed_videos/00020.mp4\n"
     ]
    },
    {
     "name": "stderr",
     "output_type": "stream",
     "text": [
      "OpenCV: FFMPEG: tag 0x5634504d/'MP4V' is not supported with codec id 12 and format 'mp4 / MP4 (MPEG-4 Part 14)'\n",
      "OpenCV: FFMPEG: fallback to use tag 0x7634706d/'mp4v'\n"
     ]
    },
    {
     "name": "stdout",
     "output_type": "stream",
     "text": [
      "Saved 16 frames to frames/00173\n",
      "Faces saved to faces/00115\n",
      "Face video saved to processed_videos/00115.mp4Saved 19 frames to frames/00155\n",
      "\n"
     ]
    },
    {
     "name": "stderr",
     "output_type": "stream",
     "text": [
      "OpenCV: FFMPEG: tag 0x5634504d/'MP4V' is not supported with codec id 12 and format 'mp4 / MP4 (MPEG-4 Part 14)'\n",
      "OpenCV: FFMPEG: fallback to use tag 0x7634706d/'mp4v'\n"
     ]
    },
    {
     "name": "stdout",
     "output_type": "stream",
     "text": [
      "Faces saved to faces/00110\n",
      "Face video saved to processed_videos/00110.mp4\n"
     ]
    },
    {
     "name": "stderr",
     "output_type": "stream",
     "text": [
      "OpenCV: FFMPEG: tag 0x5634504d/'MP4V' is not supported with codec id 12 and format 'mp4 / MP4 (MPEG-4 Part 14)'\n",
      "OpenCV: FFMPEG: fallback to use tag 0x7634706d/'mp4v'\n"
     ]
    },
    {
     "name": "stdout",
     "output_type": "stream",
     "text": [
      "Faces saved to faces/id8_0000\n",
      "Face video saved to processed_videos/id8_0000.mp4\n"
     ]
    },
    {
     "name": "stderr",
     "output_type": "stream",
     "text": [
      "OpenCV: FFMPEG: tag 0x5634504d/'MP4V' is not supported with codec id 12 and format 'mp4 / MP4 (MPEG-4 Part 14)'\n",
      "OpenCV: FFMPEG: fallback to use tag 0x7634706d/'mp4v'\n"
     ]
    },
    {
     "name": "stdout",
     "output_type": "stream",
     "text": [
      "Faces saved to faces/00000\n",
      "Face video saved to processed_videos/00000.mp4Faces saved to faces/id11_0004\n",
      "Face video saved to processed_videos/id11_0004.mp4\n",
      "\n"
     ]
    },
    {
     "name": "stderr",
     "output_type": "stream",
     "text": [
      "OpenCV: FFMPEG: tag 0x5634504d/'MP4V' is not supported with codec id 12 and format 'mp4 / MP4 (MPEG-4 Part 14)'\n",
      "OpenCV: FFMPEG: fallback to use tag 0x7634706d/'mp4v'\n",
      "OpenCV: FFMPEG: tag 0x5634504d/'MP4V' is not supported with codec id 12 and format 'mp4 / MP4 (MPEG-4 Part 14)'\n",
      "OpenCV: FFMPEG: fallback to use tag 0x7634706d/'mp4v'\n"
     ]
    },
    {
     "name": "stdout",
     "output_type": "stream",
     "text": [
      "Saved 15 frames to frames/00021\n",
      "Faces saved to faces/00135\n",
      "Face video saved to processed_videos/00135.mp4\n",
      "Faces saved to faces/id7_0005\n"
     ]
    },
    {
     "name": "stderr",
     "output_type": "stream",
     "text": [
      "OpenCV: FFMPEG: tag 0x5634504d/'MP4V' is not supported with codec id 12 and format 'mp4 / MP4 (MPEG-4 Part 14)'\n",
      "OpenCV: FFMPEG: fallback to use tag 0x7634706d/'mp4v'\n"
     ]
    },
    {
     "name": "stdout",
     "output_type": "stream",
     "text": [
      "Face video saved to processed_videos/id7_0005.mp4\n",
      "Faces saved to faces/id13_0006\n"
     ]
    },
    {
     "name": "stderr",
     "output_type": "stream",
     "text": [
      "OpenCV: FFMPEG: tag 0x5634504d/'MP4V' is not supported with codec id 12 and format 'mp4 / MP4 (MPEG-4 Part 14)'\n",
      "OpenCV: FFMPEG: fallback to use tag 0x7634706d/'mp4v'\n",
      "OpenCV: FFMPEG: tag 0x5634504d/'MP4V' is not supported with codec id 12 and format 'mp4 / MP4 (MPEG-4 Part 14)'\n",
      "OpenCV: FFMPEG: fallback to use tag 0x7634706d/'mp4v'\n"
     ]
    },
    {
     "name": "stdout",
     "output_type": "stream",
     "text": [
      "Face video saved to processed_videos/id13_0006.mp4\n",
      "Faces saved to faces/00140\n",
      "Faces saved to faces/id0_0003\n",
      "Face video saved to processed_videos/00140.mp4\n",
      "Face video saved to processed_videos/id0_0003.mp4\n"
     ]
    },
    {
     "name": "stderr",
     "output_type": "stream",
     "text": [
      "OpenCV: FFMPEG: tag 0x5634504d/'MP4V' is not supported with codec id 12 and format 'mp4 / MP4 (MPEG-4 Part 14)'\n",
      "OpenCV: FFMPEG: fallback to use tag 0x7634706d/'mp4v'\n",
      "OpenCV: FFMPEG: tag 0x5634504d/'MP4V' is not supported with codec id 12 and format 'mp4 / MP4 (MPEG-4 Part 14)'\n",
      "OpenCV: FFMPEG: fallback to use tag 0x7634706d/'mp4v'\n"
     ]
    },
    {
     "name": "stdout",
     "output_type": "stream",
     "text": [
      "Faces saved to faces/00070\n",
      "Face video saved to processed_videos/00070.mp4\n",
      "Saved 15 frames to frames/00116"
     ]
    },
    {
     "name": "stderr",
     "output_type": "stream",
     "text": [
      "OpenCV: FFMPEG: tag 0x5634504d/'MP4V' is not supported with codec id 12 and format 'mp4 / MP4 (MPEG-4 Part 14)'\n",
      "OpenCV: FFMPEG: fallback to use tag 0x7634706d/'mp4v'\n"
     ]
    },
    {
     "name": "stdout",
     "output_type": "stream",
     "text": [
      "\n",
      "Saved 15 frames to frames/00111\n",
      "Saved 13 frames to frames/00001\n",
      "Saved 15 frames to frames/id8_0001\n",
      "Faces saved to faces/00015\n",
      "Saved 9 frames to frames/00136Face video saved to processed_videos/00015.mp4\n",
      "\n",
      "Saved 7 frames to frames/id7_0006\n"
     ]
    },
    {
     "name": "stderr",
     "output_type": "stream",
     "text": [
      "OpenCV: FFMPEG: tag 0x5634504d/'MP4V' is not supported with codec id 12 and format 'mp4 / MP4 (MPEG-4 Part 14)'\n",
      "OpenCV: FFMPEG: fallback to use tag 0x7634706d/'mp4v'\n"
     ]
    },
    {
     "name": "stdout",
     "output_type": "stream",
     "text": [
      "Faces saved to faces/00005\n",
      "Saved 13 frames to frames/00212Face video saved to processed_videos/00005.mp4Faces saved to faces/id9_0005\n",
      "\n",
      "\n"
     ]
    },
    {
     "name": "stderr",
     "output_type": "stream",
     "text": [
      "OpenCV: FFMPEG: tag 0x5634504d/'MP4V' is not supported with codec id 12 and format 'mp4 / MP4 (MPEG-4 Part 14)'\n",
      "OpenCV: FFMPEG: fallback to use tag 0x7634706d/'mp4v'\n",
      "OpenCV: FFMPEG: tag 0x5634504d/'MP4V' is not supported with codec id 12 and format 'mp4 / MP4 (MPEG-4 Part 14)'\n",
      "OpenCV: FFMPEG: fallback to use tag 0x7634706d/'mp4v'\n"
     ]
    },
    {
     "name": "stdout",
     "output_type": "stream",
     "text": [
      "Face video saved to processed_videos/id9_0005.mp4\n",
      "Faces saved to faces/00207\n",
      "Face video saved to processed_videos/00207.mp4\n"
     ]
    },
    {
     "name": "stderr",
     "output_type": "stream",
     "text": [
      "OpenCV: FFMPEG: tag 0x5634504d/'MP4V' is not supported with codec id 12 and format 'mp4 / MP4 (MPEG-4 Part 14)'\n",
      "OpenCV: FFMPEG: fallback to use tag 0x7634706d/'mp4v'\n"
     ]
    },
    {
     "name": "stdout",
     "output_type": "stream",
     "text": [
      "Faces saved to faces/00040\n",
      "Face video saved to processed_videos/00040.mp4\n",
      "Saved 10 frames to frames/00217\n"
     ]
    },
    {
     "name": "stderr",
     "output_type": "stream",
     "text": [
      "OpenCV: FFMPEG: tag 0x5634504d/'MP4V' is not supported with codec id 12 and format 'mp4 / MP4 (MPEG-4 Part 14)'\n",
      "OpenCV: FFMPEG: fallback to use tag 0x7634706d/'mp4v'\n"
     ]
    },
    {
     "name": "stdout",
     "output_type": "stream",
     "text": [
      "Saved 10 frames to frames/id0_0004\n",
      "Saved 14 frames to frames/00141\n",
      "Faces saved to faces/id13_0001\n",
      "Face video saved to processed_videos/id13_0001.mp4\n"
     ]
    },
    {
     "name": "stderr",
     "output_type": "stream",
     "text": [
      "OpenCV: FFMPEG: tag 0x5634504d/'MP4V' is not supported with codec id 12 and format 'mp4 / MP4 (MPEG-4 Part 14)'\n",
      "OpenCV: FFMPEG: fallback to use tag 0x7634706d/'mp4v'\n"
     ]
    },
    {
     "name": "stdout",
     "output_type": "stream",
     "text": [
      "Saved 10 frames to frames/00016\n",
      "Faces saved to faces/00080\n",
      "Face video saved to processed_videos/00080.mp4\n"
     ]
    },
    {
     "name": "stderr",
     "output_type": "stream",
     "text": [
      "OpenCV: FFMPEG: tag 0x5634504d/'MP4V' is not supported with codec id 12 and format 'mp4 / MP4 (MPEG-4 Part 14)'\n",
      "OpenCV: FFMPEG: fallback to use tag 0x7634706d/'mp4v'\n"
     ]
    },
    {
     "name": "stdout",
     "output_type": "stream",
     "text": [
      "Faces saved to faces/00045\n",
      "Faces saved to faces/id8_0005\n",
      "Face video saved to processed_videos/00045.mp4Face video saved to processed_videos/id8_0005.mp4\n",
      "\n",
      "Saved 16 frames to frames/00071\n"
     ]
    },
    {
     "name": "stderr",
     "output_type": "stream",
     "text": [
      "OpenCV: FFMPEG: tag 0x5634504d/'MP4V' is not supported with codec id 12 and format 'mp4 / MP4 (MPEG-4 Part 14)'\n",
      "OpenCV: FFMPEG: fallback to use tag 0x7634706d/'mp4v'\n",
      "OpenCV: FFMPEG: tag 0x5634504d/'MP4V' is not supported with codec id 12 and format 'mp4 / MP4 (MPEG-4 Part 14)'\n",
      "OpenCV: FFMPEG: fallback to use tag 0x7634706d/'mp4v'\n"
     ]
    },
    {
     "name": "stdout",
     "output_type": "stream",
     "text": [
      "Faces saved to faces/id13_0010\n",
      "Faces saved to faces/00182Saved 13 frames to frames/id9_0006\n",
      "\n",
      "Face video saved to processed_videos/id13_0010.mp4\n",
      "Face video saved to processed_videos/00182.mp4\n",
      "Faces saved to faces/id11_0009"
     ]
    },
    {
     "name": "stderr",
     "output_type": "stream",
     "text": [
      "OpenCV: FFMPEG: tag 0x5634504d/'MP4V' is not supported with codec id 12 and format 'mp4 / MP4 (MPEG-4 Part 14)'\n",
      "OpenCV: FFMPEG: fallback to use tag 0x7634706d/'mp4v'\n",
      "OpenCV: FFMPEG: tag 0x5634504d/'MP4V' is not supported with codec id 12 and format 'mp4 / MP4 (MPEG-4 Part 14)'\n",
      "OpenCV: FFMPEG: fallback to use tag 0x7634706d/'mp4v'\n"
     ]
    },
    {
     "name": "stdout",
     "output_type": "stream",
     "text": [
      "Saved 16 frames to frames/00006\n",
      "\n",
      "Faces saved to faces/00160\n",
      "Face video saved to processed_videos/id11_0009.mp4\n"
     ]
    },
    {
     "name": "stderr",
     "output_type": "stream",
     "text": [
      "OpenCV: FFMPEG: tag 0x5634504d/'MP4V' is not supported with codec id 12 and format 'mp4 / MP4 (MPEG-4 Part 14)'\n",
      "OpenCV: FFMPEG: fallback to use tag 0x7634706d/'mp4v'\n",
      "OpenCV: FFMPEG: tag 0x5634504d/'MP4V' is not supported with codec id 12 and format 'mp4 / MP4 (MPEG-4 Part 14)'\n",
      "OpenCV: FFMPEG: fallback to use tag 0x7634706d/'mp4v'\n"
     ]
    },
    {
     "name": "stdout",
     "output_type": "stream",
     "text": [
      "Face video saved to processed_videos/00160.mp4Saved 15 frames to frames/00208\n",
      "\n",
      "Saved 15 frames to frames/00041\n",
      "Faces saved to faces/id10_0009\n",
      "Face video saved to processed_videos/id10_0009.mp4\n"
     ]
    },
    {
     "name": "stderr",
     "output_type": "stream",
     "text": [
      "OpenCV: FFMPEG: tag 0x5634504d/'MP4V' is not supported with codec id 12 and format 'mp4 / MP4 (MPEG-4 Part 14)'\n",
      "OpenCV: FFMPEG: fallback to use tag 0x7634706d/'mp4v'\n"
     ]
    },
    {
     "name": "stdout",
     "output_type": "stream",
     "text": [
      "Faces saved to faces/00177\n",
      "Face video saved to processed_videos/00177.mp4"
     ]
    },
    {
     "name": "stderr",
     "output_type": "stream",
     "text": [
      "OpenCV: FFMPEG: tag 0x5634504d/'MP4V' is not supported with codec id 12 and format 'mp4 / MP4 (MPEG-4 Part 14)'\n",
      "OpenCV: FFMPEG: fallback to use tag 0x7634706d/'mp4v'\n"
     ]
    },
    {
     "name": "stdout",
     "output_type": "stream",
     "text": [
      "\n",
      "Faces saved to faces/id9_0000\n",
      "Faces saved to faces/00145\n",
      "Face video saved to processed_videos/id9_0000.mp4Faces saved to faces/00187\n",
      "\n",
      "Face video saved to processed_videos/00145.mp4\n",
      "Face video saved to processed_videos/00187.mp4\n"
     ]
    },
    {
     "name": "stderr",
     "output_type": "stream",
     "text": [
      "OpenCV: FFMPEG: tag 0x5634504d/'MP4V' is not supported with codec id 12 and format 'mp4 / MP4 (MPEG-4 Part 14)'\n",
      "OpenCV: FFMPEG: fallback to use tag 0x7634706d/'mp4v'\n",
      "OpenCV: FFMPEG: tag 0x5634504d/'MP4V' is not supported with codec id 12 and format 'mp4 / MP4 (MPEG-4 Part 14)'\n",
      "OpenCV: FFMPEG: fallback to use tag 0x7634706d/'mp4v'\n",
      "OpenCV: FFMPEG: tag 0x5634504d/'MP4V' is not supported with codec id 12 and format 'mp4 / MP4 (MPEG-4 Part 14)'\n",
      "OpenCV: FFMPEG: fallback to use tag 0x7634706d/'mp4v'\n"
     ]
    },
    {
     "name": "stdout",
     "output_type": "stream",
     "text": [
      "Faces saved to faces/00085\n",
      "Face video saved to processed_videos/00085.mp4Faces saved to faces/id7_0000"
     ]
    },
    {
     "name": "stderr",
     "output_type": "stream",
     "text": [
      "OpenCV: FFMPEG: tag 0x5634504d/'MP4V' is not supported with codec id 12 and format 'mp4 / MP4 (MPEG-4 Part 14)'\n",
      "OpenCV: FFMPEG: fallback to use tag 0x7634706d/'mp4v'\n"
     ]
    },
    {
     "name": "stdout",
     "output_type": "stream",
     "text": [
      "Saved 15 frames to frames/00222\n",
      "\n",
      "Face video saved to processed_videos/id7_0000.mp4\n",
      "\n"
     ]
    },
    {
     "name": "stderr",
     "output_type": "stream",
     "text": [
      "OpenCV: FFMPEG: tag 0x5634504d/'MP4V' is not supported with codec id 12 and format 'mp4 / MP4 (MPEG-4 Part 14)'\n",
      "OpenCV: FFMPEG: fallback to use tag 0x7634706d/'mp4v'\n"
     ]
    },
    {
     "name": "stdout",
     "output_type": "stream",
     "text": [
      "Faces saved to faces/00055\n",
      "Face video saved to processed_videos/00055.mp4Faces saved to faces/00090\n",
      "\n",
      "Saved 15 frames to frames/00081"
     ]
    },
    {
     "name": "stderr",
     "output_type": "stream",
     "text": [
      "OpenCV: FFMPEG: tag 0x5634504d/'MP4V' is not supported with codec id 12 and format 'mp4 / MP4 (MPEG-4 Part 14)'\n",
      "OpenCV: FFMPEG: fallback to use tag 0x7634706d/'mp4v'\n",
      "OpenCV: FFMPEG: tag 0x5634504d/'MP4V' is not supported with codec id 12 and format 'mp4 / MP4 (MPEG-4 Part 14)'\n",
      "OpenCV: FFMPEG: fallback to use tag 0x7634706d/'mp4v'\n"
     ]
    },
    {
     "name": "stdout",
     "output_type": "stream",
     "text": [
      "Face video saved to processed_videos/00090.mp4\n",
      "\n",
      "Faces saved to faces/00192\n",
      "Face video saved to processed_videos/00192.mp4"
     ]
    },
    {
     "name": "stderr",
     "output_type": "stream",
     "text": [
      "OpenCV: FFMPEG: tag 0x5634504d/'MP4V' is not supported with codec id 12 and format 'mp4 / MP4 (MPEG-4 Part 14)'\n",
      "OpenCV: FFMPEG: fallback to use tag 0x7634706d/'mp4v'\n"
     ]
    },
    {
     "name": "stdout",
     "output_type": "stream",
     "text": [
      "\n",
      "Saved 15 frames to frames/00046\n",
      "Saved 17 frames to frames/id8_0006\n",
      "Saved 15 frames to frames/id13_0011\n",
      "Saved 15 frames to frames/00227\n",
      "Saved 17 frames to frames/00183\n",
      "Faces saved to faces/00035\n",
      "Face video saved to processed_videos/00035.mp4\n"
     ]
    },
    {
     "name": "stderr",
     "output_type": "stream",
     "text": [
      "OpenCV: FFMPEG: tag 0x5634504d/'MP4V' is not supported with codec id 12 and format 'mp4 / MP4 (MPEG-4 Part 14)'\n",
      "OpenCV: FFMPEG: fallback to use tag 0x7634706d/'mp4v'\n"
     ]
    },
    {
     "name": "stdout",
     "output_type": "stream",
     "text": [
      "Saved 9 frames to frames/id7_0001\n",
      "Saved 15 frames to frames/00232\n",
      "Saved 15 frames to frames/00178\n",
      "Saved 14 frames to frames/id9_0001\n",
      "Saved 17 frames to frames/00161\n",
      "Faces saved to faces/00130Saved 15 frames to frames/00188\n",
      "\n",
      "Face video saved to processed_videos/00130.mp4\n",
      "Faces saved to faces/00120"
     ]
    },
    {
     "name": "stderr",
     "output_type": "stream",
     "text": [
      "OpenCV: FFMPEG: tag 0x5634504d/'MP4V' is not supported with codec id 12 and format 'mp4 / MP4 (MPEG-4 Part 14)'\n",
      "OpenCV: FFMPEG: fallback to use tag 0x7634706d/'mp4v'\n"
     ]
    },
    {
     "name": "stdout",
     "output_type": "stream",
     "text": [
      "\n",
      "Faces saved to faces/id12_0003\n",
      "Face video saved to processed_videos/00120.mp4\n",
      "Face video saved to processed_videos/id12_0003.mp4\n"
     ]
    },
    {
     "name": "stderr",
     "output_type": "stream",
     "text": [
      "OpenCV: FFMPEG: tag 0x5634504d/'MP4V' is not supported with codec id 12 and format 'mp4 / MP4 (MPEG-4 Part 14)'\n",
      "OpenCV: FFMPEG: fallback to use tag 0x7634706d/'mp4v'\n",
      "OpenCV: FFMPEG: tag 0x5634504d/'MP4V' is not supported with codec id 12 and format 'mp4 / MP4 (MPEG-4 Part 14)'\n",
      "OpenCV: FFMPEG: fallback to use tag 0x7634706d/'mp4v'\n"
     ]
    },
    {
     "name": "stdout",
     "output_type": "stream",
     "text": [
      "Saved 11 frames to frames/00193\n",
      "Faces saved to faces/00126\n",
      "Faces saved to faces/id6_0005\n",
      "Face video saved to processed_videos/id6_0005.mp4Face video saved to processed_videos/00126.mp4\n"
     ]
    },
    {
     "name": "stderr",
     "output_type": "stream",
     "text": [
      "OpenCV: FFMPEG: tag 0x5634504d/'MP4V' is not supported with codec id 12 and format 'mp4 / MP4 (MPEG-4 Part 14)'\n",
      "OpenCV: FFMPEG: fallback to use tag 0x7634706d/'mp4v'\n",
      "OpenCV: FFMPEG: tag 0x5634504d/'MP4V' is not supported with codec id 12 and format 'mp4 / MP4 (MPEG-4 Part 14)'\n",
      "OpenCV: FFMPEG: fallback to use tag 0x7634706d/'mp4v'\n"
     ]
    },
    {
     "name": "stdout",
     "output_type": "stream",
     "text": [
      "\n",
      "Saved 16 frames to frames/00086\n",
      "Saved 15 frames to frames/00091\n",
      "Faces saved to faces/id16_0005\n",
      "Face video saved to processed_videos/id16_0005.mp4\n"
     ]
    },
    {
     "name": "stderr",
     "output_type": "stream",
     "text": [
      "OpenCV: FFMPEG: tag 0x5634504d/'MP4V' is not supported with codec id 12 and format 'mp4 / MP4 (MPEG-4 Part 14)'\n",
      "OpenCV: FFMPEG: fallback to use tag 0x7634706d/'mp4v'\n"
     ]
    },
    {
     "name": "stdout",
     "output_type": "stream",
     "text": [
      "Saved 17 frames to frames/00056\n",
      "Faces saved to faces/id13_0015\n",
      "Faces saved to faces/id4_0005\n",
      "Face video saved to processed_videos/id13_0015.mp4Faces saved to faces/00050Face video saved to processed_videos/id4_0005.mp4\n",
      "\n",
      "\n"
     ]
    },
    {
     "name": "stderr",
     "output_type": "stream",
     "text": [
      "OpenCV: FFMPEG: tag 0x5634504d/'MP4V' is not supported with codec id 12 and format 'mp4 / MP4 (MPEG-4 Part 14)'\n",
      "OpenCV: FFMPEG: fallback to use tag 0x7634706d/'mp4v'\n",
      "OpenCV: FFMPEG: tag 0x5634504d/'MP4V' is not supported with codec id 12 and format 'mp4 / MP4 (MPEG-4 Part 14)'\n",
      "OpenCV: FFMPEG: fallback to use tag 0x7634706d/'mp4v'\n"
     ]
    },
    {
     "name": "stdout",
     "output_type": "stream",
     "text": [
      "Face video saved to processed_videos/00050.mp4\n"
     ]
    },
    {
     "name": "stderr",
     "output_type": "stream",
     "text": [
      "OpenCV: FFMPEG: tag 0x5634504d/'MP4V' is not supported with codec id 12 and format 'mp4 / MP4 (MPEG-4 Part 14)'\n",
      "OpenCV: FFMPEG: fallback to use tag 0x7634706d/'mp4v'\n"
     ]
    },
    {
     "name": "stdout",
     "output_type": "stream",
     "text": [
      "Saved 24 frames to frames/00146\n",
      "Faces saved to faces/00065\n",
      "Faces saved to faces/00060Face video saved to processed_videos/00065.mp4\n",
      "\n",
      "Saved 11 frames to frames/00131Face video saved to processed_videos/00060.mp4\n"
     ]
    },
    {
     "name": "stderr",
     "output_type": "stream",
     "text": [
      "OpenCV: FFMPEG: tag 0x5634504d/'MP4V' is not supported with codec id 12 and format 'mp4 / MP4 (MPEG-4 Part 14)'\n",
      "OpenCV: FFMPEG: fallback to use tag 0x7634706d/'mp4v'\n",
      "OpenCV: FFMPEG: tag 0x5634504d/'MP4V' is not supported with codec id 12 and format 'mp4 / MP4 (MPEG-4 Part 14)'\n",
      "OpenCV: FFMPEG: fallback to use tag 0x7634706d/'mp4v'\n"
     ]
    },
    {
     "name": "stdout",
     "output_type": "stream",
     "text": [
      "\n",
      "Faces saved to faces/00095\n",
      "Face video saved to processed_videos/00095.mp4\n"
     ]
    },
    {
     "name": "stderr",
     "output_type": "stream",
     "text": [
      "OpenCV: FFMPEG: tag 0x5634504d/'MP4V' is not supported with codec id 12 and format 'mp4 / MP4 (MPEG-4 Part 14)'\n",
      "OpenCV: FFMPEG: fallback to use tag 0x7634706d/'mp4v'\n"
     ]
    },
    {
     "name": "stdout",
     "output_type": "stream",
     "text": [
      "Faces saved to faces/00025\n",
      "Faces saved to faces/00030Face video saved to processed_videos/00025.mp4\n",
      "\n"
     ]
    },
    {
     "name": "stderr",
     "output_type": "stream",
     "text": [
      "OpenCV: FFMPEG: tag 0x5634504d/'MP4V' is not supported with codec id 12 and format 'mp4 / MP4 (MPEG-4 Part 14)'\n",
      "OpenCV: FFMPEG: fallback to use tag 0x7634706d/'mp4v'\n",
      "OpenCV: FFMPEG: tag 0x5634504d/'MP4V' is not supported with codec id 12 and format 'mp4 / MP4 (MPEG-4 Part 14)'\n",
      "OpenCV: FFMPEG: fallback to use tag 0x7634706d/'mp4v'\n"
     ]
    },
    {
     "name": "stdout",
     "output_type": "stream",
     "text": [
      "Face video saved to processed_videos/00030.mp4\n",
      "Saved 9 frames to frames/id6_0006\n",
      "Saved 15 frames to frames/00121Saved 18 frames to frames/00036\n",
      "Saved 15 frames to frames/00237\n",
      "\n",
      "Faces saved to faces/00150Faces saved to faces/00075\n",
      "\n",
      "Face video saved to processed_videos/00075.mp4Face video saved to processed_videos/00150.mp4\n",
      "\n",
      "Saved 10 frames to frames/id4_0006\n",
      "Faces saved to faces/00105"
     ]
    },
    {
     "name": "stderr",
     "output_type": "stream",
     "text": [
      "OpenCV: FFMPEG: tag 0x5634504d/'MP4V' is not supported with codec id 12 and format 'mp4 / MP4 (MPEG-4 Part 14)'\n",
      "OpenCV: FFMPEG: fallback to use tag 0x7634706d/'mp4v'\n",
      "OpenCV: FFMPEG: tag 0x5634504d/'MP4V' is not supported with codec id 12 and format 'mp4 / MP4 (MPEG-4 Part 14)'\n",
      "OpenCV: FFMPEG: fallback to use tag 0x7634706d/'mp4v'\n"
     ]
    },
    {
     "name": "stdout",
     "output_type": "stream",
     "text": [
      "\n",
      "Face video saved to processed_videos/00105.mp4Faces saved to faces/id6_0000\n",
      "\n"
     ]
    },
    {
     "name": "stderr",
     "output_type": "stream",
     "text": [
      "OpenCV: FFMPEG: tag 0x5634504d/'MP4V' is not supported with codec id 12 and format 'mp4 / MP4 (MPEG-4 Part 14)'\n",
      "OpenCV: FFMPEG: fallback to use tag 0x7634706d/'mp4v'\n",
      "OpenCV: FFMPEG: tag 0x5634504d/'MP4V' is not supported with codec id 12 and format 'mp4 / MP4 (MPEG-4 Part 14)'\n",
      "OpenCV: FFMPEG: fallback to use tag 0x7634706d/'mp4v'\n"
     ]
    },
    {
     "name": "stdout",
     "output_type": "stream",
     "text": [
      "Saved 14 frames to frames/00242Face video saved to processed_videos/id6_0000.mp4\n",
      "\n",
      "Saved 12 frames to frames/00051\n",
      "Saved 10 frames to frames/id16_0000\n",
      "Faces saved to faces/id7_0006\n",
      "Saved 15 frames to frames/00247\n",
      "Face video saved to processed_videos/id7_0006.mp4"
     ]
    },
    {
     "name": "stderr",
     "output_type": "stream",
     "text": [
      "OpenCV: FFMPEG: tag 0x5634504d/'MP4V' is not supported with codec id 12 and format 'mp4 / MP4 (MPEG-4 Part 14)'\n",
      "OpenCV: FFMPEG: fallback to use tag 0x7634706d/'mp4v'\n"
     ]
    },
    {
     "name": "stdout",
     "output_type": "stream",
     "text": [
      "\n",
      "Saved 10 frames to frames/00096\n",
      "Faces saved to faces/00163Saved 13 frames to frames/00061\n",
      "\n",
      "Face video saved to processed_videos/00163.mp4Saved 15 frames to frames/00066\n"
     ]
    },
    {
     "name": "stderr",
     "output_type": "stream",
     "text": [
      "OpenCV: FFMPEG: tag 0x5634504d/'MP4V' is not supported with codec id 12 and format 'mp4 / MP4 (MPEG-4 Part 14)'\n",
      "OpenCV: FFMPEG: fallback to use tag 0x7634706d/'mp4v'\n"
     ]
    },
    {
     "name": "stdout",
     "output_type": "stream",
     "text": [
      "\n",
      "Faces saved to faces/00010\n",
      "Face video saved to processed_videos/00010.mp4\n"
     ]
    },
    {
     "name": "stderr",
     "output_type": "stream",
     "text": [
      "OpenCV: FFMPEG: tag 0x5634504d/'MP4V' is not supported with codec id 12 and format 'mp4 / MP4 (MPEG-4 Part 14)'\n",
      "OpenCV: FFMPEG: fallback to use tag 0x7634706d/'mp4v'\n"
     ]
    },
    {
     "name": "stdout",
     "output_type": "stream",
     "text": [
      "Faces saved to faces/id0_0008\n",
      "Face video saved to processed_videos/id0_0008.mp4\n"
     ]
    },
    {
     "name": "stderr",
     "output_type": "stream",
     "text": [
      "OpenCV: FFMPEG: tag 0x5634504d/'MP4V' is not supported with codec id 12 and format 'mp4 / MP4 (MPEG-4 Part 14)'\n",
      "OpenCV: FFMPEG: fallback to use tag 0x7634706d/'mp4v'\n"
     ]
    },
    {
     "name": "stdout",
     "output_type": "stream",
     "text": [
      "Saved 10 frames to frames/00106\n",
      "Saved 10 frames to frames/id6_0001\n",
      "Saved 16 frames to frames/00026\n",
      "Saved 17 frames to frames/00031\n",
      "Faces saved to faces/00136Saved 11 frames to frames/id0_id16_0002\n",
      "\n",
      "Saved 16 frames to frames/00151Face video saved to processed_videos/00136.mp4\n",
      "\n"
     ]
    },
    {
     "name": "stderr",
     "output_type": "stream",
     "text": [
      "OpenCV: FFMPEG: tag 0x5634504d/'MP4V' is not supported with codec id 12 and format 'mp4 / MP4 (MPEG-4 Part 14)'\n",
      "OpenCV: FFMPEG: fallback to use tag 0x7634706d/'mp4v'\n"
     ]
    },
    {
     "name": "stdout",
     "output_type": "stream",
     "text": [
      "Saved 15 frames to frames/00076\n",
      "Faces saved to faces/id4_0001\n",
      "Faces saved to faces/00100Face video saved to processed_videos/id4_0001.mp4\n",
      "\n",
      "Face video saved to processed_videos/00100.mp4"
     ]
    },
    {
     "name": "stderr",
     "output_type": "stream",
     "text": [
      "OpenCV: FFMPEG: tag 0x5634504d/'MP4V' is not supported with codec id 12 and format 'mp4 / MP4 (MPEG-4 Part 14)'\n",
      "OpenCV: FFMPEG: fallback to use tag 0x7634706d/'mp4v'\n",
      "OpenCV: FFMPEG: tag 0x5634504d/'MP4V' is not supported with codec id 12 and format 'mp4 / MP4 (MPEG-4 Part 14)'\n",
      "OpenCV: FFMPEG: fallback to use tag 0x7634706d/'mp4v'\n"
     ]
    },
    {
     "name": "stdout",
     "output_type": "stream",
     "text": [
      "\n",
      "Saved 15 frames to frames/00011\n",
      "Saved 17 frames to frames/00164\n",
      "Faces saved to faces/00197Faces saved to faces/00168\n",
      "\n",
      "Face video saved to processed_videos/00197.mp4Face video saved to processed_videos/00168.mp4\n",
      "\n"
     ]
    },
    {
     "name": "stderr",
     "output_type": "stream",
     "text": [
      "OpenCV: FFMPEG: tag 0x5634504d/'MP4V' is not supported with codec id 12 and format 'mp4 / MP4 (MPEG-4 Part 14)'\n",
      "OpenCV: FFMPEG: fallback to use tag 0x7634706d/'mp4v'\n",
      "OpenCV: FFMPEG: tag 0x5634504d/'MP4V' is not supported with codec id 12 and format 'mp4 / MP4 (MPEG-4 Part 14)'\n",
      "OpenCV: FFMPEG: fallback to use tag 0x7634706d/'mp4v'\n"
     ]
    },
    {
     "name": "stdout",
     "output_type": "stream",
     "text": [
      "Faces saved to faces/00217\n",
      "Face video saved to processed_videos/00217.mp4\n"
     ]
    },
    {
     "name": "stderr",
     "output_type": "stream",
     "text": [
      "OpenCV: FFMPEG: tag 0x5634504d/'MP4V' is not supported with codec id 12 and format 'mp4 / MP4 (MPEG-4 Part 14)'\n",
      "OpenCV: FFMPEG: fallback to use tag 0x7634706d/'mp4v'\n"
     ]
    },
    {
     "name": "stdout",
     "output_type": "stream",
     "text": [
      "Saved 17 frames to frames/id0_0009\n",
      "Saved 11 frames to frames/id0_id17_0002\n",
      "Faces saved to faces/00202\n",
      "Saved 15 frames to frames/id0_id16_0007Face video saved to processed_videos/00202.mp4\n",
      "Faces saved to faces/id0_0004\n",
      "\n"
     ]
    },
    {
     "name": "stderr",
     "output_type": "stream",
     "text": [
      "OpenCV: FFMPEG: tag 0x5634504d/'MP4V' is not supported with codec id 12 and format 'mp4 / MP4 (MPEG-4 Part 14)'\n",
      "OpenCV: FFMPEG: fallback to use tag 0x7634706d/'mp4v'\n"
     ]
    },
    {
     "name": "stdout",
     "output_type": "stream",
     "text": [
      "Faces saved to faces/00016Face video saved to processed_videos/id0_0004.mp4\n"
     ]
    },
    {
     "name": "stderr",
     "output_type": "stream",
     "text": [
      "OpenCV: FFMPEG: tag 0x5634504d/'MP4V' is not supported with codec id 12 and format 'mp4 / MP4 (MPEG-4 Part 14)'\n",
      "OpenCV: FFMPEG: fallback to use tag 0x7634706d/'mp4v'\n"
     ]
    },
    {
     "name": "stdout",
     "output_type": "stream",
     "text": [
      "\n",
      "Face video saved to processed_videos/00016.mp4"
     ]
    },
    {
     "name": "stderr",
     "output_type": "stream",
     "text": [
      "OpenCV: FFMPEG: tag 0x5634504d/'MP4V' is not supported with codec id 12 and format 'mp4 / MP4 (MPEG-4 Part 14)'\n",
      "OpenCV: FFMPEG: fallback to use tag 0x7634706d/'mp4v'\n"
     ]
    },
    {
     "name": "stdout",
     "output_type": "stream",
     "text": [
      "\n",
      "Saved 14 frames to frames/00101\n",
      "Faces saved to faces/00173\n",
      "Face video saved to processed_videos/00173.mp4Faces saved to faces/00001\n",
      "\n",
      "Face video saved to processed_videos/00001.mp4"
     ]
    },
    {
     "name": "stderr",
     "output_type": "stream",
     "text": [
      "OpenCV: FFMPEG: tag 0x5634504d/'MP4V' is not supported with codec id 12 and format 'mp4 / MP4 (MPEG-4 Part 14)'\n",
      "OpenCV: FFMPEG: fallback to use tag 0x7634706d/'mp4v'\n",
      "OpenCV: FFMPEG: tag 0x5634504d/'MP4V' is not supported with codec id 12 and format 'mp4 / MP4 (MPEG-4 Part 14)'\n",
      "OpenCV: FFMPEG: fallback to use tag 0x7634706d/'mp4v'\n"
     ]
    },
    {
     "name": "stdout",
     "output_type": "stream",
     "text": [
      "\n",
      "Saved 14 frames to frames/00169\n",
      "Saved 15 frames to frames/00198\n",
      "Saved 15 frames to frames/00218Faces saved to faces/00021\n",
      "\n",
      "Saved 10 frames to frames/00203\n",
      "Face video saved to processed_videos/00021.mp4\n"
     ]
    },
    {
     "name": "stderr",
     "output_type": "stream",
     "text": [
      "OpenCV: FFMPEG: tag 0x5634504d/'MP4V' is not supported with codec id 12 and format 'mp4 / MP4 (MPEG-4 Part 14)'\n",
      "OpenCV: FFMPEG: fallback to use tag 0x7634706d/'mp4v'\n"
     ]
    },
    {
     "name": "stdout",
     "output_type": "stream",
     "text": [
      "Faces saved to faces/00212\n",
      "Face video saved to processed_videos/00212.mp4"
     ]
    },
    {
     "name": "stderr",
     "output_type": "stream",
     "text": [
      "OpenCV: FFMPEG: tag 0x5634504d/'MP4V' is not supported with codec id 12 and format 'mp4 / MP4 (MPEG-4 Part 14)'\n",
      "OpenCV: FFMPEG: fallback to use tag 0x7634706d/'mp4v'\n"
     ]
    },
    {
     "name": "stdout",
     "output_type": "stream",
     "text": [
      "\n",
      "Saved 15 frames to frames/id0_id1_0005\n",
      "Saved 10 frames to frames/id0_id2_0001\n",
      "Saved 17 frames to frames/id0_id17_0009\n",
      "Faces saved to faces/id7_0001\n",
      "Face video saved to processed_videos/id7_0001.mp4\n"
     ]
    },
    {
     "name": "stderr",
     "output_type": "stream",
     "text": [
      "OpenCV: FFMPEG: tag 0x5634504d/'MP4V' is not supported with codec id 12 and format 'mp4 / MP4 (MPEG-4 Part 14)'\n",
      "OpenCV: FFMPEG: fallback to use tag 0x7634706d/'mp4v'\n"
     ]
    },
    {
     "name": "stdout",
     "output_type": "stream",
     "text": [
      "Saved 15 frames to frames/00174\n",
      "Faces saved to faces/00116\n",
      "Face video saved to processed_videos/00116.mp4\n"
     ]
    },
    {
     "name": "stderr",
     "output_type": "stream",
     "text": [
      "OpenCV: FFMPEG: tag 0x5634504d/'MP4V' is not supported with codec id 12 and format 'mp4 / MP4 (MPEG-4 Part 14)'\n",
      "OpenCV: FFMPEG: fallback to use tag 0x7634706d/'mp4v'\n"
     ]
    },
    {
     "name": "stdout",
     "output_type": "stream",
     "text": [
      "Faces saved to faces/00141\n",
      "Face video saved to processed_videos/00141.mp4\n"
     ]
    },
    {
     "name": "stderr",
     "output_type": "stream",
     "text": [
      "OpenCV: FFMPEG: tag 0x5634504d/'MP4V' is not supported with codec id 12 and format 'mp4 / MP4 (MPEG-4 Part 14)'\n",
      "OpenCV: FFMPEG: fallback to use tag 0x7634706d/'mp4v'\n"
     ]
    },
    {
     "name": "stdout",
     "output_type": "stream",
     "text": [
      "Faces saved to faces/00111\n",
      "Face video saved to processed_videos/00111.mp4\n"
     ]
    },
    {
     "name": "stderr",
     "output_type": "stream",
     "text": [
      "OpenCV: FFMPEG: tag 0x5634504d/'MP4V' is not supported with codec id 12 and format 'mp4 / MP4 (MPEG-4 Part 14)'\n",
      "OpenCV: FFMPEG: fallback to use tag 0x7634706d/'mp4v'\n"
     ]
    },
    {
     "name": "stdout",
     "output_type": "stream",
     "text": [
      "Faces saved to faces/id8_0001\n",
      "Face video saved to processed_videos/id8_0001.mp4\n",
      "Saved 17 frames to frames/id0_id2_0006\n"
     ]
    },
    {
     "name": "stderr",
     "output_type": "stream",
     "text": [
      "OpenCV: FFMPEG: tag 0x5634504d/'MP4V' is not supported with codec id 12 and format 'mp4 / MP4 (MPEG-4 Part 14)'\n",
      "OpenCV: FFMPEG: fallback to use tag 0x7634706d/'mp4v'\n"
     ]
    },
    {
     "name": "stdout",
     "output_type": "stream",
     "text": [
      "Saved 15 frames to frames/00213\n",
      "Saved 10 frames to frames/id0_id3_0001\n",
      "Faces saved to faces/id9_0006\n",
      "Face video saved to processed_videos/id9_0006.mp4Faces saved to faces/00155\n",
      "\n"
     ]
    },
    {
     "name": "stderr",
     "output_type": "stream",
     "text": [
      "OpenCV: FFMPEG: tag 0x5634504d/'MP4V' is not supported with codec id 12 and format 'mp4 / MP4 (MPEG-4 Part 14)'\n",
      "OpenCV: FFMPEG: fallback to use tag 0x7634706d/'mp4v'\n"
     ]
    },
    {
     "name": "stdout",
     "output_type": "stream",
     "text": [
      "Face video saved to processed_videos/00155.mp4\n"
     ]
    },
    {
     "name": "stderr",
     "output_type": "stream",
     "text": [
      "OpenCV: FFMPEG: tag 0x5634504d/'MP4V' is not supported with codec id 12 and format 'mp4 / MP4 (MPEG-4 Part 14)'\n",
      "OpenCV: FFMPEG: fallback to use tag 0x7634706d/'mp4v'\n"
     ]
    },
    {
     "name": "stdout",
     "output_type": "stream",
     "text": [
      "Saved 10 frames to frames/id0_id4_0001\n",
      "Faces saved to faces/00193\n",
      "Faces saved to faces/id6_0006Face video saved to processed_videos/00193.mp4\n",
      "\n",
      "Face video saved to processed_videos/id6_0006.mp4\n"
     ]
    },
    {
     "name": "stderr",
     "output_type": "stream",
     "text": [
      "OpenCV: FFMPEG: tag 0x5634504d/'MP4V' is not supported with codec id 12 and format 'mp4 / MP4 (MPEG-4 Part 14)'\n",
      "OpenCV: FFMPEG: fallback to use tag 0x7634706d/'mp4v'\n",
      "OpenCV: FFMPEG: tag 0x5634504d/'MP4V' is not supported with codec id 12 and format 'mp4 / MP4 (MPEG-4 Part 14)'\n",
      "OpenCV: FFMPEG: fallback to use tag 0x7634706d/'mp4v'\n"
     ]
    },
    {
     "name": "stdout",
     "output_type": "stream",
     "text": [
      "Saved 17 frames to frames/id0_id3_0006\n",
      "Faces saved to faces/00041\n",
      "Saved 11 frames to frames/id0_id9_0002Face video saved to processed_videos/00041.mp4\n",
      "Saved 17 frames to frames/id0_id4_0006\n",
      "\n"
     ]
    },
    {
     "name": "stderr",
     "output_type": "stream",
     "text": [
      "OpenCV: FFMPEG: tag 0x5634504d/'MP4V' is not supported with codec id 12 and format 'mp4 / MP4 (MPEG-4 Part 14)'\n",
      "OpenCV: FFMPEG: fallback to use tag 0x7634706d/'mp4v'\n"
     ]
    },
    {
     "name": "stdout",
     "output_type": "stream",
     "text": [
      "Faces saved to faces/00208\n",
      "Face video saved to processed_videos/00208.mp4Saved 14 frames to frames/00156\n"
     ]
    },
    {
     "name": "stderr",
     "output_type": "stream",
     "text": [
      "OpenCV: FFMPEG: tag 0x5634504d/'MP4V' is not supported with codec id 12 and format 'mp4 / MP4 (MPEG-4 Part 14)'\n",
      "OpenCV: FFMPEG: fallback to use tag 0x7634706d/'mp4v'\n"
     ]
    },
    {
     "name": "stdout",
     "output_type": "stream",
     "text": [
      "\n",
      "Saved 17 frames to frames/id0_id6_0006\n",
      "Faces saved to faces/00006\n",
      "Face video saved to processed_videos/00006.mp4\n"
     ]
    },
    {
     "name": "stderr",
     "output_type": "stream",
     "text": [
      "OpenCV: FFMPEG: tag 0x5634504d/'MP4V' is not supported with codec id 12 and format 'mp4 / MP4 (MPEG-4 Part 14)'\n",
      "OpenCV: FFMPEG: fallback to use tag 0x7634706d/'mp4v'\n"
     ]
    },
    {
     "name": "stdout",
     "output_type": "stream",
     "text": [
      "Faces saved to faces/00071Faces saved to faces/00131\n",
      "\n",
      "Face video saved to processed_videos/00131.mp4Faces saved to faces/id4_0006Face video saved to processed_videos/00071.mp4\n",
      "\n",
      "\n",
      "Face video saved to processed_videos/id4_0006.mp4\n"
     ]
    },
    {
     "name": "stderr",
     "output_type": "stream",
     "text": [
      "OpenCV: FFMPEG: tag 0x5634504d/'MP4V' is not supported with codec id 12 and format 'mp4 / MP4 (MPEG-4 Part 14)'\n",
      "OpenCV: FFMPEG: fallback to use tag 0x7634706d/'mp4v'\n",
      "OpenCV: FFMPEG: tag 0x5634504d/'MP4V' is not supported with codec id 12 and format 'mp4 / MP4 (MPEG-4 Part 14)'\n",
      "OpenCV: FFMPEG: fallback to use tag 0x7634706d/'mp4v'\n",
      "OpenCV: FFMPEG: tag 0x5634504d/'MP4V' is not supported with codec id 12 and format 'mp4 / MP4 (MPEG-4 Part 14)'\n",
      "OpenCV: FFMPEG: fallback to use tag 0x7634706d/'mp4v'\n"
     ]
    },
    {
     "name": "stdout",
     "output_type": "stream",
     "text": [
      "Faces saved to faces/00096Faces saved to faces/00222\n",
      "Face video saved to processed_videos/00096.mp4\n",
      "\n"
     ]
    },
    {
     "name": "stderr",
     "output_type": "stream",
     "text": [
      "OpenCV: FFMPEG: tag 0x5634504d/'MP4V' is not supported with codec id 12 and format 'mp4 / MP4 (MPEG-4 Part 14)'\n",
      "OpenCV: FFMPEG: fallback to use tag 0x7634706d/'mp4v'\n",
      "OpenCV: FFMPEG: tag 0x5634504d/'MP4V' is not supported with codec id 12 and format 'mp4 / MP4 (MPEG-4 Part 14)'\n",
      "OpenCV: FFMPEG: fallback to use tag 0x7634706d/'mp4v'\n"
     ]
    },
    {
     "name": "stdout",
     "output_type": "stream",
     "text": [
      "Face video saved to processed_videos/00222.mp4Faces saved to faces/00081\n",
      "\n",
      "Face video saved to processed_videos/00081.mp4\n"
     ]
    },
    {
     "name": "stderr",
     "output_type": "stream",
     "text": [
      "OpenCV: FFMPEG: tag 0x5634504d/'MP4V' is not supported with codec id 12 and format 'mp4 / MP4 (MPEG-4 Part 14)'\n",
      "OpenCV: FFMPEG: fallback to use tag 0x7634706d/'mp4v'\n"
     ]
    },
    {
     "name": "stdout",
     "output_type": "stream",
     "text": [
      "Faces saved to faces/id16_0000Saved 3 frames to frames/id10_id12_0001\n",
      "\n",
      "Face video saved to processed_videos/id16_0000.mp4\n"
     ]
    },
    {
     "name": "stderr",
     "output_type": "stream",
     "text": [
      "OpenCV: FFMPEG: tag 0x5634504d/'MP4V' is not supported with codec id 12 and format 'mp4 / MP4 (MPEG-4 Part 14)'\n",
      "OpenCV: FFMPEG: fallback to use tag 0x7634706d/'mp4v'\n"
     ]
    },
    {
     "name": "stdout",
     "output_type": "stream",
     "text": [
      "Saved 5 frames to frames/id10_id12_0006\n",
      "Faces saved to faces/00046\n",
      "Face video saved to processed_videos/00046.mp4Saved 15 frames to frames/id0_id9_0008\n",
      "Saved 15 frames to frames/00194\n",
      "\n"
     ]
    },
    {
     "name": "stderr",
     "output_type": "stream",
     "text": [
      "OpenCV: FFMPEG: tag 0x5634504d/'MP4V' is not supported with codec id 12 and format 'mp4 / MP4 (MPEG-4 Part 14)'\n",
      "OpenCV: FFMPEG: fallback to use tag 0x7634706d/'mp4v'\n"
     ]
    },
    {
     "name": "stdout",
     "output_type": "stream",
     "text": [
      "Faces saved to faces/00106\n",
      "Face video saved to processed_videos/00106.mp4\n",
      "Saved 12 frames to frames/id10_id13_0008\n",
      "Faces saved to faces/00232"
     ]
    },
    {
     "name": "stderr",
     "output_type": "stream",
     "text": [
      "OpenCV: FFMPEG: tag 0x5634504d/'MP4V' is not supported with codec id 12 and format 'mp4 / MP4 (MPEG-4 Part 14)'\n",
      "OpenCV: FFMPEG: fallback to use tag 0x7634706d/'mp4v'\n"
     ]
    },
    {
     "name": "stdout",
     "output_type": "stream",
     "text": [
      "\n",
      "Saved 11 frames to frames/id11_id7_0000Saved 17 frames to frames/id10_id11_0004\n",
      "\n",
      "Saved 15 frames to frames/00209Face video saved to processed_videos/00232.mp4\n"
     ]
    },
    {
     "name": "stderr",
     "output_type": "stream",
     "text": [
      "OpenCV: FFMPEG: tag 0x5634504d/'MP4V' is not supported with codec id 12 and format 'mp4 / MP4 (MPEG-4 Part 14)'\n",
      "OpenCV: FFMPEG: fallback to use tag 0x7634706d/'mp4v'\n"
     ]
    },
    {
     "name": "stdout",
     "output_type": "stream",
     "text": [
      "\n",
      "Faces saved to faces/00227Faces saved to faces/id9_0001\n",
      "\n",
      "Faces saved to faces/id13_0011Face video saved to processed_videos/00227.mp4\n",
      "Saved 10 frames to frames/id10_id7_0005\n",
      "\n",
      "Face video saved to processed_videos/id9_0001.mp4\n",
      "Face video saved to processed_videos/id13_0011.mp4\n"
     ]
    },
    {
     "name": "stderr",
     "output_type": "stream",
     "text": [
      "OpenCV: FFMPEG: tag 0x5634504d/'MP4V' is not supported with codec id 12 and format 'mp4 / MP4 (MPEG-4 Part 14)'\n",
      "OpenCV: FFMPEG: fallback to use tag 0x7634706d/'mp4v'\n",
      "OpenCV: FFMPEG: tag 0x5634504d/'MP4V' is not supported with codec id 12 and format 'mp4 / MP4 (MPEG-4 Part 14)'\n",
      "OpenCV: FFMPEG: fallback to use tag 0x7634706d/'mp4v'\n",
      "OpenCV: FFMPEG: tag 0x5634504d/'MP4V' is not supported with codec id 12 and format 'mp4 / MP4 (MPEG-4 Part 14)'\n",
      "OpenCV: FFMPEG: fallback to use tag 0x7634706d/'mp4v'\n"
     ]
    },
    {
     "name": "stdout",
     "output_type": "stream",
     "text": [
      "Faces saved to faces/id6_0001\n",
      "Saved 11 frames to frames/id10_id13_0003Face video saved to processed_videos/id6_0001.mp4\n",
      "\n"
     ]
    },
    {
     "name": "stderr",
     "output_type": "stream",
     "text": [
      "OpenCV: FFMPEG: tag 0x5634504d/'MP4V' is not supported with codec id 12 and format 'mp4 / MP4 (MPEG-4 Part 14)'\n",
      "OpenCV: FFMPEG: fallback to use tag 0x7634706d/'mp4v'\n"
     ]
    },
    {
     "name": "stdout",
     "output_type": "stream",
     "text": [
      "Faces saved to faces/00178Faces saved to faces/00051\n",
      "\n",
      "Face video saved to processed_videos/00178.mp4Face video saved to processed_videos/00051.mp4\n",
      "\n"
     ]
    },
    {
     "name": "stderr",
     "output_type": "stream",
     "text": [
      "OpenCV: FFMPEG: tag 0x5634504d/'MP4V' is not supported with codec id 12 and format 'mp4 / MP4 (MPEG-4 Part 14)'\n",
      "OpenCV: FFMPEG: fallback to use tag 0x7634706d/'mp4v'\n",
      "OpenCV: FFMPEG: tag 0x5634504d/'MP4V' is not supported with codec id 12 and format 'mp4 / MP4 (MPEG-4 Part 14)'\n",
      "OpenCV: FFMPEG: fallback to use tag 0x7634706d/'mp4v'\n"
     ]
    },
    {
     "name": "stdout",
     "output_type": "stream",
     "text": [
      "Saved 10 frames to frames/id11_id7_0005\n",
      "Faces saved to faces/00188\n",
      "Face video saved to processed_videos/00188.mp4\n"
     ]
    },
    {
     "name": "stderr",
     "output_type": "stream",
     "text": [
      "OpenCV: FFMPEG: tag 0x5634504d/'MP4V' is not supported with codec id 12 and format 'mp4 / MP4 (MPEG-4 Part 14)'\n",
      "OpenCV: FFMPEG: fallback to use tag 0x7634706d/'mp4v'\n"
     ]
    },
    {
     "name": "stdout",
     "output_type": "stream",
     "text": [
      "Faces saved to faces/00091\n",
      "Face video saved to processed_videos/00091.mp4\n",
      "Saved 11 frames to frames/id11_id7_0010\n"
     ]
    },
    {
     "name": "stderr",
     "output_type": "stream",
     "text": [
      "OpenCV: FFMPEG: tag 0x5634504d/'MP4V' is not supported with codec id 12 and format 'mp4 / MP4 (MPEG-4 Part 14)'\n",
      "OpenCV: FFMPEG: fallback to use tag 0x7634706d/'mp4v'\n"
     ]
    },
    {
     "name": "stdout",
     "output_type": "stream",
     "text": [
      "Saved 16 frames to frames/00223\n",
      "Saved 10 frames to frames/id12_id10_0006\n",
      "Faces saved to faces/id0_id16_0002\n",
      "Face video saved to processed_videos/id0_id16_0002.mp4\n",
      "Saved 11 frames to frames/id13_id10_0004\n"
     ]
    },
    {
     "name": "stderr",
     "output_type": "stream",
     "text": [
      "OpenCV: FFMPEG: tag 0x5634504d/'MP4V' is not supported with codec id 12 and format 'mp4 / MP4 (MPEG-4 Part 14)'\n",
      "OpenCV: FFMPEG: fallback to use tag 0x7634706d/'mp4v'\n"
     ]
    },
    {
     "name": "stdout",
     "output_type": "stream",
     "text": [
      "Faces saved to faces/00242Saved 10 frames to frames/id12_id7_0005\n",
      "\n",
      "Face video saved to processed_videos/00242.mp4\n"
     ]
    },
    {
     "name": "stderr",
     "output_type": "stream",
     "text": [
      "OpenCV: FFMPEG: tag 0x5634504d/'MP4V' is not supported with codec id 12 and format 'mp4 / MP4 (MPEG-4 Part 14)'\n",
      "OpenCV: FFMPEG: fallback to use tag 0x7634706d/'mp4v'\n"
     ]
    },
    {
     "name": "stdout",
     "output_type": "stream",
     "text": [
      "Faces saved to faces/00086Faces saved to faces/00061\n",
      "Face video saved to processed_videos/00086.mp4\n",
      "\n"
     ]
    },
    {
     "name": "stderr",
     "output_type": "stream",
     "text": [
      "OpenCV: FFMPEG: tag 0x5634504d/'MP4V' is not supported with codec id 12 and format 'mp4 / MP4 (MPEG-4 Part 14)'\n",
      "OpenCV: FFMPEG: fallback to use tag 0x7634706d/'mp4v'\n",
      "OpenCV: FFMPEG: tag 0x5634504d/'MP4V' is not supported with codec id 12 and format 'mp4 / MP4 (MPEG-4 Part 14)'\n",
      "OpenCV: FFMPEG: fallback to use tag 0x7634706d/'mp4v'\n"
     ]
    },
    {
     "name": "stdout",
     "output_type": "stream",
     "text": [
      "Face video saved to processed_videos/00061.mp4\n",
      "Saved 15 frames to frames/00228Faces saved to faces/00161\n",
      "\n",
      "Faces saved to faces/00183Saved 15 frames to frames/00233\n",
      "Saved 13 frames to frames/id13_id7_0002\n",
      "\n",
      "Face video saved to processed_videos/00161.mp4\n",
      "Face video saved to processed_videos/00183.mp4\n"
     ]
    },
    {
     "name": "stderr",
     "output_type": "stream",
     "text": [
      "OpenCV: FFMPEG: tag 0x5634504d/'MP4V' is not supported with codec id 12 and format 'mp4 / MP4 (MPEG-4 Part 14)'\n",
      "OpenCV: FFMPEG: fallback to use tag 0x7634706d/'mp4v'\n",
      "OpenCV: FFMPEG: tag 0x5634504d/'MP4V' is not supported with codec id 12 and format 'mp4 / MP4 (MPEG-4 Part 14)'\n",
      "OpenCV: FFMPEG: fallback to use tag 0x7634706d/'mp4v'\n"
     ]
    },
    {
     "name": "stdout",
     "output_type": "stream",
     "text": [
      "Saved 13 frames to frames/00189Saved 17 frames to frames/id13_id10_0012\n",
      "Saved 15 frames to frames/00179\n",
      "\n",
      "Faces saved to faces/00237\n",
      "Faces saved to faces/id8_0006Face video saved to processed_videos/00237.mp4\n",
      "\n",
      "Saved 15 frames to frames/id13_id7_0008\n",
      "Face video saved to processed_videos/id8_0006.mp4"
     ]
    },
    {
     "name": "stderr",
     "output_type": "stream",
     "text": [
      "OpenCV: FFMPEG: tag 0x5634504d/'MP4V' is not supported with codec id 12 and format 'mp4 / MP4 (MPEG-4 Part 14)'\n",
      "OpenCV: FFMPEG: fallback to use tag 0x7634706d/'mp4v'\n",
      "OpenCV: FFMPEG: tag 0x5634504d/'MP4V' is not supported with codec id 12 and format 'mp4 / MP4 (MPEG-4 Part 14)'\n",
      "OpenCV: FFMPEG: fallback to use tag 0x7634706d/'mp4v'\n"
     ]
    },
    {
     "name": "stdout",
     "output_type": "stream",
     "text": [
      "\n",
      "Saved 9 frames to frames/id16_id0_0011\n",
      "Faces saved to faces/00121\n",
      "Face video saved to processed_videos/00121.mp4\n",
      "Faces saved to faces/00056"
     ]
    },
    {
     "name": "stderr",
     "output_type": "stream",
     "text": [
      "OpenCV: FFMPEG: tag 0x5634504d/'MP4V' is not supported with codec id 12 and format 'mp4 / MP4 (MPEG-4 Part 14)'\n",
      "OpenCV: FFMPEG: fallback to use tag 0x7634706d/'mp4v'\n"
     ]
    },
    {
     "name": "stdout",
     "output_type": "stream",
     "text": [
      "\n",
      "Face video saved to processed_videos/00056.mp4\n"
     ]
    },
    {
     "name": "stderr",
     "output_type": "stream",
     "text": [
      "OpenCV: FFMPEG: tag 0x5634504d/'MP4V' is not supported with codec id 12 and format 'mp4 / MP4 (MPEG-4 Part 14)'\n",
      "OpenCV: FFMPEG: fallback to use tag 0x7634706d/'mp4v'\n"
     ]
    },
    {
     "name": "stdout",
     "output_type": "stream",
     "text": [
      "Faces saved to faces/00247Faces saved to faces/id10_id12_0001\n",
      "\n",
      "Face video saved to processed_videos/00247.mp4\n",
      "Face video saved to processed_videos/id10_id12_0001.mp4\n"
     ]
    },
    {
     "name": "stderr",
     "output_type": "stream",
     "text": [
      "OpenCV: FFMPEG: tag 0x5634504d/'MP4V' is not supported with codec id 12 and format 'mp4 / MP4 (MPEG-4 Part 14)'\n",
      "OpenCV: FFMPEG: fallback to use tag 0x7634706d/'mp4v'\n",
      "OpenCV: FFMPEG: tag 0x5634504d/'MP4V' is not supported with codec id 12 and format 'mp4 / MP4 (MPEG-4 Part 14)'\n",
      "OpenCV: FFMPEG: fallback to use tag 0x7634706d/'mp4v'\n"
     ]
    },
    {
     "name": "stdout",
     "output_type": "stream",
     "text": [
      "Saved 10 frames to frames/id16_id0_0000\n",
      "Faces saved to faces/id10_id12_0006\n",
      "Face video saved to processed_videos/id10_id12_0006.mp4\n"
     ]
    },
    {
     "name": "stderr",
     "output_type": "stream",
     "text": [
      "OpenCV: FFMPEG: tag 0x5634504d/'MP4V' is not supported with codec id 12 and format 'mp4 / MP4 (MPEG-4 Part 14)'\n",
      "OpenCV: FFMPEG: fallback to use tag 0x7634706d/'mp4v'\n"
     ]
    },
    {
     "name": "stdout",
     "output_type": "stream",
     "text": [
      "Saved 11 frames to frames/id16_id0_0005\n",
      "Saved 17 frames to frames/id0_id16_0003Saved 15 frames to frames/00243\n",
      "\n",
      "Faces saved to faces/00203\n",
      "Face video saved to processed_videos/00203.mp4\n"
     ]
    },
    {
     "name": "stderr",
     "output_type": "stream",
     "text": [
      "OpenCV: FFMPEG: tag 0x5634504d/'MP4V' is not supported with codec id 12 and format 'mp4 / MP4 (MPEG-4 Part 14)'\n",
      "OpenCV: FFMPEG: fallback to use tag 0x7634706d/'mp4v'\n"
     ]
    },
    {
     "name": "stdout",
     "output_type": "stream",
     "text": [
      "Faces saved to faces/00066\n",
      "Saved 15 frames to frames/00184Face video saved to processed_videos/00066.mp4\n",
      "\n"
     ]
    },
    {
     "name": "stderr",
     "output_type": "stream",
     "text": [
      "OpenCV: FFMPEG: tag 0x5634504d/'MP4V' is not supported with codec id 12 and format 'mp4 / MP4 (MPEG-4 Part 14)'\n",
      "OpenCV: FFMPEG: fallback to use tag 0x7634706d/'mp4v'\n"
     ]
    },
    {
     "name": "stdout",
     "output_type": "stream",
     "text": [
      "Saved 10 frames to frames/id16_id17_0013\n",
      "Saved 9 frames to frames/id16_id17_0007\n",
      "Saved 12 frames to frames/id16_id17_0002Faces saved to faces/id0_id17_0002\n",
      "Saved 14 frames to frames/00238\n",
      "\n",
      "Face video saved to processed_videos/id0_id17_0002.mp4\n"
     ]
    },
    {
     "name": "stderr",
     "output_type": "stream",
     "text": [
      "OpenCV: FFMPEG: tag 0x5634504d/'MP4V' is not supported with codec id 12 and format 'mp4 / MP4 (MPEG-4 Part 14)'\n",
      "OpenCV: FFMPEG: fallback to use tag 0x7634706d/'mp4v'\n"
     ]
    },
    {
     "name": "stdout",
     "output_type": "stream",
     "text": [
      "Faces saved to faces/id0_id2_0001\n",
      "Face video saved to processed_videos/id0_id2_0001.mp4\n"
     ]
    },
    {
     "name": "stderr",
     "output_type": "stream",
     "text": [
      "OpenCV: FFMPEG: tag 0x5634504d/'MP4V' is not supported with codec id 12 and format 'mp4 / MP4 (MPEG-4 Part 14)'\n",
      "OpenCV: FFMPEG: fallback to use tag 0x7634706d/'mp4v'\n"
     ]
    },
    {
     "name": "stdout",
     "output_type": "stream",
     "text": [
      "Saved 10 frames to frames/id10_id12_0002\n",
      "Faces saved to faces/00036\n",
      "Face video saved to processed_videos/00036.mp4"
     ]
    },
    {
     "name": "stderr",
     "output_type": "stream",
     "text": [
      "OpenCV: FFMPEG: tag 0x5634504d/'MP4V' is not supported with codec id 12 and format 'mp4 / MP4 (MPEG-4 Part 14)'\n",
      "OpenCV: FFMPEG: fallback to use tag 0x7634706d/'mp4v'\n"
     ]
    },
    {
     "name": "stdout",
     "output_type": "stream",
     "text": [
      "\n",
      "Faces saved to faces/00076\n",
      "Saved 16 frames to frames/00248Face video saved to processed_videos/00076.mp4\n",
      "\n"
     ]
    },
    {
     "name": "stderr",
     "output_type": "stream",
     "text": [
      "OpenCV: FFMPEG: tag 0x5634504d/'MP4V' is not supported with codec id 12 and format 'mp4 / MP4 (MPEG-4 Part 14)'\n",
      "OpenCV: FFMPEG: fallback to use tag 0x7634706d/'mp4v'\n"
     ]
    },
    {
     "name": "stdout",
     "output_type": "stream",
     "text": [
      "Saved 16 frames to frames/id10_id12_0007\n",
      "Faces saved to faces/00031Faces saved to faces/00026\n",
      "\n",
      "Face video saved to processed_videos/00026.mp4Face video saved to processed_videos/00031.mp4Faces saved to faces/00151\n"
     ]
    },
    {
     "name": "stderr",
     "output_type": "stream",
     "text": [
      "OpenCV: FFMPEG: tag 0x5634504d/'MP4V' is not supported with codec id 12 and format 'mp4 / MP4 (MPEG-4 Part 14)'\n",
      "OpenCV: FFMPEG: fallback to use tag 0x7634706d/'mp4v'\n",
      "OpenCV: FFMPEG: tag 0x5634504d/'MP4V' is not supported with codec id 12 and format 'mp4 / MP4 (MPEG-4 Part 14)'\n",
      "OpenCV: FFMPEG: fallback to use tag 0x7634706d/'mp4v'\n"
     ]
    },
    {
     "name": "stdout",
     "output_type": "stream",
     "text": [
      "\n",
      "\n",
      "Saved 15 frames to frames/00204Face video saved to processed_videos/00151.mp4\n"
     ]
    },
    {
     "name": "stderr",
     "output_type": "stream",
     "text": [
      "OpenCV: FFMPEG: tag 0x5634504d/'MP4V' is not supported with codec id 12 and format 'mp4 / MP4 (MPEG-4 Part 14)'\n",
      "OpenCV: FFMPEG: fallback to use tag 0x7634706d/'mp4v'\n"
     ]
    },
    {
     "name": "stdout",
     "output_type": "stream",
     "text": [
      "\n",
      "Faces saved to faces/id11_id7_0000\n",
      "Face video saved to processed_videos/id11_id7_0000.mp4\n",
      "Faces saved to faces/00011"
     ]
    },
    {
     "name": "stderr",
     "output_type": "stream",
     "text": [
      "OpenCV: FFMPEG: tag 0x5634504d/'MP4V' is not supported with codec id 12 and format 'mp4 / MP4 (MPEG-4 Part 14)'\n",
      "OpenCV: FFMPEG: fallback to use tag 0x7634706d/'mp4v'\n"
     ]
    },
    {
     "name": "stdout",
     "output_type": "stream",
     "text": [
      "\n",
      "Face video saved to processed_videos/00011.mp4Saved 13 frames to frames/id16_id1_0004\n",
      "Saved 11 frames to frames/id0_id2_0002\n",
      "\n"
     ]
    },
    {
     "name": "stderr",
     "output_type": "stream",
     "text": [
      "OpenCV: FFMPEG: tag 0x5634504d/'MP4V' is not supported with codec id 12 and format 'mp4 / MP4 (MPEG-4 Part 14)'\n",
      "OpenCV: FFMPEG: fallback to use tag 0x7634706d/'mp4v'\n"
     ]
    },
    {
     "name": "stdout",
     "output_type": "stream",
     "text": [
      "Faces saved to faces/00169\n",
      "Face video saved to processed_videos/00169.mp4"
     ]
    },
    {
     "name": "stderr",
     "output_type": "stream",
     "text": [
      "OpenCV: FFMPEG: tag 0x5634504d/'MP4V' is not supported with codec id 12 and format 'mp4 / MP4 (MPEG-4 Part 14)'\n",
      "OpenCV: FFMPEG: fallback to use tag 0x7634706d/'mp4v'\n"
     ]
    },
    {
     "name": "stdout",
     "output_type": "stream",
     "text": [
      "\n",
      "Saved 7 frames to frames/id16_id2_0006Saved 10 frames to frames/id16_id1_0010\n",
      "\n",
      "Saved 17 frames to frames/id0_id17_0003\n",
      "Faces saved to faces/00101\n",
      "Saved 10 frames to frames/id16_id2_0001Face video saved to processed_videos/00101.mp4\n",
      "\n"
     ]
    },
    {
     "name": "stderr",
     "output_type": "stream",
     "text": [
      "OpenCV: FFMPEG: tag 0x5634504d/'MP4V' is not supported with codec id 12 and format 'mp4 / MP4 (MPEG-4 Part 14)'\n",
      "OpenCV: FFMPEG: fallback to use tag 0x7634706d/'mp4v'\n"
     ]
    },
    {
     "name": "stdout",
     "output_type": "stream",
     "text": [
      "Saved 10 frames to frames/id16_id2_0012\n",
      "Saved 10 frames to frames/id16_id3_0003\n",
      "Faces saved to faces/id0_id3_0001\n",
      "Face video saved to processed_videos/id0_id3_0001.mp4\n"
     ]
    },
    {
     "name": "stderr",
     "output_type": "stream",
     "text": [
      "OpenCV: FFMPEG: tag 0x5634504d/'MP4V' is not supported with codec id 12 and format 'mp4 / MP4 (MPEG-4 Part 14)'\n",
      "OpenCV: FFMPEG: fallback to use tag 0x7634706d/'mp4v'\n"
     ]
    },
    {
     "name": "stdout",
     "output_type": "stream",
     "text": [
      "Faces saved to faces/id16_id0_0011Faces saved to faces/id10_id13_0008\n",
      "\n",
      "Face video saved to processed_videos/id10_id13_0008.mp4Saved 10 frames to frames/id16_id3_0009\n",
      "Faces saved to faces/00164Face video saved to processed_videos/id16_id0_0011.mp4\n",
      "Faces saved to faces/00198\n",
      "\n",
      "\n"
     ]
    },
    {
     "name": "stderr",
     "output_type": "stream",
     "text": [
      "OpenCV: FFMPEG: tag 0x5634504d/'MP4V' is not supported with codec id 12 and format 'mp4 / MP4 (MPEG-4 Part 14)'\n",
      "OpenCV: FFMPEG: fallback to use tag 0x7634706d/'mp4v'\n",
      "OpenCV: FFMPEG: tag 0x5634504d/'MP4V' is not supported with codec id 12 and format 'mp4 / MP4 (MPEG-4 Part 14)'\n",
      "OpenCV: FFMPEG: fallback to use tag 0x7634706d/'mp4v'\n"
     ]
    },
    {
     "name": "stdout",
     "output_type": "stream",
     "text": [
      "Faces saved to faces/id0_id16_0007\n",
      "Face video saved to processed_videos/00164.mp4\n",
      "Face video saved to processed_videos/00198.mp4\n"
     ]
    },
    {
     "name": "stderr",
     "output_type": "stream",
     "text": [
      "OpenCV: FFMPEG: tag 0x5634504d/'MP4V' is not supported with codec id 12 and format 'mp4 / MP4 (MPEG-4 Part 14)'\n",
      "OpenCV: FFMPEG: fallback to use tag 0x7634706d/'mp4v'\n",
      "OpenCV: FFMPEG: tag 0x5634504d/'MP4V' is not supported with codec id 12 and format 'mp4 / MP4 (MPEG-4 Part 14)'\n",
      "OpenCV: FFMPEG: fallback to use tag 0x7634706d/'mp4v'\n",
      "OpenCV: FFMPEG: tag 0x5634504d/'MP4V' is not supported with codec id 12 and format 'mp4 / MP4 (MPEG-4 Part 14)'\n",
      "OpenCV: FFMPEG: fallback to use tag 0x7634706d/'mp4v'\n"
     ]
    },
    {
     "name": "stdout",
     "output_type": "stream",
     "text": [
      "Face video saved to processed_videos/id0_id16_0007.mp4\n",
      "Saved 11 frames to frames/00170Saved 14 frames to frames/id11_id7_0001\n",
      "\n",
      "Faces saved to faces/id0_id4_0001\n",
      "Face video saved to processed_videos/id0_id4_0001.mp4Faces saved to faces/00218\n",
      "\n"
     ]
    },
    {
     "name": "stderr",
     "output_type": "stream",
     "text": [
      "OpenCV: FFMPEG: tag 0x5634504d/'MP4V' is not supported with codec id 12 and format 'mp4 / MP4 (MPEG-4 Part 14)'\n",
      "OpenCV: FFMPEG: fallback to use tag 0x7634706d/'mp4v'\n"
     ]
    },
    {
     "name": "stdout",
     "output_type": "stream",
     "text": [
      "Face video saved to processed_videos/00218.mp4\n",
      "Saved 3 frames to frames/id10_id7_0001\n"
     ]
    },
    {
     "name": "stderr",
     "output_type": "stream",
     "text": [
      "OpenCV: FFMPEG: tag 0x5634504d/'MP4V' is not supported with codec id 12 and format 'mp4 / MP4 (MPEG-4 Part 14)'\n",
      "OpenCV: FFMPEG: fallback to use tag 0x7634706d/'mp4v'\n"
     ]
    },
    {
     "name": "stdout",
     "output_type": "stream",
     "text": [
      "Saved 10 frames to frames/id16_id6_0000\n",
      "Faces saved to faces/id0_0009\n",
      "Face video saved to processed_videos/id0_0009.mp4\n"
     ]
    },
    {
     "name": "stderr",
     "output_type": "stream",
     "text": [
      "OpenCV: FFMPEG: tag 0x5634504d/'MP4V' is not supported with codec id 12 and format 'mp4 / MP4 (MPEG-4 Part 14)'\n",
      "OpenCV: FFMPEG: fallback to use tag 0x7634706d/'mp4v'\n"
     ]
    },
    {
     "name": "stdout",
     "output_type": "stream",
     "text": [
      "Saved 11 frames to frames/id0_id3_0002\n",
      "Saved 10 frames to frames/id16_id0_0012\n",
      "Faces saved to faces/id0_id9_0002\n",
      "Face video saved to processed_videos/id0_id9_0002.mp4\n"
     ]
    },
    {
     "name": "stderr",
     "output_type": "stream",
     "text": [
      "OpenCV: FFMPEG: tag 0x5634504d/'MP4V' is not supported with codec id 12 and format 'mp4 / MP4 (MPEG-4 Part 14)'\n",
      "OpenCV: FFMPEG: fallback to use tag 0x7634706d/'mp4v'\n"
     ]
    },
    {
     "name": "stdout",
     "output_type": "stream",
     "text": [
      "Saved 15 frames to frames/00165Faces saved to faces/id13_id10_0004Saved 11 frames to frames/id0_id4_0002Faces saved to faces/id0_id1_0005\n",
      "\n",
      "\n",
      "\n",
      "Face video saved to processed_videos/id0_id1_0005.mp4Face video saved to processed_videos/id13_id10_0004.mp4\n",
      "Saved 16 frames to frames/00199\n",
      "\n"
     ]
    },
    {
     "name": "stderr",
     "output_type": "stream",
     "text": [
      "OpenCV: FFMPEG: tag 0x5634504d/'MP4V' is not supported with codec id 12 and format 'mp4 / MP4 (MPEG-4 Part 14)'\n",
      "OpenCV: FFMPEG: fallback to use tag 0x7634706d/'mp4v'\n",
      "OpenCV: FFMPEG: tag 0x5634504d/'MP4V' is not supported with codec id 12 and format 'mp4 / MP4 (MPEG-4 Part 14)'\n",
      "OpenCV: FFMPEG: fallback to use tag 0x7634706d/'mp4v'\n"
     ]
    },
    {
     "name": "stdout",
     "output_type": "stream",
     "text": [
      "Faces saved to faces/00146\n",
      "Saved 15 frames to frames/id0_id16_0008\n",
      "Faces saved to faces/id11_id7_0010Face video saved to processed_videos/00146.mp4\n",
      "\n"
     ]
    },
    {
     "name": "stderr",
     "output_type": "stream",
     "text": [
      "OpenCV: FFMPEG: tag 0x5634504d/'MP4V' is not supported with codec id 12 and format 'mp4 / MP4 (MPEG-4 Part 14)'\n",
      "OpenCV: FFMPEG: fallback to use tag 0x7634706d/'mp4v'\n"
     ]
    },
    {
     "name": "stdout",
     "output_type": "stream",
     "text": [
      "Faces saved to faces/00174\n",
      "Face video saved to processed_videos/id11_id7_0010.mp4\n",
      "Face video saved to processed_videos/00174.mp4"
     ]
    },
    {
     "name": "stderr",
     "output_type": "stream",
     "text": [
      "OpenCV: FFMPEG: tag 0x5634504d/'MP4V' is not supported with codec id 12 and format 'mp4 / MP4 (MPEG-4 Part 14)'\n",
      "OpenCV: FFMPEG: fallback to use tag 0x7634706d/'mp4v'\n",
      "OpenCV: FFMPEG: tag 0x5634504d/'MP4V' is not supported with codec id 12 and format 'mp4 / MP4 (MPEG-4 Part 14)'\n",
      "OpenCV: FFMPEG: fallback to use tag 0x7634706d/'mp4v'\n"
     ]
    },
    {
     "name": "stdout",
     "output_type": "stream",
     "text": [
      "\n",
      "Saved 16 frames to frames/00219\n",
      "Saved 11 frames to frames/id16_id6_0005\n",
      "Faces saved to faces/id10_id7_0005\n",
      "Face video saved to processed_videos/id10_id7_0005.mp4\n"
     ]
    },
    {
     "name": "stderr",
     "output_type": "stream",
     "text": [
      "OpenCV: FFMPEG: tag 0x5634504d/'MP4V' is not supported with codec id 12 and format 'mp4 / MP4 (MPEG-4 Part 14)'\n",
      "OpenCV: FFMPEG: fallback to use tag 0x7634706d/'mp4v'\n"
     ]
    },
    {
     "name": "stdout",
     "output_type": "stream",
     "text": [
      "Saved 9 frames to frames/id16_id6_0011\n",
      "Faces saved to faces/00213\n",
      "Face video saved to processed_videos/00213.mp4\n"
     ]
    },
    {
     "name": "stderr",
     "output_type": "stream",
     "text": [
      "OpenCV: FFMPEG: tag 0x5634504d/'MP4V' is not supported with codec id 12 and format 'mp4 / MP4 (MPEG-4 Part 14)'\n",
      "OpenCV: FFMPEG: fallback to use tag 0x7634706d/'mp4v'\n"
     ]
    },
    {
     "name": "stdout",
     "output_type": "stream",
     "text": [
      "Faces saved to faces/id16_id17_0013\n",
      "Saved 10 frames to frames/id13_id10_0005\n",
      "Face video saved to processed_videos/id16_id17_0013.mp4\n"
     ]
    },
    {
     "name": "stderr",
     "output_type": "stream",
     "text": [
      "OpenCV: FFMPEG: tag 0x5634504d/'MP4V' is not supported with codec id 12 and format 'mp4 / MP4 (MPEG-4 Part 14)'\n",
      "OpenCV: FFMPEG: fallback to use tag 0x7634706d/'mp4v'\n"
     ]
    },
    {
     "name": "stdout",
     "output_type": "stream",
     "text": [
      "Faces saved to faces/id11_id7_0005\n",
      "Face video saved to processed_videos/id11_id7_0005.mp4\n",
      "Saved 5 frames to frames/id10_id7_0006\n"
     ]
    },
    {
     "name": "stderr",
     "output_type": "stream",
     "text": [
      "OpenCV: FFMPEG: tag 0x5634504d/'MP4V' is not supported with codec id 12 and format 'mp4 / MP4 (MPEG-4 Part 14)'\n",
      "OpenCV: FFMPEG: fallback to use tag 0x7634706d/'mp4v'\n"
     ]
    },
    {
     "name": "stdout",
     "output_type": "stream",
     "text": [
      "Saved 13 frames to frames/id12_id10_0001\n",
      "Saved 17 frames to frames/id0_id9_0003\n",
      "Faces saved to faces/id0_id17_0009\n",
      "Face video saved to processed_videos/id0_id17_0009.mp4\n"
     ]
    },
    {
     "name": "stderr",
     "output_type": "stream",
     "text": [
      "OpenCV: FFMPEG: tag 0x5634504d/'MP4V' is not supported with codec id 12 and format 'mp4 / MP4 (MPEG-4 Part 14)'\n",
      "OpenCV: FFMPEG: fallback to use tag 0x7634706d/'mp4v'\n"
     ]
    },
    {
     "name": "stdout",
     "output_type": "stream",
     "text": [
      "Faces saved to faces/id10_id7_0001Faces saved to faces/00156\n",
      "\n",
      "Saved 17 frames to frames/id0_id1_0006Face video saved to processed_videos/00156.mp4\n",
      "\n",
      "Face video saved to processed_videos/id10_id7_0001.mp4\n",
      "Faces saved to faces/id12_id10_0006"
     ]
    },
    {
     "name": "stderr",
     "output_type": "stream",
     "text": [
      "OpenCV: FFMPEG: tag 0x5634504d/'MP4V' is not supported with codec id 12 and format 'mp4 / MP4 (MPEG-4 Part 14)'\n",
      "OpenCV: FFMPEG: fallback to use tag 0x7634706d/'mp4v'\n",
      "OpenCV: FFMPEG: tag 0x5634504d/'MP4V' is not supported with codec id 12 and format 'mp4 / MP4 (MPEG-4 Part 14)'\n",
      "OpenCV: FFMPEG: fallback to use tag 0x7634706d/'mp4v'\n"
     ]
    },
    {
     "name": "stdout",
     "output_type": "stream",
     "text": [
      "\n",
      "Face video saved to processed_videos/id12_id10_0006.mp4\n",
      "Faces saved to faces/id10_id13_0003Saved 16 frames to frames/00175\n",
      "\n"
     ]
    },
    {
     "name": "stderr",
     "output_type": "stream",
     "text": [
      "OpenCV: FFMPEG: tag 0x5634504d/'MP4V' is not supported with codec id 12 and format 'mp4 / MP4 (MPEG-4 Part 14)'\n",
      "OpenCV: FFMPEG: fallback to use tag 0x7634706d/'mp4v'\n"
     ]
    },
    {
     "name": "stdout",
     "output_type": "stream",
     "text": [
      "Face video saved to processed_videos/id10_id13_0003.mp4\n"
     ]
    },
    {
     "name": "stderr",
     "output_type": "stream",
     "text": [
      "OpenCV: FFMPEG: tag 0x5634504d/'MP4V' is not supported with codec id 12 and format 'mp4 / MP4 (MPEG-4 Part 14)'\n",
      "OpenCV: FFMPEG: fallback to use tag 0x7634706d/'mp4v'\n"
     ]
    },
    {
     "name": "stdout",
     "output_type": "stream",
     "text": [
      "Saved 10 frames to frames/id16_id1_0000\n",
      "Saved 10 frames to frames/id11_id7_0006\n",
      "Saved 14 frames to frames/00214\n",
      "Faces saved to faces/id12_id7_0005\n",
      "Face video saved to processed_videos/id12_id7_0005.mp4\n"
     ]
    },
    {
     "name": "stderr",
     "output_type": "stream",
     "text": [
      "OpenCV: FFMPEG: tag 0x5634504d/'MP4V' is not supported with codec id 12 and format 'mp4 / MP4 (MPEG-4 Part 14)'\n",
      "OpenCV: FFMPEG: fallback to use tag 0x7634706d/'mp4v'\n"
     ]
    },
    {
     "name": "stdout",
     "output_type": "stream",
     "text": [
      "Faces saved to faces/id0_id2_0006\n",
      "Face video saved to processed_videos/id0_id2_0006.mp4\n"
     ]
    },
    {
     "name": "stderr",
     "output_type": "stream",
     "text": [
      "OpenCV: FFMPEG: tag 0x5634504d/'MP4V' is not supported with codec id 12 and format 'mp4 / MP4 (MPEG-4 Part 14)'\n",
      "OpenCV: FFMPEG: fallback to use tag 0x7634706d/'mp4v'\n"
     ]
    },
    {
     "name": "stdout",
     "output_type": "stream",
     "text": [
      "Saved 10 frames to frames/id10_id7_0002\n",
      "Saved 12 frames to frames/id12_id7_0000Saved 12 frames to frames/id16_id9_0002\n",
      "\n",
      "Saved 15 frames to frames/id0_id1_0000\n",
      "Faces saved to faces/id16_id0_0000\n",
      "Face video saved to processed_videos/id16_id0_0000.mp4"
     ]
    },
    {
     "name": "stderr",
     "output_type": "stream",
     "text": [
      "OpenCV: FFMPEG: tag 0x5634504d/'MP4V' is not supported with codec id 12 and format 'mp4 / MP4 (MPEG-4 Part 14)'\n",
      "OpenCV: FFMPEG: fallback to use tag 0x7634706d/'mp4v'\n"
     ]
    },
    {
     "name": "stdout",
     "output_type": "stream",
     "text": [
      "\n",
      "Faces saved to faces/00194Saved 10 frames to frames/id12_id7_0006\n",
      "\n",
      "Face video saved to processed_videos/00194.mp4\n"
     ]
    },
    {
     "name": "stderr",
     "output_type": "stream",
     "text": [
      "OpenCV: FFMPEG: tag 0x5634504d/'MP4V' is not supported with codec id 12 and format 'mp4 / MP4 (MPEG-4 Part 14)'\n",
      "OpenCV: FFMPEG: fallback to use tag 0x7634706d/'mp4v'\n"
     ]
    },
    {
     "name": "stdout",
     "output_type": "stream",
     "text": [
      "Faces saved to faces/id16_id17_0007\n",
      "Face video saved to processed_videos/id16_id17_0007.mp4\n",
      "Saved 17 frames to frames/id10_id13_0004\n"
     ]
    },
    {
     "name": "stderr",
     "output_type": "stream",
     "text": [
      "OpenCV: FFMPEG: tag 0x5634504d/'MP4V' is not supported with codec id 12 and format 'mp4 / MP4 (MPEG-4 Part 14)'\n",
      "OpenCV: FFMPEG: fallback to use tag 0x7634706d/'mp4v'\n"
     ]
    },
    {
     "name": "stdout",
     "output_type": "stream",
     "text": [
      "Faces saved to faces/id16_id2_0006\n",
      "Face video saved to processed_videos/id16_id2_0006.mp4\n"
     ]
    },
    {
     "name": "stderr",
     "output_type": "stream",
     "text": [
      "OpenCV: FFMPEG: tag 0x5634504d/'MP4V' is not supported with codec id 12 and format 'mp4 / MP4 (MPEG-4 Part 14)'\n",
      "OpenCV: FFMPEG: fallback to use tag 0x7634706d/'mp4v'\n"
     ]
    },
    {
     "name": "stdout",
     "output_type": "stream",
     "text": [
      "Faces saved to faces/id0_id9_0008\n",
      "Face video saved to processed_videos/id0_id9_0008.mp4\n"
     ]
    },
    {
     "name": "stderr",
     "output_type": "stream",
     "text": [
      "OpenCV: FFMPEG: tag 0x5634504d/'MP4V' is not supported with codec id 12 and format 'mp4 / MP4 (MPEG-4 Part 14)'\n",
      "OpenCV: FFMPEG: fallback to use tag 0x7634706d/'mp4v'\n"
     ]
    },
    {
     "name": "stdout",
     "output_type": "stream",
     "text": [
      "Faces saved to faces/id0_id4_0006\n",
      "Face video saved to processed_videos/id0_id4_0006.mp4\n",
      "Faces saved to faces/id0_id3_0006\n"
     ]
    },
    {
     "name": "stderr",
     "output_type": "stream",
     "text": [
      "OpenCV: FFMPEG: tag 0x5634504d/'MP4V' is not supported with codec id 12 and format 'mp4 / MP4 (MPEG-4 Part 14)'\n",
      "OpenCV: FFMPEG: fallback to use tag 0x7634706d/'mp4v'\n",
      "OpenCV: FFMPEG: tag 0x5634504d/'MP4V' is not supported with codec id 12 and format 'mp4 / MP4 (MPEG-4 Part 14)'\n",
      "OpenCV: FFMPEG: fallback to use tag 0x7634706d/'mp4v'\n"
     ]
    },
    {
     "name": "stdout",
     "output_type": "stream",
     "text": [
      "Face video saved to processed_videos/id0_id3_0006.mp4Faces saved to faces/00209\n",
      "\n",
      "Face video saved to processed_videos/00209.mp4\n",
      "Faces saved to faces/id10_id7_0006"
     ]
    },
    {
     "name": "stderr",
     "output_type": "stream",
     "text": [
      "OpenCV: FFMPEG: tag 0x5634504d/'MP4V' is not supported with codec id 12 and format 'mp4 / MP4 (MPEG-4 Part 14)'\n",
      "OpenCV: FFMPEG: fallback to use tag 0x7634706d/'mp4v'\n"
     ]
    },
    {
     "name": "stdout",
     "output_type": "stream",
     "text": [
      "\n",
      "Face video saved to processed_videos/id10_id7_0006.mp4\n"
     ]
    },
    {
     "name": "stderr",
     "output_type": "stream",
     "text": [
      "OpenCV: FFMPEG: tag 0x5634504d/'MP4V' is not supported with codec id 12 and format 'mp4 / MP4 (MPEG-4 Part 14)'\n",
      "OpenCV: FFMPEG: fallback to use tag 0x7634706d/'mp4v'\n"
     ]
    },
    {
     "name": "stdout",
     "output_type": "stream",
     "text": [
      "Saved 15 frames to frames/id0_id2_0007\n",
      "Saved 10 frames to frames/id16_id0_0001\n",
      "Faces saved to faces/id10_id12_0002Faces saved to faces/id16_id0_0005\n",
      "\n",
      "Face video saved to processed_videos/id16_id0_0005.mp4\n",
      "Face video saved to processed_videos/id10_id12_0002.mp4Faces saved to faces/00189\n",
      "Faces saved to faces/id16_id6_0011"
     ]
    },
    {
     "name": "stderr",
     "output_type": "stream",
     "text": [
      "OpenCV: FFMPEG: tag 0x5634504d/'MP4V' is not supported with codec id 12 and format 'mp4 / MP4 (MPEG-4 Part 14)'\n",
      "OpenCV: FFMPEG: fallback to use tag 0x7634706d/'mp4v'\n",
      "OpenCV: FFMPEG: tag 0x5634504d/'MP4V' is not supported with codec id 12 and format 'mp4 / MP4 (MPEG-4 Part 14)'\n",
      "OpenCV: FFMPEG: fallback to use tag 0x7634706d/'mp4v'\n"
     ]
    },
    {
     "name": "stdout",
     "output_type": "stream",
     "text": [
      "\n",
      "\n",
      "Faces saved to faces/id13_id7_0002Face video saved to processed_videos/id16_id6_0011.mp4\n",
      "\n",
      "Face video saved to processed_videos/00189.mp4"
     ]
    },
    {
     "name": "stderr",
     "output_type": "stream",
     "text": [
      "OpenCV: FFMPEG: tag 0x5634504d/'MP4V' is not supported with codec id 12 and format 'mp4 / MP4 (MPEG-4 Part 14)'\n",
      "OpenCV: FFMPEG: fallback to use tag 0x7634706d/'mp4v'\n",
      "OpenCV: FFMPEG: tag 0x5634504d/'MP4V' is not supported with codec id 12 and format 'mp4 / MP4 (MPEG-4 Part 14)'\n",
      "OpenCV: FFMPEG: fallback to use tag 0x7634706d/'mp4v'\n",
      "OpenCV: FFMPEG: tag 0x5634504d/'MP4V' is not supported with codec id 12 and format 'mp4 / MP4 (MPEG-4 Part 14)'\n",
      "OpenCV: FFMPEG: fallback to use tag 0x7634706d/'mp4v'\n"
     ]
    },
    {
     "name": "stdout",
     "output_type": "stream",
     "text": [
      "\n",
      "Face video saved to processed_videos/id13_id7_0002.mp4Saved 10 frames to frames/id16_id17_0009\n",
      "\n",
      "Faces saved to faces/id0_id6_0006\n",
      "Face video saved to processed_videos/id0_id6_0006.mp4\n",
      "Saved 9 frames to frames/id16_id2_0007"
     ]
    },
    {
     "name": "stderr",
     "output_type": "stream",
     "text": [
      "OpenCV: FFMPEG: tag 0x5634504d/'MP4V' is not supported with codec id 12 and format 'mp4 / MP4 (MPEG-4 Part 14)'\n",
      "OpenCV: FFMPEG: fallback to use tag 0x7634706d/'mp4v'\n"
     ]
    },
    {
     "name": "stdout",
     "output_type": "stream",
     "text": [
      "Faces saved to faces/00233\n",
      "\n",
      "Face video saved to processed_videos/00233.mp4\n"
     ]
    },
    {
     "name": "stderr",
     "output_type": "stream",
     "text": [
      "OpenCV: FFMPEG: tag 0x5634504d/'MP4V' is not supported with codec id 12 and format 'mp4 / MP4 (MPEG-4 Part 14)'\n",
      "OpenCV: FFMPEG: fallback to use tag 0x7634706d/'mp4v'\n"
     ]
    },
    {
     "name": "stdout",
     "output_type": "stream",
     "text": [
      "Faces saved to faces/00223\n",
      "Face video saved to processed_videos/00223.mp4\n",
      "Saved 16 frames to frames/00195"
     ]
    },
    {
     "name": "stderr",
     "output_type": "stream",
     "text": [
      "OpenCV: FFMPEG: tag 0x5634504d/'MP4V' is not supported with codec id 12 and format 'mp4 / MP4 (MPEG-4 Part 14)'\n",
      "OpenCV: FFMPEG: fallback to use tag 0x7634706d/'mp4v'\n"
     ]
    },
    {
     "name": "stdout",
     "output_type": "stream",
     "text": [
      "\n",
      "Faces saved to faces/00228\n",
      "Face video saved to processed_videos/00228.mp4Saved 7 frames to frames/id16_id0_0006\n"
     ]
    },
    {
     "name": "stderr",
     "output_type": "stream",
     "text": [
      "OpenCV: FFMPEG: tag 0x5634504d/'MP4V' is not supported with codec id 12 and format 'mp4 / MP4 (MPEG-4 Part 14)'\n",
      "OpenCV: FFMPEG: fallback to use tag 0x7634706d/'mp4v'\n"
     ]
    },
    {
     "name": "stdout",
     "output_type": "stream",
     "text": [
      "\n",
      "Faces saved to faces/id0_id2_0002\n",
      "Faces saved to faces/00179Face video saved to processed_videos/id0_id2_0002.mp4\n",
      "\n",
      "Face video saved to processed_videos/00179.mp4"
     ]
    },
    {
     "name": "stderr",
     "output_type": "stream",
     "text": [
      "OpenCV: FFMPEG: tag 0x5634504d/'MP4V' is not supported with codec id 12 and format 'mp4 / MP4 (MPEG-4 Part 14)'\n",
      "OpenCV: FFMPEG: fallback to use tag 0x7634706d/'mp4v'\n",
      "OpenCV: FFMPEG: tag 0x5634504d/'MP4V' is not supported with codec id 12 and format 'mp4 / MP4 (MPEG-4 Part 14)'\n",
      "OpenCV: FFMPEG: fallback to use tag 0x7634706d/'mp4v'\n"
     ]
    },
    {
     "name": "stdout",
     "output_type": "stream",
     "text": [
      "\n",
      "Saved 10 frames to frames/id16_id6_0012\n",
      "Saved 17 frames to frames/id0_id9_0009\n",
      "Faces saved to faces/id16_id17_0002Saved 11 frames to frames/id10_id12_0003\n",
      "\n",
      "Faces saved to faces/id16_id1_0010\n",
      "Saved 11 frames to frames/id13_id7_0003Face video saved to processed_videos/id16_id1_0010.mp4\n",
      "\n",
      "Saved 15 frames to frames/id0_id3_0007\n",
      "Face video saved to processed_videos/id16_id17_0002.mp4"
     ]
    },
    {
     "name": "stderr",
     "output_type": "stream",
     "text": [
      "OpenCV: FFMPEG: tag 0x5634504d/'MP4V' is not supported with codec id 12 and format 'mp4 / MP4 (MPEG-4 Part 14)'\n",
      "OpenCV: FFMPEG: fallback to use tag 0x7634706d/'mp4v'\n",
      "OpenCV: FFMPEG: tag 0x5634504d/'MP4V' is not supported with codec id 12 and format 'mp4 / MP4 (MPEG-4 Part 14)'\n",
      "OpenCV: FFMPEG: fallback to use tag 0x7634706d/'mp4v'\n"
     ]
    },
    {
     "name": "stdout",
     "output_type": "stream",
     "text": [
      "\n",
      "Saved 17 frames to frames/id0_id4_0009\n",
      "Saved 16 frames to frames/id10_id7_0007\n",
      "Saved 20 frames to frames/00210\n",
      "Faces saved to faces/id16_id3_0003\n",
      "Faces saved to faces/00238\n",
      "Face video saved to processed_videos/id16_id3_0003.mp4Face video saved to processed_videos/00238.mp4\n",
      "\n"
     ]
    },
    {
     "name": "stderr",
     "output_type": "stream",
     "text": [
      "OpenCV: FFMPEG: tag 0x5634504d/'MP4V' is not supported with codec id 12 and format 'mp4 / MP4 (MPEG-4 Part 14)'\n",
      "OpenCV: FFMPEG: fallback to use tag 0x7634706d/'mp4v'\n",
      "OpenCV: FFMPEG: tag 0x5634504d/'MP4V' is not supported with codec id 12 and format 'mp4 / MP4 (MPEG-4 Part 14)'\n",
      "OpenCV: FFMPEG: fallback to use tag 0x7634706d/'mp4v'\n"
     ]
    },
    {
     "name": "stdout",
     "output_type": "stream",
     "text": [
      "Saved 12 frames to frames/00234\n",
      "Faces saved to faces/id16_id2_0012\n",
      "Faces saved to faces/id10_id11_0004Face video saved to processed_videos/id16_id2_0012.mp4Faces saved to faces/id13_id7_0008\n",
      "\n",
      "\n",
      "Faces saved to faces/00243"
     ]
    },
    {
     "name": "stderr",
     "output_type": "stream",
     "text": [
      "OpenCV: FFMPEG: tag 0x5634504d/'MP4V' is not supported with codec id 12 and format 'mp4 / MP4 (MPEG-4 Part 14)'\n",
      "OpenCV: FFMPEG: fallback to use tag 0x7634706d/'mp4v'\n",
      "OpenCV: FFMPEG: tag 0x5634504d/'MP4V' is not supported with codec id 12 and format 'mp4 / MP4 (MPEG-4 Part 14)'\n",
      "OpenCV: FFMPEG: fallback to use tag 0x7634706d/'mp4v'\n",
      "OpenCV: FFMPEG: tag 0x5634504d/'MP4V' is not supported with codec id 12 and format 'mp4 / MP4 (MPEG-4 Part 14)'\n",
      "OpenCV: FFMPEG: fallback to use tag 0x7634706d/'mp4v'\n"
     ]
    },
    {
     "name": "stdout",
     "output_type": "stream",
     "text": [
      "Face video saved to processed_videos/id10_id11_0004.mp4\n",
      "\n",
      "Face video saved to processed_videos/id13_id7_0008.mp4\n",
      "Saved 15 frames to frames/00190Face video saved to processed_videos/00243.mp4\n",
      "Faces saved to faces/id16_id2_0001Saved 9 frames to frames/id16_id1_0011\n",
      "\n",
      "\n",
      "Faces saved to faces/id16_id3_0009"
     ]
    },
    {
     "name": "stderr",
     "output_type": "stream",
     "text": [
      "OpenCV: FFMPEG: tag 0x5634504d/'MP4V' is not supported with codec id 12 and format 'mp4 / MP4 (MPEG-4 Part 14)'\n",
      "OpenCV: FFMPEG: fallback to use tag 0x7634706d/'mp4v'\n",
      "OpenCV: FFMPEG: tag 0x5634504d/'MP4V' is not supported with codec id 12 and format 'mp4 / MP4 (MPEG-4 Part 14)'\n",
      "OpenCV: FFMPEG: fallback to use tag 0x7634706d/'mp4v'\n"
     ]
    },
    {
     "name": "stdout",
     "output_type": "stream",
     "text": [
      "Face video saved to processed_videos/id16_id2_0001.mp4\n",
      "\n",
      "Face video saved to processed_videos/id16_id3_0009.mp4\n",
      "Faces saved to faces/id13_id10_0005"
     ]
    },
    {
     "name": "stderr",
     "output_type": "stream",
     "text": [
      "OpenCV: FFMPEG: tag 0x5634504d/'MP4V' is not supported with codec id 12 and format 'mp4 / MP4 (MPEG-4 Part 14)'\n",
      "OpenCV: FFMPEG: fallback to use tag 0x7634706d/'mp4v'\n"
     ]
    },
    {
     "name": "stdout",
     "output_type": "stream",
     "text": [
      "\n",
      "Face video saved to processed_videos/id13_id10_0005.mp4\n"
     ]
    },
    {
     "name": "stderr",
     "output_type": "stream",
     "text": [
      "OpenCV: FFMPEG: tag 0x5634504d/'MP4V' is not supported with codec id 12 and format 'mp4 / MP4 (MPEG-4 Part 14)'\n",
      "OpenCV: FFMPEG: fallback to use tag 0x7634706d/'mp4v'\n"
     ]
    },
    {
     "name": "stdout",
     "output_type": "stream",
     "text": [
      "Saved 15 frames to frames/id0_id6_0007Saved 14 frames to frames/00224\n",
      "\n",
      "Saved 11 frames to frames/00180\n",
      "Faces saved to faces/00170\n",
      "Face video saved to processed_videos/00170.mp4\n"
     ]
    },
    {
     "name": "stderr",
     "output_type": "stream",
     "text": [
      "OpenCV: FFMPEG: tag 0x5634504d/'MP4V' is not supported with codec id 12 and format 'mp4 / MP4 (MPEG-4 Part 14)'\n",
      "OpenCV: FFMPEG: fallback to use tag 0x7634706d/'mp4v'\n"
     ]
    },
    {
     "name": "stdout",
     "output_type": "stream",
     "text": [
      "Faces saved to faces/id16_id6_0000\n",
      "Saved 10 frames to frames/id16_id17_0003Face video saved to processed_videos/id16_id6_0000.mp4Saved 17 frames to frames/00229\n",
      "\n",
      "\n"
     ]
    },
    {
     "name": "stderr",
     "output_type": "stream",
     "text": [
      "OpenCV: FFMPEG: tag 0x5634504d/'MP4V' is not supported with codec id 12 and format 'mp4 / MP4 (MPEG-4 Part 14)'\n",
      "OpenCV: FFMPEG: fallback to use tag 0x7634706d/'mp4v'\n"
     ]
    },
    {
     "name": "stdout",
     "output_type": "stream",
     "text": [
      "Saved 10 frames to frames/id16_id2_0013Faces saved to faces/00184\n",
      "\n",
      "Face video saved to processed_videos/00184.mp4\n"
     ]
    },
    {
     "name": "stderr",
     "output_type": "stream",
     "text": [
      "OpenCV: FFMPEG: tag 0x5634504d/'MP4V' is not supported with codec id 12 and format 'mp4 / MP4 (MPEG-4 Part 14)'\n",
      "OpenCV: FFMPEG: fallback to use tag 0x7634706d/'mp4v'\n"
     ]
    },
    {
     "name": "stdout",
     "output_type": "stream",
     "text": [
      "Saved 9 frames to frames/00244\n",
      "Saved 17 frames to frames/id0_id2_0003\n",
      "Saved 10 frames to frames/id10_id11_0005\n",
      "Saved 10 frames to frames/id16_id3_0010\n",
      "Saved 13 frames to frames/id16_id3_0004Faces saved to faces/id13_id10_0012\n",
      "\n",
      "Face video saved to processed_videos/id13_id10_0012.mp4Faces saved to faces/00248\n",
      "\n"
     ]
    },
    {
     "name": "stderr",
     "output_type": "stream",
     "text": [
      "OpenCV: FFMPEG: tag 0x5634504d/'MP4V' is not supported with codec id 12 and format 'mp4 / MP4 (MPEG-4 Part 14)'\n",
      "OpenCV: FFMPEG: fallback to use tag 0x7634706d/'mp4v'\n",
      "OpenCV: FFMPEG: tag 0x5634504d/'MP4V' is not supported with codec id 12 and format 'mp4 / MP4 (MPEG-4 Part 14)'\n",
      "OpenCV: FFMPEG: fallback to use tag 0x7634706d/'mp4v'\n"
     ]
    },
    {
     "name": "stdout",
     "output_type": "stream",
     "text": [
      "Face video saved to processed_videos/00248.mp4\n",
      "Faces saved to faces/id16_id1_0004\n",
      "Saved 16 frames to frames/00239Face video saved to processed_videos/id16_id1_0004.mp4\n",
      "\n"
     ]
    },
    {
     "name": "stderr",
     "output_type": "stream",
     "text": [
      "OpenCV: FFMPEG: tag 0x5634504d/'MP4V' is not supported with codec id 12 and format 'mp4 / MP4 (MPEG-4 Part 14)'\n",
      "OpenCV: FFMPEG: fallback to use tag 0x7634706d/'mp4v'\n"
     ]
    },
    {
     "name": "stdout",
     "output_type": "stream",
     "text": [
      "Saved 12 frames to frames/id16_id2_0002\n",
      "Saved 14 frames to frames/id13_id7_0009\n",
      "Faces saved to faces/id16_id0_0012\n",
      "Faces saved to faces/id0_id16_0003Face video saved to processed_videos/id16_id0_0012.mp4\n",
      "\n",
      "Face video saved to processed_videos/id0_id16_0003.mp4\n"
     ]
    },
    {
     "name": "stderr",
     "output_type": "stream",
     "text": [
      "OpenCV: FFMPEG: tag 0x5634504d/'MP4V' is not supported with codec id 12 and format 'mp4 / MP4 (MPEG-4 Part 14)'\n",
      "OpenCV: FFMPEG: fallback to use tag 0x7634706d/'mp4v'\n",
      "OpenCV: FFMPEG: tag 0x5634504d/'MP4V' is not supported with codec id 12 and format 'mp4 / MP4 (MPEG-4 Part 14)'\n",
      "OpenCV: FFMPEG: fallback to use tag 0x7634706d/'mp4v'\n"
     ]
    },
    {
     "name": "stdout",
     "output_type": "stream",
     "text": [
      "Saved 15 frames to frames/id13_id10_0007\n",
      "Saved 14 frames to frames/00171Saved 10 frames to frames/id16_id6_0001\n",
      "\n",
      "Faces saved to faces/00204\n",
      "Face video saved to processed_videos/00204.mp4\n"
     ]
    },
    {
     "name": "stderr",
     "output_type": "stream",
     "text": [
      "OpenCV: FFMPEG: tag 0x5634504d/'MP4V' is not supported with codec id 12 and format 'mp4 / MP4 (MPEG-4 Part 14)'\n",
      "OpenCV: FFMPEG: fallback to use tag 0x7634706d/'mp4v'\n"
     ]
    },
    {
     "name": "stdout",
     "output_type": "stream",
     "text": [
      "Faces saved to faces/id0_id3_0002\n",
      "Face video saved to processed_videos/id0_id3_0002.mp4\n"
     ]
    },
    {
     "name": "stderr",
     "output_type": "stream",
     "text": [
      "OpenCV: FFMPEG: tag 0x5634504d/'MP4V' is not supported with codec id 12 and format 'mp4 / MP4 (MPEG-4 Part 14)'\n",
      "OpenCV: FFMPEG: fallback to use tag 0x7634706d/'mp4v'\n"
     ]
    },
    {
     "name": "stdout",
     "output_type": "stream",
     "text": [
      "Saved 10 frames to frames/id16_id0_0013\n",
      "Saved 11 frames to frames/id16_id1_0005\n",
      "Saved 15 frames to frames/00185\n",
      "Faces saved to faces/id0_id4_0002\n",
      "Saved 13 frames to frames/id13_id10_0014\n",
      "Saved 10 frames to frames/id0_id16_0004Face video saved to processed_videos/id0_id4_0002.mp4\n",
      "\n"
     ]
    },
    {
     "name": "stderr",
     "output_type": "stream",
     "text": [
      "OpenCV: FFMPEG: tag 0x5634504d/'MP4V' is not supported with codec id 12 and format 'mp4 / MP4 (MPEG-4 Part 14)'\n",
      "OpenCV: FFMPEG: fallback to use tag 0x7634706d/'mp4v'\n"
     ]
    },
    {
     "name": "stdout",
     "output_type": "stream",
     "text": [
      "Faces saved to faces/id16_id6_0005\n",
      "Face video saved to processed_videos/id16_id6_0005.mp4\n",
      "Saved 17 frames to frames/00249\n"
     ]
    },
    {
     "name": "stderr",
     "output_type": "stream",
     "text": [
      "OpenCV: FFMPEG: tag 0x5634504d/'MP4V' is not supported with codec id 12 and format 'mp4 / MP4 (MPEG-4 Part 14)'\n",
      "OpenCV: FFMPEG: fallback to use tag 0x7634706d/'mp4v'\n"
     ]
    },
    {
     "name": "stdout",
     "output_type": "stream",
     "text": [
      "Saved 15 frames to frames/00205\n",
      "Faces saved to faces/id11_id7_0001\n",
      "Face video saved to processed_videos/id11_id7_0001.mp4\n"
     ]
    },
    {
     "name": "stderr",
     "output_type": "stream",
     "text": [
      "OpenCV: FFMPEG: tag 0x5634504d/'MP4V' is not supported with codec id 12 and format 'mp4 / MP4 (MPEG-4 Part 14)'\n",
      "OpenCV: FFMPEG: fallback to use tag 0x7634706d/'mp4v'\n"
     ]
    },
    {
     "name": "stdout",
     "output_type": "stream",
     "text": [
      "Faces saved to faces/id10_id12_0007\n",
      "Saved 7 frames to frames/id16_id6_0006\n",
      "Saved 17 frames to frames/id0_id3_0003Face video saved to processed_videos/id10_id12_0007.mp4\n",
      "\n"
     ]
    },
    {
     "name": "stderr",
     "output_type": "stream",
     "text": [
      "OpenCV: FFMPEG: tag 0x5634504d/'MP4V' is not supported with codec id 12 and format 'mp4 / MP4 (MPEG-4 Part 14)'\n",
      "OpenCV: FFMPEG: fallback to use tag 0x7634706d/'mp4v'\n"
     ]
    },
    {
     "name": "stdout",
     "output_type": "stream",
     "text": [
      "Faces saved to faces/id11_id7_0006\n",
      "Face video saved to processed_videos/id11_id7_0006.mp4\n"
     ]
    },
    {
     "name": "stderr",
     "output_type": "stream",
     "text": [
      "OpenCV: FFMPEG: tag 0x5634504d/'MP4V' is not supported with codec id 12 and format 'mp4 / MP4 (MPEG-4 Part 14)'\n",
      "OpenCV: FFMPEG: fallback to use tag 0x7634706d/'mp4v'\n"
     ]
    },
    {
     "name": "stdout",
     "output_type": "stream",
     "text": [
      "Faces saved to faces/id16_id1_0000\n",
      "Face video saved to processed_videos/id16_id1_0000.mp4\n"
     ]
    },
    {
     "name": "stderr",
     "output_type": "stream",
     "text": [
      "OpenCV: FFMPEG: tag 0x5634504d/'MP4V' is not supported with codec id 12 and format 'mp4 / MP4 (MPEG-4 Part 14)'\n",
      "OpenCV: FFMPEG: fallback to use tag 0x7634706d/'mp4v'\n"
     ]
    },
    {
     "name": "stdout",
     "output_type": "stream",
     "text": [
      "Faces saved to faces/id16_id1_0011\n",
      "Face video saved to processed_videos/id16_id1_0011.mp4\n"
     ]
    },
    {
     "name": "stderr",
     "output_type": "stream",
     "text": [
      "OpenCV: FFMPEG: tag 0x5634504d/'MP4V' is not supported with codec id 12 and format 'mp4 / MP4 (MPEG-4 Part 14)'\n",
      "OpenCV: FFMPEG: fallback to use tag 0x7634706d/'mp4v'\n"
     ]
    },
    {
     "name": "stdout",
     "output_type": "stream",
     "text": [
      "Saved 17 frames to frames/id0_id4_0003\n",
      "Saved 11 frames to frames/id11_id7_0002\n",
      "Faces saved to faces/00199\n",
      "Saved 12 frames to frames/id10_id12_0008\n",
      "Face video saved to processed_videos/00199.mp4\n"
     ]
    },
    {
     "name": "stderr",
     "output_type": "stream",
     "text": [
      "OpenCV: FFMPEG: tag 0x5634504d/'MP4V' is not supported with codec id 12 and format 'mp4 / MP4 (MPEG-4 Part 14)'\n",
      "OpenCV: FFMPEG: fallback to use tag 0x7634706d/'mp4v'\n"
     ]
    },
    {
     "name": "stdout",
     "output_type": "stream",
     "text": [
      "Faces saved to faces/id0_id17_0003\n",
      "Face video saved to processed_videos/id0_id17_0003.mp4\n",
      "Faces saved to faces/00165\n"
     ]
    },
    {
     "name": "stderr",
     "output_type": "stream",
     "text": [
      "OpenCV: FFMPEG: tag 0x5634504d/'MP4V' is not supported with codec id 12 and format 'mp4 / MP4 (MPEG-4 Part 14)'\n",
      "OpenCV: FFMPEG: fallback to use tag 0x7634706d/'mp4v'\n",
      "OpenCV: FFMPEG: tag 0x5634504d/'MP4V' is not supported with codec id 12 and format 'mp4 / MP4 (MPEG-4 Part 14)'\n",
      "OpenCV: FFMPEG: fallback to use tag 0x7634706d/'mp4v'\n"
     ]
    },
    {
     "name": "stdout",
     "output_type": "stream",
     "text": [
      "Face video saved to processed_videos/00165.mp4Saved 10 frames to frames/id11_id7_0007\n",
      "\n",
      "Saved 10 frames to frames/id16_id1_0001\n",
      "Saved 10 frames to frames/id16_id1_0012\n",
      "Faces saved to faces/id16_id0_0006Faces saved to faces/id10_id7_0002\n",
      "\n",
      "Face video saved to processed_videos/id10_id7_0002.mp4Face video saved to processed_videos/id16_id0_0006.mp4\n",
      "\n"
     ]
    },
    {
     "name": "stderr",
     "output_type": "stream",
     "text": [
      "OpenCV: FFMPEG: tag 0x5634504d/'MP4V' is not supported with codec id 12 and format 'mp4 / MP4 (MPEG-4 Part 14)'\n",
      "OpenCV: FFMPEG: fallback to use tag 0x7634706d/'mp4v'\n",
      "OpenCV: FFMPEG: tag 0x5634504d/'MP4V' is not supported with codec id 12 and format 'mp4 / MP4 (MPEG-4 Part 14)'\n",
      "OpenCV: FFMPEG: fallback to use tag 0x7634706d/'mp4v'\n"
     ]
    },
    {
     "name": "stdout",
     "output_type": "stream",
     "text": [
      "Faces saved to faces/00219\n",
      "Face video saved to processed_videos/00219.mp4Faces saved to faces/id0_id16_0008\n",
      "\n"
     ]
    },
    {
     "name": "stderr",
     "output_type": "stream",
     "text": [
      "OpenCV: FFMPEG: tag 0x5634504d/'MP4V' is not supported with codec id 12 and format 'mp4 / MP4 (MPEG-4 Part 14)'\n",
      "OpenCV: FFMPEG: fallback to use tag 0x7634706d/'mp4v'\n"
     ]
    },
    {
     "name": "stdout",
     "output_type": "stream",
     "text": [
      "Face video saved to processed_videos/id0_id16_0008.mp4\n"
     ]
    },
    {
     "name": "stderr",
     "output_type": "stream",
     "text": [
      "OpenCV: FFMPEG: tag 0x5634504d/'MP4V' is not supported with codec id 12 and format 'mp4 / MP4 (MPEG-4 Part 14)'\n",
      "OpenCV: FFMPEG: fallback to use tag 0x7634706d/'mp4v'\n"
     ]
    },
    {
     "name": "stdout",
     "output_type": "stream",
     "text": [
      "Faces saved to faces/id12_id7_0006\n",
      "Face video saved to processed_videos/id12_id7_0006.mp4\n"
     ]
    },
    {
     "name": "stderr",
     "output_type": "stream",
     "text": [
      "OpenCV: FFMPEG: tag 0x5634504d/'MP4V' is not supported with codec id 12 and format 'mp4 / MP4 (MPEG-4 Part 14)'\n",
      "OpenCV: FFMPEG: fallback to use tag 0x7634706d/'mp4v'\n"
     ]
    },
    {
     "name": "stdout",
     "output_type": "stream",
     "text": [
      "Faces saved to faces/id12_id10_0001\n",
      "Face video saved to processed_videos/id12_id10_0001.mp4\n"
     ]
    },
    {
     "name": "stderr",
     "output_type": "stream",
     "text": [
      "OpenCV: FFMPEG: tag 0x5634504d/'MP4V' is not supported with codec id 12 and format 'mp4 / MP4 (MPEG-4 Part 14)'\n",
      "OpenCV: FFMPEG: fallback to use tag 0x7634706d/'mp4v'\n"
     ]
    },
    {
     "name": "stdout",
     "output_type": "stream",
     "text": [
      "Faces saved to faces/id16_id2_0013Faces saved to faces/id16_id2_0007\n",
      "\n",
      "Face video saved to processed_videos/id16_id2_0013.mp4Face video saved to processed_videos/id16_id2_0007.mp4\n",
      "\n"
     ]
    },
    {
     "name": "stderr",
     "output_type": "stream",
     "text": [
      "OpenCV: FFMPEG: tag 0x5634504d/'MP4V' is not supported with codec id 12 and format 'mp4 / MP4 (MPEG-4 Part 14)'\n",
      "OpenCV: FFMPEG: fallback to use tag 0x7634706d/'mp4v'\n",
      "OpenCV: FFMPEG: tag 0x5634504d/'MP4V' is not supported with codec id 12 and format 'mp4 / MP4 (MPEG-4 Part 14)'\n",
      "OpenCV: FFMPEG: fallback to use tag 0x7634706d/'mp4v'\n"
     ]
    },
    {
     "name": "stdout",
     "output_type": "stream",
     "text": [
      "Saved 15 frames to frames/00200\n",
      "Saved 9 frames to frames/id16_id0_0007\n",
      "Faces saved to faces/id16_id0_0001\n",
      "Saved 15 frames to frames/00166Face video saved to processed_videos/id16_id0_0001.mp4\n",
      "\n"
     ]
    },
    {
     "name": "stderr",
     "output_type": "stream",
     "text": [
      "OpenCV: FFMPEG: tag 0x5634504d/'MP4V' is not supported with codec id 12 and format 'mp4 / MP4 (MPEG-4 Part 14)'\n",
      "OpenCV: FFMPEG: fallback to use tag 0x7634706d/'mp4v'\n"
     ]
    },
    {
     "name": "stdout",
     "output_type": "stream",
     "text": [
      "Saved 15 frames to frames/id0_id17_0005\n",
      "Saved 11 frames to frames/id10_id7_0003\n",
      "Faces saved to faces/00214\n",
      "Face video saved to processed_videos/00214.mp4\n"
     ]
    },
    {
     "name": "stderr",
     "output_type": "stream",
     "text": [
      "OpenCV: FFMPEG: tag 0x5634504d/'MP4V' is not supported with codec id 12 and format 'mp4 / MP4 (MPEG-4 Part 14)'\n",
      "OpenCV: FFMPEG: fallback to use tag 0x7634706d/'mp4v'\n"
     ]
    },
    {
     "name": "stdout",
     "output_type": "stream",
     "text": [
      "Faces saved to faces/id12_id7_0000\n",
      "Face video saved to processed_videos/id12_id7_0000.mp4\n"
     ]
    },
    {
     "name": "stderr",
     "output_type": "stream",
     "text": [
      "OpenCV: FFMPEG: tag 0x5634504d/'MP4V' is not supported with codec id 12 and format 'mp4 / MP4 (MPEG-4 Part 14)'\n",
      "OpenCV: FFMPEG: fallback to use tag 0x7634706d/'mp4v'\n"
     ]
    },
    {
     "name": "stdout",
     "output_type": "stream",
     "text": [
      "Faces saved to faces/id16_id9_0002\n",
      "Faces saved to faces/id16_id17_0009Face video saved to processed_videos/id16_id9_0002.mp4\n",
      "\n",
      "Face video saved to processed_videos/id16_id17_0009.mp4\n"
     ]
    },
    {
     "name": "stderr",
     "output_type": "stream",
     "text": [
      "OpenCV: FFMPEG: tag 0x5634504d/'MP4V' is not supported with codec id 12 and format 'mp4 / MP4 (MPEG-4 Part 14)'\n",
      "OpenCV: FFMPEG: fallback to use tag 0x7634706d/'mp4v'\n",
      "OpenCV: FFMPEG: tag 0x5634504d/'MP4V' is not supported with codec id 12 and format 'mp4 / MP4 (MPEG-4 Part 14)'\n",
      "OpenCV: FFMPEG: fallback to use tag 0x7634706d/'mp4v'\n"
     ]
    },
    {
     "name": "stdout",
     "output_type": "stream",
     "text": [
      "Saved 10 frames to frames/id13_id10_0000\n",
      "Saved 12 frames to frames/id12_id10_0002\n",
      "Saved 10 frames to frames/id16_id3_0000Saved 17 frames to frames/00220\n",
      "\n",
      "Saved 10 frames to frames/id16_id2_0009\n",
      "Saved 17 frames to frames/id0_id16_0009\n",
      "Saved 12 frames to frames/id16_id0_0002\n",
      "Faces saved to faces/id16_id0_0013Faces saved to faces/id16_id6_0012\n",
      "Face video saved to processed_videos/id16_id0_0013.mp4\n",
      "\n",
      "Face video saved to processed_videos/id16_id6_0012.mp4\n"
     ]
    },
    {
     "name": "stderr",
     "output_type": "stream",
     "text": [
      "OpenCV: FFMPEG: tag 0x5634504d/'MP4V' is not supported with codec id 12 and format 'mp4 / MP4 (MPEG-4 Part 14)'\n",
      "OpenCV: FFMPEG: fallback to use tag 0x7634706d/'mp4v'\n",
      "OpenCV: FFMPEG: tag 0x5634504d/'MP4V' is not supported with codec id 12 and format 'mp4 / MP4 (MPEG-4 Part 14)'\n",
      "OpenCV: FFMPEG: fallback to use tag 0x7634706d/'mp4v'\n"
     ]
    },
    {
     "name": "stdout",
     "output_type": "stream",
     "text": [
      "Faces saved to faces/00175\n",
      "Face video saved to processed_videos/00175.mp4\n"
     ]
    },
    {
     "name": "stderr",
     "output_type": "stream",
     "text": [
      "OpenCV: FFMPEG: tag 0x5634504d/'MP4V' is not supported with codec id 12 and format 'mp4 / MP4 (MPEG-4 Part 14)'\n",
      "OpenCV: FFMPEG: fallback to use tag 0x7634706d/'mp4v'\n"
     ]
    },
    {
     "name": "stdout",
     "output_type": "stream",
     "text": [
      "Saved 10 frames to frames/id16_id9_0003\n",
      "Saved 15 frames to frames/00215\n",
      "Saved 10 frames to frames/id16_id17_0010\n",
      "Saved 13 frames to frames/id12_id7_0001\n",
      "Faces saved to faces/id0_id1_0006\n",
      "Face video saved to processed_videos/id0_id1_0006.mp4\n",
      "Faces saved to faces/00244\n"
     ]
    },
    {
     "name": "stderr",
     "output_type": "stream",
     "text": [
      "OpenCV: FFMPEG: tag 0x5634504d/'MP4V' is not supported with codec id 12 and format 'mp4 / MP4 (MPEG-4 Part 14)'\n",
      "OpenCV: FFMPEG: fallback to use tag 0x7634706d/'mp4v'\n",
      "OpenCV: FFMPEG: tag 0x5634504d/'MP4V' is not supported with codec id 12 and format 'mp4 / MP4 (MPEG-4 Part 14)'\n",
      "OpenCV: FFMPEG: fallback to use tag 0x7634706d/'mp4v'\n"
     ]
    },
    {
     "name": "stdout",
     "output_type": "stream",
     "text": [
      "Face video saved to processed_videos/00244.mp4\n",
      "Faces saved to faces/id0_id9_0003\n",
      "Saved 10 frames to frames/id16_id6_0013\n",
      "Face video saved to processed_videos/id0_id9_0003.mp4\n"
     ]
    },
    {
     "name": "stderr",
     "output_type": "stream",
     "text": [
      "OpenCV: FFMPEG: tag 0x5634504d/'MP4V' is not supported with codec id 12 and format 'mp4 / MP4 (MPEG-4 Part 14)'\n",
      "OpenCV: FFMPEG: fallback to use tag 0x7634706d/'mp4v'\n"
     ]
    },
    {
     "name": "stdout",
     "output_type": "stream",
     "text": [
      "Faces saved to faces/id0_id1_0000\n",
      "Face video saved to processed_videos/id0_id1_0000.mp4\n"
     ]
    },
    {
     "name": "stderr",
     "output_type": "stream",
     "text": [
      "OpenCV: FFMPEG: tag 0x5634504d/'MP4V' is not supported with codec id 12 and format 'mp4 / MP4 (MPEG-4 Part 14)'\n",
      "OpenCV: FFMPEG: fallback to use tag 0x7634706d/'mp4v'\n"
     ]
    },
    {
     "name": "stdout",
     "output_type": "stream",
     "text": [
      "Faces saved to faces/id13_id7_0003Faces saved to faces/id10_id12_0003\n",
      "\n",
      "Face video saved to processed_videos/id10_id12_0003.mp4\n",
      "Face video saved to processed_videos/id13_id7_0003.mp4\n",
      "Saved 10 frames to frames/id16_id17_0000\n"
     ]
    },
    {
     "name": "stderr",
     "output_type": "stream",
     "text": [
      "OpenCV: FFMPEG: tag 0x5634504d/'MP4V' is not supported with codec id 12 and format 'mp4 / MP4 (MPEG-4 Part 14)'\n",
      "OpenCV: FFMPEG: fallback to use tag 0x7634706d/'mp4v'\n",
      "OpenCV: FFMPEG: tag 0x5634504d/'MP4V' is not supported with codec id 12 and format 'mp4 / MP4 (MPEG-4 Part 14)'\n",
      "OpenCV: FFMPEG: fallback to use tag 0x7634706d/'mp4v'\n"
     ]
    },
    {
     "name": "stdout",
     "output_type": "stream",
     "text": [
      "Faces saved to faces/id16_id17_0003\n",
      "Faces saved to faces/00180Face video saved to processed_videos/id16_id17_0003.mp4\n",
      "\n"
     ]
    },
    {
     "name": "stderr",
     "output_type": "stream",
     "text": [
      "OpenCV: FFMPEG: tag 0x5634504d/'MP4V' is not supported with codec id 12 and format 'mp4 / MP4 (MPEG-4 Part 14)'\n",
      "OpenCV: FFMPEG: fallback to use tag 0x7634706d/'mp4v'\n",
      "OpenCV: FFMPEG: tag 0x5634504d/'MP4V' is not supported with codec id 12 and format 'mp4 / MP4 (MPEG-4 Part 14)'\n",
      "OpenCV: FFMPEG: fallback to use tag 0x7634706d/'mp4v'\n"
     ]
    },
    {
     "name": "stdout",
     "output_type": "stream",
     "text": [
      "Face video saved to processed_videos/00180.mp4\n",
      "Faces saved to faces/00234\n",
      "Face video saved to processed_videos/00234.mp4\n"
     ]
    },
    {
     "name": "stderr",
     "output_type": "stream",
     "text": [
      "OpenCV: FFMPEG: tag 0x5634504d/'MP4V' is not supported with codec id 12 and format 'mp4 / MP4 (MPEG-4 Part 14)'\n",
      "OpenCV: FFMPEG: fallback to use tag 0x7634706d/'mp4v'\n"
     ]
    },
    {
     "name": "stdout",
     "output_type": "stream",
     "text": [
      "Saved 20 frames to frames/00176\n",
      "Saved 11 frames to frames/id13_id7_0004\n",
      "Faces saved to faces/id0_id2_0007Saved 10 frames to frames/id0_id1_0001\n",
      "\n",
      "Face video saved to processed_videos/id0_id2_0007.mp4\n",
      "Faces saved to faces/id16_id3_0010\n",
      "Faces saved to faces/id16_id6_0006"
     ]
    },
    {
     "name": "stderr",
     "output_type": "stream",
     "text": [
      "OpenCV: FFMPEG: tag 0x5634504d/'MP4V' is not supported with codec id 12 and format 'mp4 / MP4 (MPEG-4 Part 14)'\n",
      "OpenCV: FFMPEG: fallback to use tag 0x7634706d/'mp4v'\n",
      "OpenCV: FFMPEG: tag 0x5634504d/'MP4V' is not supported with codec id 12 and format 'mp4 / MP4 (MPEG-4 Part 14)'\n",
      "OpenCV: FFMPEG: fallback to use tag 0x7634706d/'mp4v'\n"
     ]
    },
    {
     "name": "stdout",
     "output_type": "stream",
     "text": [
      "\n",
      "Saved 15 frames to frames/id0_id1_0007Face video saved to processed_videos/id16_id6_0006.mp4\n",
      "\n",
      "Faces saved to faces/id10_id11_0005Face video saved to processed_videos/id16_id3_0010.mp4\n"
     ]
    },
    {
     "name": "stderr",
     "output_type": "stream",
     "text": [
      "OpenCV: FFMPEG: tag 0x5634504d/'MP4V' is not supported with codec id 12 and format 'mp4 / MP4 (MPEG-4 Part 14)'\n",
      "OpenCV: FFMPEG: fallback to use tag 0x7634706d/'mp4v'\n"
     ]
    },
    {
     "name": "stdout",
     "output_type": "stream",
     "text": [
      "\n",
      "Face video saved to processed_videos/id10_id11_0005.mp4\n"
     ]
    },
    {
     "name": "stderr",
     "output_type": "stream",
     "text": [
      "OpenCV: FFMPEG: tag 0x5634504d/'MP4V' is not supported with codec id 12 and format 'mp4 / MP4 (MPEG-4 Part 14)'\n",
      "OpenCV: FFMPEG: fallback to use tag 0x7634706d/'mp4v'\n"
     ]
    },
    {
     "name": "stdout",
     "output_type": "stream",
     "text": [
      "Saved 15 frames to frames/00245\n",
      "Saved 15 frames to frames/id0_id9_0005\n",
      "Faces saved to faces/id16_id6_0001Saved 5 frames to frames/id10_id11_0006\n",
      "Saved 13 frames to frames/00181\n",
      "\n",
      "Face video saved to processed_videos/id16_id6_0001.mp4\n"
     ]
    },
    {
     "name": "stderr",
     "output_type": "stream",
     "text": [
      "OpenCV: FFMPEG: tag 0x5634504d/'MP4V' is not supported with codec id 12 and format 'mp4 / MP4 (MPEG-4 Part 14)'\n",
      "OpenCV: FFMPEG: fallback to use tag 0x7634706d/'mp4v'\n"
     ]
    },
    {
     "name": "stdout",
     "output_type": "stream",
     "text": [
      "Saved 13 frames to frames/id16_id17_0004\n",
      "Saved 9 frames to frames/id16_id3_0011\n",
      "Saved 17 frames to frames/id10_id12_0004\n",
      "Faces saved to faces/id0_id16_0004\n",
      "Face video saved to processed_videos/id0_id16_0004.mp4\n",
      "Faces saved to faces/id10_id12_0008"
     ]
    },
    {
     "name": "stderr",
     "output_type": "stream",
     "text": [
      "OpenCV: FFMPEG: tag 0x5634504d/'MP4V' is not supported with codec id 12 and format 'mp4 / MP4 (MPEG-4 Part 14)'\n",
      "OpenCV: FFMPEG: fallback to use tag 0x7634706d/'mp4v'\n"
     ]
    },
    {
     "name": "stdout",
     "output_type": "stream",
     "text": [
      "\n",
      "Saved 9 frames to frames/id16_id6_0007\n",
      "Saved 16 frames to frames/00235\n",
      "Face video saved to processed_videos/id10_id12_0008.mp4\n"
     ]
    },
    {
     "name": "stderr",
     "output_type": "stream",
     "text": [
      "OpenCV: FFMPEG: tag 0x5634504d/'MP4V' is not supported with codec id 12 and format 'mp4 / MP4 (MPEG-4 Part 14)'\n",
      "OpenCV: FFMPEG: fallback to use tag 0x7634706d/'mp4v'\n"
     ]
    },
    {
     "name": "stdout",
     "output_type": "stream",
     "text": [
      "Faces saved to faces/00195\n",
      "Face video saved to processed_videos/00195.mp4\n"
     ]
    },
    {
     "name": "stderr",
     "output_type": "stream",
     "text": [
      "OpenCV: FFMPEG: tag 0x5634504d/'MP4V' is not supported with codec id 12 and format 'mp4 / MP4 (MPEG-4 Part 14)'\n",
      "OpenCV: FFMPEG: fallback to use tag 0x7634706d/'mp4v'\n"
     ]
    },
    {
     "name": "stdout",
     "output_type": "stream",
     "text": [
      "Faces saved to faces/00190\n",
      "Faces saved to faces/id10_id13_0004Faces saved to faces/00224\n",
      "Face video saved to processed_videos/00190.mp4\n",
      "\n",
      "Saved 3 frames to frames/id10_id13_0001\n"
     ]
    },
    {
     "name": "stderr",
     "output_type": "stream",
     "text": [
      "OpenCV: FFMPEG: tag 0x5634504d/'MP4V' is not supported with codec id 12 and format 'mp4 / MP4 (MPEG-4 Part 14)'\n",
      "OpenCV: FFMPEG: fallback to use tag 0x7634706d/'mp4v'\n",
      "OpenCV: FFMPEG: tag 0x5634504d/'MP4V' is not supported with codec id 12 and format 'mp4 / MP4 (MPEG-4 Part 14)'\n",
      "OpenCV: FFMPEG: fallback to use tag 0x7634706d/'mp4v'\n",
      "OpenCV: FFMPEG: tag 0x5634504d/'MP4V' is not supported with codec id 12 and format 'mp4 / MP4 (MPEG-4 Part 14)'\n",
      "OpenCV: FFMPEG: fallback to use tag 0x7634706d/'mp4v'\n"
     ]
    },
    {
     "name": "stdout",
     "output_type": "stream",
     "text": [
      "Face video saved to processed_videos/00224.mp4Face video saved to processed_videos/id10_id13_0004.mp4\n",
      "\n",
      "Saved 15 frames to frames/id0_id2_0008\n",
      "Faces saved to faces/id0_id3_0007\n",
      "Face video saved to processed_videos/id0_id3_0007.mp4\n"
     ]
    },
    {
     "name": "stderr",
     "output_type": "stream",
     "text": [
      "OpenCV: FFMPEG: tag 0x5634504d/'MP4V' is not supported with codec id 12 and format 'mp4 / MP4 (MPEG-4 Part 14)'\n",
      "OpenCV: FFMPEG: fallback to use tag 0x7634706d/'mp4v'\n"
     ]
    },
    {
     "name": "stdout",
     "output_type": "stream",
     "text": [
      "Faces saved to faces/id16_id2_0002\n",
      "Saved 12 frames to frames/id16_id6_0002Face video saved to processed_videos/id16_id2_0002.mp4\n",
      "\n"
     ]
    },
    {
     "name": "stderr",
     "output_type": "stream",
     "text": [
      "OpenCV: FFMPEG: tag 0x5634504d/'MP4V' is not supported with codec id 12 and format 'mp4 / MP4 (MPEG-4 Part 14)'\n",
      "OpenCV: FFMPEG: fallback to use tag 0x7634706d/'mp4v'\n"
     ]
    },
    {
     "name": "stdout",
     "output_type": "stream",
     "text": [
      "Faces saved to faces/id16_id1_0005\n",
      "Face video saved to processed_videos/id16_id1_0005.mp4\n"
     ]
    },
    {
     "name": "stderr",
     "output_type": "stream",
     "text": [
      "OpenCV: FFMPEG: tag 0x5634504d/'MP4V' is not supported with codec id 12 and format 'mp4 / MP4 (MPEG-4 Part 14)'\n",
      "OpenCV: FFMPEG: fallback to use tag 0x7634706d/'mp4v'\n"
     ]
    },
    {
     "name": "stdout",
     "output_type": "stream",
     "text": [
      "Faces saved to faces/id16_id3_0004\n",
      "Face video saved to processed_videos/id16_id3_0004.mp4\n"
     ]
    },
    {
     "name": "stderr",
     "output_type": "stream",
     "text": [
      "OpenCV: FFMPEG: tag 0x5634504d/'MP4V' is not supported with codec id 12 and format 'mp4 / MP4 (MPEG-4 Part 14)'\n",
      "OpenCV: FFMPEG: fallback to use tag 0x7634706d/'mp4v'\n"
     ]
    },
    {
     "name": "stdout",
     "output_type": "stream",
     "text": [
      "Faces saved to faces/id10_id7_0007\n",
      "Face video saved to processed_videos/id10_id7_0007.mp4\n"
     ]
    },
    {
     "name": "stderr",
     "output_type": "stream",
     "text": [
      "OpenCV: FFMPEG: tag 0x5634504d/'MP4V' is not supported with codec id 12 and format 'mp4 / MP4 (MPEG-4 Part 14)'\n",
      "OpenCV: FFMPEG: fallback to use tag 0x7634706d/'mp4v'\n"
     ]
    },
    {
     "name": "stdout",
     "output_type": "stream",
     "text": [
      "Saved 15 frames to frames/id0_id16_0005\n",
      "Faces saved to faces/id0_id9_0009Saved 10 frames to frames/id10_id13_0005\n",
      "\n",
      "Face video saved to processed_videos/id0_id9_0009.mp4Faces saved to faces/00171\n",
      "\n"
     ]
    },
    {
     "name": "stderr",
     "output_type": "stream",
     "text": [
      "OpenCV: FFMPEG: tag 0x5634504d/'MP4V' is not supported with codec id 12 and format 'mp4 / MP4 (MPEG-4 Part 14)'\n",
      "OpenCV: FFMPEG: fallback to use tag 0x7634706d/'mp4v'\n",
      "OpenCV: FFMPEG: tag 0x5634504d/'MP4V' is not supported with codec id 12 and format 'mp4 / MP4 (MPEG-4 Part 14)'\n",
      "OpenCV: FFMPEG: fallback to use tag 0x7634706d/'mp4v'\n"
     ]
    },
    {
     "name": "stdout",
     "output_type": "stream",
     "text": [
      "Face video saved to processed_videos/00171.mp4Faces saved to faces/id0_id6_0007\n",
      "\n",
      "Faces saved to faces/id13_id7_0009\n",
      "Face video saved to processed_videos/id0_id6_0007.mp4\n",
      "Face video saved to processed_videos/id13_id7_0009.mp4\n"
     ]
    },
    {
     "name": "stderr",
     "output_type": "stream",
     "text": [
      "OpenCV: FFMPEG: tag 0x5634504d/'MP4V' is not supported with codec id 12 and format 'mp4 / MP4 (MPEG-4 Part 14)'\n",
      "OpenCV: FFMPEG: fallback to use tag 0x7634706d/'mp4v'\n",
      "OpenCV: FFMPEG: tag 0x5634504d/'MP4V' is not supported with codec id 12 and format 'mp4 / MP4 (MPEG-4 Part 14)'\n",
      "OpenCV: FFMPEG: fallback to use tag 0x7634706d/'mp4v'\n"
     ]
    },
    {
     "name": "stdout",
     "output_type": "stream",
     "text": [
      "Saved 14 frames to frames/00191\n",
      "Saved 15 frames to frames/00225\n",
      "Faces saved to faces/id13_id10_0014\n",
      "Saved 16 frames to frames/00196Face video saved to processed_videos/id13_id10_0014.mp4\n",
      "\n"
     ]
    },
    {
     "name": "stderr",
     "output_type": "stream",
     "text": [
      "OpenCV: FFMPEG: tag 0x5634504d/'MP4V' is not supported with codec id 12 and format 'mp4 / MP4 (MPEG-4 Part 14)'\n",
      "OpenCV: FFMPEG: fallback to use tag 0x7634706d/'mp4v'\n"
     ]
    },
    {
     "name": "stdout",
     "output_type": "stream",
     "text": [
      "Saved 7 frames to frames/id16_id1_0006\n",
      "Saved 10 frames to frames/id16_id2_0003\n",
      "Saved 3 frames to frames/id10_id11_0001\n",
      "Faces saved to faces/id0_id4_0009\n",
      "Face video saved to processed_videos/id0_id4_0009.mp4\n",
      "Saved 11 frames to frames/id16_id3_0005\n"
     ]
    },
    {
     "name": "stderr",
     "output_type": "stream",
     "text": [
      "OpenCV: FFMPEG: tag 0x5634504d/'MP4V' is not supported with codec id 12 and format 'mp4 / MP4 (MPEG-4 Part 14)'\n",
      "OpenCV: FFMPEG: fallback to use tag 0x7634706d/'mp4v'\n"
     ]
    },
    {
     "name": "stdout",
     "output_type": "stream",
     "text": [
      "Faces saved to faces/00229\n",
      "Face video saved to processed_videos/00229.mp4Saved 12 frames to frames/id10_id7_0008\n",
      "\n",
      "Saved 15 frames to frames/id0_id3_0008"
     ]
    },
    {
     "name": "stderr",
     "output_type": "stream",
     "text": [
      "OpenCV: FFMPEG: tag 0x5634504d/'MP4V' is not supported with codec id 12 and format 'mp4 / MP4 (MPEG-4 Part 14)'\n",
      "OpenCV: FFMPEG: fallback to use tag 0x7634706d/'mp4v'\n"
     ]
    },
    {
     "name": "stdout",
     "output_type": "stream",
     "text": [
      "\n",
      "Faces saved to faces/00239\n",
      "Face video saved to processed_videos/00239.mp4\n",
      "Saved 9 frames to frames/id16_id9_0007\n"
     ]
    },
    {
     "name": "stderr",
     "output_type": "stream",
     "text": [
      "OpenCV: FFMPEG: tag 0x5634504d/'MP4V' is not supported with codec id 12 and format 'mp4 / MP4 (MPEG-4 Part 14)'\n",
      "OpenCV: FFMPEG: fallback to use tag 0x7634706d/'mp4v'\n"
     ]
    },
    {
     "name": "stdout",
     "output_type": "stream",
     "text": [
      "Faces saved to faces/id16_id1_0001\n",
      "Faces saved to faces/id11_id7_0007Face video saved to processed_videos/id16_id1_0001.mp4\n",
      "\n",
      "Faces saved to faces/id10_id11_0006\n",
      "Face video saved to processed_videos/id11_id7_0007.mp4"
     ]
    },
    {
     "name": "stderr",
     "output_type": "stream",
     "text": [
      "OpenCV: FFMPEG: tag 0x5634504d/'MP4V' is not supported with codec id 12 and format 'mp4 / MP4 (MPEG-4 Part 14)'\n",
      "OpenCV: FFMPEG: fallback to use tag 0x7634706d/'mp4v'\n",
      "OpenCV: FFMPEG: tag 0x5634504d/'MP4V' is not supported with codec id 12 and format 'mp4 / MP4 (MPEG-4 Part 14)'\n",
      "OpenCV: FFMPEG: fallback to use tag 0x7634706d/'mp4v'\n"
     ]
    },
    {
     "name": "stdout",
     "output_type": "stream",
     "text": [
      "\n",
      "Face video saved to processed_videos/id10_id11_0006.mp4\n"
     ]
    },
    {
     "name": "stderr",
     "output_type": "stream",
     "text": [
      "OpenCV: FFMPEG: tag 0x5634504d/'MP4V' is not supported with codec id 12 and format 'mp4 / MP4 (MPEG-4 Part 14)'\n",
      "OpenCV: FFMPEG: fallback to use tag 0x7634706d/'mp4v'\n"
     ]
    },
    {
     "name": "stdout",
     "output_type": "stream",
     "text": [
      "Faces saved to faces/id16_id1_0012\n",
      "Faces saved to faces/id11_id7_0002Face video saved to processed_videos/id16_id1_0012.mp4\n",
      "\n"
     ]
    },
    {
     "name": "stderr",
     "output_type": "stream",
     "text": [
      "OpenCV: FFMPEG: tag 0x5634504d/'MP4V' is not supported with codec id 12 and format 'mp4 / MP4 (MPEG-4 Part 14)'\n",
      "OpenCV: FFMPEG: fallback to use tag 0x7634706d/'mp4v'\n"
     ]
    },
    {
     "name": "stdout",
     "output_type": "stream",
     "text": [
      "Face video saved to processed_videos/id11_id7_0002.mp4\n",
      "Faces saved to faces/id16_id0_0007Faces saved to faces/id16_id6_0013\n",
      "\n",
      "Face video saved to processed_videos/id16_id0_0007.mp4"
     ]
    },
    {
     "name": "stderr",
     "output_type": "stream",
     "text": [
      "OpenCV: FFMPEG: tag 0x5634504d/'MP4V' is not supported with codec id 12 and format 'mp4 / MP4 (MPEG-4 Part 14)'\n",
      "OpenCV: FFMPEG: fallback to use tag 0x7634706d/'mp4v'\n",
      "OpenCV: FFMPEG: tag 0x5634504d/'MP4V' is not supported with codec id 12 and format 'mp4 / MP4 (MPEG-4 Part 14)'\n",
      "OpenCV: FFMPEG: fallback to use tag 0x7634706d/'mp4v'\n",
      "OpenCV: FFMPEG: tag 0x5634504d/'MP4V' is not supported with codec id 12 and format 'mp4 / MP4 (MPEG-4 Part 14)'\n",
      "OpenCV: FFMPEG: fallback to use tag 0x7634706d/'mp4v'\n"
     ]
    },
    {
     "name": "stdout",
     "output_type": "stream",
     "text": [
      "\n",
      "Faces saved to faces/id0_id2_0003\n",
      "Face video saved to processed_videos/id16_id6_0013.mp4\n",
      "Face video saved to processed_videos/id0_id2_0003.mp4\n"
     ]
    },
    {
     "name": "stderr",
     "output_type": "stream",
     "text": [
      "OpenCV: FFMPEG: tag 0x5634504d/'MP4V' is not supported with codec id 12 and format 'mp4 / MP4 (MPEG-4 Part 14)'\n",
      "OpenCV: FFMPEG: fallback to use tag 0x7634706d/'mp4v'\n"
     ]
    },
    {
     "name": "stdout",
     "output_type": "stream",
     "text": [
      "Saved 15 frames to frames/id13_id7_0011\n",
      "Faces saved to faces/id13_id10_0007\n",
      "Face video saved to processed_videos/id13_id10_0007.mp4\n",
      "Faces saved to faces/id10_id13_0001\n",
      "Faces saved to faces/00185Face video saved to processed_videos/id10_id13_0001.mp4\n"
     ]
    },
    {
     "name": "stderr",
     "output_type": "stream",
     "text": [
      "OpenCV: FFMPEG: tag 0x5634504d/'MP4V' is not supported with codec id 12 and format 'mp4 / MP4 (MPEG-4 Part 14)'\n",
      "OpenCV: FFMPEG: fallback to use tag 0x7634706d/'mp4v'\n",
      "OpenCV: FFMPEG: tag 0x5634504d/'MP4V' is not supported with codec id 12 and format 'mp4 / MP4 (MPEG-4 Part 14)'\n",
      "OpenCV: FFMPEG: fallback to use tag 0x7634706d/'mp4v'\n",
      "OpenCV: FFMPEG: tag 0x5634504d/'MP4V' is not supported with codec id 12 and format 'mp4 / MP4 (MPEG-4 Part 14)'\n",
      "OpenCV: FFMPEG: fallback to use tag 0x7634706d/'mp4v'\n"
     ]
    },
    {
     "name": "stdout",
     "output_type": "stream",
     "text": [
      "\n",
      "Face video saved to processed_videos/00185.mp4\n",
      "Faces saved to faces/id16_id3_0011\n",
      "Saved 16 frames to frames/id13_id10_0015Face video saved to processed_videos/id16_id3_0011.mp4\n",
      "\n"
     ]
    },
    {
     "name": "stderr",
     "output_type": "stream",
     "text": [
      "OpenCV: FFMPEG: tag 0x5634504d/'MP4V' is not supported with codec id 12 and format 'mp4 / MP4 (MPEG-4 Part 14)'\n",
      "OpenCV: FFMPEG: fallback to use tag 0x7634706d/'mp4v'\n"
     ]
    },
    {
     "name": "stdout",
     "output_type": "stream",
     "text": [
      "Saved 17 frames to frames/id0_id6_0009\n",
      "Saved 10 frames to frames/id16_id1_0013\n",
      "Saved 15 frames to frames/id0_id6_0000\n",
      "Saved 12 frames to frames/id16_id1_0002\n",
      "Saved 12 frames to frames/id11_id7_0008\n",
      "Faces saved to faces/00210\n",
      "Saved 15 frames to frames/00230\n",
      "Face video saved to processed_videos/00210.mp4\n"
     ]
    },
    {
     "name": "stderr",
     "output_type": "stream",
     "text": [
      "OpenCV: FFMPEG: tag 0x5634504d/'MP4V' is not supported with codec id 12 and format 'mp4 / MP4 (MPEG-4 Part 14)'\n",
      "OpenCV: FFMPEG: fallback to use tag 0x7634706d/'mp4v'\n"
     ]
    },
    {
     "name": "stdout",
     "output_type": "stream",
     "text": [
      "Saved 10 frames to frames/id11_id7_0003\n",
      "Saved 15 frames to frames/00240\n",
      "Faces saved to faces/00205\n",
      "Face video saved to processed_videos/00205.mp4\n"
     ]
    },
    {
     "name": "stderr",
     "output_type": "stream",
     "text": [
      "OpenCV: FFMPEG: tag 0x5634504d/'MP4V' is not supported with codec id 12 and format 'mp4 / MP4 (MPEG-4 Part 14)'\n",
      "OpenCV: FFMPEG: fallback to use tag 0x7634706d/'mp4v'\n"
     ]
    },
    {
     "name": "stdout",
     "output_type": "stream",
     "text": [
      "Saved 10 frames to frames/id0_id2_0004\n",
      "Saved 10 frames to frames/id16_id9_0000\n",
      "Saved 10 frames to frames/id16_id0_0009\n",
      "Saved 16 frames to frames/id10_id11_0007\n",
      "Saved 10 frames to frames/id10_id13_0002\n",
      "Saved 10 frames to frames/id16_id3_0012\n",
      "Faces saved to faces/id16_id3_0000\n",
      "Face video saved to processed_videos/id16_id3_0000.mp4Faces saved to faces/id13_id10_0000\n",
      "\n"
     ]
    },
    {
     "name": "stderr",
     "output_type": "stream",
     "text": [
      "OpenCV: FFMPEG: tag 0x5634504d/'MP4V' is not supported with codec id 12 and format 'mp4 / MP4 (MPEG-4 Part 14)'\n",
      "OpenCV: FFMPEG: fallback to use tag 0x7634706d/'mp4v'\n",
      "OpenCV: FFMPEG: tag 0x5634504d/'MP4V' is not supported with codec id 12 and format 'mp4 / MP4 (MPEG-4 Part 14)'\n",
      "OpenCV: FFMPEG: fallback to use tag 0x7634706d/'mp4v'\n"
     ]
    },
    {
     "name": "stdout",
     "output_type": "stream",
     "text": [
      "Face video saved to processed_videos/id13_id10_0000.mp4\n",
      "Faces saved to faces/id16_id2_0009Faces saved to faces/id10_id7_0003\n",
      "Saved 15 frames to frames/id13_id10_0008Face video saved to processed_videos/id16_id2_0009.mp4\n",
      "Faces saved to faces/id10_id11_0001\n",
      "\n",
      "\n",
      "Face video saved to processed_videos/id10_id7_0003.mp4\n",
      "Face video saved to processed_videos/id10_id11_0001.mp4"
     ]
    },
    {
     "name": "stderr",
     "output_type": "stream",
     "text": [
      "OpenCV: FFMPEG: tag 0x5634504d/'MP4V' is not supported with codec id 12 and format 'mp4 / MP4 (MPEG-4 Part 14)'\n",
      "OpenCV: FFMPEG: fallback to use tag 0x7634706d/'mp4v'\n",
      "OpenCV: FFMPEG: tag 0x5634504d/'MP4V' is not supported with codec id 12 and format 'mp4 / MP4 (MPEG-4 Part 14)'\n",
      "OpenCV: FFMPEG: fallback to use tag 0x7634706d/'mp4v'\n",
      "OpenCV: FFMPEG: tag 0x5634504d/'MP4V' is not supported with codec id 12 and format 'mp4 / MP4 (MPEG-4 Part 14)'\n",
      "OpenCV: FFMPEG: fallback to use tag 0x7634706d/'mp4v'\n"
     ]
    },
    {
     "name": "stdout",
     "output_type": "stream",
     "text": [
      "\n",
      "Saved 17 frames to frames/00186\n",
      "Faces saved to faces/00249\n",
      "Face video saved to processed_videos/00249.mp4\n"
     ]
    },
    {
     "name": "stderr",
     "output_type": "stream",
     "text": [
      "OpenCV: FFMPEG: tag 0x5634504d/'MP4V' is not supported with codec id 12 and format 'mp4 / MP4 (MPEG-4 Part 14)'\n",
      "OpenCV: FFMPEG: fallback to use tag 0x7634706d/'mp4v'\n"
     ]
    },
    {
     "name": "stdout",
     "output_type": "stream",
     "text": [
      "Saved 14 frames to frames/00211\n",
      "Faces saved to faces/id13_id7_0004\n",
      "Face video saved to processed_videos/id13_id7_0004.mp4Saved 15 frames to frames/00206\n",
      "Faces saved to faces/id16_id9_0003\n"
     ]
    },
    {
     "name": "stderr",
     "output_type": "stream",
     "text": [
      "OpenCV: FFMPEG: tag 0x5634504d/'MP4V' is not supported with codec id 12 and format 'mp4 / MP4 (MPEG-4 Part 14)'\n",
      "OpenCV: FFMPEG: fallback to use tag 0x7634706d/'mp4v'\n"
     ]
    },
    {
     "name": "stdout",
     "output_type": "stream",
     "text": [
      "Faces saved to faces/id16_id17_0010\n",
      "\n",
      "Face video saved to processed_videos/id16_id17_0010.mp4Face video saved to processed_videos/id16_id9_0003.mp4\n",
      "\n",
      "Saved 10 frames to frames/id16_id3_0001\n"
     ]
    },
    {
     "name": "stderr",
     "output_type": "stream",
     "text": [
      "OpenCV: FFMPEG: tag 0x5634504d/'MP4V' is not supported with codec id 12 and format 'mp4 / MP4 (MPEG-4 Part 14)'\n",
      "OpenCV: FFMPEG: fallback to use tag 0x7634706d/'mp4v'\n",
      "OpenCV: FFMPEG: tag 0x5634504d/'MP4V' is not supported with codec id 12 and format 'mp4 / MP4 (MPEG-4 Part 14)'\n",
      "OpenCV: FFMPEG: fallback to use tag 0x7634706d/'mp4v'\n"
     ]
    },
    {
     "name": "stdout",
     "output_type": "stream",
     "text": [
      "Faces saved to faces/id12_id10_0002\n",
      "Face video saved to processed_videos/id12_id10_0002.mp4\n"
     ]
    },
    {
     "name": "stderr",
     "output_type": "stream",
     "text": [
      "OpenCV: FFMPEG: tag 0x5634504d/'MP4V' is not supported with codec id 12 and format 'mp4 / MP4 (MPEG-4 Part 14)'\n",
      "OpenCV: FFMPEG: fallback to use tag 0x7634706d/'mp4v'\n"
     ]
    },
    {
     "name": "stdout",
     "output_type": "stream",
     "text": [
      "Saved 10 frames to frames/id10_id11_0002\n",
      "Faces saved to faces/id16_id17_0000\n",
      "Face video saved to processed_videos/id16_id17_0000.mp4\n"
     ]
    },
    {
     "name": "stderr",
     "output_type": "stream",
     "text": [
      "OpenCV: FFMPEG: tag 0x5634504d/'MP4V' is not supported with codec id 12 and format 'mp4 / MP4 (MPEG-4 Part 14)'\n",
      "OpenCV: FFMPEG: fallback to use tag 0x7634706d/'mp4v'\n"
     ]
    },
    {
     "name": "stdout",
     "output_type": "stream",
     "text": [
      "Saved 11 frames to frames/id13_id10_0001\n",
      "Saved 10 frames to frames/id16_id2_0010\n",
      "Saved 9 frames to frames/id16_id17_0011\n",
      "Saved 10 frames to frames/id13_id7_0005\n",
      "Faces saved to faces/id16_id0_0002\n",
      "Face video saved to processed_videos/id16_id0_0002.mp4\n"
     ]
    },
    {
     "name": "stderr",
     "output_type": "stream",
     "text": [
      "OpenCV: FFMPEG: tag 0x5634504d/'MP4V' is not supported with codec id 12 and format 'mp4 / MP4 (MPEG-4 Part 14)'\n",
      "OpenCV: FFMPEG: fallback to use tag 0x7634706d/'mp4v'\n"
     ]
    },
    {
     "name": "stdout",
     "output_type": "stream",
     "text": [
      "Faces saved to faces/00200\n",
      "Face video saved to processed_videos/00200.mp4Faces saved to faces/00166\n",
      "\n"
     ]
    },
    {
     "name": "stderr",
     "output_type": "stream",
     "text": [
      "OpenCV: FFMPEG: tag 0x5634504d/'MP4V' is not supported with codec id 12 and format 'mp4 / MP4 (MPEG-4 Part 14)'\n",
      "OpenCV: FFMPEG: fallback to use tag 0x7634706d/'mp4v'\n",
      "OpenCV: FFMPEG: tag 0x5634504d/'MP4V' is not supported with codec id 12 and format 'mp4 / MP4 (MPEG-4 Part 14)'\n",
      "OpenCV: FFMPEG: fallback to use tag 0x7634706d/'mp4v'\n"
     ]
    },
    {
     "name": "stdout",
     "output_type": "stream",
     "text": [
      "Face video saved to processed_videos/00166.mp4\n",
      "Faces saved to faces/id0_id3_0003\n",
      "Saved 17 frames to frames/id10_id7_0004\n",
      "Face video saved to processed_videos/id0_id3_0003.mp4\n"
     ]
    },
    {
     "name": "stderr",
     "output_type": "stream",
     "text": [
      "OpenCV: FFMPEG: tag 0x5634504d/'MP4V' is not supported with codec id 12 and format 'mp4 / MP4 (MPEG-4 Part 14)'\n",
      "OpenCV: FFMPEG: fallback to use tag 0x7634706d/'mp4v'\n"
     ]
    },
    {
     "name": "stdout",
     "output_type": "stream",
     "text": [
      "Saved 15 frames to frames/id0_id16_0000\n",
      "Saved 11 frames to frames/id12_id10_0004\n",
      "Faces saved to faces/id0_id1_0001\n",
      "Saved 10 frames to frames/id16_id17_0001Face video saved to processed_videos/id0_id1_0001.mp4\n",
      "\n",
      "Faces saved to faces/id0_id4_0003\n",
      "Saved 13 frames to frames/id16_id9_0004"
     ]
    },
    {
     "name": "stderr",
     "output_type": "stream",
     "text": [
      "OpenCV: FFMPEG: tag 0x5634504d/'MP4V' is not supported with codec id 12 and format 'mp4 / MP4 (MPEG-4 Part 14)'\n",
      "OpenCV: FFMPEG: fallback to use tag 0x7634706d/'mp4v'\n",
      "OpenCV: FFMPEG: tag 0x5634504d/'MP4V' is not supported with codec id 12 and format 'mp4 / MP4 (MPEG-4 Part 14)'\n",
      "OpenCV: FFMPEG: fallback to use tag 0x7634706d/'mp4v'\n"
     ]
    },
    {
     "name": "stdout",
     "output_type": "stream",
     "text": [
      "\n",
      "Face video saved to processed_videos/id0_id4_0003.mp4\n",
      "Faces saved to faces/id16_id6_0007\n",
      "Face video saved to processed_videos/id16_id6_0007.mp4\n"
     ]
    },
    {
     "name": "stderr",
     "output_type": "stream",
     "text": [
      "OpenCV: FFMPEG: tag 0x5634504d/'MP4V' is not supported with codec id 12 and format 'mp4 / MP4 (MPEG-4 Part 14)'\n",
      "OpenCV: FFMPEG: fallback to use tag 0x7634706d/'mp4v'\n"
     ]
    },
    {
     "name": "stdout",
     "output_type": "stream",
     "text": [
      "Saved 10 frames to frames/id16_id0_0003\n",
      "Saved 10 frames to frames/id16_id9_0013\n",
      "Faces saved to faces/id0_id17_0005\n",
      "Face video saved to processed_videos/id0_id17_0005.mp4\n"
     ]
    },
    {
     "name": "stderr",
     "output_type": "stream",
     "text": [
      "OpenCV: FFMPEG: tag 0x5634504d/'MP4V' is not supported with codec id 12 and format 'mp4 / MP4 (MPEG-4 Part 14)'\n",
      "OpenCV: FFMPEG: fallback to use tag 0x7634706d/'mp4v'\n"
     ]
    },
    {
     "name": "stdout",
     "output_type": "stream",
     "text": [
      "Faces saved to faces/id12_id7_0001\n",
      "Face video saved to processed_videos/id12_id7_0001.mp4\n",
      "Saved 10 frames to frames/id0_id3_0004"
     ]
    },
    {
     "name": "stderr",
     "output_type": "stream",
     "text": [
      "OpenCV: FFMPEG: tag 0x5634504d/'MP4V' is not supported with codec id 12 and format 'mp4 / MP4 (MPEG-4 Part 14)'\n",
      "OpenCV: FFMPEG: fallback to use tag 0x7634706d/'mp4v'\n"
     ]
    },
    {
     "name": "stdout",
     "output_type": "stream",
     "text": [
      "Saved 15 frames to frames/00201\n",
      "\n",
      "Faces saved to faces/id10_id7_0008\n",
      "Face video saved to processed_videos/id10_id7_0008.mp4\n"
     ]
    },
    {
     "name": "stderr",
     "output_type": "stream",
     "text": [
      "OpenCV: FFMPEG: tag 0x5634504d/'MP4V' is not supported with codec id 12 and format 'mp4 / MP4 (MPEG-4 Part 14)'\n",
      "OpenCV: FFMPEG: fallback to use tag 0x7634706d/'mp4v'\n"
     ]
    },
    {
     "name": "stdout",
     "output_type": "stream",
     "text": [
      "Faces saved to faces/id16_id1_0006\n",
      "Face video saved to processed_videos/id16_id1_0006.mp4\n"
     ]
    },
    {
     "name": "stderr",
     "output_type": "stream",
     "text": [
      "OpenCV: FFMPEG: tag 0x5634504d/'MP4V' is not supported with codec id 12 and format 'mp4 / MP4 (MPEG-4 Part 14)'\n",
      "OpenCV: FFMPEG: fallback to use tag 0x7634706d/'mp4v'\n"
     ]
    },
    {
     "name": "stdout",
     "output_type": "stream",
     "text": [
      "Saved 10 frames to frames/id0_id4_0004\n",
      "Faces saved to faces/00215Saved 10 frames to frames/id16_id6_0009\n",
      "\n",
      "Face video saved to processed_videos/00215.mp4\n",
      "Saved 11 frames to frames/id0_id1_0002"
     ]
    },
    {
     "name": "stderr",
     "output_type": "stream",
     "text": [
      "OpenCV: FFMPEG: tag 0x5634504d/'MP4V' is not supported with codec id 12 and format 'mp4 / MP4 (MPEG-4 Part 14)'\n",
      "OpenCV: FFMPEG: fallback to use tag 0x7634706d/'mp4v'\n"
     ]
    },
    {
     "name": "stdout",
     "output_type": "stream",
     "text": [
      "\n",
      "Faces saved to faces/id16_id1_0013\n",
      "Face video saved to processed_videos/id16_id1_0013.mp4\n"
     ]
    },
    {
     "name": "stderr",
     "output_type": "stream",
     "text": [
      "OpenCV: FFMPEG: tag 0x5634504d/'MP4V' is not supported with codec id 12 and format 'mp4 / MP4 (MPEG-4 Part 14)'\n",
      "OpenCV: FFMPEG: fallback to use tag 0x7634706d/'mp4v'\n"
     ]
    },
    {
     "name": "stdout",
     "output_type": "stream",
     "text": [
      "Saved 12 frames to frames/id12_id7_0002\n",
      "Faces saved to faces/00181\n",
      "Saved 9 frames to frames/id16_id1_0007\n",
      "Face video saved to processed_videos/00181.mp4\n"
     ]
    },
    {
     "name": "stderr",
     "output_type": "stream",
     "text": [
      "OpenCV: FFMPEG: tag 0x5634504d/'MP4V' is not supported with codec id 12 and format 'mp4 / MP4 (MPEG-4 Part 14)'\n",
      "OpenCV: FFMPEG: fallback to use tag 0x7634706d/'mp4v'\n"
     ]
    },
    {
     "name": "stdout",
     "output_type": "stream",
     "text": [
      "Faces saved to faces/00220\n",
      "Face video saved to processed_videos/00220.mp4\n"
     ]
    },
    {
     "name": "stderr",
     "output_type": "stream",
     "text": [
      "OpenCV: FFMPEG: tag 0x5634504d/'MP4V' is not supported with codec id 12 and format 'mp4 / MP4 (MPEG-4 Part 14)'\n",
      "OpenCV: FFMPEG: fallback to use tag 0x7634706d/'mp4v'\n"
     ]
    },
    {
     "name": "stdout",
     "output_type": "stream",
     "text": [
      "Saved 17 frames to frames/id0_id17_0006\n",
      "Faces saved to faces/id16_id9_0007Saved 12 frames to frames/00216\n",
      "\n",
      "Face video saved to processed_videos/id16_id9_0007.mp4\n",
      "Saved 10 frames to frames/id17_id0_0004\n"
     ]
    },
    {
     "name": "stderr",
     "output_type": "stream",
     "text": [
      "OpenCV: FFMPEG: tag 0x5634504d/'MP4V' is not supported with codec id 12 and format 'mp4 / MP4 (MPEG-4 Part 14)'\n",
      "OpenCV: FFMPEG: fallback to use tag 0x7634706d/'mp4v'\n"
     ]
    },
    {
     "name": "stdout",
     "output_type": "stream",
     "text": [
      "Saved 17 frames to frames/id10_id7_0009\n",
      "Faces saved to faces/id10_id13_0005\n",
      "Face video saved to processed_videos/id10_id13_0005.mp4\n",
      "Saved 10 frames to frames/id16_id2_0000\n",
      "Faces saved to faces/id0_id16_0009\n"
     ]
    },
    {
     "name": "stderr",
     "output_type": "stream",
     "text": [
      "OpenCV: FFMPEG: tag 0x5634504d/'MP4V' is not supported with codec id 12 and format 'mp4 / MP4 (MPEG-4 Part 14)'\n",
      "OpenCV: FFMPEG: fallback to use tag 0x7634706d/'mp4v'\n",
      "OpenCV: FFMPEG: tag 0x5634504d/'MP4V' is not supported with codec id 12 and format 'mp4 / MP4 (MPEG-4 Part 14)'\n",
      "OpenCV: FFMPEG: fallback to use tag 0x7634706d/'mp4v'\n"
     ]
    },
    {
     "name": "stdout",
     "output_type": "stream",
     "text": [
      "Face video saved to processed_videos/id0_id16_0009.mp4\n",
      "Faces saved to faces/id16_id17_0011\n",
      "Face video saved to processed_videos/id16_id17_0011.mp4\n"
     ]
    },
    {
     "name": "stderr",
     "output_type": "stream",
     "text": [
      "OpenCV: FFMPEG: tag 0x5634504d/'MP4V' is not supported with codec id 12 and format 'mp4 / MP4 (MPEG-4 Part 14)'\n",
      "OpenCV: FFMPEG: fallback to use tag 0x7634706d/'mp4v'\n"
     ]
    },
    {
     "name": "stdout",
     "output_type": "stream",
     "text": [
      "Faces saved to faces/id0_id1_0007\n",
      "Saved 5 frames to frames/id10_id13_0006\n",
      "Face video saved to processed_videos/id0_id1_0007.mp4\n"
     ]
    },
    {
     "name": "stderr",
     "output_type": "stream",
     "text": [
      "OpenCV: FFMPEG: tag 0x5634504d/'MP4V' is not supported with codec id 12 and format 'mp4 / MP4 (MPEG-4 Part 14)'\n",
      "OpenCV: FFMPEG: fallback to use tag 0x7634706d/'mp4v'\n"
     ]
    },
    {
     "name": "stdout",
     "output_type": "stream",
     "text": [
      "Faces saved to faces/id16_id2_0003\n",
      "Face video saved to processed_videos/id16_id2_0003.mp4\n"
     ]
    },
    {
     "name": "stderr",
     "output_type": "stream",
     "text": [
      "OpenCV: FFMPEG: tag 0x5634504d/'MP4V' is not supported with codec id 12 and format 'mp4 / MP4 (MPEG-4 Part 14)'\n",
      "OpenCV: FFMPEG: fallback to use tag 0x7634706d/'mp4v'\n"
     ]
    },
    {
     "name": "stdout",
     "output_type": "stream",
     "text": [
      "Faces saved to faces/00245\n",
      "Face video saved to processed_videos/00245.mp4\n"
     ]
    },
    {
     "name": "stderr",
     "output_type": "stream",
     "text": [
      "OpenCV: FFMPEG: tag 0x5634504d/'MP4V' is not supported with codec id 12 and format 'mp4 / MP4 (MPEG-4 Part 14)'\n",
      "OpenCV: FFMPEG: fallback to use tag 0x7634706d/'mp4v'\n"
     ]
    },
    {
     "name": "stdout",
     "output_type": "stream",
     "text": [
      "Saved 10 frames to frames/id16_id9_0009\n",
      "Faces saved to faces/id16_id17_0004\n",
      "Face video saved to processed_videos/id16_id17_0004.mp4\n",
      "Saved 14 frames to frames/00221\n"
     ]
    },
    {
     "name": "stderr",
     "output_type": "stream",
     "text": [
      "OpenCV: FFMPEG: tag 0x5634504d/'MP4V' is not supported with codec id 12 and format 'mp4 / MP4 (MPEG-4 Part 14)'\n",
      "OpenCV: FFMPEG: fallback to use tag 0x7634706d/'mp4v'\n"
     ]
    },
    {
     "name": "stdout",
     "output_type": "stream",
     "text": [
      "Faces saved to faces/id16_id3_0005\n",
      "Face video saved to processed_videos/id16_id3_0005.mp4\n",
      "Faces saved to faces/id16_id6_0002\n"
     ]
    },
    {
     "name": "stderr",
     "output_type": "stream",
     "text": [
      "OpenCV: FFMPEG: tag 0x5634504d/'MP4V' is not supported with codec id 12 and format 'mp4 / MP4 (MPEG-4 Part 14)'\n",
      "OpenCV: FFMPEG: fallback to use tag 0x7634706d/'mp4v'\n"
     ]
    },
    {
     "name": "stdout",
     "output_type": "stream",
     "text": [
      "Face video saved to processed_videos/id16_id6_0002.mp4\n"
     ]
    },
    {
     "name": "stderr",
     "output_type": "stream",
     "text": [
      "OpenCV: FFMPEG: tag 0x5634504d/'MP4V' is not supported with codec id 12 and format 'mp4 / MP4 (MPEG-4 Part 14)'\n",
      "OpenCV: FFMPEG: fallback to use tag 0x7634706d/'mp4v'\n"
     ]
    },
    {
     "name": "stdout",
     "output_type": "stream",
     "text": [
      "Saved 10 frames to frames/id16_id17_0012\n",
      "Faces saved to faces/id0_id9_0005\n",
      "Face video saved to processed_videos/id0_id9_0005.mp4Saved 15 frames to frames/id0_id17_0000\n",
      "\n"
     ]
    },
    {
     "name": "stderr",
     "output_type": "stream",
     "text": [
      "OpenCV: FFMPEG: tag 0x5634504d/'MP4V' is not supported with codec id 12 and format 'mp4 / MP4 (MPEG-4 Part 14)'\n",
      "OpenCV: FFMPEG: fallback to use tag 0x7634706d/'mp4v'\n"
     ]
    },
    {
     "name": "stdout",
     "output_type": "stream",
     "text": [
      "Saved 7 frames to frames/id16_id3_0006\n",
      "Saved 13 frames to frames/id16_id2_0004\n",
      "Saved 11 frames to frames/id16_id17_0005\n",
      "Faces saved to faces/00235\n",
      "Face video saved to processed_videos/00235.mp4\n",
      "Saved 10 frames to frames/id16_id6_0003\n"
     ]
    },
    {
     "name": "stderr",
     "output_type": "stream",
     "text": [
      "OpenCV: FFMPEG: tag 0x5634504d/'MP4V' is not supported with codec id 12 and format 'mp4 / MP4 (MPEG-4 Part 14)'\n",
      "OpenCV: FFMPEG: fallback to use tag 0x7634706d/'mp4v'\n"
     ]
    },
    {
     "name": "stdout",
     "output_type": "stream",
     "text": [
      "Saved 17 frames to frames/id0_id1_0009Faces saved to faces/id0_id2_0004\n",
      "\n",
      "Saved 15 frames to frames/00246Face video saved to processed_videos/id0_id2_0004.mp4\n",
      "\n"
     ]
    },
    {
     "name": "stderr",
     "output_type": "stream",
     "text": [
      "OpenCV: FFMPEG: tag 0x5634504d/'MP4V' is not supported with codec id 12 and format 'mp4 / MP4 (MPEG-4 Part 14)'\n",
      "OpenCV: FFMPEG: fallback to use tag 0x7634706d/'mp4v'\n"
     ]
    },
    {
     "name": "stdout",
     "output_type": "stream",
     "text": [
      "Faces saved to faces/id11_id7_0003\n",
      "Face video saved to processed_videos/id11_id7_0003.mp4"
     ]
    },
    {
     "name": "stderr",
     "output_type": "stream",
     "text": [
      "OpenCV: FFMPEG: tag 0x5634504d/'MP4V' is not supported with codec id 12 and format 'mp4 / MP4 (MPEG-4 Part 14)'\n",
      "OpenCV: FFMPEG: fallback to use tag 0x7634706d/'mp4v'\n"
     ]
    },
    {
     "name": "stdout",
     "output_type": "stream",
     "text": [
      "\n",
      "Faces saved to faces/id13_id7_0005\n",
      "Faces saved to faces/id16_id9_0000Face video saved to processed_videos/id13_id7_0005.mp4\n",
      "Face video saved to processed_videos/id16_id9_0000.mp4\n",
      "\n",
      "Faces saved to faces/00191\n"
     ]
    },
    {
     "name": "stderr",
     "output_type": "stream",
     "text": [
      "OpenCV: FFMPEG: tag 0x5634504d/'MP4V' is not supported with codec id 12 and format 'mp4 / MP4 (MPEG-4 Part 14)'\n",
      "OpenCV: FFMPEG: fallback to use tag 0x7634706d/'mp4v'\n",
      "OpenCV: FFMPEG: tag 0x5634504d/'MP4V' is not supported with codec id 12 and format 'mp4 / MP4 (MPEG-4 Part 14)'\n",
      "OpenCV: FFMPEG: fallback to use tag 0x7634706d/'mp4v'\n"
     ]
    },
    {
     "name": "stdout",
     "output_type": "stream",
     "text": [
      "Face video saved to processed_videos/00191.mp4\n"
     ]
    },
    {
     "name": "stderr",
     "output_type": "stream",
     "text": [
      "OpenCV: FFMPEG: tag 0x5634504d/'MP4V' is not supported with codec id 12 and format 'mp4 / MP4 (MPEG-4 Part 14)'\n",
      "OpenCV: FFMPEG: fallback to use tag 0x7634706d/'mp4v'\n"
     ]
    },
    {
     "name": "stdout",
     "output_type": "stream",
     "text": [
      "Faces saved to faces/id16_id0_0009\n",
      "Face video saved to processed_videos/id16_id0_0009.mp4\n",
      "Faces saved to faces/id16_id9_0013"
     ]
    },
    {
     "name": "stderr",
     "output_type": "stream",
     "text": [
      "OpenCV: FFMPEG: tag 0x5634504d/'MP4V' is not supported with codec id 12 and format 'mp4 / MP4 (MPEG-4 Part 14)'\n",
      "OpenCV: FFMPEG: fallback to use tag 0x7634706d/'mp4v'\n"
     ]
    },
    {
     "name": "stdout",
     "output_type": "stream",
     "text": [
      "\n",
      "Faces saved to faces/id0_id2_0008\n",
      "Face video saved to processed_videos/id16_id9_0013.mp4\n",
      "Face video saved to processed_videos/id0_id2_0008.mp4\n"
     ]
    },
    {
     "name": "stderr",
     "output_type": "stream",
     "text": [
      "OpenCV: FFMPEG: tag 0x5634504d/'MP4V' is not supported with codec id 12 and format 'mp4 / MP4 (MPEG-4 Part 14)'\n",
      "OpenCV: FFMPEG: fallback to use tag 0x7634706d/'mp4v'\n",
      "OpenCV: FFMPEG: tag 0x5634504d/'MP4V' is not supported with codec id 12 and format 'mp4 / MP4 (MPEG-4 Part 14)'\n",
      "OpenCV: FFMPEG: fallback to use tag 0x7634706d/'mp4v'\n"
     ]
    },
    {
     "name": "stdout",
     "output_type": "stream",
     "text": [
      "Faces saved to faces/id0_id16_0005\n",
      "Faces saved to faces/00225\n",
      "Face video saved to processed_videos/id0_id16_0005.mp4Faces saved to faces/id16_id3_0012\n",
      "Faces saved to faces/id17_id0_0004\n"
     ]
    },
    {
     "name": "stderr",
     "output_type": "stream",
     "text": [
      "OpenCV: FFMPEG: tag 0x5634504d/'MP4V' is not supported with codec id 12 and format 'mp4 / MP4 (MPEG-4 Part 14)'\n",
      "OpenCV: FFMPEG: fallback to use tag 0x7634706d/'mp4v'\n",
      "OpenCV: FFMPEG: tag 0x5634504d/'MP4V' is not supported with codec id 12 and format 'mp4 / MP4 (MPEG-4 Part 14)'\n",
      "OpenCV: FFMPEG: fallback to use tag 0x7634706d/'mp4v'\n"
     ]
    },
    {
     "name": "stdout",
     "output_type": "stream",
     "text": [
      "Face video saved to processed_videos/00225.mp4\n",
      "Face video saved to processed_videos/id16_id3_0012.mp4\n",
      "Face video saved to processed_videos/id17_id0_0004.mp4\n",
      "\n"
     ]
    },
    {
     "name": "stderr",
     "output_type": "stream",
     "text": [
      "OpenCV: FFMPEG: tag 0x5634504d/'MP4V' is not supported with codec id 12 and format 'mp4 / MP4 (MPEG-4 Part 14)'\n",
      "OpenCV: FFMPEG: fallback to use tag 0x7634706d/'mp4v'\n",
      "OpenCV: FFMPEG: tag 0x5634504d/'MP4V' is not supported with codec id 12 and format 'mp4 / MP4 (MPEG-4 Part 14)'\n",
      "OpenCV: FFMPEG: fallback to use tag 0x7634706d/'mp4v'\n"
     ]
    },
    {
     "name": "stdout",
     "output_type": "stream",
     "text": [
      "Faces saved to faces/id10_id13_0002\n",
      "Faces saved to faces/id10_id13_0006\n",
      "Saved 17 frames to frames/id0_id9_0006Face video saved to processed_videos/id10_id13_0002.mp4\n",
      "\n",
      "Face video saved to processed_videos/id10_id13_0006.mp4\n"
     ]
    },
    {
     "name": "stderr",
     "output_type": "stream",
     "text": [
      "OpenCV: FFMPEG: tag 0x5634504d/'MP4V' is not supported with codec id 12 and format 'mp4 / MP4 (MPEG-4 Part 14)'\n",
      "OpenCV: FFMPEG: fallback to use tag 0x7634706d/'mp4v'\n",
      "OpenCV: FFMPEG: tag 0x5634504d/'MP4V' is not supported with codec id 12 and format 'mp4 / MP4 (MPEG-4 Part 14)'\n",
      "OpenCV: FFMPEG: fallback to use tag 0x7634706d/'mp4v'\n"
     ]
    },
    {
     "name": "stdout",
     "output_type": "stream",
     "text": [
      "Faces saved to faces/00196Saved 11 frames to frames/id11_id7_0004\n",
      "\n",
      "Saved 15 frames to frames/00236\n",
      "Face video saved to processed_videos/00196.mp4\n",
      "Saved 10 frames to frames/id17_id16_0000"
     ]
    },
    {
     "name": "stderr",
     "output_type": "stream",
     "text": [
      "OpenCV: FFMPEG: tag 0x5634504d/'MP4V' is not supported with codec id 12 and format 'mp4 / MP4 (MPEG-4 Part 14)'\n",
      "OpenCV: FFMPEG: fallback to use tag 0x7634706d/'mp4v'\n"
     ]
    },
    {
     "name": "stdout",
     "output_type": "stream",
     "text": [
      "\n",
      "Saved 10 frames to frames/id16_id9_0001\n",
      "Saved 15 frames to frames/id0_id2_0005\n",
      "Saved 10 frames to frames/id17_id0_0000\n",
      "Faces saved to faces/00176Faces saved to faces/id11_id7_0008\n",
      "\n",
      "Face video saved to processed_videos/00176.mp4\n",
      "Face video saved to processed_videos/id11_id7_0008.mp4\n"
     ]
    },
    {
     "name": "stderr",
     "output_type": "stream",
     "text": [
      "OpenCV: FFMPEG: tag 0x5634504d/'MP4V' is not supported with codec id 12 and format 'mp4 / MP4 (MPEG-4 Part 14)'\n",
      "OpenCV: FFMPEG: fallback to use tag 0x7634706d/'mp4v'\n",
      "OpenCV: FFMPEG: tag 0x5634504d/'MP4V' is not supported with codec id 12 and format 'mp4 / MP4 (MPEG-4 Part 14)'\n",
      "OpenCV: FFMPEG: fallback to use tag 0x7634706d/'mp4v'\n"
     ]
    },
    {
     "name": "stdout",
     "output_type": "stream",
     "text": [
      "Saved 10 frames to frames/id16_id3_0013\n",
      "Saved 10 frames to frames/id16_id0_0010\n",
      "Faces saved to faces/id10_id12_0004\n",
      "Face video saved to processed_videos/id10_id12_0004.mp4\n"
     ]
    },
    {
     "name": "stderr",
     "output_type": "stream",
     "text": [
      "OpenCV: FFMPEG: tag 0x5634504d/'MP4V' is not supported with codec id 12 and format 'mp4 / MP4 (MPEG-4 Part 14)'\n",
      "OpenCV: FFMPEG: fallback to use tag 0x7634706d/'mp4v'\n"
     ]
    },
    {
     "name": "stdout",
     "output_type": "stream",
     "text": [
      "Saved 15 frames to frames/id13_id7_0007\n",
      "Faces saved to faces/id16_id3_0001Saved 10 frames to frames/id17_id1_0001\n",
      "Face video saved to processed_videos/id16_id3_0001.mp4\n",
      "\n",
      "Saved 10 frames to frames/id17_id0_0005Faces saved to faces/id10_id11_0002\n"
     ]
    },
    {
     "name": "stderr",
     "output_type": "stream",
     "text": [
      "OpenCV: FFMPEG: tag 0x5634504d/'MP4V' is not supported with codec id 12 and format 'mp4 / MP4 (MPEG-4 Part 14)'\n",
      "OpenCV: FFMPEG: fallback to use tag 0x7634706d/'mp4v'\n",
      "OpenCV: FFMPEG: tag 0x5634504d/'MP4V' is not supported with codec id 12 and format 'mp4 / MP4 (MPEG-4 Part 14)'\n",
      "OpenCV: FFMPEG: fallback to use tag 0x7634706d/'mp4v'\n"
     ]
    },
    {
     "name": "stdout",
     "output_type": "stream",
     "text": [
      "\n",
      "Face video saved to processed_videos/id10_id11_0002.mp4Saved 10 frames to frames/id17_id16_0005\n",
      "\n",
      "Faces saved to faces/id16_id1_0002\n",
      "Face video saved to processed_videos/id16_id1_0002.mp4Faces saved to faces/id16_id2_0010\n",
      "Faces saved to faces/id0_id3_0008\n",
      "Saved 6 frames to frames/id17_id1_0006\n"
     ]
    },
    {
     "name": "stderr",
     "output_type": "stream",
     "text": [
      "OpenCV: FFMPEG: tag 0x5634504d/'MP4V' is not supported with codec id 12 and format 'mp4 / MP4 (MPEG-4 Part 14)'\n",
      "OpenCV: FFMPEG: fallback to use tag 0x7634706d/'mp4v'\n",
      "OpenCV: FFMPEG: tag 0x5634504d/'MP4V' is not supported with codec id 12 and format 'mp4 / MP4 (MPEG-4 Part 14)'\n",
      "OpenCV: FFMPEG: fallback to use tag 0x7634706d/'mp4v'\n"
     ]
    },
    {
     "name": "stdout",
     "output_type": "stream",
     "text": [
      "Face video saved to processed_videos/id16_id2_0010.mp4\n",
      "Face video saved to processed_videos/id0_id3_0008.mp4\n",
      "\n"
     ]
    },
    {
     "name": "stderr",
     "output_type": "stream",
     "text": [
      "OpenCV: FFMPEG: tag 0x5634504d/'MP4V' is not supported with codec id 12 and format 'mp4 / MP4 (MPEG-4 Part 14)'\n",
      "OpenCV: FFMPEG: fallback to use tag 0x7634706d/'mp4v'\n"
     ]
    },
    {
     "name": "stdout",
     "output_type": "stream",
     "text": [
      "Saved 15 frames to frames/00226\n",
      "Saved 17 frames to frames/id0_id2_0009\n",
      "Saved 17 frames to frames/id0_id16_0006\n",
      "Faces saved to faces/id13_id7_0011Faces saved to faces/id13_id10_0001\n",
      "\n",
      "Face video saved to processed_videos/id13_id7_0011.mp4Face video saved to processed_videos/id13_id10_0001.mp4\n",
      "\n",
      "Saved 10 frames to frames/id10_id12_0005Saved 16 frames to frames/id10_id13_0007\n",
      "\n"
     ]
    },
    {
     "name": "stderr",
     "output_type": "stream",
     "text": [
      "OpenCV: FFMPEG: tag 0x5634504d/'MP4V' is not supported with codec id 12 and format 'mp4 / MP4 (MPEG-4 Part 14)'\n",
      "OpenCV: FFMPEG: fallback to use tag 0x7634706d/'mp4v'\n",
      "OpenCV: FFMPEG: tag 0x5634504d/'MP4V' is not supported with codec id 12 and format 'mp4 / MP4 (MPEG-4 Part 14)'\n",
      "OpenCV: FFMPEG: fallback to use tag 0x7634706d/'mp4v'\n"
     ]
    },
    {
     "name": "stdout",
     "output_type": "stream",
     "text": [
      "Saved 13 frames to frames/id11_id7_0009\n",
      "Saved 9 frames to frames/id16_id2_0011\n",
      "Faces saved to faces/id16_id17_0001\n",
      "Face video saved to processed_videos/id16_id17_0001.mp4Saved 12 frames to frames/id16_id3_0002\n",
      "\n"
     ]
    },
    {
     "name": "stderr",
     "output_type": "stream",
     "text": [
      "OpenCV: FFMPEG: tag 0x5634504d/'MP4V' is not supported with codec id 12 and format 'mp4 / MP4 (MPEG-4 Part 14)'\n",
      "OpenCV: FFMPEG: fallback to use tag 0x7634706d/'mp4v'\n"
     ]
    },
    {
     "name": "stdout",
     "output_type": "stream",
     "text": [
      "Saved 11 frames to frames/id10_id11_0003\n",
      "Faces saved to faces/00230\n",
      "Face video saved to processed_videos/00230.mp4\n"
     ]
    },
    {
     "name": "stderr",
     "output_type": "stream",
     "text": [
      "OpenCV: FFMPEG: tag 0x5634504d/'MP4V' is not supported with codec id 12 and format 'mp4 / MP4 (MPEG-4 Part 14)'\n",
      "OpenCV: FFMPEG: fallback to use tag 0x7634706d/'mp4v'\n"
     ]
    },
    {
     "name": "stdout",
     "output_type": "stream",
     "text": [
      "Faces saved to faces/00240Saved 10 frames to frames/id16_id1_0003\n",
      "\n",
      "Face video saved to processed_videos/00240.mp4\n"
     ]
    },
    {
     "name": "stderr",
     "output_type": "stream",
     "text": [
      "OpenCV: FFMPEG: tag 0x5634504d/'MP4V' is not supported with codec id 12 and format 'mp4 / MP4 (MPEG-4 Part 14)'\n",
      "OpenCV: FFMPEG: fallback to use tag 0x7634706d/'mp4v'\n"
     ]
    },
    {
     "name": "stdout",
     "output_type": "stream",
     "text": [
      "Faces saved to faces/id16_id0_0003\n",
      "Face video saved to processed_videos/id16_id0_0003.mp4\n",
      "Faces saved to faces/id12_id10_0004"
     ]
    },
    {
     "name": "stderr",
     "output_type": "stream",
     "text": [
      "OpenCV: FFMPEG: tag 0x5634504d/'MP4V' is not supported with codec id 12 and format 'mp4 / MP4 (MPEG-4 Part 14)'\n",
      "OpenCV: FFMPEG: fallback to use tag 0x7634706d/'mp4v'\n"
     ]
    },
    {
     "name": "stdout",
     "output_type": "stream",
     "text": [
      "\n",
      "Face video saved to processed_videos/id12_id10_0004.mp4"
     ]
    },
    {
     "name": "stderr",
     "output_type": "stream",
     "text": [
      "OpenCV: FFMPEG: tag 0x5634504d/'MP4V' is not supported with codec id 12 and format 'mp4 / MP4 (MPEG-4 Part 14)'\n",
      "OpenCV: FFMPEG: fallback to use tag 0x7634706d/'mp4v'\n"
     ]
    },
    {
     "name": "stdout",
     "output_type": "stream",
     "text": [
      "\n",
      "Faces saved to faces/id0_id6_0000\n",
      "Face video saved to processed_videos/id0_id6_0000.mp4\n",
      "Faces saved to faces/id0_id3_0004"
     ]
    },
    {
     "name": "stderr",
     "output_type": "stream",
     "text": [
      "OpenCV: FFMPEG: tag 0x5634504d/'MP4V' is not supported with codec id 12 and format 'mp4 / MP4 (MPEG-4 Part 14)'\n",
      "OpenCV: FFMPEG: fallback to use tag 0x7634706d/'mp4v'\n"
     ]
    },
    {
     "name": "stdout",
     "output_type": "stream",
     "text": [
      "\n",
      "Face video saved to processed_videos/id0_id3_0004.mp4\n",
      "Saved 11 frames to frames/id17_id2_0002"
     ]
    },
    {
     "name": "stderr",
     "output_type": "stream",
     "text": [
      "OpenCV: FFMPEG: tag 0x5634504d/'MP4V' is not supported with codec id 12 and format 'mp4 / MP4 (MPEG-4 Part 14)'\n",
      "OpenCV: FFMPEG: fallback to use tag 0x7634706d/'mp4v'\n"
     ]
    },
    {
     "name": "stdout",
     "output_type": "stream",
     "text": [
      "\n",
      "Faces saved to faces/00211\n",
      "Face video saved to processed_videos/00211.mp4\n",
      "Saved 17 frames to frames/id0_id3_0009Faces saved to faces/id0_id4_0004\n",
      "\n"
     ]
    },
    {
     "name": "stderr",
     "output_type": "stream",
     "text": [
      "OpenCV: FFMPEG: tag 0x5634504d/'MP4V' is not supported with codec id 12 and format 'mp4 / MP4 (MPEG-4 Part 14)'\n",
      "OpenCV: FFMPEG: fallback to use tag 0x7634706d/'mp4v'\n",
      "OpenCV: FFMPEG: tag 0x5634504d/'MP4V' is not supported with codec id 12 and format 'mp4 / MP4 (MPEG-4 Part 14)'\n",
      "OpenCV: FFMPEG: fallback to use tag 0x7634706d/'mp4v'\n"
     ]
    },
    {
     "name": "stdout",
     "output_type": "stream",
     "text": [
      "Saved 11 frames to frames/id13_id10_0003\n",
      "Face video saved to processed_videos/id0_id4_0004.mp4\n",
      "Faces saved to faces/id16_id6_0009\n",
      "Face video saved to processed_videos/id16_id6_0009.mp4\n"
     ]
    },
    {
     "name": "stderr",
     "output_type": "stream",
     "text": [
      "OpenCV: FFMPEG: tag 0x5634504d/'MP4V' is not supported with codec id 12 and format 'mp4 / MP4 (MPEG-4 Part 14)'\n",
      "OpenCV: FFMPEG: fallback to use tag 0x7634706d/'mp4v'\n"
     ]
    },
    {
     "name": "stdout",
     "output_type": "stream",
     "text": [
      "Faces saved to faces/id13_id10_0008Faces saved to faces/id16_id1_0007\n",
      "\n",
      "Face video saved to processed_videos/id13_id10_0008.mp4Face video saved to processed_videos/id16_id1_0007.mp4\n",
      "\n"
     ]
    },
    {
     "name": "stderr",
     "output_type": "stream",
     "text": [
      "OpenCV: FFMPEG: tag 0x5634504d/'MP4V' is not supported with codec id 12 and format 'mp4 / MP4 (MPEG-4 Part 14)'\n",
      "OpenCV: FFMPEG: fallback to use tag 0x7634706d/'mp4v'\n",
      "OpenCV: FFMPEG: tag 0x5634504d/'MP4V' is not supported with codec id 12 and format 'mp4 / MP4 (MPEG-4 Part 14)'\n",
      "OpenCV: FFMPEG: fallback to use tag 0x7634706d/'mp4v'\n"
     ]
    },
    {
     "name": "stdout",
     "output_type": "stream",
     "text": [
      "Faces saved to faces/id13_id10_0015Saved 17 frames to frames/id13_id7_0012\n",
      "\n",
      "Face video saved to processed_videos/id13_id10_0015.mp4\n"
     ]
    },
    {
     "name": "stderr",
     "output_type": "stream",
     "text": [
      "OpenCV: FFMPEG: tag 0x5634504d/'MP4V' is not supported with codec id 12 and format 'mp4 / MP4 (MPEG-4 Part 14)'\n",
      "OpenCV: FFMPEG: fallback to use tag 0x7634706d/'mp4v'\n"
     ]
    },
    {
     "name": "stdout",
     "output_type": "stream",
     "text": [
      "Saved 10 frames to frames/id0_id6_0001\n",
      "Saved 10 frames to frames/id12_id10_0005\n",
      "Saved 15 frames to frames/00231\n",
      "Saved 9 frames to frames/id17_id2_0007\n",
      "Faces saved to faces/id0_id6_0009\n",
      "Face video saved to processed_videos/id0_id6_0009.mp4Saved 13 frames to frames/id16_id0_0004\n",
      "Saved 14 frames to frames/00241\n",
      "\n"
     ]
    },
    {
     "name": "stderr",
     "output_type": "stream",
     "text": [
      "OpenCV: FFMPEG: tag 0x5634504d/'MP4V' is not supported with codec id 12 and format 'mp4 / MP4 (MPEG-4 Part 14)'\n",
      "OpenCV: FFMPEG: fallback to use tag 0x7634706d/'mp4v'\n"
     ]
    },
    {
     "name": "stdout",
     "output_type": "stream",
     "text": [
      "Faces saved to faces/00206\n",
      "Faces saved to faces/id0_id1_0002\n",
      "Face video saved to processed_videos/id0_id1_0002.mp4Face video saved to processed_videos/00206.mp4\n"
     ]
    },
    {
     "name": "stderr",
     "output_type": "stream",
     "text": [
      "OpenCV: FFMPEG: tag 0x5634504d/'MP4V' is not supported with codec id 12 and format 'mp4 / MP4 (MPEG-4 Part 14)'\n",
      "OpenCV: FFMPEG: fallback to use tag 0x7634706d/'mp4v'\n",
      "OpenCV: FFMPEG: tag 0x5634504d/'MP4V' is not supported with codec id 12 and format 'mp4 / MP4 (MPEG-4 Part 14)'\n",
      "OpenCV: FFMPEG: fallback to use tag 0x7634706d/'mp4v'\n"
     ]
    },
    {
     "name": "stdout",
     "output_type": "stream",
     "text": [
      "\n",
      "Faces saved to faces/00186\n",
      "Face video saved to processed_videos/00186.mp4\n"
     ]
    },
    {
     "name": "stderr",
     "output_type": "stream",
     "text": [
      "OpenCV: FFMPEG: tag 0x5634504d/'MP4V' is not supported with codec id 12 and format 'mp4 / MP4 (MPEG-4 Part 14)'\n",
      "OpenCV: FFMPEG: fallback to use tag 0x7634706d/'mp4v'\n"
     ]
    },
    {
     "name": "stdout",
     "output_type": "stream",
     "text": [
      "Saved 10 frames to frames/id16_id6_0010\n",
      "Faces saved to faces/id16_id3_0006\n",
      "Face video saved to processed_videos/id16_id3_0006.mp4\n",
      "Saved 15 frames to frames/id0_id3_0005"
     ]
    },
    {
     "name": "stderr",
     "output_type": "stream",
     "text": [
      "OpenCV: FFMPEG: tag 0x5634504d/'MP4V' is not supported with codec id 12 and format 'mp4 / MP4 (MPEG-4 Part 14)'\n",
      "OpenCV: FFMPEG: fallback to use tag 0x7634706d/'mp4v'\n"
     ]
    },
    {
     "name": "stdout",
     "output_type": "stream",
     "text": [
      "\n",
      "Faces saved to faces/id16_id9_0004\n",
      "Saved 10 frames to frames/id16_id1_0009\n",
      "Face video saved to processed_videos/id16_id9_0004.mp4\n"
     ]
    },
    {
     "name": "stderr",
     "output_type": "stream",
     "text": [
      "OpenCV: FFMPEG: tag 0x5634504d/'MP4V' is not supported with codec id 12 and format 'mp4 / MP4 (MPEG-4 Part 14)'\n",
      "OpenCV: FFMPEG: fallback to use tag 0x7634706d/'mp4v'\n"
     ]
    },
    {
     "name": "stdout",
     "output_type": "stream",
     "text": [
      "Saved 8 frames to frames/id17_id3_0003Faces saved to faces/id10_id11_0007\n",
      "\n",
      "Saved 15 frames to frames/id0_id4_0005\n",
      "Face video saved to processed_videos/id10_id11_0007.mp4\n",
      "Saved 10 frames to frames/id13_id7_0000\n"
     ]
    },
    {
     "name": "stderr",
     "output_type": "stream",
     "text": [
      "OpenCV: FFMPEG: tag 0x5634504d/'MP4V' is not supported with codec id 12 and format 'mp4 / MP4 (MPEG-4 Part 14)'\n",
      "OpenCV: FFMPEG: fallback to use tag 0x7634706d/'mp4v'\n"
     ]
    },
    {
     "name": "stdout",
     "output_type": "stream",
     "text": [
      "Faces saved to faces/id16_id2_0000\n",
      "Face video saved to processed_videos/id16_id2_0000.mp4\n",
      "Saved 15 frames to frames/id13_id10_0011\n"
     ]
    },
    {
     "name": "stderr",
     "output_type": "stream",
     "text": [
      "OpenCV: FFMPEG: tag 0x5634504d/'MP4V' is not supported with codec id 12 and format 'mp4 / MP4 (MPEG-4 Part 14)'\n",
      "OpenCV: FFMPEG: fallback to use tag 0x7634706d/'mp4v'\n"
     ]
    },
    {
     "name": "stdout",
     "output_type": "stream",
     "text": [
      "Saved 9 frames to frames/id17_id3_0009\n",
      "Saved 9 frames to frames/id16_id3_0007\n",
      "Faces saved to faces/id12_id7_0002\n",
      "Face video saved to processed_videos/id12_id7_0002.mp4\n"
     ]
    },
    {
     "name": "stderr",
     "output_type": "stream",
     "text": [
      "OpenCV: FFMPEG: tag 0x5634504d/'MP4V' is not supported with codec id 12 and format 'mp4 / MP4 (MPEG-4 Part 14)'\n",
      "OpenCV: FFMPEG: fallback to use tag 0x7634706d/'mp4v'\n"
     ]
    },
    {
     "name": "stdout",
     "output_type": "stream",
     "text": [
      "Faces saved to faces/00216\n",
      "Saved 12 frames to frames/id10_id11_0008Face video saved to processed_videos/00216.mp4\n",
      "\n"
     ]
    },
    {
     "name": "stderr",
     "output_type": "stream",
     "text": [
      "OpenCV: FFMPEG: tag 0x5634504d/'MP4V' is not supported with codec id 12 and format 'mp4 / MP4 (MPEG-4 Part 14)'\n",
      "OpenCV: FFMPEG: fallback to use tag 0x7634706d/'mp4v'\n"
     ]
    },
    {
     "name": "stdout",
     "output_type": "stream",
     "text": [
      "Saved 10 frames to frames/id17_id6_0004Faces saved to faces/id16_id9_0009\n",
      "Faces saved to faces/id17_id16_0000\n",
      "\n",
      "Face video saved to processed_videos/id17_id16_0000.mp4Saved 15 frames to frames/id0_id9_0000\n",
      "Face video saved to processed_videos/id16_id9_0009.mp4\n",
      "\n"
     ]
    },
    {
     "name": "stderr",
     "output_type": "stream",
     "text": [
      "OpenCV: FFMPEG: tag 0x5634504d/'MP4V' is not supported with codec id 12 and format 'mp4 / MP4 (MPEG-4 Part 14)'\n",
      "OpenCV: FFMPEG: fallback to use tag 0x7634706d/'mp4v'\n",
      "OpenCV: FFMPEG: tag 0x5634504d/'MP4V' is not supported with codec id 12 and format 'mp4 / MP4 (MPEG-4 Part 14)'\n",
      "OpenCV: FFMPEG: fallback to use tag 0x7634706d/'mp4v'\n"
     ]
    },
    {
     "name": "stdout",
     "output_type": "stream",
     "text": [
      "Saved 11 frames to frames/id16_id9_0005Faces saved to faces/id0_id16_0000\n",
      "Saved 17 frames to frames/id0_id1_0003\n",
      "Faces saved to faces/id16_id2_0011\n",
      "Face video saved to processed_videos/id0_id16_0000.mp4\n",
      "\n",
      "Face video saved to processed_videos/id16_id2_0011.mp4\n"
     ]
    },
    {
     "name": "stderr",
     "output_type": "stream",
     "text": [
      "OpenCV: FFMPEG: tag 0x5634504d/'MP4V' is not supported with codec id 12 and format 'mp4 / MP4 (MPEG-4 Part 14)'\n",
      "OpenCV: FFMPEG: fallback to use tag 0x7634706d/'mp4v'\n",
      "OpenCV: FFMPEG: tag 0x5634504d/'MP4V' is not supported with codec id 12 and format 'mp4 / MP4 (MPEG-4 Part 14)'\n",
      "OpenCV: FFMPEG: fallback to use tag 0x7634706d/'mp4v'\n"
     ]
    },
    {
     "name": "stdout",
     "output_type": "stream",
     "text": [
      "Faces saved to faces/00201\n",
      "Faces saved to faces/id17_id0_0000\n",
      "Faces saved to faces/id17_id1_0001Face video saved to processed_videos/id17_id0_0000.mp4Face video saved to processed_videos/00201.mp4\n",
      "\n",
      "\n"
     ]
    },
    {
     "name": "stderr",
     "output_type": "stream",
     "text": [
      "OpenCV: FFMPEG: tag 0x5634504d/'MP4V' is not supported with codec id 12 and format 'mp4 / MP4 (MPEG-4 Part 14)'\n",
      "OpenCV: FFMPEG: fallback to use tag 0x7634706d/'mp4v'\n",
      "OpenCV: FFMPEG: tag 0x5634504d/'MP4V' is not supported with codec id 12 and format 'mp4 / MP4 (MPEG-4 Part 14)'\n",
      "OpenCV: FFMPEG: fallback to use tag 0x7634706d/'mp4v'\n",
      "OpenCV: FFMPEG: tag 0x5634504d/'MP4V' is not supported with codec id 12 and format 'mp4 / MP4 (MPEG-4 Part 14)'\n",
      "OpenCV: FFMPEG: fallback to use tag 0x7634706d/'mp4v'\n"
     ]
    },
    {
     "name": "stdout",
     "output_type": "stream",
     "text": [
      "Face video saved to processed_videos/id17_id1_0001.mp4\n",
      "Faces saved to faces/id17_id1_0006\n",
      "Face video saved to processed_videos/id17_id1_0006.mp4\n"
     ]
    },
    {
     "name": "stderr",
     "output_type": "stream",
     "text": [
      "OpenCV: FFMPEG: tag 0x5634504d/'MP4V' is not supported with codec id 12 and format 'mp4 / MP4 (MPEG-4 Part 14)'\n",
      "OpenCV: FFMPEG: fallback to use tag 0x7634706d/'mp4v'\n"
     ]
    },
    {
     "name": "stdout",
     "output_type": "stream",
     "text": [
      "Faces saved to faces/id16_id3_0013\n",
      "Saved 10 frames to frames/id17_id9_0000\n",
      "Face video saved to processed_videos/id16_id3_0013.mp4\n"
     ]
    },
    {
     "name": "stderr",
     "output_type": "stream",
     "text": [
      "OpenCV: FFMPEG: tag 0x5634504d/'MP4V' is not supported with codec id 12 and format 'mp4 / MP4 (MPEG-4 Part 14)'\n",
      "OpenCV: FFMPEG: fallback to use tag 0x7634706d/'mp4v'\n"
     ]
    },
    {
     "name": "stdout",
     "output_type": "stream",
     "text": [
      "Saved 10 frames to frames/id17_id16_0001\n",
      "Saved 11 frames to frames/id12_id7_0004\n",
      "Faces saved to faces/id16_id17_0012\n",
      "Face video saved to processed_videos/id16_id17_0012.mp4\n"
     ]
    },
    {
     "name": "stderr",
     "output_type": "stream",
     "text": [
      "OpenCV: FFMPEG: tag 0x5634504d/'MP4V' is not supported with codec id 12 and format 'mp4 / MP4 (MPEG-4 Part 14)'\n",
      "OpenCV: FFMPEG: fallback to use tag 0x7634706d/'mp4v'\n"
     ]
    },
    {
     "name": "stdout",
     "output_type": "stream",
     "text": [
      "Saved 9 frames to frames/id1_id0_0001\n",
      "Saved 10 frames to frames/id17_id0_0001\n",
      "Saved 10 frames to frames/id0_id16_0001Saved 10 frames to frames/id16_id9_0010\n",
      "Saved 11 frames to frames/id17_id1_0002\n",
      "\n",
      "Saved 10 frames to frames/id17_id9_0005\n",
      "Saved 9 frames to frames/id17_id1_0007\n",
      "Faces saved to faces/id16_id6_0003\n",
      "Face video saved to processed_videos/id16_id6_0003.mp4\n"
     ]
    },
    {
     "name": "stderr",
     "output_type": "stream",
     "text": [
      "OpenCV: FFMPEG: tag 0x5634504d/'MP4V' is not supported with codec id 12 and format 'mp4 / MP4 (MPEG-4 Part 14)'\n",
      "OpenCV: FFMPEG: fallback to use tag 0x7634706d/'mp4v'\n"
     ]
    },
    {
     "name": "stdout",
     "output_type": "stream",
     "text": [
      "Saved 13 frames to frames/id1_id16_0002\n",
      "Saved 16 frames to frames/id1_id0_0006\n",
      "Faces saved to faces/id16_id17_0005\n",
      "Face video saved to processed_videos/id16_id17_0005.mp4\n"
     ]
    },
    {
     "name": "stderr",
     "output_type": "stream",
     "text": [
      "OpenCV: FFMPEG: tag 0x5634504d/'MP4V' is not supported with codec id 12 and format 'mp4 / MP4 (MPEG-4 Part 14)'\n",
      "OpenCV: FFMPEG: fallback to use tag 0x7634706d/'mp4v'\n"
     ]
    },
    {
     "name": "stdout",
     "output_type": "stream",
     "text": [
      "Faces saved to faces/id10_id7_0004\n",
      "Face video saved to processed_videos/id10_id7_0004.mp4\n"
     ]
    },
    {
     "name": "stderr",
     "output_type": "stream",
     "text": [
      "OpenCV: FFMPEG: tag 0x5634504d/'MP4V' is not supported with codec id 12 and format 'mp4 / MP4 (MPEG-4 Part 14)'\n",
      "OpenCV: FFMPEG: fallback to use tag 0x7634706d/'mp4v'\n"
     ]
    },
    {
     "name": "stdout",
     "output_type": "stream",
     "text": [
      "Faces saved to faces/00221\n",
      "Face video saved to processed_videos/00221.mp4\n"
     ]
    },
    {
     "name": "stderr",
     "output_type": "stream",
     "text": [
      "OpenCV: FFMPEG: tag 0x5634504d/'MP4V' is not supported with codec id 12 and format 'mp4 / MP4 (MPEG-4 Part 14)'\n",
      "OpenCV: FFMPEG: fallback to use tag 0x7634706d/'mp4v'\n"
     ]
    },
    {
     "name": "stdout",
     "output_type": "stream",
     "text": [
      "Faces saved to faces/id17_id2_0002\n",
      "Face video saved to processed_videos/id17_id2_0002.mp4Faces saved to faces/id17_id0_0005\n",
      "\n",
      "Face video saved to processed_videos/id17_id0_0005.mp4\n"
     ]
    },
    {
     "name": "stderr",
     "output_type": "stream",
     "text": [
      "OpenCV: FFMPEG: tag 0x5634504d/'MP4V' is not supported with codec id 12 and format 'mp4 / MP4 (MPEG-4 Part 14)'\n",
      "OpenCV: FFMPEG: fallback to use tag 0x7634706d/'mp4v'\n",
      "OpenCV: FFMPEG: tag 0x5634504d/'MP4V' is not supported with codec id 12 and format 'mp4 / MP4 (MPEG-4 Part 14)'\n",
      "OpenCV: FFMPEG: fallback to use tag 0x7634706d/'mp4v'\n"
     ]
    },
    {
     "name": "stdout",
     "output_type": "stream",
     "text": [
      "Saved 7 frames to frames/id16_id17_0006Faces saved to faces/id16_id9_0001\n",
      "\n",
      "Face video saved to processed_videos/id16_id9_0001.mp4\n",
      "Faces saved to faces/id17_id3_0003\n"
     ]
    },
    {
     "name": "stderr",
     "output_type": "stream",
     "text": [
      "OpenCV: FFMPEG: tag 0x5634504d/'MP4V' is not supported with codec id 12 and format 'mp4 / MP4 (MPEG-4 Part 14)'\n",
      "OpenCV: FFMPEG: fallback to use tag 0x7634706d/'mp4v'\n",
      "OpenCV: FFMPEG: tag 0x5634504d/'MP4V' is not supported with codec id 12 and format 'mp4 / MP4 (MPEG-4 Part 14)'\n",
      "OpenCV: FFMPEG: fallback to use tag 0x7634706d/'mp4v'\n"
     ]
    },
    {
     "name": "stdout",
     "output_type": "stream",
     "text": [
      "Face video saved to processed_videos/id17_id3_0003.mp4\n",
      "Saved 10 frames to frames/id1_id16_0007\n",
      "Saved 13 frames to frames/id16_id6_0004\n",
      "Saved 8 frames to frames/id17_id2_0003\n",
      "Faces saved to faces/id17_id16_0005\n",
      "Face video saved to processed_videos/id17_id16_0005.mp4\n"
     ]
    },
    {
     "name": "stderr",
     "output_type": "stream",
     "text": [
      "OpenCV: FFMPEG: tag 0x5634504d/'MP4V' is not supported with codec id 12 and format 'mp4 / MP4 (MPEG-4 Part 14)'\n",
      "OpenCV: FFMPEG: fallback to use tag 0x7634706d/'mp4v'\n"
     ]
    },
    {
     "name": "stdout",
     "output_type": "stream",
     "text": [
      "Saved 6 frames to frames/id17_id0_0006\n",
      "Faces saved to faces/id16_id0_0010\n",
      "Faces saved to faces/id17_id6_0004Saved 10 frames to frames/id17_id3_0004\n",
      "\n",
      "Face video saved to processed_videos/id16_id0_0010.mp4Face video saved to processed_videos/id17_id6_0004.mp4\n",
      "\n"
     ]
    },
    {
     "name": "stderr",
     "output_type": "stream",
     "text": [
      "OpenCV: FFMPEG: tag 0x5634504d/'MP4V' is not supported with codec id 12 and format 'mp4 / MP4 (MPEG-4 Part 14)'\n",
      "OpenCV: FFMPEG: fallback to use tag 0x7634706d/'mp4v'\n",
      "OpenCV: FFMPEG: tag 0x5634504d/'MP4V' is not supported with codec id 12 and format 'mp4 / MP4 (MPEG-4 Part 14)'\n",
      "OpenCV: FFMPEG: fallback to use tag 0x7634706d/'mp4v'\n"
     ]
    },
    {
     "name": "stdout",
     "output_type": "stream",
     "text": [
      "Faces saved to faces/id16_id2_0004\n",
      "Face video saved to processed_videos/id16_id2_0004.mp4\n"
     ]
    },
    {
     "name": "stderr",
     "output_type": "stream",
     "text": [
      "OpenCV: FFMPEG: tag 0x5634504d/'MP4V' is not supported with codec id 12 and format 'mp4 / MP4 (MPEG-4 Part 14)'\n",
      "OpenCV: FFMPEG: fallback to use tag 0x7634706d/'mp4v'\n"
     ]
    },
    {
     "name": "stdout",
     "output_type": "stream",
     "text": [
      "Saved 15 frames to frames/id1_id17_0003\n",
      "Faces saved to faces/id11_id7_0004\n",
      "Face video saved to processed_videos/id11_id7_0004.mp4\n",
      "Saved 13 frames to frames/id1_id17_0009"
     ]
    },
    {
     "name": "stderr",
     "output_type": "stream",
     "text": [
      "OpenCV: FFMPEG: tag 0x5634504d/'MP4V' is not supported with codec id 12 and format 'mp4 / MP4 (MPEG-4 Part 14)'\n",
      "OpenCV: FFMPEG: fallback to use tag 0x7634706d/'mp4v'\n"
     ]
    },
    {
     "name": "stdout",
     "output_type": "stream",
     "text": [
      "\n",
      "Faces saved to faces/id0_id17_0006\n",
      "Face video saved to processed_videos/id0_id17_0006.mp4\n",
      "Saved 6 frames to frames/id17_id16_0006\n"
     ]
    },
    {
     "name": "stderr",
     "output_type": "stream",
     "text": [
      "OpenCV: FFMPEG: tag 0x5634504d/'MP4V' is not supported with codec id 12 and format 'mp4 / MP4 (MPEG-4 Part 14)'\n",
      "OpenCV: FFMPEG: fallback to use tag 0x7634706d/'mp4v'\n"
     ]
    },
    {
     "name": "stdout",
     "output_type": "stream",
     "text": [
      "Saved 13 frames to frames/id1_id2_0004\n",
      "Saved 10 frames to frames/id17_id6_0005\n",
      "Faces saved to faces/id10_id7_0009\n",
      "Face video saved to processed_videos/id10_id7_0009.mp4\n"
     ]
    },
    {
     "name": "stderr",
     "output_type": "stream",
     "text": [
      "OpenCV: FFMPEG: tag 0x5634504d/'MP4V' is not supported with codec id 12 and format 'mp4 / MP4 (MPEG-4 Part 14)'\n",
      "OpenCV: FFMPEG: fallback to use tag 0x7634706d/'mp4v'\n"
     ]
    },
    {
     "name": "stdout",
     "output_type": "stream",
     "text": [
      "Saved 11 frames to frames/id16_id2_0005\n",
      "Saved 12 frames to frames/id1_id3_0000\n",
      "Faces saved to faces/id0_id17_0000\n",
      "Face video saved to processed_videos/id0_id17_0000.mp4\n"
     ]
    },
    {
     "name": "stderr",
     "output_type": "stream",
     "text": [
      "OpenCV: FFMPEG: tag 0x5634504d/'MP4V' is not supported with codec id 12 and format 'mp4 / MP4 (MPEG-4 Part 14)'\n",
      "OpenCV: FFMPEG: fallback to use tag 0x7634706d/'mp4v'\n"
     ]
    },
    {
     "name": "stdout",
     "output_type": "stream",
     "text": [
      "Faces saved to faces/00246\n",
      "Face video saved to processed_videos/00246.mp4\n"
     ]
    },
    {
     "name": "stderr",
     "output_type": "stream",
     "text": [
      "OpenCV: FFMPEG: tag 0x5634504d/'MP4V' is not supported with codec id 12 and format 'mp4 / MP4 (MPEG-4 Part 14)'\n",
      "OpenCV: FFMPEG: fallback to use tag 0x7634706d/'mp4v'\n"
     ]
    },
    {
     "name": "stdout",
     "output_type": "stream",
     "text": [
      "Faces saved to faces/id16_id1_0003\n",
      "Face video saved to processed_videos/id16_id1_0003.mp4\n",
      "Faces saved to faces/id1_id0_0001"
     ]
    },
    {
     "name": "stderr",
     "output_type": "stream",
     "text": [
      "OpenCV: FFMPEG: tag 0x5634504d/'MP4V' is not supported with codec id 12 and format 'mp4 / MP4 (MPEG-4 Part 14)'\n",
      "OpenCV: FFMPEG: fallback to use tag 0x7634706d/'mp4v'\n"
     ]
    },
    {
     "name": "stdout",
     "output_type": "stream",
     "text": [
      "\n",
      "Face video saved to processed_videos/id1_id0_0001.mp4Faces saved to faces/id10_id12_0005\n",
      "\n"
     ]
    },
    {
     "name": "stderr",
     "output_type": "stream",
     "text": [
      "OpenCV: FFMPEG: tag 0x5634504d/'MP4V' is not supported with codec id 12 and format 'mp4 / MP4 (MPEG-4 Part 14)'\n",
      "OpenCV: FFMPEG: fallback to use tag 0x7634706d/'mp4v'\n",
      "OpenCV: FFMPEG: tag 0x5634504d/'MP4V' is not supported with codec id 12 and format 'mp4 / MP4 (MPEG-4 Part 14)'\n",
      "OpenCV: FFMPEG: fallback to use tag 0x7634706d/'mp4v'\n"
     ]
    },
    {
     "name": "stdout",
     "output_type": "stream",
     "text": [
      "Face video saved to processed_videos/id10_id12_0005.mp4\n",
      "Saved 14 frames to frames/id1_id3_0005\n",
      "Faces saved to faces/id10_id11_0003\n",
      "Face video saved to processed_videos/id10_id11_0003.mp4\n",
      "Faces saved to faces/id17_id2_0007"
     ]
    },
    {
     "name": "stderr",
     "output_type": "stream",
     "text": [
      "OpenCV: FFMPEG: tag 0x5634504d/'MP4V' is not supported with codec id 12 and format 'mp4 / MP4 (MPEG-4 Part 14)'\n",
      "OpenCV: FFMPEG: fallback to use tag 0x7634706d/'mp4v'\n"
     ]
    },
    {
     "name": "stdout",
     "output_type": "stream",
     "text": [
      "\n",
      "Saved 9 frames to frames/id1_id4_0001\n",
      "Faces saved to faces/00236Face video saved to processed_videos/id17_id2_0007.mp4\n",
      "\n",
      "Saved 15 frames to frames/id0_id17_0007\n",
      "Face video saved to processed_videos/00236.mp4"
     ]
    },
    {
     "name": "stderr",
     "output_type": "stream",
     "text": [
      "OpenCV: FFMPEG: tag 0x5634504d/'MP4V' is not supported with codec id 12 and format 'mp4 / MP4 (MPEG-4 Part 14)'\n",
      "OpenCV: FFMPEG: fallback to use tag 0x7634706d/'mp4v'\n",
      "OpenCV: FFMPEG: tag 0x5634504d/'MP4V' is not supported with codec id 12 and format 'mp4 / MP4 (MPEG-4 Part 14)'\n",
      "OpenCV: FFMPEG: fallback to use tag 0x7634706d/'mp4v'\n"
     ]
    },
    {
     "name": "stdout",
     "output_type": "stream",
     "text": [
      "\n",
      "Faces saved to faces/id17_id16_0001\n",
      "Face video saved to processed_videos/id17_id16_0001.mp4\n"
     ]
    },
    {
     "name": "stderr",
     "output_type": "stream",
     "text": [
      "OpenCV: FFMPEG: tag 0x5634504d/'MP4V' is not supported with codec id 12 and format 'mp4 / MP4 (MPEG-4 Part 14)'\n",
      "OpenCV: FFMPEG: fallback to use tag 0x7634706d/'mp4v'\n"
     ]
    },
    {
     "name": "stdout",
     "output_type": "stream",
     "text": [
      "Saved 10 frames to frames/id0_id17_0001\n",
      "Faces saved to faces/id16_id3_0002\n",
      "Face video saved to processed_videos/id16_id3_0002.mp4\n",
      "Faces saved to faces/id17_id9_0000"
     ]
    },
    {
     "name": "stderr",
     "output_type": "stream",
     "text": [
      "OpenCV: FFMPEG: tag 0x5634504d/'MP4V' is not supported with codec id 12 and format 'mp4 / MP4 (MPEG-4 Part 14)'\n",
      "OpenCV: FFMPEG: fallback to use tag 0x7634706d/'mp4v'\n"
     ]
    },
    {
     "name": "stdout",
     "output_type": "stream",
     "text": [
      "Faces saved to faces/id17_id0_0001\n",
      "\n",
      "Face video saved to processed_videos/id17_id9_0000.mp4\n",
      "Face video saved to processed_videos/id17_id0_0001.mp4\n"
     ]
    },
    {
     "name": "stderr",
     "output_type": "stream",
     "text": [
      "OpenCV: FFMPEG: tag 0x5634504d/'MP4V' is not supported with codec id 12 and format 'mp4 / MP4 (MPEG-4 Part 14)'\n",
      "OpenCV: FFMPEG: fallback to use tag 0x7634706d/'mp4v'\n",
      "OpenCV: FFMPEG: tag 0x5634504d/'MP4V' is not supported with codec id 12 and format 'mp4 / MP4 (MPEG-4 Part 14)'\n",
      "OpenCV: FFMPEG: fallback to use tag 0x7634706d/'mp4v'\n"
     ]
    },
    {
     "name": "stdout",
     "output_type": "stream",
     "text": [
      "Faces saved to faces/id0_id6_0001\n",
      "Face video saved to processed_videos/id0_id6_0001.mp4Faces saved to faces/id10_id11_0008\n",
      "\n",
      "Face video saved to processed_videos/id10_id11_0008.mp4\n",
      "Saved 13 frames to frames/id1_id0_0002"
     ]
    },
    {
     "name": "stderr",
     "output_type": "stream",
     "text": [
      "OpenCV: FFMPEG: tag 0x5634504d/'MP4V' is not supported with codec id 12 and format 'mp4 / MP4 (MPEG-4 Part 14)'\n",
      "OpenCV: FFMPEG: fallback to use tag 0x7634706d/'mp4v'\n",
      "OpenCV: FFMPEG: tag 0x5634504d/'MP4V' is not supported with codec id 12 and format 'mp4 / MP4 (MPEG-4 Part 14)'\n",
      "OpenCV: FFMPEG: fallback to use tag 0x7634706d/'mp4v'\n"
     ]
    },
    {
     "name": "stdout",
     "output_type": "stream",
     "text": [
      "\n",
      "Saved 10 frames to frames/id1_id6_0007\n",
      "Saved 13 frames to frames/id1_id6_0002Saved 16 frames to frames/id1_id4_0006\n",
      "\n",
      "Faces saved to faces/id0_id1_0009\n",
      "Faces saved to faces/id0_id2_0005Face video saved to processed_videos/id0_id1_0009.mp4Saved 9 frames to frames/id17_id2_0009\n",
      "\n",
      "\n",
      "Face video saved to processed_videos/id0_id2_0005.mp4\n"
     ]
    },
    {
     "name": "stderr",
     "output_type": "stream",
     "text": [
      "OpenCV: FFMPEG: tag 0x5634504d/'MP4V' is not supported with codec id 12 and format 'mp4 / MP4 (MPEG-4 Part 14)'\n",
      "OpenCV: FFMPEG: fallback to use tag 0x7634706d/'mp4v'\n",
      "OpenCV: FFMPEG: tag 0x5634504d/'MP4V' is not supported with codec id 12 and format 'mp4 / MP4 (MPEG-4 Part 14)'\n",
      "OpenCV: FFMPEG: fallback to use tag 0x7634706d/'mp4v'\n"
     ]
    },
    {
     "name": "stdout",
     "output_type": "stream",
     "text": [
      "Saved 11 frames to frames/id17_id16_0002\n",
      "Faces saved to faces/id17_id3_0004Saved 10 frames to frames/id17_id9_0001\n",
      "\n",
      "Face video saved to processed_videos/id17_id3_0004.mp4\n",
      "Faces saved to faces/id11_id7_0009"
     ]
    },
    {
     "name": "stderr",
     "output_type": "stream",
     "text": [
      "OpenCV: FFMPEG: tag 0x5634504d/'MP4V' is not supported with codec id 12 and format 'mp4 / MP4 (MPEG-4 Part 14)'\n",
      "OpenCV: FFMPEG: fallback to use tag 0x7634706d/'mp4v'\n"
     ]
    },
    {
     "name": "stdout",
     "output_type": "stream",
     "text": [
      "Saved 11 frames to frames/id17_id0_0002\n",
      "Saved 15 frames to frames/id1_id9_0003\n",
      "\n",
      "Faces saved to faces/id12_id10_0005\n",
      "Faces saved to faces/id16_id6_0010Face video saved to processed_videos/id11_id7_0009.mp4Faces saved to faces/id17_id3_0009\n",
      "\n",
      "Face video saved to processed_videos/id12_id10_0005.mp4\n",
      "\n",
      "Saved 13 frames to frames/id1_id9_0009Face video saved to processed_videos/id17_id3_0009.mp4"
     ]
    },
    {
     "name": "stderr",
     "output_type": "stream",
     "text": [
      "OpenCV: FFMPEG: tag 0x5634504d/'MP4V' is not supported with codec id 12 and format 'mp4 / MP4 (MPEG-4 Part 14)'\n",
      "OpenCV: FFMPEG: fallback to use tag 0x7634706d/'mp4v'\n",
      "OpenCV: FFMPEG: tag 0x5634504d/'MP4V' is not supported with codec id 12 and format 'mp4 / MP4 (MPEG-4 Part 14)'\n",
      "OpenCV: FFMPEG: fallback to use tag 0x7634706d/'mp4v'\n",
      "OpenCV: FFMPEG: tag 0x5634504d/'MP4V' is not supported with codec id 12 and format 'mp4 / MP4 (MPEG-4 Part 14)'\n",
      "OpenCV: FFMPEG: fallback to use tag 0x7634706d/'mp4v'\n",
      "OpenCV: FFMPEG: tag 0x5634504d/'MP4V' is not supported with codec id 12 and format 'mp4 / MP4 (MPEG-4 Part 14)'\n",
      "OpenCV: FFMPEG: fallback to use tag 0x7634706d/'mp4v'\n"
     ]
    },
    {
     "name": "stdout",
     "output_type": "stream",
     "text": [
      "\n",
      "\n",
      "Faces saved to faces/id17_id1_0002\n",
      "Face video saved to processed_videos/id16_id6_0010.mp4Face video saved to processed_videos/id17_id1_0002.mp4Faces saved to faces/id13_id10_0003\n",
      "\n",
      "\n"
     ]
    },
    {
     "name": "stderr",
     "output_type": "stream",
     "text": [
      "OpenCV: FFMPEG: tag 0x5634504d/'MP4V' is not supported with codec id 12 and format 'mp4 / MP4 (MPEG-4 Part 14)'\n",
      "OpenCV: FFMPEG: fallback to use tag 0x7634706d/'mp4v'\n",
      "OpenCV: FFMPEG: tag 0x5634504d/'MP4V' is not supported with codec id 12 and format 'mp4 / MP4 (MPEG-4 Part 14)'\n",
      "OpenCV: FFMPEG: fallback to use tag 0x7634706d/'mp4v'\n"
     ]
    },
    {
     "name": "stdout",
     "output_type": "stream",
     "text": [
      "Face video saved to processed_videos/id13_id10_0003.mp4\n",
      "Faces saved to faces/id17_id2_0003\n",
      "Saved 14 frames to frames/id2_id0_0004\n",
      "Face video saved to processed_videos/id17_id2_0003.mp4\n",
      "Faces saved to faces/id16_id3_0007\n"
     ]
    },
    {
     "name": "stderr",
     "output_type": "stream",
     "text": [
      "OpenCV: FFMPEG: tag 0x5634504d/'MP4V' is not supported with codec id 12 and format 'mp4 / MP4 (MPEG-4 Part 14)'\n",
      "OpenCV: FFMPEG: fallback to use tag 0x7634706d/'mp4v'\n",
      "OpenCV: FFMPEG: tag 0x5634504d/'MP4V' is not supported with codec id 12 and format 'mp4 / MP4 (MPEG-4 Part 14)'\n",
      "OpenCV: FFMPEG: fallback to use tag 0x7634706d/'mp4v'\n"
     ]
    },
    {
     "name": "stdout",
     "output_type": "stream",
     "text": [
      "Face video saved to processed_videos/id16_id3_0007.mp4\n",
      "Saved 11 frames to frames/id0_id6_0002\n",
      "Faces saved to faces/id13_id7_0007\n",
      "Face video saved to processed_videos/id13_id7_0007.mp4\n"
     ]
    },
    {
     "name": "stderr",
     "output_type": "stream",
     "text": [
      "OpenCV: FFMPEG: tag 0x5634504d/'MP4V' is not supported with codec id 12 and format 'mp4 / MP4 (MPEG-4 Part 14)'\n",
      "OpenCV: FFMPEG: fallback to use tag 0x7634706d/'mp4v'\n"
     ]
    },
    {
     "name": "stdout",
     "output_type": "stream",
     "text": [
      "Saved 10 frames to frames/id2_id0_0009\n",
      "Faces saved to faces/00226\n",
      "Face video saved to processed_videos/00226.mp4\n",
      "Faces saved to faces/id16_id1_0009Faces saved to faces/id1_id16_0002\n",
      "\n",
      "Face video saved to processed_videos/id1_id16_0002.mp4"
     ]
    },
    {
     "name": "stderr",
     "output_type": "stream",
     "text": [
      "OpenCV: FFMPEG: tag 0x5634504d/'MP4V' is not supported with codec id 12 and format 'mp4 / MP4 (MPEG-4 Part 14)'\n",
      "OpenCV: FFMPEG: fallback to use tag 0x7634706d/'mp4v'\n",
      "OpenCV: FFMPEG: tag 0x5634504d/'MP4V' is not supported with codec id 12 and format 'mp4 / MP4 (MPEG-4 Part 14)'\n",
      "OpenCV: FFMPEG: fallback to use tag 0x7634706d/'mp4v'\n",
      "OpenCV: FFMPEG: tag 0x5634504d/'MP4V' is not supported with codec id 12 and format 'mp4 / MP4 (MPEG-4 Part 14)'\n",
      "OpenCV: FFMPEG: fallback to use tag 0x7634706d/'mp4v'\n"
     ]
    },
    {
     "name": "stdout",
     "output_type": "stream",
     "text": [
      "Saved 8 frames to frames/id17_id1_0003\n",
      "\n",
      "Face video saved to processed_videos/id16_id1_0009.mp4\n",
      "Faces saved to faces/id1_id16_0007Faces saved to faces/id13_id7_0000\n",
      "Face video saved to processed_videos/id1_id16_0007.mp4\n",
      "\n",
      "Saved 10 frames to frames/id17_id6_0000Saved 10 frames to frames/id17_id2_0004\n",
      "Face video saved to processed_videos/id13_id7_0000.mp4\n",
      "Saved 10 frames to frames/id17_id3_0005\n"
     ]
    },
    {
     "name": "stderr",
     "output_type": "stream",
     "text": [
      "OpenCV: FFMPEG: tag 0x5634504d/'MP4V' is not supported with codec id 12 and format 'mp4 / MP4 (MPEG-4 Part 14)'\n",
      "OpenCV: FFMPEG: fallback to use tag 0x7634706d/'mp4v'\n",
      "OpenCV: FFMPEG: tag 0x5634504d/'MP4V' is not supported with codec id 12 and format 'mp4 / MP4 (MPEG-4 Part 14)'\n",
      "OpenCV: FFMPEG: fallback to use tag 0x7634706d/'mp4v'\n"
     ]
    },
    {
     "name": "stdout",
     "output_type": "stream",
     "text": [
      "\n",
      "Saved 10 frames to frames/id2_id16_0009\n",
      "Saved 14 frames to frames/id2_id16_0004Saved 10 frames to frames/id2_id17_0009\n",
      "\n",
      "Saved 14 frames to frames/id2_id17_0004\n",
      "Saved 10 frames to frames/id2_id1_0009Faces saved to faces/id0_id9_0006\n",
      "\n",
      "Face video saved to processed_videos/id0_id9_0006.mp4\n"
     ]
    },
    {
     "name": "stderr",
     "output_type": "stream",
     "text": [
      "OpenCV: FFMPEG: tag 0x5634504d/'MP4V' is not supported with codec id 12 and format 'mp4 / MP4 (MPEG-4 Part 14)'\n",
      "OpenCV: FFMPEG: fallback to use tag 0x7634706d/'mp4v'\n"
     ]
    },
    {
     "name": "stdout",
     "output_type": "stream",
     "text": [
      "Saved 15 frames to frames/id0_id2_0000Saved 14 frames to frames/id2_id1_0004\n",
      "\n",
      "Faces saved to faces/id17_id0_0006\n",
      "Face video saved to processed_videos/id17_id0_0006.mp4\n"
     ]
    },
    {
     "name": "stderr",
     "output_type": "stream",
     "text": [
      "OpenCV: FFMPEG: tag 0x5634504d/'MP4V' is not supported with codec id 12 and format 'mp4 / MP4 (MPEG-4 Part 14)'\n",
      "OpenCV: FFMPEG: fallback to use tag 0x7634706d/'mp4v'\n"
     ]
    },
    {
     "name": "stdout",
     "output_type": "stream",
     "text": [
      "Saved 10 frames to frames/id2_id3_0009\n",
      "Saved 14 frames to frames/id2_id3_0004\n",
      "Saved 13 frames to frames/id1_id16_0009\n",
      "Faces saved to faces/id17_id1_0007Faces saved to faces/00241\n",
      "\n",
      "Face video saved to processed_videos/id17_id1_0007.mp4\n",
      "Face video saved to processed_videos/00241.mp4"
     ]
    },
    {
     "name": "stderr",
     "output_type": "stream",
     "text": [
      "OpenCV: FFMPEG: tag 0x5634504d/'MP4V' is not supported with codec id 12 and format 'mp4 / MP4 (MPEG-4 Part 14)'\n",
      "OpenCV: FFMPEG: fallback to use tag 0x7634706d/'mp4v'\n",
      "OpenCV: FFMPEG: tag 0x5634504d/'MP4V' is not supported with codec id 12 and format 'mp4 / MP4 (MPEG-4 Part 14)'\n",
      "OpenCV: FFMPEG: fallback to use tag 0x7634706d/'mp4v'\n"
     ]
    },
    {
     "name": "stdout",
     "output_type": "stream",
     "text": [
      "\n",
      "Saved 11 frames to frames/id13_id7_0001\n",
      "Faces saved to faces/id16_id17_0006\n",
      "Saved 15 frames to frames/id1_id16_0003\n",
      "Face video saved to processed_videos/id16_id17_0006.mp4\n"
     ]
    },
    {
     "name": "stderr",
     "output_type": "stream",
     "text": [
      "OpenCV: FFMPEG: tag 0x5634504d/'MP4V' is not supported with codec id 12 and format 'mp4 / MP4 (MPEG-4 Part 14)'\n",
      "OpenCV: FFMPEG: fallback to use tag 0x7634706d/'mp4v'\n"
     ]
    },
    {
     "name": "stdout",
     "output_type": "stream",
     "text": [
      "Faces saved to faces/id0_id2_0009Saved 9 frames to frames/id17_id0_0007Faces saved to faces/id10_id13_0007\n",
      "\n",
      "\n",
      "Faces saved to faces/id0_id16_0006Face video saved to processed_videos/id10_id13_0007.mp4\n",
      "Face video saved to processed_videos/id0_id2_0009.mp4\n",
      "Face video saved to processed_videos/id0_id16_0006.mp4"
     ]
    },
    {
     "name": "stderr",
     "output_type": "stream",
     "text": [
      "OpenCV: FFMPEG: tag 0x5634504d/'MP4V' is not supported with codec id 12 and format 'mp4 / MP4 (MPEG-4 Part 14)'\n",
      "OpenCV: FFMPEG: fallback to use tag 0x7634706d/'mp4v'\n",
      "OpenCV: FFMPEG: tag 0x5634504d/'MP4V' is not supported with codec id 12 and format 'mp4 / MP4 (MPEG-4 Part 14)'\n",
      "OpenCV: FFMPEG: fallback to use tag 0x7634706d/'mp4v'\n",
      "OpenCV: FFMPEG: tag 0x5634504d/'MP4V' is not supported with codec id 12 and format 'mp4 / MP4 (MPEG-4 Part 14)'\n",
      "OpenCV: FFMPEG: fallback to use tag 0x7634706d/'mp4v'\n"
     ]
    },
    {
     "name": "stdout",
     "output_type": "stream",
     "text": [
      "\n",
      "\n",
      "Faces saved to faces/id17_id16_0006\n",
      "Faces saved to faces/id1_id2_0004Faces saved to faces/id16_id0_0004\n",
      "Face video saved to processed_videos/id17_id16_0006.mp4Face video saved to processed_videos/id1_id2_0004.mp4\n",
      "\n",
      "\n",
      "Face video saved to processed_videos/id16_id0_0004.mp4"
     ]
    },
    {
     "name": "stderr",
     "output_type": "stream",
     "text": [
      "OpenCV: FFMPEG: tag 0x5634504d/'MP4V' is not supported with codec id 12 and format 'mp4 / MP4 (MPEG-4 Part 14)'\n",
      "OpenCV: FFMPEG: fallback to use tag 0x7634706d/'mp4v'\n",
      "OpenCV: FFMPEG: tag 0x5634504d/'MP4V' is not supported with codec id 12 and format 'mp4 / MP4 (MPEG-4 Part 14)'\n",
      "OpenCV: FFMPEG: fallback to use tag 0x7634706d/'mp4v'\n",
      "OpenCV: FFMPEG: tag 0x5634504d/'MP4V' is not supported with codec id 12 and format 'mp4 / MP4 (MPEG-4 Part 14)'\n",
      "OpenCV: FFMPEG: fallback to use tag 0x7634706d/'mp4v'\n"
     ]
    },
    {
     "name": "stdout",
     "output_type": "stream",
     "text": [
      "Faces saved to faces/id1_id17_0009\n",
      "\n",
      "Faces saved to faces/id0_id16_0001\n",
      "Face video saved to processed_videos/id1_id17_0009.mp4Face video saved to processed_videos/id0_id16_0001.mp4\n",
      "Faces saved to faces/id17_id9_0005\n",
      "\n"
     ]
    },
    {
     "name": "stderr",
     "output_type": "stream",
     "text": [
      "OpenCV: FFMPEG: tag 0x5634504d/'MP4V' is not supported with codec id 12 and format 'mp4 / MP4 (MPEG-4 Part 14)'\n",
      "OpenCV: FFMPEG: fallback to use tag 0x7634706d/'mp4v'\n",
      "OpenCV: FFMPEG: tag 0x5634504d/'MP4V' is not supported with codec id 12 and format 'mp4 / MP4 (MPEG-4 Part 14)'\n",
      "OpenCV: FFMPEG: fallback to use tag 0x7634706d/'mp4v'\n",
      "OpenCV: FFMPEG: tag 0x5634504d/'MP4V' is not supported with codec id 12 and format 'mp4 / MP4 (MPEG-4 Part 14)'\n",
      "OpenCV: FFMPEG: fallback to use tag 0x7634706d/'mp4v'\n"
     ]
    },
    {
     "name": "stdout",
     "output_type": "stream",
     "text": [
      "Face video saved to processed_videos/id17_id9_0005.mp4\n",
      "Faces saved to faces/00231\n",
      "Face video saved to processed_videos/00231.mp4\n"
     ]
    },
    {
     "name": "stderr",
     "output_type": "stream",
     "text": [
      "OpenCV: FFMPEG: tag 0x5634504d/'MP4V' is not supported with codec id 12 and format 'mp4 / MP4 (MPEG-4 Part 14)'\n",
      "OpenCV: FFMPEG: fallback to use tag 0x7634706d/'mp4v'\n"
     ]
    },
    {
     "name": "stdout",
     "output_type": "stream",
     "text": [
      "Faces saved to faces/id16_id9_0010\n",
      "Face video saved to processed_videos/id16_id9_0010.mp4Saved 9 frames to frames/id17_id1_0009\n",
      "\n"
     ]
    },
    {
     "name": "stderr",
     "output_type": "stream",
     "text": [
      "OpenCV: FFMPEG: tag 0x5634504d/'MP4V' is not supported with codec id 12 and format 'mp4 / MP4 (MPEG-4 Part 14)'\n",
      "OpenCV: FFMPEG: fallback to use tag 0x7634706d/'mp4v'\n"
     ]
    },
    {
     "name": "stdout",
     "output_type": "stream",
     "text": [
      "Faces saved to faces/id12_id7_0004\n",
      "Saved 15 frames to frames/id0_id9_0007\n",
      "Face video saved to processed_videos/id12_id7_0004.mp4\n",
      "Faces saved to faces/id16_id9_0005"
     ]
    },
    {
     "name": "stderr",
     "output_type": "stream",
     "text": [
      "OpenCV: FFMPEG: tag 0x5634504d/'MP4V' is not supported with codec id 12 and format 'mp4 / MP4 (MPEG-4 Part 14)'\n",
      "OpenCV: FFMPEG: fallback to use tag 0x7634706d/'mp4v'\n"
     ]
    },
    {
     "name": "stdout",
     "output_type": "stream",
     "text": [
      "\n",
      "Face video saved to processed_videos/id16_id9_0005.mp4\n",
      "Faces saved to faces/id1_id4_0001"
     ]
    },
    {
     "name": "stderr",
     "output_type": "stream",
     "text": [
      "OpenCV: FFMPEG: tag 0x5634504d/'MP4V' is not supported with codec id 12 and format 'mp4 / MP4 (MPEG-4 Part 14)'\n",
      "OpenCV: FFMPEG: fallback to use tag 0x7634706d/'mp4v'\n"
     ]
    },
    {
     "name": "stdout",
     "output_type": "stream",
     "text": [
      "\n",
      "Face video saved to processed_videos/id1_id4_0001.mp4Saved 12 frames to frames/id2_id6_0002Saved 12 frames to frames/id2_id4_0006\n",
      "\n",
      "\n"
     ]
    },
    {
     "name": "stderr",
     "output_type": "stream",
     "text": [
      "OpenCV: FFMPEG: tag 0x5634504d/'MP4V' is not supported with codec id 12 and format 'mp4 / MP4 (MPEG-4 Part 14)'\n",
      "OpenCV: FFMPEG: fallback to use tag 0x7634706d/'mp4v'\n"
     ]
    },
    {
     "name": "stdout",
     "output_type": "stream",
     "text": [
      "Saved 12 frames to frames/id2_id9_0002\n",
      "Faces saved to faces/id1_id0_0006\n",
      "Saved 6 frames to frames/id17_id9_0006\n",
      "Saved 9 frames to frames/id17_id16_0007\n",
      "Saved 14 frames to frames/id1_id2_0005Face video saved to processed_videos/id1_id0_0006.mp4\n",
      "\n"
     ]
    },
    {
     "name": "stderr",
     "output_type": "stream",
     "text": [
      "OpenCV: FFMPEG: tag 0x5634504d/'MP4V' is not supported with codec id 12 and format 'mp4 / MP4 (MPEG-4 Part 14)'\n",
      "OpenCV: FFMPEG: fallback to use tag 0x7634706d/'mp4v'\n"
     ]
    },
    {
     "name": "stdout",
     "output_type": "stream",
     "text": [
      "Saved 9 frames to frames/id16_id9_0011\n",
      "Saved 14 frames to frames/id3_id0_0002\n",
      "Saved 12 frames to frames/id1_id2_0000\n",
      "Faces saved to faces/id13_id7_0012\n",
      "Saved 15 frames to frames/id2_id6_0007\n",
      "Face video saved to processed_videos/id13_id7_0012.mp4\n"
     ]
    },
    {
     "name": "stderr",
     "output_type": "stream",
     "text": [
      "OpenCV: FFMPEG: tag 0x5634504d/'MP4V' is not supported with codec id 12 and format 'mp4 / MP4 (MPEG-4 Part 14)'\n",
      "OpenCV: FFMPEG: fallback to use tag 0x7634706d/'mp4v'\n"
     ]
    },
    {
     "name": "stdout",
     "output_type": "stream",
     "text": [
      "Faces saved to faces/id1_id3_0000Saved 15 frames to frames/id2_id9_0007\n",
      "\n",
      "Face video saved to processed_videos/id1_id3_0000.mp4\n",
      "Saved 12 frames to frames/id3_id0_0007"
     ]
    },
    {
     "name": "stderr",
     "output_type": "stream",
     "text": [
      "OpenCV: FFMPEG: tag 0x5634504d/'MP4V' is not supported with codec id 12 and format 'mp4 / MP4 (MPEG-4 Part 14)'\n",
      "OpenCV: FFMPEG: fallback to use tag 0x7634706d/'mp4v'\n"
     ]
    },
    {
     "name": "stdout",
     "output_type": "stream",
     "text": [
      "Saved 15 frames to frames/id0_id3_0000\n",
      "\n",
      "Saved 7 frames to frames/id16_id9_0006\n",
      "Saved 13 frames to frames/id1_id4_0002\n",
      "Saved 10 frames to frames/id1_id0_0007\n",
      "Saved 14 frames to frames/id3_id16_0002Faces saved to faces/id1_id6_0007\n",
      "\n",
      "Face video saved to processed_videos/id1_id6_0007.mp4\n"
     ]
    },
    {
     "name": "stderr",
     "output_type": "stream",
     "text": [
      "OpenCV: FFMPEG: tag 0x5634504d/'MP4V' is not supported with codec id 12 and format 'mp4 / MP4 (MPEG-4 Part 14)'\n",
      "OpenCV: FFMPEG: fallback to use tag 0x7634706d/'mp4v'\n"
     ]
    },
    {
     "name": "stdout",
     "output_type": "stream",
     "text": [
      "Faces saved to faces/id17_id2_0004\n",
      "Face video saved to processed_videos/id17_id2_0004.mp4\n",
      "Faces saved to faces/id0_id3_0005\n"
     ]
    },
    {
     "name": "stderr",
     "output_type": "stream",
     "text": [
      "OpenCV: FFMPEG: tag 0x5634504d/'MP4V' is not supported with codec id 12 and format 'mp4 / MP4 (MPEG-4 Part 14)'\n",
      "OpenCV: FFMPEG: fallback to use tag 0x7634706d/'mp4v'\n",
      "OpenCV: FFMPEG: tag 0x5634504d/'MP4V' is not supported with codec id 12 and format 'mp4 / MP4 (MPEG-4 Part 14)'\n",
      "OpenCV: FFMPEG: fallback to use tag 0x7634706d/'mp4v'\n"
     ]
    },
    {
     "name": "stdout",
     "output_type": "stream",
     "text": [
      "Faces saved to faces/id0_id3_0009Face video saved to processed_videos/id0_id3_0005.mp4\n",
      "\n",
      "Faces saved to faces/id13_id10_0011\n",
      "Face video saved to processed_videos/id0_id3_0009.mp4\n",
      "Face video saved to processed_videos/id13_id10_0011.mp4Saved 9 frames to frames/id1_id3_0001\n",
      "\n"
     ]
    },
    {
     "name": "stderr",
     "output_type": "stream",
     "text": [
      "OpenCV: FFMPEG: tag 0x5634504d/'MP4V' is not supported with codec id 12 and format 'mp4 / MP4 (MPEG-4 Part 14)'\n",
      "OpenCV: FFMPEG: fallback to use tag 0x7634706d/'mp4v'\n",
      "OpenCV: FFMPEG: tag 0x5634504d/'MP4V' is not supported with codec id 12 and format 'mp4 / MP4 (MPEG-4 Part 14)'\n",
      "OpenCV: FFMPEG: fallback to use tag 0x7634706d/'mp4v'\n"
     ]
    },
    {
     "name": "stdout",
     "output_type": "stream",
     "text": [
      "Faces saved to faces/id0_id4_0005\n",
      "Faces saved to faces/id1_id17_0003Face video saved to processed_videos/id0_id4_0005.mp4\n",
      "\n",
      "Face video saved to processed_videos/id1_id17_0003.mp4"
     ]
    },
    {
     "name": "stderr",
     "output_type": "stream",
     "text": [
      "OpenCV: FFMPEG: tag 0x5634504d/'MP4V' is not supported with codec id 12 and format 'mp4 / MP4 (MPEG-4 Part 14)'\n",
      "OpenCV: FFMPEG: fallback to use tag 0x7634706d/'mp4v'\n",
      "OpenCV: FFMPEG: tag 0x5634504d/'MP4V' is not supported with codec id 12 and format 'mp4 / MP4 (MPEG-4 Part 14)'\n",
      "OpenCV: FFMPEG: fallback to use tag 0x7634706d/'mp4v'\n"
     ]
    },
    {
     "name": "stdout",
     "output_type": "stream",
     "text": [
      "\n",
      "Faces saved to faces/id17_id9_0001Faces saved to faces/id1_id3_0005\n",
      "\n",
      "Face video saved to processed_videos/id17_id9_0001.mp4Face video saved to processed_videos/id1_id3_0005.mp4\n",
      "\n"
     ]
    },
    {
     "name": "stderr",
     "output_type": "stream",
     "text": [
      "OpenCV: FFMPEG: tag 0x5634504d/'MP4V' is not supported with codec id 12 and format 'mp4 / MP4 (MPEG-4 Part 14)'\n",
      "OpenCV: FFMPEG: fallback to use tag 0x7634706d/'mp4v'\n",
      "OpenCV: FFMPEG: tag 0x5634504d/'MP4V' is not supported with codec id 12 and format 'mp4 / MP4 (MPEG-4 Part 14)'\n",
      "OpenCV: FFMPEG: fallback to use tag 0x7634706d/'mp4v'\n"
     ]
    },
    {
     "name": "stdout",
     "output_type": "stream",
     "text": [
      "Saved 13 frames to frames/id1_id6_0009\n",
      "Faces saved to faces/id17_id1_0003\n",
      "Face video saved to processed_videos/id17_id1_0003.mp4\n"
     ]
    },
    {
     "name": "stderr",
     "output_type": "stream",
     "text": [
      "OpenCV: FFMPEG: tag 0x5634504d/'MP4V' is not supported with codec id 12 and format 'mp4 / MP4 (MPEG-4 Part 14)'\n",
      "OpenCV: FFMPEG: fallback to use tag 0x7634706d/'mp4v'\n"
     ]
    },
    {
     "name": "stdout",
     "output_type": "stream",
     "text": [
      "Faces saved to faces/id1_id0_0002Saved 16 frames to frames/id13_id7_0015\n",
      "\n",
      "Face video saved to processed_videos/id1_id0_0002.mp4Faces saved to faces/id17_id16_0002\n",
      "\n"
     ]
    },
    {
     "name": "stderr",
     "output_type": "stream",
     "text": [
      "OpenCV: FFMPEG: tag 0x5634504d/'MP4V' is not supported with codec id 12 and format 'mp4 / MP4 (MPEG-4 Part 14)'\n",
      "OpenCV: FFMPEG: fallback to use tag 0x7634706d/'mp4v'\n",
      "OpenCV: FFMPEG: tag 0x5634504d/'MP4V' is not supported with codec id 12 and format 'mp4 / MP4 (MPEG-4 Part 14)'\n",
      "OpenCV: FFMPEG: fallback to use tag 0x7634706d/'mp4v'\n"
     ]
    },
    {
     "name": "stdout",
     "output_type": "stream",
     "text": [
      "Face video saved to processed_videos/id17_id16_0002.mp4\n",
      "Faces saved to faces/id1_id6_0002\n",
      "Saved 13 frames to frames/id1_id17_0004Saved 10 frames to frames/id17_id2_0005\n",
      "Face video saved to processed_videos/id1_id6_0002.mp4\n",
      "Saved 15 frames to frames/id3_id16_0008\n",
      "Faces saved to faces/id17_id6_0005\n",
      "Saved 12 frames to frames/id3_id17_0003\n",
      "\n"
     ]
    },
    {
     "name": "stderr",
     "output_type": "stream",
     "text": [
      "OpenCV: FFMPEG: tag 0x5634504d/'MP4V' is not supported with codec id 12 and format 'mp4 / MP4 (MPEG-4 Part 14)'\n",
      "OpenCV: FFMPEG: fallback to use tag 0x7634706d/'mp4v'\n",
      "OpenCV: FFMPEG: tag 0x5634504d/'MP4V' is not supported with codec id 12 and format 'mp4 / MP4 (MPEG-4 Part 14)'\n",
      "OpenCV: FFMPEG: fallback to use tag 0x7634706d/'mp4v'\n"
     ]
    },
    {
     "name": "stdout",
     "output_type": "stream",
     "text": [
      "Face video saved to processed_videos/id17_id6_0005.mp4\n",
      "Faces saved to faces/id1_id9_0009\n",
      "Face video saved to processed_videos/id1_id9_0009.mp4Faces saved to faces/id0_id9_0000\n",
      "\n",
      "Saved 15 frames to frames/id3_id17_0008Face video saved to processed_videos/id0_id9_0000.mp4Faces saved to faces/id17_id0_0002\n"
     ]
    },
    {
     "name": "stderr",
     "output_type": "stream",
     "text": [
      "OpenCV: FFMPEG: tag 0x5634504d/'MP4V' is not supported with codec id 12 and format 'mp4 / MP4 (MPEG-4 Part 14)'\n",
      "OpenCV: FFMPEG: fallback to use tag 0x7634706d/'mp4v'\n",
      "OpenCV: FFMPEG: tag 0x5634504d/'MP4V' is not supported with codec id 12 and format 'mp4 / MP4 (MPEG-4 Part 14)'\n",
      "OpenCV: FFMPEG: fallback to use tag 0x7634706d/'mp4v'\n"
     ]
    },
    {
     "name": "stdout",
     "output_type": "stream",
     "text": [
      "\n",
      "\n",
      "Saved 11 frames to frames/id17_id9_0002Face video saved to processed_videos/id17_id0_0002.mp4\n",
      "\n"
     ]
    },
    {
     "name": "stderr",
     "output_type": "stream",
     "text": [
      "OpenCV: FFMPEG: tag 0x5634504d/'MP4V' is not supported with codec id 12 and format 'mp4 / MP4 (MPEG-4 Part 14)'\n",
      "OpenCV: FFMPEG: fallback to use tag 0x7634706d/'mp4v'\n"
     ]
    },
    {
     "name": "stdout",
     "output_type": "stream",
     "text": [
      "Saved 10 frames to frames/id17_id1_0004\n",
      "Saved 8 frames to frames/id17_id16_0003Saved 15 frames to frames/id0_id4_0000\n",
      "Saved 16 frames to frames/id1_id3_0006\n",
      "\n",
      "Faces saved to faces/id2_id0_0009Saved 6 frames to frames/id17_id6_0006\n",
      "\n",
      "Face video saved to processed_videos/id2_id0_0009.mp4\n"
     ]
    },
    {
     "name": "stderr",
     "output_type": "stream",
     "text": [
      "OpenCV: FFMPEG: tag 0x5634504d/'MP4V' is not supported with codec id 12 and format 'mp4 / MP4 (MPEG-4 Part 14)'\n",
      "OpenCV: FFMPEG: fallback to use tag 0x7634706d/'mp4v'\n"
     ]
    },
    {
     "name": "stdout",
     "output_type": "stream",
     "text": [
      "Saved 8 frames to frames/id17_id0_0003\n",
      "Faces saved to faces/id17_id6_0000\n",
      "Face video saved to processed_videos/id17_id6_0000.mp4\n"
     ]
    },
    {
     "name": "stderr",
     "output_type": "stream",
     "text": [
      "OpenCV: FFMPEG: tag 0x5634504d/'MP4V' is not supported with codec id 12 and format 'mp4 / MP4 (MPEG-4 Part 14)'\n",
      "OpenCV: FFMPEG: fallback to use tag 0x7634706d/'mp4v'\n"
     ]
    },
    {
     "name": "stdout",
     "output_type": "stream",
     "text": [
      "Saved 15 frames to frames/id1_id0_0003\n",
      "Saved 15 frames to frames/id1_id6_0003\n",
      "Saved 14 frames to frames/id2_id0_0000\n",
      "Saved 10 frames to frames/id0_id9_0001\n",
      "Faces saved to faces/id2_id0_0004\n",
      "Faces saved to faces/id0_id1_0003\n",
      "Faces saved to faces/id2_id16_0009Face video saved to processed_videos/id2_id0_0004.mp4Faces saved to faces/id2_id17_0009\n",
      "\n",
      "Face video saved to processed_videos/id0_id1_0003.mp4\n",
      "Face video saved to processed_videos/id2_id17_0009.mp4\n",
      "\n",
      "Face video saved to processed_videos/id2_id16_0009.mp4\n"
     ]
    },
    {
     "name": "stderr",
     "output_type": "stream",
     "text": [
      "OpenCV: FFMPEG: tag 0x5634504d/'MP4V' is not supported with codec id 12 and format 'mp4 / MP4 (MPEG-4 Part 14)'\n",
      "OpenCV: FFMPEG: fallback to use tag 0x7634706d/'mp4v'\n",
      "OpenCV: FFMPEG: tag 0x5634504d/'MP4V' is not supported with codec id 12 and format 'mp4 / MP4 (MPEG-4 Part 14)'\n",
      "OpenCV: FFMPEG: fallback to use tag 0x7634706d/'mp4v'\n",
      "OpenCV: FFMPEG: tag 0x5634504d/'MP4V' is not supported with codec id 12 and format 'mp4 / MP4 (MPEG-4 Part 14)'\n",
      "OpenCV: FFMPEG: fallback to use tag 0x7634706d/'mp4v'\n",
      "OpenCV: FFMPEG: tag 0x5634504d/'MP4V' is not supported with codec id 12 and format 'mp4 / MP4 (MPEG-4 Part 14)'\n",
      "OpenCV: FFMPEG: fallback to use tag 0x7634706d/'mp4v'\n"
     ]
    },
    {
     "name": "stdout",
     "output_type": "stream",
     "text": [
      "Faces saved to faces/id16_id6_0004\n",
      "Face video saved to processed_videos/id16_id6_0004.mp4Faces saved to faces/id16_id2_0005\n",
      "Faces saved to faces/id17_id2_0009\n",
      "\n",
      "Face video saved to processed_videos/id16_id2_0005.mp4Face video saved to processed_videos/id17_id2_0009.mp4\n"
     ]
    },
    {
     "name": "stderr",
     "output_type": "stream",
     "text": [
      "OpenCV: FFMPEG: tag 0x5634504d/'MP4V' is not supported with codec id 12 and format 'mp4 / MP4 (MPEG-4 Part 14)'\n",
      "OpenCV: FFMPEG: fallback to use tag 0x7634706d/'mp4v'\n",
      "OpenCV: FFMPEG: tag 0x5634504d/'MP4V' is not supported with codec id 12 and format 'mp4 / MP4 (MPEG-4 Part 14)'\n",
      "OpenCV: FFMPEG: fallback to use tag 0x7634706d/'mp4v'\n",
      "OpenCV: FFMPEG: tag 0x5634504d/'MP4V' is not supported with codec id 12 and format 'mp4 / MP4 (MPEG-4 Part 14)'\n",
      "OpenCV: FFMPEG: fallback to use tag 0x7634706d/'mp4v'\n"
     ]
    },
    {
     "name": "stdout",
     "output_type": "stream",
     "text": [
      "\n",
      "Saved 10 frames to frames/id17_id6_0001\n",
      "Faces saved to faces/id2_id1_0009\n",
      "Face video saved to processed_videos/id2_id1_0009.mp4Saved 14 frames to frames/id2_id16_0000\n",
      "\n"
     ]
    },
    {
     "name": "stderr",
     "output_type": "stream",
     "text": [
      "OpenCV: FFMPEG: tag 0x5634504d/'MP4V' is not supported with codec id 12 and format 'mp4 / MP4 (MPEG-4 Part 14)'\n",
      "OpenCV: FFMPEG: fallback to use tag 0x7634706d/'mp4v'\n"
     ]
    },
    {
     "name": "stdout",
     "output_type": "stream",
     "text": [
      "Faces saved to faces/id16_id9_0011\n",
      "Face video saved to processed_videos/id16_id9_0011.mp4\n",
      "Faces saved to faces/id0_id17_0001\n"
     ]
    },
    {
     "name": "stderr",
     "output_type": "stream",
     "text": [
      "OpenCV: FFMPEG: tag 0x5634504d/'MP4V' is not supported with codec id 12 and format 'mp4 / MP4 (MPEG-4 Part 14)'\n",
      "OpenCV: FFMPEG: fallback to use tag 0x7634706d/'mp4v'\n",
      "OpenCV: FFMPEG: tag 0x5634504d/'MP4V' is not supported with codec id 12 and format 'mp4 / MP4 (MPEG-4 Part 14)'\n",
      "OpenCV: FFMPEG: fallback to use tag 0x7634706d/'mp4v'\n"
     ]
    },
    {
     "name": "stdout",
     "output_type": "stream",
     "text": [
      "Face video saved to processed_videos/id0_id17_0001.mp4\n",
      "Faces saved to faces/id2_id16_0004\n",
      "Face video saved to processed_videos/id2_id16_0004.mp4\n"
     ]
    },
    {
     "name": "stderr",
     "output_type": "stream",
     "text": [
      "OpenCV: FFMPEG: tag 0x5634504d/'MP4V' is not supported with codec id 12 and format 'mp4 / MP4 (MPEG-4 Part 14)'\n",
      "OpenCV: FFMPEG: fallback to use tag 0x7634706d/'mp4v'\n"
     ]
    },
    {
     "name": "stdout",
     "output_type": "stream",
     "text": [
      "Faces saved to faces/id2_id17_0004\n",
      "Face video saved to processed_videos/id2_id17_0004.mp4\n"
     ]
    },
    {
     "name": "stderr",
     "output_type": "stream",
     "text": [
      "OpenCV: FFMPEG: tag 0x5634504d/'MP4V' is not supported with codec id 12 and format 'mp4 / MP4 (MPEG-4 Part 14)'\n",
      "OpenCV: FFMPEG: fallback to use tag 0x7634706d/'mp4v'\n"
     ]
    },
    {
     "name": "stdout",
     "output_type": "stream",
     "text": [
      "Faces saved to faces/id1_id16_0009\n",
      "Face video saved to processed_videos/id1_id16_0009.mp4\n",
      "Saved 10 frames to frames/id2_id0_0005"
     ]
    },
    {
     "name": "stderr",
     "output_type": "stream",
     "text": [
      "OpenCV: FFMPEG: tag 0x5634504d/'MP4V' is not supported with codec id 12 and format 'mp4 / MP4 (MPEG-4 Part 14)'\n",
      "OpenCV: FFMPEG: fallback to use tag 0x7634706d/'mp4v'\n"
     ]
    },
    {
     "name": "stdout",
     "output_type": "stream",
     "text": [
      "\n",
      "Saved 10 frames to frames/id17_id3_0000\n",
      "Faces saved to faces/id2_id3_0009Saved 16 frames to frames/id3_id1_0004\n",
      "Faces saved to faces/id1_id9_0003\n",
      "\n",
      "Face video saved to processed_videos/id1_id9_0003.mp4Face video saved to processed_videos/id2_id3_0009.mp4\n"
     ]
    },
    {
     "name": "stderr",
     "output_type": "stream",
     "text": [
      "OpenCV: FFMPEG: tag 0x5634504d/'MP4V' is not supported with codec id 12 and format 'mp4 / MP4 (MPEG-4 Part 14)'\n",
      "OpenCV: FFMPEG: fallback to use tag 0x7634706d/'mp4v'\n",
      "OpenCV: FFMPEG: tag 0x5634504d/'MP4V' is not supported with codec id 12 and format 'mp4 / MP4 (MPEG-4 Part 14)'\n",
      "OpenCV: FFMPEG: fallback to use tag 0x7634706d/'mp4v'\n"
     ]
    },
    {
     "name": "stdout",
     "output_type": "stream",
     "text": [
      "\n",
      "Faces saved to faces/id2_id1_0004Saved 14 frames to frames/id2_id1_0000\n",
      "Saved 14 frames to frames/id2_id17_0000\n",
      "\n",
      "Face video saved to processed_videos/id2_id1_0004.mp4\n",
      "Faces saved to faces/id1_id4_0006"
     ]
    },
    {
     "name": "stderr",
     "output_type": "stream",
     "text": [
      "OpenCV: FFMPEG: tag 0x5634504d/'MP4V' is not supported with codec id 12 and format 'mp4 / MP4 (MPEG-4 Part 14)'\n",
      "OpenCV: FFMPEG: fallback to use tag 0x7634706d/'mp4v'\n"
     ]
    },
    {
     "name": "stdout",
     "output_type": "stream",
     "text": [
      "\n",
      "Face video saved to processed_videos/id1_id4_0006.mp4\n"
     ]
    },
    {
     "name": "stderr",
     "output_type": "stream",
     "text": [
      "OpenCV: FFMPEG: tag 0x5634504d/'MP4V' is not supported with codec id 12 and format 'mp4 / MP4 (MPEG-4 Part 14)'\n",
      "OpenCV: FFMPEG: fallback to use tag 0x7634706d/'mp4v'\n"
     ]
    },
    {
     "name": "stdout",
     "output_type": "stream",
     "text": [
      "Saved 16 frames to frames/id3_id2_0004\n",
      "Saved 10 frames to frames/id2_id16_0005\n",
      "Saved 10 frames to frames/id16_id9_0012\n",
      "Faces saved to faces/id17_id9_0006\n",
      "Saved 10 frames to frames/id2_id17_0005\n",
      "Face video saved to processed_videos/id17_id9_0006.mp4\n",
      "Saved 14 frames to frames/id2_id3_0000\n"
     ]
    },
    {
     "name": "stderr",
     "output_type": "stream",
     "text": [
      "OpenCV: FFMPEG: tag 0x5634504d/'MP4V' is not supported with codec id 12 and format 'mp4 / MP4 (MPEG-4 Part 14)'\n",
      "OpenCV: FFMPEG: fallback to use tag 0x7634706d/'mp4v'\n"
     ]
    },
    {
     "name": "stdout",
     "output_type": "stream",
     "text": [
      "Faces saved to faces/id2_id3_0004\n",
      "Face video saved to processed_videos/id2_id3_0004.mp4\n"
     ]
    },
    {
     "name": "stderr",
     "output_type": "stream",
     "text": [
      "OpenCV: FFMPEG: tag 0x5634504d/'MP4V' is not supported with codec id 12 and format 'mp4 / MP4 (MPEG-4 Part 14)'\n",
      "OpenCV: FFMPEG: fallback to use tag 0x7634706d/'mp4v'\n"
     ]
    },
    {
     "name": "stdout",
     "output_type": "stream",
     "text": [
      "Saved 12 frames to frames/id1_id17_0000Saved 16 frames to frames/id3_id1_0009\n",
      "\n",
      "Saved 13 frames to frames/id1_id9_0004Saved 10 frames to frames/id2_id1_0005\n",
      "\n",
      "Faces saved to faces/id17_id3_0005\n",
      "Face video saved to processed_videos/id17_id3_0005.mp4\n"
     ]
    },
    {
     "name": "stderr",
     "output_type": "stream",
     "text": [
      "OpenCV: FFMPEG: tag 0x5634504d/'MP4V' is not supported with codec id 12 and format 'mp4 / MP4 (MPEG-4 Part 14)'\n",
      "OpenCV: FFMPEG: fallback to use tag 0x7634706d/'mp4v'\n"
     ]
    },
    {
     "name": "stdout",
     "output_type": "stream",
     "text": [
      "Saved 10 frames to frames/id1_id4_0007\n",
      "Faces saved to faces/id1_id3_0001\n",
      "Saved 16 frames to frames/id3_id2_0009Face video saved to processed_videos/id1_id3_0001.mp4"
     ]
    },
    {
     "name": "stderr",
     "output_type": "stream",
     "text": [
      "OpenCV: FFMPEG: tag 0x5634504d/'MP4V' is not supported with codec id 12 and format 'mp4 / MP4 (MPEG-4 Part 14)'\n",
      "OpenCV: FFMPEG: fallback to use tag 0x7634706d/'mp4v'\n"
     ]
    },
    {
     "name": "stdout",
     "output_type": "stream",
     "text": [
      "\n",
      "\n",
      "Faces saved to faces/id1_id0_0007\n",
      "Saved 14 frames to frames/id2_id4_0000\n",
      "Face video saved to processed_videos/id1_id0_0007.mp4\n"
     ]
    },
    {
     "name": "stderr",
     "output_type": "stream",
     "text": [
      "OpenCV: FFMPEG: tag 0x5634504d/'MP4V' is not supported with codec id 12 and format 'mp4 / MP4 (MPEG-4 Part 14)'\n",
      "OpenCV: FFMPEG: fallback to use tag 0x7634706d/'mp4v'\n"
     ]
    },
    {
     "name": "stdout",
     "output_type": "stream",
     "text": [
      "Saved 10 frames to frames/id2_id3_0005\n",
      "Faces saved to faces/id17_id1_0004\n",
      "Saved 9 frames to frames/id17_id9_0007Face video saved to processed_videos/id17_id1_0004.mp4\n",
      "\n"
     ]
    },
    {
     "name": "stderr",
     "output_type": "stream",
     "text": [
      "OpenCV: FFMPEG: tag 0x5634504d/'MP4V' is not supported with codec id 12 and format 'mp4 / MP4 (MPEG-4 Part 14)'\n",
      "OpenCV: FFMPEG: fallback to use tag 0x7634706d/'mp4v'\n"
     ]
    },
    {
     "name": "stdout",
     "output_type": "stream",
     "text": [
      "Faces saved to faces/id0_id6_0002Faces saved to faces/id17_id0_0007\n",
      "Faces saved to faces/id2_id9_0002\n",
      "\n",
      "Saved 6 frames to frames/id17_id3_0006\n",
      "Face video saved to processed_videos/id0_id6_0002.mp4Face video saved to processed_videos/id17_id0_0007.mp4Face video saved to processed_videos/id2_id9_0002.mp4\n",
      "\n",
      "\n"
     ]
    },
    {
     "name": "stderr",
     "output_type": "stream",
     "text": [
      "OpenCV: FFMPEG: tag 0x5634504d/'MP4V' is not supported with codec id 12 and format 'mp4 / MP4 (MPEG-4 Part 14)'\n",
      "OpenCV: FFMPEG: fallback to use tag 0x7634706d/'mp4v'\n",
      "OpenCV: FFMPEG: tag 0x5634504d/'MP4V' is not supported with codec id 12 and format 'mp4 / MP4 (MPEG-4 Part 14)'\n",
      "OpenCV: FFMPEG: fallback to use tag 0x7634706d/'mp4v'\n",
      "OpenCV: FFMPEG: tag 0x5634504d/'MP4V' is not supported with codec id 12 and format 'mp4 / MP4 (MPEG-4 Part 14)'\n",
      "OpenCV: FFMPEG: fallback to use tag 0x7634706d/'mp4v'\n"
     ]
    },
    {
     "name": "stdout",
     "output_type": "stream",
     "text": [
      "Faces saved to faces/id2_id6_0002\n",
      "Face video saved to processed_videos/id2_id6_0002.mp4\n",
      "Faces saved to faces/id1_id2_0000"
     ]
    },
    {
     "name": "stderr",
     "output_type": "stream",
     "text": [
      "OpenCV: FFMPEG: tag 0x5634504d/'MP4V' is not supported with codec id 12 and format 'mp4 / MP4 (MPEG-4 Part 14)'\n",
      "OpenCV: FFMPEG: fallback to use tag 0x7634706d/'mp4v'\n"
     ]
    },
    {
     "name": "stdout",
     "output_type": "stream",
     "text": [
      "\n",
      "Face video saved to processed_videos/id1_id2_0000.mp4\n"
     ]
    },
    {
     "name": "stderr",
     "output_type": "stream",
     "text": [
      "OpenCV: FFMPEG: tag 0x5634504d/'MP4V' is not supported with codec id 12 and format 'mp4 / MP4 (MPEG-4 Part 14)'\n",
      "OpenCV: FFMPEG: fallback to use tag 0x7634706d/'mp4v'\n"
     ]
    },
    {
     "name": "stdout",
     "output_type": "stream",
     "text": [
      "Saved 13 frames to frames/id1_id3_0002\n",
      "Faces saved to faces/id1_id2_0005\n",
      "Face video saved to processed_videos/id1_id2_0005.mp4\n"
     ]
    },
    {
     "name": "stderr",
     "output_type": "stream",
     "text": [
      "OpenCV: FFMPEG: tag 0x5634504d/'MP4V' is not supported with codec id 12 and format 'mp4 / MP4 (MPEG-4 Part 14)'\n",
      "OpenCV: FFMPEG: fallback to use tag 0x7634706d/'mp4v'\n"
     ]
    },
    {
     "name": "stdout",
     "output_type": "stream",
     "text": [
      "Saved 13 frames to frames/id1_id0_0009\n",
      "Faces saved to faces/id1_id4_0002\n",
      "Faces saved to faces/id17_id16_0003\n",
      "Face video saved to processed_videos/id1_id4_0002.mp4\n",
      "Faces saved to faces/id2_id4_0006Face video saved to processed_videos/id17_id16_0003.mp4\n",
      "Faces saved to faces/id1_id16_0003"
     ]
    },
    {
     "name": "stderr",
     "output_type": "stream",
     "text": [
      "OpenCV: FFMPEG: tag 0x5634504d/'MP4V' is not supported with codec id 12 and format 'mp4 / MP4 (MPEG-4 Part 14)'\n",
      "OpenCV: FFMPEG: fallback to use tag 0x7634706d/'mp4v'\n",
      "OpenCV: FFMPEG: tag 0x5634504d/'MP4V' is not supported with codec id 12 and format 'mp4 / MP4 (MPEG-4 Part 14)'\n",
      "OpenCV: FFMPEG: fallback to use tag 0x7634706d/'mp4v'\n"
     ]
    },
    {
     "name": "stdout",
     "output_type": "stream",
     "text": [
      "\n",
      "\n",
      "Face video saved to processed_videos/id1_id16_0003.mp4Face video saved to processed_videos/id2_id4_0006.mp4\n",
      "Faces saved to faces/id17_id1_0009\n",
      "\n"
     ]
    },
    {
     "name": "stderr",
     "output_type": "stream",
     "text": [
      "OpenCV: FFMPEG: tag 0x5634504d/'MP4V' is not supported with codec id 12 and format 'mp4 / MP4 (MPEG-4 Part 14)'\n",
      "OpenCV: FFMPEG: fallback to use tag 0x7634706d/'mp4v'\n",
      "OpenCV: FFMPEG: tag 0x5634504d/'MP4V' is not supported with codec id 12 and format 'mp4 / MP4 (MPEG-4 Part 14)'\n",
      "OpenCV: FFMPEG: fallback to use tag 0x7634706d/'mp4v'\n",
      "OpenCV: FFMPEG: tag 0x5634504d/'MP4V' is not supported with codec id 12 and format 'mp4 / MP4 (MPEG-4 Part 14)'\n",
      "OpenCV: FFMPEG: fallback to use tag 0x7634706d/'mp4v'\n"
     ]
    },
    {
     "name": "stdout",
     "output_type": "stream",
     "text": [
      "Face video saved to processed_videos/id17_id1_0009.mp4\n",
      "Faces saved to faces/id16_id9_0006\n",
      "Saved 10 frames to frames/id17_id1_0005Faces saved to faces/id3_id0_0002\n",
      "Face video saved to processed_videos/id16_id9_0006.mp4\n",
      "\n",
      "Face video saved to processed_videos/id3_id0_0002.mp4"
     ]
    },
    {
     "name": "stderr",
     "output_type": "stream",
     "text": [
      "OpenCV: FFMPEG: tag 0x5634504d/'MP4V' is not supported with codec id 12 and format 'mp4 / MP4 (MPEG-4 Part 14)'\n",
      "OpenCV: FFMPEG: fallback to use tag 0x7634706d/'mp4v'\n",
      "OpenCV: FFMPEG: tag 0x5634504d/'MP4V' is not supported with codec id 12 and format 'mp4 / MP4 (MPEG-4 Part 14)'\n",
      "OpenCV: FFMPEG: fallback to use tag 0x7634706d/'mp4v'\n"
     ]
    },
    {
     "name": "stdout",
     "output_type": "stream",
     "text": [
      "Faces saved to faces/id17_id0_0003\n",
      "\n",
      "Face video saved to processed_videos/id17_id0_0003.mp4\n",
      "Saved 9 frames to frames/id17_id0_0009Faces saved to faces/id1_id17_0004Saved 12 frames to frames/id2_id6_0003"
     ]
    },
    {
     "name": "stderr",
     "output_type": "stream",
     "text": [
      "OpenCV: FFMPEG: tag 0x5634504d/'MP4V' is not supported with codec id 12 and format 'mp4 / MP4 (MPEG-4 Part 14)'\n",
      "OpenCV: FFMPEG: fallback to use tag 0x7634706d/'mp4v'\n"
     ]
    },
    {
     "name": "stdout",
     "output_type": "stream",
     "text": [
      "\n",
      "\n",
      "\n",
      "Saved 9 frames to frames/id1_id2_0001\n",
      "Face video saved to processed_videos/id1_id17_0004.mp4Saved 12 frames to frames/id2_id9_0003\n",
      "\n"
     ]
    },
    {
     "name": "stderr",
     "output_type": "stream",
     "text": [
      "OpenCV: FFMPEG: tag 0x5634504d/'MP4V' is not supported with codec id 12 and format 'mp4 / MP4 (MPEG-4 Part 14)'\n",
      "OpenCV: FFMPEG: fallback to use tag 0x7634706d/'mp4v'\n"
     ]
    },
    {
     "name": "stdout",
     "output_type": "stream",
     "text": [
      "Faces saved to faces/id3_id16_0002Faces saved to faces/id1_id6_0009\n",
      "\n",
      "Face video saved to processed_videos/id3_id16_0002.mp4Face video saved to processed_videos/id1_id6_0009.mp4\n",
      "Saved 10 frames to frames/id17_id16_0004\n",
      "\n"
     ]
    },
    {
     "name": "stderr",
     "output_type": "stream",
     "text": [
      "OpenCV: FFMPEG: tag 0x5634504d/'MP4V' is not supported with codec id 12 and format 'mp4 / MP4 (MPEG-4 Part 14)'\n",
      "OpenCV: FFMPEG: fallback to use tag 0x7634706d/'mp4v'\n",
      "OpenCV: FFMPEG: tag 0x5634504d/'MP4V' is not supported with codec id 12 and format 'mp4 / MP4 (MPEG-4 Part 14)'\n",
      "OpenCV: FFMPEG: fallback to use tag 0x7634706d/'mp4v'\n"
     ]
    },
    {
     "name": "stdout",
     "output_type": "stream",
     "text": [
      "Faces saved to faces/id17_id16_0007\n",
      "Face video saved to processed_videos/id17_id16_0007.mp4\n"
     ]
    },
    {
     "name": "stderr",
     "output_type": "stream",
     "text": [
      "OpenCV: FFMPEG: tag 0x5634504d/'MP4V' is not supported with codec id 12 and format 'mp4 / MP4 (MPEG-4 Part 14)'\n",
      "OpenCV: FFMPEG: fallback to use tag 0x7634706d/'mp4v'\n"
     ]
    },
    {
     "name": "stdout",
     "output_type": "stream",
     "text": [
      "Saved 14 frames to frames/id4_id0_0004\n",
      "Saved 10 frames to frames/id17_id2_0000Faces saved to faces/id0_id17_0007\n",
      "\n",
      "Saved 16 frames to frames/id1_id2_0006\n",
      "Face video saved to processed_videos/id0_id17_0007.mp4\n",
      "Saved 13 frames to frames/id1_id16_0004\n"
     ]
    },
    {
     "name": "stderr",
     "output_type": "stream",
     "text": [
      "OpenCV: FFMPEG: tag 0x5634504d/'MP4V' is not supported with codec id 12 and format 'mp4 / MP4 (MPEG-4 Part 14)'\n",
      "OpenCV: FFMPEG: fallback to use tag 0x7634706d/'mp4v'\n"
     ]
    },
    {
     "name": "stdout",
     "output_type": "stream",
     "text": [
      "Faces saved to faces/id3_id0_0007\n",
      "Face video saved to processed_videos/id3_id0_0007.mp4Faces saved to faces/id17_id6_0006\n",
      "\n"
     ]
    },
    {
     "name": "stderr",
     "output_type": "stream",
     "text": [
      "OpenCV: FFMPEG: tag 0x5634504d/'MP4V' is not supported with codec id 12 and format 'mp4 / MP4 (MPEG-4 Part 14)'\n",
      "OpenCV: FFMPEG: fallback to use tag 0x7634706d/'mp4v'\n"
     ]
    },
    {
     "name": "stdout",
     "output_type": "stream",
     "text": [
      "Face video saved to processed_videos/id17_id6_0006.mp4\n",
      "Saved 15 frames to frames/id1_id4_0003\n"
     ]
    },
    {
     "name": "stderr",
     "output_type": "stream",
     "text": [
      "OpenCV: FFMPEG: tag 0x5634504d/'MP4V' is not supported with codec id 12 and format 'mp4 / MP4 (MPEG-4 Part 14)'\n",
      "OpenCV: FFMPEG: fallback to use tag 0x7634706d/'mp4v'\n"
     ]
    },
    {
     "name": "stdout",
     "output_type": "stream",
     "text": [
      "Saved 13 frames to frames/id3_id4_0006\n",
      "Saved 15 frames to frames/id2_id4_0007\n",
      "Saved 12 frames to frames/id3_id0_0003\n",
      "Faces saved to faces/id17_id9_0002\n",
      "Face video saved to processed_videos/id17_id9_0002.mp4\n",
      "Saved 14 frames to frames/id1_id17_0005\n"
     ]
    },
    {
     "name": "stderr",
     "output_type": "stream",
     "text": [
      "OpenCV: FFMPEG: tag 0x5634504d/'MP4V' is not supported with codec id 12 and format 'mp4 / MP4 (MPEG-4 Part 14)'\n",
      "OpenCV: FFMPEG: fallback to use tag 0x7634706d/'mp4v'\n"
     ]
    },
    {
     "name": "stdout",
     "output_type": "stream",
     "text": [
      "Faces saved to faces/id13_id7_0001\n",
      "Face video saved to processed_videos/id13_id7_0001.mp4"
     ]
    },
    {
     "name": "stderr",
     "output_type": "stream",
     "text": [
      "OpenCV: FFMPEG: tag 0x5634504d/'MP4V' is not supported with codec id 12 and format 'mp4 / MP4 (MPEG-4 Part 14)'\n",
      "OpenCV: FFMPEG: fallback to use tag 0x7634706d/'mp4v'\n"
     ]
    },
    {
     "name": "stdout",
     "output_type": "stream",
     "text": [
      "\n",
      "Saved 12 frames to frames/id3_id16_0003\n",
      "Saved 12 frames to frames/id1_id9_0000\n",
      "Saved 9 frames to frames/id17_id16_0009\n",
      "Saved 12 frames to frames/id9_id6_0004\n",
      "Faces saved to faces/id2_id9_0007\n",
      "Faces saved to faces/id2_id6_0007\n",
      "Face video saved to processed_videos/id2_id9_0007.mp4\n",
      "Saved 8 frames to frames/id17_id9_0003Faces saved to faces/id3_id16_0008\n",
      "Saved 15 frames to frames/id3_id0_0008\n"
     ]
    },
    {
     "name": "stderr",
     "output_type": "stream",
     "text": [
      "OpenCV: FFMPEG: tag 0x5634504d/'MP4V' is not supported with codec id 12 and format 'mp4 / MP4 (MPEG-4 Part 14)'\n",
      "OpenCV: FFMPEG: fallback to use tag 0x7634706d/'mp4v'\n",
      "OpenCV: FFMPEG: tag 0x5634504d/'MP4V' is not supported with codec id 12 and format 'mp4 / MP4 (MPEG-4 Part 14)'\n",
      "OpenCV: FFMPEG: fallback to use tag 0x7634706d/'mp4v'\n",
      "OpenCV: FFMPEG: tag 0x5634504d/'MP4V' is not supported with codec id 12 and format 'mp4 / MP4 (MPEG-4 Part 14)'\n",
      "OpenCV: FFMPEG: fallback to use tag 0x7634706d/'mp4v'\n"
     ]
    },
    {
     "name": "stdout",
     "output_type": "stream",
     "text": [
      "Face video saved to processed_videos/id2_id6_0007.mp4\n",
      "\n",
      "Face video saved to processed_videos/id3_id16_0008.mp4Saved 16 frames to frames/id3_id6_0004Saved 9 frames to frames/id17_id6_0007\n",
      "\n",
      "\n",
      "Faces saved to faces/id17_id6_0001\n",
      "Face video saved to processed_videos/id17_id6_0001.mp4\n"
     ]
    },
    {
     "name": "stderr",
     "output_type": "stream",
     "text": [
      "OpenCV: FFMPEG: tag 0x5634504d/'MP4V' is not supported with codec id 12 and format 'mp4 / MP4 (MPEG-4 Part 14)'\n",
      "OpenCV: FFMPEG: fallback to use tag 0x7634706d/'mp4v'\n"
     ]
    },
    {
     "name": "stdout",
     "output_type": "stream",
     "text": [
      "Faces saved to faces/id3_id17_0003\n",
      "Face video saved to processed_videos/id3_id17_0003.mp4\n"
     ]
    },
    {
     "name": "stderr",
     "output_type": "stream",
     "text": [
      "OpenCV: FFMPEG: tag 0x5634504d/'MP4V' is not supported with codec id 12 and format 'mp4 / MP4 (MPEG-4 Part 14)'\n",
      "OpenCV: FFMPEG: fallback to use tag 0x7634706d/'mp4v'\n"
     ]
    },
    {
     "name": "stdout",
     "output_type": "stream",
     "text": [
      "Faces saved to faces/id3_id17_0008\n",
      "Face video saved to processed_videos/id3_id17_0008.mp4\n"
     ]
    },
    {
     "name": "stderr",
     "output_type": "stream",
     "text": [
      "OpenCV: FFMPEG: tag 0x5634504d/'MP4V' is not supported with codec id 12 and format 'mp4 / MP4 (MPEG-4 Part 14)'\n",
      "OpenCV: FFMPEG: fallback to use tag 0x7634706d/'mp4v'\n"
     ]
    },
    {
     "name": "stdout",
     "output_type": "stream",
     "text": [
      "Saved 12 frames to frames/id3_id6_0007\n",
      "Faces saved to faces/id17_id2_0005\n",
      "Face video saved to processed_videos/id17_id2_0005.mp4\n"
     ]
    },
    {
     "name": "stderr",
     "output_type": "stream",
     "text": [
      "OpenCV: FFMPEG: tag 0x5634504d/'MP4V' is not supported with codec id 12 and format 'mp4 / MP4 (MPEG-4 Part 14)'\n",
      "OpenCV: FFMPEG: fallback to use tag 0x7634706d/'mp4v'\n"
     ]
    },
    {
     "name": "stdout",
     "output_type": "stream",
     "text": [
      "Saved 11 frames to frames/id17_id6_0002\n",
      "Faces saved to faces/id17_id3_0000\n",
      "Face video saved to processed_videos/id17_id3_0000.mp4"
     ]
    },
    {
     "name": "stderr",
     "output_type": "stream",
     "text": [
      "OpenCV: FFMPEG: tag 0x5634504d/'MP4V' is not supported with codec id 12 and format 'mp4 / MP4 (MPEG-4 Part 14)'\n",
      "OpenCV: FFMPEG: fallback to use tag 0x7634706d/'mp4v'\n"
     ]
    },
    {
     "name": "stdout",
     "output_type": "stream",
     "text": [
      "\n",
      "Faces saved to faces/id0_id2_0000Faces saved to faces/id2_id0_0005\n",
      "Face video saved to processed_videos/id2_id0_0005.mp4\n",
      "\n"
     ]
    },
    {
     "name": "stderr",
     "output_type": "stream",
     "text": [
      "OpenCV: FFMPEG: tag 0x5634504d/'MP4V' is not supported with codec id 12 and format 'mp4 / MP4 (MPEG-4 Part 14)'\n",
      "OpenCV: FFMPEG: fallback to use tag 0x7634706d/'mp4v'\n",
      "OpenCV: FFMPEG: tag 0x5634504d/'MP4V' is not supported with codec id 12 and format 'mp4 / MP4 (MPEG-4 Part 14)'\n",
      "OpenCV: FFMPEG: fallback to use tag 0x7634706d/'mp4v'\n"
     ]
    },
    {
     "name": "stdout",
     "output_type": "stream",
     "text": [
      "Saved 16 frames to frames/id3_id16_0009Saved 6 frames to frames/id17_id2_0006\n",
      "Face video saved to processed_videos/id0_id2_0000.mp4\n",
      "\n",
      "Faces saved to faces/id1_id9_0004\n",
      "Faces saved to faces/id2_id17_0005\n",
      "Face video saved to processed_videos/id2_id17_0005.mp4Face video saved to processed_videos/id1_id9_0004.mp4\n",
      "\n",
      "Faces saved to faces/id1_id4_0007"
     ]
    },
    {
     "name": "stderr",
     "output_type": "stream",
     "text": [
      "OpenCV: FFMPEG: tag 0x5634504d/'MP4V' is not supported with codec id 12 and format 'mp4 / MP4 (MPEG-4 Part 14)'\n",
      "OpenCV: FFMPEG: fallback to use tag 0x7634706d/'mp4v'\n",
      "OpenCV: FFMPEG: tag 0x5634504d/'MP4V' is not supported with codec id 12 and format 'mp4 / MP4 (MPEG-4 Part 14)'\n",
      "OpenCV: FFMPEG: fallback to use tag 0x7634706d/'mp4v'\n"
     ]
    },
    {
     "name": "stdout",
     "output_type": "stream",
     "text": [
      "Saved 16 frames to frames/id3_id17_0004\n",
      "\n",
      "Saved 17 frames to frames/id2_id6_0008\n",
      "Face video saved to processed_videos/id1_id4_0007.mp4Faces saved to faces/id2_id16_0005\n",
      "\n"
     ]
    },
    {
     "name": "stderr",
     "output_type": "stream",
     "text": [
      "OpenCV: FFMPEG: tag 0x5634504d/'MP4V' is not supported with codec id 12 and format 'mp4 / MP4 (MPEG-4 Part 14)'\n",
      "OpenCV: FFMPEG: fallback to use tag 0x7634706d/'mp4v'\n"
     ]
    },
    {
     "name": "stdout",
     "output_type": "stream",
     "text": [
      "Faces saved to faces/id2_id1_0005Face video saved to processed_videos/id2_id16_0005.mp4\n",
      "\n"
     ]
    },
    {
     "name": "stderr",
     "output_type": "stream",
     "text": [
      "OpenCV: FFMPEG: tag 0x5634504d/'MP4V' is not supported with codec id 12 and format 'mp4 / MP4 (MPEG-4 Part 14)'\n",
      "OpenCV: FFMPEG: fallback to use tag 0x7634706d/'mp4v'\n",
      "OpenCV: FFMPEG: tag 0x5634504d/'MP4V' is not supported with codec id 12 and format 'mp4 / MP4 (MPEG-4 Part 14)'\n",
      "OpenCV: FFMPEG: fallback to use tag 0x7634706d/'mp4v'\n"
     ]
    },
    {
     "name": "stdout",
     "output_type": "stream",
     "text": [
      "Face video saved to processed_videos/id2_id1_0005.mp4Saved 17 frames to frames/id2_id9_0008\n",
      "\n",
      "Faces saved to faces/id17_id16_0004\n",
      "Face video saved to processed_videos/id17_id16_0004.mp4\n"
     ]
    },
    {
     "name": "stderr",
     "output_type": "stream",
     "text": [
      "OpenCV: FFMPEG: tag 0x5634504d/'MP4V' is not supported with codec id 12 and format 'mp4 / MP4 (MPEG-4 Part 14)'\n",
      "OpenCV: FFMPEG: fallback to use tag 0x7634706d/'mp4v'\n"
     ]
    },
    {
     "name": "stdout",
     "output_type": "stream",
     "text": [
      "Faces saved to faces/id2_id0_0000\n",
      "Faces saved to faces/id1_id0_0003\n",
      "Face video saved to processed_videos/id2_id0_0000.mp4Faces saved to faces/id1_id3_0006Face video saved to processed_videos/id1_id0_0003.mp4\n",
      "\n",
      "\n",
      "Faces saved to faces/id17_id3_0006"
     ]
    },
    {
     "name": "stderr",
     "output_type": "stream",
     "text": [
      "OpenCV: FFMPEG: tag 0x5634504d/'MP4V' is not supported with codec id 12 and format 'mp4 / MP4 (MPEG-4 Part 14)'\n",
      "OpenCV: FFMPEG: fallback to use tag 0x7634706d/'mp4v'\n",
      "OpenCV: FFMPEG: tag 0x5634504d/'MP4V' is not supported with codec id 12 and format 'mp4 / MP4 (MPEG-4 Part 14)'\n",
      "OpenCV: FFMPEG: fallback to use tag 0x7634706d/'mp4v'\n",
      "OpenCV: FFMPEG: tag 0x5634504d/'MP4V' is not supported with codec id 12 and format 'mp4 / MP4 (MPEG-4 Part 14)'\n",
      "OpenCV: FFMPEG: fallback to use tag 0x7634706d/'mp4v'\n"
     ]
    },
    {
     "name": "stdout",
     "output_type": "stream",
     "text": [
      "Faces saved to faces/id2_id16_0000Face video saved to processed_videos/id1_id3_0006.mp4\n",
      "\n",
      "Saved 16 frames to frames/id3_id17_0009Face video saved to processed_videos/id17_id3_0006.mp4\n",
      "\n",
      "\n",
      "Saved 10 frames to frames/id17_id3_0001Face video saved to processed_videos/id2_id16_0000.mp4\n"
     ]
    },
    {
     "name": "stderr",
     "output_type": "stream",
     "text": [
      "OpenCV: FFMPEG: tag 0x5634504d/'MP4V' is not supported with codec id 12 and format 'mp4 / MP4 (MPEG-4 Part 14)'\n",
      "OpenCV: FFMPEG: fallback to use tag 0x7634706d/'mp4v'\n",
      "OpenCV: FFMPEG: tag 0x5634504d/'MP4V' is not supported with codec id 12 and format 'mp4 / MP4 (MPEG-4 Part 14)'\n",
      "OpenCV: FFMPEG: fallback to use tag 0x7634706d/'mp4v'\n"
     ]
    },
    {
     "name": "stdout",
     "output_type": "stream",
     "text": [
      "\n",
      "Saved 12 frames to frames/id3_id9_0001\n",
      "Saved 12 frames to frames/id2_id0_0006Saved 12 frames to frames/id2_id17_0006\n",
      "\n",
      "Saved 14 frames to frames/id1_id9_0005\n",
      "Faces saved to faces/id1_id6_0003\n",
      "Face video saved to processed_videos/id1_id6_0003.mp4Saved 13 frames to frames/id1_id4_0009Faces saved to faces/id1_id2_0001\n",
      "\n"
     ]
    },
    {
     "name": "stderr",
     "output_type": "stream",
     "text": [
      "OpenCV: FFMPEG: tag 0x5634504d/'MP4V' is not supported with codec id 12 and format 'mp4 / MP4 (MPEG-4 Part 14)'\n",
      "OpenCV: FFMPEG: fallback to use tag 0x7634706d/'mp4v'\n"
     ]
    },
    {
     "name": "stdout",
     "output_type": "stream",
     "text": [
      "Faces saved to faces/id1_id17_0000\n",
      "\n",
      "Face video saved to processed_videos/id1_id2_0001.mp4\n",
      "Saved 12 frames to frames/id2_id16_0006\n",
      "Face video saved to processed_videos/id1_id17_0000.mp4\n"
     ]
    },
    {
     "name": "stderr",
     "output_type": "stream",
     "text": [
      "OpenCV: FFMPEG: tag 0x5634504d/'MP4V' is not supported with codec id 12 and format 'mp4 / MP4 (MPEG-4 Part 14)'\n",
      "OpenCV: FFMPEG: fallback to use tag 0x7634706d/'mp4v'\n",
      "OpenCV: FFMPEG: tag 0x5634504d/'MP4V' is not supported with codec id 12 and format 'mp4 / MP4 (MPEG-4 Part 14)'\n",
      "OpenCV: FFMPEG: fallback to use tag 0x7634706d/'mp4v'\n"
     ]
    },
    {
     "name": "stdout",
     "output_type": "stream",
     "text": [
      "Saved 12 frames to frames/id2_id1_0006\n",
      "Saved 10 frames to frames/id1_id3_0007Saved 13 frames to frames/id3_id9_0006\n",
      "\n",
      "Saved 12 frames to frames/id2_id0_0001\n",
      "Saved 13 frames to frames/id1_id0_0004\n",
      "Saved 9 frames to frames/id17_id3_0007\n",
      "Saved 12 frames to frames/id2_id16_0001\n",
      "Faces saved to faces/id2_id17_0000\n",
      "Faces saved to faces/id3_id1_0004Face video saved to processed_videos/id2_id17_0000.mp4\n",
      "\n",
      "Faces saved to faces/id2_id1_0000\n",
      "Faces saved to faces/id0_id9_0007Face video saved to processed_videos/id3_id1_0004.mp4Faces saved to faces/id1_id3_0002\n",
      "\n",
      "Face video saved to processed_videos/id2_id1_0000.mp4\n",
      "\n"
     ]
    },
    {
     "name": "stderr",
     "output_type": "stream",
     "text": [
      "OpenCV: FFMPEG: tag 0x5634504d/'MP4V' is not supported with codec id 12 and format 'mp4 / MP4 (MPEG-4 Part 14)'\n",
      "OpenCV: FFMPEG: fallback to use tag 0x7634706d/'mp4v'\n",
      "OpenCV: FFMPEG: tag 0x5634504d/'MP4V' is not supported with codec id 12 and format 'mp4 / MP4 (MPEG-4 Part 14)'\n",
      "OpenCV: FFMPEG: fallback to use tag 0x7634706d/'mp4v'\n",
      "OpenCV: FFMPEG: tag 0x5634504d/'MP4V' is not supported with codec id 12 and format 'mp4 / MP4 (MPEG-4 Part 14)'\n",
      "OpenCV: FFMPEG: fallback to use tag 0x7634706d/'mp4v'\n",
      "OpenCV: FFMPEG: tag 0x5634504d/'MP4V' is not supported with codec id 12 and format 'mp4 / MP4 (MPEG-4 Part 14)'\n",
      "OpenCV: FFMPEG: fallback to use tag 0x7634706d/'mp4v'\n"
     ]
    },
    {
     "name": "stdout",
     "output_type": "stream",
     "text": [
      "Face video saved to processed_videos/id1_id3_0002.mp4Faces saved to faces/id2_id3_0005Face video saved to processed_videos/id0_id9_0007.mp4\n",
      "\n",
      "\n",
      "Face video saved to processed_videos/id2_id3_0005.mp4"
     ]
    },
    {
     "name": "stderr",
     "output_type": "stream",
     "text": [
      "OpenCV: FFMPEG: tag 0x5634504d/'MP4V' is not supported with codec id 12 and format 'mp4 / MP4 (MPEG-4 Part 14)'\n",
      "OpenCV: FFMPEG: fallback to use tag 0x7634706d/'mp4v'\n",
      "OpenCV: FFMPEG: tag 0x5634504d/'MP4V' is not supported with codec id 12 and format 'mp4 / MP4 (MPEG-4 Part 14)'\n",
      "OpenCV: FFMPEG: fallback to use tag 0x7634706d/'mp4v'\n"
     ]
    },
    {
     "name": "stdout",
     "output_type": "stream",
     "text": [
      "\n",
      "Faces saved to faces/id2_id3_0000\n",
      "Saved 9 frames to frames/id1_id17_0001\n",
      "Face video saved to processed_videos/id2_id3_0000.mp4\n"
     ]
    },
    {
     "name": "stderr",
     "output_type": "stream",
     "text": [
      "OpenCV: FFMPEG: tag 0x5634504d/'MP4V' is not supported with codec id 12 and format 'mp4 / MP4 (MPEG-4 Part 14)'\n",
      "OpenCV: FFMPEG: fallback to use tag 0x7634706d/'mp4v'\n"
     ]
    },
    {
     "name": "stdout",
     "output_type": "stream",
     "text": [
      "Faces saved to faces/id0_id9_0001\n",
      "Face video saved to processed_videos/id0_id9_0001.mp4Saved 13 frames to frames/id1_id6_0004\n",
      "\n"
     ]
    },
    {
     "name": "stderr",
     "output_type": "stream",
     "text": [
      "OpenCV: FFMPEG: tag 0x5634504d/'MP4V' is not supported with codec id 12 and format 'mp4 / MP4 (MPEG-4 Part 14)'\n",
      "OpenCV: FFMPEG: fallback to use tag 0x7634706d/'mp4v'\n"
     ]
    },
    {
     "name": "stdout",
     "output_type": "stream",
     "text": [
      "Saved 13 frames to frames/id1_id2_0002\n",
      "Faces saved to faces/id3_id2_0004\n",
      "Faces saved to faces/id1_id0_0009\n",
      "Face video saved to processed_videos/id3_id2_0004.mp4Face video saved to processed_videos/id1_id0_0009.mp4\n"
     ]
    },
    {
     "name": "stderr",
     "output_type": "stream",
     "text": [
      "OpenCV: FFMPEG: tag 0x5634504d/'MP4V' is not supported with codec id 12 and format 'mp4 / MP4 (MPEG-4 Part 14)'\n",
      "OpenCV: FFMPEG: fallback to use tag 0x7634706d/'mp4v'\n",
      "OpenCV: FFMPEG: tag 0x5634504d/'MP4V' is not supported with codec id 12 and format 'mp4 / MP4 (MPEG-4 Part 14)'\n",
      "OpenCV: FFMPEG: fallback to use tag 0x7634706d/'mp4v'\n"
     ]
    },
    {
     "name": "stdout",
     "output_type": "stream",
     "text": [
      "\n",
      "Saved 13 frames to frames/id3_id1_0005\n",
      "Faces saved to faces/id1_id16_0004\n",
      "Face video saved to processed_videos/id1_id16_0004.mp4\n",
      "Faces saved to faces/id17_id9_0003\n"
     ]
    },
    {
     "name": "stderr",
     "output_type": "stream",
     "text": [
      "OpenCV: FFMPEG: tag 0x5634504d/'MP4V' is not supported with codec id 12 and format 'mp4 / MP4 (MPEG-4 Part 14)'\n",
      "OpenCV: FFMPEG: fallback to use tag 0x7634706d/'mp4v'\n"
     ]
    },
    {
     "name": "stdout",
     "output_type": "stream",
     "text": [
      "Face video saved to processed_videos/id17_id9_0003.mp4Saved 12 frames to frames/id2_id17_0001\n",
      "\n"
     ]
    },
    {
     "name": "stderr",
     "output_type": "stream",
     "text": [
      "OpenCV: FFMPEG: tag 0x5634504d/'MP4V' is not supported with codec id 12 and format 'mp4 / MP4 (MPEG-4 Part 14)'\n",
      "OpenCV: FFMPEG: fallback to use tag 0x7634706d/'mp4v'\n"
     ]
    },
    {
     "name": "stdout",
     "output_type": "stream",
     "text": [
      "Faces saved to faces/id2_id9_0003\n",
      "Faces saved to faces/id2_id4_0000Faces saved to faces/id17_id9_0007Faces saved to faces/id0_id3_0000\n",
      "Face video saved to processed_videos/id2_id9_0003.mp4\n",
      "\n",
      "Face video saved to processed_videos/id2_id4_0000.mp4\n",
      "Face video saved to processed_videos/id17_id9_0007.mp4\n",
      "\n",
      "Face video saved to processed_videos/id0_id3_0000.mp4"
     ]
    },
    {
     "name": "stderr",
     "output_type": "stream",
     "text": [
      "OpenCV: FFMPEG: tag 0x5634504d/'MP4V' is not supported with codec id 12 and format 'mp4 / MP4 (MPEG-4 Part 14)'\n",
      "OpenCV: FFMPEG: fallback to use tag 0x7634706d/'mp4v'\n",
      "OpenCV: FFMPEG: tag 0x5634504d/'MP4V' is not supported with codec id 12 and format 'mp4 / MP4 (MPEG-4 Part 14)'\n",
      "OpenCV: FFMPEG: fallback to use tag 0x7634706d/'mp4v'\n",
      "OpenCV: FFMPEG: tag 0x5634504d/'MP4V' is not supported with codec id 12 and format 'mp4 / MP4 (MPEG-4 Part 14)'\n",
      "OpenCV: FFMPEG: fallback to use tag 0x7634706d/'mp4v'\n",
      "OpenCV: FFMPEG: tag 0x5634504d/'MP4V' is not supported with codec id 12 and format 'mp4 / MP4 (MPEG-4 Part 14)'\n",
      "OpenCV: FFMPEG: fallback to use tag 0x7634706d/'mp4v'\n"
     ]
    },
    {
     "name": "stdout",
     "output_type": "stream",
     "text": [
      "\n",
      "Saved 12 frames to frames/id2_id1_0001\n",
      "Saved 10 frames to frames/id4_id1_0008Saved 12 frames to frames/id2_id3_0006\n",
      "\n",
      "Faces saved to faces/id2_id6_0003Saved 12 frames to frames/id2_id3_0001Saved 15 frames to frames/id1_id3_0003\n",
      "\n",
      "\n",
      "Face video saved to processed_videos/id2_id6_0003.mp4\n",
      "Faces saved to faces/id16_id9_0012"
     ]
    },
    {
     "name": "stderr",
     "output_type": "stream",
     "text": [
      "OpenCV: FFMPEG: tag 0x5634504d/'MP4V' is not supported with codec id 12 and format 'mp4 / MP4 (MPEG-4 Part 14)'\n",
      "OpenCV: FFMPEG: fallback to use tag 0x7634706d/'mp4v'\n"
     ]
    },
    {
     "name": "stdout",
     "output_type": "stream",
     "text": [
      "\n",
      "Face video saved to processed_videos/id16_id9_0012.mp4\n"
     ]
    },
    {
     "name": "stderr",
     "output_type": "stream",
     "text": [
      "OpenCV: FFMPEG: tag 0x5634504d/'MP4V' is not supported with codec id 12 and format 'mp4 / MP4 (MPEG-4 Part 14)'\n",
      "OpenCV: FFMPEG: fallback to use tag 0x7634706d/'mp4v'\n"
     ]
    },
    {
     "name": "stdout",
     "output_type": "stream",
     "text": [
      "Saved 12 frames to frames/id1_id16_0000\n",
      "Saved 13 frames to frames/id3_id2_0005\n",
      "Saved 10 frames to frames/id17_id9_0004\n",
      "Faces saved to faces/id17_id2_0000\n",
      "Face video saved to processed_videos/id17_id2_0000.mp4\n"
     ]
    },
    {
     "name": "stderr",
     "output_type": "stream",
     "text": [
      "OpenCV: FFMPEG: tag 0x5634504d/'MP4V' is not supported with codec id 12 and format 'mp4 / MP4 (MPEG-4 Part 14)'\n",
      "OpenCV: FFMPEG: fallback to use tag 0x7634706d/'mp4v'\n"
     ]
    },
    {
     "name": "stdout",
     "output_type": "stream",
     "text": [
      "Saved 14 frames to frames/id1_id16_0005\n",
      "Saved 14 frames to frames/id2_id9_0004\n",
      "Saved 12 frames to frames/id2_id4_0001\n",
      "Saved 9 frames to frames/id17_id9_0009\n",
      "Faces saved to faces/id17_id0_0009\n",
      "Face video saved to processed_videos/id17_id0_0009.mp4\n"
     ]
    },
    {
     "name": "stderr",
     "output_type": "stream",
     "text": [
      "OpenCV: FFMPEG: tag 0x5634504d/'MP4V' is not supported with codec id 12 and format 'mp4 / MP4 (MPEG-4 Part 14)'\n",
      "OpenCV: FFMPEG: fallback to use tag 0x7634706d/'mp4v'\n"
     ]
    },
    {
     "name": "stdout",
     "output_type": "stream",
     "text": [
      "Saved 14 frames to frames/id2_id6_0004\n",
      "Saved 9 frames to frames/id6_id0_0006\n",
      "Faces saved to faces/id13_id7_0015\n",
      "Faces saved to faces/id1_id17_0005Saved 13 frames to frames/id8_id0_0003Face video saved to processed_videos/id13_id7_0015.mp4\n",
      "\n",
      "\n",
      "Face video saved to processed_videos/id1_id17_0005.mp4Saved 10 frames to frames/id17_id2_0001"
     ]
    },
    {
     "name": "stderr",
     "output_type": "stream",
     "text": [
      "OpenCV: FFMPEG: tag 0x5634504d/'MP4V' is not supported with codec id 12 and format 'mp4 / MP4 (MPEG-4 Part 14)'\n",
      "OpenCV: FFMPEG: fallback to use tag 0x7634706d/'mp4v'\n",
      "OpenCV: FFMPEG: tag 0x5634504d/'MP4V' is not supported with codec id 12 and format 'mp4 / MP4 (MPEG-4 Part 14)'\n",
      "OpenCV: FFMPEG: fallback to use tag 0x7634706d/'mp4v'\n"
     ]
    },
    {
     "name": "stdout",
     "output_type": "stream",
     "text": [
      "\n",
      "\n",
      "Saved 21 frames to frames/id6_id0_0000\n",
      "Faces saved to faces/id1_id9_0000\n",
      "Face video saved to processed_videos/id1_id9_0000.mp4\n"
     ]
    },
    {
     "name": "stderr",
     "output_type": "stream",
     "text": [
      "OpenCV: FFMPEG: tag 0x5634504d/'MP4V' is not supported with codec id 12 and format 'mp4 / MP4 (MPEG-4 Part 14)'\n",
      "OpenCV: FFMPEG: fallback to use tag 0x7634706d/'mp4v'\n"
     ]
    },
    {
     "name": "stdout",
     "output_type": "stream",
     "text": [
      "Faces saved to faces/id3_id4_0006\n",
      "Faces saved to faces/id17_id1_0005\n",
      "Face video saved to processed_videos/id17_id1_0005.mp4\n",
      "Face video saved to processed_videos/id3_id4_0006.mp4\n"
     ]
    },
    {
     "name": "stderr",
     "output_type": "stream",
     "text": [
      "OpenCV: FFMPEG: tag 0x5634504d/'MP4V' is not supported with codec id 12 and format 'mp4 / MP4 (MPEG-4 Part 14)'\n",
      "OpenCV: FFMPEG: fallback to use tag 0x7634706d/'mp4v'\n",
      "OpenCV: FFMPEG: tag 0x5634504d/'MP4V' is not supported with codec id 12 and format 'mp4 / MP4 (MPEG-4 Part 14)'\n",
      "OpenCV: FFMPEG: fallback to use tag 0x7634706d/'mp4v'\n"
     ]
    },
    {
     "name": "stdout",
     "output_type": "stream",
     "text": [
      "Faces saved to faces/id3_id0_0003\n",
      "Face video saved to processed_videos/id3_id0_0003.mp4\n",
      "Faces saved to faces/id0_id4_0000"
     ]
    },
    {
     "name": "stderr",
     "output_type": "stream",
     "text": [
      "OpenCV: FFMPEG: tag 0x5634504d/'MP4V' is not supported with codec id 12 and format 'mp4 / MP4 (MPEG-4 Part 14)'\n",
      "OpenCV: FFMPEG: fallback to use tag 0x7634706d/'mp4v'\n"
     ]
    },
    {
     "name": "stdout",
     "output_type": "stream",
     "text": [
      "\n",
      "Face video saved to processed_videos/id0_id4_0000.mp4\n"
     ]
    },
    {
     "name": "stderr",
     "output_type": "stream",
     "text": [
      "OpenCV: FFMPEG: tag 0x5634504d/'MP4V' is not supported with codec id 12 and format 'mp4 / MP4 (MPEG-4 Part 14)'\n",
      "OpenCV: FFMPEG: fallback to use tag 0x7634706d/'mp4v'\n"
     ]
    },
    {
     "name": "stdout",
     "output_type": "stream",
     "text": [
      "Faces saved to faces/id17_id6_0002\n",
      "Face video saved to processed_videos/id17_id6_0002.mp4\n",
      "Saved 9 frames to frames/id1_id9_0001"
     ]
    },
    {
     "name": "stderr",
     "output_type": "stream",
     "text": [
      "OpenCV: FFMPEG: tag 0x5634504d/'MP4V' is not supported with codec id 12 and format 'mp4 / MP4 (MPEG-4 Part 14)'\n",
      "OpenCV: FFMPEG: fallback to use tag 0x7634706d/'mp4v'\n"
     ]
    },
    {
     "name": "stdout",
     "output_type": "stream",
     "text": [
      "\n",
      "Faces saved to faces/id17_id2_0006\n",
      "Face video saved to processed_videos/id17_id2_0006.mp4Faces saved to faces/id3_id0_0008Faces saved to faces/id3_id16_0003\n",
      "\n",
      "\n",
      "Face video saved to processed_videos/id3_id16_0003.mp4"
     ]
    },
    {
     "name": "stderr",
     "output_type": "stream",
     "text": [
      "OpenCV: FFMPEG: tag 0x5634504d/'MP4V' is not supported with codec id 12 and format 'mp4 / MP4 (MPEG-4 Part 14)'\n",
      "OpenCV: FFMPEG: fallback to use tag 0x7634706d/'mp4v'\n",
      "OpenCV: FFMPEG: tag 0x5634504d/'MP4V' is not supported with codec id 12 and format 'mp4 / MP4 (MPEG-4 Part 14)'\n",
      "OpenCV: FFMPEG: fallback to use tag 0x7634706d/'mp4v'\n",
      "OpenCV: FFMPEG: tag 0x5634504d/'MP4V' is not supported with codec id 12 and format 'mp4 / MP4 (MPEG-4 Part 14)'\n",
      "OpenCV: FFMPEG: fallback to use tag 0x7634706d/'mp4v'\n"
     ]
    },
    {
     "name": "stdout",
     "output_type": "stream",
     "text": [
      "\n",
      "Face video saved to processed_videos/id3_id0_0008.mp4\n",
      "Saved 16 frames to frames/id1_id17_0006\n",
      "Faces saved to faces/id1_id2_0006\n",
      "Face video saved to processed_videos/id1_id2_0006.mp4Saved 16 frames to frames/id4_id0_0009\n",
      "Faces saved to faces/id1_id4_0003\n",
      "\n"
     ]
    },
    {
     "name": "stderr",
     "output_type": "stream",
     "text": [
      "OpenCV: FFMPEG: tag 0x5634504d/'MP4V' is not supported with codec id 12 and format 'mp4 / MP4 (MPEG-4 Part 14)'\n",
      "OpenCV: FFMPEG: fallback to use tag 0x7634706d/'mp4v'\n"
     ]
    },
    {
     "name": "stdout",
     "output_type": "stream",
     "text": [
      "Face video saved to processed_videos/id1_id4_0003.mp4\n"
     ]
    },
    {
     "name": "stderr",
     "output_type": "stream",
     "text": [
      "OpenCV: FFMPEG: tag 0x5634504d/'MP4V' is not supported with codec id 12 and format 'mp4 / MP4 (MPEG-4 Part 14)'\n",
      "OpenCV: FFMPEG: fallback to use tag 0x7634706d/'mp4v'\n"
     ]
    },
    {
     "name": "stdout",
     "output_type": "stream",
     "text": [
      "Saved 15 frames to frames/id3_id4_0008Faces saved to faces/id17_id16_0009\n",
      "\n",
      "Faces saved to faces/id17_id6_0007Face video saved to processed_videos/id17_id16_0009.mp4\n",
      "Faces saved to faces/id17_id3_0001Face video saved to processed_videos/id17_id6_0007.mp4\n",
      "\n",
      "\n",
      "Saved 16 frames to frames/id4_id1_0002Face video saved to processed_videos/id17_id3_0001.mp4\n"
     ]
    },
    {
     "name": "stderr",
     "output_type": "stream",
     "text": [
      "OpenCV: FFMPEG: tag 0x5634504d/'MP4V' is not supported with codec id 12 and format 'mp4 / MP4 (MPEG-4 Part 14)'\n",
      "OpenCV: FFMPEG: fallback to use tag 0x7634706d/'mp4v'\n",
      "OpenCV: FFMPEG: tag 0x5634504d/'MP4V' is not supported with codec id 12 and format 'mp4 / MP4 (MPEG-4 Part 14)'\n",
      "OpenCV: FFMPEG: fallback to use tag 0x7634706d/'mp4v'\n",
      "OpenCV: FFMPEG: tag 0x5634504d/'MP4V' is not supported with codec id 12 and format 'mp4 / MP4 (MPEG-4 Part 14)'\n",
      "OpenCV: FFMPEG: fallback to use tag 0x7634706d/'mp4v'\n"
     ]
    },
    {
     "name": "stdout",
     "output_type": "stream",
     "text": [
      "\n",
      "Saved 8 frames to frames/id17_id6_0003\n",
      "Faces saved to faces/id3_id6_0004Saved 12 frames to frames/id6_id1_0005\n",
      "\n",
      "Face video saved to processed_videos/id3_id6_0004.mp4\n"
     ]
    },
    {
     "name": "stderr",
     "output_type": "stream",
     "text": [
      "OpenCV: FFMPEG: tag 0x5634504d/'MP4V' is not supported with codec id 12 and format 'mp4 / MP4 (MPEG-4 Part 14)'\n",
      "OpenCV: FFMPEG: fallback to use tag 0x7634706d/'mp4v'\n"
     ]
    },
    {
     "name": "stdout",
     "output_type": "stream",
     "text": [
      "Faces saved to faces/id1_id3_0007Saved 16 frames to frames/id3_id0_0004\n",
      "\n",
      "Face video saved to processed_videos/id1_id3_0007.mp4\n",
      "Saved 10 frames to frames/id4_id1_0006\n"
     ]
    },
    {
     "name": "stderr",
     "output_type": "stream",
     "text": [
      "OpenCV: FFMPEG: tag 0x5634504d/'MP4V' is not supported with codec id 12 and format 'mp4 / MP4 (MPEG-4 Part 14)'\n",
      "OpenCV: FFMPEG: fallback to use tag 0x7634706d/'mp4v'\n"
     ]
    },
    {
     "name": "stdout",
     "output_type": "stream",
     "text": [
      "Faces saved to faces/id3_id6_0007\n",
      "Saved 10 frames to frames/id1_id2_0007Face video saved to processed_videos/id3_id6_0007.mp4\n",
      "\n",
      "Faces saved to faces/id2_id4_0007"
     ]
    },
    {
     "name": "stderr",
     "output_type": "stream",
     "text": [
      "OpenCV: FFMPEG: tag 0x5634504d/'MP4V' is not supported with codec id 12 and format 'mp4 / MP4 (MPEG-4 Part 14)'\n",
      "OpenCV: FFMPEG: fallback to use tag 0x7634706d/'mp4v'\n"
     ]
    },
    {
     "name": "stdout",
     "output_type": "stream",
     "text": [
      "\n",
      "Face video saved to processed_videos/id2_id4_0007.mp4\n"
     ]
    },
    {
     "name": "stderr",
     "output_type": "stream",
     "text": [
      "OpenCV: FFMPEG: tag 0x5634504d/'MP4V' is not supported with codec id 12 and format 'mp4 / MP4 (MPEG-4 Part 14)'\n",
      "OpenCV: FFMPEG: fallback to use tag 0x7634706d/'mp4v'\n"
     ]
    },
    {
     "name": "stdout",
     "output_type": "stream",
     "text": [
      "Saved 13 frames to frames/id1_id4_0004\n",
      "Saved 16 frames to frames/id3_id16_0004\n",
      "Faces saved to faces/id3_id9_0001\n",
      "Faces saved to faces/id1_id17_0001Face video saved to processed_videos/id3_id9_0001.mp4\n",
      "Saved 10 frames to frames/id17_id1_0000\n",
      "\n",
      "Face video saved to processed_videos/id1_id17_0001.mp4"
     ]
    },
    {
     "name": "stderr",
     "output_type": "stream",
     "text": [
      "OpenCV: FFMPEG: tag 0x5634504d/'MP4V' is not supported with codec id 12 and format 'mp4 / MP4 (MPEG-4 Part 14)'\n",
      "OpenCV: FFMPEG: fallback to use tag 0x7634706d/'mp4v'\n",
      "OpenCV: FFMPEG: tag 0x5634504d/'MP4V' is not supported with codec id 12 and format 'mp4 / MP4 (MPEG-4 Part 14)'\n",
      "OpenCV: FFMPEG: fallback to use tag 0x7634706d/'mp4v'\n"
     ]
    },
    {
     "name": "stdout",
     "output_type": "stream",
     "text": [
      "\n",
      "Saved 11 frames to frames/id17_id3_0002\n",
      "Faces saved to faces/id17_id9_0004\n",
      "Saved 9 frames to frames/id17_id6_0009\n",
      "Face video saved to processed_videos/id17_id9_0004.mp4\n"
     ]
    },
    {
     "name": "stderr",
     "output_type": "stream",
     "text": [
      "OpenCV: FFMPEG: tag 0x5634504d/'MP4V' is not supported with codec id 12 and format 'mp4 / MP4 (MPEG-4 Part 14)'\n",
      "OpenCV: FFMPEG: fallback to use tag 0x7634706d/'mp4v'\n"
     ]
    },
    {
     "name": "stdout",
     "output_type": "stream",
     "text": [
      "Faces saved to faces/id1_id0_0004Saved 15 frames to frames/id4_id2_0000Saved 16 frames to frames/id3_id0_0009\n",
      "\n",
      "\n",
      "Face video saved to processed_videos/id1_id0_0004.mp4\n"
     ]
    },
    {
     "name": "stderr",
     "output_type": "stream",
     "text": [
      "OpenCV: FFMPEG: tag 0x5634504d/'MP4V' is not supported with codec id 12 and format 'mp4 / MP4 (MPEG-4 Part 14)'\n",
      "OpenCV: FFMPEG: fallback to use tag 0x7634706d/'mp4v'\n"
     ]
    },
    {
     "name": "stdout",
     "output_type": "stream",
     "text": [
      "Faces saved to faces/id1_id4_0009\n",
      "Face video saved to processed_videos/id1_id4_0009.mp4\n"
     ]
    },
    {
     "name": "stderr",
     "output_type": "stream",
     "text": [
      "OpenCV: FFMPEG: tag 0x5634504d/'MP4V' is not supported with codec id 12 and format 'mp4 / MP4 (MPEG-4 Part 14)'\n",
      "OpenCV: FFMPEG: fallback to use tag 0x7634706d/'mp4v'\n"
     ]
    },
    {
     "name": "stdout",
     "output_type": "stream",
     "text": [
      "Saved 13 frames to frames/id1_id3_0009\n",
      "Faces saved to faces/id3_id1_0009\n",
      "Face video saved to processed_videos/id3_id1_0009.mp4\n"
     ]
    },
    {
     "name": "stderr",
     "output_type": "stream",
     "text": [
      "OpenCV: FFMPEG: tag 0x5634504d/'MP4V' is not supported with codec id 12 and format 'mp4 / MP4 (MPEG-4 Part 14)'\n",
      "OpenCV: FFMPEG: fallback to use tag 0x7634706d/'mp4v'\n"
     ]
    },
    {
     "name": "stdout",
     "output_type": "stream",
     "text": [
      "Faces saved to faces/id3_id17_0004\n",
      "Face video saved to processed_videos/id3_id17_0004.mp4Faces saved to faces/id1_id6_0004\n",
      "Face video saved to processed_videos/id1_id6_0004.mp4\n"
     ]
    },
    {
     "name": "stderr",
     "output_type": "stream",
     "text": [
      "OpenCV: FFMPEG: tag 0x5634504d/'MP4V' is not supported with codec id 12 and format 'mp4 / MP4 (MPEG-4 Part 14)'\n",
      "OpenCV: FFMPEG: fallback to use tag 0x7634706d/'mp4v'\n",
      "OpenCV: FFMPEG: tag 0x5634504d/'MP4V' is not supported with codec id 12 and format 'mp4 / MP4 (MPEG-4 Part 14)'\n",
      "OpenCV: FFMPEG: fallback to use tag 0x7634706d/'mp4v'\n"
     ]
    },
    {
     "name": "stdout",
     "output_type": "stream",
     "text": [
      "\n",
      "Saved 12 frames to frames/id9_id6_0002Saved 13 frames to frames/id1_id17_0002\n",
      "\n",
      "Saved 14 frames to frames/id9_id6_0001Saved 14 frames to frames/id3_id9_0002\n",
      "\n",
      "Faces saved to faces/id1_id9_0005Faces saved to faces/id3_id2_0009\n",
      "Face video saved to processed_videos/id1_id9_0005.mp4\n",
      "\n"
     ]
    },
    {
     "name": "stderr",
     "output_type": "stream",
     "text": [
      "OpenCV: FFMPEG: tag 0x5634504d/'MP4V' is not supported with codec id 12 and format 'mp4 / MP4 (MPEG-4 Part 14)'\n",
      "OpenCV: FFMPEG: fallback to use tag 0x7634706d/'mp4v'\n",
      "OpenCV: FFMPEG: tag 0x5634504d/'MP4V' is not supported with codec id 12 and format 'mp4 / MP4 (MPEG-4 Part 14)'\n",
      "OpenCV: FFMPEG: fallback to use tag 0x7634706d/'mp4v'\n"
     ]
    },
    {
     "name": "stdout",
     "output_type": "stream",
     "text": [
      "Face video saved to processed_videos/id3_id2_0009.mp4\n",
      "Saved 14 frames to frames/id1_id0_0005\n",
      "Saved 12 frames to frames/id1_id6_0000\n",
      "Faces saved to faces/id2_id16_0001Saved 17 frames to frames/id2_id4_0008\n",
      "Faces saved to faces/id3_id9_0006\n",
      "\n",
      "Face video saved to processed_videos/id2_id16_0001.mp4Face video saved to processed_videos/id3_id9_0006.mp4\n",
      "\n",
      "Faces saved to faces/id2_id0_0006Faces saved to faces/id2_id17_0006\n",
      "\n",
      "Faces saved to faces/id9_id6_0004Face video saved to processed_videos/id2_id17_0006.mp4\n"
     ]
    },
    {
     "name": "stderr",
     "output_type": "stream",
     "text": [
      "OpenCV: FFMPEG: tag 0x5634504d/'MP4V' is not supported with codec id 12 and format 'mp4 / MP4 (MPEG-4 Part 14)'\n",
      "OpenCV: FFMPEG: fallback to use tag 0x7634706d/'mp4v'\n",
      "OpenCV: FFMPEG: tag 0x5634504d/'MP4V' is not supported with codec id 12 and format 'mp4 / MP4 (MPEG-4 Part 14)'\n",
      "OpenCV: FFMPEG: fallback to use tag 0x7634706d/'mp4v'\n",
      "OpenCV: FFMPEG: tag 0x5634504d/'MP4V' is not supported with codec id 12 and format 'mp4 / MP4 (MPEG-4 Part 14)'\n",
      "OpenCV: FFMPEG: fallback to use tag 0x7634706d/'mp4v'\n",
      "OpenCV: FFMPEG: tag 0x5634504d/'MP4V' is not supported with codec id 12 and format 'mp4 / MP4 (MPEG-4 Part 14)'\n",
      "OpenCV: FFMPEG: fallback to use tag 0x7634706d/'mp4v'\n"
     ]
    },
    {
     "name": "stdout",
     "output_type": "stream",
     "text": [
      "Face video saved to processed_videos/id2_id0_0006.mp4\n",
      "\n",
      "Faces saved to faces/id2_id0_0001\n",
      "Face video saved to processed_videos/id9_id6_0004.mp4\n"
     ]
    },
    {
     "name": "stderr",
     "output_type": "stream",
     "text": [
      "OpenCV: FFMPEG: tag 0x5634504d/'MP4V' is not supported with codec id 12 and format 'mp4 / MP4 (MPEG-4 Part 14)'\n",
      "OpenCV: FFMPEG: fallback to use tag 0x7634706d/'mp4v'\n",
      "OpenCV: FFMPEG: tag 0x5634504d/'MP4V' is not supported with codec id 12 and format 'mp4 / MP4 (MPEG-4 Part 14)'\n",
      "OpenCV: FFMPEG: fallback to use tag 0x7634706d/'mp4v'\n"
     ]
    },
    {
     "name": "stdout",
     "output_type": "stream",
     "text": [
      "Saved 15 frames to frames/id3_id2_0000\n",
      "Face video saved to processed_videos/id2_id0_0001.mp4\n",
      "Faces saved to faces/id1_id2_0002\n",
      "Saved 16 frames to frames/id4_id3_0009\n",
      "Saved 13 frames to frames/id3_id17_0005Face video saved to processed_videos/id1_id2_0002.mp4\n",
      "\n"
     ]
    },
    {
     "name": "stderr",
     "output_type": "stream",
     "text": [
      "OpenCV: FFMPEG: tag 0x5634504d/'MP4V' is not supported with codec id 12 and format 'mp4 / MP4 (MPEG-4 Part 14)'\n",
      "OpenCV: FFMPEG: fallback to use tag 0x7634706d/'mp4v'\n"
     ]
    },
    {
     "name": "stdout",
     "output_type": "stream",
     "text": [
      "Faces saved to faces/id2_id1_0006\n",
      "Faces saved to faces/id2_id16_0006Saved 14 frames to frames/id1_id6_0005\n",
      "Face video saved to processed_videos/id2_id1_0006.mp4\n",
      "\n",
      "Saved 12 frames to frames/id3_id4_0001Faces saved to faces/id17_id3_0007"
     ]
    },
    {
     "name": "stderr",
     "output_type": "stream",
     "text": [
      "OpenCV: FFMPEG: tag 0x5634504d/'MP4V' is not supported with codec id 12 and format 'mp4 / MP4 (MPEG-4 Part 14)'\n",
      "OpenCV: FFMPEG: fallback to use tag 0x7634706d/'mp4v'\n",
      "OpenCV: FFMPEG: tag 0x5634504d/'MP4V' is not supported with codec id 12 and format 'mp4 / MP4 (MPEG-4 Part 14)'\n",
      "OpenCV: FFMPEG: fallback to use tag 0x7634706d/'mp4v'\n"
     ]
    },
    {
     "name": "stdout",
     "output_type": "stream",
     "text": [
      "\n",
      "\n",
      "Faces saved to faces/id3_id1_0005Face video saved to processed_videos/id2_id16_0006.mp4Face video saved to processed_videos/id17_id3_0007.mp4\n",
      "\n",
      "\n",
      "Face video saved to processed_videos/id3_id1_0005.mp4\n"
     ]
    },
    {
     "name": "stderr",
     "output_type": "stream",
     "text": [
      "OpenCV: FFMPEG: tag 0x5634504d/'MP4V' is not supported with codec id 12 and format 'mp4 / MP4 (MPEG-4 Part 14)'\n",
      "OpenCV: FFMPEG: fallback to use tag 0x7634706d/'mp4v'\n",
      "OpenCV: FFMPEG: tag 0x5634504d/'MP4V' is not supported with codec id 12 and format 'mp4 / MP4 (MPEG-4 Part 14)'\n",
      "OpenCV: FFMPEG: fallback to use tag 0x7634706d/'mp4v'\n"
     ]
    },
    {
     "name": "stdout",
     "output_type": "stream",
     "text": [
      "Saved 16 frames to frames/id1_id9_0006Faces saved to faces/id4_id0_0004\n",
      "\n",
      "Face video saved to processed_videos/id4_id0_0004.mp4"
     ]
    },
    {
     "name": "stderr",
     "output_type": "stream",
     "text": [
      "OpenCV: FFMPEG: tag 0x5634504d/'MP4V' is not supported with codec id 12 and format 'mp4 / MP4 (MPEG-4 Part 14)'\n",
      "OpenCV: FFMPEG: fallback to use tag 0x7634706d/'mp4v'\n"
     ]
    },
    {
     "name": "stdout",
     "output_type": "stream",
     "text": [
      "\n",
      "Faces saved to faces/id3_id2_0005\n",
      "Face video saved to processed_videos/id3_id2_0005.mp4\n",
      "Saved 12 frames to frames/id2_id16_0002\n"
     ]
    },
    {
     "name": "stderr",
     "output_type": "stream",
     "text": [
      "OpenCV: FFMPEG: tag 0x5634504d/'MP4V' is not supported with codec id 12 and format 'mp4 / MP4 (MPEG-4 Part 14)'\n",
      "OpenCV: FFMPEG: fallback to use tag 0x7634706d/'mp4v'\n"
     ]
    },
    {
     "name": "stdout",
     "output_type": "stream",
     "text": [
      "Saved 12 frames to frames/id3_id9_0007\n",
      "Faces saved to faces/id2_id17_0001\n",
      "Saved 14 frames to frames/id3_id6_0002\n",
      "Face video saved to processed_videos/id2_id17_0001.mp4Saved 12 frames to frames/id2_id0_0002\n",
      "\n"
     ]
    },
    {
     "name": "stderr",
     "output_type": "stream",
     "text": [
      "OpenCV: FFMPEG: tag 0x5634504d/'MP4V' is not supported with codec id 12 and format 'mp4 / MP4 (MPEG-4 Part 14)'\n",
      "OpenCV: FFMPEG: fallback to use tag 0x7634706d/'mp4v'\n"
     ]
    },
    {
     "name": "stdout",
     "output_type": "stream",
     "text": [
      "Faces saved to faces/id17_id2_0001\n",
      "Face video saved to processed_videos/id17_id2_0001.mp4\n",
      "Faces saved to faces/id2_id1_0001\n"
     ]
    },
    {
     "name": "stderr",
     "output_type": "stream",
     "text": [
      "OpenCV: FFMPEG: tag 0x5634504d/'MP4V' is not supported with codec id 12 and format 'mp4 / MP4 (MPEG-4 Part 14)'\n",
      "OpenCV: FFMPEG: fallback to use tag 0x7634706d/'mp4v'\n",
      "OpenCV: FFMPEG: tag 0x5634504d/'MP4V' is not supported with codec id 12 and format 'mp4 / MP4 (MPEG-4 Part 14)'\n",
      "OpenCV: FFMPEG: fallback to use tag 0x7634706d/'mp4v'\n"
     ]
    },
    {
     "name": "stdout",
     "output_type": "stream",
     "text": [
      "Face video saved to processed_videos/id2_id1_0001.mp4Saved 15 frames to frames/id2_id17_0007\n",
      "\n",
      "Saved 15 frames to frames/id2_id0_0007\n",
      "Faces saved to faces/id1_id16_0000\n",
      "Saved 15 frames to frames/id1_id2_0003\n",
      "Face video saved to processed_videos/id1_id16_0000.mp4Faces saved to faces/id1_id9_0001\n",
      "\n"
     ]
    },
    {
     "name": "stderr",
     "output_type": "stream",
     "text": [
      "OpenCV: FFMPEG: tag 0x5634504d/'MP4V' is not supported with codec id 12 and format 'mp4 / MP4 (MPEG-4 Part 14)'\n",
      "OpenCV: FFMPEG: fallback to use tag 0x7634706d/'mp4v'\n",
      "OpenCV: FFMPEG: tag 0x5634504d/'MP4V' is not supported with codec id 12 and format 'mp4 / MP4 (MPEG-4 Part 14)'\n",
      "OpenCV: FFMPEG: fallback to use tag 0x7634706d/'mp4v'\n"
     ]
    },
    {
     "name": "stdout",
     "output_type": "stream",
     "text": [
      "Face video saved to processed_videos/id1_id9_0001.mp4Saved 13 frames to frames/id3_id1_0006\n",
      "Faces saved to faces/id2_id3_0001\n",
      "\n",
      "Faces saved to faces/id1_id16_0005\n",
      "Face video saved to processed_videos/id2_id3_0001.mp4\n",
      "Face video saved to processed_videos/id1_id16_0005.mp4\n",
      "Saved 15 frames to frames/id2_id1_0007\n",
      "Faces saved to faces/id17_id6_0003"
     ]
    },
    {
     "name": "stderr",
     "output_type": "stream",
     "text": [
      "OpenCV: FFMPEG: tag 0x5634504d/'MP4V' is not supported with codec id 12 and format 'mp4 / MP4 (MPEG-4 Part 14)'\n",
      "OpenCV: FFMPEG: fallback to use tag 0x7634706d/'mp4v'\n",
      "OpenCV: FFMPEG: tag 0x5634504d/'MP4V' is not supported with codec id 12 and format 'mp4 / MP4 (MPEG-4 Part 14)'\n",
      "OpenCV: FFMPEG: fallback to use tag 0x7634706d/'mp4v'\n"
     ]
    },
    {
     "name": "stdout",
     "output_type": "stream",
     "text": [
      "\n",
      "Face video saved to processed_videos/id17_id6_0003.mp4Saved 15 frames to frames/id2_id16_0007\n",
      "\n"
     ]
    },
    {
     "name": "stderr",
     "output_type": "stream",
     "text": [
      "OpenCV: FFMPEG: tag 0x5634504d/'MP4V' is not supported with codec id 12 and format 'mp4 / MP4 (MPEG-4 Part 14)'\n",
      "OpenCV: FFMPEG: fallback to use tag 0x7634706d/'mp4v'\n"
     ]
    },
    {
     "name": "stdout",
     "output_type": "stream",
     "text": [
      "Saved 13 frames to frames/id3_id2_0006\n",
      "Saved 12 frames to frames/id6_id2_0003\n",
      "Faces saved to faces/id2_id3_0006\n",
      "Saved 16 frames to frames/id3_id4_0004Face video saved to processed_videos/id2_id3_0006.mp4\n",
      "\n"
     ]
    },
    {
     "name": "stderr",
     "output_type": "stream",
     "text": [
      "OpenCV: FFMPEG: tag 0x5634504d/'MP4V' is not supported with codec id 12 and format 'mp4 / MP4 (MPEG-4 Part 14)'\n",
      "OpenCV: FFMPEG: fallback to use tag 0x7634706d/'mp4v'\n"
     ]
    },
    {
     "name": "stdout",
     "output_type": "stream",
     "text": [
      "Saved 12 frames to frames/id2_id17_0002\n",
      "Faces saved to faces/id2_id9_0004\n",
      "Face video saved to processed_videos/id2_id9_0004.mp4\n"
     ]
    },
    {
     "name": "stderr",
     "output_type": "stream",
     "text": [
      "OpenCV: FFMPEG: tag 0x5634504d/'MP4V' is not supported with codec id 12 and format 'mp4 / MP4 (MPEG-4 Part 14)'\n",
      "OpenCV: FFMPEG: fallback to use tag 0x7634706d/'mp4v'\n"
     ]
    },
    {
     "name": "stdout",
     "output_type": "stream",
     "text": [
      "Saved 9 frames to frames/id1_id16_0001\n",
      "Faces saved to faces/id2_id4_0001\n",
      "Face video saved to processed_videos/id2_id4_0001.mp4\n",
      "Faces saved to faces/id2_id6_0004Saved 12 frames to frames/id2_id1_0002\n"
     ]
    },
    {
     "name": "stderr",
     "output_type": "stream",
     "text": [
      "OpenCV: FFMPEG: tag 0x5634504d/'MP4V' is not supported with codec id 12 and format 'mp4 / MP4 (MPEG-4 Part 14)'\n",
      "OpenCV: FFMPEG: fallback to use tag 0x7634706d/'mp4v'\n"
     ]
    },
    {
     "name": "stdout",
     "output_type": "stream",
     "text": [
      "\n",
      "Face video saved to processed_videos/id2_id6_0004.mp4\n"
     ]
    },
    {
     "name": "stderr",
     "output_type": "stream",
     "text": [
      "OpenCV: FFMPEG: tag 0x5634504d/'MP4V' is not supported with codec id 12 and format 'mp4 / MP4 (MPEG-4 Part 14)'\n",
      "OpenCV: FFMPEG: fallback to use tag 0x7634706d/'mp4v'\n"
     ]
    },
    {
     "name": "stdout",
     "output_type": "stream",
     "text": [
      "Saved 13 frames to frames/id1_id9_0002\n",
      "Saved 12 frames to frames/id2_id3_0002\n",
      "Faces saved to faces/id1_id2_0007\n",
      "Saved 16 frames to frames/id1_id16_0006\n",
      "Face video saved to processed_videos/id1_id2_0007.mp4\n",
      "Faces saved to faces/id1_id3_0003"
     ]
    },
    {
     "name": "stderr",
     "output_type": "stream",
     "text": [
      "OpenCV: FFMPEG: tag 0x5634504d/'MP4V' is not supported with codec id 12 and format 'mp4 / MP4 (MPEG-4 Part 14)'\n",
      "OpenCV: FFMPEG: fallback to use tag 0x7634706d/'mp4v'\n"
     ]
    },
    {
     "name": "stdout",
     "output_type": "stream",
     "text": [
      "\n",
      "Saved 10 frames to frames/id2_id9_0005\n",
      "Face video saved to processed_videos/id1_id3_0003.mp4\n",
      "Faces saved to faces/id4_id1_0008"
     ]
    },
    {
     "name": "stderr",
     "output_type": "stream",
     "text": [
      "OpenCV: FFMPEG: tag 0x5634504d/'MP4V' is not supported with codec id 12 and format 'mp4 / MP4 (MPEG-4 Part 14)'\n",
      "OpenCV: FFMPEG: fallback to use tag 0x7634706d/'mp4v'\n"
     ]
    },
    {
     "name": "stdout",
     "output_type": "stream",
     "text": [
      "\n",
      "Face video saved to processed_videos/id4_id1_0008.mp4\n"
     ]
    },
    {
     "name": "stderr",
     "output_type": "stream",
     "text": [
      "OpenCV: FFMPEG: tag 0x5634504d/'MP4V' is not supported with codec id 12 and format 'mp4 / MP4 (MPEG-4 Part 14)'\n",
      "OpenCV: FFMPEG: fallback to use tag 0x7634706d/'mp4v'\n"
     ]
    },
    {
     "name": "stdout",
     "output_type": "stream",
     "text": [
      "Saved 17 frames to frames/id8_id2_0002\n",
      "Saved 10 frames to frames/id2_id6_0005\n",
      "Faces saved to faces/id17_id9_0009\n",
      "Face video saved to processed_videos/id17_id9_0009.mp4\n"
     ]
    },
    {
     "name": "stderr",
     "output_type": "stream",
     "text": [
      "OpenCV: FFMPEG: tag 0x5634504d/'MP4V' is not supported with codec id 12 and format 'mp4 / MP4 (MPEG-4 Part 14)'\n",
      "OpenCV: FFMPEG: fallback to use tag 0x7634706d/'mp4v'\n"
     ]
    },
    {
     "name": "stdout",
     "output_type": "stream",
     "text": [
      "Saved 12 frames to frames/id2_id4_0002\n",
      "Saved 15 frames to frames/id2_id3_0007\n",
      "Faces saved to faces/id1_id4_0004\n",
      "Face video saved to processed_videos/id1_id4_0004.mp4\n"
     ]
    },
    {
     "name": "stderr",
     "output_type": "stream",
     "text": [
      "OpenCV: FFMPEG: tag 0x5634504d/'MP4V' is not supported with codec id 12 and format 'mp4 / MP4 (MPEG-4 Part 14)'\n",
      "OpenCV: FFMPEG: fallback to use tag 0x7634706d/'mp4v'\n"
     ]
    },
    {
     "name": "stdout",
     "output_type": "stream",
     "text": [
      "Saved 18 frames to frames/id6_id2_0007\n",
      "Faces saved to faces/id6_id0_0006\n",
      "Face video saved to processed_videos/id6_id0_0006.mp4\n",
      "Saved 13 frames to frames/id1_id3_0004Faces saved to faces/id17_id1_0000\n"
     ]
    },
    {
     "name": "stderr",
     "output_type": "stream",
     "text": [
      "OpenCV: FFMPEG: tag 0x5634504d/'MP4V' is not supported with codec id 12 and format 'mp4 / MP4 (MPEG-4 Part 14)'\n",
      "OpenCV: FFMPEG: fallback to use tag 0x7634706d/'mp4v'\n"
     ]
    },
    {
     "name": "stdout",
     "output_type": "stream",
     "text": [
      "\n",
      "Saved 13 frames to frames/id1_id2_0009Face video saved to processed_videos/id17_id1_0000.mp4\n",
      "\n"
     ]
    },
    {
     "name": "stderr",
     "output_type": "stream",
     "text": [
      "OpenCV: FFMPEG: tag 0x5634504d/'MP4V' is not supported with codec id 12 and format 'mp4 / MP4 (MPEG-4 Part 14)'\n",
      "OpenCV: FFMPEG: fallback to use tag 0x7634706d/'mp4v'\n"
     ]
    },
    {
     "name": "stdout",
     "output_type": "stream",
     "text": [
      "Saved 12 frames to frames/id1_id0_0000\n",
      "Faces saved to faces/id3_id4_0008\n",
      "Face video saved to processed_videos/id3_id4_0008.mp4\n",
      "Saved 10 frames to frames/id6_id0_0001Faces saved to faces/id17_id3_0002Faces saved to faces/id3_id16_0009\n",
      "\n",
      "\n"
     ]
    },
    {
     "name": "stderr",
     "output_type": "stream",
     "text": [
      "OpenCV: FFMPEG: tag 0x5634504d/'MP4V' is not supported with codec id 12 and format 'mp4 / MP4 (MPEG-4 Part 14)'\n",
      "OpenCV: FFMPEG: fallback to use tag 0x7634706d/'mp4v'\n",
      "OpenCV: FFMPEG: tag 0x5634504d/'MP4V' is not supported with codec id 12 and format 'mp4 / MP4 (MPEG-4 Part 14)'\n",
      "OpenCV: FFMPEG: fallback to use tag 0x7634706d/'mp4v'\n",
      "OpenCV: FFMPEG: tag 0x5634504d/'MP4V' is not supported with codec id 12 and format 'mp4 / MP4 (MPEG-4 Part 14)'\n",
      "OpenCV: FFMPEG: fallback to use tag 0x7634706d/'mp4v'\n"
     ]
    },
    {
     "name": "stdout",
     "output_type": "stream",
     "text": [
      "Face video saved to processed_videos/id3_id16_0009.mp4Face video saved to processed_videos/id17_id3_0002.mp4\n",
      "\n",
      "Saved 14 frames to frames/id1_id4_0005\n",
      "Faces saved to faces/id1_id3_0009\n",
      "Face video saved to processed_videos/id1_id3_0009.mp4\n",
      "Saved 10 frames to frames/id4_id0_0008\n"
     ]
    },
    {
     "name": "stderr",
     "output_type": "stream",
     "text": [
      "OpenCV: FFMPEG: tag 0x5634504d/'MP4V' is not supported with codec id 12 and format 'mp4 / MP4 (MPEG-4 Part 14)'\n",
      "OpenCV: FFMPEG: fallback to use tag 0x7634706d/'mp4v'\n"
     ]
    },
    {
     "name": "stdout",
     "output_type": "stream",
     "text": [
      "Faces saved to faces/id3_id17_0009\n",
      "Faces saved to faces/id2_id6_0008\n",
      "Face video saved to processed_videos/id3_id17_0009.mp4Faces saved to faces/id2_id9_0008\n",
      "Face video saved to processed_videos/id2_id6_0008.mp4\n",
      "\n"
     ]
    },
    {
     "name": "stderr",
     "output_type": "stream",
     "text": [
      "OpenCV: FFMPEG: tag 0x5634504d/'MP4V' is not supported with codec id 12 and format 'mp4 / MP4 (MPEG-4 Part 14)'\n",
      "OpenCV: FFMPEG: fallback to use tag 0x7634706d/'mp4v'\n",
      "OpenCV: FFMPEG: tag 0x5634504d/'MP4V' is not supported with codec id 12 and format 'mp4 / MP4 (MPEG-4 Part 14)'\n",
      "OpenCV: FFMPEG: fallback to use tag 0x7634706d/'mp4v'\n"
     ]
    },
    {
     "name": "stdout",
     "output_type": "stream",
     "text": [
      "Face video saved to processed_videos/id2_id9_0008.mp4\n"
     ]
    },
    {
     "name": "stderr",
     "output_type": "stream",
     "text": [
      "OpenCV: FFMPEG: tag 0x5634504d/'MP4V' is not supported with codec id 12 and format 'mp4 / MP4 (MPEG-4 Part 14)'\n",
      "OpenCV: FFMPEG: fallback to use tag 0x7634706d/'mp4v'\n"
     ]
    },
    {
     "name": "stdout",
     "output_type": "stream",
     "text": [
      "Saved 15 frames to frames/id3_id6_0000\n",
      "Saved 15 frames to frames/id4_id3_0000\n",
      "Saved 15 frames to frames/id3_id17_0000\n",
      "Faces saved to faces/id1_id17_0006\n",
      "Face video saved to processed_videos/id1_id17_0006.mp4\n",
      "Faces saved to faces/id1_id17_0002"
     ]
    },
    {
     "name": "stderr",
     "output_type": "stream",
     "text": [
      "OpenCV: FFMPEG: tag 0x5634504d/'MP4V' is not supported with codec id 12 and format 'mp4 / MP4 (MPEG-4 Part 14)'\n",
      "OpenCV: FFMPEG: fallback to use tag 0x7634706d/'mp4v'\n"
     ]
    },
    {
     "name": "stdout",
     "output_type": "stream",
     "text": [
      "\n",
      "Face video saved to processed_videos/id1_id17_0002.mp4Saved 12 frames to frames/id1_id4_0000\n",
      "\n"
     ]
    },
    {
     "name": "stderr",
     "output_type": "stream",
     "text": [
      "OpenCV: FFMPEG: tag 0x5634504d/'MP4V' is not supported with codec id 12 and format 'mp4 / MP4 (MPEG-4 Part 14)'\n",
      "OpenCV: FFMPEG: fallback to use tag 0x7634706d/'mp4v'\n"
     ]
    },
    {
     "name": "stdout",
     "output_type": "stream",
     "text": [
      "Faces saved to faces/id3_id16_0004\n",
      "Faces saved to faces/id3_id0_0004Face video saved to processed_videos/id3_id16_0004.mp4\n",
      "\n"
     ]
    },
    {
     "name": "stderr",
     "output_type": "stream",
     "text": [
      "OpenCV: FFMPEG: tag 0x5634504d/'MP4V' is not supported with codec id 12 and format 'mp4 / MP4 (MPEG-4 Part 14)'\n",
      "OpenCV: FFMPEG: fallback to use tag 0x7634706d/'mp4v'\n",
      "OpenCV: FFMPEG: tag 0x5634504d/'MP4V' is not supported with codec id 12 and format 'mp4 / MP4 (MPEG-4 Part 14)'\n",
      "OpenCV: FFMPEG: fallback to use tag 0x7634706d/'mp4v'\n"
     ]
    },
    {
     "name": "stdout",
     "output_type": "stream",
     "text": [
      "Face video saved to processed_videos/id3_id0_0004.mp4\n",
      "Saved 12 frames to frames/id6_id2_0008\n",
      "Faces saved to faces/id3_id9_0002\n",
      "Faces saved to faces/id17_id6_0009\n",
      "Face video saved to processed_videos/id3_id9_0002.mp4Face video saved to processed_videos/id17_id6_0009.mp4\n",
      "\n",
      "Saved 10 frames to frames/id2_id6_0009\n",
      "Saved 10 frames to frames/id2_id9_0009\n"
     ]
    },
    {
     "name": "stderr",
     "output_type": "stream",
     "text": [
      "OpenCV: FFMPEG: tag 0x5634504d/'MP4V' is not supported with codec id 12 and format 'mp4 / MP4 (MPEG-4 Part 14)'\n",
      "OpenCV: FFMPEG: fallback to use tag 0x7634706d/'mp4v'\n",
      "OpenCV: FFMPEG: tag 0x5634504d/'MP4V' is not supported with codec id 12 and format 'mp4 / MP4 (MPEG-4 Part 14)'\n",
      "OpenCV: FFMPEG: fallback to use tag 0x7634706d/'mp4v'\n"
     ]
    },
    {
     "name": "stdout",
     "output_type": "stream",
     "text": [
      "Saved 12 frames to frames/id3_id1_0001\n",
      "Faces saved to faces/id1_id0_0005\n",
      "Face video saved to processed_videos/id1_id0_0005.mp4\n"
     ]
    },
    {
     "name": "stderr",
     "output_type": "stream",
     "text": [
      "OpenCV: FFMPEG: tag 0x5634504d/'MP4V' is not supported with codec id 12 and format 'mp4 / MP4 (MPEG-4 Part 14)'\n",
      "OpenCV: FFMPEG: fallback to use tag 0x7634706d/'mp4v'\n"
     ]
    },
    {
     "name": "stdout",
     "output_type": "stream",
     "text": [
      "Saved 10 frames to frames/id1_id17_0007\n",
      "Faces saved to faces/id3_id4_0001\n",
      "Face video saved to processed_videos/id3_id4_0001.mp4\n"
     ]
    },
    {
     "name": "stderr",
     "output_type": "stream",
     "text": [
      "OpenCV: FFMPEG: tag 0x5634504d/'MP4V' is not supported with codec id 12 and format 'mp4 / MP4 (MPEG-4 Part 14)'\n",
      "OpenCV: FFMPEG: fallback to use tag 0x7634706d/'mp4v'\n"
     ]
    },
    {
     "name": "stdout",
     "output_type": "stream",
     "text": [
      "Faces saved to faces/id3_id17_0005\n",
      "Face video saved to processed_videos/id3_id17_0005.mp4\n"
     ]
    },
    {
     "name": "stderr",
     "output_type": "stream",
     "text": [
      "OpenCV: FFMPEG: tag 0x5634504d/'MP4V' is not supported with codec id 12 and format 'mp4 / MP4 (MPEG-4 Part 14)'\n",
      "OpenCV: FFMPEG: fallback to use tag 0x7634706d/'mp4v'\n"
     ]
    },
    {
     "name": "stdout",
     "output_type": "stream",
     "text": [
      "Faces saved to faces/id1_id6_0000\n",
      "Face video saved to processed_videos/id1_id6_0000.mp4\n",
      "Saved 13 frames to frames/id3_id16_0005"
     ]
    },
    {
     "name": "stderr",
     "output_type": "stream",
     "text": [
      "OpenCV: FFMPEG: tag 0x5634504d/'MP4V' is not supported with codec id 12 and format 'mp4 / MP4 (MPEG-4 Part 14)'\n",
      "OpenCV: FFMPEG: fallback to use tag 0x7634706d/'mp4v'\n"
     ]
    },
    {
     "name": "stdout",
     "output_type": "stream",
     "text": [
      "\n",
      "Faces saved to faces/id4_id1_0006Saved 13 frames to frames/id3_id0_0005\n",
      "\n",
      "Face video saved to processed_videos/id4_id1_0006.mp4\n"
     ]
    },
    {
     "name": "stderr",
     "output_type": "stream",
     "text": [
      "OpenCV: FFMPEG: tag 0x5634504d/'MP4V' is not supported with codec id 12 and format 'mp4 / MP4 (MPEG-4 Part 14)'\n",
      "OpenCV: FFMPEG: fallback to use tag 0x7634706d/'mp4v'\n"
     ]
    },
    {
     "name": "stdout",
     "output_type": "stream",
     "text": [
      "Faces saved to faces/id3_id2_0000\n",
      "Saved 12 frames to frames/id3_id9_0003Face video saved to processed_videos/id3_id2_0000.mp4\n",
      "\n",
      "Faces saved to faces/id2_id16_0002Faces saved to faces/id1_id16_0001\n",
      "\n"
     ]
    },
    {
     "name": "stderr",
     "output_type": "stream",
     "text": [
      "OpenCV: FFMPEG: tag 0x5634504d/'MP4V' is not supported with codec id 12 and format 'mp4 / MP4 (MPEG-4 Part 14)'\n",
      "OpenCV: FFMPEG: fallback to use tag 0x7634706d/'mp4v'\n",
      "OpenCV: FFMPEG: tag 0x5634504d/'MP4V' is not supported with codec id 12 and format 'mp4 / MP4 (MPEG-4 Part 14)'\n",
      "OpenCV: FFMPEG: fallback to use tag 0x7634706d/'mp4v'\n"
     ]
    },
    {
     "name": "stdout",
     "output_type": "stream",
     "text": [
      "Face video saved to processed_videos/id2_id16_0002.mp4Face video saved to processed_videos/id1_id16_0001.mp4\n",
      "\n",
      "Saved 9 frames to frames/id1_id6_0001\n"
     ]
    },
    {
     "name": "stderr",
     "output_type": "stream",
     "text": [
      "OpenCV: FFMPEG: tag 0x5634504d/'MP4V' is not supported with codec id 12 and format 'mp4 / MP4 (MPEG-4 Part 14)'\n",
      "OpenCV: FFMPEG: fallback to use tag 0x7634706d/'mp4v'\n"
     ]
    },
    {
     "name": "stdout",
     "output_type": "stream",
     "text": [
      "Faces saved to faces/id8_id0_0003\n",
      "Saved 14 frames to frames/id4_id3_0003\n",
      "Faces saved to faces/id1_id6_0005\n",
      "Face video saved to processed_videos/id8_id0_0003.mp4\n"
     ]
    },
    {
     "name": "stderr",
     "output_type": "stream",
     "text": [
      "OpenCV: FFMPEG: tag 0x5634504d/'MP4V' is not supported with codec id 12 and format 'mp4 / MP4 (MPEG-4 Part 14)'\n",
      "OpenCV: FFMPEG: fallback to use tag 0x7634706d/'mp4v'\n",
      "OpenCV: FFMPEG: tag 0x5634504d/'MP4V' is not supported with codec id 12 and format 'mp4 / MP4 (MPEG-4 Part 14)'\n",
      "OpenCV: FFMPEG: fallback to use tag 0x7634706d/'mp4v'\n"
     ]
    },
    {
     "name": "stdout",
     "output_type": "stream",
     "text": [
      "Face video saved to processed_videos/id1_id6_0005.mp4\n",
      "Saved 12 frames to frames/id3_id4_0003\n",
      "Saved 13 frames to frames/id3_id17_0006\n",
      "Faces saved to faces/id2_id0_0002\n",
      "Saved 15 frames to frames/id4_id3_0005\n",
      "Face video saved to processed_videos/id2_id0_0002.mp4\n"
     ]
    },
    {
     "name": "stderr",
     "output_type": "stream",
     "text": [
      "OpenCV: FFMPEG: tag 0x5634504d/'MP4V' is not supported with codec id 12 and format 'mp4 / MP4 (MPEG-4 Part 14)'\n",
      "OpenCV: FFMPEG: fallback to use tag 0x7634706d/'mp4v'\n"
     ]
    },
    {
     "name": "stdout",
     "output_type": "stream",
     "text": [
      "Faces saved to faces/id6_id1_0005Saved 12 frames to frames/id2_id16_0003\n",
      "\n",
      "Saved 12 frames to frames/id3_id2_0001\n",
      "Face video saved to processed_videos/id6_id1_0005.mp4Faces saved to faces/id3_id6_0002\n",
      "\n",
      "Face video saved to processed_videos/id3_id6_0002.mp4\n"
     ]
    },
    {
     "name": "stderr",
     "output_type": "stream",
     "text": [
      "OpenCV: FFMPEG: tag 0x5634504d/'MP4V' is not supported with codec id 12 and format 'mp4 / MP4 (MPEG-4 Part 14)'\n",
      "OpenCV: FFMPEG: fallback to use tag 0x7634706d/'mp4v'\n",
      "OpenCV: FFMPEG: tag 0x5634504d/'MP4V' is not supported with codec id 12 and format 'mp4 / MP4 (MPEG-4 Part 14)'\n",
      "OpenCV: FFMPEG: fallback to use tag 0x7634706d/'mp4v'\n"
     ]
    },
    {
     "name": "stdout",
     "output_type": "stream",
     "text": [
      "Saved 19 frames to frames/id8_id2_0008Faces saved to faces/id3_id1_0006\n",
      "\n",
      "Face video saved to processed_videos/id3_id1_0006.mp4\n",
      "Faces saved to faces/id3_id9_0007"
     ]
    },
    {
     "name": "stderr",
     "output_type": "stream",
     "text": [
      "OpenCV: FFMPEG: tag 0x5634504d/'MP4V' is not supported with codec id 12 and format 'mp4 / MP4 (MPEG-4 Part 14)'\n",
      "OpenCV: FFMPEG: fallback to use tag 0x7634706d/'mp4v'\n"
     ]
    },
    {
     "name": "stdout",
     "output_type": "stream",
     "text": [
      "\n",
      "Saved 10 frames to frames/id4_id0_0006Face video saved to processed_videos/id3_id9_0007.mp4\n",
      "\n",
      "Saved 12 frames to frames/id8_id6_0007\n"
     ]
    },
    {
     "name": "stderr",
     "output_type": "stream",
     "text": [
      "OpenCV: FFMPEG: tag 0x5634504d/'MP4V' is not supported with codec id 12 and format 'mp4 / MP4 (MPEG-4 Part 14)'\n",
      "OpenCV: FFMPEG: fallback to use tag 0x7634706d/'mp4v'\n"
     ]
    },
    {
     "name": "stdout",
     "output_type": "stream",
     "text": [
      "Saved 16 frames to frames/id1_id6_0006\n",
      "Saved 12 frames to frames/id2_id0_0003\n",
      "Faces saved to faces/id1_id9_0002\n",
      "Face video saved to processed_videos/id1_id9_0002.mp4\n",
      "Faces saved to faces/id2_id9_0005"
     ]
    },
    {
     "name": "stderr",
     "output_type": "stream",
     "text": [
      "OpenCV: FFMPEG: tag 0x5634504d/'MP4V' is not supported with codec id 12 and format 'mp4 / MP4 (MPEG-4 Part 14)'\n",
      "OpenCV: FFMPEG: fallback to use tag 0x7634706d/'mp4v'\n",
      "OpenCV: FFMPEG: tag 0x5634504d/'MP4V' is not supported with codec id 12 and format 'mp4 / MP4 (MPEG-4 Part 14)'\n",
      "OpenCV: FFMPEG: fallback to use tag 0x7634706d/'mp4v'\n"
     ]
    },
    {
     "name": "stdout",
     "output_type": "stream",
     "text": [
      "\n",
      "Face video saved to processed_videos/id2_id9_0005.mp4\n",
      "Faces saved to faces/id2_id17_0002Saved 18 frames to frames/id6_id1_0007\n",
      "\n",
      "Face video saved to processed_videos/id2_id17_0002.mp4\n"
     ]
    },
    {
     "name": "stderr",
     "output_type": "stream",
     "text": [
      "OpenCV: FFMPEG: tag 0x5634504d/'MP4V' is not supported with codec id 12 and format 'mp4 / MP4 (MPEG-4 Part 14)'\n",
      "OpenCV: FFMPEG: fallback to use tag 0x7634706d/'mp4v'\n"
     ]
    },
    {
     "name": "stdout",
     "output_type": "stream",
     "text": [
      "Faces saved to faces/id3_id2_0006\n",
      "Face video saved to processed_videos/id3_id2_0006.mp4\n"
     ]
    },
    {
     "name": "stderr",
     "output_type": "stream",
     "text": [
      "OpenCV: FFMPEG: tag 0x5634504d/'MP4V' is not supported with codec id 12 and format 'mp4 / MP4 (MPEG-4 Part 14)'\n",
      "OpenCV: FFMPEG: fallback to use tag 0x7634706d/'mp4v'\n"
     ]
    },
    {
     "name": "stdout",
     "output_type": "stream",
     "text": [
      "Faces saved to faces/id2_id6_0005\n",
      "Face video saved to processed_videos/id2_id6_0005.mp4\n",
      "Faces saved to faces/id2_id3_0002"
     ]
    },
    {
     "name": "stderr",
     "output_type": "stream",
     "text": [
      "OpenCV: FFMPEG: tag 0x5634504d/'MP4V' is not supported with codec id 12 and format 'mp4 / MP4 (MPEG-4 Part 14)'\n",
      "OpenCV: FFMPEG: fallback to use tag 0x7634706d/'mp4v'\n"
     ]
    },
    {
     "name": "stdout",
     "output_type": "stream",
     "text": [
      "Faces saved to faces/id1_id3_0004\n",
      "Faces saved to faces/id2_id1_0002Face video saved to processed_videos/id2_id3_0002.mp4\n",
      "\n",
      "\n",
      "Face video saved to processed_videos/id2_id1_0002.mp4Faces saved to faces/id1_id9_0006"
     ]
    },
    {
     "name": "stderr",
     "output_type": "stream",
     "text": [
      "OpenCV: FFMPEG: tag 0x5634504d/'MP4V' is not supported with codec id 12 and format 'mp4 / MP4 (MPEG-4 Part 14)'\n",
      "OpenCV: FFMPEG: fallback to use tag 0x7634706d/'mp4v'\n",
      "OpenCV: FFMPEG: tag 0x5634504d/'MP4V' is not supported with codec id 12 and format 'mp4 / MP4 (MPEG-4 Part 14)'\n",
      "OpenCV: FFMPEG: fallback to use tag 0x7634706d/'mp4v'\n",
      "OpenCV: FFMPEG: tag 0x5634504d/'MP4V' is not supported with codec id 12 and format 'mp4 / MP4 (MPEG-4 Part 14)'\n",
      "OpenCV: FFMPEG: fallback to use tag 0x7634706d/'mp4v'\n"
     ]
    },
    {
     "name": "stdout",
     "output_type": "stream",
     "text": [
      "Face video saved to processed_videos/id1_id3_0004.mp4\n",
      "\n",
      "\n",
      "Face video saved to processed_videos/id1_id9_0006.mp4\n",
      "Saved 12 frames to frames/id3_id1_0007\n"
     ]
    },
    {
     "name": "stderr",
     "output_type": "stream",
     "text": [
      "OpenCV: FFMPEG: tag 0x5634504d/'MP4V' is not supported with codec id 12 and format 'mp4 / MP4 (MPEG-4 Part 14)'\n",
      "OpenCV: FFMPEG: fallback to use tag 0x7634706d/'mp4v'\n"
     ]
    },
    {
     "name": "stdout",
     "output_type": "stream",
     "text": [
      "Saved 15 frames to frames/id3_id9_0008\n",
      "Faces saved to faces/id1_id2_0003\n",
      "Face video saved to processed_videos/id1_id2_0003.mp4\n",
      "Faces saved to faces/id3_id4_0004"
     ]
    },
    {
     "name": "stderr",
     "output_type": "stream",
     "text": [
      "OpenCV: FFMPEG: tag 0x5634504d/'MP4V' is not supported with codec id 12 and format 'mp4 / MP4 (MPEG-4 Part 14)'\n",
      "OpenCV: FFMPEG: fallback to use tag 0x7634706d/'mp4v'\n"
     ]
    },
    {
     "name": "stdout",
     "output_type": "stream",
     "text": [
      "\n",
      "Face video saved to processed_videos/id3_id4_0004.mp4\n"
     ]
    },
    {
     "name": "stderr",
     "output_type": "stream",
     "text": [
      "OpenCV: FFMPEG: tag 0x5634504d/'MP4V' is not supported with codec id 12 and format 'mp4 / MP4 (MPEG-4 Part 14)'\n",
      "OpenCV: FFMPEG: fallback to use tag 0x7634706d/'mp4v'\n"
     ]
    },
    {
     "name": "stdout",
     "output_type": "stream",
     "text": [
      "Saved 15 frames to frames/id9_id6_0007\n",
      "Faces saved to faces/id9_id6_0002\n",
      "Saved 12 frames to frames/id2_id17_0003Faces saved to faces/id1_id2_0009Face video saved to processed_videos/id9_id6_0002.mp4\n",
      "\n",
      "\n",
      "Faces saved to faces/id2_id17_0007"
     ]
    },
    {
     "name": "stderr",
     "output_type": "stream",
     "text": [
      "OpenCV: FFMPEG: tag 0x5634504d/'MP4V' is not supported with codec id 12 and format 'mp4 / MP4 (MPEG-4 Part 14)'\n",
      "OpenCV: FFMPEG: fallback to use tag 0x7634706d/'mp4v'\n",
      "OpenCV: FFMPEG: tag 0x5634504d/'MP4V' is not supported with codec id 12 and format 'mp4 / MP4 (MPEG-4 Part 14)'\n",
      "OpenCV: FFMPEG: fallback to use tag 0x7634706d/'mp4v'\n"
     ]
    },
    {
     "name": "stdout",
     "output_type": "stream",
     "text": [
      "\n",
      "Face video saved to processed_videos/id1_id2_0009.mp4Saved 12 frames to frames/id2_id9_0006\n",
      "\n",
      "Face video saved to processed_videos/id2_id17_0007.mp4"
     ]
    },
    {
     "name": "stderr",
     "output_type": "stream",
     "text": [
      "OpenCV: FFMPEG: tag 0x5634504d/'MP4V' is not supported with codec id 12 and format 'mp4 / MP4 (MPEG-4 Part 14)'\n",
      "OpenCV: FFMPEG: fallback to use tag 0x7634706d/'mp4v'\n"
     ]
    },
    {
     "name": "stdout",
     "output_type": "stream",
     "text": [
      "\n",
      "Saved 17 frames to frames/id8_id1_0002\n",
      "Faces saved to faces/id2_id4_0002\n",
      "Saved 12 frames to frames/id3_id2_0007Saved 10 frames to frames/id1_id9_0007\n",
      "\n",
      "Face video saved to processed_videos/id2_id4_0002.mp4\n"
     ]
    },
    {
     "name": "stderr",
     "output_type": "stream",
     "text": [
      "OpenCV: FFMPEG: tag 0x5634504d/'MP4V' is not supported with codec id 12 and format 'mp4 / MP4 (MPEG-4 Part 14)'\n",
      "OpenCV: FFMPEG: fallback to use tag 0x7634706d/'mp4v'\n"
     ]
    },
    {
     "name": "stdout",
     "output_type": "stream",
     "text": [
      "Saved 12 frames to frames/id2_id1_0003\n",
      "Saved 12 frames to frames/id2_id6_0006\n",
      "Saved 12 frames to frames/id2_id3_0003\n",
      "Faces saved to faces/id2_id1_0007\n",
      "Saved 15 frames to frames/id4_id6_0005Face video saved to processed_videos/id2_id1_0007.mp4Saved 10 frames to frames/id4_id6_0008\n",
      "\n"
     ]
    },
    {
     "name": "stderr",
     "output_type": "stream",
     "text": [
      "OpenCV: FFMPEG: tag 0x5634504d/'MP4V' is not supported with codec id 12 and format 'mp4 / MP4 (MPEG-4 Part 14)'\n",
      "OpenCV: FFMPEG: fallback to use tag 0x7634706d/'mp4v'\n"
     ]
    },
    {
     "name": "stdout",
     "output_type": "stream",
     "text": [
      "\n",
      "Faces saved to faces/id4_id0_0009Faces saved to faces/id1_id0_0000\n",
      "\n",
      "Faces saved to faces/id2_id16_0007\n",
      "Face video saved to processed_videos/id1_id0_0000.mp4Face video saved to processed_videos/id4_id0_0009.mp4\n",
      "Faces saved to faces/id2_id0_0007\n",
      "\n"
     ]
    },
    {
     "name": "stderr",
     "output_type": "stream",
     "text": [
      "OpenCV: FFMPEG: tag 0x5634504d/'MP4V' is not supported with codec id 12 and format 'mp4 / MP4 (MPEG-4 Part 14)'\n",
      "OpenCV: FFMPEG: fallback to use tag 0x7634706d/'mp4v'\n",
      "OpenCV: FFMPEG: tag 0x5634504d/'MP4V' is not supported with codec id 12 and format 'mp4 / MP4 (MPEG-4 Part 14)'\n",
      "OpenCV: FFMPEG: fallback to use tag 0x7634706d/'mp4v'\n",
      "OpenCV: FFMPEG: tag 0x5634504d/'MP4V' is not supported with codec id 12 and format 'mp4 / MP4 (MPEG-4 Part 14)'\n",
      "OpenCV: FFMPEG: fallback to use tag 0x7634706d/'mp4v'\n"
     ]
    },
    {
     "name": "stdout",
     "output_type": "stream",
     "text": [
      "Face video saved to processed_videos/id2_id16_0007.mp4\n",
      "Face video saved to processed_videos/id2_id0_0007.mp4\n",
      "Faces saved to faces/id4_id1_0002\n"
     ]
    },
    {
     "name": "stderr",
     "output_type": "stream",
     "text": [
      "OpenCV: FFMPEG: tag 0x5634504d/'MP4V' is not supported with codec id 12 and format 'mp4 / MP4 (MPEG-4 Part 14)'\n",
      "OpenCV: FFMPEG: fallback to use tag 0x7634706d/'mp4v'\n",
      "OpenCV: FFMPEG: tag 0x5634504d/'MP4V' is not supported with codec id 12 and format 'mp4 / MP4 (MPEG-4 Part 14)'\n",
      "OpenCV: FFMPEG: fallback to use tag 0x7634706d/'mp4v'\n"
     ]
    },
    {
     "name": "stdout",
     "output_type": "stream",
     "text": [
      "Face video saved to processed_videos/id4_id1_0002.mp4\n",
      "Saved 15 frames to frames/id3_id6_0008\n",
      "Faces saved to faces/id4_id2_0000\n",
      "Face video saved to processed_videos/id4_id2_0000.mp4\n"
     ]
    },
    {
     "name": "stderr",
     "output_type": "stream",
     "text": [
      "OpenCV: FFMPEG: tag 0x5634504d/'MP4V' is not supported with codec id 12 and format 'mp4 / MP4 (MPEG-4 Part 14)'\n",
      "OpenCV: FFMPEG: fallback to use tag 0x7634706d/'mp4v'\n"
     ]
    },
    {
     "name": "stdout",
     "output_type": "stream",
     "text": [
      "Saved 14 frames to frames/id9_id4_0001Saved 12 frames to frames/id2_id4_0003\n",
      "\n",
      "Faces saved to faces/id1_id4_0005\n",
      "Saved 15 frames to frames/id4_id9_0001\n",
      "Face video saved to processed_videos/id1_id4_0005.mp4\n"
     ]
    },
    {
     "name": "stderr",
     "output_type": "stream",
     "text": [
      "OpenCV: FFMPEG: tag 0x5634504d/'MP4V' is not supported with codec id 12 and format 'mp4 / MP4 (MPEG-4 Part 14)'\n",
      "OpenCV: FFMPEG: fallback to use tag 0x7634706d/'mp4v'\n"
     ]
    },
    {
     "name": "stdout",
     "output_type": "stream",
     "text": [
      "Faces saved to faces/id9_id6_0001\n",
      "Face video saved to processed_videos/id9_id6_0001.mp4\n"
     ]
    },
    {
     "name": "stderr",
     "output_type": "stream",
     "text": [
      "OpenCV: FFMPEG: tag 0x5634504d/'MP4V' is not supported with codec id 12 and format 'mp4 / MP4 (MPEG-4 Part 14)'\n",
      "OpenCV: FFMPEG: fallback to use tag 0x7634706d/'mp4v'\n"
     ]
    },
    {
     "name": "stdout",
     "output_type": "stream",
     "text": [
      "Faces saved to faces/id1_id17_0007\n",
      "Face video saved to processed_videos/id1_id17_0007.mp4\n",
      "Faces saved to faces/id3_id0_0009"
     ]
    },
    {
     "name": "stderr",
     "output_type": "stream",
     "text": [
      "OpenCV: FFMPEG: tag 0x5634504d/'MP4V' is not supported with codec id 12 and format 'mp4 / MP4 (MPEG-4 Part 14)'\n",
      "OpenCV: FFMPEG: fallback to use tag 0x7634706d/'mp4v'\n"
     ]
    },
    {
     "name": "stdout",
     "output_type": "stream",
     "text": [
      "\n",
      "Face video saved to processed_videos/id3_id0_0009.mp4Saved 14 frames to frames/id4_id9_0003\n",
      "\n"
     ]
    },
    {
     "name": "stderr",
     "output_type": "stream",
     "text": [
      "OpenCV: FFMPEG: tag 0x5634504d/'MP4V' is not supported with codec id 12 and format 'mp4 / MP4 (MPEG-4 Part 14)'\n",
      "OpenCV: FFMPEG: fallback to use tag 0x7634706d/'mp4v'\n"
     ]
    },
    {
     "name": "stdout",
     "output_type": "stream",
     "text": [
      "Faces saved to faces/id3_id1_0001\n",
      "Face video saved to processed_videos/id3_id1_0001.mp4\n",
      "Faces saved to faces/id1_id6_0001"
     ]
    },
    {
     "name": "stderr",
     "output_type": "stream",
     "text": [
      "OpenCV: FFMPEG: tag 0x5634504d/'MP4V' is not supported with codec id 12 and format 'mp4 / MP4 (MPEG-4 Part 14)'\n",
      "OpenCV: FFMPEG: fallback to use tag 0x7634706d/'mp4v'\n"
     ]
    },
    {
     "name": "stdout",
     "output_type": "stream",
     "text": [
      "Faces saved to faces/id2_id9_0009\n",
      "\n",
      "Face video saved to processed_videos/id1_id6_0001.mp4\n",
      "Face video saved to processed_videos/id2_id9_0009.mp4\n"
     ]
    },
    {
     "name": "stderr",
     "output_type": "stream",
     "text": [
      "OpenCV: FFMPEG: tag 0x5634504d/'MP4V' is not supported with codec id 12 and format 'mp4 / MP4 (MPEG-4 Part 14)'\n",
      "OpenCV: FFMPEG: fallback to use tag 0x7634706d/'mp4v'\n",
      "OpenCV: FFMPEG: tag 0x5634504d/'MP4V' is not supported with codec id 12 and format 'mp4 / MP4 (MPEG-4 Part 14)'\n",
      "OpenCV: FFMPEG: fallback to use tag 0x7634706d/'mp4v'\n"
     ]
    },
    {
     "name": "stdout",
     "output_type": "stream",
     "text": [
      "Faces saved to faces/id1_id16_0006Faces saved to faces/id2_id6_0009\n",
      "\n",
      "Face video saved to processed_videos/id2_id6_0009.mp4\n",
      "Face video saved to processed_videos/id1_id16_0006.mp4\n",
      "Saved 17 frames to frames/id2_id17_0008\n",
      "Faces saved to faces/id1_id4_0000Faces saved to faces/id3_id6_0000\n",
      "\n"
     ]
    },
    {
     "name": "stderr",
     "output_type": "stream",
     "text": [
      "OpenCV: FFMPEG: tag 0x5634504d/'MP4V' is not supported with codec id 12 and format 'mp4 / MP4 (MPEG-4 Part 14)'\n",
      "OpenCV: FFMPEG: fallback to use tag 0x7634706d/'mp4v'\n",
      "OpenCV: FFMPEG: tag 0x5634504d/'MP4V' is not supported with codec id 12 and format 'mp4 / MP4 (MPEG-4 Part 14)'\n",
      "OpenCV: FFMPEG: fallback to use tag 0x7634706d/'mp4v'\n",
      "OpenCV: FFMPEG: tag 0x5634504d/'MP4V' is not supported with codec id 12 and format 'mp4 / MP4 (MPEG-4 Part 14)'\n",
      "OpenCV: FFMPEG: fallback to use tag 0x7634706d/'mp4v'\n"
     ]
    },
    {
     "name": "stdout",
     "output_type": "stream",
     "text": [
      "Face video saved to processed_videos/id1_id4_0000.mp4Face video saved to processed_videos/id3_id6_0000.mp4\n",
      "\n",
      "Faces saved to faces/id3_id17_0000"
     ]
    },
    {
     "name": "stderr",
     "output_type": "stream",
     "text": [
      "OpenCV: FFMPEG: tag 0x5634504d/'MP4V' is not supported with codec id 12 and format 'mp4 / MP4 (MPEG-4 Part 14)'\n",
      "OpenCV: FFMPEG: fallback to use tag 0x7634706d/'mp4v'\n"
     ]
    },
    {
     "name": "stdout",
     "output_type": "stream",
     "text": [
      "\n",
      "Face video saved to processed_videos/id3_id17_0000.mp4Saved 10 frames to frames/id4_id3_0008\n",
      "\n",
      "Saved 13 frames to frames/id3_id6_0005"
     ]
    },
    {
     "name": "stderr",
     "output_type": "stream",
     "text": [
      "OpenCV: FFMPEG: tag 0x5634504d/'MP4V' is not supported with codec id 12 and format 'mp4 / MP4 (MPEG-4 Part 14)'\n",
      "OpenCV: FFMPEG: fallback to use tag 0x7634706d/'mp4v'\n"
     ]
    },
    {
     "name": "stdout",
     "output_type": "stream",
     "text": [
      "Faces saved to faces/id6_id2_0003\n",
      "Saved 15 frames to frames/id4_id1_0001\n",
      "\n",
      "Face video saved to processed_videos/id6_id2_0003.mp4Saved 17 frames to frames/id2_id1_0008\n",
      "Saved 15 frames to frames/id4_id9_0005\n",
      "Saved 12 frames to frames/id6_id1_0003\n"
     ]
    },
    {
     "name": "stderr",
     "output_type": "stream",
     "text": [
      "OpenCV: FFMPEG: tag 0x5634504d/'MP4V' is not supported with codec id 12 and format 'mp4 / MP4 (MPEG-4 Part 14)'\n",
      "OpenCV: FFMPEG: fallback to use tag 0x7634706d/'mp4v'\n"
     ]
    },
    {
     "name": "stdout",
     "output_type": "stream",
     "text": [
      "\n",
      "Faces saved to faces/id6_id0_0000\n",
      "Face video saved to processed_videos/id6_id0_0000.mp4\n"
     ]
    },
    {
     "name": "stderr",
     "output_type": "stream",
     "text": [
      "OpenCV: FFMPEG: tag 0x5634504d/'MP4V' is not supported with codec id 12 and format 'mp4 / MP4 (MPEG-4 Part 14)'\n",
      "OpenCV: FFMPEG: fallback to use tag 0x7634706d/'mp4v'\n"
     ]
    },
    {
     "name": "stdout",
     "output_type": "stream",
     "text": [
      "Saved 15 frames to frames/id3_id16_0000\n",
      "Faces saved to faces/id2_id3_0007\n",
      "Faces saved to faces/id3_id16_0005Face video saved to processed_videos/id2_id3_0007.mp4\n",
      "\n",
      "Saved 17 frames to frames/id2_id16_0008\n"
     ]
    },
    {
     "name": "stderr",
     "output_type": "stream",
     "text": [
      "OpenCV: FFMPEG: tag 0x5634504d/'MP4V' is not supported with codec id 12 and format 'mp4 / MP4 (MPEG-4 Part 14)'\n",
      "OpenCV: FFMPEG: fallback to use tag 0x7634706d/'mp4v'\n"
     ]
    },
    {
     "name": "stdout",
     "output_type": "stream",
     "text": [
      "Saved 14 frames to frames/id4_id9_0007Saved 17 frames to frames/id2_id0_0008\n",
      "Face video saved to processed_videos/id3_id16_0005.mp4\n",
      "\n"
     ]
    },
    {
     "name": "stderr",
     "output_type": "stream",
     "text": [
      "OpenCV: FFMPEG: tag 0x5634504d/'MP4V' is not supported with codec id 12 and format 'mp4 / MP4 (MPEG-4 Part 14)'\n",
      "OpenCV: FFMPEG: fallback to use tag 0x7634706d/'mp4v'\n"
     ]
    },
    {
     "name": "stdout",
     "output_type": "stream",
     "text": [
      "Faces saved to faces/id6_id0_0001\n",
      "Face video saved to processed_videos/id6_id0_0001.mp4\n"
     ]
    },
    {
     "name": "stderr",
     "output_type": "stream",
     "text": [
      "OpenCV: FFMPEG: tag 0x5634504d/'MP4V' is not supported with codec id 12 and format 'mp4 / MP4 (MPEG-4 Part 14)'\n",
      "OpenCV: FFMPEG: fallback to use tag 0x7634706d/'mp4v'\n"
     ]
    },
    {
     "name": "stdout",
     "output_type": "stream",
     "text": [
      "Saved 14 frames to frames/id3_id1_0002\n",
      "Saved 15 frames to frames/id3_id0_0000\n",
      "Saved 12 frames to frames/id6_id0_0003\n",
      "Faces saved to faces/id3_id0_0005\n",
      "Face video saved to processed_videos/id3_id0_0005.mp4\n"
     ]
    },
    {
     "name": "stderr",
     "output_type": "stream",
     "text": [
      "OpenCV: FFMPEG: tag 0x5634504d/'MP4V' is not supported with codec id 12 and format 'mp4 / MP4 (MPEG-4 Part 14)'\n",
      "OpenCV: FFMPEG: fallback to use tag 0x7634706d/'mp4v'\n"
     ]
    },
    {
     "name": "stdout",
     "output_type": "stream",
     "text": [
      "Faces saved to faces/id4_id0_0008\n",
      "Face video saved to processed_videos/id4_id0_0008.mp4\n"
     ]
    },
    {
     "name": "stderr",
     "output_type": "stream",
     "text": [
      "OpenCV: FFMPEG: tag 0x5634504d/'MP4V' is not supported with codec id 12 and format 'mp4 / MP4 (MPEG-4 Part 14)'\n",
      "OpenCV: FFMPEG: fallback to use tag 0x7634706d/'mp4v'\n"
     ]
    },
    {
     "name": "stdout",
     "output_type": "stream",
     "text": [
      "Saved 12 frames to frames/id3_id17_0001Saved 14 frames to frames/id2_id9_0000\n",
      "\n",
      "Faces saved to faces/id2_id4_0008\n",
      "Face video saved to processed_videos/id2_id4_0008.mp4Saved 12 frames to frames/id6_id16_0008\n",
      "\n",
      "Saved 12 frames to frames/id6_id16_0003\n"
     ]
    },
    {
     "name": "stderr",
     "output_type": "stream",
     "text": [
      "OpenCV: FFMPEG: tag 0x5634504d/'MP4V' is not supported with codec id 12 and format 'mp4 / MP4 (MPEG-4 Part 14)'\n",
      "OpenCV: FFMPEG: fallback to use tag 0x7634706d/'mp4v'\n"
     ]
    },
    {
     "name": "stdout",
     "output_type": "stream",
     "text": [
      "Saved 14 frames to frames/id9_id6_0005\n",
      "Faces saved to faces/id4_id3_0009\n",
      "Saved 12 frames to frames/id6_id17_0003Saved 13 frames to frames/id3_id16_0006\n",
      "\n",
      "Face video saved to processed_videos/id4_id3_0009.mp4\n"
     ]
    },
    {
     "name": "stderr",
     "output_type": "stream",
     "text": [
      "OpenCV: FFMPEG: tag 0x5634504d/'MP4V' is not supported with codec id 12 and format 'mp4 / MP4 (MPEG-4 Part 14)'\n",
      "OpenCV: FFMPEG: fallback to use tag 0x7634706d/'mp4v'\n"
     ]
    },
    {
     "name": "stdout",
     "output_type": "stream",
     "text": [
      "Saved 14 frames to frames/id4_id2_0003\n",
      "Saved 12 frames to frames/id6_id1_0008\n",
      "Faces saved to faces/id3_id2_0001\n",
      "Face video saved to processed_videos/id3_id2_0001.mp4\n",
      "Faces saved to faces/id3_id9_0003\n",
      "Face video saved to processed_videos/id3_id9_0003.mp4"
     ]
    },
    {
     "name": "stderr",
     "output_type": "stream",
     "text": [
      "OpenCV: FFMPEG: tag 0x5634504d/'MP4V' is not supported with codec id 12 and format 'mp4 / MP4 (MPEG-4 Part 14)'\n",
      "OpenCV: FFMPEG: fallback to use tag 0x7634706d/'mp4v'\n",
      "OpenCV: FFMPEG: tag 0x5634504d/'MP4V' is not supported with codec id 12 and format 'mp4 / MP4 (MPEG-4 Part 14)'\n",
      "OpenCV: FFMPEG: fallback to use tag 0x7634706d/'mp4v'\n"
     ]
    },
    {
     "name": "stdout",
     "output_type": "stream",
     "text": [
      "\n",
      "Faces saved to faces/id2_id16_0003Saved 13 frames to frames/id3_id0_0006\n",
      "\n",
      "Saved 10 frames to frames/id2_id4_0009\n",
      "Face video saved to processed_videos/id2_id16_0003.mp4"
     ]
    },
    {
     "name": "stderr",
     "output_type": "stream",
     "text": [
      "OpenCV: FFMPEG: tag 0x5634504d/'MP4V' is not supported with codec id 12 and format 'mp4 / MP4 (MPEG-4 Part 14)'\n",
      "OpenCV: FFMPEG: fallback to use tag 0x7634706d/'mp4v'\n"
     ]
    },
    {
     "name": "stdout",
     "output_type": "stream",
     "text": [
      "\n",
      "Faces saved to faces/id3_id17_0006\n",
      "Face video saved to processed_videos/id3_id17_0006.mp4"
     ]
    },
    {
     "name": "stderr",
     "output_type": "stream",
     "text": [
      "OpenCV: FFMPEG: tag 0x5634504d/'MP4V' is not supported with codec id 12 and format 'mp4 / MP4 (MPEG-4 Part 14)'\n",
      "OpenCV: FFMPEG: fallback to use tag 0x7634706d/'mp4v'\n"
     ]
    },
    {
     "name": "stdout",
     "output_type": "stream",
     "text": [
      "\n",
      "Faces saved to faces/id3_id4_0003\n",
      "Saved 17 frames to frames/id2_id3_0008Face video saved to processed_videos/id3_id4_0003.mp4\n",
      "Saved 15 frames to frames/id4_id1_0000\n",
      "\n"
     ]
    },
    {
     "name": "stderr",
     "output_type": "stream",
     "text": [
      "OpenCV: FFMPEG: tag 0x5634504d/'MP4V' is not supported with codec id 12 and format 'mp4 / MP4 (MPEG-4 Part 14)'\n",
      "OpenCV: FFMPEG: fallback to use tag 0x7634706d/'mp4v'\n"
     ]
    },
    {
     "name": "stdout",
     "output_type": "stream",
     "text": [
      "Saved 17 frames to frames/id6_id1_0009\n",
      "Faces saved to faces/id2_id0_0003\n",
      "Face video saved to processed_videos/id2_id0_0003.mp4\n",
      "Faces saved to faces/id1_id9_0007"
     ]
    },
    {
     "name": "stderr",
     "output_type": "stream",
     "text": [
      "OpenCV: FFMPEG: tag 0x5634504d/'MP4V' is not supported with codec id 12 and format 'mp4 / MP4 (MPEG-4 Part 14)'\n",
      "OpenCV: FFMPEG: fallback to use tag 0x7634706d/'mp4v'\n"
     ]
    },
    {
     "name": "stdout",
     "output_type": "stream",
     "text": [
      "\n",
      "Face video saved to processed_videos/id1_id9_0007.mp4\n"
     ]
    },
    {
     "name": "stderr",
     "output_type": "stream",
     "text": [
      "OpenCV: FFMPEG: tag 0x5634504d/'MP4V' is not supported with codec id 12 and format 'mp4 / MP4 (MPEG-4 Part 14)'\n",
      "OpenCV: FFMPEG: fallback to use tag 0x7634706d/'mp4v'\n"
     ]
    },
    {
     "name": "stdout",
     "output_type": "stream",
     "text": [
      "Saved 14 frames to frames/id3_id2_0002\n",
      "Saved 16 frames to frames/id3_id9_0004\n",
      "Saved 12 frames to frames/id3_id17_0007\n",
      "Saved 12 frames to frames/id6_id17_0008\n",
      "Saved 21 frames to frames/id6_id2_0000\n",
      "Faces saved to faces/id2_id17_0003\n",
      "Faces saved to faces/id6_id2_0008Face video saved to processed_videos/id2_id17_0003.mp4\n",
      "\n",
      "Face video saved to processed_videos/id6_id2_0008.mp4Saved 16 frames to frames/id4_id0_0002\n",
      "\n",
      "Saved 12 frames to frames/id6_id4_0005"
     ]
    },
    {
     "name": "stderr",
     "output_type": "stream",
     "text": [
      "OpenCV: FFMPEG: tag 0x5634504d/'MP4V' is not supported with codec id 12 and format 'mp4 / MP4 (MPEG-4 Part 14)'\n",
      "OpenCV: FFMPEG: fallback to use tag 0x7634706d/'mp4v'\n",
      "OpenCV: FFMPEG: tag 0x5634504d/'MP4V' is not supported with codec id 12 and format 'mp4 / MP4 (MPEG-4 Part 14)'\n",
      "OpenCV: FFMPEG: fallback to use tag 0x7634706d/'mp4v'\n"
     ]
    },
    {
     "name": "stdout",
     "output_type": "stream",
     "text": [
      "\n",
      "Faces saved to faces/id3_id9_0008\n",
      "Saved 12 frames to frames/id6_id9_0008\n",
      "Face video saved to processed_videos/id3_id9_0008.mp4\n",
      "Faces saved to faces/id2_id1_0003"
     ]
    },
    {
     "name": "stderr",
     "output_type": "stream",
     "text": [
      "OpenCV: FFMPEG: tag 0x5634504d/'MP4V' is not supported with codec id 12 and format 'mp4 / MP4 (MPEG-4 Part 14)'\n",
      "OpenCV: FFMPEG: fallback to use tag 0x7634706d/'mp4v'\n"
     ]
    },
    {
     "name": "stdout",
     "output_type": "stream",
     "text": [
      "\n",
      "Face video saved to processed_videos/id2_id1_0003.mp4\n"
     ]
    },
    {
     "name": "stderr",
     "output_type": "stream",
     "text": [
      "OpenCV: FFMPEG: tag 0x5634504d/'MP4V' is not supported with codec id 12 and format 'mp4 / MP4 (MPEG-4 Part 14)'\n",
      "OpenCV: FFMPEG: fallback to use tag 0x7634706d/'mp4v'\n"
     ]
    },
    {
     "name": "stdout",
     "output_type": "stream",
     "text": [
      "Faces saved to faces/id3_id1_0007\n",
      "Faces saved to faces/id2_id3_0003\n",
      "Face video saved to processed_videos/id3_id1_0007.mp4Face video saved to processed_videos/id2_id3_0003.mp4\n"
     ]
    },
    {
     "name": "stderr",
     "output_type": "stream",
     "text": [
      "OpenCV: FFMPEG: tag 0x5634504d/'MP4V' is not supported with codec id 12 and format 'mp4 / MP4 (MPEG-4 Part 14)'\n",
      "OpenCV: FFMPEG: fallback to use tag 0x7634706d/'mp4v'\n",
      "OpenCV: FFMPEG: tag 0x5634504d/'MP4V' is not supported with codec id 12 and format 'mp4 / MP4 (MPEG-4 Part 14)'\n",
      "OpenCV: FFMPEG: fallback to use tag 0x7634706d/'mp4v'\n"
     ]
    },
    {
     "name": "stdout",
     "output_type": "stream",
     "text": [
      "\n",
      "Saved 5 frames to frames/id7_id10_0005\n",
      "Faces saved to faces/id1_id6_0006\n",
      "Face video saved to processed_videos/id1_id6_0006.mp4\n"
     ]
    },
    {
     "name": "stderr",
     "output_type": "stream",
     "text": [
      "OpenCV: FFMPEG: tag 0x5634504d/'MP4V' is not supported with codec id 12 and format 'mp4 / MP4 (MPEG-4 Part 14)'\n",
      "OpenCV: FFMPEG: fallback to use tag 0x7634706d/'mp4v'\n"
     ]
    },
    {
     "name": "stdout",
     "output_type": "stream",
     "text": [
      "Faces saved to faces/id4_id0_0006\n",
      "Faces saved to faces/id2_id4_0003Face video saved to processed_videos/id4_id0_0006.mp4\n",
      "\n"
     ]
    },
    {
     "name": "stderr",
     "output_type": "stream",
     "text": [
      "OpenCV: FFMPEG: tag 0x5634504d/'MP4V' is not supported with codec id 12 and format 'mp4 / MP4 (MPEG-4 Part 14)'\n",
      "OpenCV: FFMPEG: fallback to use tag 0x7634706d/'mp4v'\n",
      "OpenCV: FFMPEG: tag 0x5634504d/'MP4V' is not supported with codec id 12 and format 'mp4 / MP4 (MPEG-4 Part 14)'\n",
      "OpenCV: FFMPEG: fallback to use tag 0x7634706d/'mp4v'\n"
     ]
    },
    {
     "name": "stdout",
     "output_type": "stream",
     "text": [
      "Face video saved to processed_videos/id2_id4_0003.mp4\n",
      "Faces saved to faces/id2_id9_0006\n",
      "Faces saved to faces/id8_id2_0002Face video saved to processed_videos/id2_id9_0006.mp4\n",
      "\n",
      "Saved 9 frames to frames/id7_id11_0002"
     ]
    },
    {
     "name": "stderr",
     "output_type": "stream",
     "text": [
      "OpenCV: FFMPEG: tag 0x5634504d/'MP4V' is not supported with codec id 12 and format 'mp4 / MP4 (MPEG-4 Part 14)'\n",
      "OpenCV: FFMPEG: fallback to use tag 0x7634706d/'mp4v'\n",
      "OpenCV: FFMPEG: tag 0x5634504d/'MP4V' is not supported with codec id 12 and format 'mp4 / MP4 (MPEG-4 Part 14)'\n",
      "OpenCV: FFMPEG: fallback to use tag 0x7634706d/'mp4v'\n"
     ]
    },
    {
     "name": "stdout",
     "output_type": "stream",
     "text": [
      "Face video saved to processed_videos/id8_id2_0002.mp4\n",
      "\n",
      "Faces saved to faces/id3_id6_0008\n",
      "Face video saved to processed_videos/id3_id6_0008.mp4\n",
      "Faces saved to faces/id2_id6_0006\n",
      "Faces saved to faces/id3_id2_0007"
     ]
    },
    {
     "name": "stderr",
     "output_type": "stream",
     "text": [
      "OpenCV: FFMPEG: tag 0x5634504d/'MP4V' is not supported with codec id 12 and format 'mp4 / MP4 (MPEG-4 Part 14)'\n",
      "OpenCV: FFMPEG: fallback to use tag 0x7634706d/'mp4v'\n",
      "OpenCV: FFMPEG: tag 0x5634504d/'MP4V' is not supported with codec id 12 and format 'mp4 / MP4 (MPEG-4 Part 14)'\n",
      "OpenCV: FFMPEG: fallback to use tag 0x7634706d/'mp4v'\n"
     ]
    },
    {
     "name": "stdout",
     "output_type": "stream",
     "text": [
      "\n",
      "Face video saved to processed_videos/id2_id6_0006.mp4\n",
      "Face video saved to processed_videos/id3_id2_0007.mp4\n"
     ]
    },
    {
     "name": "stderr",
     "output_type": "stream",
     "text": [
      "OpenCV: FFMPEG: tag 0x5634504d/'MP4V' is not supported with codec id 12 and format 'mp4 / MP4 (MPEG-4 Part 14)'\n",
      "OpenCV: FFMPEG: fallback to use tag 0x7634706d/'mp4v'\n"
     ]
    },
    {
     "name": "stdout",
     "output_type": "stream",
     "text": [
      "Saved 15 frames to frames/id3_id1_0008\n",
      "Saved 16 frames to frames/id3_id9_0009\n",
      "Saved 15 frames to frames/id7_id11_0009Faces saved to faces/id3_id6_0005\n",
      "\n",
      "Faces saved to faces/id4_id3_0000\n",
      "Face video saved to processed_videos/id3_id6_0005.mp4"
     ]
    },
    {
     "name": "stderr",
     "output_type": "stream",
     "text": [
      "OpenCV: FFMPEG: tag 0x5634504d/'MP4V' is not supported with codec id 12 and format 'mp4 / MP4 (MPEG-4 Part 14)'\n",
      "OpenCV: FFMPEG: fallback to use tag 0x7634706d/'mp4v'\n",
      "OpenCV: FFMPEG: tag 0x5634504d/'MP4V' is not supported with codec id 12 and format 'mp4 / MP4 (MPEG-4 Part 14)'\n",
      "OpenCV: FFMPEG: fallback to use tag 0x7634706d/'mp4v'\n"
     ]
    },
    {
     "name": "stdout",
     "output_type": "stream",
     "text": [
      "Face video saved to processed_videos/id4_id3_0000.mp4\n",
      "\n",
      "Saved 21 frames to frames/id6_id3_0000\n",
      "Saved 13 frames to frames/id7_id12_0007\n",
      "Faces saved to faces/id8_id6_0007\n",
      "Saved 15 frames to frames/id3_id2_0008\n",
      "Face video saved to processed_videos/id8_id6_0007.mp4"
     ]
    },
    {
     "name": "stderr",
     "output_type": "stream",
     "text": [
      "OpenCV: FFMPEG: tag 0x5634504d/'MP4V' is not supported with codec id 12 and format 'mp4 / MP4 (MPEG-4 Part 14)'\n",
      "OpenCV: FFMPEG: fallback to use tag 0x7634706d/'mp4v'\n"
     ]
    },
    {
     "name": "stdout",
     "output_type": "stream",
     "text": [
      "\n",
      "Faces saved to faces/id4_id3_0003Saved 12 frames to frames/id8_id5_0007\n",
      "\n",
      "Face video saved to processed_videos/id4_id3_0003.mp4\n",
      "Saved 15 frames to frames/id4_id2_0005\n"
     ]
    },
    {
     "name": "stderr",
     "output_type": "stream",
     "text": [
      "OpenCV: FFMPEG: tag 0x5634504d/'MP4V' is not supported with codec id 12 and format 'mp4 / MP4 (MPEG-4 Part 14)'\n",
      "OpenCV: FFMPEG: fallback to use tag 0x7634706d/'mp4v'\n"
     ]
    },
    {
     "name": "stdout",
     "output_type": "stream",
     "text": [
      "Faces saved to faces/id6_id2_0007\n",
      "Faces saved to faces/id3_id17_0001\n",
      "Face video saved to processed_videos/id3_id17_0001.mp4Face video saved to processed_videos/id6_id2_0007.mp4Saved 16 frames to frames/id3_id6_0009"
     ]
    },
    {
     "name": "stderr",
     "output_type": "stream",
     "text": [
      "OpenCV: FFMPEG: tag 0x5634504d/'MP4V' is not supported with codec id 12 and format 'mp4 / MP4 (MPEG-4 Part 14)'\n",
      "OpenCV: FFMPEG: fallback to use tag 0x7634706d/'mp4v'\n",
      "OpenCV: FFMPEG: tag 0x5634504d/'MP4V' is not supported with codec id 12 and format 'mp4 / MP4 (MPEG-4 Part 14)'\n",
      "OpenCV: FFMPEG: fallback to use tag 0x7634706d/'mp4v'\n"
     ]
    },
    {
     "name": "stdout",
     "output_type": "stream",
     "text": [
      "\n",
      "\n",
      "\n",
      "Faces saved to faces/id3_id16_0000\n",
      "Face video saved to processed_videos/id3_id16_0000.mp4\n"
     ]
    },
    {
     "name": "stderr",
     "output_type": "stream",
     "text": [
      "OpenCV: FFMPEG: tag 0x5634504d/'MP4V' is not supported with codec id 12 and format 'mp4 / MP4 (MPEG-4 Part 14)'\n",
      "OpenCV: FFMPEG: fallback to use tag 0x7634706d/'mp4v'\n"
     ]
    },
    {
     "name": "stdout",
     "output_type": "stream",
     "text": [
      "Faces saved to faces/id4_id6_0008\n",
      "Face video saved to processed_videos/id4_id6_0008.mp4Saved 18 frames to frames/id6_id0_0007\n",
      "\n"
     ]
    },
    {
     "name": "stderr",
     "output_type": "stream",
     "text": [
      "OpenCV: FFMPEG: tag 0x5634504d/'MP4V' is not supported with codec id 12 and format 'mp4 / MP4 (MPEG-4 Part 14)'\n",
      "OpenCV: FFMPEG: fallback to use tag 0x7634706d/'mp4v'\n"
     ]
    },
    {
     "name": "stdout",
     "output_type": "stream",
     "text": [
      "Saved 19 frames to frames/id8_id6_0008\n",
      "Faces saved to faces/id3_id1_0002\n",
      "Face video saved to processed_videos/id3_id1_0002.mp4\n"
     ]
    },
    {
     "name": "stderr",
     "output_type": "stream",
     "text": [
      "OpenCV: FFMPEG: tag 0x5634504d/'MP4V' is not supported with codec id 12 and format 'mp4 / MP4 (MPEG-4 Part 14)'\n",
      "OpenCV: FFMPEG: fallback to use tag 0x7634706d/'mp4v'\n"
     ]
    },
    {
     "name": "stdout",
     "output_type": "stream",
     "text": [
      "Faces saved to faces/id3_id0_0000\n",
      "Saved 14 frames to frames/id9_id6_0000\n",
      "Face video saved to processed_videos/id3_id0_0000.mp4Saved 24 frames to frames/id7_id13_0004\n",
      "\n"
     ]
    },
    {
     "name": "stderr",
     "output_type": "stream",
     "text": [
      "OpenCV: FFMPEG: tag 0x5634504d/'MP4V' is not supported with codec id 12 and format 'mp4 / MP4 (MPEG-4 Part 14)'\n",
      "OpenCV: FFMPEG: fallback to use tag 0x7634706d/'mp4v'\n"
     ]
    },
    {
     "name": "stdout",
     "output_type": "stream",
     "text": [
      "Saved 12 frames to frames/id3_id16_0001\n",
      "Saved 17 frames to frames/id6_id2_0009\n",
      "Faces saved to faces/id2_id4_0009\n",
      "Face video saved to processed_videos/id2_id4_0009.mp4\n",
      "Saved 14 frames to frames/id3_id17_0002\n"
     ]
    },
    {
     "name": "stderr",
     "output_type": "stream",
     "text": [
      "OpenCV: FFMPEG: tag 0x5634504d/'MP4V' is not supported with codec id 12 and format 'mp4 / MP4 (MPEG-4 Part 14)'\n",
      "OpenCV: FFMPEG: fallback to use tag 0x7634706d/'mp4v'\n"
     ]
    },
    {
     "name": "stdout",
     "output_type": "stream",
     "text": [
      "Saved 16 frames to frames/id4_id6_0002\n",
      "Faces saved to faces/id4_id3_0005\n",
      "Face video saved to processed_videos/id4_id3_0005.mp4\n"
     ]
    },
    {
     "name": "stderr",
     "output_type": "stream",
     "text": [
      "OpenCV: FFMPEG: tag 0x5634504d/'MP4V' is not supported with codec id 12 and format 'mp4 / MP4 (MPEG-4 Part 14)'\n",
      "OpenCV: FFMPEG: fallback to use tag 0x7634706d/'mp4v'\n"
     ]
    },
    {
     "name": "stdout",
     "output_type": "stream",
     "text": [
      "Faces saved to faces/id4_id3_0008\n",
      "Face video saved to processed_videos/id4_id3_0008.mp4\n"
     ]
    },
    {
     "name": "stderr",
     "output_type": "stream",
     "text": [
      "OpenCV: FFMPEG: tag 0x5634504d/'MP4V' is not supported with codec id 12 and format 'mp4 / MP4 (MPEG-4 Part 14)'\n",
      "OpenCV: FFMPEG: fallback to use tag 0x7634706d/'mp4v'\n"
     ]
    },
    {
     "name": "stdout",
     "output_type": "stream",
     "text": [
      "Saved 12 frames to frames/id3_id1_0003Faces saved to faces/id3_id16_0006\n",
      "Saved 16 frames to frames/id4_id6_0009\n",
      "\n",
      "Faces saved to faces/id2_id9_0000Face video saved to processed_videos/id3_id16_0006.mp4\n",
      "Saved 12 frames to frames/id3_id0_0001\n",
      "\n"
     ]
    },
    {
     "name": "stderr",
     "output_type": "stream",
     "text": [
      "OpenCV: FFMPEG: tag 0x5634504d/'MP4V' is not supported with codec id 12 and format 'mp4 / MP4 (MPEG-4 Part 14)'\n",
      "OpenCV: FFMPEG: fallback to use tag 0x7634706d/'mp4v'\n"
     ]
    },
    {
     "name": "stdout",
     "output_type": "stream",
     "text": [
      "Face video saved to processed_videos/id2_id9_0000.mp4\n",
      "Saved 20 frames to frames/id6_id3_0002"
     ]
    },
    {
     "name": "stderr",
     "output_type": "stream",
     "text": [
      "OpenCV: FFMPEG: tag 0x5634504d/'MP4V' is not supported with codec id 12 and format 'mp4 / MP4 (MPEG-4 Part 14)'\n",
      "OpenCV: FFMPEG: fallback to use tag 0x7634706d/'mp4v'\n"
     ]
    },
    {
     "name": "stdout",
     "output_type": "stream",
     "text": [
      "\n",
      "Saved 19 frames to frames/id8_id3_0008\n",
      "Saved 12 frames to frames/id2_id6_0001\n",
      "Faces saved to faces/id3_id0_0006\n",
      "Face video saved to processed_videos/id3_id0_0006.mp4\n"
     ]
    },
    {
     "name": "stderr",
     "output_type": "stream",
     "text": [
      "OpenCV: FFMPEG: tag 0x5634504d/'MP4V' is not supported with codec id 12 and format 'mp4 / MP4 (MPEG-4 Part 14)'\n",
      "OpenCV: FFMPEG: fallback to use tag 0x7634706d/'mp4v'\n"
     ]
    },
    {
     "name": "stdout",
     "output_type": "stream",
     "text": [
      "Faces saved to faces/id7_id10_0005\n",
      "Face video saved to processed_videos/id7_id10_0005.mp4"
     ]
    },
    {
     "name": "stderr",
     "output_type": "stream",
     "text": [
      "OpenCV: FFMPEG: tag 0x5634504d/'MP4V' is not supported with codec id 12 and format 'mp4 / MP4 (MPEG-4 Part 14)'\n",
      "OpenCV: FFMPEG: fallback to use tag 0x7634706d/'mp4v'\n"
     ]
    },
    {
     "name": "stdout",
     "output_type": "stream",
     "text": [
      "\n",
      "Saved 12 frames to frames/id2_id9_0001\n",
      "Saved 10 frames to frames/id6_id2_0001\n",
      "Saved 15 frames to frames/id6_id3_0004\n",
      "Faces saved to faces/id3_id2_0002\n",
      "Face video saved to processed_videos/id3_id2_0002.mp4\n"
     ]
    },
    {
     "name": "stderr",
     "output_type": "stream",
     "text": [
      "OpenCV: FFMPEG: tag 0x5634504d/'MP4V' is not supported with codec id 12 and format 'mp4 / MP4 (MPEG-4 Part 14)'\n",
      "OpenCV: FFMPEG: fallback to use tag 0x7634706d/'mp4v'\n"
     ]
    },
    {
     "name": "stdout",
     "output_type": "stream",
     "text": [
      "Saved 15 frames to frames/id9_id1_0008\n",
      "Faces saved to faces/id9_id6_0007\n",
      "Face video saved to processed_videos/id9_id6_0007.mp4\n"
     ]
    },
    {
     "name": "stderr",
     "output_type": "stream",
     "text": [
      "OpenCV: FFMPEG: tag 0x5634504d/'MP4V' is not supported with codec id 12 and format 'mp4 / MP4 (MPEG-4 Part 14)'\n",
      "OpenCV: FFMPEG: fallback to use tag 0x7634706d/'mp4v'\n"
     ]
    },
    {
     "name": "stdout",
     "output_type": "stream",
     "text": [
      "Faces saved to faces/id6_id1_0003\n",
      "Face video saved to processed_videos/id6_id1_0003.mp4"
     ]
    },
    {
     "name": "stderr",
     "output_type": "stream",
     "text": [
      "OpenCV: FFMPEG: tag 0x5634504d/'MP4V' is not supported with codec id 12 and format 'mp4 / MP4 (MPEG-4 Part 14)'\n",
      "OpenCV: FFMPEG: fallback to use tag 0x7634706d/'mp4v'\n"
     ]
    },
    {
     "name": "stdout",
     "output_type": "stream",
     "text": [
      "\n",
      "Faces saved to faces/id3_id9_0004Faces saved to faces/id4_id6_0005\n",
      "\n",
      "Face video saved to processed_videos/id3_id9_0004.mp4Faces saved to faces/id3_id17_0007Face video saved to processed_videos/id4_id6_0005.mp4\n"
     ]
    },
    {
     "name": "stderr",
     "output_type": "stream",
     "text": [
      "OpenCV: FFMPEG: tag 0x5634504d/'MP4V' is not supported with codec id 12 and format 'mp4 / MP4 (MPEG-4 Part 14)'\n",
      "OpenCV: FFMPEG: fallback to use tag 0x7634706d/'mp4v'\n",
      "OpenCV: FFMPEG: tag 0x5634504d/'MP4V' is not supported with codec id 12 and format 'mp4 / MP4 (MPEG-4 Part 14)'\n",
      "OpenCV: FFMPEG: fallback to use tag 0x7634706d/'mp4v'\n",
      "OpenCV: FFMPEG: tag 0x5634504d/'MP4V' is not supported with codec id 12 and format 'mp4 / MP4 (MPEG-4 Part 14)'\n",
      "OpenCV: FFMPEG: fallback to use tag 0x7634706d/'mp4v'\n"
     ]
    },
    {
     "name": "stdout",
     "output_type": "stream",
     "text": [
      "\n",
      "\n",
      "Face video saved to processed_videos/id3_id17_0007.mp4Faces saved to faces/id9_id4_0001\n",
      "\n",
      "Saved 13 frames to frames/id7_id10_0007Face video saved to processed_videos/id9_id4_0001.mp4\n",
      "Saved 14 frames to frames/id9_id0_0005\n",
      "\n"
     ]
    },
    {
     "name": "stderr",
     "output_type": "stream",
     "text": [
      "OpenCV: FFMPEG: tag 0x5634504d/'MP4V' is not supported with codec id 12 and format 'mp4 / MP4 (MPEG-4 Part 14)'\n",
      "OpenCV: FFMPEG: fallback to use tag 0x7634706d/'mp4v'\n"
     ]
    },
    {
     "name": "stdout",
     "output_type": "stream",
     "text": [
      "Faces saved to faces/id6_id0_0003\n",
      "Face video saved to processed_videos/id6_id0_0003.mp4\n"
     ]
    },
    {
     "name": "stderr",
     "output_type": "stream",
     "text": [
      "OpenCV: FFMPEG: tag 0x5634504d/'MP4V' is not supported with codec id 12 and format 'mp4 / MP4 (MPEG-4 Part 14)'\n",
      "OpenCV: FFMPEG: fallback to use tag 0x7634706d/'mp4v'\n"
     ]
    },
    {
     "name": "stdout",
     "output_type": "stream",
     "text": [
      "Saved 12 frames to frames/id3_id2_0003\n",
      "Faces saved to faces/id8_id2_0008\n",
      "Faces saved to faces/id4_id9_0003Face video saved to processed_videos/id8_id2_0008.mp4\n",
      "\n",
      "Face video saved to processed_videos/id4_id9_0003.mp4"
     ]
    },
    {
     "name": "stderr",
     "output_type": "stream",
     "text": [
      "OpenCV: FFMPEG: tag 0x5634504d/'MP4V' is not supported with codec id 12 and format 'mp4 / MP4 (MPEG-4 Part 14)'\n",
      "OpenCV: FFMPEG: fallback to use tag 0x7634706d/'mp4v'\n",
      "OpenCV: FFMPEG: tag 0x5634504d/'MP4V' is not supported with codec id 12 and format 'mp4 / MP4 (MPEG-4 Part 14)'\n",
      "OpenCV: FFMPEG: fallback to use tag 0x7634706d/'mp4v'\n"
     ]
    },
    {
     "name": "stdout",
     "output_type": "stream",
     "text": [
      "\n",
      "Saved 12 frames to frames/id3_id6_0003\n",
      "Faces saved to faces/id6_id1_0007\n",
      "Face video saved to processed_videos/id6_id1_0007.mp4\n",
      "Faces saved to faces/id4_id9_0001"
     ]
    },
    {
     "name": "stderr",
     "output_type": "stream",
     "text": [
      "OpenCV: FFMPEG: tag 0x5634504d/'MP4V' is not supported with codec id 12 and format 'mp4 / MP4 (MPEG-4 Part 14)'\n",
      "OpenCV: FFMPEG: fallback to use tag 0x7634706d/'mp4v'\n"
     ]
    },
    {
     "name": "stdout",
     "output_type": "stream",
     "text": [
      "\n",
      "Face video saved to processed_videos/id4_id9_0001.mp4\n"
     ]
    },
    {
     "name": "stderr",
     "output_type": "stream",
     "text": [
      "OpenCV: FFMPEG: tag 0x5634504d/'MP4V' is not supported with codec id 12 and format 'mp4 / MP4 (MPEG-4 Part 14)'\n",
      "OpenCV: FFMPEG: fallback to use tag 0x7634706d/'mp4v'\n"
     ]
    },
    {
     "name": "stdout",
     "output_type": "stream",
     "text": [
      "Saved 13 frames to frames/id3_id9_0005Faces saved to faces/id6_id16_0003\n",
      "\n",
      "Face video saved to processed_videos/id6_id16_0003.mp4\n",
      "Faces saved to faces/id6_id17_0003Saved 13 frames to frames/id3_id4_0005\n"
     ]
    },
    {
     "name": "stderr",
     "output_type": "stream",
     "text": [
      "OpenCV: FFMPEG: tag 0x5634504d/'MP4V' is not supported with codec id 12 and format 'mp4 / MP4 (MPEG-4 Part 14)'\n",
      "OpenCV: FFMPEG: fallback to use tag 0x7634706d/'mp4v'\n"
     ]
    },
    {
     "name": "stdout",
     "output_type": "stream",
     "text": [
      "\n",
      "Face video saved to processed_videos/id6_id17_0003.mp4\n"
     ]
    },
    {
     "name": "stderr",
     "output_type": "stream",
     "text": [
      "OpenCV: FFMPEG: tag 0x5634504d/'MP4V' is not supported with codec id 12 and format 'mp4 / MP4 (MPEG-4 Part 14)'\n",
      "OpenCV: FFMPEG: fallback to use tag 0x7634706d/'mp4v'\n"
     ]
    },
    {
     "name": "stdout",
     "output_type": "stream",
     "text": [
      "Faces saved to faces/id6_id16_0008Faces saved to faces/id8_id1_0002\n",
      "\n",
      "Saved 14 frames to frames/id4_id1_0003\n",
      "Face video saved to processed_videos/id8_id1_0002.mp4Face video saved to processed_videos/id6_id16_0008.mp4\n",
      "\n",
      "Saved 10 frames to frames/id9_id0_0009\n"
     ]
    },
    {
     "name": "stderr",
     "output_type": "stream",
     "text": [
      "OpenCV: FFMPEG: tag 0x5634504d/'MP4V' is not supported with codec id 12 and format 'mp4 / MP4 (MPEG-4 Part 14)'\n",
      "OpenCV: FFMPEG: fallback to use tag 0x7634706d/'mp4v'\n",
      "OpenCV: FFMPEG: tag 0x5634504d/'MP4V' is not supported with codec id 12 and format 'mp4 / MP4 (MPEG-4 Part 14)'\n",
      "OpenCV: FFMPEG: fallback to use tag 0x7634706d/'mp4v'\n"
     ]
    },
    {
     "name": "stdout",
     "output_type": "stream",
     "text": [
      "Faces saved to faces/id6_id1_0008\n",
      "Faces saved to faces/id4_id9_0007Face video saved to processed_videos/id6_id1_0008.mp4\n",
      "\n",
      "Saved 13 frames to frames/id8_id6_0003Face video saved to processed_videos/id4_id9_0007.mp4\n",
      "\n"
     ]
    },
    {
     "name": "stderr",
     "output_type": "stream",
     "text": [
      "OpenCV: FFMPEG: tag 0x5634504d/'MP4V' is not supported with codec id 12 and format 'mp4 / MP4 (MPEG-4 Part 14)'\n",
      "OpenCV: FFMPEG: fallback to use tag 0x7634706d/'mp4v'\n",
      "OpenCV: FFMPEG: tag 0x5634504d/'MP4V' is not supported with codec id 12 and format 'mp4 / MP4 (MPEG-4 Part 14)'\n",
      "OpenCV: FFMPEG: fallback to use tag 0x7634706d/'mp4v'\n"
     ]
    },
    {
     "name": "stdout",
     "output_type": "stream",
     "text": [
      "Faces saved to faces/id7_id11_0002\n",
      "Face video saved to processed_videos/id7_id11_0002.mp4"
     ]
    },
    {
     "name": "stderr",
     "output_type": "stream",
     "text": [
      "OpenCV: FFMPEG: tag 0x5634504d/'MP4V' is not supported with codec id 12 and format 'mp4 / MP4 (MPEG-4 Part 14)'\n",
      "OpenCV: FFMPEG: fallback to use tag 0x7634706d/'mp4v'\n"
     ]
    },
    {
     "name": "stdout",
     "output_type": "stream",
     "text": [
      "\n",
      "Faces saved to faces/id9_id6_0005\n",
      "Faces saved to faces/id3_id1_0008Face video saved to processed_videos/id9_id6_0005.mp4\n",
      "\n"
     ]
    },
    {
     "name": "stderr",
     "output_type": "stream",
     "text": [
      "OpenCV: FFMPEG: tag 0x5634504d/'MP4V' is not supported with codec id 12 and format 'mp4 / MP4 (MPEG-4 Part 14)'\n",
      "OpenCV: FFMPEG: fallback to use tag 0x7634706d/'mp4v'\n",
      "OpenCV: FFMPEG: tag 0x5634504d/'MP4V' is not supported with codec id 12 and format 'mp4 / MP4 (MPEG-4 Part 14)'\n",
      "OpenCV: FFMPEG: fallback to use tag 0x7634706d/'mp4v'\n"
     ]
    },
    {
     "name": "stdout",
     "output_type": "stream",
     "text": [
      "Face video saved to processed_videos/id3_id1_0008.mp4\n",
      "Faces saved to faces/id4_id1_0001\n",
      "Saved 12 frames to frames/id6_id0_0005Face video saved to processed_videos/id4_id1_0001.mp4\n",
      "Faces saved to faces/id4_id9_0005\n",
      "\n",
      "Face video saved to processed_videos/id4_id9_0005.mp4"
     ]
    },
    {
     "name": "stderr",
     "output_type": "stream",
     "text": [
      "OpenCV: FFMPEG: tag 0x5634504d/'MP4V' is not supported with codec id 12 and format 'mp4 / MP4 (MPEG-4 Part 14)'\n",
      "OpenCV: FFMPEG: fallback to use tag 0x7634706d/'mp4v'\n",
      "OpenCV: FFMPEG: tag 0x5634504d/'MP4V' is not supported with codec id 12 and format 'mp4 / MP4 (MPEG-4 Part 14)'\n",
      "OpenCV: FFMPEG: fallback to use tag 0x7634706d/'mp4v'\n"
     ]
    },
    {
     "name": "stdout",
     "output_type": "stream",
     "text": [
      "\n",
      "Saved 14 frames to frames/id4_id3_0007\n",
      "Faces saved to faces/id2_id17_0008\n",
      "Face video saved to processed_videos/id2_id17_0008.mp4\n"
     ]
    },
    {
     "name": "stderr",
     "output_type": "stream",
     "text": [
      "OpenCV: FFMPEG: tag 0x5634504d/'MP4V' is not supported with codec id 12 and format 'mp4 / MP4 (MPEG-4 Part 14)'\n",
      "OpenCV: FFMPEG: fallback to use tag 0x7634706d/'mp4v'\n"
     ]
    },
    {
     "name": "stdout",
     "output_type": "stream",
     "text": [
      "Saved 20 frames to frames/id6_id9_0002\n",
      "Faces saved to faces/id6_id17_0008Saved 15 frames to frames/id6_id17_0004\n",
      "Saved 15 frames to frames/id6_id16_0004\n",
      "Face video saved to processed_videos/id6_id17_0008.mp4\n",
      "\n",
      "Saved 10 frames to frames/id4_id9_0008Saved 19 frames to frames/id8_id0_0008"
     ]
    },
    {
     "name": "stderr",
     "output_type": "stream",
     "text": [
      "OpenCV: FFMPEG: tag 0x5634504d/'MP4V' is not supported with codec id 12 and format 'mp4 / MP4 (MPEG-4 Part 14)'\n",
      "OpenCV: FFMPEG: fallback to use tag 0x7634706d/'mp4v'\n"
     ]
    },
    {
     "name": "stdout",
     "output_type": "stream",
     "text": [
      "Saved 12 frames to frames/id3_id6_0001\n",
      "\n",
      "\n",
      "Faces saved to faces/id3_id2_0008\n",
      "Saved 21 frames to frames/id6_id9_0000Face video saved to processed_videos/id3_id2_0008.mp4\n",
      "Faces saved to faces/id4_id2_0003\n",
      "\n",
      "Faces saved to faces/id2_id16_0008"
     ]
    },
    {
     "name": "stderr",
     "output_type": "stream",
     "text": [
      "OpenCV: FFMPEG: tag 0x5634504d/'MP4V' is not supported with codec id 12 and format 'mp4 / MP4 (MPEG-4 Part 14)'\n",
      "OpenCV: FFMPEG: fallback to use tag 0x7634706d/'mp4v'\n",
      "OpenCV: FFMPEG: tag 0x5634504d/'MP4V' is not supported with codec id 12 and format 'mp4 / MP4 (MPEG-4 Part 14)'\n",
      "OpenCV: FFMPEG: fallback to use tag 0x7634706d/'mp4v'\n"
     ]
    },
    {
     "name": "stdout",
     "output_type": "stream",
     "text": [
      "Face video saved to processed_videos/id4_id2_0003.mp4Faces saved to faces/id3_id16_0001\n",
      "\n",
      "\n",
      "Face video saved to processed_videos/id2_id16_0008.mp4\n",
      "Face video saved to processed_videos/id3_id16_0001.mp4\n"
     ]
    },
    {
     "name": "stderr",
     "output_type": "stream",
     "text": [
      "OpenCV: FFMPEG: tag 0x5634504d/'MP4V' is not supported with codec id 12 and format 'mp4 / MP4 (MPEG-4 Part 14)'\n",
      "OpenCV: FFMPEG: fallback to use tag 0x7634706d/'mp4v'\n",
      "OpenCV: FFMPEG: tag 0x5634504d/'MP4V' is not supported with codec id 12 and format 'mp4 / MP4 (MPEG-4 Part 14)'\n",
      "OpenCV: FFMPEG: fallback to use tag 0x7634706d/'mp4v'\n"
     ]
    },
    {
     "name": "stdout",
     "output_type": "stream",
     "text": [
      "Faces saved to faces/id2_id1_0008\n",
      "Face video saved to processed_videos/id2_id1_0008.mp4Saved 12 frames to frames/id8_id0_0007\n",
      "\n"
     ]
    },
    {
     "name": "stderr",
     "output_type": "stream",
     "text": [
      "OpenCV: FFMPEG: tag 0x5634504d/'MP4V' is not supported with codec id 12 and format 'mp4 / MP4 (MPEG-4 Part 14)'\n",
      "OpenCV: FFMPEG: fallback to use tag 0x7634706d/'mp4v'\n"
     ]
    },
    {
     "name": "stdout",
     "output_type": "stream",
     "text": [
      "Saved 15 frames to frames/id4_id1_0005Saved 12 frames to frames/id9_id16_0004\n",
      "\n",
      "Saved 17 frames to frames/id6_id16_0009\n",
      "Saved 12 frames to frames/id6_id0_0008\n",
      "Faces saved to faces/id2_id0_0008Saved 10 frames to frames/id9_id16_0009\n",
      "\n",
      "Face video saved to processed_videos/id2_id0_0008.mp4\n"
     ]
    },
    {
     "name": "stderr",
     "output_type": "stream",
     "text": [
      "OpenCV: FFMPEG: tag 0x5634504d/'MP4V' is not supported with codec id 12 and format 'mp4 / MP4 (MPEG-4 Part 14)'\n",
      "OpenCV: FFMPEG: fallback to use tag 0x7634706d/'mp4v'\n"
     ]
    },
    {
     "name": "stdout",
     "output_type": "stream",
     "text": [
      "Saved 15 frames to frames/id6_id9_0004\n",
      "Faces saved to faces/id6_id4_0005Faces saved to faces/id6_id9_0008\n",
      "\n",
      "Faces saved to faces/id3_id0_0001Face video saved to processed_videos/id6_id9_0008.mp4\n",
      "Face video saved to processed_videos/id6_id4_0005.mp4\n",
      "\n",
      "Face video saved to processed_videos/id3_id0_0001.mp4\n"
     ]
    },
    {
     "name": "stderr",
     "output_type": "stream",
     "text": [
      "OpenCV: FFMPEG: tag 0x5634504d/'MP4V' is not supported with codec id 12 and format 'mp4 / MP4 (MPEG-4 Part 14)'\n",
      "OpenCV: FFMPEG: fallback to use tag 0x7634706d/'mp4v'\n",
      "OpenCV: FFMPEG: tag 0x5634504d/'MP4V' is not supported with codec id 12 and format 'mp4 / MP4 (MPEG-4 Part 14)'\n",
      "OpenCV: FFMPEG: fallback to use tag 0x7634706d/'mp4v'\n",
      "OpenCV: FFMPEG: tag 0x5634504d/'MP4V' is not supported with codec id 12 and format 'mp4 / MP4 (MPEG-4 Part 14)'\n",
      "OpenCV: FFMPEG: fallback to use tag 0x7634706d/'mp4v'\n"
     ]
    },
    {
     "name": "stdout",
     "output_type": "stream",
     "text": [
      "Faces saved to faces/id4_id1_0000\n",
      "Saved 24 frames to frames/id7_id11_0004\n",
      "Face video saved to processed_videos/id4_id1_0000.mp4"
     ]
    },
    {
     "name": "stderr",
     "output_type": "stream",
     "text": [
      "OpenCV: FFMPEG: tag 0x5634504d/'MP4V' is not supported with codec id 12 and format 'mp4 / MP4 (MPEG-4 Part 14)'\n",
      "OpenCV: FFMPEG: fallback to use tag 0x7634706d/'mp4v'\n"
     ]
    },
    {
     "name": "stdout",
     "output_type": "stream",
     "text": [
      "Saved 10 frames to frames/id9_id17_0009\n",
      "\n",
      "Saved 12 frames to frames/id9_id17_0004\n",
      "Saved 12 frames to frames/id9_id2_0002\n",
      "Saved 13 frames to frames/id9_id1_0006Faces saved to faces/id3_id17_0002\n",
      "\n",
      "Face video saved to processed_videos/id3_id17_0002.mp4\n"
     ]
    },
    {
     "name": "stderr",
     "output_type": "stream",
     "text": [
      "OpenCV: FFMPEG: tag 0x5634504d/'MP4V' is not supported with codec id 12 and format 'mp4 / MP4 (MPEG-4 Part 14)'\n",
      "OpenCV: FFMPEG: fallback to use tag 0x7634706d/'mp4v'\n"
     ]
    },
    {
     "name": "stdout",
     "output_type": "stream",
     "text": [
      "Saved 17 frames to frames/id6_id17_0009\n",
      "Saved 9 frames to frames/id7_id10_0001\n",
      "Faces saved to faces/id2_id6_0001Saved 9 frames to frames/id6_id4_0006Saved 20 frames to frames/id6_id2_0002\n",
      "\n",
      "Faces saved to faces/id3_id1_0003\n",
      "\n",
      "Face video saved to processed_videos/id2_id6_0001.mp4\n",
      "Face video saved to processed_videos/id3_id1_0003.mp4\n"
     ]
    },
    {
     "name": "stderr",
     "output_type": "stream",
     "text": [
      "OpenCV: FFMPEG: tag 0x5634504d/'MP4V' is not supported with codec id 12 and format 'mp4 / MP4 (MPEG-4 Part 14)'\n",
      "OpenCV: FFMPEG: fallback to use tag 0x7634706d/'mp4v'\n",
      "OpenCV: FFMPEG: tag 0x5634504d/'MP4V' is not supported with codec id 12 and format 'mp4 / MP4 (MPEG-4 Part 14)'\n",
      "OpenCV: FFMPEG: fallback to use tag 0x7634706d/'mp4v'\n"
     ]
    },
    {
     "name": "stdout",
     "output_type": "stream",
     "text": [
      "Saved 12 frames to frames/id9_id3_0004Faces saved to faces/id2_id3_0008\n",
      "\n",
      "Saved 15 frames to frames/id9_id2_0008Face video saved to processed_videos/id2_id3_0008.mp4\n",
      "\n"
     ]
    },
    {
     "name": "stderr",
     "output_type": "stream",
     "text": [
      "OpenCV: FFMPEG: tag 0x5634504d/'MP4V' is not supported with codec id 12 and format 'mp4 / MP4 (MPEG-4 Part 14)'\n",
      "OpenCV: FFMPEG: fallback to use tag 0x7634706d/'mp4v'\n"
     ]
    },
    {
     "name": "stdout",
     "output_type": "stream",
     "text": [
      "Faces saved to faces/id8_id5_0007\n",
      "Face video saved to processed_videos/id8_id5_0007.mp4\n",
      "Faces saved to faces/id2_id9_0001\n",
      "Face video saved to processed_videos/id2_id9_0001.mp4\n",
      "Saved 12 frames to frames/id9_id4_0004\n"
     ]
    },
    {
     "name": "stderr",
     "output_type": "stream",
     "text": [
      "OpenCV: FFMPEG: tag 0x5634504d/'MP4V' is not supported with codec id 12 and format 'mp4 / MP4 (MPEG-4 Part 14)'\n",
      "OpenCV: FFMPEG: fallback to use tag 0x7634706d/'mp4v'\n",
      "OpenCV: FFMPEG: tag 0x5634504d/'MP4V' is not supported with codec id 12 and format 'mp4 / MP4 (MPEG-4 Part 14)'\n",
      "OpenCV: FFMPEG: fallback to use tag 0x7634706d/'mp4v'\n"
     ]
    },
    {
     "name": "stdout",
     "output_type": "stream",
     "text": [
      "Saved 10 frames to frames/id9_id4_0009\n",
      "Saved 17 frames to frames/id6_id0_0009\n",
      "Faces saved to faces/id6_id1_0009\n",
      "Face video saved to processed_videos/id6_id1_0009.mp4\n"
     ]
    },
    {
     "name": "stderr",
     "output_type": "stream",
     "text": [
      "OpenCV: FFMPEG: tag 0x5634504d/'MP4V' is not supported with codec id 12 and format 'mp4 / MP4 (MPEG-4 Part 14)'\n",
      "OpenCV: FFMPEG: fallback to use tag 0x7634706d/'mp4v'\n"
     ]
    },
    {
     "name": "stdout",
     "output_type": "stream",
     "text": [
      "Faces saved to faces/id4_id0_0002\n",
      "Face video saved to processed_videos/id4_id0_0002.mp4\n",
      "Faces saved to faces/id3_id9_0005\n",
      "Faces saved to faces/id7_id12_0007\n",
      "Face video saved to processed_videos/id3_id9_0005.mp4\n",
      "Face video saved to processed_videos/id7_id12_0007.mp4"
     ]
    },
    {
     "name": "stderr",
     "output_type": "stream",
     "text": [
      "OpenCV: FFMPEG: tag 0x5634504d/'MP4V' is not supported with codec id 12 and format 'mp4 / MP4 (MPEG-4 Part 14)'\n",
      "OpenCV: FFMPEG: fallback to use tag 0x7634706d/'mp4v'\n",
      "OpenCV: FFMPEG: tag 0x5634504d/'MP4V' is not supported with codec id 12 and format 'mp4 / MP4 (MPEG-4 Part 14)'\n",
      "OpenCV: FFMPEG: fallback to use tag 0x7634706d/'mp4v'\n",
      "OpenCV: FFMPEG: tag 0x5634504d/'MP4V' is not supported with codec id 12 and format 'mp4 / MP4 (MPEG-4 Part 14)'\n",
      "OpenCV: FFMPEG: fallback to use tag 0x7634706d/'mp4v'\n"
     ]
    },
    {
     "name": "stdout",
     "output_type": "stream",
     "text": [
      "\n",
      "Saved 15 frames to frames/id4_id0_0001\n",
      "Faces saved to faces/id3_id4_0005\n",
      "Face video saved to processed_videos/id3_id4_0005.mp4\n",
      "Saved 19 frames to frames/id8_id5_0008\n"
     ]
    },
    {
     "name": "stderr",
     "output_type": "stream",
     "text": [
      "OpenCV: FFMPEG: tag 0x5634504d/'MP4V' is not supported with codec id 12 and format 'mp4 / MP4 (MPEG-4 Part 14)'\n",
      "OpenCV: FFMPEG: fallback to use tag 0x7634706d/'mp4v'\n"
     ]
    },
    {
     "name": "stdout",
     "output_type": "stream",
     "text": [
      "Faces saved to faces/id3_id2_0003\n",
      "Face video saved to processed_videos/id3_id2_0003.mp4\n"
     ]
    },
    {
     "name": "stderr",
     "output_type": "stream",
     "text": [
      "OpenCV: FFMPEG: tag 0x5634504d/'MP4V' is not supported with codec id 12 and format 'mp4 / MP4 (MPEG-4 Part 14)'\n",
      "OpenCV: FFMPEG: fallback to use tag 0x7634706d/'mp4v'\n"
     ]
    },
    {
     "name": "stdout",
     "output_type": "stream",
     "text": [
      "Faces saved to faces/id6_id2_0001\n",
      "Face video saved to processed_videos/id6_id2_0001.mp4\n"
     ]
    },
    {
     "name": "stderr",
     "output_type": "stream",
     "text": [
      "OpenCV: FFMPEG: tag 0x5634504d/'MP4V' is not supported with codec id 12 and format 'mp4 / MP4 (MPEG-4 Part 14)'\n",
      "OpenCV: FFMPEG: fallback to use tag 0x7634706d/'mp4v'\n"
     ]
    },
    {
     "name": "stdout",
     "output_type": "stream",
     "text": [
      "Faces saved to faces/id7_id11_0009\n",
      "Face video saved to processed_videos/id7_id11_0009.mp4\n",
      "Saved 15 frames to frames/id7_id12_0009Faces saved to faces/id3_id9_0009\n",
      "Saved 14 frames to frames/id4_id0_0003\n",
      "\n",
      "Face video saved to processed_videos/id3_id9_0009.mp4"
     ]
    },
    {
     "name": "stderr",
     "output_type": "stream",
     "text": [
      "OpenCV: FFMPEG: tag 0x5634504d/'MP4V' is not supported with codec id 12 and format 'mp4 / MP4 (MPEG-4 Part 14)'\n",
      "OpenCV: FFMPEG: fallback to use tag 0x7634706d/'mp4v'\n",
      "OpenCV: FFMPEG: tag 0x5634504d/'MP4V' is not supported with codec id 12 and format 'mp4 / MP4 (MPEG-4 Part 14)'\n",
      "OpenCV: FFMPEG: fallback to use tag 0x7634706d/'mp4v'\n"
     ]
    },
    {
     "name": "stdout",
     "output_type": "stream",
     "text": [
      "\n",
      "Faces saved to faces/id3_id6_0003\n",
      "Face video saved to processed_videos/id3_id6_0003.mp4\n"
     ]
    },
    {
     "name": "stderr",
     "output_type": "stream",
     "text": [
      "OpenCV: FFMPEG: tag 0x5634504d/'MP4V' is not supported with codec id 12 and format 'mp4 / MP4 (MPEG-4 Part 14)'\n",
      "OpenCV: FFMPEG: fallback to use tag 0x7634706d/'mp4v'\n"
     ]
    },
    {
     "name": "stdout",
     "output_type": "stream",
     "text": [
      "Saved 14 frames to frames/id9_id4_0000\n",
      "Faces saved to faces/id4_id2_0005\n",
      "Face video saved to processed_videos/id4_id2_0005.mp4"
     ]
    },
    {
     "name": "stderr",
     "output_type": "stream",
     "text": [
      "OpenCV: FFMPEG: tag 0x5634504d/'MP4V' is not supported with codec id 12 and format 'mp4 / MP4 (MPEG-4 Part 14)'\n",
      "OpenCV: FFMPEG: fallback to use tag 0x7634706d/'mp4v'\n"
     ]
    },
    {
     "name": "stdout",
     "output_type": "stream",
     "text": [
      "\n",
      "Saved 9 frames to frames/id7_id12_0000\n",
      "Faces saved to faces/id3_id6_0001\n",
      "Face video saved to processed_videos/id3_id6_0001.mp4\n"
     ]
    },
    {
     "name": "stderr",
     "output_type": "stream",
     "text": [
      "OpenCV: FFMPEG: tag 0x5634504d/'MP4V' is not supported with codec id 12 and format 'mp4 / MP4 (MPEG-4 Part 14)'\n",
      "OpenCV: FFMPEG: fallback to use tag 0x7634706d/'mp4v'\n"
     ]
    },
    {
     "name": "stdout",
     "output_type": "stream",
     "text": [
      "Faces saved to faces/id9_id6_0000\n",
      "Face video saved to processed_videos/id9_id6_0000.mp4\n"
     ]
    },
    {
     "name": "stderr",
     "output_type": "stream",
     "text": [
      "OpenCV: FFMPEG: tag 0x5634504d/'MP4V' is not supported with codec id 12 and format 'mp4 / MP4 (MPEG-4 Part 14)'\n",
      "OpenCV: FFMPEG: fallback to use tag 0x7634706d/'mp4v'\n"
     ]
    },
    {
     "name": "stdout",
     "output_type": "stream",
     "text": [
      "Faces saved to faces/id3_id6_0009\n",
      "Saved 13 frames to frames/id9_id6_0006\n",
      "Face video saved to processed_videos/id3_id6_0009.mp4\n"
     ]
    },
    {
     "name": "stderr",
     "output_type": "stream",
     "text": [
      "OpenCV: FFMPEG: tag 0x5634504d/'MP4V' is not supported with codec id 12 and format 'mp4 / MP4 (MPEG-4 Part 14)'\n",
      "OpenCV: FFMPEG: fallback to use tag 0x7634706d/'mp4v'\n"
     ]
    },
    {
     "name": "stdout",
     "output_type": "stream",
     "text": [
      "Saved 17 frames to frames/id6_id3_0009\n",
      "Saved 15 frames to frames/id4_id0_0000\n",
      "Saved 13 frames to frames/id3_id6_0006\n",
      "Saved 15 frames to frames/id6_id2_0004\n",
      "Saved 15 frames to frames/id3_id9_0000\n",
      "Faces saved to faces/id6_id2_0000\n",
      "Face video saved to processed_videos/id6_id2_0000.mp4\n"
     ]
    },
    {
     "name": "stderr",
     "output_type": "stream",
     "text": [
      "OpenCV: FFMPEG: tag 0x5634504d/'MP4V' is not supported with codec id 12 and format 'mp4 / MP4 (MPEG-4 Part 14)'\n",
      "OpenCV: FFMPEG: fallback to use tag 0x7634706d/'mp4v'\n"
     ]
    },
    {
     "name": "stdout",
     "output_type": "stream",
     "text": [
      "Faces saved to faces/id9_id0_0009\n",
      "Face video saved to processed_videos/id9_id0_0009.mp4\n"
     ]
    },
    {
     "name": "stderr",
     "output_type": "stream",
     "text": [
      "OpenCV: FFMPEG: tag 0x5634504d/'MP4V' is not supported with codec id 12 and format 'mp4 / MP4 (MPEG-4 Part 14)'\n",
      "OpenCV: FFMPEG: fallback to use tag 0x7634706d/'mp4v'\n"
     ]
    },
    {
     "name": "stdout",
     "output_type": "stream",
     "text": [
      "Saved 12 frames to frames/id6_id3_0008\n",
      "Faces saved to faces/id9_id0_0005\n",
      "Face video saved to processed_videos/id9_id0_0005.mp4\n"
     ]
    },
    {
     "name": "stderr",
     "output_type": "stream",
     "text": [
      "OpenCV: FFMPEG: tag 0x5634504d/'MP4V' is not supported with codec id 12 and format 'mp4 / MP4 (MPEG-4 Part 14)'\n",
      "OpenCV: FFMPEG: fallback to use tag 0x7634706d/'mp4v'\n"
     ]
    },
    {
     "name": "stdout",
     "output_type": "stream",
     "text": [
      "Saved 14 frames to frames/id9_id16_0000\n",
      "Faces saved to faces/id4_id6_0002\n",
      "Face video saved to processed_videos/id4_id6_0002.mp4\n",
      "Faces saved to faces/id7_id10_0007\n"
     ]
    },
    {
     "name": "stderr",
     "output_type": "stream",
     "text": [
      "OpenCV: FFMPEG: tag 0x5634504d/'MP4V' is not supported with codec id 12 and format 'mp4 / MP4 (MPEG-4 Part 14)'\n",
      "OpenCV: FFMPEG: fallback to use tag 0x7634706d/'mp4v'\n",
      "OpenCV: FFMPEG: tag 0x5634504d/'MP4V' is not supported with codec id 12 and format 'mp4 / MP4 (MPEG-4 Part 14)'\n",
      "OpenCV: FFMPEG: fallback to use tag 0x7634706d/'mp4v'\n"
     ]
    },
    {
     "name": "stdout",
     "output_type": "stream",
     "text": [
      "Face video saved to processed_videos/id7_id10_0007.mp4\n",
      "Faces saved to faces/id4_id6_0009\n",
      "Face video saved to processed_videos/id4_id6_0009.mp4\n"
     ]
    },
    {
     "name": "stderr",
     "output_type": "stream",
     "text": [
      "OpenCV: FFMPEG: tag 0x5634504d/'MP4V' is not supported with codec id 12 and format 'mp4 / MP4 (MPEG-4 Part 14)'\n",
      "OpenCV: FFMPEG: fallback to use tag 0x7634706d/'mp4v'\n"
     ]
    },
    {
     "name": "stdout",
     "output_type": "stream",
     "text": [
      "Faces saved to faces/id6_id0_0007\n",
      "Face video saved to processed_videos/id6_id0_0007.mp4\n"
     ]
    },
    {
     "name": "stderr",
     "output_type": "stream",
     "text": [
      "OpenCV: FFMPEG: tag 0x5634504d/'MP4V' is not supported with codec id 12 and format 'mp4 / MP4 (MPEG-4 Part 14)'\n",
      "OpenCV: FFMPEG: fallback to use tag 0x7634706d/'mp4v'\n"
     ]
    },
    {
     "name": "stdout",
     "output_type": "stream",
     "text": [
      "Faces saved to faces/id8_id6_0008\n",
      "Face video saved to processed_videos/id8_id6_0008.mp4Faces saved to faces/id4_id9_0008\n",
      "Faces saved to faces/id6_id3_0004\n",
      "\n",
      "Face video saved to processed_videos/id4_id9_0008.mp4\n",
      "Face video saved to processed_videos/id6_id3_0004.mp4\n"
     ]
    },
    {
     "name": "stderr",
     "output_type": "stream",
     "text": [
      "OpenCV: FFMPEG: tag 0x5634504d/'MP4V' is not supported with codec id 12 and format 'mp4 / MP4 (MPEG-4 Part 14)'\n",
      "OpenCV: FFMPEG: fallback to use tag 0x7634706d/'mp4v'\n",
      "OpenCV: FFMPEG: tag 0x5634504d/'MP4V' is not supported with codec id 12 and format 'mp4 / MP4 (MPEG-4 Part 14)'\n",
      "OpenCV: FFMPEG: fallback to use tag 0x7634706d/'mp4v'\n",
      "OpenCV: FFMPEG: tag 0x5634504d/'MP4V' is not supported with codec id 12 and format 'mp4 / MP4 (MPEG-4 Part 14)'\n",
      "OpenCV: FFMPEG: fallback to use tag 0x7634706d/'mp4v'\n"
     ]
    },
    {
     "name": "stdout",
     "output_type": "stream",
     "text": [
      "Saved 13 frames to frames/id9_id0_0006\n",
      "Faces saved to faces/id6_id2_0009\n",
      "Faces saved to faces/id9_id1_0008\n",
      "Face video saved to processed_videos/id6_id2_0009.mp4Face video saved to processed_videos/id9_id1_0008.mp4\n",
      "\n"
     ]
    },
    {
     "name": "stderr",
     "output_type": "stream",
     "text": [
      "OpenCV: FFMPEG: tag 0x5634504d/'MP4V' is not supported with codec id 12 and format 'mp4 / MP4 (MPEG-4 Part 14)'\n",
      "OpenCV: FFMPEG: fallback to use tag 0x7634706d/'mp4v'\n",
      "OpenCV: FFMPEG: tag 0x5634504d/'MP4V' is not supported with codec id 12 and format 'mp4 / MP4 (MPEG-4 Part 14)'\n",
      "OpenCV: FFMPEG: fallback to use tag 0x7634706d/'mp4v'\n"
     ]
    },
    {
     "name": "stdout",
     "output_type": "stream",
     "text": [
      "Faces saved to faces/id9_id16_0009\n",
      "Face video saved to processed_videos/id9_id16_0009.mp4\n"
     ]
    },
    {
     "name": "stderr",
     "output_type": "stream",
     "text": [
      "OpenCV: FFMPEG: tag 0x5634504d/'MP4V' is not supported with codec id 12 and format 'mp4 / MP4 (MPEG-4 Part 14)'\n",
      "OpenCV: FFMPEG: fallback to use tag 0x7634706d/'mp4v'\n"
     ]
    },
    {
     "name": "stdout",
     "output_type": "stream",
     "text": [
      "Saved 14 frames to frames/id4_id6_0003\n",
      "Saved 15 frames to frames/id7_id10_0009\n",
      "Saved 9 frames to frames/id6_id9_0006Faces saved to faces/id6_id0_0005\n",
      "\n",
      "Face video saved to processed_videos/id6_id0_0005.mp4\n"
     ]
    },
    {
     "name": "stderr",
     "output_type": "stream",
     "text": [
      "OpenCV: FFMPEG: tag 0x5634504d/'MP4V' is not supported with codec id 12 and format 'mp4 / MP4 (MPEG-4 Part 14)'\n",
      "OpenCV: FFMPEG: fallback to use tag 0x7634706d/'mp4v'\n"
     ]
    },
    {
     "name": "stdout",
     "output_type": "stream",
     "text": [
      "Faces saved to faces/id6_id3_0000Faces saved to faces/id8_id6_0003\n",
      "Faces saved to faces/id7_id10_0001\n",
      "Face video saved to processed_videos/id8_id6_0003.mp4Saved 12 frames to frames/id8_id7_0007\n",
      "\n",
      "\n",
      "Face video saved to processed_videos/id6_id3_0000.mp4Face video saved to processed_videos/id7_id10_0001.mp4\n",
      "\n"
     ]
    },
    {
     "name": "stderr",
     "output_type": "stream",
     "text": [
      "OpenCV: FFMPEG: tag 0x5634504d/'MP4V' is not supported with codec id 12 and format 'mp4 / MP4 (MPEG-4 Part 14)'\n",
      "OpenCV: FFMPEG: fallback to use tag 0x7634706d/'mp4v'\n",
      "OpenCV: FFMPEG: tag 0x5634504d/'MP4V' is not supported with codec id 12 and format 'mp4 / MP4 (MPEG-4 Part 14)'\n",
      "OpenCV: FFMPEG: fallback to use tag 0x7634706d/'mp4v'\n",
      "OpenCV: FFMPEG: tag 0x5634504d/'MP4V' is not supported with codec id 12 and format 'mp4 / MP4 (MPEG-4 Part 14)'\n",
      "OpenCV: FFMPEG: fallback to use tag 0x7634706d/'mp4v'\n"
     ]
    },
    {
     "name": "stdout",
     "output_type": "stream",
     "text": [
      "Saved 10 frames to frames/id6_id3_0001\n",
      "Saved 13 frames to frames/id8_id3_0003\n",
      "Faces saved to faces/id8_id3_0008\n",
      "Face video saved to processed_videos/id8_id3_0008.mp4\n"
     ]
    },
    {
     "name": "stderr",
     "output_type": "stream",
     "text": [
      "OpenCV: FFMPEG: tag 0x5634504d/'MP4V' is not supported with codec id 12 and format 'mp4 / MP4 (MPEG-4 Part 14)'\n",
      "OpenCV: FFMPEG: fallback to use tag 0x7634706d/'mp4v'\n"
     ]
    },
    {
     "name": "stdout",
     "output_type": "stream",
     "text": [
      "Faces saved to faces/id6_id4_0006\n",
      "Face video saved to processed_videos/id6_id4_0006.mp4Faces saved to faces/id4_id1_0003\n",
      "\n"
     ]
    },
    {
     "name": "stderr",
     "output_type": "stream",
     "text": [
      "OpenCV: FFMPEG: tag 0x5634504d/'MP4V' is not supported with codec id 12 and format 'mp4 / MP4 (MPEG-4 Part 14)'\n",
      "OpenCV: FFMPEG: fallback to use tag 0x7634706d/'mp4v'\n",
      "OpenCV: FFMPEG: tag 0x5634504d/'MP4V' is not supported with codec id 12 and format 'mp4 / MP4 (MPEG-4 Part 14)'\n",
      "OpenCV: FFMPEG: fallback to use tag 0x7634706d/'mp4v'\n"
     ]
    },
    {
     "name": "stdout",
     "output_type": "stream",
     "text": [
      "Face video saved to processed_videos/id4_id1_0003.mp4\n",
      "Faces saved to faces/id9_id17_0009\n",
      "Face video saved to processed_videos/id9_id17_0009.mp4\n",
      "Saved 17 frames to frames/id8_id7_0002"
     ]
    },
    {
     "name": "stderr",
     "output_type": "stream",
     "text": [
      "OpenCV: FFMPEG: tag 0x5634504d/'MP4V' is not supported with codec id 12 and format 'mp4 / MP4 (MPEG-4 Part 14)'\n",
      "OpenCV: FFMPEG: fallback to use tag 0x7634706d/'mp4v'\n"
     ]
    },
    {
     "name": "stdout",
     "output_type": "stream",
     "text": [
      "Faces saved to faces/id9_id16_0004\n",
      "\n",
      "Face video saved to processed_videos/id9_id16_0004.mp4Saved 19 frames to frames/id8_id1_0008Faces saved to faces/id8_id0_0007\n",
      "\n",
      "\n",
      "Face video saved to processed_videos/id8_id0_0007.mp4\n"
     ]
    },
    {
     "name": "stderr",
     "output_type": "stream",
     "text": [
      "OpenCV: FFMPEG: tag 0x5634504d/'MP4V' is not supported with codec id 12 and format 'mp4 / MP4 (MPEG-4 Part 14)'\n",
      "OpenCV: FFMPEG: fallback to use tag 0x7634706d/'mp4v'\n",
      "OpenCV: FFMPEG: tag 0x5634504d/'MP4V' is not supported with codec id 12 and format 'mp4 / MP4 (MPEG-4 Part 14)'\n",
      "OpenCV: FFMPEG: fallback to use tag 0x7634706d/'mp4v'\n"
     ]
    },
    {
     "name": "stdout",
     "output_type": "stream",
     "text": [
      "Faces saved to faces/id4_id3_0007\n",
      "Saved 14 frames to frames/id9_id0_0001\n",
      "Face video saved to processed_videos/id4_id3_0007.mp4\n"
     ]
    },
    {
     "name": "stderr",
     "output_type": "stream",
     "text": [
      "OpenCV: FFMPEG: tag 0x5634504d/'MP4V' is not supported with codec id 12 and format 'mp4 / MP4 (MPEG-4 Part 14)'\n",
      "OpenCV: FFMPEG: fallback to use tag 0x7634706d/'mp4v'\n"
     ]
    },
    {
     "name": "stdout",
     "output_type": "stream",
     "text": [
      "Saved 14 frames to frames/id9_id17_0000\n",
      "Saved 9 frames to frames/id7_id10_0002\n",
      "Saved 10 frames to frames/id4_id6_0006\n",
      "Saved 12 frames to frames/id8_id3_0007\n",
      "Faces saved to faces/id6_id0_0008\n",
      "Face video saved to processed_videos/id6_id0_0008.mp4\n"
     ]
    },
    {
     "name": "stderr",
     "output_type": "stream",
     "text": [
      "OpenCV: FFMPEG: tag 0x5634504d/'MP4V' is not supported with codec id 12 and format 'mp4 / MP4 (MPEG-4 Part 14)'\n",
      "OpenCV: FFMPEG: fallback to use tag 0x7634706d/'mp4v'\n"
     ]
    },
    {
     "name": "stdout",
     "output_type": "stream",
     "text": [
      "Saved 14 frames to frames/id4_id2_0007\n",
      "Saved 21 frames to frames/id6_id16_0000\n",
      "Saved 9 frames to frames/id6_id3_0006\n",
      "Faces saved to faces/id9_id4_0009\n",
      "Saved 15 frames to frames/id4_id0_0005\n",
      "Face video saved to processed_videos/id9_id4_0009.mp4\n",
      "Faces saved to faces/id9_id17_0004\n"
     ]
    },
    {
     "name": "stderr",
     "output_type": "stream",
     "text": [
      "OpenCV: FFMPEG: tag 0x5634504d/'MP4V' is not supported with codec id 12 and format 'mp4 / MP4 (MPEG-4 Part 14)'\n",
      "OpenCV: FFMPEG: fallback to use tag 0x7634706d/'mp4v'\n",
      "OpenCV: FFMPEG: tag 0x5634504d/'MP4V' is not supported with codec id 12 and format 'mp4 / MP4 (MPEG-4 Part 14)'\n",
      "OpenCV: FFMPEG: fallback to use tag 0x7634706d/'mp4v'\n"
     ]
    },
    {
     "name": "stdout",
     "output_type": "stream",
     "text": [
      "Face video saved to processed_videos/id9_id17_0004.mp4\n",
      "Saved 14 frames to frames/id9_id16_0005Saved 14 frames to frames/id9_id1_0001\n",
      "\n",
      "Saved 18 frames to frames/id6_id4_0007\n",
      "Faces saved to faces/id6_id3_0002\n",
      "Face video saved to processed_videos/id6_id3_0002.mp4\n"
     ]
    },
    {
     "name": "stderr",
     "output_type": "stream",
     "text": [
      "OpenCV: FFMPEG: tag 0x5634504d/'MP4V' is not supported with codec id 12 and format 'mp4 / MP4 (MPEG-4 Part 14)'\n",
      "OpenCV: FFMPEG: fallback to use tag 0x7634706d/'mp4v'\n"
     ]
    },
    {
     "name": "stdout",
     "output_type": "stream",
     "text": [
      "Faces saved to faces/id9_id2_0002\n",
      "Saved 20 frames to frames/id6_id1_0002\n",
      "Face video saved to processed_videos/id9_id2_0002.mp4\n"
     ]
    },
    {
     "name": "stderr",
     "output_type": "stream",
     "text": [
      "OpenCV: FFMPEG: tag 0x5634504d/'MP4V' is not supported with codec id 12 and format 'mp4 / MP4 (MPEG-4 Part 14)'\n",
      "OpenCV: FFMPEG: fallback to use tag 0x7634706d/'mp4v'\n"
     ]
    },
    {
     "name": "stdout",
     "output_type": "stream",
     "text": [
      "Faces saved to faces/id6_id17_0004\n",
      "Faces saved to faces/id6_id16_0004Faces saved to faces/id9_id3_0004\n",
      "Face video saved to processed_videos/id6_id17_0004.mp4\n",
      "\n",
      "Saved 14 frames to frames/id9_id17_0005\n",
      "Face video saved to processed_videos/id9_id3_0004.mp4\n",
      "Face video saved to processed_videos/id6_id16_0004.mp4\n",
      "Saved 15 frames to frames/id9_id6_0008"
     ]
    },
    {
     "name": "stderr",
     "output_type": "stream",
     "text": [
      "OpenCV: FFMPEG: tag 0x5634504d/'MP4V' is not supported with codec id 12 and format 'mp4 / MP4 (MPEG-4 Part 14)'\n",
      "OpenCV: FFMPEG: fallback to use tag 0x7634706d/'mp4v'\n",
      "OpenCV: FFMPEG: tag 0x5634504d/'MP4V' is not supported with codec id 12 and format 'mp4 / MP4 (MPEG-4 Part 14)'\n",
      "OpenCV: FFMPEG: fallback to use tag 0x7634706d/'mp4v'\n",
      "OpenCV: FFMPEG: tag 0x5634504d/'MP4V' is not supported with codec id 12 and format 'mp4 / MP4 (MPEG-4 Part 14)'\n",
      "OpenCV: FFMPEG: fallback to use tag 0x7634706d/'mp4v'\n"
     ]
    },
    {
     "name": "stdout",
     "output_type": "stream",
     "text": [
      "\n",
      "Saved 21 frames to frames/id6_id1_0000\n",
      "Saved 12 frames to frames/id9_id2_0004\n",
      "Faces saved to faces/id9_id1_0006\n",
      "Face video saved to processed_videos/id9_id1_0006.mp4\n"
     ]
    },
    {
     "name": "stderr",
     "output_type": "stream",
     "text": [
      "OpenCV: FFMPEG: tag 0x5634504d/'MP4V' is not supported with codec id 12 and format 'mp4 / MP4 (MPEG-4 Part 14)'\n",
      "OpenCV: FFMPEG: fallback to use tag 0x7634706d/'mp4v'\n"
     ]
    },
    {
     "name": "stdout",
     "output_type": "stream",
     "text": [
      "Saved 14 frames to frames/id4_id3_0004Faces saved to faces/id4_id1_0005\n",
      "\n",
      "Faces saved to faces/id9_id4_0004\n",
      "Face video saved to processed_videos/id4_id1_0005.mp4\n",
      "Face video saved to processed_videos/id9_id4_0004.mp4\n"
     ]
    },
    {
     "name": "stderr",
     "output_type": "stream",
     "text": [
      "OpenCV: FFMPEG: tag 0x5634504d/'MP4V' is not supported with codec id 12 and format 'mp4 / MP4 (MPEG-4 Part 14)'\n",
      "OpenCV: FFMPEG: fallback to use tag 0x7634706d/'mp4v'\n",
      "OpenCV: FFMPEG: tag 0x5634504d/'MP4V' is not supported with codec id 12 and format 'mp4 / MP4 (MPEG-4 Part 14)'\n",
      "OpenCV: FFMPEG: fallback to use tag 0x7634706d/'mp4v'\n"
     ]
    },
    {
     "name": "stdout",
     "output_type": "stream",
     "text": [
      "Faces saved to faces/id6_id9_0004\n",
      "Face video saved to processed_videos/id6_id9_0004.mp4\n",
      "Faces saved to faces/id3_id9_0000\n",
      "Face video saved to processed_videos/id3_id9_0000.mp4\n"
     ]
    },
    {
     "name": "stderr",
     "output_type": "stream",
     "text": [
      "OpenCV: FFMPEG: tag 0x5634504d/'MP4V' is not supported with codec id 12 and format 'mp4 / MP4 (MPEG-4 Part 14)'\n",
      "OpenCV: FFMPEG: fallback to use tag 0x7634706d/'mp4v'\n",
      "OpenCV: FFMPEG: tag 0x5634504d/'MP4V' is not supported with codec id 12 and format 'mp4 / MP4 (MPEG-4 Part 14)'\n",
      "OpenCV: FFMPEG: fallback to use tag 0x7634706d/'mp4v'\n"
     ]
    },
    {
     "name": "stdout",
     "output_type": "stream",
     "text": [
      "Saved 12 frames to frames/id6_id16_0005\n",
      "Saved 12 frames to frames/id6_id17_0005\n",
      "Saved 14 frames to frames/id9_id3_0005\n",
      "Faces saved to faces/id3_id6_0006\n",
      "Face video saved to processed_videos/id3_id6_0006.mp4\n",
      "Faces saved to faces/id7_id13_0004\n"
     ]
    },
    {
     "name": "stderr",
     "output_type": "stream",
     "text": [
      "OpenCV: FFMPEG: tag 0x5634504d/'MP4V' is not supported with codec id 12 and format 'mp4 / MP4 (MPEG-4 Part 14)'\n",
      "OpenCV: FFMPEG: fallback to use tag 0x7634706d/'mp4v'\n",
      "OpenCV: FFMPEG: tag 0x5634504d/'MP4V' is not supported with codec id 12 and format 'mp4 / MP4 (MPEG-4 Part 14)'\n",
      "OpenCV: FFMPEG: fallback to use tag 0x7634706d/'mp4v'\n"
     ]
    },
    {
     "name": "stdout",
     "output_type": "stream",
     "text": [
      "Face video saved to processed_videos/id7_id13_0004.mp4\n",
      "Faces saved to faces/id7_id12_0000\n",
      "Face video saved to processed_videos/id7_id12_0000.mp4\n"
     ]
    },
    {
     "name": "stderr",
     "output_type": "stream",
     "text": [
      "OpenCV: FFMPEG: tag 0x5634504d/'MP4V' is not supported with codec id 12 and format 'mp4 / MP4 (MPEG-4 Part 14)'\n",
      "OpenCV: FFMPEG: fallback to use tag 0x7634706d/'mp4v'\n"
     ]
    },
    {
     "name": "stdout",
     "output_type": "stream",
     "text": [
      "Saved 14 frames to frames/id9_id4_0005\n",
      "Saved 14 frames to frames/id9_id2_0000\n",
      "Saved 15 frames to frames/id6_id1_0004\n",
      "Saved 5 frames to frames/id7_id13_0005\n",
      "Saved 13 frames to frames/id8_id9_0003\n",
      "Saved 9 frames to frames/id7_id12_0002\n",
      "Faces saved to faces/id8_id0_0008\n",
      "Face video saved to processed_videos/id8_id0_0008.mp4\n"
     ]
    },
    {
     "name": "stderr",
     "output_type": "stream",
     "text": [
      "OpenCV: FFMPEG: tag 0x5634504d/'MP4V' is not supported with codec id 12 and format 'mp4 / MP4 (MPEG-4 Part 14)'\n",
      "OpenCV: FFMPEG: fallback to use tag 0x7634706d/'mp4v'\n"
     ]
    },
    {
     "name": "stdout",
     "output_type": "stream",
     "text": [
      "Faces saved to faces/id6_id16_0009\n",
      "Face video saved to processed_videos/id6_id16_0009.mp4\n"
     ]
    },
    {
     "name": "stderr",
     "output_type": "stream",
     "text": [
      "OpenCV: FFMPEG: tag 0x5634504d/'MP4V' is not supported with codec id 12 and format 'mp4 / MP4 (MPEG-4 Part 14)'\n",
      "OpenCV: FFMPEG: fallback to use tag 0x7634706d/'mp4v'\n"
     ]
    },
    {
     "name": "stdout",
     "output_type": "stream",
     "text": [
      "Faces saved to faces/id9_id2_0008\n",
      "Face video saved to processed_videos/id9_id2_0008.mp4\n"
     ]
    },
    {
     "name": "stderr",
     "output_type": "stream",
     "text": [
      "OpenCV: FFMPEG: tag 0x5634504d/'MP4V' is not supported with codec id 12 and format 'mp4 / MP4 (MPEG-4 Part 14)'\n",
      "OpenCV: FFMPEG: fallback to use tag 0x7634706d/'mp4v'\n"
     ]
    },
    {
     "name": "stdout",
     "output_type": "stream",
     "text": [
      "Saved 14 frames to frames/id4_id1_0007\n",
      "Faces saved to faces/id6_id17_0009\n",
      "Face video saved to processed_videos/id6_id17_0009.mp4\n"
     ]
    },
    {
     "name": "stderr",
     "output_type": "stream",
     "text": [
      "OpenCV: FFMPEG: tag 0x5634504d/'MP4V' is not supported with codec id 12 and format 'mp4 / MP4 (MPEG-4 Part 14)'\n",
      "OpenCV: FFMPEG: fallback to use tag 0x7634706d/'mp4v'\n"
     ]
    },
    {
     "name": "stdout",
     "output_type": "stream",
     "text": [
      "Faces saved to faces/id6_id9_0002\n",
      "Face video saved to processed_videos/id6_id9_0002.mp4\n"
     ]
    },
    {
     "name": "stderr",
     "output_type": "stream",
     "text": [
      "OpenCV: FFMPEG: tag 0x5634504d/'MP4V' is not supported with codec id 12 and format 'mp4 / MP4 (MPEG-4 Part 14)'\n",
      "OpenCV: FFMPEG: fallback to use tag 0x7634706d/'mp4v'\n"
     ]
    },
    {
     "name": "stdout",
     "output_type": "stream",
     "text": [
      "Saved 14 frames to frames/id9_id3_0000\n",
      "Saved 21 frames to frames/id6_id17_0000\n",
      "Faces saved to faces/id4_id0_0001\n",
      "Face video saved to processed_videos/id4_id0_0001.mp4\n",
      "Faces saved to faces/id6_id9_0000\n",
      "Face video saved to processed_videos/id6_id9_0000.mp4\n"
     ]
    },
    {
     "name": "stderr",
     "output_type": "stream",
     "text": [
      "OpenCV: FFMPEG: tag 0x5634504d/'MP4V' is not supported with codec id 12 and format 'mp4 / MP4 (MPEG-4 Part 14)'\n",
      "OpenCV: FFMPEG: fallback to use tag 0x7634706d/'mp4v'\n",
      "OpenCV: FFMPEG: tag 0x5634504d/'MP4V' is not supported with codec id 12 and format 'mp4 / MP4 (MPEG-4 Part 14)'\n",
      "OpenCV: FFMPEG: fallback to use tag 0x7634706d/'mp4v'\n"
     ]
    },
    {
     "name": "stdout",
     "output_type": "stream",
     "text": [
      "Faces saved to faces/id6_id0_0009\n",
      "Face video saved to processed_videos/id6_id0_0009.mp4\n"
     ]
    },
    {
     "name": "stderr",
     "output_type": "stream",
     "text": [
      "OpenCV: FFMPEG: tag 0x5634504d/'MP4V' is not supported with codec id 12 and format 'mp4 / MP4 (MPEG-4 Part 14)'\n",
      "OpenCV: FFMPEG: fallback to use tag 0x7634706d/'mp4v'\n"
     ]
    },
    {
     "name": "stdout",
     "output_type": "stream",
     "text": [
      "Saved 17 frames to frames/id8_id0_0002\n",
      "Saved 14 frames to frames/id4_id9_0004\n",
      "Faces saved to faces/id4_id0_0003\n",
      "Face video saved to processed_videos/id4_id0_0003.mp4\n",
      "Faces saved to faces/id9_id4_0000\n",
      "Face video saved to processed_videos/id9_id4_0000.mp4\n"
     ]
    },
    {
     "name": "stderr",
     "output_type": "stream",
     "text": [
      "OpenCV: FFMPEG: tag 0x5634504d/'MP4V' is not supported with codec id 12 and format 'mp4 / MP4 (MPEG-4 Part 14)'\n",
      "OpenCV: FFMPEG: fallback to use tag 0x7634706d/'mp4v'\n",
      "OpenCV: FFMPEG: tag 0x5634504d/'MP4V' is not supported with codec id 12 and format 'mp4 / MP4 (MPEG-4 Part 14)'\n",
      "OpenCV: FFMPEG: fallback to use tag 0x7634706d/'mp4v'\n"
     ]
    },
    {
     "name": "stdout",
     "output_type": "stream",
     "text": [
      "Faces saved to faces/id6_id9_0006\n",
      "Face video saved to processed_videos/id6_id9_0006.mp4\n"
     ]
    },
    {
     "name": "stderr",
     "output_type": "stream",
     "text": [
      "OpenCV: FFMPEG: tag 0x5634504d/'MP4V' is not supported with codec id 12 and format 'mp4 / MP4 (MPEG-4 Part 14)'\n",
      "OpenCV: FFMPEG: fallback to use tag 0x7634706d/'mp4v'\n"
     ]
    },
    {
     "name": "stdout",
     "output_type": "stream",
     "text": [
      "Faces saved to faces/id9_id6_0006\n",
      "Face video saved to processed_videos/id9_id6_0006.mp4\n"
     ]
    },
    {
     "name": "stderr",
     "output_type": "stream",
     "text": [
      "OpenCV: FFMPEG: tag 0x5634504d/'MP4V' is not supported with codec id 12 and format 'mp4 / MP4 (MPEG-4 Part 14)'\n",
      "OpenCV: FFMPEG: fallback to use tag 0x7634706d/'mp4v'\n"
     ]
    },
    {
     "name": "stdout",
     "output_type": "stream",
     "text": [
      "Saved 12 frames to frames/id8_id9_0007\n",
      "Saved 10 frames to frames/id6_id1_0001Saved 16 frames to frames/id4_id1_0009\n",
      "\n",
      "Faces saved to faces/id6_id3_0008\n",
      "Face video saved to processed_videos/id6_id3_0008.mp4\n",
      "Faces saved to faces/id7_id10_0002"
     ]
    },
    {
     "name": "stderr",
     "output_type": "stream",
     "text": [
      "OpenCV: FFMPEG: tag 0x5634504d/'MP4V' is not supported with codec id 12 and format 'mp4 / MP4 (MPEG-4 Part 14)'\n",
      "OpenCV: FFMPEG: fallback to use tag 0x7634706d/'mp4v'\n"
     ]
    },
    {
     "name": "stdout",
     "output_type": "stream",
     "text": [
      "\n",
      "Face video saved to processed_videos/id7_id10_0002.mp4\n",
      "Faces saved to faces/id7_id12_0009\n"
     ]
    },
    {
     "name": "stderr",
     "output_type": "stream",
     "text": [
      "OpenCV: FFMPEG: tag 0x5634504d/'MP4V' is not supported with codec id 12 and format 'mp4 / MP4 (MPEG-4 Part 14)'\n",
      "OpenCV: FFMPEG: fallback to use tag 0x7634706d/'mp4v'\n",
      "OpenCV: FFMPEG: tag 0x5634504d/'MP4V' is not supported with codec id 12 and format 'mp4 / MP4 (MPEG-4 Part 14)'\n",
      "OpenCV: FFMPEG: fallback to use tag 0x7634706d/'mp4v'\n"
     ]
    },
    {
     "name": "stdout",
     "output_type": "stream",
     "text": [
      "Face video saved to processed_videos/id7_id12_0009.mp4\n",
      "Faces saved to faces/id6_id2_0002\n",
      "Face video saved to processed_videos/id6_id2_0002.mp4\n"
     ]
    },
    {
     "name": "stderr",
     "output_type": "stream",
     "text": [
      "OpenCV: FFMPEG: tag 0x5634504d/'MP4V' is not supported with codec id 12 and format 'mp4 / MP4 (MPEG-4 Part 14)'\n",
      "OpenCV: FFMPEG: fallback to use tag 0x7634706d/'mp4v'\n"
     ]
    },
    {
     "name": "stdout",
     "output_type": "stream",
     "text": [
      "Saved 17 frames to frames/id6_id9_0009\n",
      "Saved 9 frames to frames/id7_id13_0000\n",
      "Saved 12 frames to frames/id8_id2_0007\n",
      "Faces saved to faces/id6_id3_0006\n",
      "Face video saved to processed_videos/id6_id3_0006.mp4\n",
      "Faces saved to faces/id6_id3_0001\n",
      "Face video saved to processed_videos/id6_id3_0001.mp4\n"
     ]
    },
    {
     "name": "stderr",
     "output_type": "stream",
     "text": [
      "OpenCV: FFMPEG: tag 0x5634504d/'MP4V' is not supported with codec id 12 and format 'mp4 / MP4 (MPEG-4 Part 14)'\n",
      "OpenCV: FFMPEG: fallback to use tag 0x7634706d/'mp4v'\n",
      "OpenCV: FFMPEG: tag 0x5634504d/'MP4V' is not supported with codec id 12 and format 'mp4 / MP4 (MPEG-4 Part 14)'\n",
      "OpenCV: FFMPEG: fallback to use tag 0x7634706d/'mp4v'\n"
     ]
    },
    {
     "name": "stdout",
     "output_type": "stream",
     "text": [
      "Faces saved to faces/id8_id5_0008\n",
      "Face video saved to processed_videos/id8_id5_0008.mp4\n",
      "Faces saved to faces/id7_id13_0005\n",
      "Saved 18 frames to frames/id7_id10_0003\n",
      "Face video saved to processed_videos/id7_id13_0005.mp4\n"
     ]
    },
    {
     "name": "stderr",
     "output_type": "stream",
     "text": [
      "OpenCV: FFMPEG: tag 0x5634504d/'MP4V' is not supported with codec id 12 and format 'mp4 / MP4 (MPEG-4 Part 14)'\n",
      "OpenCV: FFMPEG: fallback to use tag 0x7634706d/'mp4v'\n",
      "OpenCV: FFMPEG: tag 0x5634504d/'MP4V' is not supported with codec id 12 and format 'mp4 / MP4 (MPEG-4 Part 14)'\n",
      "OpenCV: FFMPEG: fallback to use tag 0x7634706d/'mp4v'\n"
     ]
    },
    {
     "name": "stdout",
     "output_type": "stream",
     "text": [
      "Faces saved to faces/id4_id0_0000\n",
      "Face video saved to processed_videos/id4_id0_0000.mp4\n"
     ]
    },
    {
     "name": "stderr",
     "output_type": "stream",
     "text": [
      "OpenCV: FFMPEG: tag 0x5634504d/'MP4V' is not supported with codec id 12 and format 'mp4 / MP4 (MPEG-4 Part 14)'\n",
      "OpenCV: FFMPEG: fallback to use tag 0x7634706d/'mp4v'\n"
     ]
    },
    {
     "name": "stdout",
     "output_type": "stream",
     "text": [
      "Saved 14 frames to frames/id4_id2_0004\n",
      "Faces saved to faces/id4_id6_0006\n",
      "Face video saved to processed_videos/id4_id6_0006.mp4\n"
     ]
    },
    {
     "name": "stderr",
     "output_type": "stream",
     "text": [
      "OpenCV: FFMPEG: tag 0x5634504d/'MP4V' is not supported with codec id 12 and format 'mp4 / MP4 (MPEG-4 Part 14)'\n",
      "OpenCV: FFMPEG: fallback to use tag 0x7634706d/'mp4v'\n"
     ]
    },
    {
     "name": "stdout",
     "output_type": "stream",
     "text": [
      "Faces saved to faces/id6_id2_0004\n",
      "Face video saved to processed_videos/id6_id2_0004.mp4\n",
      "Saved 7 frames to frames/id7_id13_0006\n"
     ]
    },
    {
     "name": "stderr",
     "output_type": "stream",
     "text": [
      "OpenCV: FFMPEG: tag 0x5634504d/'MP4V' is not supported with codec id 12 and format 'mp4 / MP4 (MPEG-4 Part 14)'\n",
      "OpenCV: FFMPEG: fallback to use tag 0x7634706d/'mp4v'\n"
     ]
    },
    {
     "name": "stdout",
     "output_type": "stream",
     "text": [
      "Saved 15 frames to frames/id4_id6_0000\n",
      "Saved 16 frames to frames/id4_id2_0009\n",
      "Saved 12 frames to frames/id8_id4_0007\n",
      "Faces saved to faces/id8_id7_0007\n",
      "Face video saved to processed_videos/id8_id7_0007.mp4\n",
      "Faces saved to faces/id9_id0_0006\n",
      "Face video saved to processed_videos/id9_id0_0006.mp4\n"
     ]
    },
    {
     "name": "stderr",
     "output_type": "stream",
     "text": [
      "OpenCV: FFMPEG: tag 0x5634504d/'MP4V' is not supported with codec id 12 and format 'mp4 / MP4 (MPEG-4 Part 14)'\n",
      "OpenCV: FFMPEG: fallback to use tag 0x7634706d/'mp4v'\n",
      "OpenCV: FFMPEG: tag 0x5634504d/'MP4V' is not supported with codec id 12 and format 'mp4 / MP4 (MPEG-4 Part 14)'\n",
      "OpenCV: FFMPEG: fallback to use tag 0x7634706d/'mp4v'\n"
     ]
    },
    {
     "name": "stdout",
     "output_type": "stream",
     "text": [
      "Saved 13 frames to frames/id8_id2_0003\n",
      "Faces saved to faces/id9_id16_0000\n",
      "Face video saved to processed_videos/id9_id16_0000.mp4\n"
     ]
    },
    {
     "name": "stderr",
     "output_type": "stream",
     "text": [
      "OpenCV: FFMPEG: tag 0x5634504d/'MP4V' is not supported with codec id 12 and format 'mp4 / MP4 (MPEG-4 Part 14)'\n",
      "OpenCV: FFMPEG: fallback to use tag 0x7634706d/'mp4v'\n"
     ]
    },
    {
     "name": "stdout",
     "output_type": "stream",
     "text": [
      "Saved 19 frames to frames/id8_id7_0008\n",
      "Faces saved to faces/id7_id11_0004Faces saved to faces/id6_id3_0009\n",
      "\n",
      "Face video saved to processed_videos/id6_id3_0009.mp4Face video saved to processed_videos/id7_id11_0004.mp4\n",
      "\n"
     ]
    },
    {
     "name": "stderr",
     "output_type": "stream",
     "text": [
      "OpenCV: FFMPEG: tag 0x5634504d/'MP4V' is not supported with codec id 12 and format 'mp4 / MP4 (MPEG-4 Part 14)'\n",
      "OpenCV: FFMPEG: fallback to use tag 0x7634706d/'mp4v'\n",
      "OpenCV: FFMPEG: tag 0x5634504d/'MP4V' is not supported with codec id 12 and format 'mp4 / MP4 (MPEG-4 Part 14)'\n",
      "OpenCV: FFMPEG: fallback to use tag 0x7634706d/'mp4v'\n"
     ]
    },
    {
     "name": "stdout",
     "output_type": "stream",
     "text": [
      "Saved 5 frames to frames/id7_id11_0005\n",
      "Saved 15 frames to frames/id9_id0_0007\n",
      "Saved 15 frames to frames/id4_id9_0000\n",
      "Saved 14 frames to frames/id9_id16_0001\n",
      "Faces saved to faces/id7_id12_0002\n",
      "Face video saved to processed_videos/id7_id12_0002.mp4\n"
     ]
    },
    {
     "name": "stderr",
     "output_type": "stream",
     "text": [
      "OpenCV: FFMPEG: tag 0x5634504d/'MP4V' is not supported with codec id 12 and format 'mp4 / MP4 (MPEG-4 Part 14)'\n",
      "OpenCV: FFMPEG: fallback to use tag 0x7634706d/'mp4v'\n"
     ]
    },
    {
     "name": "stdout",
     "output_type": "stream",
     "text": [
      "Faces saved to faces/id8_id3_0003\n",
      "Faces saved to faces/id4_id6_0003\n",
      "Face video saved to processed_videos/id8_id3_0003.mp4\n",
      "Face video saved to processed_videos/id4_id6_0003.mp4\n",
      "Saved 15 frames to frames/id4_id2_0001\n"
     ]
    },
    {
     "name": "stderr",
     "output_type": "stream",
     "text": [
      "OpenCV: FFMPEG: tag 0x5634504d/'MP4V' is not supported with codec id 12 and format 'mp4 / MP4 (MPEG-4 Part 14)'\n",
      "OpenCV: FFMPEG: fallback to use tag 0x7634706d/'mp4v'\n",
      "OpenCV: FFMPEG: tag 0x5634504d/'MP4V' is not supported with codec id 12 and format 'mp4 / MP4 (MPEG-4 Part 14)'\n",
      "OpenCV: FFMPEG: fallback to use tag 0x7634706d/'mp4v'\n"
     ]
    },
    {
     "name": "stdout",
     "output_type": "stream",
     "text": [
      "Faces saved to faces/id8_id3_0007\n",
      "Face video saved to processed_videos/id8_id3_0007.mp4\n"
     ]
    },
    {
     "name": "stderr",
     "output_type": "stream",
     "text": [
      "OpenCV: FFMPEG: tag 0x5634504d/'MP4V' is not supported with codec id 12 and format 'mp4 / MP4 (MPEG-4 Part 14)'\n",
      "OpenCV: FFMPEG: fallback to use tag 0x7634706d/'mp4v'\n"
     ]
    },
    {
     "name": "stdout",
     "output_type": "stream",
     "text": [
      "Saved 10 frames to frames/id4_id3_0006\n",
      "Faces saved to faces/id9_id17_0000\n",
      "Face video saved to processed_videos/id9_id17_0000.mp4\n",
      "Faces saved to faces/id7_id10_0009\n"
     ]
    },
    {
     "name": "stderr",
     "output_type": "stream",
     "text": [
      "OpenCV: FFMPEG: tag 0x5634504d/'MP4V' is not supported with codec id 12 and format 'mp4 / MP4 (MPEG-4 Part 14)'\n",
      "OpenCV: FFMPEG: fallback to use tag 0x7634706d/'mp4v'\n",
      "OpenCV: FFMPEG: tag 0x5634504d/'MP4V' is not supported with codec id 12 and format 'mp4 / MP4 (MPEG-4 Part 14)'\n",
      "OpenCV: FFMPEG: fallback to use tag 0x7634706d/'mp4v'\n"
     ]
    },
    {
     "name": "stdout",
     "output_type": "stream",
     "text": [
      "Face video saved to processed_videos/id7_id10_0009.mp4\n",
      "Saved 14 frames to frames/id4_id6_0004\n",
      "Saved 24 frames to frames/id7_id12_0004\n",
      "Faces saved to faces/id9_id0_0001\n",
      "Face video saved to processed_videos/id9_id0_0001.mp4\n",
      "Saved 9 frames to frames/id7_id11_0000\n",
      "Saved 16 frames to frames/id4_id3_0002\n"
     ]
    },
    {
     "name": "stderr",
     "output_type": "stream",
     "text": [
      "OpenCV: FFMPEG: tag 0x5634504d/'MP4V' is not supported with codec id 12 and format 'mp4 / MP4 (MPEG-4 Part 14)'\n",
      "OpenCV: FFMPEG: fallback to use tag 0x7634706d/'mp4v'\n"
     ]
    },
    {
     "name": "stdout",
     "output_type": "stream",
     "text": [
      "Saved 14 frames to frames/id9_id17_0001\n",
      "Faces saved to faces/id9_id2_0004\n",
      "Face video saved to processed_videos/id9_id2_0004.mp4\n",
      "Faces saved to faces/id9_id16_0005\n"
     ]
    },
    {
     "name": "stderr",
     "output_type": "stream",
     "text": [
      "OpenCV: FFMPEG: tag 0x5634504d/'MP4V' is not supported with codec id 12 and format 'mp4 / MP4 (MPEG-4 Part 14)'\n",
      "OpenCV: FFMPEG: fallback to use tag 0x7634706d/'mp4v'\n",
      "OpenCV: FFMPEG: tag 0x5634504d/'MP4V' is not supported with codec id 12 and format 'mp4 / MP4 (MPEG-4 Part 14)'\n",
      "OpenCV: FFMPEG: fallback to use tag 0x7634706d/'mp4v'\n"
     ]
    },
    {
     "name": "stdout",
     "output_type": "stream",
     "text": [
      "Face video saved to processed_videos/id9_id16_0005.mp4\n",
      "Saved 10 frames to frames/id9_id1_0009\n",
      "Faces saved to faces/id4_id2_0007\n",
      "Face video saved to processed_videos/id4_id2_0007.mp4\n",
      "Saved 14 frames to frames/id9_id2_0005\n"
     ]
    },
    {
     "name": "stderr",
     "output_type": "stream",
     "text": [
      "OpenCV: FFMPEG: tag 0x5634504d/'MP4V' is not supported with codec id 12 and format 'mp4 / MP4 (MPEG-4 Part 14)'\n",
      "OpenCV: FFMPEG: fallback to use tag 0x7634706d/'mp4v'\n"
     ]
    },
    {
     "name": "stdout",
     "output_type": "stream",
     "text": [
      "Saved 13 frames to frames/id9_id16_0006\n",
      "Faces saved to faces/id9_id1_0001\n",
      "Face video saved to processed_videos/id9_id1_0001.mp4\n"
     ]
    },
    {
     "name": "stderr",
     "output_type": "stream",
     "text": [
      "OpenCV: FFMPEG: tag 0x5634504d/'MP4V' is not supported with codec id 12 and format 'mp4 / MP4 (MPEG-4 Part 14)'\n",
      "OpenCV: FFMPEG: fallback to use tag 0x7634706d/'mp4v'\n"
     ]
    },
    {
     "name": "stdout",
     "output_type": "stream",
     "text": [
      "Faces saved to faces/id9_id17_0005\n",
      "Face video saved to processed_videos/id9_id17_0005.mp4\n",
      "Faces saved to faces/id4_id0_0005\n",
      "Faces saved to faces/id6_id16_0005\n",
      "Face video saved to processed_videos/id4_id0_0005.mp4\n",
      "Face video saved to processed_videos/id6_id16_0005.mp4\n"
     ]
    },
    {
     "name": "stderr",
     "output_type": "stream",
     "text": [
      "OpenCV: FFMPEG: tag 0x5634504d/'MP4V' is not supported with codec id 12 and format 'mp4 / MP4 (MPEG-4 Part 14)'\n",
      "OpenCV: FFMPEG: fallback to use tag 0x7634706d/'mp4v'\n",
      "OpenCV: FFMPEG: tag 0x5634504d/'MP4V' is not supported with codec id 12 and format 'mp4 / MP4 (MPEG-4 Part 14)'\n",
      "OpenCV: FFMPEG: fallback to use tag 0x7634706d/'mp4v'\n",
      "OpenCV: FFMPEG: tag 0x5634504d/'MP4V' is not supported with codec id 12 and format 'mp4 / MP4 (MPEG-4 Part 14)'\n",
      "OpenCV: FFMPEG: fallback to use tag 0x7634706d/'mp4v'\n"
     ]
    },
    {
     "name": "stdout",
     "output_type": "stream",
     "text": [
      "Faces saved to faces/id6_id17_0005\n",
      "Face video saved to processed_videos/id6_id17_0005.mp4\n"
     ]
    },
    {
     "name": "stderr",
     "output_type": "stream",
     "text": [
      "OpenCV: FFMPEG: tag 0x5634504d/'MP4V' is not supported with codec id 12 and format 'mp4 / MP4 (MPEG-4 Part 14)'\n",
      "OpenCV: FFMPEG: fallback to use tag 0x7634706d/'mp4v'\n"
     ]
    },
    {
     "name": "stdout",
     "output_type": "stream",
     "text": [
      "Saved 9 frames to frames/id6_id2_0006\n",
      "Saved 12 frames to frames/id9_id1_0002\n",
      "Saved 9 frames to frames/id6_id16_0006\n",
      "Saved 9 frames to frames/id6_id17_0006\n",
      "Faces saved to faces/id9_id3_0005\n",
      "Face video saved to processed_videos/id9_id3_0005.mp4\n",
      "Saved 13 frames to frames/id9_id17_0006\n"
     ]
    },
    {
     "name": "stderr",
     "output_type": "stream",
     "text": [
      "OpenCV: FFMPEG: tag 0x5634504d/'MP4V' is not supported with codec id 12 and format 'mp4 / MP4 (MPEG-4 Part 14)'\n",
      "OpenCV: FFMPEG: fallback to use tag 0x7634706d/'mp4v'\n"
     ]
    },
    {
     "name": "stdout",
     "output_type": "stream",
     "text": [
      "Saved 15 frames to frames/id6_id0_0004\n",
      "Faces saved to faces/id8_id9_0003\n",
      "Face video saved to processed_videos/id8_id9_0003.mp4\n"
     ]
    },
    {
     "name": "stderr",
     "output_type": "stream",
     "text": [
      "OpenCV: FFMPEG: tag 0x5634504d/'MP4V' is not supported with codec id 12 and format 'mp4 / MP4 (MPEG-4 Part 14)'\n",
      "OpenCV: FFMPEG: fallback to use tag 0x7634706d/'mp4v'\n"
     ]
    },
    {
     "name": "stdout",
     "output_type": "stream",
     "text": [
      "Faces saved to faces/id4_id3_0004\n",
      "Face video saved to processed_videos/id4_id3_0004.mp4\n"
     ]
    },
    {
     "name": "stderr",
     "output_type": "stream",
     "text": [
      "OpenCV: FFMPEG: tag 0x5634504d/'MP4V' is not supported with codec id 12 and format 'mp4 / MP4 (MPEG-4 Part 14)'\n",
      "OpenCV: FFMPEG: fallback to use tag 0x7634706d/'mp4v'\n"
     ]
    },
    {
     "name": "stdout",
     "output_type": "stream",
     "text": [
      "Faces saved to faces/id8_id7_0002\n",
      "Face video saved to processed_videos/id8_id7_0002.mp4\n",
      "Faces saved to faces/id9_id6_0008\n",
      "Face video saved to processed_videos/id9_id6_0008.mp4\n",
      "Faces saved to faces/id7_id11_0005\n",
      "Face video saved to processed_videos/id7_id11_0005.mp4\n"
     ]
    },
    {
     "name": "stderr",
     "output_type": "stream",
     "text": [
      "OpenCV: FFMPEG: tag 0x5634504d/'MP4V' is not supported with codec id 12 and format 'mp4 / MP4 (MPEG-4 Part 14)'\n",
      "OpenCV: FFMPEG: fallback to use tag 0x7634706d/'mp4v'\n",
      "OpenCV: FFMPEG: tag 0x5634504d/'MP4V' is not supported with codec id 12 and format 'mp4 / MP4 (MPEG-4 Part 14)'\n",
      "OpenCV: FFMPEG: fallback to use tag 0x7634706d/'mp4v'\n",
      "OpenCV: FFMPEG: tag 0x5634504d/'MP4V' is not supported with codec id 12 and format 'mp4 / MP4 (MPEG-4 Part 14)'\n",
      "OpenCV: FFMPEG: fallback to use tag 0x7634706d/'mp4v'\n"
     ]
    },
    {
     "name": "stdout",
     "output_type": "stream",
     "text": [
      "Saved 13 frames to frames/id9_id3_0006\n",
      "Saved 10 frames to frames/id4_id9_0006\n",
      "Faces saved to faces/id9_id4_0005\n",
      "Face video saved to processed_videos/id9_id4_0005.mp4\n",
      "Faces saved to faces/id9_id2_0000\n"
     ]
    },
    {
     "name": "stderr",
     "output_type": "stream",
     "text": [
      "OpenCV: FFMPEG: tag 0x5634504d/'MP4V' is not supported with codec id 12 and format 'mp4 / MP4 (MPEG-4 Part 14)'\n",
      "OpenCV: FFMPEG: fallback to use tag 0x7634706d/'mp4v'\n",
      "OpenCV: FFMPEG: tag 0x5634504d/'MP4V' is not supported with codec id 12 and format 'mp4 / MP4 (MPEG-4 Part 14)'\n",
      "OpenCV: FFMPEG: fallback to use tag 0x7634706d/'mp4v'\n"
     ]
    },
    {
     "name": "stdout",
     "output_type": "stream",
     "text": [
      "Faces saved to faces/id8_id1_0008\n",
      "Face video saved to processed_videos/id9_id2_0000.mp4\n",
      "Face video saved to processed_videos/id8_id1_0008.mp4\n"
     ]
    },
    {
     "name": "stderr",
     "output_type": "stream",
     "text": [
      "OpenCV: FFMPEG: tag 0x5634504d/'MP4V' is not supported with codec id 12 and format 'mp4 / MP4 (MPEG-4 Part 14)'\n",
      "OpenCV: FFMPEG: fallback to use tag 0x7634706d/'mp4v'\n"
     ]
    },
    {
     "name": "stdout",
     "output_type": "stream",
     "text": [
      "Saved 7 frames to frames/id7_id11_0006\n",
      "Faces saved to faces/id7_id13_0006\n",
      "Saved 12 frames to frames/id6_id3_0005Face video saved to processed_videos/id7_id13_0006.mp4\n",
      "\n"
     ]
    },
    {
     "name": "stderr",
     "output_type": "stream",
     "text": [
      "OpenCV: FFMPEG: tag 0x5634504d/'MP4V' is not supported with codec id 12 and format 'mp4 / MP4 (MPEG-4 Part 14)'\n",
      "OpenCV: FFMPEG: fallback to use tag 0x7634706d/'mp4v'\n"
     ]
    },
    {
     "name": "stdout",
     "output_type": "stream",
     "text": [
      "Saved 10 frames to frames/id9_id6_0009\n",
      "Saved 13 frames to frames/id8_id7_0003\n",
      "Saved 13 frames to frames/id9_id4_0006\n",
      "Faces saved to faces/id7_id13_0000\n",
      "Face video saved to processed_videos/id7_id13_0000.mp4\n"
     ]
    },
    {
     "name": "stderr",
     "output_type": "stream",
     "text": [
      "OpenCV: FFMPEG: tag 0x5634504d/'MP4V' is not supported with codec id 12 and format 'mp4 / MP4 (MPEG-4 Part 14)'\n",
      "OpenCV: FFMPEG: fallback to use tag 0x7634706d/'mp4v'\n"
     ]
    },
    {
     "name": "stdout",
     "output_type": "stream",
     "text": [
      "Saved 15 frames to frames/id9_id3_0008\n",
      "Faces saved to faces/id6_id4_0007\n",
      "Saved 14 frames to frames/id4_id0_0007\n",
      "Face video saved to processed_videos/id6_id4_0007.mp4\n"
     ]
    },
    {
     "name": "stderr",
     "output_type": "stream",
     "text": [
      "OpenCV: FFMPEG: tag 0x5634504d/'MP4V' is not supported with codec id 12 and format 'mp4 / MP4 (MPEG-4 Part 14)'\n",
      "OpenCV: FFMPEG: fallback to use tag 0x7634706d/'mp4v'\n"
     ]
    },
    {
     "name": "stdout",
     "output_type": "stream",
     "text": [
      "Saved 13 frames to frames/id7_id13_0007\n",
      "Faces saved to faces/id6_id1_0001\n",
      "Face video saved to processed_videos/id6_id1_0001.mp4\n"
     ]
    },
    {
     "name": "stderr",
     "output_type": "stream",
     "text": [
      "OpenCV: FFMPEG: tag 0x5634504d/'MP4V' is not supported with codec id 12 and format 'mp4 / MP4 (MPEG-4 Part 14)'\n",
      "OpenCV: FFMPEG: fallback to use tag 0x7634706d/'mp4v'\n"
     ]
    },
    {
     "name": "stdout",
     "output_type": "stream",
     "text": [
      "Saved 9 frames to frames/id7_id13_0001\n",
      "Faces saved to faces/id6_id1_0004\n",
      "Face video saved to processed_videos/id6_id1_0004.mp4\n",
      "Saved 12 frames to frames/id6_id4_0008Faces saved to faces/id8_id9_0007\n",
      "\n",
      "Face video saved to processed_videos/id8_id9_0007.mp4"
     ]
    },
    {
     "name": "stderr",
     "output_type": "stream",
     "text": [
      "OpenCV: FFMPEG: tag 0x5634504d/'MP4V' is not supported with codec id 12 and format 'mp4 / MP4 (MPEG-4 Part 14)'\n",
      "OpenCV: FFMPEG: fallback to use tag 0x7634706d/'mp4v'\n",
      "OpenCV: FFMPEG: tag 0x5634504d/'MP4V' is not supported with codec id 12 and format 'mp4 / MP4 (MPEG-4 Part 14)'\n",
      "OpenCV: FFMPEG: fallback to use tag 0x7634706d/'mp4v'\n"
     ]
    },
    {
     "name": "stdout",
     "output_type": "stream",
     "text": [
      "\n",
      "Saved 13 frames to frames/id8_id1_0003\n",
      "Faces saved to faces/id9_id3_0000\n",
      "Faces saved to faces/id4_id1_0007\n",
      "Face video saved to processed_videos/id9_id3_0000.mp4\n",
      "Face video saved to processed_videos/id4_id1_0007.mp4\n"
     ]
    },
    {
     "name": "stderr",
     "output_type": "stream",
     "text": [
      "OpenCV: FFMPEG: tag 0x5634504d/'MP4V' is not supported with codec id 12 and format 'mp4 / MP4 (MPEG-4 Part 14)'\n",
      "OpenCV: FFMPEG: fallback to use tag 0x7634706d/'mp4v'\n",
      "OpenCV: FFMPEG: tag 0x5634504d/'MP4V' is not supported with codec id 12 and format 'mp4 / MP4 (MPEG-4 Part 14)'\n",
      "OpenCV: FFMPEG: fallback to use tag 0x7634706d/'mp4v'\n"
     ]
    },
    {
     "name": "stdout",
     "output_type": "stream",
     "text": [
      "Saved 16 frames to frames/id4_id9_0002\n",
      "Faces saved to faces/id6_id1_0002\n",
      "Face video saved to processed_videos/id6_id1_0002.mp4\n"
     ]
    },
    {
     "name": "stderr",
     "output_type": "stream",
     "text": [
      "OpenCV: FFMPEG: tag 0x5634504d/'MP4V' is not supported with codec id 12 and format 'mp4 / MP4 (MPEG-4 Part 14)'\n",
      "OpenCV: FFMPEG: fallback to use tag 0x7634706d/'mp4v'\n"
     ]
    },
    {
     "name": "stdout",
     "output_type": "stream",
     "text": [
      "Saved 9 frames to frames/id6_id1_0006Saved 10 frames to frames/id9_id2_0009\n",
      "\n",
      "Faces saved to faces/id6_id16_0000\n",
      "Face video saved to processed_videos/id6_id16_0000.mp4Faces saved to faces/id4_id9_0004\n",
      "\n",
      "Faces saved to faces/id8_id2_0007\n",
      "Saved 14 frames to frames/id4_id1_0004\n",
      "Face video saved to processed_videos/id8_id2_0007.mp4\n",
      "Face video saved to processed_videos/id4_id9_0004.mp4\n"
     ]
    },
    {
     "name": "stderr",
     "output_type": "stream",
     "text": [
      "OpenCV: FFMPEG: tag 0x5634504d/'MP4V' is not supported with codec id 12 and format 'mp4 / MP4 (MPEG-4 Part 14)'\n",
      "OpenCV: FFMPEG: fallback to use tag 0x7634706d/'mp4v'\n",
      "OpenCV: FFMPEG: tag 0x5634504d/'MP4V' is not supported with codec id 12 and format 'mp4 / MP4 (MPEG-4 Part 14)'\n",
      "OpenCV: FFMPEG: fallback to use tag 0x7634706d/'mp4v'\n",
      "OpenCV: FFMPEG: tag 0x5634504d/'MP4V' is not supported with codec id 12 and format 'mp4 / MP4 (MPEG-4 Part 14)'\n",
      "OpenCV: FFMPEG: fallback to use tag 0x7634706d/'mp4v'\n"
     ]
    },
    {
     "name": "stdout",
     "output_type": "stream",
     "text": [
      "Faces saved to faces/id6_id1_0000\n",
      "Face video saved to processed_videos/id6_id1_0000.mp4\n",
      "Saved 10 frames to frames/id6_id16_0001\n"
     ]
    },
    {
     "name": "stderr",
     "output_type": "stream",
     "text": [
      "OpenCV: FFMPEG: tag 0x5634504d/'MP4V' is not supported with codec id 12 and format 'mp4 / MP4 (MPEG-4 Part 14)'\n",
      "OpenCV: FFMPEG: fallback to use tag 0x7634706d/'mp4v'\n"
     ]
    },
    {
     "name": "stdout",
     "output_type": "stream",
     "text": [
      "Saved 12 frames to frames/id6_id9_0005\n",
      "Saved 16 frames to frames/id4_id2_0002\n",
      "Saved 12 frames to frames/id8_id1_0007\n",
      "Faces saved to faces/id7_id11_0000\n",
      "Face video saved to processed_videos/id7_id11_0000.mp4\n"
     ]
    },
    {
     "name": "stderr",
     "output_type": "stream",
     "text": [
      "OpenCV: FFMPEG: tag 0x5634504d/'MP4V' is not supported with codec id 12 and format 'mp4 / MP4 (MPEG-4 Part 14)'\n",
      "OpenCV: FFMPEG: fallback to use tag 0x7634706d/'mp4v'\n"
     ]
    },
    {
     "name": "stdout",
     "output_type": "stream",
     "text": [
      "Faces saved to faces/id8_id4_0007\n",
      "Face video saved to processed_videos/id8_id4_0007.mp4\n"
     ]
    },
    {
     "name": "stderr",
     "output_type": "stream",
     "text": [
      "OpenCV: FFMPEG: tag 0x5634504d/'MP4V' is not supported with codec id 12 and format 'mp4 / MP4 (MPEG-4 Part 14)'\n",
      "OpenCV: FFMPEG: fallback to use tag 0x7634706d/'mp4v'\n"
     ]
    },
    {
     "name": "stdout",
     "output_type": "stream",
     "text": [
      "Faces saved to faces/id4_id3_0006\n",
      "Face video saved to processed_videos/id4_id3_0006.mp4\n",
      "Saved 9 frames to frames/id7_id11_0001\n"
     ]
    },
    {
     "name": "stderr",
     "output_type": "stream",
     "text": [
      "OpenCV: FFMPEG: tag 0x5634504d/'MP4V' is not supported with codec id 12 and format 'mp4 / MP4 (MPEG-4 Part 14)'\n",
      "OpenCV: FFMPEG: fallback to use tag 0x7634706d/'mp4v'\n"
     ]
    },
    {
     "name": "stdout",
     "output_type": "stream",
     "text": [
      "Faces saved to faces/id7_id11_0006\n",
      "Face video saved to processed_videos/id7_id11_0006.mp4\n"
     ]
    },
    {
     "name": "stderr",
     "output_type": "stream",
     "text": [
      "OpenCV: FFMPEG: tag 0x5634504d/'MP4V' is not supported with codec id 12 and format 'mp4 / MP4 (MPEG-4 Part 14)'\n",
      "OpenCV: FFMPEG: fallback to use tag 0x7634706d/'mp4v'\n"
     ]
    },
    {
     "name": "stdout",
     "output_type": "stream",
     "text": [
      "Faces saved to faces/id8_id0_0002\n",
      "Face video saved to processed_videos/id8_id0_0002.mp4\n",
      "Saved 17 frames to frames/id8_id5_0002\n",
      "Faces saved to faces/id8_id2_0003\n"
     ]
    },
    {
     "name": "stderr",
     "output_type": "stream",
     "text": [
      "OpenCV: FFMPEG: tag 0x5634504d/'MP4V' is not supported with codec id 12 and format 'mp4 / MP4 (MPEG-4 Part 14)'\n",
      "OpenCV: FFMPEG: fallback to use tag 0x7634706d/'mp4v'\n",
      "OpenCV: FFMPEG: tag 0x5634504d/'MP4V' is not supported with codec id 12 and format 'mp4 / MP4 (MPEG-4 Part 14)'\n",
      "OpenCV: FFMPEG: fallback to use tag 0x7634706d/'mp4v'\n"
     ]
    },
    {
     "name": "stdout",
     "output_type": "stream",
     "text": [
      "Face video saved to processed_videos/id8_id2_0003.mp4\n",
      "Faces saved to faces/id4_id2_0004\n",
      "Face video saved to processed_videos/id4_id2_0004.mp4\n"
     ]
    },
    {
     "name": "stderr",
     "output_type": "stream",
     "text": [
      "OpenCV: FFMPEG: tag 0x5634504d/'MP4V' is not supported with codec id 12 and format 'mp4 / MP4 (MPEG-4 Part 14)'\n",
      "OpenCV: FFMPEG: fallback to use tag 0x7634706d/'mp4v'\n"
     ]
    },
    {
     "name": "stdout",
     "output_type": "stream",
     "text": [
      "Saved 18 frames to frames/id6_id3_0007\n",
      "Saved 13 frames to frames/id7_id11_0007\n",
      "Saved 10 frames to frames/id4_id2_0006\n",
      "Saved 10 frames to frames/id6_id4_0001\n",
      "Faces saved to faces/id6_id9_0009\n",
      "Face video saved to processed_videos/id6_id9_0009.mp4\n",
      "Faces saved to faces/id4_id6_0000\n",
      "Face video saved to processed_videos/id4_id6_0000.mp4\n"
     ]
    },
    {
     "name": "stderr",
     "output_type": "stream",
     "text": [
      "OpenCV: FFMPEG: tag 0x5634504d/'MP4V' is not supported with codec id 12 and format 'mp4 / MP4 (MPEG-4 Part 14)'\n",
      "OpenCV: FFMPEG: fallback to use tag 0x7634706d/'mp4v'\n",
      "OpenCV: FFMPEG: tag 0x5634504d/'MP4V' is not supported with codec id 12 and format 'mp4 / MP4 (MPEG-4 Part 14)'\n",
      "OpenCV: FFMPEG: fallback to use tag 0x7634706d/'mp4v'\n"
     ]
    },
    {
     "name": "stdout",
     "output_type": "stream",
     "text": [
      "Faces saved to faces/id4_id1_0009\n",
      "Face video saved to processed_videos/id4_id1_0009.mp4\n",
      "Saved 12 frames to frames/id6_id2_0005"
     ]
    },
    {
     "name": "stderr",
     "output_type": "stream",
     "text": [
      "OpenCV: FFMPEG: tag 0x5634504d/'MP4V' is not supported with codec id 12 and format 'mp4 / MP4 (MPEG-4 Part 14)'\n",
      "OpenCV: FFMPEG: fallback to use tag 0x7634706d/'mp4v'\n"
     ]
    },
    {
     "name": "stdout",
     "output_type": "stream",
     "text": [
      "\n",
      "Faces saved to faces/id9_id1_0009\n",
      "Face video saved to processed_videos/id9_id1_0009.mp4\n",
      "Faces saved to faces/id9_id16_0001\n"
     ]
    },
    {
     "name": "stderr",
     "output_type": "stream",
     "text": [
      "OpenCV: FFMPEG: tag 0x5634504d/'MP4V' is not supported with codec id 12 and format 'mp4 / MP4 (MPEG-4 Part 14)'\n",
      "OpenCV: FFMPEG: fallback to use tag 0x7634706d/'mp4v'\n",
      "OpenCV: FFMPEG: tag 0x5634504d/'MP4V' is not supported with codec id 12 and format 'mp4 / MP4 (MPEG-4 Part 14)'\n",
      "OpenCV: FFMPEG: fallback to use tag 0x7634706d/'mp4v'\n"
     ]
    },
    {
     "name": "stdout",
     "output_type": "stream",
     "text": [
      "Face video saved to processed_videos/id9_id16_0001.mp4\n",
      "Faces saved to faces/id6_id2_0006\n",
      "Face video saved to processed_videos/id6_id2_0006.mp4\n",
      "Faces saved to faces/id6_id17_0006\n",
      "Face video saved to processed_videos/id6_id17_0006.mp4\n"
     ]
    },
    {
     "name": "stderr",
     "output_type": "stream",
     "text": [
      "OpenCV: FFMPEG: tag 0x5634504d/'MP4V' is not supported with codec id 12 and format 'mp4 / MP4 (MPEG-4 Part 14)'\n",
      "OpenCV: FFMPEG: fallback to use tag 0x7634706d/'mp4v'\n",
      "OpenCV: FFMPEG: tag 0x5634504d/'MP4V' is not supported with codec id 12 and format 'mp4 / MP4 (MPEG-4 Part 14)'\n",
      "OpenCV: FFMPEG: fallback to use tag 0x7634706d/'mp4v'\n"
     ]
    },
    {
     "name": "stdout",
     "output_type": "stream",
     "text": [
      "Faces saved to faces/id9_id0_0007\n",
      "Saved 15 frames to frames/id4_id6_0001\n",
      "Face video saved to processed_videos/id9_id0_0007.mp4\n"
     ]
    },
    {
     "name": "stderr",
     "output_type": "stream",
     "text": [
      "OpenCV: FFMPEG: tag 0x5634504d/'MP4V' is not supported with codec id 12 and format 'mp4 / MP4 (MPEG-4 Part 14)'\n",
      "OpenCV: FFMPEG: fallback to use tag 0x7634706d/'mp4v'\n"
     ]
    },
    {
     "name": "stdout",
     "output_type": "stream",
     "text": [
      "Faces saved to faces/id6_id16_0006\n",
      "Face video saved to processed_videos/id6_id16_0006.mp4\n",
      "Saved 20 frames to frames/id6_id0_0002\n"
     ]
    },
    {
     "name": "stderr",
     "output_type": "stream",
     "text": [
      "OpenCV: FFMPEG: tag 0x5634504d/'MP4V' is not supported with codec id 12 and format 'mp4 / MP4 (MPEG-4 Part 14)'\n",
      "OpenCV: FFMPEG: fallback to use tag 0x7634706d/'mp4v'\n"
     ]
    },
    {
     "name": "stdout",
     "output_type": "stream",
     "text": [
      "Saved 12 frames to frames/id9_id16_0002\n",
      "Faces saved to faces/id4_id2_0001Saved 16 frames to frames/id9_id0_0003\n",
      "\n",
      "Face video saved to processed_videos/id4_id2_0001.mp4\n",
      "Saved 10 frames to frames/id4_id2_0008\n"
     ]
    },
    {
     "name": "stderr",
     "output_type": "stream",
     "text": [
      "OpenCV: FFMPEG: tag 0x5634504d/'MP4V' is not supported with codec id 12 and format 'mp4 / MP4 (MPEG-4 Part 14)'\n",
      "OpenCV: FFMPEG: fallback to use tag 0x7634706d/'mp4v'\n"
     ]
    },
    {
     "name": "stdout",
     "output_type": "stream",
     "text": [
      "Faces saved to faces/id6_id17_0000\n",
      "Saved 15 frames to frames/id9_id0_0008\n",
      "Face video saved to processed_videos/id6_id17_0000.mp4\n",
      "Faces saved to faces/id4_id2_0009\n",
      "Face video saved to processed_videos/id4_id2_0009.mp4\n",
      "Saved 18 frames to frames/id6_id17_0007\n"
     ]
    },
    {
     "name": "stderr",
     "output_type": "stream",
     "text": [
      "OpenCV: FFMPEG: tag 0x5634504d/'MP4V' is not supported with codec id 12 and format 'mp4 / MP4 (MPEG-4 Part 14)'\n",
      "OpenCV: FFMPEG: fallback to use tag 0x7634706d/'mp4v'\n",
      "OpenCV: FFMPEG: tag 0x5634504d/'MP4V' is not supported with codec id 12 and format 'mp4 / MP4 (MPEG-4 Part 14)'\n",
      "OpenCV: FFMPEG: fallback to use tag 0x7634706d/'mp4v'\n"
     ]
    },
    {
     "name": "stdout",
     "output_type": "stream",
     "text": [
      "Saved 18 frames to frames/id6_id16_0007\n",
      "Faces saved to faces/id4_id6_0004\n",
      "Face video saved to processed_videos/id4_id6_0004.mp4\n"
     ]
    },
    {
     "name": "stderr",
     "output_type": "stream",
     "text": [
      "OpenCV: FFMPEG: tag 0x5634504d/'MP4V' is not supported with codec id 12 and format 'mp4 / MP4 (MPEG-4 Part 14)'\n",
      "OpenCV: FFMPEG: fallback to use tag 0x7634706d/'mp4v'\n"
     ]
    },
    {
     "name": "stdout",
     "output_type": "stream",
     "text": [
      "Faces saved to faces/id9_id17_0001\n",
      "Face video saved to processed_videos/id9_id17_0001.mp4\n",
      "Faces saved to faces/id7_id10_0003Saved 10 frames to frames/id6_id17_0001\n",
      "\n",
      "Faces saved to faces/id9_id16_0006\n"
     ]
    },
    {
     "name": "stderr",
     "output_type": "stream",
     "text": [
      "OpenCV: FFMPEG: tag 0x5634504d/'MP4V' is not supported with codec id 12 and format 'mp4 / MP4 (MPEG-4 Part 14)'\n",
      "OpenCV: FFMPEG: fallback to use tag 0x7634706d/'mp4v'\n",
      "OpenCV: FFMPEG: tag 0x5634504d/'MP4V' is not supported with codec id 12 and format 'mp4 / MP4 (MPEG-4 Part 14)'\n",
      "OpenCV: FFMPEG: fallback to use tag 0x7634706d/'mp4v'\n"
     ]
    },
    {
     "name": "stdout",
     "output_type": "stream",
     "text": [
      "Face video saved to processed_videos/id7_id10_0003.mp4\n",
      "Faces saved to faces/id4_id9_0000\n",
      "Face video saved to processed_videos/id9_id16_0006.mp4\n",
      "Face video saved to processed_videos/id4_id9_0000.mp4\n"
     ]
    },
    {
     "name": "stderr",
     "output_type": "stream",
     "text": [
      "OpenCV: FFMPEG: tag 0x5634504d/'MP4V' is not supported with codec id 12 and format 'mp4 / MP4 (MPEG-4 Part 14)'\n",
      "OpenCV: FFMPEG: fallback to use tag 0x7634706d/'mp4v'\n",
      "OpenCV: FFMPEG: tag 0x5634504d/'MP4V' is not supported with codec id 12 and format 'mp4 / MP4 (MPEG-4 Part 14)'\n",
      "OpenCV: FFMPEG: fallback to use tag 0x7634706d/'mp4v'\n"
     ]
    },
    {
     "name": "stdout",
     "output_type": "stream",
     "text": [
      "Faces saved to faces/id9_id1_0002\n",
      "Face video saved to processed_videos/id9_id1_0002.mp4\n",
      "Faces saved to faces/id9_id17_0006\n",
      "Face video saved to processed_videos/id9_id17_0006.mp4\n"
     ]
    },
    {
     "name": "stderr",
     "output_type": "stream",
     "text": [
      "OpenCV: FFMPEG: tag 0x5634504d/'MP4V' is not supported with codec id 12 and format 'mp4 / MP4 (MPEG-4 Part 14)'\n",
      "OpenCV: FFMPEG: fallback to use tag 0x7634706d/'mp4v'\n",
      "OpenCV: FFMPEG: tag 0x5634504d/'MP4V' is not supported with codec id 12 and format 'mp4 / MP4 (MPEG-4 Part 14)'\n",
      "OpenCV: FFMPEG: fallback to use tag 0x7634706d/'mp4v'\n"
     ]
    },
    {
     "name": "stdout",
     "output_type": "stream",
     "text": [
      "Saved 15 frames to frames/id4_id3_0001\n",
      "Faces saved to faces/id4_id9_0006\n",
      "Face video saved to processed_videos/id4_id9_0006.mp4\n"
     ]
    },
    {
     "name": "stderr",
     "output_type": "stream",
     "text": [
      "OpenCV: FFMPEG: tag 0x5634504d/'MP4V' is not supported with codec id 12 and format 'mp4 / MP4 (MPEG-4 Part 14)'\n",
      "OpenCV: FFMPEG: fallback to use tag 0x7634706d/'mp4v'\n"
     ]
    },
    {
     "name": "stdout",
     "output_type": "stream",
     "text": [
      "Faces saved to faces/id8_id7_0008\n",
      "Face video saved to processed_videos/id8_id7_0008.mp4\n"
     ]
    },
    {
     "name": "stderr",
     "output_type": "stream",
     "text": [
      "OpenCV: FFMPEG: tag 0x5634504d/'MP4V' is not supported with codec id 12 and format 'mp4 / MP4 (MPEG-4 Part 14)'\n",
      "OpenCV: FFMPEG: fallback to use tag 0x7634706d/'mp4v'\n"
     ]
    },
    {
     "name": "stdout",
     "output_type": "stream",
     "text": [
      "Faces saved to faces/id9_id2_0005\n",
      "Faces saved to faces/id7_id13_0001Faces saved to faces/id9_id6_0009\n",
      "Face video saved to processed_videos/id9_id2_0005.mp4\n",
      "\n",
      "Face video saved to processed_videos/id9_id6_0009.mp4\n",
      "Face video saved to processed_videos/id7_id13_0001.mp4\n"
     ]
    },
    {
     "name": "stderr",
     "output_type": "stream",
     "text": [
      "OpenCV: FFMPEG: tag 0x5634504d/'MP4V' is not supported with codec id 12 and format 'mp4 / MP4 (MPEG-4 Part 14)'\n",
      "OpenCV: FFMPEG: fallback to use tag 0x7634706d/'mp4v'\n",
      "OpenCV: FFMPEG: tag 0x5634504d/'MP4V' is not supported with codec id 12 and format 'mp4 / MP4 (MPEG-4 Part 14)'\n",
      "OpenCV: FFMPEG: tag 0x5634504d/'MP4V' is not supported with codec id 12 and format 'mp4 / MP4 (MPEG-4 Part 14)'\n",
      "OpenCV: FFMPEG: fallback to use tag 0x7634706d/'mp4v'\n",
      "OpenCV: FFMPEG: fallback to use tag 0x7634706d/'mp4v'\n"
     ]
    },
    {
     "name": "stdout",
     "output_type": "stream",
     "text": [
      "Saved 12 frames to frames/id9_id17_0002\n",
      "Saved 10 frames to frames/id6_id9_0001\n",
      "Saved 17 frames to frames/id8_id6_0002\n",
      "Saved 12 frames to frames/id9_id1_0004\n",
      "Saved 15 frames to frames/id9_id16_0007\n",
      "Saved 15 frames to frames/id9_id17_0007\n",
      "Saved 9 frames to frames/id7_id13_0002\n",
      "Faces saved to faces/id4_id3_0002\n",
      "Saved 13 frames to frames/id9_id2_0006\n",
      "Saved 14 frames to frames/id4_id6_0007\n",
      "Saved 18 frames to frames/id6_id9_0007\n",
      "Face video saved to processed_videos/id4_id3_0002.mp4\n",
      "Saved 24 frames to frames/id7_id10_0004\n"
     ]
    },
    {
     "name": "stderr",
     "output_type": "stream",
     "text": [
      "OpenCV: FFMPEG: tag 0x5634504d/'MP4V' is not supported with codec id 12 and format 'mp4 / MP4 (MPEG-4 Part 14)'\n",
      "OpenCV: FFMPEG: fallback to use tag 0x7634706d/'mp4v'\n"
     ]
    },
    {
     "name": "stdout",
     "output_type": "stream",
     "text": [
      "Faces saved to faces/id9_id3_0006\n",
      "Face video saved to processed_videos/id9_id3_0006.mp4\n"
     ]
    },
    {
     "name": "stderr",
     "output_type": "stream",
     "text": [
      "OpenCV: FFMPEG: tag 0x5634504d/'MP4V' is not supported with codec id 12 and format 'mp4 / MP4 (MPEG-4 Part 14)'\n",
      "OpenCV: FFMPEG: fallback to use tag 0x7634706d/'mp4v'\n"
     ]
    },
    {
     "name": "stdout",
     "output_type": "stream",
     "text": [
      "Faces saved to faces/id6_id3_0005\n",
      "Saved 12 frames to frames/id6_id3_0003\n",
      "Face video saved to processed_videos/id6_id3_0005.mp4\n"
     ]
    },
    {
     "name": "stderr",
     "output_type": "stream",
     "text": [
      "OpenCV: FFMPEG: tag 0x5634504d/'MP4V' is not supported with codec id 12 and format 'mp4 / MP4 (MPEG-4 Part 14)'\n",
      "OpenCV: FFMPEG: fallback to use tag 0x7634706d/'mp4v'\n"
     ]
    },
    {
     "name": "stdout",
     "output_type": "stream",
     "text": [
      "Faces saved to faces/id8_id7_0003\n",
      "Faces saved to faces/id6_id1_0006\n",
      "Face video saved to processed_videos/id8_id7_0003.mp4\n",
      "Face video saved to processed_videos/id6_id1_0006.mp4\n"
     ]
    },
    {
     "name": "stderr",
     "output_type": "stream",
     "text": [
      "OpenCV: FFMPEG: tag 0x5634504d/'MP4V' is not supported with codec id 12 and format 'mp4 / MP4 (MPEG-4 Part 14)'\n",
      "OpenCV: FFMPEG: fallback to use tag 0x7634706d/'mp4v'\n",
      "OpenCV: FFMPEG: tag 0x5634504d/'MP4V' is not supported with codec id 12 and format 'mp4 / MP4 (MPEG-4 Part 14)'\n",
      "OpenCV: FFMPEG: fallback to use tag 0x7634706d/'mp4v'\n"
     ]
    },
    {
     "name": "stdout",
     "output_type": "stream",
     "text": [
      "Saved 15 frames to frames/id9_id3_0007\n",
      "Faces saved to faces/id6_id4_0008\n",
      "Face video saved to processed_videos/id6_id4_0008.mp4\n"
     ]
    },
    {
     "name": "stderr",
     "output_type": "stream",
     "text": [
      "OpenCV: FFMPEG: tag 0x5634504d/'MP4V' is not supported with codec id 12 and format 'mp4 / MP4 (MPEG-4 Part 14)'\n",
      "OpenCV: FFMPEG: fallback to use tag 0x7634706d/'mp4v'\n"
     ]
    },
    {
     "name": "stdout",
     "output_type": "stream",
     "text": [
      "Faces saved to faces/id6_id16_0001\n",
      "Face video saved to processed_videos/id6_id16_0001.mp4\n",
      "Faces saved to faces/id9_id2_0009\n",
      "Saved 17 frames to frames/id8_id3_0002\n",
      "Face video saved to processed_videos/id9_id2_0009.mp4\n"
     ]
    },
    {
     "name": "stderr",
     "output_type": "stream",
     "text": [
      "OpenCV: FFMPEG: tag 0x5634504d/'MP4V' is not supported with codec id 12 and format 'mp4 / MP4 (MPEG-4 Part 14)'\n",
      "OpenCV: FFMPEG: fallback to use tag 0x7634706d/'mp4v'\n",
      "OpenCV: FFMPEG: tag 0x5634504d/'MP4V' is not supported with codec id 12 and format 'mp4 / MP4 (MPEG-4 Part 14)'\n",
      "OpenCV: FFMPEG: fallback to use tag 0x7634706d/'mp4v'\n"
     ]
    },
    {
     "name": "stdout",
     "output_type": "stream",
     "text": [
      "Faces saved to faces/id7_id13_0007\n",
      "Face video saved to processed_videos/id7_id13_0007.mp4\n"
     ]
    },
    {
     "name": "stderr",
     "output_type": "stream",
     "text": [
      "OpenCV: FFMPEG: tag 0x5634504d/'MP4V' is not supported with codec id 12 and format 'mp4 / MP4 (MPEG-4 Part 14)'\n",
      "OpenCV: FFMPEG: fallback to use tag 0x7634706d/'mp4v'\n"
     ]
    },
    {
     "name": "stdout",
     "output_type": "stream",
     "text": [
      "Faces saved to faces/id4_id0_0007\n",
      "Faces saved to faces/id6_id0_0004\n",
      "Face video saved to processed_videos/id4_id0_0007.mp4Face video saved to processed_videos/id6_id0_0004.mp4\n",
      "\n"
     ]
    },
    {
     "name": "stderr",
     "output_type": "stream",
     "text": [
      "OpenCV: FFMPEG: tag 0x5634504d/'MP4V' is not supported with codec id 12 and format 'mp4 / MP4 (MPEG-4 Part 14)'\n",
      "OpenCV: FFMPEG: fallback to use tag 0x7634706d/'mp4v'\n",
      "OpenCV: FFMPEG: tag 0x5634504d/'MP4V' is not supported with codec id 12 and format 'mp4 / MP4 (MPEG-4 Part 14)'\n",
      "OpenCV: FFMPEG: fallback to use tag 0x7634706d/'mp4v'\n"
     ]
    },
    {
     "name": "stdout",
     "output_type": "stream",
     "text": [
      "Faces saved to faces/id9_id4_0006\n",
      "Face video saved to processed_videos/id9_id4_0006.mp4\n"
     ]
    },
    {
     "name": "stderr",
     "output_type": "stream",
     "text": [
      "OpenCV: FFMPEG: tag 0x5634504d/'MP4V' is not supported with codec id 12 and format 'mp4 / MP4 (MPEG-4 Part 14)'\n",
      "OpenCV: FFMPEG: fallback to use tag 0x7634706d/'mp4v'\n"
     ]
    },
    {
     "name": "stdout",
     "output_type": "stream",
     "text": [
      "Saved 19 frames to frames/id8_id9_0008\n",
      "Saved 14 frames to frames/id9_id3_0001\n",
      "Saved 17 frames to frames/id6_id4_0009\n",
      "Saved 15 frames to frames/id7_id13_0009\n",
      "Saved 20 frames to frames/id6_id16_0002\n",
      "Saved 15 frames to frames/id9_id4_0007\n",
      "Faces saved to faces/id7_id11_0001\n",
      "Face video saved to processed_videos/id7_id11_0001.mp4\n"
     ]
    },
    {
     "name": "stderr",
     "output_type": "stream",
     "text": [
      "OpenCV: FFMPEG: tag 0x5634504d/'MP4V' is not supported with codec id 12 and format 'mp4 / MP4 (MPEG-4 Part 14)'\n",
      "OpenCV: FFMPEG: fallback to use tag 0x7634706d/'mp4v'\n"
     ]
    },
    {
     "name": "stdout",
     "output_type": "stream",
     "text": [
      "Faces saved to faces/id8_id1_0007\n",
      "Face video saved to processed_videos/id8_id1_0007.mp4\n",
      "Faces saved to faces/id9_id3_0008\n",
      "Face video saved to processed_videos/id9_id3_0008.mp4\n"
     ]
    },
    {
     "name": "stderr",
     "output_type": "stream",
     "text": [
      "OpenCV: FFMPEG: tag 0x5634504d/'MP4V' is not supported with codec id 12 and format 'mp4 / MP4 (MPEG-4 Part 14)'\n",
      "OpenCV: FFMPEG: fallback to use tag 0x7634706d/'mp4v'\n",
      "OpenCV: FFMPEG: tag 0x5634504d/'MP4V' is not supported with codec id 12 and format 'mp4 / MP4 (MPEG-4 Part 14)'\n",
      "OpenCV: FFMPEG: fallback to use tag 0x7634706d/'mp4v'\n"
     ]
    },
    {
     "name": "stdout",
     "output_type": "stream",
     "text": [
      "Saved 14 frames to frames/id9_id2_0001\n",
      "Faces saved to faces/id4_id9_0002\n",
      "Face video saved to processed_videos/id4_id9_0002.mp4\n",
      "Faces saved to faces/id8_id1_0003\n",
      "Face video saved to processed_videos/id8_id1_0003.mp4\n"
     ]
    },
    {
     "name": "stderr",
     "output_type": "stream",
     "text": [
      "OpenCV: FFMPEG: tag 0x5634504d/'MP4V' is not supported with codec id 12 and format 'mp4 / MP4 (MPEG-4 Part 14)'\n",
      "OpenCV: FFMPEG: fallback to use tag 0x7634706d/'mp4v'\n",
      "OpenCV: FFMPEG: tag 0x5634504d/'MP4V' is not supported with codec id 12 and format 'mp4 / MP4 (MPEG-4 Part 14)'\n",
      "OpenCV: FFMPEG: fallback to use tag 0x7634706d/'mp4v'\n"
     ]
    },
    {
     "name": "stdout",
     "output_type": "stream",
     "text": [
      "Faces saved to faces/id4_id1_0004\n",
      "Face video saved to processed_videos/id4_id1_0004.mp4\n"
     ]
    },
    {
     "name": "stderr",
     "output_type": "stream",
     "text": [
      "OpenCV: FFMPEG: tag 0x5634504d/'MP4V' is not supported with codec id 12 and format 'mp4 / MP4 (MPEG-4 Part 14)'\n",
      "OpenCV: FFMPEG: fallback to use tag 0x7634706d/'mp4v'\n"
     ]
    },
    {
     "name": "stdout",
     "output_type": "stream",
     "text": [
      "Faces saved to faces/id6_id9_0005\n",
      "Face video saved to processed_videos/id6_id9_0005.mp4\n",
      "Faces saved to faces/id4_id2_0006\n",
      "Face video saved to processed_videos/id4_id2_0006.mp4\n",
      "Saved 12 frames to frames/id6_id9_0003\n"
     ]
    },
    {
     "name": "stderr",
     "output_type": "stream",
     "text": [
      "OpenCV: FFMPEG: tag 0x5634504d/'MP4V' is not supported with codec id 12 and format 'mp4 / MP4 (MPEG-4 Part 14)'\n",
      "OpenCV: FFMPEG: fallback to use tag 0x7634706d/'mp4v'\n",
      "OpenCV: FFMPEG: tag 0x5634504d/'MP4V' is not supported with codec id 12 and format 'mp4 / MP4 (MPEG-4 Part 14)'\n",
      "OpenCV: FFMPEG: fallback to use tag 0x7634706d/'mp4v'\n"
     ]
    },
    {
     "name": "stdout",
     "output_type": "stream",
     "text": [
      "Faces saved to faces/id7_id12_0004\n",
      "Face video saved to processed_videos/id7_id12_0004.mp4\n",
      "Faces saved to faces/id6_id4_0001\n"
     ]
    },
    {
     "name": "stderr",
     "output_type": "stream",
     "text": [
      "OpenCV: FFMPEG: tag 0x5634504d/'MP4V' is not supported with codec id 12 and format 'mp4 / MP4 (MPEG-4 Part 14)'\n",
      "OpenCV: FFMPEG: fallback to use tag 0x7634706d/'mp4v'\n",
      "OpenCV: FFMPEG: tag 0x5634504d/'MP4V' is not supported with codec id 12 and format 'mp4 / MP4 (MPEG-4 Part 14)'\n",
      "OpenCV: FFMPEG: fallback to use tag 0x7634706d/'mp4v'\n"
     ]
    },
    {
     "name": "stdout",
     "output_type": "stream",
     "text": [
      "Face video saved to processed_videos/id6_id4_0001.mp4\n",
      "Faces saved to faces/id7_id11_0007\n",
      "Face video saved to processed_videos/id7_id11_0007.mp4\n"
     ]
    },
    {
     "name": "stderr",
     "output_type": "stream",
     "text": [
      "OpenCV: FFMPEG: tag 0x5634504d/'MP4V' is not supported with codec id 12 and format 'mp4 / MP4 (MPEG-4 Part 14)'\n",
      "OpenCV: FFMPEG: fallback to use tag 0x7634706d/'mp4v'\n"
     ]
    },
    {
     "name": "stdout",
     "output_type": "stream",
     "text": [
      "Saved 5 frames to frames/id7_id12_0005\n",
      "Saved 17 frames to frames/id8_id9_0002\n",
      "Faces saved to faces/id6_id17_0001\n",
      "Face video saved to processed_videos/id6_id17_0001.mp4\n"
     ]
    },
    {
     "name": "stderr",
     "output_type": "stream",
     "text": [
      "OpenCV: FFMPEG: tag 0x5634504d/'MP4V' is not supported with codec id 12 and format 'mp4 / MP4 (MPEG-4 Part 14)'\n",
      "OpenCV: FFMPEG: fallback to use tag 0x7634706d/'mp4v'\n"
     ]
    },
    {
     "name": "stdout",
     "output_type": "stream",
     "text": [
      "Faces saved to faces/id6_id2_0005\n",
      "Saved 15 frames to frames/id6_id4_0004\n",
      "Face video saved to processed_videos/id6_id2_0005.mp4Faces saved to faces/id7_id13_0002\n",
      "\n",
      "Face video saved to processed_videos/id7_id13_0002.mp4\n"
     ]
    },
    {
     "name": "stderr",
     "output_type": "stream",
     "text": [
      "OpenCV: FFMPEG: tag 0x5634504d/'MP4V' is not supported with codec id 12 and format 'mp4 / MP4 (MPEG-4 Part 14)'\n",
      "OpenCV: FFMPEG: fallback to use tag 0x7634706d/'mp4v'\n",
      "OpenCV: FFMPEG: tag 0x5634504d/'MP4V' is not supported with codec id 12 and format 'mp4 / MP4 (MPEG-4 Part 14)'\n",
      "OpenCV: FFMPEG: fallback to use tag 0x7634706d/'mp4v'\n"
     ]
    },
    {
     "name": "stdout",
     "output_type": "stream",
     "text": [
      "Faces saved to faces/id6_id9_0001\n",
      "Face video saved to processed_videos/id6_id9_0001.mp4\n",
      "Faces saved to faces/id9_id16_0002\n",
      "Face video saved to processed_videos/id9_id16_0002.mp4\n"
     ]
    },
    {
     "name": "stderr",
     "output_type": "stream",
     "text": [
      "OpenCV: FFMPEG: tag 0x5634504d/'MP4V' is not supported with codec id 12 and format 'mp4 / MP4 (MPEG-4 Part 14)'\n",
      "OpenCV: FFMPEG: fallback to use tag 0x7634706d/'mp4v'\n",
      "OpenCV: FFMPEG: tag 0x5634504d/'MP4V' is not supported with codec id 12 and format 'mp4 / MP4 (MPEG-4 Part 14)'\n",
      "OpenCV: FFMPEG: fallback to use tag 0x7634706d/'mp4v'\n"
     ]
    },
    {
     "name": "stdout",
     "output_type": "stream",
     "text": [
      "Saved 20 frames to frames/id6_id17_0002\n",
      "Saved 16 frames to frames/id9_id16_0003\n",
      "Faces saved to faces/id4_id2_0008\n",
      "Face video saved to processed_videos/id4_id2_0008.mp4\n"
     ]
    },
    {
     "name": "stderr",
     "output_type": "stream",
     "text": [
      "OpenCV: FFMPEG: tag 0x5634504d/'MP4V' is not supported with codec id 12 and format 'mp4 / MP4 (MPEG-4 Part 14)'\n",
      "OpenCV: FFMPEG: fallback to use tag 0x7634706d/'mp4v'\n"
     ]
    },
    {
     "name": "stdout",
     "output_type": "stream",
     "text": [
      "Faces saved to faces/id4_id2_0002\n",
      "Face video saved to processed_videos/id4_id2_0002.mp4\n"
     ]
    },
    {
     "name": "stderr",
     "output_type": "stream",
     "text": [
      "OpenCV: FFMPEG: tag 0x5634504d/'MP4V' is not supported with codec id 12 and format 'mp4 / MP4 (MPEG-4 Part 14)'\n",
      "OpenCV: FFMPEG: fallback to use tag 0x7634706d/'mp4v'\n"
     ]
    },
    {
     "name": "stdout",
     "output_type": "stream",
     "text": [
      "Faces saved to faces/id9_id2_0006\n",
      "Face video saved to processed_videos/id9_id2_0006.mp4\n"
     ]
    },
    {
     "name": "stderr",
     "output_type": "stream",
     "text": [
      "OpenCV: FFMPEG: tag 0x5634504d/'MP4V' is not supported with codec id 12 and format 'mp4 / MP4 (MPEG-4 Part 14)'\n",
      "OpenCV: FFMPEG: fallback to use tag 0x7634706d/'mp4v'\n"
     ]
    },
    {
     "name": "stdout",
     "output_type": "stream",
     "text": [
      "Faces saved to faces/id9_id16_0007\n",
      "Face video saved to processed_videos/id9_id16_0007.mp4\n",
      "Faces saved to faces/id9_id0_0008\n"
     ]
    },
    {
     "name": "stderr",
     "output_type": "stream",
     "text": [
      "OpenCV: FFMPEG: tag 0x5634504d/'MP4V' is not supported with codec id 12 and format 'mp4 / MP4 (MPEG-4 Part 14)'\n",
      "OpenCV: FFMPEG: fallback to use tag 0x7634706d/'mp4v'\n"
     ]
    },
    {
     "name": "stdout",
     "output_type": "stream",
     "text": [
      "Face video saved to processed_videos/id9_id0_0008.mp4\n"
     ]
    },
    {
     "name": "stderr",
     "output_type": "stream",
     "text": [
      "OpenCV: FFMPEG: tag 0x5634504d/'MP4V' is not supported with codec id 12 and format 'mp4 / MP4 (MPEG-4 Part 14)'\n",
      "OpenCV: FFMPEG: fallback to use tag 0x7634706d/'mp4v'\n"
     ]
    },
    {
     "name": "stdout",
     "output_type": "stream",
     "text": [
      "Saved 15 frames to frames/id9_id2_0007\n",
      "Faces saved to faces/id9_id17_0002\n",
      "Face video saved to processed_videos/id9_id17_0002.mp4\n"
     ]
    },
    {
     "name": "stderr",
     "output_type": "stream",
     "text": [
      "OpenCV: FFMPEG: tag 0x5634504d/'MP4V' is not supported with codec id 12 and format 'mp4 / MP4 (MPEG-4 Part 14)'\n",
      "OpenCV: FFMPEG: fallback to use tag 0x7634706d/'mp4v'\n"
     ]
    },
    {
     "name": "stdout",
     "output_type": "stream",
     "text": [
      "Faces saved to faces/id4_id6_0007\n",
      "Face video saved to processed_videos/id4_id6_0007.mp4\n",
      "Saved 15 frames to frames/id9_id16_0008\n",
      "Saved 14 frames to frames/id9_id1_0000\n"
     ]
    },
    {
     "name": "stderr",
     "output_type": "stream",
     "text": [
      "OpenCV: FFMPEG: tag 0x5634504d/'MP4V' is not supported with codec id 12 and format 'mp4 / MP4 (MPEG-4 Part 14)'\n",
      "OpenCV: FFMPEG: fallback to use tag 0x7634706d/'mp4v'\n"
     ]
    },
    {
     "name": "stdout",
     "output_type": "stream",
     "text": [
      "Faces saved to faces/id8_id5_0002\n",
      "Face video saved to processed_videos/id8_id5_0002.mp4\n"
     ]
    },
    {
     "name": "stderr",
     "output_type": "stream",
     "text": [
      "OpenCV: FFMPEG: tag 0x5634504d/'MP4V' is not supported with codec id 12 and format 'mp4 / MP4 (MPEG-4 Part 14)'\n",
      "OpenCV: FFMPEG: fallback to use tag 0x7634706d/'mp4v'\n"
     ]
    },
    {
     "name": "stdout",
     "output_type": "stream",
     "text": [
      "Saved 16 frames to frames/id9_id17_0003\n",
      "Faces saved to faces/id6_id3_0003\n",
      "Face video saved to processed_videos/id6_id3_0003.mp4\n",
      "Saved 13 frames to frames/id8_id5_0003\n"
     ]
    },
    {
     "name": "stderr",
     "output_type": "stream",
     "text": [
      "OpenCV: FFMPEG: tag 0x5634504d/'MP4V' is not supported with codec id 12 and format 'mp4 / MP4 (MPEG-4 Part 14)'\n",
      "OpenCV: FFMPEG: fallback to use tag 0x7634706d/'mp4v'\n"
     ]
    },
    {
     "name": "stdout",
     "output_type": "stream",
     "text": [
      "Faces saved to faces/id9_id17_0007\n",
      "Face video saved to processed_videos/id9_id17_0007.mp4\n",
      "Faces saved to faces/id7_id12_0005\n",
      "Face video saved to processed_videos/id7_id12_0005.mp4\n"
     ]
    },
    {
     "name": "stderr",
     "output_type": "stream",
     "text": [
      "OpenCV: FFMPEG: tag 0x5634504d/'MP4V' is not supported with codec id 12 and format 'mp4 / MP4 (MPEG-4 Part 14)'\n",
      "OpenCV: FFMPEG: fallback to use tag 0x7634706d/'mp4v'\n",
      "OpenCV: FFMPEG: tag 0x5634504d/'MP4V' is not supported with codec id 12 and format 'mp4 / MP4 (MPEG-4 Part 14)'\n",
      "OpenCV: FFMPEG: fallback to use tag 0x7634706d/'mp4v'\n"
     ]
    },
    {
     "name": "stdout",
     "output_type": "stream",
     "text": [
      "Faces saved to faces/id6_id3_0007\n",
      "Face video saved to processed_videos/id6_id3_0007.mp4\n",
      "Faces saved to faces/id9_id0_0003\n",
      "Faces saved to faces/id9_id1_0004\n",
      "Face video saved to processed_videos/id9_id0_0003.mp4\n",
      "Face video saved to processed_videos/id9_id1_0004.mp4\n"
     ]
    },
    {
     "name": "stderr",
     "output_type": "stream",
     "text": [
      "OpenCV: FFMPEG: tag 0x5634504d/'MP4V' is not supported with codec id 12 and format 'mp4 / MP4 (MPEG-4 Part 14)'\n",
      "OpenCV: FFMPEG: fallback to use tag 0x7634706d/'mp4v'\n",
      "OpenCV: FFMPEG: tag 0x5634504d/'MP4V' is not supported with codec id 12 and format 'mp4 / MP4 (MPEG-4 Part 14)'\n",
      "OpenCV: FFMPEG: fallback to use tag 0x7634706d/'mp4v'\n",
      "OpenCV: FFMPEG: tag 0x5634504d/'MP4V' is not supported with codec id 12 and format 'mp4 / MP4 (MPEG-4 Part 14)'\n",
      "OpenCV: FFMPEG: fallback to use tag 0x7634706d/'mp4v'\n"
     ]
    },
    {
     "name": "stdout",
     "output_type": "stream",
     "text": [
      "Saved 15 frames to frames/id9_id17_0008\n",
      "Faces saved to faces/id4_id3_0001\n",
      "Faces saved to faces/id4_id6_0001\n",
      "Face video saved to processed_videos/id4_id3_0001.mp4\n",
      "Face video saved to processed_videos/id4_id6_0001.mp4\n",
      "Saved 12 frames to frames/id9_id0_0004\n"
     ]
    },
    {
     "name": "stderr",
     "output_type": "stream",
     "text": [
      "OpenCV: FFMPEG: tag 0x5634504d/'MP4V' is not supported with codec id 12 and format 'mp4 / MP4 (MPEG-4 Part 14)'\n",
      "OpenCV: FFMPEG: fallback to use tag 0x7634706d/'mp4v'\n",
      "OpenCV: FFMPEG: tag 0x5634504d/'MP4V' is not supported with codec id 12 and format 'mp4 / MP4 (MPEG-4 Part 14)'\n",
      "OpenCV: FFMPEG: fallback to use tag 0x7634706d/'mp4v'\n"
     ]
    },
    {
     "name": "stdout",
     "output_type": "stream",
     "text": [
      "Saved 14 frames to frames/id9_id1_0005\n",
      "Faces saved to faces/id9_id3_0001\n",
      "Face video saved to processed_videos/id9_id3_0001.mp4\n"
     ]
    },
    {
     "name": "stderr",
     "output_type": "stream",
     "text": [
      "OpenCV: FFMPEG: tag 0x5634504d/'MP4V' is not supported with codec id 12 and format 'mp4 / MP4 (MPEG-4 Part 14)'\n",
      "OpenCV: FFMPEG: fallback to use tag 0x7634706d/'mp4v'\n"
     ]
    },
    {
     "name": "stdout",
     "output_type": "stream",
     "text": [
      "Faces saved to faces/id8_id6_0002\n",
      "Face video saved to processed_videos/id8_id6_0002.mp4\n",
      "Saved 12 frames to frames/id9_id3_0002\n",
      "Faces saved to faces/id9_id3_0007\n"
     ]
    },
    {
     "name": "stderr",
     "output_type": "stream",
     "text": [
      "OpenCV: FFMPEG: tag 0x5634504d/'MP4V' is not supported with codec id 12 and format 'mp4 / MP4 (MPEG-4 Part 14)'\n",
      "OpenCV: FFMPEG: fallback to use tag 0x7634706d/'mp4v'\n",
      "OpenCV: FFMPEG: tag 0x5634504d/'MP4V' is not supported with codec id 12 and format 'mp4 / MP4 (MPEG-4 Part 14)'\n",
      "OpenCV: FFMPEG: fallback to use tag 0x7634706d/'mp4v'\n"
     ]
    },
    {
     "name": "stdout",
     "output_type": "stream",
     "text": [
      "Face video saved to processed_videos/id9_id3_0007.mp4\n",
      "Faces saved to faces/id6_id0_0002\n",
      "Face video saved to processed_videos/id6_id0_0002.mp4\n"
     ]
    },
    {
     "name": "stderr",
     "output_type": "stream",
     "text": [
      "OpenCV: FFMPEG: tag 0x5634504d/'MP4V' is not supported with codec id 12 and format 'mp4 / MP4 (MPEG-4 Part 14)'\n",
      "OpenCV: FFMPEG: fallback to use tag 0x7634706d/'mp4v'\n"
     ]
    },
    {
     "name": "stdout",
     "output_type": "stream",
     "text": [
      "Faces saved to faces/id6_id17_0007\n",
      "Face video saved to processed_videos/id6_id17_0007.mp4\n",
      "Faces saved to faces/id6_id9_0007\n",
      "Face video saved to processed_videos/id6_id9_0007.mp4\n"
     ]
    },
    {
     "name": "stderr",
     "output_type": "stream",
     "text": [
      "OpenCV: FFMPEG: tag 0x5634504d/'MP4V' is not supported with codec id 12 and format 'mp4 / MP4 (MPEG-4 Part 14)'\n",
      "OpenCV: FFMPEG: fallback to use tag 0x7634706d/'mp4v'\n",
      "OpenCV: FFMPEG: tag 0x5634504d/'MP4V' is not supported with codec id 12 and format 'mp4 / MP4 (MPEG-4 Part 14)'\n",
      "OpenCV: FFMPEG: fallback to use tag 0x7634706d/'mp4v'\n"
     ]
    },
    {
     "name": "stdout",
     "output_type": "stream",
     "text": [
      "Faces saved to faces/id6_id4_0009\n",
      "Saved 12 frames to frames/id9_id4_0002\n",
      "Faces saved to faces/id6_id16_0007\n",
      "Face video saved to processed_videos/id6_id4_0009.mp4\n",
      "Face video saved to processed_videos/id6_id16_0007.mp4\n"
     ]
    },
    {
     "name": "stderr",
     "output_type": "stream",
     "text": [
      "OpenCV: FFMPEG: tag 0x5634504d/'MP4V' is not supported with codec id 12 and format 'mp4 / MP4 (MPEG-4 Part 14)'\n",
      "OpenCV: FFMPEG: fallback to use tag 0x7634706d/'mp4v'\n",
      "OpenCV: FFMPEG: tag 0x5634504d/'MP4V' is not supported with codec id 12 and format 'mp4 / MP4 (MPEG-4 Part 14)'\n",
      "OpenCV: FFMPEG: fallback to use tag 0x7634706d/'mp4v'\n"
     ]
    },
    {
     "name": "stdout",
     "output_type": "stream",
     "text": [
      "Faces saved to faces/id9_id2_0001\n",
      "Face video saved to processed_videos/id9_id2_0001.mp4\n"
     ]
    },
    {
     "name": "stderr",
     "output_type": "stream",
     "text": [
      "OpenCV: FFMPEG: tag 0x5634504d/'MP4V' is not supported with codec id 12 and format 'mp4 / MP4 (MPEG-4 Part 14)'\n",
      "OpenCV: FFMPEG: fallback to use tag 0x7634706d/'mp4v'\n"
     ]
    },
    {
     "name": "stdout",
     "output_type": "stream",
     "text": [
      "Faces saved to faces/id7_id13_0009\n",
      "Face video saved to processed_videos/id7_id13_0009.mp4\n"
     ]
    },
    {
     "name": "stderr",
     "output_type": "stream",
     "text": [
      "OpenCV: FFMPEG: tag 0x5634504d/'MP4V' is not supported with codec id 12 and format 'mp4 / MP4 (MPEG-4 Part 14)'\n",
      "OpenCV: FFMPEG: fallback to use tag 0x7634706d/'mp4v'\n"
     ]
    },
    {
     "name": "stdout",
     "output_type": "stream",
     "text": [
      "Faces saved to faces/id6_id9_0003\n",
      "Face video saved to processed_videos/id6_id9_0003.mp4\n",
      "Saved 10 frames to frames/id9_id3_0009\n",
      "Faces saved to faces/id8_id3_0002Faces saved to faces/id9_id4_0007\n",
      "\n",
      "Face video saved to processed_videos/id9_id4_0007.mp4Face video saved to processed_videos/id8_id3_0002.mp4\n",
      "\n"
     ]
    },
    {
     "name": "stderr",
     "output_type": "stream",
     "text": [
      "OpenCV: FFMPEG: tag 0x5634504d/'MP4V' is not supported with codec id 12 and format 'mp4 / MP4 (MPEG-4 Part 14)'\n",
      "OpenCV: FFMPEG: fallback to use tag 0x7634706d/'mp4v'\n",
      "OpenCV: FFMPEG: tag 0x5634504d/'MP4V' is not supported with codec id 12 and format 'mp4 / MP4 (MPEG-4 Part 14)'\n",
      "OpenCV: FFMPEG: fallback to use tag 0x7634706d/'mp4v'\n",
      "OpenCV: FFMPEG: tag 0x5634504d/'MP4V' is not supported with codec id 12 and format 'mp4 / MP4 (MPEG-4 Part 14)'\n",
      "OpenCV: FFMPEG: fallback to use tag 0x7634706d/'mp4v'\n"
     ]
    },
    {
     "name": "stdout",
     "output_type": "stream",
     "text": [
      "Saved 15 frames to frames/id9_id4_0008\n",
      "Faces saved to faces/id8_id9_0008\n",
      "Face video saved to processed_videos/id8_id9_0008.mp4\n"
     ]
    },
    {
     "name": "stderr",
     "output_type": "stream",
     "text": [
      "OpenCV: FFMPEG: tag 0x5634504d/'MP4V' is not supported with codec id 12 and format 'mp4 / MP4 (MPEG-4 Part 14)'\n",
      "OpenCV: FFMPEG: fallback to use tag 0x7634706d/'mp4v'\n"
     ]
    },
    {
     "name": "stdout",
     "output_type": "stream",
     "text": [
      "Faces saved to faces/id6_id16_0002\n",
      "Face video saved to processed_videos/id6_id16_0002.mp4\n",
      "Saved 14 frames to frames/id9_id0_0000\n"
     ]
    },
    {
     "name": "stderr",
     "output_type": "stream",
     "text": [
      "OpenCV: FFMPEG: tag 0x5634504d/'MP4V' is not supported with codec id 12 and format 'mp4 / MP4 (MPEG-4 Part 14)'\n",
      "OpenCV: FFMPEG: fallback to use tag 0x7634706d/'mp4v'\n"
     ]
    },
    {
     "name": "stdout",
     "output_type": "stream",
     "text": [
      "Faces saved to faces/id7_id10_0004\n",
      "Face video saved to processed_videos/id7_id10_0004.mp4\n"
     ]
    },
    {
     "name": "stderr",
     "output_type": "stream",
     "text": [
      "OpenCV: FFMPEG: tag 0x5634504d/'MP4V' is not supported with codec id 12 and format 'mp4 / MP4 (MPEG-4 Part 14)'\n",
      "OpenCV: FFMPEG: fallback to use tag 0x7634706d/'mp4v'\n"
     ]
    },
    {
     "name": "stdout",
     "output_type": "stream",
     "text": [
      "Faces saved to faces/id8_id9_0002\n",
      "Face video saved to processed_videos/id8_id9_0002.mp4\n",
      "Faces saved to faces/id6_id4_0004\n",
      "Face video saved to processed_videos/id6_id4_0004.mp4\n"
     ]
    },
    {
     "name": "stderr",
     "output_type": "stream",
     "text": [
      "OpenCV: FFMPEG: tag 0x5634504d/'MP4V' is not supported with codec id 12 and format 'mp4 / MP4 (MPEG-4 Part 14)'\n",
      "OpenCV: FFMPEG: fallback to use tag 0x7634706d/'mp4v'\n",
      "OpenCV: FFMPEG: tag 0x5634504d/'MP4V' is not supported with codec id 12 and format 'mp4 / MP4 (MPEG-4 Part 14)'\n",
      "OpenCV: FFMPEG: fallback to use tag 0x7634706d/'mp4v'\n"
     ]
    },
    {
     "name": "stdout",
     "output_type": "stream",
     "text": [
      "Faces saved to faces/id9_id16_0003\n",
      "Face video saved to processed_videos/id9_id16_0003.mp4\n",
      "Faces saved to faces/id9_id1_0000\n",
      "Faces saved to faces/id8_id5_0003\n",
      "Face video saved to processed_videos/id9_id1_0000.mp4\n",
      "Face video saved to processed_videos/id8_id5_0003.mp4\n",
      "Faces saved to faces/id9_id2_0007\n",
      "Face video saved to processed_videos/id9_id2_0007.mp4\n"
     ]
    },
    {
     "name": "stderr",
     "output_type": "stream",
     "text": [
      "OpenCV: FFMPEG: tag 0x5634504d/'MP4V' is not supported with codec id 12 and format 'mp4 / MP4 (MPEG-4 Part 14)'\n",
      "OpenCV: FFMPEG: fallback to use tag 0x7634706d/'mp4v'\n",
      "OpenCV: FFMPEG: tag 0x5634504d/'MP4V' is not supported with codec id 12 and format 'mp4 / MP4 (MPEG-4 Part 14)'\n",
      "OpenCV: FFMPEG: fallback to use tag 0x7634706d/'mp4v'\n",
      "OpenCV: FFMPEG: tag 0x5634504d/'MP4V' is not supported with codec id 12 and format 'mp4 / MP4 (MPEG-4 Part 14)'\n",
      "OpenCV: FFMPEG: fallback to use tag 0x7634706d/'mp4v'\n",
      "OpenCV: FFMPEG: tag 0x5634504d/'MP4V' is not supported with codec id 12 and format 'mp4 / MP4 (MPEG-4 Part 14)'\n",
      "OpenCV: FFMPEG: fallback to use tag 0x7634706d/'mp4v'\n"
     ]
    },
    {
     "name": "stdout",
     "output_type": "stream",
     "text": [
      "Faces saved to faces/id9_id16_0008\n",
      "Face video saved to processed_videos/id9_id16_0008.mp4\n",
      "Faces saved to faces/id6_id17_0002\n",
      "Face video saved to processed_videos/id6_id17_0002.mp4\n"
     ]
    },
    {
     "name": "stderr",
     "output_type": "stream",
     "text": [
      "OpenCV: FFMPEG: tag 0x5634504d/'MP4V' is not supported with codec id 12 and format 'mp4 / MP4 (MPEG-4 Part 14)'\n",
      "OpenCV: FFMPEG: fallback to use tag 0x7634706d/'mp4v'\n",
      "OpenCV: FFMPEG: tag 0x5634504d/'MP4V' is not supported with codec id 12 and format 'mp4 / MP4 (MPEG-4 Part 14)'\n",
      "OpenCV: FFMPEG: fallback to use tag 0x7634706d/'mp4v'\n"
     ]
    },
    {
     "name": "stdout",
     "output_type": "stream",
     "text": [
      "Faces saved to faces/id9_id3_0002\n",
      "Face video saved to processed_videos/id9_id3_0002.mp4\n",
      "Faces saved to faces/id9_id1_0005\n",
      "Face video saved to processed_videos/id9_id1_0005.mp4\n",
      "Faces saved to faces/id9_id0_0004\n",
      "Face video saved to processed_videos/id9_id0_0004.mp4\n"
     ]
    },
    {
     "name": "stderr",
     "output_type": "stream",
     "text": [
      "OpenCV: FFMPEG: tag 0x5634504d/'MP4V' is not supported with codec id 12 and format 'mp4 / MP4 (MPEG-4 Part 14)'\n",
      "OpenCV: FFMPEG: fallback to use tag 0x7634706d/'mp4v'\n",
      "OpenCV: FFMPEG: tag 0x5634504d/'MP4V' is not supported with codec id 12 and format 'mp4 / MP4 (MPEG-4 Part 14)'\n",
      "OpenCV: FFMPEG: fallback to use tag 0x7634706d/'mp4v'\n",
      "OpenCV: FFMPEG: tag 0x5634504d/'MP4V' is not supported with codec id 12 and format 'mp4 / MP4 (MPEG-4 Part 14)'\n",
      "OpenCV: FFMPEG: fallback to use tag 0x7634706d/'mp4v'\n"
     ]
    },
    {
     "name": "stdout",
     "output_type": "stream",
     "text": [
      "Faces saved to faces/id9_id3_0009\n",
      "Face video saved to processed_videos/id9_id3_0009.mp4\n",
      "Faces saved to faces/id9_id17_0008\n",
      "Face video saved to processed_videos/id9_id17_0008.mp4\n"
     ]
    },
    {
     "name": "stderr",
     "output_type": "stream",
     "text": [
      "OpenCV: FFMPEG: tag 0x5634504d/'MP4V' is not supported with codec id 12 and format 'mp4 / MP4 (MPEG-4 Part 14)'\n",
      "OpenCV: FFMPEG: fallback to use tag 0x7634706d/'mp4v'\n",
      "OpenCV: FFMPEG: tag 0x5634504d/'MP4V' is not supported with codec id 12 and format 'mp4 / MP4 (MPEG-4 Part 14)'\n",
      "OpenCV: FFMPEG: fallback to use tag 0x7634706d/'mp4v'\n"
     ]
    },
    {
     "name": "stdout",
     "output_type": "stream",
     "text": [
      "Faces saved to faces/id9_id4_0002\n",
      "Face video saved to processed_videos/id9_id4_0002.mp4\n",
      "Faces saved to faces/id9_id17_0003\n",
      "Face video saved to processed_videos/id9_id17_0003.mp4\n"
     ]
    },
    {
     "name": "stderr",
     "output_type": "stream",
     "text": [
      "OpenCV: FFMPEG: tag 0x5634504d/'MP4V' is not supported with codec id 12 and format 'mp4 / MP4 (MPEG-4 Part 14)'\n",
      "OpenCV: FFMPEG: fallback to use tag 0x7634706d/'mp4v'\n",
      "OpenCV: FFMPEG: tag 0x5634504d/'MP4V' is not supported with codec id 12 and format 'mp4 / MP4 (MPEG-4 Part 14)'\n",
      "OpenCV: FFMPEG: fallback to use tag 0x7634706d/'mp4v'\n"
     ]
    },
    {
     "name": "stdout",
     "output_type": "stream",
     "text": [
      "Faces saved to faces/id9_id4_0008\n",
      "Face video saved to processed_videos/id9_id4_0008.mp4\n"
     ]
    },
    {
     "name": "stderr",
     "output_type": "stream",
     "text": [
      "OpenCV: FFMPEG: tag 0x5634504d/'MP4V' is not supported with codec id 12 and format 'mp4 / MP4 (MPEG-4 Part 14)'\n",
      "OpenCV: FFMPEG: fallback to use tag 0x7634706d/'mp4v'\n"
     ]
    },
    {
     "name": "stdout",
     "output_type": "stream",
     "text": [
      "Faces saved to faces/id9_id0_0000\n",
      "Face video saved to processed_videos/id9_id0_0000.mp4\n"
     ]
    },
    {
     "name": "stderr",
     "output_type": "stream",
     "text": [
      "OpenCV: FFMPEG: tag 0x5634504d/'MP4V' is not supported with codec id 12 and format 'mp4 / MP4 (MPEG-4 Part 14)'\n",
      "OpenCV: FFMPEG: fallback to use tag 0x7634706d/'mp4v'\n"
     ]
    },
    {
     "name": "stdout",
     "output_type": "stream",
     "text": [
      "Processed video labels saved to processed_video_labels.json\n"
     ]
    }
   ],
   "source": [
    "import os\n",
    "import json\n",
    "import glob\n",
    "\n",
    "def create_label_dictionary_for_processed_videos(processed_videos_dir, original_label_dict):\n",
    "    \"\"\"\n",
    "    Create a label dictionary for processed face videos\n",
    "    \"\"\"\n",
    "    face_videos = glob.glob(os.path.join(processed_videos_dir, '*.mp4'))\n",
    "    \n",
    "    face_video_labels = {}\n",
    "    for video_path in face_videos:\n",
    "        # Lấy tên video gốc (trước khi xử lý face)\n",
    "        original_name = os.path.splitext(os.path.basename(video_path))[0]\n",
    "        \n",
    "        # Tra label từ từ điển gốc\n",
    "        if original_name in original_label_dict:\n",
    "            face_video_labels[os.path.basename(video_path)] = original_label_dict[original_name]\n",
    "    \n",
    "    return face_video_labels\n",
    "\n",
    "def save_label_dictionary(label_dict, output_path='processed_video_labels.json'):\n",
    "    \"\"\"\n",
    "    Save label dictionary for processed videos to a JSON file\n",
    "    \"\"\"\n",
    "    with open(output_path, 'w') as f:\n",
    "        json.dump(label_dict, f)\n",
    "    print(f\"Processed video labels saved to {output_path}\")\n",
    "\n",
    "def load_label_dictionary(input_path='processed_video_labels.json'):\n",
    "    \"\"\"\n",
    "    Load label dictionary for processed videos from a JSON file\n",
    "    \"\"\"\n",
    "    if os.path.exists(input_path):\n",
    "        with open(input_path, 'r') as f:\n",
    "            return json.load(f)\n",
    "    return None\n",
    "\n",
    "# Trong quá trình xử lý video\n",
    "base_path = '/'\n",
    "\n",
    "# Tạo từ điển label gốc\n",
    "original_label_dict = {}\n",
    "real_videos = (\n",
    "    glob.glob(os.path.join(base_path, 'Celeb-real', '*.mp4')) + \n",
    "    glob.glob(os.path.join(base_path, 'YouTube-real', '*.mp4'))\n",
    ")\n",
    "fake_videos = glob.glob(os.path.join(base_path, 'Celeb-synthesis', '*.mp4'))\n",
    "\n",
    "for v in real_videos:\n",
    "    video_name = os.path.splitext(os.path.basename(v))[0]\n",
    "    original_label_dict[video_name] = 1  # real\n",
    "for v in fake_videos:\n",
    "    video_name = os.path.splitext(os.path.basename(v))[0]\n",
    "    original_label_dict[video_name] = 0  # fake\n",
    "\n",
    "# Thực hiện song song việc xử lý video\n",
    "parallel_video_processing(all_videos)\n",
    "\n",
    "# Tạo và lưu labels cho các video face đã xử lý\n",
    "processed_videos_dir = 'processed_videos'\n",
    "processed_video_labels = create_label_dictionary_for_processed_videos(processed_videos_dir, original_label_dict)\n",
    "save_label_dictionary(processed_video_labels)\n",
    "\n",
    "# Sử dụng labels đã lưu cho việc chia tập train/test\n",
    "processed_videos = glob.glob('processed_videos/*.mp4')\n",
    "processed_names = [os.path.basename(p) for p in processed_videos]\n",
    "processed_labels = [processed_video_labels[name] for name in processed_names]"
   ]
  },
  {
   "cell_type": "code",
   "execution_count": 11,
   "id": "d72889fd-cd14-423f-8d5f-497d4b85532f",
   "metadata": {
    "scrolled": true
   },
   "outputs": [
    {
     "name": "stdout",
     "output_type": "stream",
     "text": [
      "Xử lý xong lọc background chỉ giữ face ở video\n"
     ]
    }
   ],
   "source": [
    "print(\"Xử lý xong lọc background chỉ giữ face ở video\")"
   ]
  },
  {
   "cell_type": "code",
   "execution_count": 14,
   "id": "77c61ede-21cf-46b4-bd51-872623a5cb29",
   "metadata": {},
   "outputs": [],
   "source": [
    "# Chia tập train/val/test\n",
    "train_val_videos, test_videos, train_val_labels, test_labels = train_test_split(\n",
    "    processed_videos, \n",
    "    processed_labels, \n",
    "    test_size=0.2, \n",
    "    random_state=42, \n",
    "    stratify=processed_labels\n",
    ")\n",
    "\n",
    "train_videos, val_videos, train_labels, val_labels = train_test_split(\n",
    "    train_val_videos, \n",
    "    train_val_labels, \n",
    "    test_size=0.2, \n",
    "    random_state=42, \n",
    "    stratify=train_val_labels\n",
    ")\n",
    "\n",
    "# Tạo Dataset và DataLoader\n",
    "train_dataset = VideoDataset(train_videos, train_labels)\n",
    "val_dataset = VideoDataset(val_videos, val_labels)\n",
    "test_dataset = VideoDataset(test_videos, test_labels)\n",
    "\n",
    "train_loader = DataLoader(\n",
    "    train_dataset, \n",
    "    batch_size=4, \n",
    "    shuffle=True, \n",
    "    num_workers=4, \n",
    "    pin_memory=True\n",
    ")\n",
    "val_loader = DataLoader(\n",
    "    val_dataset, \n",
    "    batch_size=4, \n",
    "    shuffle=False, \n",
    "    num_workers=4, \n",
    "    pin_memory=True\n",
    ")\n",
    "test_loader = DataLoader(\n",
    "    test_dataset, \n",
    "    batch_size=4, \n",
    "    shuffle=False, \n",
    "    num_workers=4, \n",
    "    pin_memory=True\n",
    ")"
   ]
  },
  {
   "cell_type": "code",
   "execution_count": 15,
   "id": "de0db882-ea7f-4241-9efb-1cc23356e798",
   "metadata": {},
   "outputs": [
    {
     "name": "stdout",
     "output_type": "stream",
     "text": [
      "Train: 769 videos, Real: 261, Fake: 508\n",
      "Val: 193 videos, Real: 65, Fake: 128\n",
      "Test: 241 videos, Real: 82, Fake: 159\n",
      "Sample từ train_dataset:\n",
      "Sample 0:\n",
      "  Frames shape: torch.Size([16, 3, 112, 112])\n",
      "  Label: 0\n",
      "Sample 1:\n",
      "  Frames shape: torch.Size([16, 3, 112, 112])\n",
      "  Label: 0\n",
      "Sample 2:\n",
      "  Frames shape: torch.Size([16, 3, 112, 112])\n",
      "  Label: 1\n"
     ]
    }
   ],
   "source": [
    "# Kiểm tra phân phối nhãn\n",
    "print(f\"Train: {len(train_videos)} videos, Real: {sum(train_labels)}, Fake: {len(train_labels) - sum(train_labels)}\")\n",
    "print(f\"Val: {len(val_videos)} videos, Real: {sum(val_labels)}, Fake: {len(val_labels) - sum(val_labels)}\")\n",
    "print(f\"Test: {len(test_videos)} videos, Real: {sum(test_labels)}, Fake: {len(test_labels) - sum(test_labels)}\")\n",
    "\n",
    "# Lấy một vài mẫu từ train_dataset\n",
    "print(\"Sample từ train_dataset:\")\n",
    "for i in range(3):  # In thử 3 mẫu đầu\n",
    "    frames, label = train_dataset[i]\n",
    "    print(f\"Sample {i}:\")\n",
    "    print(f\"  Frames shape: {frames.shape}\")\n",
    "    print(f\"  Label: {label}\")\n"
   ]
  },
  {
   "cell_type": "code",
   "execution_count": 16,
   "id": "6f8135ed-a0aa-4a4b-8752-d59e43bc610b",
   "metadata": {},
   "outputs": [],
   "source": [
    "def train_epoch(model, data_loader, criterion, optimizer):\n",
    "    \"\"\"\n",
    "    One epoch training function.\n",
    "    \"\"\"\n",
    "    model.train()\n",
    "    total_loss = 0\n",
    "    correct = 0\n",
    "    total = 0\n",
    "\n",
    "    for batch_idx, (inputs, labels) in enumerate(data_loader):\n",
    "        inputs, labels = inputs.cuda(), labels.cuda()\n",
    "        optimizer.zero_grad()\n",
    "\n",
    "        outputs = model(inputs)\n",
    "        loss = criterion(outputs, labels)\n",
    "        loss.backward()\n",
    "        optimizer.step()\n",
    "\n",
    "        total_loss += loss.item()\n",
    "        _, preds = torch.max(outputs, 1)\n",
    "        correct += (preds == labels).sum().item()\n",
    "        total += labels.size(0)\n",
    "\n",
    "    accuracy = correct / total\n",
    "    return total_loss / len(data_loader), accuracy\n"
   ]
  },
  {
   "cell_type": "code",
   "execution_count": 17,
   "id": "f5e6c5b4-b899-48e6-8f6d-dbd2520d7332",
   "metadata": {},
   "outputs": [],
   "source": [
    "def evaluate(model, data_loader, criterion):\n",
    "    \"\"\"\n",
    "    Evaluate model performance.\n",
    "    \"\"\"\n",
    "    model.eval()\n",
    "    total_loss = 0\n",
    "    correct = 0\n",
    "    total = 0\n",
    "\n",
    "    with torch.no_grad():\n",
    "        for inputs, labels in data_loader:\n",
    "            inputs, labels = inputs.cuda(), labels.cuda()\n",
    "\n",
    "            outputs = model(inputs)\n",
    "            loss = criterion(outputs, labels)\n",
    "\n",
    "            total_loss += loss.item()\n",
    "            _, preds = torch.max(outputs, 1)\n",
    "            correct += (preds == labels).sum().item()\n",
    "            total += labels.size(0)\n",
    "\n",
    "    accuracy = correct / total\n",
    "    return total_loss / len(data_loader), accuracy\n"
   ]
  },
  {
   "cell_type": "code",
   "execution_count": 14,
   "id": "e742dcb6-6237-4e18-a279-e4a9b1053a59",
   "metadata": {},
   "outputs": [],
   "source": [
    "import torch\n",
    "torch.cuda.empty_cache()\n"
   ]
  },
  {
   "cell_type": "code",
   "execution_count": 18,
   "id": "cc9ec0c5-01ae-4b26-98e4-bad4b174fa63",
   "metadata": {},
   "outputs": [
    {
     "name": "stdout",
     "output_type": "stream",
     "text": [
      "Free memory: 11.50 GB\n",
      "Total memory: 11.66 GB\n"
     ]
    }
   ],
   "source": [
    "import torch\n",
    "\n",
    "free_mem, total_mem = torch.cuda.mem_get_info()  # đơn vị: bytes\n",
    "free_mem_gb = free_mem / 1024**3\n",
    "total_mem_gb = total_mem / 1024**3\n",
    "\n",
    "print(f\"Free memory: {free_mem_gb:.2f} GB\")\n",
    "print(f\"Total memory: {total_mem_gb:.2f} GB\")\n"
   ]
  },
  {
   "cell_type": "code",
   "execution_count": 19,
   "id": "196a5e87-53a5-4535-a767-687ebc228d0d",
   "metadata": {},
   "outputs": [
    {
     "name": "stderr",
     "output_type": "stream",
     "text": [
      "/usr/local/lib/python3.10/dist-packages/torchvision/models/_utils.py:208: UserWarning: The parameter 'pretrained' is deprecated since 0.13 and may be removed in the future, please use 'weights' instead.\n",
      "  warnings.warn(\n",
      "/usr/local/lib/python3.10/dist-packages/torchvision/models/_utils.py:223: UserWarning: Arguments other than a weight enum or `None` for 'weights' are deprecated since 0.13 and may be removed in the future. The current behavior is equivalent to passing `weights=ResNeXt50_32X4D_Weights.IMAGENET1K_V1`. You can also use `weights=ResNeXt50_32X4D_Weights.DEFAULT` to get the most up-to-date weights.\n",
      "  warnings.warn(msg)\n"
     ]
    },
    {
     "name": "stdout",
     "output_type": "stream",
     "text": [
      "Bắt đầu train epoch 1\n",
      "Epoch 1/20\n",
      "Train Loss: 0.5998, Train Acc: 0.7061\n",
      "Val Loss: 0.4423, Val Acc: 0.8238\n",
      "Bắt đầu train epoch 2\n",
      "Epoch 2/20\n",
      "Train Loss: 0.4317, Train Acc: 0.8166\n",
      "Val Loss: 0.3655, Val Acc: 0.8549\n",
      "Bắt đầu train epoch 3\n",
      "Epoch 3/20\n",
      "Train Loss: 0.3478, Train Acc: 0.8453\n",
      "Val Loss: 0.4152, Val Acc: 0.8238\n",
      "Bắt đầu train epoch 4\n",
      "Epoch 4/20\n",
      "Train Loss: 0.2707, Train Acc: 0.8934\n",
      "Val Loss: 0.2729, Val Acc: 0.8808\n",
      "Bắt đầu train epoch 5\n",
      "Epoch 5/20\n",
      "Train Loss: 0.2302, Train Acc: 0.9090\n",
      "Val Loss: 0.2904, Val Acc: 0.8601\n",
      "Bắt đầu train epoch 6\n",
      "Epoch 6/20\n",
      "Train Loss: 0.2034, Train Acc: 0.9272\n",
      "Val Loss: 0.3040, Val Acc: 0.8964\n",
      "Bắt đầu train epoch 7\n",
      "Epoch 7/20\n",
      "Train Loss: 0.1606, Train Acc: 0.9376\n",
      "Val Loss: 0.3176, Val Acc: 0.8653\n",
      "Bắt đầu train epoch 8\n",
      "Epoch 8/20\n",
      "Train Loss: 0.2164, Train Acc: 0.9155\n",
      "Val Loss: 0.3501, Val Acc: 0.8860\n",
      "Bắt đầu train epoch 9\n",
      "Epoch 9/20\n",
      "Train Loss: 0.1489, Train Acc: 0.9493\n",
      "Val Loss: 0.2437, Val Acc: 0.9223\n",
      "Bắt đầu train epoch 10\n",
      "Epoch 10/20\n",
      "Train Loss: 0.1046, Train Acc: 0.9636\n",
      "Val Loss: 0.4246, Val Acc: 0.8756\n",
      "Bắt đầu train epoch 11\n",
      "Epoch 11/20\n",
      "Train Loss: 0.1645, Train Acc: 0.9428\n",
      "Val Loss: 0.2992, Val Acc: 0.9119\n",
      "Bắt đầu train epoch 12\n",
      "Epoch 12/20\n",
      "Train Loss: 0.1258, Train Acc: 0.9493\n",
      "Val Loss: 0.1960, Val Acc: 0.9119\n",
      "Bắt đầu train epoch 13\n",
      "Epoch 13/20\n",
      "Train Loss: 0.0515, Train Acc: 0.9792\n",
      "Val Loss: 0.2079, Val Acc: 0.9171\n",
      "Bắt đầu train epoch 14\n",
      "Epoch 14/20\n",
      "Train Loss: 0.0891, Train Acc: 0.9740\n",
      "Val Loss: 0.2791, Val Acc: 0.9275\n",
      "Bắt đầu train epoch 15\n",
      "Epoch 15/20\n",
      "Train Loss: 0.0483, Train Acc: 0.9818\n",
      "Val Loss: 0.3087, Val Acc: 0.9067\n",
      "Bắt đầu train epoch 16\n",
      "Epoch 16/20\n",
      "Train Loss: 0.0351, Train Acc: 0.9857\n",
      "Val Loss: 0.3953, Val Acc: 0.9223\n",
      "Bắt đầu train epoch 17\n",
      "Epoch 17/20\n",
      "Train Loss: 0.0602, Train Acc: 0.9818\n",
      "Val Loss: 0.3646, Val Acc: 0.9067\n",
      "Bắt đầu train epoch 18\n",
      "Epoch 18/20\n",
      "Train Loss: 0.0549, Train Acc: 0.9805\n",
      "Val Loss: 0.5181, Val Acc: 0.8860\n",
      "Bắt đầu train epoch 19\n",
      "Epoch 19/20\n",
      "Train Loss: 0.0364, Train Acc: 0.9896\n",
      "Val Loss: 0.4463, Val Acc: 0.8964\n",
      "Bắt đầu train epoch 20\n",
      "Epoch 20/20\n",
      "Train Loss: 0.1015, Train Acc: 0.9714\n",
      "Val Loss: 0.3903, Val Acc: 0.8601\n"
     ]
    }
   ],
   "source": [
    "# Khởi tạo mô hình, criterion và optimizer\n",
    "model = DeepfakeModel().cuda()\n",
    "criterion = CrossEntropyLoss()\n",
    "optimizer = Adam(model.parameters(), lr=1e-4, weight_decay=1e-5)\n",
    "\n",
    "# Số epoch\n",
    "num_epochs = 20\n",
    "\n",
    "# Huấn luyện và kiểm thử\n",
    "for epoch in range(num_epochs):\n",
    "    print(f\"Bắt đầu train epoch {epoch+1}\")\n",
    "    train_loss, train_acc = train_epoch(model, train_loader, criterion, optimizer)\n",
    "    val_loss, val_acc = evaluate(model, val_loader, criterion)\n",
    "\n",
    "    print(f\"Epoch {epoch + 1}/{num_epochs}\")\n",
    "    print(f\"Train Loss: {train_loss:.4f}, Train Acc: {train_acc:.4f}\")\n",
    "    print(f\"Val Loss: {val_loss:.4f}, Val Acc: {val_acc:.4f}\")\n"
   ]
  },
  {
   "cell_type": "code",
   "execution_count": 20,
   "id": "65245b3a-1de4-4636-a676-d0e998d525d2",
   "metadata": {},
   "outputs": [
    {
     "name": "stdout",
     "output_type": "stream",
     "text": [
      "Model saved successfully!\n"
     ]
    }
   ],
   "source": [
    "# Lưu mô hình sau khi huấn luyện\n",
    "torch.save(model.state_dict(), \"deepfake_model.pth\")\n",
    "print(\"Model saved successfully!\")\n"
   ]
  },
  {
   "cell_type": "code",
   "execution_count": 21,
   "id": "15a94305-0229-444e-b021-3713a0b8dff3",
   "metadata": {},
   "outputs": [
    {
     "name": "stderr",
     "output_type": "stream",
     "text": [
      "/tmp/ipykernel_109144/2697759840.py:2: FutureWarning: You are using `torch.load` with `weights_only=False` (the current default value), which uses the default pickle module implicitly. It is possible to construct malicious pickle data which will execute arbitrary code during unpickling (See https://github.com/pytorch/pytorch/blob/main/SECURITY.md#untrusted-models for more details). In a future release, the default value for `weights_only` will be flipped to `True`. This limits the functions that could be executed during unpickling. Arbitrary objects will no longer be allowed to be loaded via this mode unless they are explicitly allowlisted by the user via `torch.serialization.add_safe_globals`. We recommend you start setting `weights_only=True` for any use case where you don't have full control of the loaded file. Please open an issue on GitHub for any issues related to this experimental feature.\n",
      "  model.load_state_dict(torch.load(\"deepfake_model.pth\"))\n"
     ]
    },
    {
     "name": "stdout",
     "output_type": "stream",
     "text": [
      "Test Loss: 0.3277, Test Accuracy: 0.8755\n"
     ]
    }
   ],
   "source": [
    "# Load mô hình đã huấn luyện\n",
    "model.load_state_dict(torch.load(\"deepfake_model.pth\"))\n",
    "\n",
    "# Kiểm tra trên tập test\n",
    "test_loss, test_acc = evaluate(model, test_loader, criterion)\n",
    "print(f\"Test Loss: {test_loss:.4f}, Test Accuracy: {test_acc:.4f}\")\n"
   ]
  },
  {
   "cell_type": "code",
   "execution_count": 23,
   "id": "6d3761d0-1855-4587-804a-1ead55ce4a77",
   "metadata": {},
   "outputs": [
    {
     "name": "stdout",
     "output_type": "stream",
     "text": [
      "Collecting seaborn\n",
      "  Downloading seaborn-0.13.2-py3-none-any.whl (294 kB)\n",
      "\u001b[2K     \u001b[90m━━━━━━━━━━━━━━━━━━━━━━━━━━━━━━━━━━━━━━━\u001b[0m \u001b[32m294.9/294.9 KB\u001b[0m \u001b[31m6.5 MB/s\u001b[0m eta \u001b[36m0:00:00\u001b[0ma \u001b[36m0:00:01\u001b[0m\n",
      "\u001b[?25hCollecting matplotlib!=3.6.1,>=3.4\n",
      "  Downloading matplotlib-3.9.3-cp310-cp310-manylinux_2_17_x86_64.manylinux2014_x86_64.whl (8.3 MB)\n",
      "\u001b[2K     \u001b[90m━━━━━━━━━━━━━━━━━━━━━━━━━━━━━━━━━━━━━━━━\u001b[0m \u001b[32m8.3/8.3 MB\u001b[0m \u001b[31m87.7 MB/s\u001b[0m eta \u001b[36m0:00:00\u001b[0m:00:01\u001b[0m0:01\u001b[0m\n",
      "\u001b[?25hCollecting pandas>=1.2\n",
      "  Downloading pandas-2.2.3-cp310-cp310-manylinux_2_17_x86_64.manylinux2014_x86_64.whl (13.1 MB)\n",
      "\u001b[2K     \u001b[90m━━━━━━━━━━━━━━━━━━━━━━━━━━━━━━━━━━━━━━━\u001b[0m \u001b[32m13.1/13.1 MB\u001b[0m \u001b[31m102.4 MB/s\u001b[0m eta \u001b[36m0:00:00\u001b[0m00:01\u001b[0m00:01\u001b[0m\n",
      "\u001b[?25hRequirement already satisfied: numpy!=1.24.0,>=1.20 in /usr/local/lib/python3.10/dist-packages (from seaborn) (2.2.0)\n",
      "Collecting contourpy>=1.0.1\n",
      "  Downloading contourpy-1.3.1-cp310-cp310-manylinux_2_17_x86_64.manylinux2014_x86_64.whl (324 kB)\n",
      "\u001b[2K     \u001b[90m━━━━━━━━━━━━━━━━━━━━━━━━━━━━━━━━━━━━━━\u001b[0m \u001b[32m325.0/325.0 KB\u001b[0m \u001b[31m45.4 MB/s\u001b[0m eta \u001b[36m0:00:00\u001b[0m\n",
      "\u001b[?25hRequirement already satisfied: packaging>=20.0 in /usr/local/lib/python3.10/dist-packages (from matplotlib!=3.6.1,>=3.4->seaborn) (24.2)\n",
      "Requirement already satisfied: python-dateutil>=2.7 in /usr/local/lib/python3.10/dist-packages (from matplotlib!=3.6.1,>=3.4->seaborn) (2.9.0.post0)\n",
      "Collecting kiwisolver>=1.3.1\n",
      "  Downloading kiwisolver-1.4.7-cp310-cp310-manylinux_2_12_x86_64.manylinux2010_x86_64.whl (1.6 MB)\n",
      "\u001b[2K     \u001b[90m━━━━━━━━━━━━━━━━━━━━━━━━━━━━━━━━━━━━━━━━\u001b[0m \u001b[32m1.6/1.6 MB\u001b[0m \u001b[31m94.4 MB/s\u001b[0m eta \u001b[36m0:00:00\u001b[0m\n",
      "\u001b[?25hCollecting cycler>=0.10\n",
      "  Downloading cycler-0.12.1-py3-none-any.whl (8.3 kB)\n",
      "Collecting fonttools>=4.22.0\n",
      "  Downloading fonttools-4.55.2-cp310-cp310-manylinux_2_17_x86_64.manylinux2014_x86_64.whl (4.6 MB)\n",
      "\u001b[2K     \u001b[90m━━━━━━━━━━━━━━━━━━━━━━━━━━━━━━━━━━━━━━━━\u001b[0m \u001b[32m4.6/4.6 MB\u001b[0m \u001b[31m119.8 MB/s\u001b[0m eta \u001b[36m0:00:00\u001b[0m00:01\u001b[0m\n",
      "\u001b[?25hRequirement already satisfied: pyparsing>=2.3.1 in /usr/lib/python3/dist-packages (from matplotlib!=3.6.1,>=3.4->seaborn) (2.4.7)\n",
      "Requirement already satisfied: pillow>=8 in /usr/local/lib/python3.10/dist-packages (from matplotlib!=3.6.1,>=3.4->seaborn) (11.0.0)\n",
      "Collecting tzdata>=2022.7\n",
      "  Downloading tzdata-2024.2-py2.py3-none-any.whl (346 kB)\n",
      "\u001b[2K     \u001b[90m━━━━━━━━━━━━━━━━━━━━━━━━━━━━━━━━━━━━━━\u001b[0m \u001b[32m346.6/346.6 KB\u001b[0m \u001b[31m48.3 MB/s\u001b[0m eta \u001b[36m0:00:00\u001b[0m\n",
      "\u001b[?25hCollecting pytz>=2020.1\n",
      "  Downloading pytz-2024.2-py2.py3-none-any.whl (508 kB)\n",
      "\u001b[2K     \u001b[90m━━━━━━━━━━━━━━━━━━━━━━━━━━━━━━━━━━━━━━\u001b[0m \u001b[32m508.0/508.0 KB\u001b[0m \u001b[31m26.5 MB/s\u001b[0m eta \u001b[36m0:00:00\u001b[0m\n",
      "\u001b[?25hRequirement already satisfied: six>=1.5 in /usr/lib/python3/dist-packages (from python-dateutil>=2.7->matplotlib!=3.6.1,>=3.4->seaborn) (1.16.0)\n",
      "Installing collected packages: pytz, tzdata, kiwisolver, fonttools, cycler, contourpy, pandas, matplotlib, seaborn\n",
      "Successfully installed contourpy-1.3.1 cycler-0.12.1 fonttools-4.55.2 kiwisolver-1.4.7 matplotlib-3.9.3 pandas-2.2.3 pytz-2024.2 seaborn-0.13.2 tzdata-2024.2\n",
      "\u001b[33mWARNING: Running pip as the 'root' user can result in broken permissions and conflicting behaviour with the system package manager. It is recommended to use a virtual environment instead: https://pip.pypa.io/warnings/venv\u001b[0m\u001b[33m\n",
      "\u001b[0m"
     ]
    }
   ],
   "source": [
    "!pip install seaborn"
   ]
  },
  {
   "cell_type": "code",
   "execution_count": 24,
   "id": "6aebdf0f-5224-47b4-abea-a1ab06c2659f",
   "metadata": {},
   "outputs": [
    {
     "data": {
      "image/png": "[encoded data removed]",
      "text/plain": [
       "<Figure size 640x480 with 2 Axes>"
      ]
     },
     "metadata": {},
     "output_type": "display_data"
    },
    {
     "name": "stdout",
     "output_type": "stream",
     "text": [
      "              precision    recall  f1-score   support\n",
      "\n",
      "        Fake       0.90      0.91      0.91       159\n",
      "        Real       0.82      0.80      0.81        82\n",
      "\n",
      "    accuracy                           0.88       241\n",
      "   macro avg       0.86      0.86      0.86       241\n",
      "weighted avg       0.87      0.88      0.88       241\n",
      "\n"
     ]
    }
   ],
   "source": [
    "from sklearn.metrics import confusion_matrix, classification_report\n",
    "import seaborn as sns\n",
    "import matplotlib.pyplot as plt\n",
    "\n",
    "def plot_confusion_matrix(y_true, y_pred, classes):\n",
    "    cm = confusion_matrix(y_true, y_pred)\n",
    "    sns.heatmap(cm, annot=True, fmt='d', cmap='Blues', xticklabels=classes, yticklabels=classes)\n",
    "    plt.xlabel('Predicted')\n",
    "    plt.ylabel('Actual')\n",
    "    plt.title('Confusion Matrix')\n",
    "    plt.show()\n",
    "\n",
    "# Thu thập nhãn thực tế và nhãn dự đoán\n",
    "y_true, y_pred = [], []\n",
    "\n",
    "model.eval()\n",
    "with torch.no_grad():\n",
    "    for inputs, labels in test_loader:\n",
    "        inputs, labels = inputs.cuda(), labels.cuda()\n",
    "        outputs = model(inputs)\n",
    "        _, preds = torch.max(outputs, 1)\n",
    "\n",
    "        y_true.extend(labels.cpu().numpy())\n",
    "        y_pred.extend(preds.cpu().numpy())\n",
    "\n",
    "# Hiển thị kết quả\n",
    "plot_confusion_matrix(y_true, y_pred, classes=['Fake', 'Real'])\n",
    "print(classification_report(y_true, y_pred, target_names=['Fake', 'Real']))\n"
   ]
  },
  {
   "cell_type": "code",
   "execution_count": null,
   "id": "a6b5fe69-cd16-435f-a857-92a36be5aa42",
   "metadata": {},
   "outputs": [],
   "source": []
  }
 ],
 "metadata": {
  "kernelspec": {
   "display_name": "Python 3 (ipykernel)",
   "language": "python",
   "name": "python3"
  },
  "language_info": {
   "codemirror_mode": {
    "name": "ipython",
    "version": 3
   },
   "file_extension": ".py",
   "mimetype": "text/x-python",
   "name": "python",
   "nbconvert_exporter": "python",
   "pygments_lexer": "ipython3",
   "version": "3.10.12"
  }
 },
 "nbformat": 4,
 "nbformat_minor": 5
}
